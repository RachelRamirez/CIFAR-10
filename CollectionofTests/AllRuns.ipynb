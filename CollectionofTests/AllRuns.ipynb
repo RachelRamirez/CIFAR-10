{
  "nbformat": 4,
  "nbformat_minor": 0,
  "metadata": {
    "colab": {
      "name": "Filter.ipynb",
      "provenance": [],
      "toc_visible": true,
      "include_colab_link": true
    },
    "kernelspec": {
      "name": "python3",
      "display_name": "Python 3"
    },
    "accelerator": "GPU",
    "widgets": {
      "application/vnd.jupyter.widget-state+json": {
        "9a9ce23cde5f400ab126c3280cd3514a": {
          "model_module": "@jupyter-widgets/controls",
          "model_name": "HBoxModel",
          "model_module_version": "1.5.0",
          "state": {
            "_view_name": "HBoxView",
            "_dom_classes": [],
            "_model_name": "HBoxModel",
            "_view_module": "@jupyter-widgets/controls",
            "_model_module_version": "1.5.0",
            "_view_count": null,
            "_view_module_version": "1.5.0",
            "box_style": "",
            "layout": "IPY_MODEL_c5908a64963a46bb84a2e7bad8911e6e",
            "_model_module": "@jupyter-widgets/controls",
            "children": [
              "IPY_MODEL_6d202db389f5454bbf5d8a54d6d07900",
              "IPY_MODEL_726539a88cb84924bd95c70e8fe52cb8",
              "IPY_MODEL_dc5a7d9fd24d4c6aa5539d1d38a4ce12"
            ]
          }
        },
        "c5908a64963a46bb84a2e7bad8911e6e": {
          "model_module": "@jupyter-widgets/base",
          "model_name": "LayoutModel",
          "model_module_version": "1.2.0",
          "state": {
            "_view_name": "LayoutView",
            "grid_template_rows": null,
            "right": null,
            "justify_content": null,
            "_view_module": "@jupyter-widgets/base",
            "overflow": null,
            "_model_module_version": "1.2.0",
            "_view_count": null,
            "flex_flow": null,
            "width": null,
            "min_width": null,
            "border": null,
            "align_items": null,
            "bottom": null,
            "_model_module": "@jupyter-widgets/base",
            "top": null,
            "grid_column": null,
            "overflow_y": null,
            "overflow_x": null,
            "grid_auto_flow": null,
            "grid_area": null,
            "grid_template_columns": null,
            "flex": null,
            "_model_name": "LayoutModel",
            "justify_items": null,
            "grid_row": null,
            "max_height": null,
            "align_content": null,
            "visibility": null,
            "align_self": null,
            "height": null,
            "min_height": null,
            "padding": null,
            "grid_auto_rows": null,
            "grid_gap": null,
            "max_width": null,
            "order": null,
            "_view_module_version": "1.2.0",
            "grid_template_areas": null,
            "object_position": null,
            "object_fit": null,
            "grid_auto_columns": null,
            "margin": null,
            "display": null,
            "left": null
          }
        },
        "6d202db389f5454bbf5d8a54d6d07900": {
          "model_module": "@jupyter-widgets/controls",
          "model_name": "HTMLModel",
          "model_module_version": "1.5.0",
          "state": {
            "_view_name": "HTMLView",
            "style": "IPY_MODEL_c7c2ded099134277b242f0fe88e5d024",
            "_dom_classes": [],
            "description": "",
            "_model_name": "HTMLModel",
            "placeholder": "​",
            "_view_module": "@jupyter-widgets/controls",
            "_model_module_version": "1.5.0",
            "value": "Dl Completed...: 100%",
            "_view_count": null,
            "_view_module_version": "1.5.0",
            "description_tooltip": null,
            "_model_module": "@jupyter-widgets/controls",
            "layout": "IPY_MODEL_7ee817b6f1c944b587bba5d02cf086bf"
          }
        },
        "726539a88cb84924bd95c70e8fe52cb8": {
          "model_module": "@jupyter-widgets/controls",
          "model_name": "FloatProgressModel",
          "model_module_version": "1.5.0",
          "state": {
            "_view_name": "ProgressView",
            "style": "IPY_MODEL_7d458d9c9432437a8046d32c6ec5ed53",
            "_dom_classes": [],
            "description": "",
            "_model_name": "FloatProgressModel",
            "bar_style": "success",
            "max": 1,
            "_view_module": "@jupyter-widgets/controls",
            "_model_module_version": "1.5.0",
            "value": 1,
            "_view_count": null,
            "_view_module_version": "1.5.0",
            "orientation": "horizontal",
            "min": 0,
            "description_tooltip": null,
            "_model_module": "@jupyter-widgets/controls",
            "layout": "IPY_MODEL_58dc3abc9c1846279ad04515a334010a"
          }
        },
        "dc5a7d9fd24d4c6aa5539d1d38a4ce12": {
          "model_module": "@jupyter-widgets/controls",
          "model_name": "HTMLModel",
          "model_module_version": "1.5.0",
          "state": {
            "_view_name": "HTMLView",
            "style": "IPY_MODEL_7ba7c88a838543adbc2703b1c9228634",
            "_dom_classes": [],
            "description": "",
            "_model_name": "HTMLModel",
            "placeholder": "​",
            "_view_module": "@jupyter-widgets/controls",
            "_model_module_version": "1.5.0",
            "value": " 1/1 [00:05&lt;00:00,  3.13s/ url]",
            "_view_count": null,
            "_view_module_version": "1.5.0",
            "description_tooltip": null,
            "_model_module": "@jupyter-widgets/controls",
            "layout": "IPY_MODEL_158523166a504d05a4736a8b337e4c67"
          }
        },
        "c7c2ded099134277b242f0fe88e5d024": {
          "model_module": "@jupyter-widgets/controls",
          "model_name": "DescriptionStyleModel",
          "model_module_version": "1.5.0",
          "state": {
            "_view_name": "StyleView",
            "_model_name": "DescriptionStyleModel",
            "description_width": "",
            "_view_module": "@jupyter-widgets/base",
            "_model_module_version": "1.5.0",
            "_view_count": null,
            "_view_module_version": "1.2.0",
            "_model_module": "@jupyter-widgets/controls"
          }
        },
        "7ee817b6f1c944b587bba5d02cf086bf": {
          "model_module": "@jupyter-widgets/base",
          "model_name": "LayoutModel",
          "model_module_version": "1.2.0",
          "state": {
            "_view_name": "LayoutView",
            "grid_template_rows": null,
            "right": null,
            "justify_content": null,
            "_view_module": "@jupyter-widgets/base",
            "overflow": null,
            "_model_module_version": "1.2.0",
            "_view_count": null,
            "flex_flow": null,
            "width": null,
            "min_width": null,
            "border": null,
            "align_items": null,
            "bottom": null,
            "_model_module": "@jupyter-widgets/base",
            "top": null,
            "grid_column": null,
            "overflow_y": null,
            "overflow_x": null,
            "grid_auto_flow": null,
            "grid_area": null,
            "grid_template_columns": null,
            "flex": null,
            "_model_name": "LayoutModel",
            "justify_items": null,
            "grid_row": null,
            "max_height": null,
            "align_content": null,
            "visibility": null,
            "align_self": null,
            "height": null,
            "min_height": null,
            "padding": null,
            "grid_auto_rows": null,
            "grid_gap": null,
            "max_width": null,
            "order": null,
            "_view_module_version": "1.2.0",
            "grid_template_areas": null,
            "object_position": null,
            "object_fit": null,
            "grid_auto_columns": null,
            "margin": null,
            "display": null,
            "left": null
          }
        },
        "7d458d9c9432437a8046d32c6ec5ed53": {
          "model_module": "@jupyter-widgets/controls",
          "model_name": "ProgressStyleModel",
          "model_module_version": "1.5.0",
          "state": {
            "_view_name": "StyleView",
            "_model_name": "ProgressStyleModel",
            "description_width": "",
            "_view_module": "@jupyter-widgets/base",
            "_model_module_version": "1.5.0",
            "_view_count": null,
            "_view_module_version": "1.2.0",
            "bar_color": null,
            "_model_module": "@jupyter-widgets/controls"
          }
        },
        "58dc3abc9c1846279ad04515a334010a": {
          "model_module": "@jupyter-widgets/base",
          "model_name": "LayoutModel",
          "model_module_version": "1.2.0",
          "state": {
            "_view_name": "LayoutView",
            "grid_template_rows": null,
            "right": null,
            "justify_content": null,
            "_view_module": "@jupyter-widgets/base",
            "overflow": null,
            "_model_module_version": "1.2.0",
            "_view_count": null,
            "flex_flow": null,
            "width": "20px",
            "min_width": null,
            "border": null,
            "align_items": null,
            "bottom": null,
            "_model_module": "@jupyter-widgets/base",
            "top": null,
            "grid_column": null,
            "overflow_y": null,
            "overflow_x": null,
            "grid_auto_flow": null,
            "grid_area": null,
            "grid_template_columns": null,
            "flex": null,
            "_model_name": "LayoutModel",
            "justify_items": null,
            "grid_row": null,
            "max_height": null,
            "align_content": null,
            "visibility": null,
            "align_self": null,
            "height": null,
            "min_height": null,
            "padding": null,
            "grid_auto_rows": null,
            "grid_gap": null,
            "max_width": null,
            "order": null,
            "_view_module_version": "1.2.0",
            "grid_template_areas": null,
            "object_position": null,
            "object_fit": null,
            "grid_auto_columns": null,
            "margin": null,
            "display": null,
            "left": null
          }
        },
        "7ba7c88a838543adbc2703b1c9228634": {
          "model_module": "@jupyter-widgets/controls",
          "model_name": "DescriptionStyleModel",
          "model_module_version": "1.5.0",
          "state": {
            "_view_name": "StyleView",
            "_model_name": "DescriptionStyleModel",
            "description_width": "",
            "_view_module": "@jupyter-widgets/base",
            "_model_module_version": "1.5.0",
            "_view_count": null,
            "_view_module_version": "1.2.0",
            "_model_module": "@jupyter-widgets/controls"
          }
        },
        "158523166a504d05a4736a8b337e4c67": {
          "model_module": "@jupyter-widgets/base",
          "model_name": "LayoutModel",
          "model_module_version": "1.2.0",
          "state": {
            "_view_name": "LayoutView",
            "grid_template_rows": null,
            "right": null,
            "justify_content": null,
            "_view_module": "@jupyter-widgets/base",
            "overflow": null,
            "_model_module_version": "1.2.0",
            "_view_count": null,
            "flex_flow": null,
            "width": null,
            "min_width": null,
            "border": null,
            "align_items": null,
            "bottom": null,
            "_model_module": "@jupyter-widgets/base",
            "top": null,
            "grid_column": null,
            "overflow_y": null,
            "overflow_x": null,
            "grid_auto_flow": null,
            "grid_area": null,
            "grid_template_columns": null,
            "flex": null,
            "_model_name": "LayoutModel",
            "justify_items": null,
            "grid_row": null,
            "max_height": null,
            "align_content": null,
            "visibility": null,
            "align_self": null,
            "height": null,
            "min_height": null,
            "padding": null,
            "grid_auto_rows": null,
            "grid_gap": null,
            "max_width": null,
            "order": null,
            "_view_module_version": "1.2.0",
            "grid_template_areas": null,
            "object_position": null,
            "object_fit": null,
            "grid_auto_columns": null,
            "margin": null,
            "display": null,
            "left": null
          }
        },
        "4705037f04e34406b6862116cbd86dba": {
          "model_module": "@jupyter-widgets/controls",
          "model_name": "HBoxModel",
          "model_module_version": "1.5.0",
          "state": {
            "_view_name": "HBoxView",
            "_dom_classes": [],
            "_model_name": "HBoxModel",
            "_view_module": "@jupyter-widgets/controls",
            "_model_module_version": "1.5.0",
            "_view_count": null,
            "_view_module_version": "1.5.0",
            "box_style": "",
            "layout": "IPY_MODEL_08cabfc644ec4d61a2d8797dad3aa956",
            "_model_module": "@jupyter-widgets/controls",
            "children": [
              "IPY_MODEL_74e648129836494691ce2aa50f3ec51c",
              "IPY_MODEL_0ad847a479774c3190fed5426b8c4730",
              "IPY_MODEL_af398bfac0c84228952ebb32a3ab6cf8"
            ]
          }
        },
        "08cabfc644ec4d61a2d8797dad3aa956": {
          "model_module": "@jupyter-widgets/base",
          "model_name": "LayoutModel",
          "model_module_version": "1.2.0",
          "state": {
            "_view_name": "LayoutView",
            "grid_template_rows": null,
            "right": null,
            "justify_content": null,
            "_view_module": "@jupyter-widgets/base",
            "overflow": null,
            "_model_module_version": "1.2.0",
            "_view_count": null,
            "flex_flow": null,
            "width": null,
            "min_width": null,
            "border": null,
            "align_items": null,
            "bottom": null,
            "_model_module": "@jupyter-widgets/base",
            "top": null,
            "grid_column": null,
            "overflow_y": null,
            "overflow_x": null,
            "grid_auto_flow": null,
            "grid_area": null,
            "grid_template_columns": null,
            "flex": null,
            "_model_name": "LayoutModel",
            "justify_items": null,
            "grid_row": null,
            "max_height": null,
            "align_content": null,
            "visibility": null,
            "align_self": null,
            "height": null,
            "min_height": null,
            "padding": null,
            "grid_auto_rows": null,
            "grid_gap": null,
            "max_width": null,
            "order": null,
            "_view_module_version": "1.2.0",
            "grid_template_areas": null,
            "object_position": null,
            "object_fit": null,
            "grid_auto_columns": null,
            "margin": null,
            "display": null,
            "left": null
          }
        },
        "74e648129836494691ce2aa50f3ec51c": {
          "model_module": "@jupyter-widgets/controls",
          "model_name": "HTMLModel",
          "model_module_version": "1.5.0",
          "state": {
            "_view_name": "HTMLView",
            "style": "IPY_MODEL_29300e5d83a043abb9d2898ff1d9526c",
            "_dom_classes": [],
            "description": "",
            "_model_name": "HTMLModel",
            "placeholder": "​",
            "_view_module": "@jupyter-widgets/controls",
            "_model_module_version": "1.5.0",
            "value": "Dl Size...: 100%",
            "_view_count": null,
            "_view_module_version": "1.5.0",
            "description_tooltip": null,
            "_model_module": "@jupyter-widgets/controls",
            "layout": "IPY_MODEL_bc41a9004ef34cdcb0c667dd108dd40a"
          }
        },
        "0ad847a479774c3190fed5426b8c4730": {
          "model_module": "@jupyter-widgets/controls",
          "model_name": "FloatProgressModel",
          "model_module_version": "1.5.0",
          "state": {
            "_view_name": "ProgressView",
            "style": "IPY_MODEL_035fbf54128b494f8fc5a2282c0d0425",
            "_dom_classes": [],
            "description": "",
            "_model_name": "FloatProgressModel",
            "bar_style": "success",
            "max": 1,
            "_view_module": "@jupyter-widgets/controls",
            "_model_module_version": "1.5.0",
            "value": 1,
            "_view_count": null,
            "_view_module_version": "1.5.0",
            "orientation": "horizontal",
            "min": 0,
            "description_tooltip": null,
            "_model_module": "@jupyter-widgets/controls",
            "layout": "IPY_MODEL_16f437bbca9549ccb93e79ba2ab6665a"
          }
        },
        "af398bfac0c84228952ebb32a3ab6cf8": {
          "model_module": "@jupyter-widgets/controls",
          "model_name": "HTMLModel",
          "model_module_version": "1.5.0",
          "state": {
            "_view_name": "HTMLView",
            "style": "IPY_MODEL_897de5a111ad478081ed5ff900dfc47b",
            "_dom_classes": [],
            "description": "",
            "_model_name": "HTMLModel",
            "placeholder": "​",
            "_view_module": "@jupyter-widgets/controls",
            "_model_module_version": "1.5.0",
            "value": " 162/162 [00:05&lt;00:00, 58.23 MiB/s]",
            "_view_count": null,
            "_view_module_version": "1.5.0",
            "description_tooltip": null,
            "_model_module": "@jupyter-widgets/controls",
            "layout": "IPY_MODEL_76b94028be15464f971b828645ab5a48"
          }
        },
        "29300e5d83a043abb9d2898ff1d9526c": {
          "model_module": "@jupyter-widgets/controls",
          "model_name": "DescriptionStyleModel",
          "model_module_version": "1.5.0",
          "state": {
            "_view_name": "StyleView",
            "_model_name": "DescriptionStyleModel",
            "description_width": "",
            "_view_module": "@jupyter-widgets/base",
            "_model_module_version": "1.5.0",
            "_view_count": null,
            "_view_module_version": "1.2.0",
            "_model_module": "@jupyter-widgets/controls"
          }
        },
        "bc41a9004ef34cdcb0c667dd108dd40a": {
          "model_module": "@jupyter-widgets/base",
          "model_name": "LayoutModel",
          "model_module_version": "1.2.0",
          "state": {
            "_view_name": "LayoutView",
            "grid_template_rows": null,
            "right": null,
            "justify_content": null,
            "_view_module": "@jupyter-widgets/base",
            "overflow": null,
            "_model_module_version": "1.2.0",
            "_view_count": null,
            "flex_flow": null,
            "width": null,
            "min_width": null,
            "border": null,
            "align_items": null,
            "bottom": null,
            "_model_module": "@jupyter-widgets/base",
            "top": null,
            "grid_column": null,
            "overflow_y": null,
            "overflow_x": null,
            "grid_auto_flow": null,
            "grid_area": null,
            "grid_template_columns": null,
            "flex": null,
            "_model_name": "LayoutModel",
            "justify_items": null,
            "grid_row": null,
            "max_height": null,
            "align_content": null,
            "visibility": null,
            "align_self": null,
            "height": null,
            "min_height": null,
            "padding": null,
            "grid_auto_rows": null,
            "grid_gap": null,
            "max_width": null,
            "order": null,
            "_view_module_version": "1.2.0",
            "grid_template_areas": null,
            "object_position": null,
            "object_fit": null,
            "grid_auto_columns": null,
            "margin": null,
            "display": null,
            "left": null
          }
        },
        "035fbf54128b494f8fc5a2282c0d0425": {
          "model_module": "@jupyter-widgets/controls",
          "model_name": "ProgressStyleModel",
          "model_module_version": "1.5.0",
          "state": {
            "_view_name": "StyleView",
            "_model_name": "ProgressStyleModel",
            "description_width": "",
            "_view_module": "@jupyter-widgets/base",
            "_model_module_version": "1.5.0",
            "_view_count": null,
            "_view_module_version": "1.2.0",
            "bar_color": null,
            "_model_module": "@jupyter-widgets/controls"
          }
        },
        "16f437bbca9549ccb93e79ba2ab6665a": {
          "model_module": "@jupyter-widgets/base",
          "model_name": "LayoutModel",
          "model_module_version": "1.2.0",
          "state": {
            "_view_name": "LayoutView",
            "grid_template_rows": null,
            "right": null,
            "justify_content": null,
            "_view_module": "@jupyter-widgets/base",
            "overflow": null,
            "_model_module_version": "1.2.0",
            "_view_count": null,
            "flex_flow": null,
            "width": "20px",
            "min_width": null,
            "border": null,
            "align_items": null,
            "bottom": null,
            "_model_module": "@jupyter-widgets/base",
            "top": null,
            "grid_column": null,
            "overflow_y": null,
            "overflow_x": null,
            "grid_auto_flow": null,
            "grid_area": null,
            "grid_template_columns": null,
            "flex": null,
            "_model_name": "LayoutModel",
            "justify_items": null,
            "grid_row": null,
            "max_height": null,
            "align_content": null,
            "visibility": null,
            "align_self": null,
            "height": null,
            "min_height": null,
            "padding": null,
            "grid_auto_rows": null,
            "grid_gap": null,
            "max_width": null,
            "order": null,
            "_view_module_version": "1.2.0",
            "grid_template_areas": null,
            "object_position": null,
            "object_fit": null,
            "grid_auto_columns": null,
            "margin": null,
            "display": null,
            "left": null
          }
        },
        "897de5a111ad478081ed5ff900dfc47b": {
          "model_module": "@jupyter-widgets/controls",
          "model_name": "DescriptionStyleModel",
          "model_module_version": "1.5.0",
          "state": {
            "_view_name": "StyleView",
            "_model_name": "DescriptionStyleModel",
            "description_width": "",
            "_view_module": "@jupyter-widgets/base",
            "_model_module_version": "1.5.0",
            "_view_count": null,
            "_view_module_version": "1.2.0",
            "_model_module": "@jupyter-widgets/controls"
          }
        },
        "76b94028be15464f971b828645ab5a48": {
          "model_module": "@jupyter-widgets/base",
          "model_name": "LayoutModel",
          "model_module_version": "1.2.0",
          "state": {
            "_view_name": "LayoutView",
            "grid_template_rows": null,
            "right": null,
            "justify_content": null,
            "_view_module": "@jupyter-widgets/base",
            "overflow": null,
            "_model_module_version": "1.2.0",
            "_view_count": null,
            "flex_flow": null,
            "width": null,
            "min_width": null,
            "border": null,
            "align_items": null,
            "bottom": null,
            "_model_module": "@jupyter-widgets/base",
            "top": null,
            "grid_column": null,
            "overflow_y": null,
            "overflow_x": null,
            "grid_auto_flow": null,
            "grid_area": null,
            "grid_template_columns": null,
            "flex": null,
            "_model_name": "LayoutModel",
            "justify_items": null,
            "grid_row": null,
            "max_height": null,
            "align_content": null,
            "visibility": null,
            "align_self": null,
            "height": null,
            "min_height": null,
            "padding": null,
            "grid_auto_rows": null,
            "grid_gap": null,
            "max_width": null,
            "order": null,
            "_view_module_version": "1.2.0",
            "grid_template_areas": null,
            "object_position": null,
            "object_fit": null,
            "grid_auto_columns": null,
            "margin": null,
            "display": null,
            "left": null
          }
        },
        "a5f3193b22744b0e8977f7b9d2f263b1": {
          "model_module": "@jupyter-widgets/controls",
          "model_name": "HBoxModel",
          "model_module_version": "1.5.0",
          "state": {
            "_view_name": "HBoxView",
            "_dom_classes": [],
            "_model_name": "HBoxModel",
            "_view_module": "@jupyter-widgets/controls",
            "_model_module_version": "1.5.0",
            "_view_count": null,
            "_view_module_version": "1.5.0",
            "box_style": "",
            "layout": "IPY_MODEL_edf210c6193a4a15abaa0d20c1159dc6",
            "_model_module": "@jupyter-widgets/controls",
            "children": [
              "IPY_MODEL_99d7b5777c3a4e8592c43a43a5973e3d",
              "IPY_MODEL_65dad90b8b1f4d0a9ca33977586e88a2",
              "IPY_MODEL_1160ac8b13b34a1d8567d19296ef2388"
            ]
          }
        },
        "edf210c6193a4a15abaa0d20c1159dc6": {
          "model_module": "@jupyter-widgets/base",
          "model_name": "LayoutModel",
          "model_module_version": "1.2.0",
          "state": {
            "_view_name": "LayoutView",
            "grid_template_rows": null,
            "right": null,
            "justify_content": null,
            "_view_module": "@jupyter-widgets/base",
            "overflow": null,
            "_model_module_version": "1.2.0",
            "_view_count": null,
            "flex_flow": null,
            "width": null,
            "min_width": null,
            "border": null,
            "align_items": null,
            "bottom": null,
            "_model_module": "@jupyter-widgets/base",
            "top": null,
            "grid_column": null,
            "overflow_y": null,
            "overflow_x": null,
            "grid_auto_flow": null,
            "grid_area": null,
            "grid_template_columns": null,
            "flex": null,
            "_model_name": "LayoutModel",
            "justify_items": null,
            "grid_row": null,
            "max_height": null,
            "align_content": null,
            "visibility": null,
            "align_self": null,
            "height": null,
            "min_height": null,
            "padding": null,
            "grid_auto_rows": null,
            "grid_gap": null,
            "max_width": null,
            "order": null,
            "_view_module_version": "1.2.0",
            "grid_template_areas": null,
            "object_position": null,
            "object_fit": null,
            "grid_auto_columns": null,
            "margin": null,
            "display": null,
            "left": null
          }
        },
        "99d7b5777c3a4e8592c43a43a5973e3d": {
          "model_module": "@jupyter-widgets/controls",
          "model_name": "HTMLModel",
          "model_module_version": "1.5.0",
          "state": {
            "_view_name": "HTMLView",
            "style": "IPY_MODEL_d1916ef8d5114335b68df15863691603",
            "_dom_classes": [],
            "description": "",
            "_model_name": "HTMLModel",
            "placeholder": "​",
            "_view_module": "@jupyter-widgets/controls",
            "_model_module_version": "1.5.0",
            "value": "Extraction completed...: 100%",
            "_view_count": null,
            "_view_module_version": "1.5.0",
            "description_tooltip": null,
            "_model_module": "@jupyter-widgets/controls",
            "layout": "IPY_MODEL_fcd5c41a17d74fbbb8768e413a27ea13"
          }
        },
        "65dad90b8b1f4d0a9ca33977586e88a2": {
          "model_module": "@jupyter-widgets/controls",
          "model_name": "FloatProgressModel",
          "model_module_version": "1.5.0",
          "state": {
            "_view_name": "ProgressView",
            "style": "IPY_MODEL_e8ab196690e44e13901013b3d1231274",
            "_dom_classes": [],
            "description": "",
            "_model_name": "FloatProgressModel",
            "bar_style": "success",
            "max": 1,
            "_view_module": "@jupyter-widgets/controls",
            "_model_module_version": "1.5.0",
            "value": 1,
            "_view_count": null,
            "_view_module_version": "1.5.0",
            "orientation": "horizontal",
            "min": 0,
            "description_tooltip": null,
            "_model_module": "@jupyter-widgets/controls",
            "layout": "IPY_MODEL_87dcf259ac30450689bd48353027e346"
          }
        },
        "1160ac8b13b34a1d8567d19296ef2388": {
          "model_module": "@jupyter-widgets/controls",
          "model_name": "HTMLModel",
          "model_module_version": "1.5.0",
          "state": {
            "_view_name": "HTMLView",
            "style": "IPY_MODEL_d3282da9cb95400eac235f9e925ae6b2",
            "_dom_classes": [],
            "description": "",
            "_model_name": "HTMLModel",
            "placeholder": "​",
            "_view_module": "@jupyter-widgets/controls",
            "_model_module_version": "1.5.0",
            "value": " 1/1 [00:05&lt;00:00,  5.01s/ file]",
            "_view_count": null,
            "_view_module_version": "1.5.0",
            "description_tooltip": null,
            "_model_module": "@jupyter-widgets/controls",
            "layout": "IPY_MODEL_1f7af328569c48279b97b59bde85e870"
          }
        },
        "d1916ef8d5114335b68df15863691603": {
          "model_module": "@jupyter-widgets/controls",
          "model_name": "DescriptionStyleModel",
          "model_module_version": "1.5.0",
          "state": {
            "_view_name": "StyleView",
            "_model_name": "DescriptionStyleModel",
            "description_width": "",
            "_view_module": "@jupyter-widgets/base",
            "_model_module_version": "1.5.0",
            "_view_count": null,
            "_view_module_version": "1.2.0",
            "_model_module": "@jupyter-widgets/controls"
          }
        },
        "fcd5c41a17d74fbbb8768e413a27ea13": {
          "model_module": "@jupyter-widgets/base",
          "model_name": "LayoutModel",
          "model_module_version": "1.2.0",
          "state": {
            "_view_name": "LayoutView",
            "grid_template_rows": null,
            "right": null,
            "justify_content": null,
            "_view_module": "@jupyter-widgets/base",
            "overflow": null,
            "_model_module_version": "1.2.0",
            "_view_count": null,
            "flex_flow": null,
            "width": null,
            "min_width": null,
            "border": null,
            "align_items": null,
            "bottom": null,
            "_model_module": "@jupyter-widgets/base",
            "top": null,
            "grid_column": null,
            "overflow_y": null,
            "overflow_x": null,
            "grid_auto_flow": null,
            "grid_area": null,
            "grid_template_columns": null,
            "flex": null,
            "_model_name": "LayoutModel",
            "justify_items": null,
            "grid_row": null,
            "max_height": null,
            "align_content": null,
            "visibility": null,
            "align_self": null,
            "height": null,
            "min_height": null,
            "padding": null,
            "grid_auto_rows": null,
            "grid_gap": null,
            "max_width": null,
            "order": null,
            "_view_module_version": "1.2.0",
            "grid_template_areas": null,
            "object_position": null,
            "object_fit": null,
            "grid_auto_columns": null,
            "margin": null,
            "display": null,
            "left": null
          }
        },
        "e8ab196690e44e13901013b3d1231274": {
          "model_module": "@jupyter-widgets/controls",
          "model_name": "ProgressStyleModel",
          "model_module_version": "1.5.0",
          "state": {
            "_view_name": "StyleView",
            "_model_name": "ProgressStyleModel",
            "description_width": "",
            "_view_module": "@jupyter-widgets/base",
            "_model_module_version": "1.5.0",
            "_view_count": null,
            "_view_module_version": "1.2.0",
            "bar_color": null,
            "_model_module": "@jupyter-widgets/controls"
          }
        },
        "87dcf259ac30450689bd48353027e346": {
          "model_module": "@jupyter-widgets/base",
          "model_name": "LayoutModel",
          "model_module_version": "1.2.0",
          "state": {
            "_view_name": "LayoutView",
            "grid_template_rows": null,
            "right": null,
            "justify_content": null,
            "_view_module": "@jupyter-widgets/base",
            "overflow": null,
            "_model_module_version": "1.2.0",
            "_view_count": null,
            "flex_flow": null,
            "width": "20px",
            "min_width": null,
            "border": null,
            "align_items": null,
            "bottom": null,
            "_model_module": "@jupyter-widgets/base",
            "top": null,
            "grid_column": null,
            "overflow_y": null,
            "overflow_x": null,
            "grid_auto_flow": null,
            "grid_area": null,
            "grid_template_columns": null,
            "flex": null,
            "_model_name": "LayoutModel",
            "justify_items": null,
            "grid_row": null,
            "max_height": null,
            "align_content": null,
            "visibility": null,
            "align_self": null,
            "height": null,
            "min_height": null,
            "padding": null,
            "grid_auto_rows": null,
            "grid_gap": null,
            "max_width": null,
            "order": null,
            "_view_module_version": "1.2.0",
            "grid_template_areas": null,
            "object_position": null,
            "object_fit": null,
            "grid_auto_columns": null,
            "margin": null,
            "display": null,
            "left": null
          }
        },
        "d3282da9cb95400eac235f9e925ae6b2": {
          "model_module": "@jupyter-widgets/controls",
          "model_name": "DescriptionStyleModel",
          "model_module_version": "1.5.0",
          "state": {
            "_view_name": "StyleView",
            "_model_name": "DescriptionStyleModel",
            "description_width": "",
            "_view_module": "@jupyter-widgets/base",
            "_model_module_version": "1.5.0",
            "_view_count": null,
            "_view_module_version": "1.2.0",
            "_model_module": "@jupyter-widgets/controls"
          }
        },
        "1f7af328569c48279b97b59bde85e870": {
          "model_module": "@jupyter-widgets/base",
          "model_name": "LayoutModel",
          "model_module_version": "1.2.0",
          "state": {
            "_view_name": "LayoutView",
            "grid_template_rows": null,
            "right": null,
            "justify_content": null,
            "_view_module": "@jupyter-widgets/base",
            "overflow": null,
            "_model_module_version": "1.2.0",
            "_view_count": null,
            "flex_flow": null,
            "width": null,
            "min_width": null,
            "border": null,
            "align_items": null,
            "bottom": null,
            "_model_module": "@jupyter-widgets/base",
            "top": null,
            "grid_column": null,
            "overflow_y": null,
            "overflow_x": null,
            "grid_auto_flow": null,
            "grid_area": null,
            "grid_template_columns": null,
            "flex": null,
            "_model_name": "LayoutModel",
            "justify_items": null,
            "grid_row": null,
            "max_height": null,
            "align_content": null,
            "visibility": null,
            "align_self": null,
            "height": null,
            "min_height": null,
            "padding": null,
            "grid_auto_rows": null,
            "grid_gap": null,
            "max_width": null,
            "order": null,
            "_view_module_version": "1.2.0",
            "grid_template_areas": null,
            "object_position": null,
            "object_fit": null,
            "grid_auto_columns": null,
            "margin": null,
            "display": null,
            "left": null
          }
        },
        "aca50d034711469ebc1a74407436c660": {
          "model_module": "@jupyter-widgets/controls",
          "model_name": "HBoxModel",
          "model_module_version": "1.5.0",
          "state": {
            "_view_name": "HBoxView",
            "_dom_classes": [],
            "_model_name": "HBoxModel",
            "_view_module": "@jupyter-widgets/controls",
            "_model_module_version": "1.5.0",
            "_view_count": null,
            "_view_module_version": "1.5.0",
            "box_style": "",
            "layout": "IPY_MODEL_f1d1134a18c1466b98e2683a394e1345",
            "_model_module": "@jupyter-widgets/controls",
            "children": [
              "IPY_MODEL_0603953ca0bf4282a8e49e9e8c173ace",
              "IPY_MODEL_474c8a4d336c4d138d59db1f8ffbe831",
              "IPY_MODEL_6e65c843f3db4d75a50a05e3ad0f8943"
            ]
          }
        },
        "f1d1134a18c1466b98e2683a394e1345": {
          "model_module": "@jupyter-widgets/base",
          "model_name": "LayoutModel",
          "model_module_version": "1.2.0",
          "state": {
            "_view_name": "LayoutView",
            "grid_template_rows": null,
            "right": null,
            "justify_content": null,
            "_view_module": "@jupyter-widgets/base",
            "overflow": null,
            "_model_module_version": "1.2.0",
            "_view_count": null,
            "flex_flow": null,
            "width": null,
            "min_width": null,
            "border": null,
            "align_items": null,
            "bottom": null,
            "_model_module": "@jupyter-widgets/base",
            "top": null,
            "grid_column": null,
            "overflow_y": null,
            "overflow_x": null,
            "grid_auto_flow": null,
            "grid_area": null,
            "grid_template_columns": null,
            "flex": null,
            "_model_name": "LayoutModel",
            "justify_items": null,
            "grid_row": null,
            "max_height": null,
            "align_content": null,
            "visibility": null,
            "align_self": null,
            "height": null,
            "min_height": null,
            "padding": null,
            "grid_auto_rows": null,
            "grid_gap": null,
            "max_width": null,
            "order": null,
            "_view_module_version": "1.2.0",
            "grid_template_areas": null,
            "object_position": null,
            "object_fit": null,
            "grid_auto_columns": null,
            "margin": null,
            "display": null,
            "left": null
          }
        },
        "0603953ca0bf4282a8e49e9e8c173ace": {
          "model_module": "@jupyter-widgets/controls",
          "model_name": "HTMLModel",
          "model_module_version": "1.5.0",
          "state": {
            "_view_name": "HTMLView",
            "style": "IPY_MODEL_130b2dc6550e4687b5f4059ebfb9d90e",
            "_dom_classes": [],
            "description": "",
            "_model_name": "HTMLModel",
            "placeholder": "​",
            "_view_module": "@jupyter-widgets/controls",
            "_model_module_version": "1.5.0",
            "value": "",
            "_view_count": null,
            "_view_module_version": "1.5.0",
            "description_tooltip": null,
            "_model_module": "@jupyter-widgets/controls",
            "layout": "IPY_MODEL_9e69a4f134dd4033ad4dbd540fadc4de"
          }
        },
        "474c8a4d336c4d138d59db1f8ffbe831": {
          "model_module": "@jupyter-widgets/controls",
          "model_name": "FloatProgressModel",
          "model_module_version": "1.5.0",
          "state": {
            "_view_name": "ProgressView",
            "style": "IPY_MODEL_27a2f127586b4626a5ba7e22b7491901",
            "_dom_classes": [],
            "description": "",
            "_model_name": "FloatProgressModel",
            "bar_style": "info",
            "max": 1,
            "_view_module": "@jupyter-widgets/controls",
            "_model_module_version": "1.5.0",
            "value": 1,
            "_view_count": null,
            "_view_module_version": "1.5.0",
            "orientation": "horizontal",
            "min": 0,
            "description_tooltip": null,
            "_model_module": "@jupyter-widgets/controls",
            "layout": "IPY_MODEL_5a30b1d3d05349ffbb4996a93815f062"
          }
        },
        "6e65c843f3db4d75a50a05e3ad0f8943": {
          "model_module": "@jupyter-widgets/controls",
          "model_name": "HTMLModel",
          "model_module_version": "1.5.0",
          "state": {
            "_view_name": "HTMLView",
            "style": "IPY_MODEL_affc604c3eab4d30bcc64ed1bde8f56a",
            "_dom_classes": [],
            "description": "",
            "_model_name": "HTMLModel",
            "placeholder": "​",
            "_view_module": "@jupyter-widgets/controls",
            "_model_module_version": "1.5.0",
            "value": " 49888/0 [00:47&lt;00:00, 1099.44 examples/s]",
            "_view_count": null,
            "_view_module_version": "1.5.0",
            "description_tooltip": null,
            "_model_module": "@jupyter-widgets/controls",
            "layout": "IPY_MODEL_6439eb14f158463ca19320c4cd77f76e"
          }
        },
        "130b2dc6550e4687b5f4059ebfb9d90e": {
          "model_module": "@jupyter-widgets/controls",
          "model_name": "DescriptionStyleModel",
          "model_module_version": "1.5.0",
          "state": {
            "_view_name": "StyleView",
            "_model_name": "DescriptionStyleModel",
            "description_width": "",
            "_view_module": "@jupyter-widgets/base",
            "_model_module_version": "1.5.0",
            "_view_count": null,
            "_view_module_version": "1.2.0",
            "_model_module": "@jupyter-widgets/controls"
          }
        },
        "9e69a4f134dd4033ad4dbd540fadc4de": {
          "model_module": "@jupyter-widgets/base",
          "model_name": "LayoutModel",
          "model_module_version": "1.2.0",
          "state": {
            "_view_name": "LayoutView",
            "grid_template_rows": null,
            "right": null,
            "justify_content": null,
            "_view_module": "@jupyter-widgets/base",
            "overflow": null,
            "_model_module_version": "1.2.0",
            "_view_count": null,
            "flex_flow": null,
            "width": null,
            "min_width": null,
            "border": null,
            "align_items": null,
            "bottom": null,
            "_model_module": "@jupyter-widgets/base",
            "top": null,
            "grid_column": null,
            "overflow_y": null,
            "overflow_x": null,
            "grid_auto_flow": null,
            "grid_area": null,
            "grid_template_columns": null,
            "flex": null,
            "_model_name": "LayoutModel",
            "justify_items": null,
            "grid_row": null,
            "max_height": null,
            "align_content": null,
            "visibility": null,
            "align_self": null,
            "height": null,
            "min_height": null,
            "padding": null,
            "grid_auto_rows": null,
            "grid_gap": null,
            "max_width": null,
            "order": null,
            "_view_module_version": "1.2.0",
            "grid_template_areas": null,
            "object_position": null,
            "object_fit": null,
            "grid_auto_columns": null,
            "margin": null,
            "display": null,
            "left": null
          }
        },
        "27a2f127586b4626a5ba7e22b7491901": {
          "model_module": "@jupyter-widgets/controls",
          "model_name": "ProgressStyleModel",
          "model_module_version": "1.5.0",
          "state": {
            "_view_name": "StyleView",
            "_model_name": "ProgressStyleModel",
            "description_width": "",
            "_view_module": "@jupyter-widgets/base",
            "_model_module_version": "1.5.0",
            "_view_count": null,
            "_view_module_version": "1.2.0",
            "bar_color": null,
            "_model_module": "@jupyter-widgets/controls"
          }
        },
        "5a30b1d3d05349ffbb4996a93815f062": {
          "model_module": "@jupyter-widgets/base",
          "model_name": "LayoutModel",
          "model_module_version": "1.2.0",
          "state": {
            "_view_name": "LayoutView",
            "grid_template_rows": null,
            "right": null,
            "justify_content": null,
            "_view_module": "@jupyter-widgets/base",
            "overflow": null,
            "_model_module_version": "1.2.0",
            "_view_count": null,
            "flex_flow": null,
            "width": "20px",
            "min_width": null,
            "border": null,
            "align_items": null,
            "bottom": null,
            "_model_module": "@jupyter-widgets/base",
            "top": null,
            "grid_column": null,
            "overflow_y": null,
            "overflow_x": null,
            "grid_auto_flow": null,
            "grid_area": null,
            "grid_template_columns": null,
            "flex": null,
            "_model_name": "LayoutModel",
            "justify_items": null,
            "grid_row": null,
            "max_height": null,
            "align_content": null,
            "visibility": null,
            "align_self": null,
            "height": null,
            "min_height": null,
            "padding": null,
            "grid_auto_rows": null,
            "grid_gap": null,
            "max_width": null,
            "order": null,
            "_view_module_version": "1.2.0",
            "grid_template_areas": null,
            "object_position": null,
            "object_fit": null,
            "grid_auto_columns": null,
            "margin": null,
            "display": null,
            "left": null
          }
        },
        "affc604c3eab4d30bcc64ed1bde8f56a": {
          "model_module": "@jupyter-widgets/controls",
          "model_name": "DescriptionStyleModel",
          "model_module_version": "1.5.0",
          "state": {
            "_view_name": "StyleView",
            "_model_name": "DescriptionStyleModel",
            "description_width": "",
            "_view_module": "@jupyter-widgets/base",
            "_model_module_version": "1.5.0",
            "_view_count": null,
            "_view_module_version": "1.2.0",
            "_model_module": "@jupyter-widgets/controls"
          }
        },
        "6439eb14f158463ca19320c4cd77f76e": {
          "model_module": "@jupyter-widgets/base",
          "model_name": "LayoutModel",
          "model_module_version": "1.2.0",
          "state": {
            "_view_name": "LayoutView",
            "grid_template_rows": null,
            "right": null,
            "justify_content": null,
            "_view_module": "@jupyter-widgets/base",
            "overflow": null,
            "_model_module_version": "1.2.0",
            "_view_count": null,
            "flex_flow": null,
            "width": null,
            "min_width": null,
            "border": null,
            "align_items": null,
            "bottom": null,
            "_model_module": "@jupyter-widgets/base",
            "top": null,
            "grid_column": null,
            "overflow_y": null,
            "overflow_x": null,
            "grid_auto_flow": null,
            "grid_area": null,
            "grid_template_columns": null,
            "flex": null,
            "_model_name": "LayoutModel",
            "justify_items": null,
            "grid_row": null,
            "max_height": null,
            "align_content": null,
            "visibility": null,
            "align_self": null,
            "height": null,
            "min_height": null,
            "padding": null,
            "grid_auto_rows": null,
            "grid_gap": null,
            "max_width": null,
            "order": null,
            "_view_module_version": "1.2.0",
            "grid_template_areas": null,
            "object_position": null,
            "object_fit": null,
            "grid_auto_columns": null,
            "margin": null,
            "display": null,
            "left": null
          }
        },
        "72f2d561956e48c1b8267e170aea038c": {
          "model_module": "@jupyter-widgets/controls",
          "model_name": "HBoxModel",
          "model_module_version": "1.5.0",
          "state": {
            "_view_name": "HBoxView",
            "_dom_classes": [],
            "_model_name": "HBoxModel",
            "_view_module": "@jupyter-widgets/controls",
            "_model_module_version": "1.5.0",
            "_view_count": null,
            "_view_module_version": "1.5.0",
            "box_style": "",
            "layout": "IPY_MODEL_f1b1bd6131604dcfbba9e09bc071fc82",
            "_model_module": "@jupyter-widgets/controls",
            "children": [
              "IPY_MODEL_967fbc0e2aeb4aa8bf413394bba11219",
              "IPY_MODEL_18c349a0b1a54ebb9849301c08493e5e",
              "IPY_MODEL_fed7aacd202f46af86960be7d89e4677"
            ]
          }
        },
        "f1b1bd6131604dcfbba9e09bc071fc82": {
          "model_module": "@jupyter-widgets/base",
          "model_name": "LayoutModel",
          "model_module_version": "1.2.0",
          "state": {
            "_view_name": "LayoutView",
            "grid_template_rows": null,
            "right": null,
            "justify_content": null,
            "_view_module": "@jupyter-widgets/base",
            "overflow": null,
            "_model_module_version": "1.2.0",
            "_view_count": null,
            "flex_flow": null,
            "width": null,
            "min_width": null,
            "border": null,
            "align_items": null,
            "bottom": null,
            "_model_module": "@jupyter-widgets/base",
            "top": null,
            "grid_column": null,
            "overflow_y": null,
            "overflow_x": null,
            "grid_auto_flow": null,
            "grid_area": null,
            "grid_template_columns": null,
            "flex": null,
            "_model_name": "LayoutModel",
            "justify_items": null,
            "grid_row": null,
            "max_height": null,
            "align_content": null,
            "visibility": null,
            "align_self": null,
            "height": null,
            "min_height": null,
            "padding": null,
            "grid_auto_rows": null,
            "grid_gap": null,
            "max_width": null,
            "order": null,
            "_view_module_version": "1.2.0",
            "grid_template_areas": null,
            "object_position": null,
            "object_fit": null,
            "grid_auto_columns": null,
            "margin": null,
            "display": null,
            "left": null
          }
        },
        "967fbc0e2aeb4aa8bf413394bba11219": {
          "model_module": "@jupyter-widgets/controls",
          "model_name": "HTMLModel",
          "model_module_version": "1.5.0",
          "state": {
            "_view_name": "HTMLView",
            "style": "IPY_MODEL_4f1326f0a84841b6a68b1b5d20258cf2",
            "_dom_classes": [],
            "description": "",
            "_model_name": "HTMLModel",
            "placeholder": "​",
            "_view_module": "@jupyter-widgets/controls",
            "_model_module_version": "1.5.0",
            "value": "100%",
            "_view_count": null,
            "_view_module_version": "1.5.0",
            "description_tooltip": null,
            "_model_module": "@jupyter-widgets/controls",
            "layout": "IPY_MODEL_cf22a11297784f03bbb1eb3a1e1ba13b"
          }
        },
        "18c349a0b1a54ebb9849301c08493e5e": {
          "model_module": "@jupyter-widgets/controls",
          "model_name": "FloatProgressModel",
          "model_module_version": "1.5.0",
          "state": {
            "_view_name": "ProgressView",
            "style": "IPY_MODEL_83041e4efc6e4395a09e428a512f32e1",
            "_dom_classes": [],
            "description": "",
            "_model_name": "FloatProgressModel",
            "bar_style": "danger",
            "max": 50000,
            "_view_module": "@jupyter-widgets/controls",
            "_model_module_version": "1.5.0",
            "value": 49999,
            "_view_count": null,
            "_view_module_version": "1.5.0",
            "orientation": "horizontal",
            "min": 0,
            "description_tooltip": null,
            "_model_module": "@jupyter-widgets/controls",
            "layout": "IPY_MODEL_098f83c67098494b8f85248d9337b4bf"
          }
        },
        "fed7aacd202f46af86960be7d89e4677": {
          "model_module": "@jupyter-widgets/controls",
          "model_name": "HTMLModel",
          "model_module_version": "1.5.0",
          "state": {
            "_view_name": "HTMLView",
            "style": "IPY_MODEL_0c21d0f8d77a4f0c8695608865aebd6e",
            "_dom_classes": [],
            "description": "",
            "_model_name": "HTMLModel",
            "placeholder": "​",
            "_view_module": "@jupyter-widgets/controls",
            "_model_module_version": "1.5.0",
            "value": " 49999/50000 [00:00&lt;00:00, 165937.92 examples/s]",
            "_view_count": null,
            "_view_module_version": "1.5.0",
            "description_tooltip": null,
            "_model_module": "@jupyter-widgets/controls",
            "layout": "IPY_MODEL_0e3040be9664487ea3ca7cb14ffee507"
          }
        },
        "4f1326f0a84841b6a68b1b5d20258cf2": {
          "model_module": "@jupyter-widgets/controls",
          "model_name": "DescriptionStyleModel",
          "model_module_version": "1.5.0",
          "state": {
            "_view_name": "StyleView",
            "_model_name": "DescriptionStyleModel",
            "description_width": "",
            "_view_module": "@jupyter-widgets/base",
            "_model_module_version": "1.5.0",
            "_view_count": null,
            "_view_module_version": "1.2.0",
            "_model_module": "@jupyter-widgets/controls"
          }
        },
        "cf22a11297784f03bbb1eb3a1e1ba13b": {
          "model_module": "@jupyter-widgets/base",
          "model_name": "LayoutModel",
          "model_module_version": "1.2.0",
          "state": {
            "_view_name": "LayoutView",
            "grid_template_rows": null,
            "right": null,
            "justify_content": null,
            "_view_module": "@jupyter-widgets/base",
            "overflow": null,
            "_model_module_version": "1.2.0",
            "_view_count": null,
            "flex_flow": null,
            "width": null,
            "min_width": null,
            "border": null,
            "align_items": null,
            "bottom": null,
            "_model_module": "@jupyter-widgets/base",
            "top": null,
            "grid_column": null,
            "overflow_y": null,
            "overflow_x": null,
            "grid_auto_flow": null,
            "grid_area": null,
            "grid_template_columns": null,
            "flex": null,
            "_model_name": "LayoutModel",
            "justify_items": null,
            "grid_row": null,
            "max_height": null,
            "align_content": null,
            "visibility": null,
            "align_self": null,
            "height": null,
            "min_height": null,
            "padding": null,
            "grid_auto_rows": null,
            "grid_gap": null,
            "max_width": null,
            "order": null,
            "_view_module_version": "1.2.0",
            "grid_template_areas": null,
            "object_position": null,
            "object_fit": null,
            "grid_auto_columns": null,
            "margin": null,
            "display": null,
            "left": null
          }
        },
        "83041e4efc6e4395a09e428a512f32e1": {
          "model_module": "@jupyter-widgets/controls",
          "model_name": "ProgressStyleModel",
          "model_module_version": "1.5.0",
          "state": {
            "_view_name": "StyleView",
            "_model_name": "ProgressStyleModel",
            "description_width": "",
            "_view_module": "@jupyter-widgets/base",
            "_model_module_version": "1.5.0",
            "_view_count": null,
            "_view_module_version": "1.2.0",
            "bar_color": null,
            "_model_module": "@jupyter-widgets/controls"
          }
        },
        "098f83c67098494b8f85248d9337b4bf": {
          "model_module": "@jupyter-widgets/base",
          "model_name": "LayoutModel",
          "model_module_version": "1.2.0",
          "state": {
            "_view_name": "LayoutView",
            "grid_template_rows": null,
            "right": null,
            "justify_content": null,
            "_view_module": "@jupyter-widgets/base",
            "overflow": null,
            "_model_module_version": "1.2.0",
            "_view_count": null,
            "flex_flow": null,
            "width": null,
            "min_width": null,
            "border": null,
            "align_items": null,
            "bottom": null,
            "_model_module": "@jupyter-widgets/base",
            "top": null,
            "grid_column": null,
            "overflow_y": null,
            "overflow_x": null,
            "grid_auto_flow": null,
            "grid_area": null,
            "grid_template_columns": null,
            "flex": null,
            "_model_name": "LayoutModel",
            "justify_items": null,
            "grid_row": null,
            "max_height": null,
            "align_content": null,
            "visibility": null,
            "align_self": null,
            "height": null,
            "min_height": null,
            "padding": null,
            "grid_auto_rows": null,
            "grid_gap": null,
            "max_width": null,
            "order": null,
            "_view_module_version": "1.2.0",
            "grid_template_areas": null,
            "object_position": null,
            "object_fit": null,
            "grid_auto_columns": null,
            "margin": null,
            "display": null,
            "left": null
          }
        },
        "0c21d0f8d77a4f0c8695608865aebd6e": {
          "model_module": "@jupyter-widgets/controls",
          "model_name": "DescriptionStyleModel",
          "model_module_version": "1.5.0",
          "state": {
            "_view_name": "StyleView",
            "_model_name": "DescriptionStyleModel",
            "description_width": "",
            "_view_module": "@jupyter-widgets/base",
            "_model_module_version": "1.5.0",
            "_view_count": null,
            "_view_module_version": "1.2.0",
            "_model_module": "@jupyter-widgets/controls"
          }
        },
        "0e3040be9664487ea3ca7cb14ffee507": {
          "model_module": "@jupyter-widgets/base",
          "model_name": "LayoutModel",
          "model_module_version": "1.2.0",
          "state": {
            "_view_name": "LayoutView",
            "grid_template_rows": null,
            "right": null,
            "justify_content": null,
            "_view_module": "@jupyter-widgets/base",
            "overflow": null,
            "_model_module_version": "1.2.0",
            "_view_count": null,
            "flex_flow": null,
            "width": null,
            "min_width": null,
            "border": null,
            "align_items": null,
            "bottom": null,
            "_model_module": "@jupyter-widgets/base",
            "top": null,
            "grid_column": null,
            "overflow_y": null,
            "overflow_x": null,
            "grid_auto_flow": null,
            "grid_area": null,
            "grid_template_columns": null,
            "flex": null,
            "_model_name": "LayoutModel",
            "justify_items": null,
            "grid_row": null,
            "max_height": null,
            "align_content": null,
            "visibility": null,
            "align_self": null,
            "height": null,
            "min_height": null,
            "padding": null,
            "grid_auto_rows": null,
            "grid_gap": null,
            "max_width": null,
            "order": null,
            "_view_module_version": "1.2.0",
            "grid_template_areas": null,
            "object_position": null,
            "object_fit": null,
            "grid_auto_columns": null,
            "margin": null,
            "display": null,
            "left": null
          }
        },
        "3643a5b68e4b4fa18d28f27ed7e10ee8": {
          "model_module": "@jupyter-widgets/controls",
          "model_name": "HBoxModel",
          "model_module_version": "1.5.0",
          "state": {
            "_view_name": "HBoxView",
            "_dom_classes": [],
            "_model_name": "HBoxModel",
            "_view_module": "@jupyter-widgets/controls",
            "_model_module_version": "1.5.0",
            "_view_count": null,
            "_view_module_version": "1.5.0",
            "box_style": "",
            "layout": "IPY_MODEL_65efdf48c8344ba0980b403818d25f62",
            "_model_module": "@jupyter-widgets/controls",
            "children": [
              "IPY_MODEL_eced31900b27475285ae15f6e712fa72",
              "IPY_MODEL_cff226f558e448ccaf14c2d8aa4162c1",
              "IPY_MODEL_2bb1f5bf6f8c4293a748586312352fee"
            ]
          }
        },
        "65efdf48c8344ba0980b403818d25f62": {
          "model_module": "@jupyter-widgets/base",
          "model_name": "LayoutModel",
          "model_module_version": "1.2.0",
          "state": {
            "_view_name": "LayoutView",
            "grid_template_rows": null,
            "right": null,
            "justify_content": null,
            "_view_module": "@jupyter-widgets/base",
            "overflow": null,
            "_model_module_version": "1.2.0",
            "_view_count": null,
            "flex_flow": null,
            "width": null,
            "min_width": null,
            "border": null,
            "align_items": null,
            "bottom": null,
            "_model_module": "@jupyter-widgets/base",
            "top": null,
            "grid_column": null,
            "overflow_y": null,
            "overflow_x": null,
            "grid_auto_flow": null,
            "grid_area": null,
            "grid_template_columns": null,
            "flex": null,
            "_model_name": "LayoutModel",
            "justify_items": null,
            "grid_row": null,
            "max_height": null,
            "align_content": null,
            "visibility": null,
            "align_self": null,
            "height": null,
            "min_height": null,
            "padding": null,
            "grid_auto_rows": null,
            "grid_gap": null,
            "max_width": null,
            "order": null,
            "_view_module_version": "1.2.0",
            "grid_template_areas": null,
            "object_position": null,
            "object_fit": null,
            "grid_auto_columns": null,
            "margin": null,
            "display": null,
            "left": null
          }
        },
        "eced31900b27475285ae15f6e712fa72": {
          "model_module": "@jupyter-widgets/controls",
          "model_name": "HTMLModel",
          "model_module_version": "1.5.0",
          "state": {
            "_view_name": "HTMLView",
            "style": "IPY_MODEL_4e2dd58dc8c944619e9fa9da9b21f8cb",
            "_dom_classes": [],
            "description": "",
            "_model_name": "HTMLModel",
            "placeholder": "​",
            "_view_module": "@jupyter-widgets/controls",
            "_model_module_version": "1.5.0",
            "value": "",
            "_view_count": null,
            "_view_module_version": "1.5.0",
            "description_tooltip": null,
            "_model_module": "@jupyter-widgets/controls",
            "layout": "IPY_MODEL_a8a412ffdfce4d89993a65bb318f1465"
          }
        },
        "cff226f558e448ccaf14c2d8aa4162c1": {
          "model_module": "@jupyter-widgets/controls",
          "model_name": "FloatProgressModel",
          "model_module_version": "1.5.0",
          "state": {
            "_view_name": "ProgressView",
            "style": "IPY_MODEL_c45ea49897e24b529b8a74006f553b30",
            "_dom_classes": [],
            "description": "",
            "_model_name": "FloatProgressModel",
            "bar_style": "info",
            "max": 1,
            "_view_module": "@jupyter-widgets/controls",
            "_model_module_version": "1.5.0",
            "value": 1,
            "_view_count": null,
            "_view_module_version": "1.5.0",
            "orientation": "horizontal",
            "min": 0,
            "description_tooltip": null,
            "_model_module": "@jupyter-widgets/controls",
            "layout": "IPY_MODEL_20974b19bbb045e7b6f90b3971c029da"
          }
        },
        "2bb1f5bf6f8c4293a748586312352fee": {
          "model_module": "@jupyter-widgets/controls",
          "model_name": "HTMLModel",
          "model_module_version": "1.5.0",
          "state": {
            "_view_name": "HTMLView",
            "style": "IPY_MODEL_40016b07c104412480a18e7450294411",
            "_dom_classes": [],
            "description": "",
            "_model_name": "HTMLModel",
            "placeholder": "​",
            "_view_module": "@jupyter-widgets/controls",
            "_model_module_version": "1.5.0",
            "value": " 9923/0 [00:08&lt;00:00, 1119.79 examples/s]",
            "_view_count": null,
            "_view_module_version": "1.5.0",
            "description_tooltip": null,
            "_model_module": "@jupyter-widgets/controls",
            "layout": "IPY_MODEL_48b9eef0259244e9903d1601dfafefae"
          }
        },
        "4e2dd58dc8c944619e9fa9da9b21f8cb": {
          "model_module": "@jupyter-widgets/controls",
          "model_name": "DescriptionStyleModel",
          "model_module_version": "1.5.0",
          "state": {
            "_view_name": "StyleView",
            "_model_name": "DescriptionStyleModel",
            "description_width": "",
            "_view_module": "@jupyter-widgets/base",
            "_model_module_version": "1.5.0",
            "_view_count": null,
            "_view_module_version": "1.2.0",
            "_model_module": "@jupyter-widgets/controls"
          }
        },
        "a8a412ffdfce4d89993a65bb318f1465": {
          "model_module": "@jupyter-widgets/base",
          "model_name": "LayoutModel",
          "model_module_version": "1.2.0",
          "state": {
            "_view_name": "LayoutView",
            "grid_template_rows": null,
            "right": null,
            "justify_content": null,
            "_view_module": "@jupyter-widgets/base",
            "overflow": null,
            "_model_module_version": "1.2.0",
            "_view_count": null,
            "flex_flow": null,
            "width": null,
            "min_width": null,
            "border": null,
            "align_items": null,
            "bottom": null,
            "_model_module": "@jupyter-widgets/base",
            "top": null,
            "grid_column": null,
            "overflow_y": null,
            "overflow_x": null,
            "grid_auto_flow": null,
            "grid_area": null,
            "grid_template_columns": null,
            "flex": null,
            "_model_name": "LayoutModel",
            "justify_items": null,
            "grid_row": null,
            "max_height": null,
            "align_content": null,
            "visibility": null,
            "align_self": null,
            "height": null,
            "min_height": null,
            "padding": null,
            "grid_auto_rows": null,
            "grid_gap": null,
            "max_width": null,
            "order": null,
            "_view_module_version": "1.2.0",
            "grid_template_areas": null,
            "object_position": null,
            "object_fit": null,
            "grid_auto_columns": null,
            "margin": null,
            "display": null,
            "left": null
          }
        },
        "c45ea49897e24b529b8a74006f553b30": {
          "model_module": "@jupyter-widgets/controls",
          "model_name": "ProgressStyleModel",
          "model_module_version": "1.5.0",
          "state": {
            "_view_name": "StyleView",
            "_model_name": "ProgressStyleModel",
            "description_width": "",
            "_view_module": "@jupyter-widgets/base",
            "_model_module_version": "1.5.0",
            "_view_count": null,
            "_view_module_version": "1.2.0",
            "bar_color": null,
            "_model_module": "@jupyter-widgets/controls"
          }
        },
        "20974b19bbb045e7b6f90b3971c029da": {
          "model_module": "@jupyter-widgets/base",
          "model_name": "LayoutModel",
          "model_module_version": "1.2.0",
          "state": {
            "_view_name": "LayoutView",
            "grid_template_rows": null,
            "right": null,
            "justify_content": null,
            "_view_module": "@jupyter-widgets/base",
            "overflow": null,
            "_model_module_version": "1.2.0",
            "_view_count": null,
            "flex_flow": null,
            "width": "20px",
            "min_width": null,
            "border": null,
            "align_items": null,
            "bottom": null,
            "_model_module": "@jupyter-widgets/base",
            "top": null,
            "grid_column": null,
            "overflow_y": null,
            "overflow_x": null,
            "grid_auto_flow": null,
            "grid_area": null,
            "grid_template_columns": null,
            "flex": null,
            "_model_name": "LayoutModel",
            "justify_items": null,
            "grid_row": null,
            "max_height": null,
            "align_content": null,
            "visibility": null,
            "align_self": null,
            "height": null,
            "min_height": null,
            "padding": null,
            "grid_auto_rows": null,
            "grid_gap": null,
            "max_width": null,
            "order": null,
            "_view_module_version": "1.2.0",
            "grid_template_areas": null,
            "object_position": null,
            "object_fit": null,
            "grid_auto_columns": null,
            "margin": null,
            "display": null,
            "left": null
          }
        },
        "40016b07c104412480a18e7450294411": {
          "model_module": "@jupyter-widgets/controls",
          "model_name": "DescriptionStyleModel",
          "model_module_version": "1.5.0",
          "state": {
            "_view_name": "StyleView",
            "_model_name": "DescriptionStyleModel",
            "description_width": "",
            "_view_module": "@jupyter-widgets/base",
            "_model_module_version": "1.5.0",
            "_view_count": null,
            "_view_module_version": "1.2.0",
            "_model_module": "@jupyter-widgets/controls"
          }
        },
        "48b9eef0259244e9903d1601dfafefae": {
          "model_module": "@jupyter-widgets/base",
          "model_name": "LayoutModel",
          "model_module_version": "1.2.0",
          "state": {
            "_view_name": "LayoutView",
            "grid_template_rows": null,
            "right": null,
            "justify_content": null,
            "_view_module": "@jupyter-widgets/base",
            "overflow": null,
            "_model_module_version": "1.2.0",
            "_view_count": null,
            "flex_flow": null,
            "width": null,
            "min_width": null,
            "border": null,
            "align_items": null,
            "bottom": null,
            "_model_module": "@jupyter-widgets/base",
            "top": null,
            "grid_column": null,
            "overflow_y": null,
            "overflow_x": null,
            "grid_auto_flow": null,
            "grid_area": null,
            "grid_template_columns": null,
            "flex": null,
            "_model_name": "LayoutModel",
            "justify_items": null,
            "grid_row": null,
            "max_height": null,
            "align_content": null,
            "visibility": null,
            "align_self": null,
            "height": null,
            "min_height": null,
            "padding": null,
            "grid_auto_rows": null,
            "grid_gap": null,
            "max_width": null,
            "order": null,
            "_view_module_version": "1.2.0",
            "grid_template_areas": null,
            "object_position": null,
            "object_fit": null,
            "grid_auto_columns": null,
            "margin": null,
            "display": null,
            "left": null
          }
        },
        "b60d0e09a82c437d9e9c4f8397d26df9": {
          "model_module": "@jupyter-widgets/controls",
          "model_name": "HBoxModel",
          "model_module_version": "1.5.0",
          "state": {
            "_view_name": "HBoxView",
            "_dom_classes": [],
            "_model_name": "HBoxModel",
            "_view_module": "@jupyter-widgets/controls",
            "_model_module_version": "1.5.0",
            "_view_count": null,
            "_view_module_version": "1.5.0",
            "box_style": "",
            "layout": "IPY_MODEL_8c5dd7a26c6b4b50a7f3a0859ac22466",
            "_model_module": "@jupyter-widgets/controls",
            "children": [
              "IPY_MODEL_c7a756df43e34fd99b0eab4d5c3a13f7",
              "IPY_MODEL_a4752b62fb6a426aaa12928986c86f9d",
              "IPY_MODEL_2b97f973b57347a285ccbd6f43e08098"
            ]
          }
        },
        "8c5dd7a26c6b4b50a7f3a0859ac22466": {
          "model_module": "@jupyter-widgets/base",
          "model_name": "LayoutModel",
          "model_module_version": "1.2.0",
          "state": {
            "_view_name": "LayoutView",
            "grid_template_rows": null,
            "right": null,
            "justify_content": null,
            "_view_module": "@jupyter-widgets/base",
            "overflow": null,
            "_model_module_version": "1.2.0",
            "_view_count": null,
            "flex_flow": null,
            "width": null,
            "min_width": null,
            "border": null,
            "align_items": null,
            "bottom": null,
            "_model_module": "@jupyter-widgets/base",
            "top": null,
            "grid_column": null,
            "overflow_y": null,
            "overflow_x": null,
            "grid_auto_flow": null,
            "grid_area": null,
            "grid_template_columns": null,
            "flex": null,
            "_model_name": "LayoutModel",
            "justify_items": null,
            "grid_row": null,
            "max_height": null,
            "align_content": null,
            "visibility": null,
            "align_self": null,
            "height": null,
            "min_height": null,
            "padding": null,
            "grid_auto_rows": null,
            "grid_gap": null,
            "max_width": null,
            "order": null,
            "_view_module_version": "1.2.0",
            "grid_template_areas": null,
            "object_position": null,
            "object_fit": null,
            "grid_auto_columns": null,
            "margin": null,
            "display": null,
            "left": null
          }
        },
        "c7a756df43e34fd99b0eab4d5c3a13f7": {
          "model_module": "@jupyter-widgets/controls",
          "model_name": "HTMLModel",
          "model_module_version": "1.5.0",
          "state": {
            "_view_name": "HTMLView",
            "style": "IPY_MODEL_9209ddb0aa364a76bf98d2193bf01be2",
            "_dom_classes": [],
            "description": "",
            "_model_name": "HTMLModel",
            "placeholder": "​",
            "_view_module": "@jupyter-widgets/controls",
            "_model_module_version": "1.5.0",
            "value": "100%",
            "_view_count": null,
            "_view_module_version": "1.5.0",
            "description_tooltip": null,
            "_model_module": "@jupyter-widgets/controls",
            "layout": "IPY_MODEL_b82c06a877524503b5df16b051186ad8"
          }
        },
        "a4752b62fb6a426aaa12928986c86f9d": {
          "model_module": "@jupyter-widgets/controls",
          "model_name": "FloatProgressModel",
          "model_module_version": "1.5.0",
          "state": {
            "_view_name": "ProgressView",
            "style": "IPY_MODEL_0d6aaafd7a6e4215b6db5605b9ace17b",
            "_dom_classes": [],
            "description": "",
            "_model_name": "FloatProgressModel",
            "bar_style": "danger",
            "max": 10000,
            "_view_module": "@jupyter-widgets/controls",
            "_model_module_version": "1.5.0",
            "value": 9999,
            "_view_count": null,
            "_view_module_version": "1.5.0",
            "orientation": "horizontal",
            "min": 0,
            "description_tooltip": null,
            "_model_module": "@jupyter-widgets/controls",
            "layout": "IPY_MODEL_b871401c63454347bfda2ff2f383f6f3"
          }
        },
        "2b97f973b57347a285ccbd6f43e08098": {
          "model_module": "@jupyter-widgets/controls",
          "model_name": "HTMLModel",
          "model_module_version": "1.5.0",
          "state": {
            "_view_name": "HTMLView",
            "style": "IPY_MODEL_f5d3ca48dca24962b1e9c0da3aba69c6",
            "_dom_classes": [],
            "description": "",
            "_model_name": "HTMLModel",
            "placeholder": "​",
            "_view_module": "@jupyter-widgets/controls",
            "_model_module_version": "1.5.0",
            "value": " 9999/10000 [00:00&lt;00:00, 100450.88 examples/s]",
            "_view_count": null,
            "_view_module_version": "1.5.0",
            "description_tooltip": null,
            "_model_module": "@jupyter-widgets/controls",
            "layout": "IPY_MODEL_e55a49f5b0a4420fae931f229982ea19"
          }
        },
        "9209ddb0aa364a76bf98d2193bf01be2": {
          "model_module": "@jupyter-widgets/controls",
          "model_name": "DescriptionStyleModel",
          "model_module_version": "1.5.0",
          "state": {
            "_view_name": "StyleView",
            "_model_name": "DescriptionStyleModel",
            "description_width": "",
            "_view_module": "@jupyter-widgets/base",
            "_model_module_version": "1.5.0",
            "_view_count": null,
            "_view_module_version": "1.2.0",
            "_model_module": "@jupyter-widgets/controls"
          }
        },
        "b82c06a877524503b5df16b051186ad8": {
          "model_module": "@jupyter-widgets/base",
          "model_name": "LayoutModel",
          "model_module_version": "1.2.0",
          "state": {
            "_view_name": "LayoutView",
            "grid_template_rows": null,
            "right": null,
            "justify_content": null,
            "_view_module": "@jupyter-widgets/base",
            "overflow": null,
            "_model_module_version": "1.2.0",
            "_view_count": null,
            "flex_flow": null,
            "width": null,
            "min_width": null,
            "border": null,
            "align_items": null,
            "bottom": null,
            "_model_module": "@jupyter-widgets/base",
            "top": null,
            "grid_column": null,
            "overflow_y": null,
            "overflow_x": null,
            "grid_auto_flow": null,
            "grid_area": null,
            "grid_template_columns": null,
            "flex": null,
            "_model_name": "LayoutModel",
            "justify_items": null,
            "grid_row": null,
            "max_height": null,
            "align_content": null,
            "visibility": null,
            "align_self": null,
            "height": null,
            "min_height": null,
            "padding": null,
            "grid_auto_rows": null,
            "grid_gap": null,
            "max_width": null,
            "order": null,
            "_view_module_version": "1.2.0",
            "grid_template_areas": null,
            "object_position": null,
            "object_fit": null,
            "grid_auto_columns": null,
            "margin": null,
            "display": null,
            "left": null
          }
        },
        "0d6aaafd7a6e4215b6db5605b9ace17b": {
          "model_module": "@jupyter-widgets/controls",
          "model_name": "ProgressStyleModel",
          "model_module_version": "1.5.0",
          "state": {
            "_view_name": "StyleView",
            "_model_name": "ProgressStyleModel",
            "description_width": "",
            "_view_module": "@jupyter-widgets/base",
            "_model_module_version": "1.5.0",
            "_view_count": null,
            "_view_module_version": "1.2.0",
            "bar_color": null,
            "_model_module": "@jupyter-widgets/controls"
          }
        },
        "b871401c63454347bfda2ff2f383f6f3": {
          "model_module": "@jupyter-widgets/base",
          "model_name": "LayoutModel",
          "model_module_version": "1.2.0",
          "state": {
            "_view_name": "LayoutView",
            "grid_template_rows": null,
            "right": null,
            "justify_content": null,
            "_view_module": "@jupyter-widgets/base",
            "overflow": null,
            "_model_module_version": "1.2.0",
            "_view_count": null,
            "flex_flow": null,
            "width": null,
            "min_width": null,
            "border": null,
            "align_items": null,
            "bottom": null,
            "_model_module": "@jupyter-widgets/base",
            "top": null,
            "grid_column": null,
            "overflow_y": null,
            "overflow_x": null,
            "grid_auto_flow": null,
            "grid_area": null,
            "grid_template_columns": null,
            "flex": null,
            "_model_name": "LayoutModel",
            "justify_items": null,
            "grid_row": null,
            "max_height": null,
            "align_content": null,
            "visibility": null,
            "align_self": null,
            "height": null,
            "min_height": null,
            "padding": null,
            "grid_auto_rows": null,
            "grid_gap": null,
            "max_width": null,
            "order": null,
            "_view_module_version": "1.2.0",
            "grid_template_areas": null,
            "object_position": null,
            "object_fit": null,
            "grid_auto_columns": null,
            "margin": null,
            "display": null,
            "left": null
          }
        },
        "f5d3ca48dca24962b1e9c0da3aba69c6": {
          "model_module": "@jupyter-widgets/controls",
          "model_name": "DescriptionStyleModel",
          "model_module_version": "1.5.0",
          "state": {
            "_view_name": "StyleView",
            "_model_name": "DescriptionStyleModel",
            "description_width": "",
            "_view_module": "@jupyter-widgets/base",
            "_model_module_version": "1.5.0",
            "_view_count": null,
            "_view_module_version": "1.2.0",
            "_model_module": "@jupyter-widgets/controls"
          }
        },
        "e55a49f5b0a4420fae931f229982ea19": {
          "model_module": "@jupyter-widgets/base",
          "model_name": "LayoutModel",
          "model_module_version": "1.2.0",
          "state": {
            "_view_name": "LayoutView",
            "grid_template_rows": null,
            "right": null,
            "justify_content": null,
            "_view_module": "@jupyter-widgets/base",
            "overflow": null,
            "_model_module_version": "1.2.0",
            "_view_count": null,
            "flex_flow": null,
            "width": null,
            "min_width": null,
            "border": null,
            "align_items": null,
            "bottom": null,
            "_model_module": "@jupyter-widgets/base",
            "top": null,
            "grid_column": null,
            "overflow_y": null,
            "overflow_x": null,
            "grid_auto_flow": null,
            "grid_area": null,
            "grid_template_columns": null,
            "flex": null,
            "_model_name": "LayoutModel",
            "justify_items": null,
            "grid_row": null,
            "max_height": null,
            "align_content": null,
            "visibility": null,
            "align_self": null,
            "height": null,
            "min_height": null,
            "padding": null,
            "grid_auto_rows": null,
            "grid_gap": null,
            "max_width": null,
            "order": null,
            "_view_module_version": "1.2.0",
            "grid_template_areas": null,
            "object_position": null,
            "object_fit": null,
            "grid_auto_columns": null,
            "margin": null,
            "display": null,
            "left": null
          }
        }
      }
    }
  },
  "cells": [
    {
      "cell_type": "markdown",
      "metadata": {
        "id": "view-in-github",
        "colab_type": "text"
      },
      "source": [
        "<a href=\"https://colab.research.google.com/github/RachelRamirez/CIFAR-10/blob/main/CollectionofTests/AllRuns.ipynb\" target=\"_parent\"><img src=\"https://colab.research.google.com/assets/colab-badge.svg\" alt=\"Open In Colab\"/></a>"
      ]
    },
    {
      "cell_type": "markdown",
      "metadata": {
        "id": "HWWm7k12aDV9"
      },
      "source": [
        "Date: Last changed 11/10/2021 at 9:25 pm\n",
        "\n",
        "\n",
        "\n",
        "\n",
        "Description: shard = 16, corrected cifar10_count order of output (deers/dogs was messedup), corrected shuffle=5000, batch=100 (was 20 and 10 before), updated epoch information* Dr C requested, as well as warning if early stop epochs are really high.  stll need to check if batches are mixing welll and still need to print out/save as csv and still need to pass all the groups through the augmentation"
      ]
    },
    {
      "cell_type": "markdown",
      "metadata": {
        "id": "clsNM6VmYkbd"
      },
      "source": [
        "### Imports"
      ]
    },
    {
      "cell_type": "code",
      "metadata": {
        "id": "51kUNphD_Vj9"
      },
      "source": [
        "#@title import libraries set time\n",
        "import tensorflow as tf\n",
        "import tensorflow_datasets as tfds\n",
        "import matplotlib.pyplot as plt\n",
        "import numpy as np\n",
        "import pandas as pd\n",
        "import seaborn as sns\n",
        "import copy\n",
        "import os\n",
        "import PIL\n",
        "import PIL.Image\n",
        "from tensorflow import keras \n",
        "from tensorflow.keras import layers\n",
        "from tensorflow.keras.models import Sequential\n",
        "# import keras.utils -- dont do this!! it causes problems, \n",
        "from tensorflow.keras.utils import to_categorical  #do this instead!!\n",
        "import random\n",
        "import sklearn\n",
        "from sklearn.metrics import confusion_matrix\n",
        "from sklearn.metrics import ConfusionMatrixDisplay\n",
        "import time\n",
        "import pickle\n",
        "from google.colab import files\n",
        "import datetime # to display the current time hh:mm:ss\n",
        "\n",
        "# Possibly Need IMGAUG to set seed in ALbumentations\n",
        "# GitHub Issue: https://github.com/albumentations-team/albumentations/issues/93\n",
        "import imgaug\n",
        "imgaug.seed(123)\n",
        "\n",
        "\n",
        "tic = time.time()  # Start the timer\n",
        "initial_run = 0\n",
        "\n",
        "AUTOTUNE = tf.data.experimental.AUTOTUNE\n",
        "np.set_printoptions(precision=4)"
      ],
      "execution_count": 3,
      "outputs": []
    },
    {
      "cell_type": "markdown",
      "metadata": {
        "id": "bgG2J6U-ZxNf"
      },
      "source": [
        "#### Set Random Seeds"
      ]
    },
    {
      "cell_type": "code",
      "metadata": {
        "id": "qOLO1F8rZwdz"
      },
      "source": [
        "seed = 42\n",
        "random.seed(seed)\n",
        "tf.random.set_seed(seed)\n",
        "np.random.seed()  # https://stackoverflow.com/questions/11526975/set-random-seed-programwide-in-python\n",
        "shuffle_seed = seed\n",
        "## ------------------"
      ],
      "execution_count": 4,
      "outputs": []
    },
    {
      "cell_type": "markdown",
      "metadata": {
        "id": "aznJzlFa0udt"
      },
      "source": [
        "Set Logic-Values\n"
      ]
    },
    {
      "cell_type": "code",
      "metadata": {
        "id": "ZQmptTLF0xyC"
      },
      "source": [
        "run_model = False  #When Im looking at augmentations, I don't want to keep refitting a model, I want to just get the database of images loaded"
      ],
      "execution_count": 5,
      "outputs": []
    },
    {
      "cell_type": "markdown",
      "metadata": {
        "id": "4ODbm50NY1AW"
      },
      "source": [
        "Make Image Datasets"
      ]
    },
    {
      "cell_type": "markdown",
      "metadata": {
        "id": "AuNDxhJEKUoj"
      },
      "source": [
        "One of my biggest learning curves was learning how to load  the dataset with tdfs.load() and then filter on images by label.  \n",
        "\n",
        "The second biggest was using the created model to make predictions on the test set.   \n",
        "\n",
        "Current but \"skipped\" problem is trying to view misclassifeid images of results.\n",
        "\n",
        "\n",
        "Another area of problems is rerunning when you've already specified a batch on your dataset creates another \"batch\" split so it can cause problems to rerun a cell that says how to define a dataset.  Unbatch may be needed first.    "
      ]
    },
    {
      "cell_type": "markdown",
      "metadata": {
        "id": "S3EDpXDoEpGE"
      },
      "source": [
        "### Load Dataset"
      ]
    },
    {
      "cell_type": "code",
      "metadata": {
        "id": "nqQHy1cx_ZK_",
        "colab": {
          "base_uri": "https://localhost:8080/",
          "height": 347,
          "referenced_widgets": [
            "9a9ce23cde5f400ab126c3280cd3514a",
            "c5908a64963a46bb84a2e7bad8911e6e",
            "6d202db389f5454bbf5d8a54d6d07900",
            "726539a88cb84924bd95c70e8fe52cb8",
            "dc5a7d9fd24d4c6aa5539d1d38a4ce12",
            "c7c2ded099134277b242f0fe88e5d024",
            "7ee817b6f1c944b587bba5d02cf086bf",
            "7d458d9c9432437a8046d32c6ec5ed53",
            "58dc3abc9c1846279ad04515a334010a",
            "7ba7c88a838543adbc2703b1c9228634",
            "158523166a504d05a4736a8b337e4c67",
            "4705037f04e34406b6862116cbd86dba",
            "08cabfc644ec4d61a2d8797dad3aa956",
            "74e648129836494691ce2aa50f3ec51c",
            "0ad847a479774c3190fed5426b8c4730",
            "af398bfac0c84228952ebb32a3ab6cf8",
            "29300e5d83a043abb9d2898ff1d9526c",
            "bc41a9004ef34cdcb0c667dd108dd40a",
            "035fbf54128b494f8fc5a2282c0d0425",
            "16f437bbca9549ccb93e79ba2ab6665a",
            "897de5a111ad478081ed5ff900dfc47b",
            "76b94028be15464f971b828645ab5a48",
            "a5f3193b22744b0e8977f7b9d2f263b1",
            "edf210c6193a4a15abaa0d20c1159dc6",
            "99d7b5777c3a4e8592c43a43a5973e3d",
            "65dad90b8b1f4d0a9ca33977586e88a2",
            "1160ac8b13b34a1d8567d19296ef2388",
            "d1916ef8d5114335b68df15863691603",
            "fcd5c41a17d74fbbb8768e413a27ea13",
            "e8ab196690e44e13901013b3d1231274",
            "87dcf259ac30450689bd48353027e346",
            "d3282da9cb95400eac235f9e925ae6b2",
            "1f7af328569c48279b97b59bde85e870",
            "aca50d034711469ebc1a74407436c660",
            "f1d1134a18c1466b98e2683a394e1345",
            "0603953ca0bf4282a8e49e9e8c173ace",
            "474c8a4d336c4d138d59db1f8ffbe831",
            "6e65c843f3db4d75a50a05e3ad0f8943",
            "130b2dc6550e4687b5f4059ebfb9d90e",
            "9e69a4f134dd4033ad4dbd540fadc4de",
            "27a2f127586b4626a5ba7e22b7491901",
            "5a30b1d3d05349ffbb4996a93815f062",
            "affc604c3eab4d30bcc64ed1bde8f56a",
            "6439eb14f158463ca19320c4cd77f76e",
            "72f2d561956e48c1b8267e170aea038c",
            "f1b1bd6131604dcfbba9e09bc071fc82",
            "967fbc0e2aeb4aa8bf413394bba11219",
            "18c349a0b1a54ebb9849301c08493e5e",
            "fed7aacd202f46af86960be7d89e4677",
            "4f1326f0a84841b6a68b1b5d20258cf2",
            "cf22a11297784f03bbb1eb3a1e1ba13b",
            "83041e4efc6e4395a09e428a512f32e1",
            "098f83c67098494b8f85248d9337b4bf",
            "0c21d0f8d77a4f0c8695608865aebd6e",
            "0e3040be9664487ea3ca7cb14ffee507",
            "3643a5b68e4b4fa18d28f27ed7e10ee8",
            "65efdf48c8344ba0980b403818d25f62",
            "eced31900b27475285ae15f6e712fa72",
            "cff226f558e448ccaf14c2d8aa4162c1",
            "2bb1f5bf6f8c4293a748586312352fee",
            "4e2dd58dc8c944619e9fa9da9b21f8cb",
            "a8a412ffdfce4d89993a65bb318f1465",
            "c45ea49897e24b529b8a74006f553b30",
            "20974b19bbb045e7b6f90b3971c029da",
            "40016b07c104412480a18e7450294411",
            "48b9eef0259244e9903d1601dfafefae",
            "b60d0e09a82c437d9e9c4f8397d26df9",
            "8c5dd7a26c6b4b50a7f3a0859ac22466",
            "c7a756df43e34fd99b0eab4d5c3a13f7",
            "a4752b62fb6a426aaa12928986c86f9d",
            "2b97f973b57347a285ccbd6f43e08098",
            "9209ddb0aa364a76bf98d2193bf01be2",
            "b82c06a877524503b5df16b051186ad8",
            "0d6aaafd7a6e4215b6db5605b9ace17b",
            "b871401c63454347bfda2ff2f383f6f3",
            "f5d3ca48dca24962b1e9c0da3aba69c6",
            "e55a49f5b0a4420fae931f229982ea19"
          ]
        },
        "outputId": "23786f5e-3119-46b2-94de-73dcbda41e96"
      },
      "source": [
        "\n",
        "# A weird problem happened where it said the toronto website cant be reached, if that ever happens again make sure to go to SO for this advice https://stackoverflow.com/questions/36805640/this-error-while-downloading-datasets-valueerror-i-o-operation-on-closed-file\n",
        "\n",
        "# How do I set IDs on: read_config.add_tfds_id = True\n",
        "read_config = tfds.ReadConfig(shuffle_seed=seed) \n",
        "read_config.add_tfds_id = True  ## This didnt update ReadConfig \n",
        "\n",
        "dataset, info = tfds.load('cifar10', as_supervised=True, with_info=True, read_config=read_config)\n",
        "x_test =  dataset[\"test\"]\n",
        "dataset  = dataset[\"train\"]\n",
        "assert isinstance(x_test, tf.data.Dataset)\n",
        "#x_test = [(example.numpy(), label.numpy()) for example, label in x_test]\n",
        "# once broken into numpy arrays, my model still doesn't handle it, it seems to be expecting a tensor\n",
        "# So i think i have to break it into two tensors?  test_x, test_y?\n",
        "# x_test[0][0]\n",
        "# x_test[0][1]\n",
        "# x_test = pd.DataFrame(x_test, columns=['example', 'label'])\n",
        "# x_test = tf.data.Dataset.from_generator(lambda: x_test, (tf.int64, tf.int16))\n",
        "# x_list = list(x_test.as_numpy_iterator())  # Crashes Google Colab!\n",
        "# print(x_list[:5])\n",
        "\n",
        "\n",
        "#  I got this from stack-overflow.  Need this code to define y_test, the labels of testset\n",
        "\n",
        "def get_labels_from_tfdataset(tfdataset, batched=False):\n",
        "    labels = list(map(lambda x: x[1], tfdataset)) # Get labels \n",
        "    if not batched:\n",
        "        return tf.concat(labels, axis=0) # concat the list of batched labels\n",
        "    return labels\n",
        "y_test = get_labels_from_tfdataset(x_test)\n",
        "\n",
        "# tfds.as_dataframe(dataset.take(5), info)  #does not display image ID :-( )\n",
        "\n",
        "dataset_airplanes   = dataset.filter(lambda img, label: label == 0)\n",
        "dataset_automobiles = dataset.filter(lambda img, label: label == 1)\n",
        "dataset_birds       = dataset.filter(lambda img, label: label == 2)\n",
        "dataset_cats        = dataset.filter(lambda img, label: label == 3)\n",
        "dataset_deers       = dataset.filter(lambda img, label: label == 4)\n",
        "dataset_dogs        = dataset.filter(lambda img, label: label == 5)\n",
        "dataset_frogs       = dataset.filter(lambda img, label: label == 6)\n",
        "dataset_horses      = dataset.filter(lambda img, label: label == 7)\n",
        "dataset_ships       = dataset.filter(lambda img, label: label == 8)\n",
        "dataset_trucks      = dataset.filter(lambda img, label: label == 9)\n",
        "\n",
        "##  Ways to count the number of images in the sets:\n",
        "print(\"There are ways to count and verify the number per training set which i have hidden because they are costly\")\n",
        "print(\"Entire Training Dataset was originally cardinality:\", tf.data.experimental.cardinality(dataset).numpy()) #   prints 50,000, correct\n",
        "print(\"Entire Airplane Training Dataset was originally cardinality:\", tf.data.experimental.cardinality(dataset_airplanes).numpy()) #   prints -2 this is a \"feature\" in tf when a set takes too long to count\n",
        "# print(dataset_airplanes.reduce(np.int64(0), lambda x,_ : x + 1).numpy()) #prints 5000, correct\n",
        "\n",
        "##  This is a way of asserting that all the images have the same label in a set\n",
        "# for img, label in dataset_dogs:\n",
        "#   assert label == 5\n",
        " "
      ],
      "execution_count": 6,
      "outputs": [
        {
          "output_type": "stream",
          "name": "stdout",
          "text": [
            "\u001b[1mDownloading and preparing dataset cifar10/3.0.2 (download: 162.17 MiB, generated: 132.40 MiB, total: 294.58 MiB) to /root/tensorflow_datasets/cifar10/3.0.2...\u001b[0m\n"
          ]
        },
        {
          "output_type": "display_data",
          "data": {
            "application/vnd.jupyter.widget-view+json": {
              "model_id": "9a9ce23cde5f400ab126c3280cd3514a",
              "version_minor": 0,
              "version_major": 2
            },
            "text/plain": [
              "Dl Completed...: 0 url [00:00, ? url/s]"
            ]
          },
          "metadata": {}
        },
        {
          "output_type": "display_data",
          "data": {
            "application/vnd.jupyter.widget-view+json": {
              "model_id": "4705037f04e34406b6862116cbd86dba",
              "version_minor": 0,
              "version_major": 2
            },
            "text/plain": [
              "Dl Size...: 0 MiB [00:00, ? MiB/s]"
            ]
          },
          "metadata": {}
        },
        {
          "output_type": "display_data",
          "data": {
            "application/vnd.jupyter.widget-view+json": {
              "model_id": "a5f3193b22744b0e8977f7b9d2f263b1",
              "version_minor": 0,
              "version_major": 2
            },
            "text/plain": [
              "Extraction completed...: 0 file [00:00, ? file/s]"
            ]
          },
          "metadata": {}
        },
        {
          "output_type": "stream",
          "name": "stdout",
          "text": [
            "\n",
            "\n",
            "\n"
          ]
        },
        {
          "output_type": "display_data",
          "data": {
            "application/vnd.jupyter.widget-view+json": {
              "model_id": "aca50d034711469ebc1a74407436c660",
              "version_minor": 0,
              "version_major": 2
            },
            "text/plain": [
              "0 examples [00:00, ? examples/s]"
            ]
          },
          "metadata": {}
        },
        {
          "output_type": "stream",
          "name": "stdout",
          "text": [
            "Shuffling and writing examples to /root/tensorflow_datasets/cifar10/3.0.2.incompleteHBRPOI/cifar10-train.tfrecord\n"
          ]
        },
        {
          "output_type": "display_data",
          "data": {
            "application/vnd.jupyter.widget-view+json": {
              "model_id": "72f2d561956e48c1b8267e170aea038c",
              "version_minor": 0,
              "version_major": 2
            },
            "text/plain": [
              "  0%|          | 0/50000 [00:00<?, ? examples/s]"
            ]
          },
          "metadata": {}
        },
        {
          "output_type": "display_data",
          "data": {
            "application/vnd.jupyter.widget-view+json": {
              "model_id": "3643a5b68e4b4fa18d28f27ed7e10ee8",
              "version_minor": 0,
              "version_major": 2
            },
            "text/plain": [
              "0 examples [00:00, ? examples/s]"
            ]
          },
          "metadata": {}
        },
        {
          "output_type": "stream",
          "name": "stdout",
          "text": [
            "Shuffling and writing examples to /root/tensorflow_datasets/cifar10/3.0.2.incompleteHBRPOI/cifar10-test.tfrecord\n"
          ]
        },
        {
          "output_type": "display_data",
          "data": {
            "application/vnd.jupyter.widget-view+json": {
              "model_id": "b60d0e09a82c437d9e9c4f8397d26df9",
              "version_minor": 0,
              "version_major": 2
            },
            "text/plain": [
              "  0%|          | 0/10000 [00:00<?, ? examples/s]"
            ]
          },
          "metadata": {}
        },
        {
          "output_type": "stream",
          "name": "stdout",
          "text": [
            "\u001b[1mDataset cifar10 downloaded and prepared to /root/tensorflow_datasets/cifar10/3.0.2. Subsequent calls will reuse this data.\u001b[0m\n",
            "There are ways to count and verify the number per training set which i have hidden because they are costly\n",
            "Entire Training Dataset was originally cardinality: 50000\n",
            "Entire Airplane Training Dataset was originally cardinality: -2\n"
          ]
        }
      ]
    },
    {
      "cell_type": "markdown",
      "metadata": {
        "id": "tQJbeF_kFIDc"
      },
      "source": [
        "## Count CIFAR 10 Functions"
      ]
    },
    {
      "cell_type": "code",
      "metadata": {
        "id": "2XBwUkwdEarI"
      },
      "source": [
        "#@title 'count_cifar10_class' { form-width: \"1px\" }\n",
        "# define a fuction to count the numbre of each class\n",
        "# I'm not going to worry about it now, but if i had time to cleanup code I would \n",
        "# Try to use this type of if/zip structure  https://stackoverflow.com/questions/57784643/if-statement-and-zip\n",
        "\n",
        "\n",
        "\n",
        " \n",
        "def count_cifar10_class(datasetpassed):\n",
        "  # takes the datasetpassed and returns the number of each category as a ten-tupple\n",
        "  num_airplanes, num_automobiles, num_birds, num_cats, num_deers = 0,0,0,0,0\n",
        "  num_dogs, num_frogs, num_horses, num_ships, num_trucks= 0, 0, 0,0,0\n",
        "\n",
        "\n",
        "  # print(\"Unbatched?\" , check_if_unbatched(datasetpassed))\n",
        "  # print(\"Take?\", check_if_take(datasetpassed))\n",
        "  # print(\"Unbatched or Take?\", ( check_if_unbatched(datasetpassed) or  check_if_take(datasetpassed)))\n",
        "\n",
        "  if ( check_if_unbatched(datasetpassed) or  check_if_take(datasetpassed)):\n",
        "    if check_if_take(datasetpassed):\n",
        "      datasetpassed = make_unbatched(datasetpassed)\n",
        "\n",
        "    for img, label in datasetpassed:\n",
        "      if label == 0:\n",
        "        num_airplanes += 1\n",
        "\n",
        "      if label == 1:\n",
        "        num_automobiles += 1\n",
        "\n",
        "      if label == 2:\n",
        "        num_birds +=1\n",
        "\n",
        "      if label == 3:\n",
        "        num_cats +=1\n",
        "\n",
        "      if label ==4: \n",
        "        num_deers += 1\n",
        "\n",
        "      if label == 5:\n",
        "        num_dogs += 1 \n",
        "\n",
        "      if label == 6:\n",
        "          num_frogs += 1\n",
        "\n",
        "      if label == 7:\n",
        "        num_horses += 1\n",
        "\n",
        "      if label == 8:\n",
        "        num_ships +=1 \n",
        "\n",
        "      if label == 9: \n",
        "        num_trucks +=1\n",
        "    \n",
        "    return num_airplanes, num_automobiles, num_birds, num_cats, num_deers, num_dogs, num_frogs, num_horses, num_ships, num_trucks \n",
        "  # else if the dataset is not batched or if one batch from take is being passed, proceed to counting thing below \n",
        "  else:\n",
        "    print(\" ** Dataset is batched, please pass 1 batch at a time to cifar10 to see metrics ** \")\n",
        "\n",
        "\n",
        "\n",
        "  \n",
        "\n",
        "\n"
      ],
      "execution_count": 7,
      "outputs": []
    },
    {
      "cell_type": "code",
      "metadata": {
        "colab": {
          "base_uri": "https://localhost:8080/",
          "height": 534
        },
        "id": "ynZzq-p_yOIS",
        "outputId": "3cbb25db-73b9-4886-ddb9-2971450ce476"
      },
      "source": [
        "#@title ShowExamplesofDatasetAirplanes\n",
        "## Tfds.show_examples is a matplotlib funnction that only works on image ds's, and you have to pass it the \"info\" for some reason\n",
        "fig = tfds.show_examples(dataset_airplanes, info)"
      ],
      "execution_count": 8,
      "outputs": [
        {
          "output_type": "display_data",
          "data": {
            "image/png": "[encoded data removed]",
            "text/plain": [
              "<Figure size 648x648 with 9 Axes>"
            ]
          },
          "metadata": {}
        }
      ]
    },
    {
      "cell_type": "markdown",
      "metadata": {
        "id": "OtKKnPKjgfuA"
      },
      "source": [
        "How to display one picture of a dataset using `next(iter(dataset)`"
      ]
    },
    {
      "cell_type": "code",
      "metadata": {
        "id": "3ttHjk8vAYM1",
        "colab": {
          "base_uri": "https://localhost:8080/",
          "height": 298
        },
        "outputId": "bb66a72f-597c-4b85-993c-52c0a1cd8055"
      },
      "source": [
        "#@title ShowExampleofOneIterations of DatasetDogs\n",
        "# I wish I could display ID!!\n",
        "\n",
        "img, label = next(iter(dataset_dogs))\n",
        "plt.title(str(label))\n",
        "plt.imshow(img)\n",
        "\n",
        "#0x7f6e309eff10?\n"
      ],
      "execution_count": 9,
      "outputs": [
        {
          "output_type": "execute_result",
          "data": {
            "text/plain": [
              "<matplotlib.image.AxesImage at 0x7fa01664a290>"
            ]
          },
          "metadata": {},
          "execution_count": 9
        },
        {
          "output_type": "display_data",
          "data": {
            "image/png": "[encoded data removed]",
            "text/plain": [
              "<Figure size 432x288 with 1 Axes>"
            ]
          },
          "metadata": {
            "needs_background": "light"
          }
        }
      ]
    },
    {
      "cell_type": "markdown",
      "metadata": {
        "id": "BEik6FQDblAg"
      },
      "source": [
        "# Create validation set of 10,000 images"
      ]
    },
    {
      "cell_type": "code",
      "metadata": {
        "id": "87dfHTIEbp4K"
      },
      "source": [
        "#@title\n",
        "# I want 10 un replicated samples from dataset_airplanes + dataset_automobiles... dataset_trucks.\n",
        "\n",
        "# There are 5000 images of each Class \n",
        "# I want 10 equal sets A, B, C, D, ... J plus a validation set\n",
        "# I want 10,000 total images in the validation set with 1000 of each class\n",
        "# and I want 10 sets of training images  4000 total images, so 400 images in each class\n",
        "\n",
        "N = 1000\n",
        "dataset_airplanes_val   = dataset_airplanes.take(N)\n",
        "dataset_automobiles_val  = dataset_automobiles.take(N)\n",
        "dataset_birds_val       = dataset_birds.take(N)  \n",
        "dataset_cats_val        = dataset_cats.take(N)\n",
        "dataset_deers_val       = dataset_deers.take(N)\n",
        "dataset_dogs_val        = dataset_dogs.take(N)\n",
        "dataset_frogs_val       = dataset_frogs.take(N)\n",
        "dataset_horses_val      = dataset_horses.take(N)\n",
        "dataset_ships_val       = dataset_ships.take(N)\n",
        "dataset_trucks_val      = dataset_trucks.take(N)\n",
        "\n",
        "\n",
        "# Make sure to skip the next 1000 images in each data set before making training set\n",
        "dataset_airplanes   = dataset_airplanes.skip(N)\n",
        "dataset_automobiles  = dataset_automobiles.skip(N)\n",
        "dataset_birds      = dataset_birds.skip(N)  \n",
        "dataset_cats        = dataset_cats.skip(N)\n",
        "dataset_deers       = dataset_deers.skip(N)\n",
        "dataset_dogs        = dataset_dogs.skip(N)\n",
        "dataset_frogs       = dataset_frogs.skip(N)\n",
        "dataset_horses      = dataset_horses.skip(N)\n",
        "dataset_ships       = dataset_ships.skip(N)\n",
        "dataset_trucks      = dataset_trucks.skip(N)\n",
        "\n",
        "# # Check that remaining dataset does not have validation data\n",
        "# fig = tfds.show_examples(dataset_ships, info)\n",
        "# fig = tfds.show_examples(dataset_ships_val, info)\n",
        "# # I checked and they dont.\n",
        "\n",
        "\n",
        "# NOW, How do I combine my val sets?\n",
        "\n",
        "# Hint1 its not this... \n",
        "# val = dataset_airplanes_val + dataset_automobile_val + dataset_birds_val\n",
        "\n",
        "# #  Hint2 its also not this implementation of zip because the info file doesn't match it\n",
        "# val = tf.data.Dataset.zip((dataset_airplanes_val,\n",
        "#                     dataset_automobile_val,\n",
        "#                     dataset_birds_val,\n",
        "#                     dataset_cats_val,\n",
        "#                     dataset_deers_val,\n",
        "#                     dataset_dogs_val,\n",
        "#                     dataset_frogs_val,\n",
        "#                     dataset_horses_val,\n",
        "#                     dataset_ships_val,\n",
        "#                     dataset_trucks_val ))\n",
        " \n",
        "# fig = tfds.show_examples(val, info)   # Returns a warning that the info file is not compatible\n",
        "\n",
        "\n",
        "# is it concatenate? YESSSSSSSSSSSSSSSSSSSSSS\n",
        "val = dataset_airplanes_val.concatenate(dataset_automobiles_val)\n",
        "# This is how I checked that it worked\n",
        "# fig = tfds.show_examples(val.skip(999), info)    # shows 1 airplane and then 8 automobiles\n",
        "\n",
        "val = val.concatenate(dataset_birds_val)\n",
        "val = val.concatenate(dataset_cats_val)\n",
        "val = val.concatenate(dataset_deers_val)\n",
        "val = val.concatenate(dataset_dogs_val)\n",
        "val = val.concatenate(dataset_frogs_val)\n",
        "val = val.concatenate(dataset_horses_val)\n",
        "val = val.concatenate(dataset_ships_val)\n",
        "val = val.concatenate(dataset_trucks_val)\n",
        "  \n",
        "# print(val.reduce(np.int32(0), lambda x,_ : x + 1))  # this shows 10000! Thank goodness! :-)\n",
        "\n"
      ],
      "execution_count": 10,
      "outputs": []
    },
    {
      "cell_type": "markdown",
      "metadata": {
        "id": "HmxMCsLECazK"
      },
      "source": [
        "# Create smaller groups of each CIFAR Class sets (set Shard)"
      ]
    },
    {
      "cell_type": "markdown",
      "metadata": {
        "id": "hKhAHF0aCdUw"
      },
      "source": [
        "After removing the 10,000 validation set from the training-data, the remaining set has 40,000 images, 4000 images of each class.  To create smaller training-datasets of similar sizes, shard the dataset into equal pieces.\n",
        "\n",
        "For the initial days of testing I decided on **250 images** per class for my first couple runs, which equates to 16 shards (40,000/16 = 250) .  When I wanted to study what was going on more beneath the hood for my augmentations, I decided to make the training set even more tiny so I could view all the images per training set I decided to try 1 image per class so I could easily view all the images augmeted and not augmented.  This meant I needed **4000 shards!** for troubleshooting.\n",
        "\n"
      ]
    },
    {
      "cell_type": "code",
      "metadata": {
        "id": "G80Y5fCdwQUu"
      },
      "source": [
        "SHARDS=16"
      ],
      "execution_count": 11,
      "outputs": []
    },
    {
      "cell_type": "markdown",
      "metadata": {
        "id": "0tjDv6PVJ1xs"
      },
      "source": [
        "#### Airplanes (airplanes_A, ... airplanes_P)"
      ]
    },
    {
      "cell_type": "code",
      "metadata": {
        "id": "5Wj9ZwxECc9T"
      },
      "source": [
        "#@title\n",
        "# https://www.tensorflow.org/api_docs/python/tf/data/Dataset#shard\n",
        "\n",
        "# Check that each of the remaining 10 datasets has only 4000 images \n",
        "# print(dataset_airplanes.reduce(np.int32(0), lambda x,_ : x + 1))  # 4000 check!\n",
        "\n",
        "# Shard each of the remaining 10 datasets into 16 smaller groups\n",
        "airplanes_A = dataset_airplanes.shard(num_shards=SHARDS, index = 0)\n",
        "airplanes_B = dataset_airplanes.shard(num_shards=SHARDS, index = 1)\n",
        "airplanes_C = dataset_airplanes.shard(num_shards=SHARDS, index = 2)\n",
        "airplanes_D = dataset_airplanes.shard(num_shards=SHARDS, index = 3)\n",
        "airplanes_E = dataset_airplanes.shard(num_shards=SHARDS, index = 4)\n",
        "airplanes_F = dataset_airplanes.shard(num_shards=SHARDS, index = 5)\n",
        "airplanes_G = dataset_airplanes.shard(num_shards=SHARDS, index = 6)\n",
        "airplanes_H = dataset_airplanes.shard(num_shards=SHARDS, index = 7)\n",
        "airplanes_I = dataset_airplanes.shard(num_shards=SHARDS, index = 8)\n",
        "airplanes_J = dataset_airplanes.shard(num_shards=SHARDS, index = 9)\n",
        "airplanes_K = dataset_airplanes.shard(num_shards=SHARDS, index = 10)\n",
        "airplanes_L = dataset_airplanes.shard(num_shards=SHARDS, index = 11)\n",
        "airplanes_M = dataset_airplanes.shard(num_shards=SHARDS, index = 12)\n",
        "airplanes_N = dataset_airplanes.shard(num_shards=SHARDS, index = 13)\n",
        "airplanes_O = dataset_airplanes.shard(num_shards=SHARDS, index = 14)\n",
        "airplanes_P = dataset_airplanes.shard(num_shards=SHARDS, index = 15)\n",
        "\n",
        "#check that a random airplane dataset only has 250 images\n",
        "# print(airplanes_M.reduce(np.int32(0), lambda x,_ : x + 1))  # 250 check!\n"
      ],
      "execution_count": 12,
      "outputs": []
    },
    {
      "cell_type": "markdown",
      "metadata": {
        "id": "P5xFEsulJy93"
      },
      "source": [
        "#### Automobiles"
      ]
    },
    {
      "cell_type": "code",
      "metadata": {
        "id": "vb9GeTzWJFIx"
      },
      "source": [
        "#@title\n",
        "# dataset_automobile\n",
        "\n",
        "# Check that each of the remaining 10 datasets has only 4000 images \n",
        "# print(dataset_automobile.reduce(np.int32(0), lambda x,_ : x + 1))  # 4000 check!\n",
        "\n",
        "# Shard each of the remaining 10 datasets into 16 smaller groups\n",
        "automobiles_A = dataset_automobiles.shard(num_shards=SHARDS, index = 0)\n",
        "automobiles_B = dataset_automobiles.shard(num_shards=SHARDS, index = 1)\n",
        "automobiles_C = dataset_automobiles.shard(num_shards=SHARDS, index = 2)\n",
        "automobiles_D = dataset_automobiles.shard(num_shards=SHARDS, index = 3)\n",
        "automobiles_E = dataset_automobiles.shard(num_shards=SHARDS, index = 4)\n",
        "automobiles_F = dataset_automobiles.shard(num_shards=SHARDS, index = 5)\n",
        "automobiles_G = dataset_automobiles.shard(num_shards=SHARDS, index = 6)\n",
        "automobiles_H = dataset_automobiles.shard(num_shards=SHARDS, index = 7)\n",
        "automobiles_I = dataset_automobiles.shard(num_shards=SHARDS, index = 8)\n",
        "automobiles_J = dataset_automobiles.shard(num_shards=SHARDS, index = 9)\n",
        "automobiles_K = dataset_automobiles.shard(num_shards=SHARDS, index = 10)\n",
        "automobiles_L = dataset_automobiles.shard(num_shards=SHARDS, index = 11)\n",
        "automobiles_M = dataset_automobiles.shard(num_shards=SHARDS, index = 12)\n",
        "automobiles_N = dataset_automobiles.shard(num_shards=SHARDS, index = 13)\n",
        "automobiles_O = dataset_automobiles.shard(num_shards=SHARDS, index = 14)\n",
        "automobiles_P = dataset_automobiles.shard(num_shards=SHARDS, index = 15)\n",
        "\n",
        "\n",
        "#check that a random airplane dataset only has 250 images\n",
        "# print(airplanes_H.reduce(np.int32(0), lambda x,_ : x + 1))  # 250 check!"
      ],
      "execution_count": 13,
      "outputs": []
    },
    {
      "cell_type": "markdown",
      "metadata": {
        "id": "pTE1qIe4JfjF"
      },
      "source": [
        "#### Birds"
      ]
    },
    {
      "cell_type": "code",
      "metadata": {
        "id": "ps-dQEq1JJzv"
      },
      "source": [
        "#@title\n",
        "# dataset_birds\n",
        "\n",
        "# Shard each of the remaining 10 datasets into 16 smaller groups\n",
        "birds_A = dataset_birds.shard(num_shards=SHARDS, index = 0)\n",
        "birds_B = dataset_birds.shard(num_shards=SHARDS, index = 1)\n",
        "birds_C = dataset_birds.shard(num_shards=SHARDS, index = 2)\n",
        "birds_D = dataset_birds.shard(num_shards=SHARDS, index = 3)\n",
        "birds_E = dataset_birds.shard(num_shards=SHARDS, index = 4)\n",
        "birds_F = dataset_birds.shard(num_shards=SHARDS, index = 5)\n",
        "birds_G = dataset_birds.shard(num_shards=SHARDS, index = 6)\n",
        "birds_H = dataset_birds.shard(num_shards=SHARDS, index = 7)\n",
        "birds_I = dataset_birds.shard(num_shards=SHARDS, index = 8)\n",
        "birds_J = dataset_birds.shard(num_shards=SHARDS, index = 9)\n",
        "birds_K = dataset_birds.shard(num_shards=SHARDS, index = 10)\n",
        "birds_L = dataset_birds.shard(num_shards=SHARDS, index = 11)\n",
        "birds_M = dataset_birds.shard(num_shards=SHARDS, index = 12)\n",
        "birds_N = dataset_birds.shard(num_shards=SHARDS, index = 13)\n",
        "birds_O = dataset_birds.shard(num_shards=SHARDS, index = 14)\n",
        "birds_P = dataset_birds.shard(num_shards=SHARDS, index = 15)\n",
        "\n",
        "#check that a random airplane dataset only has 250 images\n",
        "# print(airplanes_H.reduce(np.int32(0), lambda x,_ : x + 1))  # 250 check!"
      ],
      "execution_count": 14,
      "outputs": []
    },
    {
      "cell_type": "markdown",
      "metadata": {
        "id": "DdGfixTrKbA5"
      },
      "source": [
        "#### Cats"
      ]
    },
    {
      "cell_type": "code",
      "metadata": {
        "id": "tnjMznpsJksD"
      },
      "source": [
        "#@title\n",
        "# dataset_cats\n",
        "\n",
        "# Shard each of the remaining 10 datasets into 16 smaller groups\n",
        "cats_A = dataset_cats.shard(num_shards=SHARDS, index = 0)\n",
        "cats_B = dataset_cats.shard(num_shards=SHARDS, index = 1)\n",
        "cats_C = dataset_cats.shard(num_shards=SHARDS, index = 2)\n",
        "cats_D = dataset_cats.shard(num_shards=SHARDS, index = 3)\n",
        "cats_E = dataset_cats.shard(num_shards=SHARDS, index = 4)\n",
        "cats_F = dataset_cats.shard(num_shards=SHARDS, index = 5)\n",
        "cats_G = dataset_cats.shard(num_shards=SHARDS, index = 6)\n",
        "cats_H = dataset_cats.shard(num_shards=SHARDS, index = 7)\n",
        "cats_I = dataset_cats.shard(num_shards=SHARDS, index = 8)\n",
        "cats_J = dataset_cats.shard(num_shards=SHARDS, index = 9)\n",
        "cats_K = dataset_cats.shard(num_shards=SHARDS, index = 10)\n",
        "cats_L = dataset_cats.shard(num_shards=SHARDS, index = 11)\n",
        "cats_M = dataset_cats.shard(num_shards=SHARDS, index = 12)\n",
        "cats_N = dataset_cats.shard(num_shards=SHARDS, index = 13)\n",
        "cats_O = dataset_cats.shard(num_shards=SHARDS, index = 14)\n",
        "cats_P = dataset_cats.shard(num_shards=SHARDS, index = 15)\n",
        "#check that a random airplane dataset only has 250 images\n",
        "# print(cats_P.reduce(np.int32(0), lambda x,_ : x + 1))  # 250 check!"
      ],
      "execution_count": 15,
      "outputs": []
    },
    {
      "cell_type": "markdown",
      "metadata": {
        "id": "D5xWq3xTJ6Ju"
      },
      "source": [
        "#### Deer(s)"
      ]
    },
    {
      "cell_type": "code",
      "metadata": {
        "id": "gGOQ4VJuJ6gG",
        "cellView": "form"
      },
      "source": [
        "#@title\n",
        "# dataset_deers\n",
        "# Shard each of the remaining 10 datasets into 16 smaller groups\n",
        "deers_A = dataset_deers.shard(num_shards=SHARDS, index = 0)\n",
        "deers_B = dataset_deers.shard(num_shards=SHARDS, index = 1)\n",
        "deers_C = dataset_deers.shard(num_shards=SHARDS, index = 2)\n",
        "deers_D = dataset_deers.shard(num_shards=SHARDS, index = 3)\n",
        "deers_E = dataset_deers.shard(num_shards=SHARDS, index = 4)\n",
        "deers_F = dataset_deers.shard(num_shards=SHARDS, index = 5)\n",
        "deers_G = dataset_deers.shard(num_shards=SHARDS, index = 6)\n",
        "deers_H = dataset_deers.shard(num_shards=SHARDS, index = 7)\n",
        "deers_I = dataset_deers.shard(num_shards=SHARDS, index = 8)\n",
        "deers_J = dataset_deers.shard(num_shards=SHARDS, index = 9)\n",
        "deers_K = dataset_deers.shard(num_shards=SHARDS, index = 10)\n",
        "deers_L = dataset_deers.shard(num_shards=SHARDS, index = 11)\n",
        "deers_M = dataset_deers.shard(num_shards=SHARDS, index = 12)\n",
        "deers_N = dataset_deers.shard(num_shards=SHARDS, index = 13)\n",
        "deers_O = dataset_deers.shard(num_shards=SHARDS, index = 14)\n",
        "deers_P = dataset_deers.shard(num_shards=SHARDS, index = 15)\n",
        "#check that a random airplane dataset only has 250 images\n",
        "# print(deers_H.reduce(np.int32(0), lambda x,_ : x + 1))  # 250 check!"
      ],
      "execution_count": 16,
      "outputs": []
    },
    {
      "cell_type": "code",
      "metadata": {
        "id": "EFe8-QmBciLO",
        "cellView": "form"
      },
      "source": [
        "#@title\n"
      ],
      "execution_count": 17,
      "outputs": []
    },
    {
      "cell_type": "code",
      "metadata": {
        "id": "BOzrkr1kciEO",
        "cellView": "form"
      },
      "source": [
        "#@title\n"
      ],
      "execution_count": 18,
      "outputs": []
    },
    {
      "cell_type": "markdown",
      "metadata": {
        "id": "byU1ZKdQJ754"
      },
      "source": [
        "#### Dogs"
      ]
    },
    {
      "cell_type": "code",
      "metadata": {
        "id": "eAIsVACaJ8dr",
        "cellView": "form"
      },
      "source": [
        "#@title\n",
        "# dataset_dogs\n",
        "# Shard each of the remaining 10 datasets into 16 smaller groups\n",
        "dogs_A = dataset_dogs.shard(num_shards=SHARDS, index = 0)\n",
        "dogs_B = dataset_dogs.shard(num_shards=SHARDS, index = 1)\n",
        "dogs_C = dataset_dogs.shard(num_shards=SHARDS, index = 2)\n",
        "dogs_D = dataset_dogs.shard(num_shards=SHARDS, index = 3)\n",
        "dogs_E = dataset_dogs.shard(num_shards=SHARDS, index = 4)\n",
        "dogs_F = dataset_dogs.shard(num_shards=SHARDS, index = 5)\n",
        "dogs_G = dataset_dogs.shard(num_shards=SHARDS, index = 6)\n",
        "dogs_H = dataset_dogs.shard(num_shards=SHARDS, index = 7)\n",
        "dogs_I = dataset_dogs.shard(num_shards=SHARDS, index = 8)\n",
        "dogs_J = dataset_dogs.shard(num_shards=SHARDS, index = 9)\n",
        "dogs_K = dataset_dogs.shard(num_shards=SHARDS, index = 10)\n",
        "dogs_L = dataset_dogs.shard(num_shards=SHARDS, index = 11)\n",
        "dogs_M = dataset_dogs.shard(num_shards=SHARDS, index = 12)\n",
        "dogs_N = dataset_dogs.shard(num_shards=SHARDS, index = 13)\n",
        "dogs_O = dataset_dogs.shard(num_shards=SHARDS, index = 14)\n",
        "dogs_P = dataset_dogs.shard(num_shards=SHARDS, index = 15)\n",
        "\n",
        "#check that a random airplane dataset only has 250 images\n",
        "# print(dogs_H.reduce(np.int32(0), lambda x,_ : x + 1))  # 250 check!\n"
      ],
      "execution_count": 19,
      "outputs": []
    },
    {
      "cell_type": "markdown",
      "metadata": {
        "id": "Dw-8AHERJ90m"
      },
      "source": [
        "#### Frogs"
      ]
    },
    {
      "cell_type": "code",
      "metadata": {
        "id": "sP7uUGF6J-th",
        "cellView": "form"
      },
      "source": [
        "#@title\n",
        "# dataset_frogs\n",
        "# Shard each of the remaining 10 datasets into 16 smaller groups\n",
        "frogs_A = dataset_frogs.shard(num_shards=SHARDS, index = 0)\n",
        "frogs_B = dataset_frogs.shard(num_shards=SHARDS, index = 1)\n",
        "frogs_C = dataset_frogs.shard(num_shards=SHARDS, index = 2)\n",
        "frogs_D = dataset_frogs.shard(num_shards=SHARDS, index = 3)\n",
        "frogs_E = dataset_frogs.shard(num_shards=SHARDS, index = 4)\n",
        "frogs_F = dataset_frogs.shard(num_shards=SHARDS, index = 5)\n",
        "frogs_G = dataset_frogs.shard(num_shards=SHARDS, index = 6)\n",
        "frogs_H = dataset_frogs.shard(num_shards=SHARDS, index = 7)\n",
        "frogs_I = dataset_frogs.shard(num_shards=SHARDS, index = 8)\n",
        "frogs_J = dataset_frogs.shard(num_shards=SHARDS, index = 9)\n",
        "frogs_K = dataset_frogs.shard(num_shards=SHARDS, index = 10)\n",
        "frogs_L = dataset_frogs.shard(num_shards=SHARDS, index = 11)\n",
        "frogs_M = dataset_frogs.shard(num_shards=SHARDS, index = 12)\n",
        "frogs_N = dataset_frogs.shard(num_shards=SHARDS, index = 13)\n",
        "frogs_O = dataset_frogs.shard(num_shards=SHARDS, index = 14)\n",
        "frogs_P = dataset_frogs.shard(num_shards=SHARDS, index = 15)\n",
        "#check that a random airplane dataset only has 250 images\n",
        "# print(frogs_A.reduce(np.int32(0), lambda x,_ : x + 1))  # 250 check!"
      ],
      "execution_count": 20,
      "outputs": []
    },
    {
      "cell_type": "markdown",
      "metadata": {
        "id": "5ON5smYaKAZb"
      },
      "source": [
        "#### Horses"
      ]
    },
    {
      "cell_type": "code",
      "metadata": {
        "id": "UJuMDMT9KAvX",
        "cellView": "form"
      },
      "source": [
        "#@title\n",
        "# dataset_horses\n",
        "# Shard each of the remaining 10 datasets into 16 smaller groups\n",
        "horses_A = dataset_horses.shard(num_shards=SHARDS, index = 0)\n",
        "horses_B = dataset_horses.shard(num_shards=SHARDS, index = 1)\n",
        "horses_C = dataset_horses.shard(num_shards=SHARDS, index = 2)\n",
        "horses_D = dataset_horses.shard(num_shards=SHARDS, index = 3)\n",
        "horses_E = dataset_horses.shard(num_shards=SHARDS, index = 4)\n",
        "horses_F = dataset_horses.shard(num_shards=SHARDS, index = 5)\n",
        "horses_G = dataset_horses.shard(num_shards=SHARDS, index = 6)\n",
        "horses_H = dataset_horses.shard(num_shards=SHARDS, index = 7)\n",
        "horses_I = dataset_horses.shard(num_shards=SHARDS, index = 8)\n",
        "horses_J = dataset_horses.shard(num_shards=SHARDS, index = 9)\n",
        "horses_K = dataset_horses.shard(num_shards=SHARDS, index = 10)\n",
        "horses_L = dataset_horses.shard(num_shards=SHARDS, index = 11)\n",
        "horses_M = dataset_horses.shard(num_shards=SHARDS, index = 12)\n",
        "horses_N = dataset_horses.shard(num_shards=SHARDS, index = 13)\n",
        "horses_O = dataset_horses.shard(num_shards=SHARDS, index = 14)\n",
        "horses_P = dataset_horses.shard(num_shards=SHARDS, index = 15)\n",
        "#check that a random airplane dataset only has 250 images\n",
        "# print(horses_H.reduce(np.int32(0), lambda x,_ : x + 1))  # 250 check!"
      ],
      "execution_count": 21,
      "outputs": []
    },
    {
      "cell_type": "markdown",
      "metadata": {
        "id": "yWcxJta7KBxY"
      },
      "source": [
        "#### Ships"
      ]
    },
    {
      "cell_type": "code",
      "metadata": {
        "id": "d375MfgdKCJM",
        "cellView": "form"
      },
      "source": [
        "#@title\n",
        "# dataset_ships\n",
        "# Shard each of the remaining 10 datasets into 16 smaller groups\n",
        "ships_A = dataset_ships.shard(num_shards=SHARDS, index = 0)\n",
        "ships_B = dataset_ships.shard(num_shards=SHARDS, index = 1)\n",
        "ships_C = dataset_ships.shard(num_shards=SHARDS, index = 2)\n",
        "ships_D = dataset_ships.shard(num_shards=SHARDS, index = 3)\n",
        "ships_E = dataset_ships.shard(num_shards=SHARDS, index = 4)\n",
        "ships_F = dataset_ships.shard(num_shards=SHARDS, index = 5)\n",
        "ships_G = dataset_ships.shard(num_shards=SHARDS, index = 6)\n",
        "ships_H = dataset_ships.shard(num_shards=SHARDS, index = 7)\n",
        "ships_I = dataset_ships.shard(num_shards=SHARDS, index = 8)\n",
        "ships_J = dataset_ships.shard(num_shards=SHARDS, index = 9)\n",
        "ships_K = dataset_ships.shard(num_shards=SHARDS, index = 10)\n",
        "ships_L = dataset_ships.shard(num_shards=SHARDS, index = 11)\n",
        "ships_M = dataset_ships.shard(num_shards=SHARDS, index = 12)\n",
        "ships_N = dataset_ships.shard(num_shards=SHARDS, index = 13)\n",
        "ships_O = dataset_ships.shard(num_shards=SHARDS, index = 14)\n",
        "ships_P = dataset_ships.shard(num_shards=SHARDS, index = 15)\n",
        "#check that a random airplane dataset only has 250 images\n",
        "# print(ships_H.reduce(np.int32(0), lambda x,_ : x + 1))  # 250 check!"
      ],
      "execution_count": 22,
      "outputs": []
    },
    {
      "cell_type": "markdown",
      "metadata": {
        "id": "4SFGmpwtKGLB"
      },
      "source": [
        "#### Trucks\n"
      ]
    },
    {
      "cell_type": "code",
      "metadata": {
        "id": "uLvmyTf7KIEI",
        "cellView": "form"
      },
      "source": [
        "#@title\n",
        "# dataset_trucks\n",
        "# Shard each of the remaining 10 datasets into 16 smaller groups\n",
        "trucks_A = dataset_trucks.shard(num_shards=SHARDS, index = 0)\n",
        "trucks_B = dataset_trucks.shard(num_shards=SHARDS, index = 1)\n",
        "trucks_C = dataset_trucks.shard(num_shards=SHARDS, index = 2)\n",
        "trucks_D = dataset_trucks.shard(num_shards=SHARDS, index = 3)\n",
        "trucks_E = dataset_trucks.shard(num_shards=SHARDS, index = 4)\n",
        "trucks_F = dataset_trucks.shard(num_shards=SHARDS, index = 5)\n",
        "trucks_G = dataset_trucks.shard(num_shards=SHARDS, index = 6)\n",
        "trucks_H = dataset_trucks.shard(num_shards=SHARDS, index = 7)\n",
        "trucks_I = dataset_trucks.shard(num_shards=SHARDS, index = 8)\n",
        "trucks_J = dataset_trucks.shard(num_shards=SHARDS, index = 9)\n",
        "trucks_K = dataset_trucks.shard(num_shards=SHARDS, index = 10)\n",
        "trucks_L = dataset_trucks.shard(num_shards=SHARDS, index = 11)\n",
        "trucks_M = dataset_trucks.shard(num_shards=SHARDS, index = 12)\n",
        "trucks_N = dataset_trucks.shard(num_shards=SHARDS, index = 13)\n",
        "trucks_O = dataset_trucks.shard(num_shards=SHARDS, index = 14)\n",
        "trucks_P = dataset_trucks.shard(num_shards=SHARDS, index = 15)\n",
        "\n",
        "\n",
        "#check that a random airplane dataset only has 250 images\n",
        "# print(trucks_H.reduce(np.int32(0), lambda x,_ : x + 1))  # 250 check!\n"
      ],
      "execution_count": 23,
      "outputs": []
    },
    {
      "cell_type": "markdown",
      "metadata": {
        "id": "LwI8YY2tKDF1"
      },
      "source": [
        "# Concatenate the smaller CIFAR classes sets into 10 independent small  training Groups: \n",
        "\n",
        "This is the `train_A`, `train_B`, `train_C`... `train_J`  datasets of 1 image each class, 10 images total, currently ao 11/10/21. and will be updated to  whatever the current SHARD is later"
      ]
    },
    {
      "cell_type": "markdown",
      "metadata": {
        "id": "CwwqykvrPuO2"
      },
      "source": [
        "#### Group A  (train_A)"
      ]
    },
    {
      "cell_type": "code",
      "metadata": {
        "id": "0gJxRkApP25H",
        "colab": {
          "base_uri": "https://localhost:8080/"
        },
        "outputId": "e4cb015c-afe8-47ca-f06f-9c6dfdda3dfe"
      },
      "source": [
        "#@title\n",
        "# {A}\n",
        "X = birds_A, cats_A, deers_A, dogs_A, frogs_A, horses_A, ships_A, trucks_A\n",
        "train_A = airplanes_A.concatenate(automobiles_A)\n",
        "\n",
        "for i in list(X):\n",
        "  train_A = train_A.concatenate(i) \n",
        "\n",
        "print(train_A.reduce(np.int32(0), lambda x,_ : x + 1))  # 250*10 = 2500? "
      ],
      "execution_count": 24,
      "outputs": [
        {
          "output_type": "stream",
          "name": "stdout",
          "text": [
            "tf.Tensor(2500, shape=(), dtype=int32)\n"
          ]
        }
      ]
    },
    {
      "cell_type": "markdown",
      "metadata": {
        "id": "luuwRmSrP25F"
      },
      "source": [
        "#### Group B"
      ]
    },
    {
      "cell_type": "code",
      "metadata": {
        "id": "WTTCjd8nQoIL"
      },
      "source": [
        "#@title\n",
        "# {B}\n",
        "X = birds_B, cats_B, deers_B, dogs_B, frogs_B, horses_B, ships_B, trucks_B\n",
        "train_B = airplanes_B.concatenate(automobiles_B)\n",
        "\n",
        "for i in list(X):\n",
        "  train_B = train_B.concatenate(i)\n",
        "\n",
        "# print(train_B.reduce(np.int32(0), lambda x,_ : x + 1))  # 250*10 = 2500? "
      ],
      "execution_count": 25,
      "outputs": []
    },
    {
      "cell_type": "markdown",
      "metadata": {
        "id": "PkxiQUTmSnAV"
      },
      "source": [
        "#### Group C"
      ]
    },
    {
      "cell_type": "code",
      "metadata": {
        "id": "9Klir_U7SnAW",
        "cellView": "form"
      },
      "source": [
        "#@title\n",
        "# {C}\n",
        "X = birds_C, cats_C, deers_C, dogs_C, frogs_C, horses_C, ships_C, trucks_C\n",
        "train_C = airplanes_C.concatenate(automobiles_C)\n",
        "\n",
        "for i in list(X):\n",
        "  train_C = train_C.concatenate(i)\n",
        "\n",
        "# print(train_C.reduce(np.int32(0), lambda x,_ : x + 1))  # 250*10 = 2500? "
      ],
      "execution_count": 26,
      "outputs": []
    },
    {
      "cell_type": "markdown",
      "metadata": {
        "id": "-4hb8nQ-Rl9X"
      },
      "source": [
        "#### Group D"
      ]
    },
    {
      "cell_type": "code",
      "metadata": {
        "id": "S2y1elhgRl9Y",
        "cellView": "form"
      },
      "source": [
        "#@title\n",
        "# {D}\n",
        "X = birds_D, cats_D, deers_D, dogs_D, frogs_D, horses_D, ships_D, trucks_D\n",
        "train_D = airplanes_D.concatenate(automobiles_D)\n",
        "\n",
        "for i in list(X):\n",
        "  train_D = train_D.concatenate(i)\n",
        "\n",
        "# print(train_D.reduce(np.int32(0), lambda x,_ : x + 1))  # 250*10 = 2500? "
      ],
      "execution_count": 27,
      "outputs": []
    },
    {
      "cell_type": "markdown",
      "metadata": {
        "id": "E0HfSJz2RmXZ"
      },
      "source": [
        "#### Group E"
      ]
    },
    {
      "cell_type": "code",
      "metadata": {
        "id": "6wCvrPzGRmXa",
        "cellView": "form"
      },
      "source": [
        "#@title\n",
        "# {E}\n",
        "X = birds_E, cats_E, deers_E, dogs_E, frogs_E, horses_E, ships_E, trucks_E\n",
        "train_E = airplanes_E.concatenate(automobiles_E)\n",
        "\n",
        "for i in list(X):\n",
        "  train_E = train_E.concatenate(i)\n",
        "\n",
        "# print(train_E.reduce(np.int32(0), lambda x,_ : x + 1))  # 250*10 = 2500? "
      ],
      "execution_count": 28,
      "outputs": []
    },
    {
      "cell_type": "markdown",
      "metadata": {
        "id": "WORh3NGSRmyc"
      },
      "source": [
        "#### Group F"
      ]
    },
    {
      "cell_type": "code",
      "metadata": {
        "id": "2Ljtuh44Rmye",
        "cellView": "form"
      },
      "source": [
        "#@title\n",
        "# {F}\n",
        "X = birds_F, cats_F, deers_F, dogs_F, frogs_F, horses_F, ships_F, trucks_F\n",
        "train_F = airplanes_F.concatenate(automobiles_F)\n",
        "\n",
        "for i in list(X):\n",
        "  train_F = train_F.concatenate(i)\n",
        "\n",
        "# print(train_F.reduce(np.int32(0), lambda x,_ : x + 1))  # 250*10 = 2500? "
      ],
      "execution_count": 29,
      "outputs": []
    },
    {
      "cell_type": "markdown",
      "metadata": {
        "id": "d8VA6XYARnM1"
      },
      "source": [
        "#### Group G"
      ]
    },
    {
      "cell_type": "code",
      "metadata": {
        "id": "VBbGNULkRnM2",
        "cellView": "form"
      },
      "source": [
        "#@title\n",
        "# {G}\n",
        "X = birds_G, cats_G, deers_G, dogs_G, frogs_G, horses_G, ships_G, trucks_G\n",
        "train_G = airplanes_G.concatenate(automobiles_G)\n",
        "\n",
        "for i in list(X):\n",
        "  train_G = train_G.concatenate(i)\n",
        "\n",
        "# print(train_G.reduce(np.int32(0), lambda x,_ : x + 1))  # 250*10 = 2500? "
      ],
      "execution_count": 30,
      "outputs": []
    },
    {
      "cell_type": "markdown",
      "metadata": {
        "id": "EdiZ0V7hRniQ"
      },
      "source": [
        "#### Group H"
      ]
    },
    {
      "cell_type": "code",
      "metadata": {
        "id": "54IwvzgFRniS",
        "cellView": "form"
      },
      "source": [
        "#@title\n",
        "# {H}\n",
        "X = birds_H, cats_H, deers_H, dogs_H, frogs_H, horses_H, ships_H, trucks_H\n",
        "train_H = airplanes_H.concatenate(automobiles_H)\n",
        "\n",
        "for i in list(X):\n",
        "  train_H = train_H.concatenate(i)\n",
        "\n",
        "# print(train_H.reduce(np.int32(0), lambda x,_ : x + 1))  # 250*10 = 2500? "
      ],
      "execution_count": 31,
      "outputs": []
    },
    {
      "cell_type": "markdown",
      "metadata": {
        "id": "1wxeC_c1Rn2p"
      },
      "source": [
        "#### Group I"
      ]
    },
    {
      "cell_type": "code",
      "metadata": {
        "id": "nGwKPcTfRn2p",
        "cellView": "form"
      },
      "source": [
        "#@title\n",
        "# {I}\n",
        "X = birds_I, cats_I, deers_I, dogs_I, frogs_I, horses_I, ships_I, trucks_I\n",
        "train_I = airplanes_I.concatenate(automobiles_I)\n",
        "\n",
        "for i in list(X):\n",
        "  train_I = train_I.concatenate(i)\n",
        "\n",
        "# print(train_I.reduce(np.int32(0), lambda x,_ : x + 1))  # 250*10 = 2500? "
      ],
      "execution_count": 32,
      "outputs": []
    },
    {
      "cell_type": "markdown",
      "metadata": {
        "id": "vSNbzIxdRoMH"
      },
      "source": [
        "#### Group J"
      ]
    },
    {
      "cell_type": "code",
      "metadata": {
        "id": "mFIUW6_mRoMJ"
      },
      "source": [
        "#@title\n",
        "# {J}\n",
        "X = birds_J, cats_J, deers_J, dogs_J, frogs_J, horses_J, ships_J, trucks_J\n",
        "train_J = airplanes_J.concatenate(automobiles_J)\n",
        "\n",
        "for i in list(X):\n",
        "  train_J = train_J.concatenate(i)\n",
        "\n",
        "# print(train_J.reduce(np.int32(0), lambda x,_ : x + 1))  # 250*10 = 2500? "
      ],
      "execution_count": 33,
      "outputs": []
    },
    {
      "cell_type": "markdown",
      "metadata": {
        "id": "298U3AeMyn9W"
      },
      "source": [
        "Testing out whether I can see IDs again...\n",
        "\n",
        "I added some code before the lines to load dataset, they are as follows#\n",
        "from https://www.tensorflow.org/datasets/api_docs/python/tfds/load#args\n",
        "and https://www.tensorflow.org/datasets/determinism\n",
        "\n",
        "\n",
        "\n",
        "> read_config code added\n",
        "\n",
        "\n",
        "```\n",
        "read_config = tfds.ReadConfig(shuffle_seed=seed) \n",
        "read_config.add_tfds_id = True\n",
        "dataset, info = tfds.load('cifar10', as_supervised=True, with_info=True, read_config=read_config)\n",
        "```\n",
        "\n",
        "\n",
        "I want to make sure the rest of my scripts run fine before any more tinkering!"
      ]
    },
    {
      "cell_type": "code",
      "metadata": {
        "id": "YSsxbkpoUSfF"
      },
      "source": [
        "# # I believe I need to define the shuffle number for the Train_A set by using the total number of images in it, not just an arbitrarily large number?\n",
        "# # count = count_images(train_A)\n",
        "# # unbatch_train_A = (tf.data.Dataset.unbatch(train_A))\n",
        "# # count = count_images(unbatch_train_A)\n",
        "\n",
        "# #this changes everytime i run it\n",
        "\n",
        "# # for id, img, label in unbatch_train_A:\n",
        "# #   print(label)  # this appears to be the labels of the image in unbatchtrain_A (7, 6, 4, 2, 1, 3, 9, 5, 8, 0)\n",
        "# #   #print(img)  # these are each of the images 32*32*3\n",
        "# #   print(id)\n",
        " \n",
        "# tfds.as_dataframe(dataset.take(5), info)  #it doesn't look like IDS is being returned in info\n",
        "\n",
        "# print(info)\n"
      ],
      "execution_count": 34,
      "outputs": []
    },
    {
      "cell_type": "markdown",
      "metadata": {
        "id": "etYZhc53P0bq"
      },
      "source": [
        "### Adding Batches, Buffers, Shuffles and Caches to Val, Test, and Train_A"
      ]
    },
    {
      "cell_type": "markdown",
      "metadata": {
        "id": "ejCVXsygP4Pp"
      },
      "source": [
        "The following is necessary to run the datasets through the CNN models  Do not run the following more than once because it'll try to make an additional \"batch\" dimension in your datasets"
      ]
    },
    {
      "cell_type": "markdown",
      "metadata": {
        "id": "X20oBf8sjOp0"
      },
      "source": [
        "The result of running `print(info)`:\n",
        "\n",
        "> CIFAR10 Info\n",
        "```\n",
        "tfds.core.DatasetInfo(    \n",
        "    name='cifar10',\n",
        "    version=3.0.2,    \n",
        "    description='The CIFAR-10 dataset consists of 60000 32x32 colour images in 10 classes, with 6000 images per class. There are 50000 training images and 10000 test images.',   \n",
        "    homepage='https://www.cs.toronto.edu/~kriz/cifar.html',   \n",
        "    features=FeaturesDict({   \n",
        "        'id': Text(shape=(), dtype=tf.string),   \n",
        "        'image': Image(shape=(32, 32, 3), dtype=tf.uint8),   \n",
        "        'label': ClassLabel(shape=(), dtype=tf.int64, num_classes=10),   \n",
        "    }),   \n",
        "    total_num_examples=60000,   \n",
        "    splits={   \n",
        "        'test': 10000,   \n",
        "        'train': 50000,   \n",
        "    },   \n",
        "    supervised_keys=('image', 'label'),   \n",
        "    citation=\"\"\"@TECHREPORT{Krizhevsky09learningmultiple,   \n",
        "        author = {Alex Krizhevsky},   \n",
        "        title = {Learning multiple layers of features from tiny images},   \n",
        "        institution = {},  \n",
        "        year = {2009}   \n",
        "    }\"\"\",   \n",
        "    redistribution_info=,   \n",
        ")\n",
        "```\n",
        " \n",
        "\n",
        "\n"
      ]
    },
    {
      "cell_type": "code",
      "metadata": {
        "id": "v5NwdQRkwKlR"
      },
      "source": [
        "#@title\n",
        "\n",
        "train_A_shuffle_num = 2500\n",
        "tran_A_batch_num    = 100\n",
        "\n",
        "if initial_run == 0: \n",
        "    \n",
        "  # AUTOTUNE = tf.data.AUTOTUNE # results in -1 which i think is code for the whole database\n",
        "  train_A = train_A.cache().prefetch(buffer_size=AUTOTUNE)\n",
        "  train_A = train_A.shuffle(train_A_shuffle_num, reshuffle_each_iteration=False)  #, seed=seed)\n",
        "  train_A = train_A.batch(tran_A_batch_num)  \n",
        "\n",
        "  val = val.cache().prefetch(buffer_size=AUTOTUNE)\n",
        "  val = val.batch(100)\n",
        "\n",
        "  x_test = x_test.cache().prefetch(AUTOTUNE)\n",
        "  x_test = x_test.batch(500)\n",
        "\n",
        "else:\n",
        "  pass\n",
        "\n",
        "initial_run = initial_run+1"
      ],
      "execution_count": 35,
      "outputs": []
    },
    {
      "cell_type": "markdown",
      "metadata": {
        "id": "os7CGfJqDBvx"
      },
      "source": [
        "#### Time required to create datasets:  "
      ]
    },
    {
      "cell_type": "code",
      "metadata": {
        "colab": {
          "base_uri": "https://localhost:8080/"
        },
        "id": "50FBIXyyDDrP",
        "outputId": "187362ef-0402-4b1d-b97c-1a84775e0f73"
      },
      "source": [
        "\n",
        "toc = time.time()  \n",
        "print(f\"Made datasets in {toc - tic:0.4f} seconds\")\n",
        "!mkdir -p saved_model\n"
      ],
      "execution_count": 36,
      "outputs": [
        {
          "output_type": "stream",
          "name": "stdout",
          "text": [
            "Made datasets in 88.2340 seconds\n"
          ]
        }
      ]
    },
    {
      "cell_type": "markdown",
      "metadata": {
        "id": "do5itWWAwDqU"
      },
      "source": [
        "Get min-max values of dataset to see whata the range is"
      ]
    },
    {
      "cell_type": "code",
      "metadata": {
        "id": "mpnO58gGn066"
      },
      "source": [
        "\n",
        "def get_min_max(tfdata, text):\n",
        "  print(str(text), \"is \", tfdata)\n",
        "  image, _ = next(iter(tfdata))\n",
        "  print(\"test\")\n",
        "  print(np.min(image[0]), np.max(image[0]), \"\\n\")\n",
        "\n",
        "\n",
        "# I've decided to hide the following code, which was merely to let me see what the range of the pixel values were, and it was usually around 2-253 or so\n",
        "# get_min_max(train_A, \"train_A\")\n",
        "# get_min_max(x_test, \"x_test\")\n",
        "# get_min_max(val, \"val\")\n",
        "\n"
      ],
      "execution_count": 37,
      "outputs": []
    },
    {
      "cell_type": "markdown",
      "metadata": {
        "id": "nB7IU7_gv-5q"
      },
      "source": [
        "# Build CNN "
      ]
    },
    {
      "cell_type": "markdown",
      "metadata": {
        "id": "nVyzV4xYiH8-"
      },
      "source": [
        "## Train the model function :\n"
      ]
    },
    {
      "cell_type": "code",
      "metadata": {
        "id": "A0nRfh7aiH9F"
      },
      "source": [
        "#@title Make a Vanilla CNN Function { form-width: \"20px\" }\n",
        "# Make a Vanilla CNN\n",
        "# One thing I'd like to add is residual connections, as Cholet mentions that is a standard practice in computer vision\n",
        "\n",
        "\n",
        "def makemodel(DROPOUT):  #returns model\n",
        "  num_classes = 10\n",
        "  input_shape = (32, 32, 3)\n",
        "\n",
        "  # For Reference these are the defaults\n",
        "  # kernel_initializer=\"glorot_uniform\",\n",
        "  # bias_initializer=\"zeros\",\n",
        "  # padding=\"valid\",  #valid = no padding\n",
        "  # kernel_regularizer=None,\n",
        "  # bias_regularizer=None,\n",
        "  # activity_regularizer=None,\n",
        "\n",
        "  initializer = tf.keras.initializers.HeUniform(seed)  #this alows the model to start from the same weights each time\n",
        "\n",
        "  model = tf.keras.Sequential(\n",
        "  [\n",
        "      #keras.Input(),\n",
        "      tf.keras.Input(shape=input_shape),\n",
        "\n",
        "      layers.experimental.preprocessing.Rescaling(1./255),\n",
        "      #data_augmentation,   \n",
        "      layers.Conv2D(32, kernel_size=(3, 3), activation=\"relu\", kernel_initializer=initializer, name=\"ConvLayer1\"),\n",
        "      layers.MaxPooling2D(pool_size=(2, 2), name=\"MaxPool1\"),\n",
        "      layers.BatchNormalization(name=\"BN1\"),\n",
        "   \n",
        "      layers.Conv2D(64, kernel_size=(3, 3), activation=\"relu\", kernel_initializer=initializer, name=\"ConvLayer2\"),\n",
        "      layers.MaxPooling2D(pool_size=(2, 2), name=\"MaxPool2\"),\n",
        "      layers.BatchNormalization(name=\"BN2\"),\n",
        "   \n",
        "      layers.Conv2D(128, kernel_size=(3, 3), activation=\"relu\", kernel_initializer=initializer, name=\"ConvLayer3\"),\n",
        "      layers.MaxPooling2D(pool_size=(2, 2), name=\"MaxPool3\"),\n",
        "      layers.BatchNormalization(name=\"BN3\"),\n",
        "   \n",
        "      layers.Flatten(),\n",
        "      layers.Dropout(DROPOUT),\n",
        "      layers.Dense(512, activation=\"relu\", kernel_initializer=initializer),\n",
        "      layers.Dropout(DROPOUT),\n",
        "      layers.Dense(num_classes, activation=\"softmax\")\n",
        "\n",
        "  ])\n",
        "\n",
        "\n",
        "  model.compile(\n",
        "    optimizer='adam',\n",
        "    loss=tf.losses.SparseCategoricalCrossentropy(),\n",
        "    metrics=['accuracy'])  #changed, added to val_accuracy\n",
        "  \n",
        "  print(\" ~ ~ ~  List of Run-Specific Parameters  ~ ~ ~ \")\n",
        "  print(\"Dropout:  \", DROPOUT)\n",
        "  model.save_weights('saved_model/blank_model')  # Enables a fresh-restart between runs\n",
        "  model.load_weights('saved_model/blank_model')\n",
        "\n",
        "  return model\n",
        "\n",
        "# -----------------------------------------\n",
        "\n",
        "# I need to understand tf.function better \n",
        "# @tf.function\n",
        "\n",
        "def trainmodel(MODEL, TRAININGDATA):   # returns TRAINEDMODEL\n",
        "\n",
        "  history = MODEL.fit(\n",
        "    TRAININGDATA,\n",
        "    validation_data=(val),\n",
        "    epochs=100,\n",
        "    callbacks = keras.callbacks.EarlyStopping(monitor= 'val_loss', patience=15, restore_best_weights=True), \n",
        "    verbose=0 # \n",
        "  )\n",
        "\n",
        "  #I've entered show plot-loss twice to force another plot to move down the screen\n",
        "  #this code would be improved if i could simply make this appear under /\n",
        "  # the view_images command that displays 10 to 20 images\n",
        "\n",
        "\n",
        "  # # summarize history for loss\n",
        "  # x = 0\n",
        "  # y = 0\n",
        "  # plt.plot(x)\n",
        "  # plt.plot(y)\n",
        "  # plt.show()\n",
        " \n",
        "\n",
        "  # summarize history for loss\n",
        "  plt.plot(history.history['loss'])\n",
        "  plt.plot(history.history['val_loss'])\n",
        "  plt.title('model loss')\n",
        "  plt.ylabel('loss')\n",
        "  plt.xlabel('epoch')\n",
        "  plt.legend(['train', 'val'], loc='upper left')\n",
        "  plt.show()\n",
        "  \n",
        "  plt.plot(history.history['accuracy'])\n",
        "  plt.plot(history.history['val_accuracy'])\n",
        "  plt.title('model accuracy')\n",
        "  plt.ylabel('accuracy')\n",
        "  plt.xlabel('epoch')\n",
        "  plt.legend(['train', 'val'], loc='upper left')\n",
        "  plt.show()\n",
        "\n",
        "  val_acc_array = history.history['val_accuracy']\n",
        "  val_loss_array = history.history['val_loss']\n",
        "\n",
        "  n_epochs_best = np.argmax(val_acc_array)\n",
        "  n_epochs_bestloss = np.argmin(val_loss_array)\n",
        "  print(\"Early-Stop is on Val-Loss with patience = 15\")\n",
        "\n",
        "  \n",
        "  \n",
        "  print(\"Early Stop Epoch was: \", n_epochs_bestloss, \"when  Val Loss was: \", np.min(val_loss_array), \", and Val Acc happened to be\", val_acc_array[n_epochs_bestloss])\n",
        "  print(\"Additionally, the best val acc epoch happened to be \", n_epochs_best, \"when val acc was: \",  val_acc_array[n_epochs_best], \"and Val Loss happened to be \",  val_loss_array[n_epochs_best] )\n",
        "  if (n_epochs_bestloss > 90) or (n_epochs_best >90 ) :\n",
        "    print(\"This is a pretty high epoch number! ********************************\")\n",
        "\n",
        "  # model.save('saved_model/my_model')\n",
        "\n",
        "\n",
        "\n",
        "\n",
        "  return MODEL\n",
        "\n"
      ],
      "execution_count": 224,
      "outputs": []
    },
    {
      "cell_type": "markdown",
      "metadata": {
        "id": "VWDirm_IZxFk"
      },
      "source": [
        "# Transition to Augmentations\n"
      ]
    },
    {
      "cell_type": "code",
      "metadata": {
        "id": "Bz7XO7vMJsKx"
      },
      "source": [
        "#@title Augmentations Timer\n",
        "\n",
        "start_augmentations = time.time()"
      ],
      "execution_count": 96,
      "outputs": []
    },
    {
      "cell_type": "markdown",
      "metadata": {
        "id": "b23a7099"
      },
      "source": [
        "## Prepare the Google Colab environment for Albumentations\n",
        "\n"
      ]
    },
    {
      "cell_type": "markdown",
      "metadata": {
        "id": "0675c0fb"
      },
      "source": [
        "#### Install the latest version of Albumentations"
      ]
    },
    {
      "cell_type": "markdown",
      "metadata": {
        "id": "26f58a5d"
      },
      "source": [
        "Google Colab has an outdated version of Albumentations so we will install the latest stable version from PyPi."
      ]
    },
    {
      "cell_type": "code",
      "metadata": {
        "id": "3d019720"
      },
      "source": [
        "#@title  instal augmentations\n",
        "# !pip install -q -U albumentations\n",
        "# !echo \"$(pip freeze | grep albumentations) is successfully installed\"\n",
        "\n",
        "!pip install -U git+https://github.com/albumentations-team/albumentations -q\n",
        "# necessary imports\n",
        "from functools import partial\n",
        "import albumentations as A\n",
        "import cv2 as cv2\n",
        "\n",
        "import tensorflow as tf\n",
        "AUTOTUNE = tf.data.experimental.AUTOTUNE\n"
      ],
      "execution_count": 97,
      "outputs": []
    },
    {
      "cell_type": "markdown",
      "metadata": {
        "id": "vRuq5Msthyvt"
      },
      "source": [
        "## Define Augmentation Factors' Order and Levels\n",
        "\n",
        "The following are 21 factors: 20 data-augmentation techniques and one regularization factor \"*Dropout*\" Percent Level, to compare with.  The order is what seemed to give each factor the most opportunity to add to the image, and more \"destructive\" factors were ordered later, like \"ToGray\" and Crop or ZoomIn since they take away image data permanently.  Zoom Out was order 11 because I wanted to make sure noise, blur, zoom, sharpen, contrast, did not have a over-magnified effect if after ZoomOut.  FlipHorizontal and FlipVertical are at the bottom not because they are destructive, but because I wanted to keep the categorical variables grouped as much as possible for consistent coding practices."
      ]
    },
    {
      "cell_type": "markdown",
      "metadata": {
        "id": "g6ah5Z3DfzJS"
      },
      "source": [
        "|Order | Factors | Role | Low | High |\n",
        "| -: | :- | :-: | :-: | :-: |\n",
        "1|*dropout*|Continuous|0.4  |0.6\n",
        "2|shiftX|Continuous|0 | 0.1\n",
        "3|shiftY|Continuous|0|  0.1\n",
        "4|noise|Continuous|0  |24\n",
        "5|blur|Continuous|0 | 7**\n",
        "6|sharpen|Continuous|0 | 0.1\n",
        "7|contrast|Continuous|0 | 0.2\n",
        "8|brighten|Continuous|0|  0.2\n",
        "9|darken (negative brightness)|Continuous|0 | -0.2 *\n",
        "10|gamma|Continuous|100|  120\n",
        "11|zoomOut (negative zoomin) |Continuous| 0 | -0.16*\n",
        "12|rotate|Continuous|0|  14\n",
        "13|crop|Continuous|32* | 24*\n",
        "14|zoomin|Continuous|0  |0.16\n",
        "15|flipH|Categorical|0 | 1\n",
        "16|flipV|Categorical|0 | 1\n",
        "17|fancyPCA|Categorical|0 | 1\n",
        "18|equalize|Categorical|0 | 1\n",
        "19|channelShuffle|Categorical|0 | 1\n",
        "20|elasticTransform|Categorical|0 | 1\n",
        "21|togray|Categorical|0 | 1\n",
        "\n",
        "* Values with asterisks are for emphasis since they seem counterintuitive\n",
        "\n",
        "** Blur values can only be odd so a center point will be rounded down from 3.5 to 3 - four center points were changed"
      ]
    },
    {
      "cell_type": "markdown",
      "metadata": {
        "id": "xGOpWE9Rh_0O"
      },
      "source": [
        "A 50-run definitive screening design with 2 blocks is used to see which main effects are most important.  The JMP Metrics for this design are below:"
      ]
    },
    {
      "cell_type": "markdown",
      "metadata": {
        "id": "IY-_TvwTnGUT"
      },
      "source": [
        " | Definitive Screening Design Diagnostics  | | \n",
        "| --- | --- | \n",
        " | D Efficiency| 92.46019| \n",
        "| G Efficiency | 81.68744 | \n",
        "| A Efficiency | 91.32396 | \n",
        "| Average Variance of Prediction\t | 0.298038 |\n"
      ]
    },
    {
      "cell_type": "markdown",
      "metadata": {
        "id": "CWzcz2a7zoUN"
      },
      "source": [
        "## Define Randomized Definitive Screening Design "
      ]
    },
    {
      "cell_type": "markdown",
      "metadata": {
        "id": "wOy-4UxLIygE"
      },
      "source": [
        "**Block 1**\n",
        " \n",
        " xRun|Block|dropout|shiftX|shiftY|noise|blur|sharpen|contrast|brighten|darken|gamma|zoomOut|rotate|crop|zoomin|flipH|flipV|fancyPCA|equalize|channelShuffle|elasticTransform|togray\n",
        ":-| :-| :-| :-| :-| :-| :-| :-| :-| :-| :-| :-| :-| :-| :-| :-| :-| :-| :-| :-| :-| :-| :-\n",
        "1|1|0.4|0.1|0|24|7|0.1|0.2|0.2|-0.2|100|-0.08|14|24|0.16|1|1|0|1|0|1|0\n",
        "2|1|0.4|0.1|0|24|7|0|0|0|0|100|-0.16|0|32|0|1|1|1|1|1|1|0\n",
        "3|1|0.5|0|0|24|7|0.1|0|0.2|-0.2|100|-0.16|14|32|0.16|0|0|0|0|1|0|1\n",
        "4|1|0.4|0|0.1|24|3|0.1|0|0|-0.2|100|0|0|32|0|1|1|0|0|0|1|1\n",
        "5|1|0.6|0|0|0|0|0|0.2|0.2|-0.2|100|0|0|32|0.16|1|1|1|0|1|0|0\n",
        "6|1|0.6|0.1|0|24|0|0.1|0.2|0|-0.2|120|-0.16|0|24|0.08|1|0|1|0|0|1|1\n",
        "7|1|0.4|0|0|0|7|0|0.2|0.2|0|120|0|7|24|0|0|1|0|0|0|1|1\n",
        "8|1|0.4|0.1|0.1|0|0|0.1|0.2|0.2|-0.2|100|0|0|32|0|0|0|1|1|1|1|1\n",
        "9|1|0.6|0|0|24|7|0|0|0|0|120|-0.16|14|24|0.16|1|1|0|0|0|0|0\n",
        "10|1|0.5|0.05|0.05|12|3|0.05|0.1|0.1|-0.1|110|-0.08|7|28|0.08|0|0|0|0|0|0|0\n",
        "11|1|0.4|0|0|24|7|0.1|0.2|0.1|-0.2|120|0|0|24|0|0|0|1|1|1|0|0\n",
        "12|1|0.4|0.1|0.1|24|0|0|0.2|0.2|-0.2|120|-0.16|0|32|0.16|0|1|0|1|0|0|0\n",
        "13|1|0.6|0|0|0|7|0.1|0|0|0|100|0|14|24|0|1|0|1|0|1|1|1\n",
        "14|1|0.6|0.05|0.1|24|7|0.1|0.2|0.2|0|120|0|14|32|0.16|1|1|1|1|1|1|1\n",
        "15|1|0.4|0|0|0|7|0|0|0.2|-0.2|120|-0.16|0|32|0.16|1|0|1|1|0|1|1\n",
        "16|1|0.4|0.05|0|0|0|0|0|0|-0.2|100|-0.16|0|24|0|0|0|0|0|0|0|0\n",
        "17|1|0.4|0.1|0.1|24|7|0.1|0|0|0|120|-0.16|14|24|0|0|0|0|1|0|1|1\n",
        "18|1|0.6|0.1|0.1|24|0|0.1|0|0|-0.2|100|-0.16|7|32|0.16|1|0|1|1|1|0|0\n",
        "19|1|0.6|0|0.1|0|0|0|0|0|0|120|-0.08|0|32|0|0|0|1|0|1|0|1\n",
        "20|1|0.6|0|0.1|0|0|0.1|0.2|0.2|-0.2|120|0|14|24|0.16|0|0|0|0|0|0|1\n",
        "21|1|0.6|0.1|0.1|0|0|0|0|0.1|0|100|-0.16|14|32|0.16|1|1|0|0|0|1|1\n",
        "22|1|0.5|0.05|0.05|12|3|0.05|0.1|0.1|-0.1|110|-0.08|7|28|0.08|1|1|1|1|1|1|1\n",
        "23|1|0.6|0.1|0.1|24|0|0.1|0.2|0|0|100|0|14|24|0|0|1|0|0|1|0|0\n",
        "24|1|0.6|0.1|0|0|3|0|0.2|0.2|0|120|-0.16|14|24|0.16|0|0|1|1|1|0|0\n",
        "25|1|0.5|0.1|0.1|0|0|0|0.2|0|0|120|0|0|24|0|1|1|1|1|0|1|0\n",
        "26|1|0.4|0|0.1|0|7|0|0|0.2|0|100|0|14|32|0.08|0|1|0|1|1|0|0\n"
      ]
    },
    {
      "cell_type": "markdown",
      "metadata": {
        "id": "kXTWOlP2g02W"
      },
      "source": [
        "**Block 2**\n",
        "\n",
        "xRun|Block|dropout|shiftX|shiftY|noise|blur|sharpen|contrast|brighten|darken|gamma|zoomOut|rotate|crop|zoomin|flipH|flipV|fancyPCA|equalize|channelShuffle|elasticTransform|togray\n",
        ":-| :-| :-| :-| :-| :-| :-| :-| :-| :-| :-| :-| :-| :-| :-| :-| :-| :-| :-| :-| :-| :-| :-\n",
        "27|2|0.6|0.1|0|12|6|0.1|0.2|0.2|0|100|-0.16|0|32|0|0|1|1|0|0|0|1\n",
        "28|2|0.6|0.1|0|0|6|0|0.2|0|-0.2|100|0|14|32|0|1|0|0|1|0|0|1\n",
        "29|2|0.4|0|0|24|0|0.05|0.2|0|0|100|0|14|32|0.16|0|0|1|0|0|1|0\n",
        "30|2|0.6|0.1|0|24|0|0|0|0.2|0|100|0|0|24|0.16|0|0|0|1|1|1|1\n",
        "31|2|0.6|0|0.1|24|6|0|0.2|0.2|-0.1|100|-0.16|0|24|0|1|0|0|0|1|1|0\n",
        "32|2|0.6|0|0.1|24|6|0|0.1|0|-0.2|100|0|0|24|0.16|0|1|1|1|0|0|1\n",
        "33|2|0.4|0.1|0.1|0|6|0|0.2|0|-0.2|100|-0.16|14|24|0.16|0|1|1|0|1|1|1\n",
        "34|2|0.4|0|0.1|0|6|0.1|0.2|0|-0.2|120|-0.16|14|32|0|1|1|1|0|0|0|0\n",
        "35|2|0.4|0.1|0.05|24|6|0|0.2|0|0|120|0|0|32|0.16|1|0|0|0|1|0|1\n",
        "36|2|0.6|0|0|24|0|0.1|0|0.2|0|120|0|0|32|0|1|0|0|1|0|0|0\n",
        "37|2|0.6|0.1|0.1|24|6|0|0|0.2|-0.2|120|0|14|32|0|0|0|1|0|0|1|0\n",
        "38|2|0.6|0|0.1|0|6|0.1|0.2|0|0|110|-0.16|0|32|0.16|0|0|0|1|0|1|0\n",
        "39|2|0.6|0|0.05|0|0|0.1|0|0.2|-0.2|100|-0.16|14|24|0|0|1|1|1|0|1|0\n",
        "40|2|0.4|0|0.1|12|0|0|0|0|-0.2|120|0|14|24|0.16|1|0|0|1|1|1|0\n",
        "41|2|0.6|0.1|0.1|0|6|0.05|0|0.2|-0.2|120|-0.16|0|24|0|1|1|0|1|1|0|1\n",
        "42|2|0.4|0|0.1|24|0|0.1|0|0.2|0|120|-0.16|0|24|0.16|0|1|1|0|1|1|0\n",
        "43|2|0.4|0.1|0|0|0|0.1|0.1|0.2|0|120|-0.16|14|32|0|1|0|0|0|1|1|0\n",
        "44|2|0.4|0|0|0|0|0.1|0.2|0|0|100|-0.16|0|24|0.16|1|1|0|1|1|0|1\n",
        "45|2|0.4|0.1|0|0|0|0.1|0|0|-0.1|120|0|14|32|0.16|0|1|1|1|0|0|1\n",
        "46|2|0.4|0.1|0.1|0|6|0.1|0|0.2|0|100|0|0|24|0.16|1|0|1|0|0|0|0\n",
        "47|2|0.4|0|0.1|24|0|0|0.2|0.2|0|100|-0.16|14|28|0|1|0|1|1|0|0|1\n",
        "48|2|0.4|0.1|0|24|0|0|0|0.2|-0.2|110|0|14|24|0|1|1|1|0|1|0|1\n",
        "49|2|0.6|0.1|0|0|6|0.1|0|0|-0.2|120|0|0|28|0.16|0|1|0|0|1|1|0\n",
        "50|2|0.6|0|0|24|0|0|0.2|0|-0.2|120|-0.16|14|32|0|0|1|0|1|1|1|1"
      ]
    },
    {
      "cell_type": "markdown",
      "metadata": {
        "id": "bxI97SD1NF2A"
      },
      "source": [
        "## Create Experimental Run Order DataFrame"
      ]
    },
    {
      "cell_type": "code",
      "metadata": {
        "id": "-vaduYZTNGPI"
      },
      "source": [
        "#@title create run dataframe \n",
        "ls_all_factors = ['xRun', 'Block', 'dropout', 'shiftX', 'shiftY', 'noise', 'blur', 'sharpen', 'contrast', 'brighten', 'darken', 'gamma', 'zoomOut', 'rotate', 'crop', 'zoomin', 'flipH', 'flipV', 'fancyPCA', 'equalize', 'channelShuffle', 'elasticTransform', 'togray']\n",
        "\n",
        "#because i added a do-nothing run, the runs really do start at index zero now, so i have delete some lines in  my for loops about run=run+1\n",
        "\n",
        "\n",
        "df_experimentalruns = pd.DataFrame(\t[\n",
        "[0, 1, 0.5, 0, 0, 0, 0, 0, 0, 0, 0.0, 100, 0, 0, 0, 0, 0, 0, 0, 0, 0, 0, 0], # do nothing run, watch out for mild Gamma effect\n",
        "[1, 1, 0.6, 0, 0, 24, 7, 0, 0, 0, 0.2, 120, 0, 14, 0, 0.16, 1, 1, 0, 0, 0, 0, 0],\n",
        "[2, 1, 0.6, 0.1, 0, 0, 3, 0, 0.2, 0.2, 0.2, 120, 0, 14, 0, 0.16, 0, 0, 1, 1, 1, 0, 0],\n",
        "[3, 1, 0.4, 0.1, 0.1, 0, 0, 0.1, 0.2, 0.2, 0, 100, 0.16, 0, 8, 0, 0, 0, 1, 1, 1, 1, 1],\n",
        "[4, 1, 0.5, 0.05, 0.05, 12, 3, 0.05, 0.1, 0.1, 0.1, 110, 0.08, 7, 4, 0.08, 1, 1, 1, 1, 1, 1, 1],\n",
        "[5, 1, 0.4, 0, 0.1, 0, 7, 0, 0, 0.2, 0.2, 100, 0.16, 14, 8, 0.08, 0, 1, 0, 1, 1, 0, 0],\n",
        "[6, 1, 0.4, 0.1, 0.1, 24, 7, 0.1, 0, 0, 0.2, 120, 0, 14, 0, 0, 0, 0, 0, 1, 0, 1, 1],\n",
        "[7, 1, 0.6, 0.1, 0.1, 24, 0, 0.1, 0, 0, 0, 100, 0, 7, 8, 0.16, 1, 0, 1, 1, 1, 0, 0],\n",
        "[8, 1, 0.4, 0.1, 0, 24, 7, 0, 0, 0, 0.2, 100, 0, 0, 8, 0, 1, 1, 1, 1, 1, 1, 0],\n",
        "[9, 1, 0.5, 0.05, 0.05, 12, 3, 0.05, 0.1, 0.1, 0.1, 110, 0.08, 7, 4, 0.08, 0, 0, 0, 0, 0, 0, 0],\n",
        "[10, 1, 0.5, 0, 0, 24, 7, 0.1, 0, 0.2, 0, 100, 0, 14, 8, 0.16, 0, 0, 0, 0, 1, 0, 1],\n",
        "[11, 1, 0.6, 0, 0, 0, 7, 0.1, 0, 0, 0.2, 100, 0.16, 14, 0, 0, 1, 0, 1, 0, 1, 1, 1],\n",
        "[12, 1, 0.4, 0.1, 0, 24, 7, 0.1, 0.2, 0.2, 0, 100, 0.08, 14, 0, 0.16, 1, 1, 0, 1, 0, 1, 0],\n",
        "[13, 1, 0.6, 0, 0.1, 0, 0, 0, 0, 0, 0.2, 120, 0.08, 0, 8, 0, 0, 0, 1, 0, 1, 0, 1],\n",
        "[14, 1, 0.4, 0.05, 0, 0, 0, 0, 0, 0, 0, 100, 0, 0, 0, 0, 0, 0, 0, 0, 0, 0, 0],\n",
        "[15, 1, 0.6, 0.05, 0.1, 24, 7, 0.1, 0.2, 0.2, 0.2, 120, 0.16, 14, 8, 0.16, 1, 1, 1, 1, 1, 1, 1],\n",
        "[16, 1, 0.4, 0, 0.1, 24, 3, 0.1, 0, 0, 0, 100, 0.16, 0, 8, 0, 1, 1, 0, 0, 0, 1, 1],\n",
        "[17, 1, 0.6, 0.1, 0.1, 24, 0, 0.1, 0.2, 0, 0.2, 100, 0.16, 14, 0, 0, 0, 1, 0, 0, 1, 0, 0],\n",
        "[18, 1, 0.4, 0, 0, 24, 7, 0.1, 0.2, 0.1, 0, 120, 0.16, 0, 0, 0, 0, 0, 1, 1, 1, 0, 0],\n",
        "[19, 1, 0.6, 0, 0.1, 0, 0, 0.1, 0.2, 0.2, 0, 120, 0.16, 14, 0, 0.16, 0, 0, 0, 0, 0, 0, 1],\n",
        "[20, 1, 0.6, 0, 0, 0, 0, 0, 0.2, 0.2, 0, 100, 0.16, 0, 8, 0.16, 1, 1, 1, 0, 1, 0, 0],\n",
        "[21, 1, 0.6, 0.1, 0.1, 0, 0, 0, 0, 0.1, 0.2, 100, 0, 14, 8, 0.16, 1, 1, 0, 0, 0, 1, 1],\n",
        "[22, 1, 0.4, 0, 0, 0, 7, 0, 0, 0.2, 0, 120, 0, 0, 8, 0.16, 1, 0, 1, 1, 0, 1, 1],\n",
        "[23, 1, 0.6, 0.1, 0, 24, 0, 0.1, 0.2, 0, 0, 120, 0, 0, 0, 0.08, 1, 0, 1, 0, 0, 1, 1],\n",
        "[24, 1, 0.4, 0, 0, 0, 7, 0, 0.2, 0.2, 0.2, 120, 0.16, 7, 0, 0, 0, 1, 0, 0, 0, 1, 1],\n",
        "[25, 1, 0.5, 0.1, 0.1, 0, 0, 0, 0.2, 0, 0.2, 120, 0.16, 0, 0, 0, 1, 1, 1, 1, 0, 1, 0],\n",
        "[26, 1, 0.4, 0.1, 0.1, 24, 0, 0, 0.2, 0.2, 0, 120, 0, 0, 8, 0.16, 0, 1, 0, 1, 0, 0, 0],\n",
        "[27, 2, 0.6, 0, 0.1, 24, 7, 0, 0.1, 0, 0, 100, 0.16, 0, 0, 0.16, 0, 1, 1, 1, 0, 0, 1],\n",
        "[28, 2, 0.6, 0.1, 0, 0, 7, 0.1, 0, 0, 0, 120, 0.16, 0, 4, 0.16, 0, 1, 0, 0, 1, 1, 0],\n",
        "[29, 2, 0.4, 0, 0.1, 24, 0, 0.1, 0, 0.2, 0.2, 120, 0, 0, 0, 0.16, 0, 1, 1, 0, 1, 1, 0],\n",
        "[30, 2, 0.4, 0, 0, 24, 0, 0.05, 0.2, 0, 0.2, 100, 0.16, 14, 8, 0.16, 0, 0, 1, 0, 0, 1, 0],\n",
        "[31, 2, 0.6, 0.1, 0.1, 24, 7, 0, 0, 0.2, 0, 120, 0.16, 14, 8, 0, 0, 0, 1, 0, 0, 1, 0],\n",
        "[32, 2, 0.4, 0.1, 0, 0, 0, 0.1, 0, 0, 0.1, 120, 0.16, 14, 8, 0.16, 0, 1, 1, 1, 0, 0, 1],\n",
        "[33, 2, 0.6, 0, 0, 24, 0, 0, 0.2, 0, 0, 120, 0, 14, 8, 0, 0, 1, 0, 1, 1, 1, 1],\n",
        "[34, 2, 0.6, 0, 0, 24, 0, 0.1, 0, 0.2, 0.2, 120, 0.16, 0, 8, 0, 1, 0, 0, 1, 0, 0, 0],\n",
        "[35, 2, 0.4, 0, 0.1, 12, 0, 0, 0, 0, 0, 120, 0.16, 14, 0, 0.16, 1, 0, 0, 1, 1, 1, 0],\n",
        "[36, 2, 0.4, 0.1, 0, 0, 0, 0.1, 0.1, 0.2, 0.2, 120, 0, 14, 8, 0, 1, 0, 0, 0, 1, 1, 0],\n",
        "[37, 2, 0.6, 0.1, 0.1, 0, 7, 0.05, 0, 0.2, 0, 120, 0, 0, 0, 0, 1, 1, 0, 1, 1, 0, 1],\n",
        "[38, 2, 0.6, 0, 0.1, 24, 7, 0, 0.2, 0.2, 0.1, 100, 0, 0, 0, 0, 1, 0, 0, 0, 1, 1, 0],\n",
        "[39, 2, 0.4, 0, 0.1, 0, 7, 0.1, 0.2, 0, 0, 120, 0, 14, 8, 0, 1, 1, 1, 0, 0, 0, 0],\n",
        "[40, 2, 0.4, 0, 0.1, 24, 0, 0, 0.2, 0.2, 0.2, 100, 0, 14, 4, 0, 1, 0, 1, 1, 0, 0, 1],\n",
        "[41, 2, 0.6, 0.1, 0, 0, 7, 0, 0.2, 0, 0, 100, 0.16, 14, 8, 0, 1, 0, 0, 1, 0, 0, 1],\n",
        "[42, 2, 0.4, 0.1, 0.1, 0, 7, 0.1, 0, 0.2, 0.2, 100, 0.16, 0, 0, 0.16, 1, 0, 1, 0, 0, 0, 0],\n",
        "[43, 2, 0.4, 0.1, 0.1, 0, 7, 0, 0.2, 0, 0, 100, 0, 14, 0, 0.16, 0, 1, 1, 0, 1, 1, 1],\n",
        "[44, 2, 0.4, 0.1, 0, 24, 0, 0, 0, 0.2, 0, 110, 0.16, 14, 0, 0, 1, 1, 1, 0, 1, 0, 1],\n",
        "[45, 2, 0.4, 0, 0, 0, 0, 0.1, 0.2, 0, 0.2, 100, 0, 0, 0, 0.16, 1, 1, 0, 1, 1, 0, 1],\n",
        "[46, 2, 0.6, 0.1, 0, 24, 0, 0, 0, 0.2, 0.2, 100, 0.16, 0, 0, 0.16, 0, 0, 0, 1, 1, 1, 1],\n",
        "[47, 2, 0.4, 0.1, 0.05, 24, 7, 0, 0.2, 0, 0.2, 120, 0.16, 0, 8, 0.16, 1, 0, 0, 0, 1, 0, 1],\n",
        "[48, 2, 0.6, 0, 0.1, 0, 7, 0.1, 0.2, 0, 0.2, 110, 0, 0, 8, 0.16, 0, 0, 0, 1, 0, 1, 0],\n",
        "[49, 2, 0.6, 0.1, 0, 12, 7, 0.1, 0.2, 0.2, 0.2, 100, 0, 0, 8, 0, 0, 1, 1, 0, 0, 0, 1],\n",
        "[50, 2, 0.6, 0, 0.05, 0, 0, 0.1, 0, 0.2, 0, 100, 0, 14, 0, 0, 0, 1, 1, 1, 0, 1, 0]\n",
        "],\n",
        "\n",
        "index=[0, 1, 2, 3, 4, 5, 6, 7, 8, 9, 10, 11, 12, 13, 14, 15, 16, 17, 18, 19, 20, 21, 22, 23, 24, 25, 26, 27, 28, 29, 30, 31, 32, 33, 34, 35, 36, 37, 38, 39, 40, 41, 42, 43, 44, 45, 46, 47, 48, 49, 50], \n",
        "columns = ls_all_factors)\n",
        "\t\n",
        "# I had to make some changes to shift x and y values\n",
        "\n",
        "df_experimentalruns.loc[df_experimentalruns[\"shiftX\"]==0.1,\"shiftX\"] = 0.125  #this is 4/32\n",
        "df_experimentalruns.loc[df_experimentalruns[\"shiftX\"]==0.05,\"shiftX\"] = 0.0625  #this is 2/32\n",
        "df_experimentalruns[\"shiftX\"]\n",
        "\n",
        "df_experimentalruns.loc[df_experimentalruns[\"shiftY\"]==0.1,\"shiftY\"] = 0.125  #this is 4/32\n",
        "df_experimentalruns.loc[df_experimentalruns[\"shiftY\"]==0.05,\"shiftY\"] = 0.0625  #this is 2/32  \n",
        "\n",
        "#  Sigh of RELIEF.  Changing the percentage to \"divisible\" values of 32 made it so that theres no blur happening in the pictures, yay! "
      ],
      "execution_count": 98,
      "outputs": []
    },
    {
      "cell_type": "markdown",
      "metadata": {
        "id": "skvz-i_c5HN7"
      },
      "source": [
        "## View images from the dataset function (view_image(ds))"
      ]
    },
    {
      "cell_type": "code",
      "metadata": {
        "id": "2WL44kh05HN8"
      },
      "source": [
        "#@title Check_If_Batched function { form-width: \"20px\" }\n",
        "def check_if_unbatched(ds):\n",
        "  if (ds.__class__.__name__ !='BatchDataset') and (ds._input_dataset.__class__.__name__ != 'BatchDataset') and (ds._input_dataset._input_dataset.__class__.__name__ !='BatchDataset'):\n",
        "     return True\n",
        "  else:\n",
        "    return False\n",
        "\n",
        "def check_if_batched(ds):\n",
        "  if (ds.__class__.__name__ =='BatchDataset') or (ds._input_dataset.__class__.__name__ == 'BatchDataset') or (ds._input_dataset._input_dataset.__class__.__name__ =='BatchDataset') :\n",
        "     # the above statement will evaluate to True if three subsets of the original ds are not batched\n",
        "      return True\n",
        "  else:\n",
        "    return False\n",
        "\n",
        "def check_if_take(ds):\n",
        "  if  (ds.__class__.__name__ =='TakeDataset'):\n",
        "    return True\n",
        "  else:\n",
        "    return False\n",
        "\n",
        "\n",
        "\n",
        "def make_batched(ds, batchnum):\n",
        "  if (ds.__class__.__name__ !='BatchDataset') and (ds._input_dataset.__class__.__name__ != 'BatchDataset') and (ds._input_dataset._input_dataset.__class__.__name__ !='BatchDataset'):\n",
        "    # the above statement will evaluate to True if three subsets of the original ds are not batched\n",
        "      return ds.batch(batchnum)\n",
        "  else:\n",
        "    return ds\n",
        "\n",
        "def make_unbatched(ds):\n",
        "  if (ds.__class__.__name__ =='BatchDataset') or (ds._input_dataset.__class__.__name__ == 'BatchDataset') or (ds._input_dataset._input_dataset.__class__.__name__ =='BatchDataset'):\n",
        "        # the above statement will evaluate to True if any of the three subsets are batched\n",
        "      return unbatch_ds(ds)\n",
        "  else:\n",
        "    return ds\n",
        "\n"
      ],
      "execution_count": 99,
      "outputs": []
    },
    {
      "cell_type": "code",
      "metadata": {
        "colab": {
          "base_uri": "https://localhost:8080/",
          "height": 395
        },
        "id": "nAS3wq8oJMb4",
        "outputId": "9e8bd4bd-ff01-4d39-c051-83ace9a2c7b9"
      },
      "source": [
        "#@view_image(ds)\n",
        "def view_image(ds, opttext = \"\", batch = 10):\n",
        "# this function takes the dataset and automatically displays 10 figures\n",
        "# the dataset has to be batches to see the images\n",
        "  ds  = make_batched(ds, batch)\n",
        "\n",
        "  image, label = next(iter(ds)) # extract 1 batch from the dataset\n",
        "  image = image.numpy().astype(\"uint8\")  #??  #if theres a better way to do this I'm all ears because it's costly\n",
        "  label = label.numpy()   \n",
        "  \n",
        "\n",
        "  fig = plt.figure(figsize=(16, 16))\n",
        "  for i in range(10):\n",
        "    if i == 1:\n",
        "        print(\"*\"*20, \" \"*10, opttext, \" \"*10,  \"*\"*20)\n",
        "    ax = fig.add_subplot(1, 10, i+1, xticks=[], yticks=[])\n",
        "    ax.imshow(image[i])\n",
        "    ax.set_title(f\"Label: {label[i]}\")\n",
        "    if i == 9:\n",
        "      plt.pause(0.05)  # heck yea\n",
        "      \n",
        "\n",
        "\n",
        "view_image(train_A, opttext = \"10 Training Images from Group A\")\n",
        "view_image(val, opttext = \"10 Validation Images\")\n",
        "view_image(x_test, opttext = \"10 Test Images\")\n"
      ],
      "execution_count": 100,
      "outputs": [
        {
          "output_type": "stream",
          "name": "stdout",
          "text": [
            "********************            10 Training Images from Group A            ********************\n"
          ]
        },
        {
          "output_type": "display_data",
          "data": {
            "image/png": "[encoded data removed]",
            "text/plain": [
              "<Figure size 1152x1152 with 10 Axes>"
            ]
          },
          "metadata": {}
        },
        {
          "output_type": "stream",
          "name": "stdout",
          "text": [
            "********************            10 Validation Images            ********************\n"
          ]
        },
        {
          "output_type": "display_data",
          "data": {
            "image/png": "[encoded data removed]",
            "text/plain": [
              "<Figure size 1152x1152 with 10 Axes>"
            ]
          },
          "metadata": {}
        },
        {
          "output_type": "stream",
          "name": "stdout",
          "text": [
            "********************            10 Test Images            ********************\n"
          ]
        },
        {
          "output_type": "display_data",
          "data": {
            "image/png": "[encoded data removed]",
            "text/plain": [
              "<Figure size 1152x1152 with 10 Axes>"
            ]
          },
          "metadata": {}
        }
      ]
    },
    {
      "cell_type": "markdown",
      "metadata": {
        "id": "Nzdx-SEV5HOE"
      },
      "source": [
        "To integrate `albumentations` into our tensorflow pipeline we can create two functions :  \n",
        "- Pipeline to apply `augmentation`.\n",
        "- a function that calls the above function and pass in our data through the pipeline.\n",
        "We can then wrap our 2nd Function under `tf.numpy_function` ."
      ]
    },
    {
      "cell_type": "markdown",
      "metadata": {
        "id": "vH0L97tx5HOF"
      },
      "source": [
        ""
      ]
    },
    {
      "cell_type": "markdown",
      "metadata": {
        "id": "0KsYvz8LXWw5"
      },
      "source": [
        "### Define Albumentations \"Transform\" Augmentation Functions (transforms = Compose([ ... ])   ) "
      ]
    },
    {
      "cell_type": "code",
      "metadata": {
        "id": "nmKkoddt5HOF"
      },
      "source": [
        "#@title def augmentfunction(df_experimentalruns, run): { form-width: \"20px\" }\n",
        "IMG_SIZE = 32\n",
        "\n",
        "def augmentfunction(df_experimentalruns, run):\n",
        "    \n",
        "  # Instantiate augments\n",
        "\n",
        "  cat_probability = 1\n",
        "  cont_probability = 1\n",
        "  random.seed(42)\n",
        "\n",
        "  # Assign Continuous Factors Levels by Run -------------------------\n",
        "\n",
        "  shift_limit_x_left =  df_experimentalruns.loc[run,\"shiftX\"]\n",
        "  shift_limit_x_right = df_experimentalruns.loc[run,\"shiftX\"]  \n",
        "  assert shift_limit_x_right >= shift_limit_x_left\n",
        "  assert shift_limit_x_right <= 1  #more than one is damaging\n",
        "  print(\"Shift X:  (\", shift_limit_x_left, \",\", shift_limit_x_right, \") or (\",-shift_limit_x_right, \",\", -shift_limit_x_left, \")\" )\n",
        "\n",
        "  shift_limit_y_left = df_experimentalruns.loc[run,\"shiftY\"]\n",
        "  shift_limit_y_right = df_experimentalruns.loc[run,\"shiftY\"]  \n",
        "  assert shift_limit_y_right >= shift_limit_y_left\n",
        "  assert shift_limit_y_right < 1  #more than one is damaging\n",
        "  print(\"Shift Y:  (\", shift_limit_y_left, \",\", shift_limit_y_right, \")or (\", -shift_limit_y_right, \",\", -shift_limit_y_left, \")\")\n",
        "\n",
        "\n",
        "  gamma_left =  df_experimentalruns.loc[run,\"gamma\"]     \n",
        "  gamma_right = df_experimentalruns.loc[run,\"gamma\"]  \n",
        "  assert gamma_right >= gamma_left\n",
        "  print(\"Gamma:    (\", gamma_left, \",\", gamma_right, \")\")\n",
        "\n",
        "  zoom_out_left = -df_experimentalruns.loc[run,\"zoomOut\"]  \n",
        "  zoom_out_right = -df_experimentalruns.loc[run,\"zoomOut\"] \n",
        "  assert zoom_out_right >= zoom_out_left\n",
        "  print(\"ZoomOut:  (\", zoom_out_left, \",\", zoom_out_right, \")\")\n",
        "\n",
        "\n",
        "  zoom_in_left = df_experimentalruns.loc[run,\"zoomin\"]\n",
        "  zoom_in_right = df_experimentalruns.loc[run,\"zoomin\"]\n",
        "  assert zoom_in_right >= zoom_in_left\n",
        "  assert zoom_in_right < 1.0\n",
        "  print(\"ZoomIn:   (\", zoom_in_left, \",\", zoom_in_right, \")\")\n",
        "\n",
        "\n",
        "\n",
        "  noise_left = df_experimentalruns.loc[run,\"noise\"]             # df_factors[\"Noise\"][df_experimentalruns.loc[run,\"Noise\"]])\n",
        "  noise_right = df_experimentalruns.loc[run,\"noise\"]         #  need to change noise to larger number\n",
        "  assert noise_right >= noise_left\n",
        "  print(\"Noise:    (\", noise_left, \",\", noise_right, \")\")\n",
        "\n",
        "\n",
        "  ## Is blur of 7 too high? :-\\ \n",
        "  if df_experimentalruns.loc[run,\"blur\"] == 0:\n",
        "    blur_probability = 0\n",
        "    # print(\"blur is 0\")\n",
        "    blur_left = 0\n",
        "    blur_right = 0+1\n",
        "  else:\n",
        "    # print(\"blur is not 0\")\n",
        "    blur_probability = 1\n",
        "    blur_left = df_experimentalruns.loc[run,\"blur\"]\n",
        "    blur_right = df_experimentalruns.loc[run,\"blur\"]\n",
        "  assert blur_right >= blur_left\n",
        "  assert blur_right > 0  # must be an integer  #I can't see a dfference using 7 and 9!\n",
        "  print(\"blur:     (\", blur_left, \",\", blur_right, \")\")\n",
        "\n",
        "\n",
        "  # Need to add Sharp to the menu of options\n",
        "  sharp_left = df_experimentalruns.loc[run,\"sharpen\"]\n",
        "  sharp_right = df_experimentalruns.loc[run,\"sharpen\"]\n",
        "  assert sharp_right >= sharp_left\n",
        "  print(\"sharp:    (\", sharp_left, \",\", sharp_right, \")\")\n",
        "\n",
        "\n",
        "  contrast_limit_left = df_experimentalruns.loc[run,\"contrast\"]\n",
        "  contrast_limit_right = df_experimentalruns.loc[run,\"contrast\"]\n",
        "  assert contrast_limit_right >= contrast_limit_left\n",
        "  print(\"Contrast: (\", contrast_limit_left, \",\", contrast_limit_right, \")\")\n",
        "\n",
        "\n",
        "  brightness_limit_left = df_experimentalruns.loc[run,\"brighten\"]\n",
        "  brightness_limit_right = df_experimentalruns.loc[run,\"brighten\"] \n",
        "  assert brightness_limit_right >= brightness_limit_left\n",
        "  print(\"Bright:   (\", brightness_limit_left, \",\", brightness_limit_right, \")\")\n",
        "\n",
        "  darkness_limit_left = -df_experimentalruns.loc[run,\"darken\"] \n",
        "  darkness_limit_right = -df_experimentalruns.loc[run,\"darken\"]\n",
        "  assert darkness_limit_right >= darkness_limit_left\n",
        "  print(\"Darken:   (\", darkness_limit_left, \",\", darkness_limit_right, \")\")\n",
        "\n",
        "\n",
        "  rotate_left  = df_experimentalruns.loc[run,\"rotate\"]\n",
        "  rotate_right = df_experimentalruns.loc[run,\"rotate\"]\n",
        "  assert rotate_right >= rotate_left\n",
        "  print(\"Rotate:   (\", rotate_left, \",\", rotate_right, \") or (\",-rotate_right, \",\", -rotate_left, \")\" )\n",
        "\n",
        "\n",
        "  crop_value = 32-df_experimentalruns.loc[run,\"crop\"]\n",
        "\n",
        "\n",
        "  # Assign Categorical Factors Probabilities to make \"on\" or \"off\" -------------------------\n",
        "  pHorizontalFlip =   df_experimentalruns.loc[run,\"flipH\"]\n",
        "  print(\"pHorizontalFlip:   \", pHorizontalFlip)\n",
        "\n",
        "  pVerticalFlip =     df_experimentalruns.loc[run,\"flipV\"]\n",
        "  print(\"pVerticalFlip:     \", pVerticalFlip)\n",
        "\n",
        "  pEqualize =          df_experimentalruns.loc[run,\"equalize\"]\n",
        "  print(\"pEqualize:         \", pEqualize)\n",
        "\n",
        "  pFancyPCA =          df_experimentalruns.loc[run,\"fancyPCA\"]\n",
        "  print(\"pFancyPCA:         \", pFancyPCA)\n",
        "\n",
        "  pChannelShuffle =   df_experimentalruns.loc[run,\"channelShuffle\"]\n",
        "  print(\"pChannelShuffle:   \", pChannelShuffle)\n",
        "\n",
        "  pElasticTransform =  df_experimentalruns.loc[run,\"elasticTransform\"]\n",
        "  print(\"pElasticTransform: \", pElasticTransform)\n",
        "\n",
        "  pToGray =            df_experimentalruns.loc[run,\"togray\"]\n",
        "  print(\"pToGray:           \", pToGray)\n",
        "\n",
        "  background_value = 0\n",
        "\n",
        "\n",
        "  print(\" ~ ~ ~ ~ ~ ~ ~ ~ ~ ~ ~ ~ ~ ~ ~ ~ ~ ~ ~ ~ ~ ~ ~ \\n\\n\")\n",
        "\n",
        "\n",
        "  #transforms = A.Compose([\n",
        "  list_of_transforms = [\n",
        "\n",
        "\n",
        "      #1. Shift Horizontally Right or Shift Horizontally Left\n",
        "      A.OneOf([\n",
        "                A.geometric.ShiftScaleRotate(rotate_limit=0, shift_limit_y=0, \n",
        "                                                  shift_limit_x=(shift_limit_x_left,shift_limit_x_right), \n",
        "                                                  scale_limit=0, border_mode=cv2.BORDER_CONSTANT, value=background_value),    \n",
        "                A.geometric.ShiftScaleRotate(rotate_limit=0, shift_limit_y=0, \n",
        "                                                  shift_limit_x=(-shift_limit_x_right,-shift_limit_x_left), \n",
        "                                                  scale_limit=0, border_mode=cv2.BORDER_CONSTANT, value=background_value)], \n",
        "              p=cont_probability),\n",
        "      \n",
        "      \n",
        "      # 2 Shift VERTICALLY  up or down \n",
        "      A.OneOf([\n",
        "                A.geometric.ShiftScaleRotate(rotate_limit=0, shift_limit_y=(shift_limit_y_left,shift_limit_y_right), shift_limit_x=0, scale_limit=0, border_mode=cv2.BORDER_CONSTANT, value=background_value),   \n",
        "                A.geometric.ShiftScaleRotate(rotate_limit=0, shift_limit_y=(-shift_limit_y_right, -shift_limit_y_left), shift_limit_x=0, scale_limit=0, border_mode=cv2.BORDER_CONSTANT, value=background_value)], \n",
        "              p =cont_probability),\n",
        "      \n",
        "      #3 NOISE ---------------------------------\n",
        "      A.transforms.GaussNoise(var_limit=(noise_left,noise_right), p=cont_probability),  \n",
        "\n",
        "      #4 BLUR\n",
        "      A.transforms.GaussianBlur(blur_limit=(blur_left,blur_right), sigma_limit=(0.5,0.05), p=blur_probability),  #Blur\n",
        "      \n",
        "      #5 Sharpen \n",
        "      A.transforms.Sharpen(alpha=(sharp_left,sharp_right), lightness=(0.0, 0.0), p=cont_probability),  #AntiBlur keep lightness constant at 0?\n",
        "        \n",
        "      #6 Contrast\n",
        "      A.transforms.RandomBrightnessContrast(brightness_limit=(0,0), contrast_limit=(contrast_limit_left,contrast_limit_right), p=cont_probability),       \n",
        "\n",
        "      #7 Brightness\n",
        "      A.transforms.RandomBrightnessContrast(brightness_limit=(brightness_limit_left,brightness_limit_right), contrast_limit=(0,0), p=cont_probability),      \n",
        "      \n",
        "      #8 Darkness\n",
        "      A.transforms.RandomBrightnessContrast(brightness_limit=(darkness_limit_left,darkness_limit_right), contrast_limit=(0,0), p=cont_probability),  #darkness\n",
        "\n",
        "      #9 GAMMA\n",
        "      # A.transforms.RandomGamma(gamma_limit=(gamma_left,gamma_right), p=cont_probability),  \n",
        "      \n",
        "\n",
        "      #10 Zoom Out\n",
        "      A.geometric.ShiftScaleRotate(rotate_limit=0,  shift_limit_y=0, shift_limit_x=0, scale_limit=(zoom_out_left,zoom_out_right), border_mode=cv2.BORDER_CONSTANT, value=background_value, p=cont_probability),    #Zoom Out safe: scale_limit=(-0.15,-0.1)\n",
        "\n",
        "      #11  Rotate CW or CCW\n",
        "      A.OneOf([\n",
        "                    A.geometric.SafeRotate(limit=(rotate_left,rotate_right), border_mode=cv2.BORDER_CONSTANT, value=background_value),\n",
        "                    A.geometric.SafeRotate(limit=(-rotate_right,-rotate_left), border_mode=cv2.BORDER_CONSTANT, value=background_value)], p=1),\n",
        "      \n",
        "      #12  Crop then Pad\n",
        "      A.crops.transforms.CenterCrop(height=crop_value, width=crop_value,  p=cont_probability),       # Crop 24,24 is the extreme\n",
        "      A.transforms.PadIfNeeded(min_height=32, min_width=32,  border_mode=cv2.BORDER_CONSTANT, value=background_value, p=1),\n",
        "\n",
        "      # 13 ZoomIn\n",
        "      A.geometric.ShiftScaleRotate(rotate_limit=0, shift_limit_y=0, shift_limit_x=0,\n",
        "                                    scale_limit=(zoom_in_left,zoom_in_right), border_mode=cv2.BORDER_CONSTANT, value=background_value, p=cont_probability),  \n",
        "\n",
        "      # 14 FlipH\n",
        "      A.HorizontalFlip(p=pHorizontalFlip),\n",
        "      \n",
        "      # 15 FlipVert\n",
        "      A.VerticalFlip(p=pVerticalFlip),\n",
        "      \n",
        "      #16 FANCY PCA\n",
        "      A.transforms.FancyPCA(alpha=0.1, p=pFancyPCA),                    # FancyPCA Amount to perturn eigenvalues not Categorical\n",
        "      \n",
        "      #17 Elastic Transform\n",
        "      A.geometric.ElasticTransform(alpha=0.1, sigma=0.001, alpha_affine=0.001, \n",
        "                                    same_dxdy=True, border_mode=cv2.BORDER_CONSTANT, \n",
        "                                    value=background_value, p=pElasticTransform),    #Seems more like a blur than a transform?\n",
        "      \n",
        "      # #Resize to 32x32 for crop\n",
        "      # A.geometric.Resize(height=32, width=32, p=1),\n",
        "\n",
        "      #18 Histogram Equalizer\n",
        "      A.transforms.Equalize(p=pEqualize),  \n",
        "\n",
        "      #19 CHANNELSHUFFLE\n",
        "      A.transforms.ChannelShuffle(p=pChannelShuffle),  #this is prob going to ruin accuracy\n",
        "\n",
        "\n",
        "      #20 Turn Everything Gray\n",
        "      A.transforms.ToGray(p=pToGray)\n",
        "\n",
        "    ] \n",
        "    \n",
        "  return list_of_transforms\n",
        "\n",
        "global no_transforms \n",
        "\n",
        "no_transforms = A.Compose([\n",
        "         A.transforms.NoOp()\n",
        "])"
      ],
      "execution_count": 225,
      "outputs": []
    },
    {
      "cell_type": "markdown",
      "metadata": {
        "id": "6P7iEY6TXcCe"
      },
      "source": [
        "### Define another function \"Augment_Function\" to push images throguh list of \"Transforms\" to create augmented images"
      ]
    },
    {
      "cell_type": "code",
      "metadata": {
        "id": "XucKZYBg5HOI"
      },
      "source": [
        "#@title aug_fn\n",
        "\n",
        "#this function is being referenced a lot\n",
        "\n",
        "def aug_fn(image, img_size ):\n",
        "    data = {\"image\":image}\n",
        "    \n",
        "    aug_data = transforms(**data)\n",
        "    \n",
        "    aug_img = aug_data[\"image\"]\n",
        "    # aug_img = tf.cast(aug_img/255.0, tf.float32)\n",
        "    # aug_img = tf.cast(aug_img/1.0, tf.float32)    #attempt\n",
        "    aug_img = tf.image.resize(aug_img, size=[img_size, img_size])\n",
        "    # aug_img = tf.cast(aug_img*255.0, tf.float32)\n",
        "\n",
        "    return aug_img\n",
        "\n",
        "def no_aug_fn(image, img_size):\n",
        "    data = {\"image\":image}\n",
        "\n",
        "    aug_data = no_transforms(**data)\n",
        "\n",
        "    aug_img = aug_data[\"image\"]\n",
        "    # aug_img = tf.cast(img/255.0, tf.float32)  \n",
        "    # aug_img = tf.cast(img/1.0, tf.float32)      #new attempt\n",
        "    aug_img = tf.image.resize(aug_img, size=[img_size, img_size])\n",
        "    # aug_img = tf.cast(aug_img*255.0, tf.float32)\n",
        "    return aug_img"
      ],
      "execution_count": 164,
      "outputs": []
    },
    {
      "cell_type": "markdown",
      "metadata": {
        "id": "VBMCft7eXkKL"
      },
      "source": [
        "#### Define Process_Data function to returns augmented image andlabel"
      ]
    },
    {
      "cell_type": "code",
      "metadata": {
        "id": "k9wPsk2J5HOK"
      },
      "source": [
        "#@title process_data { form-width: \"20px\" }\n",
        "def process_data(image, label, img_size,):\n",
        "    aug_img = tf.numpy_function(func=aug_fn, inp=[image, img_size], Tout=tf.float32)  # was tf.float32\n",
        "    return aug_img, label\n",
        "\n",
        "\n",
        "def no_process_data(image, label, img_size,):\n",
        "    no_aug_img = tf.numpy_function(func=no_aug_fn, inp=[image, img_size], Tout=tf.float32)   # was tf.float32\n",
        "    return no_aug_img, label\n",
        "    "
      ],
      "execution_count": 165,
      "outputs": []
    },
    {
      "cell_type": "markdown",
      "metadata": {
        "id": "JuTDB9vwDQzB"
      },
      "source": [
        "#### Restoring dataset shapes. \n",
        "The datasets loses its shape after applying a tf.numpy_function, so this is necessary for the sequential model and when inheriting from the model class."
      ]
    },
    {
      "cell_type": "code",
      "metadata": {
        "id": "Os3MmtYPDP3z"
      },
      "source": [
        "#@title set_shapes\n",
        "def set_shapes(img, label, img_shape=(IMG_SIZE,IMG_SIZE,3)):\n",
        "    img.set_shape(img_shape)\n",
        "    label.set_shape([])\n",
        "    return img, label"
      ],
      "execution_count": 166,
      "outputs": []
    },
    {
      "cell_type": "markdown",
      "metadata": {
        "id": "lZR8EWg6iFKu"
      },
      "source": [
        "`Note`: \n",
        "Some `API's` of `tensorflow.keras.Model` might not work, if you dont map the dataset with the set_shapes function."
      ]
    },
    {
      "cell_type": "markdown",
      "metadata": {
        "id": "L2jwAZW1Gthx"
      },
      "source": [
        "## Create New Training Group Data by Merging Un-Augmented with Augmented Data\n"
      ]
    },
    {
      "cell_type": "code",
      "metadata": {
        "id": "LGrsd5Hyu-ch"
      },
      "source": [
        "#@ \n",
        "\n",
        "def unbatch_ds(batchedDataset):\n",
        "  unbatch_ds = (tf.data.Dataset.unbatch(batchedDataset))\n",
        "  return unbatch_ds\n",
        "\n",
        "\n",
        "# unbatch_train_A = make_unbatched(train_A)\n",
        "\n",
        "#as of 11/11/21 a 0521 added transforms to try to make my run_through_runs \n",
        "#   function pass the transforms to the augment functions\n",
        "\n",
        "def augment_data(dataset, process, dataset_text=\"\"):\n",
        "  dataset_new = dataset.map(partial(process, img_size=IMG_SIZE,))\n",
        "  dataset_new = dataset_new.map(set_shapes)\n",
        "  # dataset_new = dataset_new.batch(batchsize)\n",
        "  # get_min_max(dataset,      text= dataset_text)\n",
        "  # get_min_max(dataset_new,  text=str(\"New\" + dataset_text))\n",
        "  return dataset_new\n",
        "\n"
      ],
      "execution_count": 167,
      "outputs": []
    },
    {
      "cell_type": "code",
      "metadata": {
        "cellView": "form",
        "id": "UNP1mrJiVy2J"
      },
      "source": [
        "#@title\n",
        "# #@title View No Augmentation Dataset { form-width: \"20%\" }\n",
        "# train_A_noalb = augment_data(dataset = unbatch_train_A, \n",
        "#                              process= no_process_data,\n",
        "#                             #  batchsize=100,\n",
        "#                              dataset_text = \"train_A_noalb\")\n",
        "\n",
        "# #@title View No Augmentation Dataset { form-width: \"20%\" }\n",
        "# train_B_noalb = augment_data(dataset = make_unbatched(train_B), \n",
        "#                              process= no_process_data,\n",
        "#                             #  batchsize=100,\n",
        "#                              dataset_text = \"train_A_noalb\")\n",
        "# pretty_display_of_dataset(train_B_noalb)\n"
      ],
      "execution_count": 168,
      "outputs": []
    },
    {
      "cell_type": "code",
      "metadata": {
        "id": "TJv1UUISXhru"
      },
      "source": [
        "#@title PrettyViewofData Function { form-width: \"30px\" }\n",
        "def pretty_display_of_dataset(ds, dstitle = \"Dataset title\", opttext = \"\"):\n",
        "  view_image(ds, dstitle)  #defaults to batch size 10 \n",
        "  num = ds.reduce(np.int64(0), lambda x,_ : x + 1).numpy()  # returns 25, but 25*100batches = 2500\n",
        "  \n",
        "  if check_if_batched(ds):\n",
        "    print(\"Total: \", num, \" batches in this dataset: \\n\\n\\n\", opttext )\n",
        "\n",
        "    if num > 5:\n",
        "      num = 5\n",
        "      print(\"Showing first 10 images of the first five batches\")\n",
        "    \n",
        "    batch1 = ds.take(1)\n",
        "    \n",
        "    view_image(batch1, str(\"Batch1 of \"+dstitle)) \n",
        "    print(\"Batch \",1, \"Class Count:\", count_cifar10_class(batch1), \"\\n\")  \n",
        "\n",
        "    for i in range(2,num+1):      \n",
        "      batch2 = ds.skip(i-1).take(1)\n",
        "     \n",
        "      name_of_batch = str(\"Batch\" + str(i)+\" of \"+ dstitle)\n",
        "      view_image(batch2, name_of_batch )   \n",
        "      print(\"Batch \", i, \"Class Count:\", count_cifar10_class(batch2), \"\\n\")\n",
        "      # do I need to clear out batch2 here?\n",
        "\n",
        "  else:\n",
        "    print(\"Total: \", num, \" images in this dataset\", opttext )\n",
        "    print(\"Total Class Count:\", count_cifar10_class(ds), \"\\n\")\n",
        "\n",
        "  \n",
        "  print(\"**********************************************************************************************\")\n",
        "\n",
        "# pretty_display_of_dataset(train_A, \"Train_A\")  \n",
        "\n"
      ],
      "execution_count": 169,
      "outputs": []
    },
    {
      "cell_type": "markdown",
      "metadata": {
        "id": "KEwm0umzXYzP"
      },
      "source": [
        "#### View_Num_Images Function, default num = 20"
      ]
    },
    {
      "cell_type": "code",
      "metadata": {
        "id": "bdoTO_o4-u94",
        "cellView": "form"
      },
      "source": [
        "#@title\n",
        "def view_num_images(ds, num = 20):\n",
        "\n",
        "  ds = make_batched(ds, batchnum = num)\n",
        "\n",
        "  image, label = next(iter(ds)) # extract 1 batch from the dataset\n",
        "  image = image.numpy().astype(\"uint8\")  #??  #if theres a better way to do this I'm all ears because it's costly\n",
        "  label = label.numpy()   \n",
        "  \n",
        "  fig = plt.figure(figsize=(10, 10))\n",
        "\n",
        "  for i in range(num):\n",
        "      ax = fig.add_subplot(1, num, i+1, xticks=[], yticks=[])\n",
        "      ax.imshow(image[i])\n",
        "      ax.set_title(f\"Lbl: {label[i]}\")\n",
        "      "
      ],
      "execution_count": 170,
      "outputs": []
    },
    {
      "cell_type": "code",
      "metadata": {
        "id": "_6DZoukvlZ3c"
      },
      "source": [
        "#@title show_confusion_matrix_wo_diagonal { form-width: \"2px\" }\n",
        "def show_confusion_matrix_wo_diagonal(test_labels, predictions, CLASSES, run=999):\n",
        "    \"\"\"Compute confusion matrix without diagonal.\"\"\"\n",
        "    confusion = sklearn.metrics.confusion_matrix(test_labels, predictions,  labels=[0, 1, 2, 3, 4, 5, 6, 7, 8, 9])\n",
        "\n",
        "    confusion_matrix_wo_diagonal= np.array(confusion)-np.identity(confusion.shape[0])*np.diag(confusion)\n",
        "\n",
        "    axis_labels = CLASSES\n",
        "\n",
        "    ax = sns.heatmap(\n",
        "        confusion_matrix_wo_diagonal, xticklabels=axis_labels, yticklabels=axis_labels, \n",
        "        cmap='Blues', annot=True, square=True, fmt='.0f', cbar = False)\n",
        "\n",
        "    plt.title(str(\"Confusion Matrix without Diagonal of Run \" + str(run)))\n",
        "    plt.ylabel(\"True label\")\n",
        "    plt.xlabel(\"Predicted label\")\n",
        "    plt.show()\n",
        "    print(\"Summing down the rows, for Predictions of each Class that were wrong: \", confusion_matrix_wo_diagonal.sum(axis=0))\n",
        "\n",
        "    # for i in range(10):\n",
        "    print(\"For example, the model predicted a  label 4 (deer) on a true  \", np.argmax(confusion_matrix_wo_diagonal[:,4]),\" a total of \", max(confusion_matrix_wo_diagonal[:,4]), \"times\")\n",
        "\n",
        "    print(\"Summing across the columns, for total number of that True Class misidentified: \", confusion_matrix_wo_diagonal.sum(axis=1))\n",
        "    \n",
        "    print(\"For example, the model misclassified true 4's (deer) as label  \", np.argmax(confusion_matrix_wo_diagonal[4,:]), CLASSES[np.argmax(confusion_matrix_wo_diagonal[4,:])], \" a total of \", max(confusion_matrix_wo_diagonal[4,:]), \"times\")\n",
        "\n",
        "\n",
        "\n"
      ],
      "execution_count": 189,
      "outputs": []
    },
    {
      "cell_type": "code",
      "metadata": {
        "id": "M4Q7U10ahzBz"
      },
      "source": [
        "#@title\n",
        "# The augmented data returns floats between 0 and 1\n",
        "# The unaugmented data is integers uint8 between 0 and 255 \n",
        "CLASSES = info.features['label'].names\n",
        "\n",
        "# This may help me one day with trying to get into the ID of each batch/mislabelled image\n",
        "# info.features['id']\n"
      ],
      "execution_count": 172,
      "outputs": []
    },
    {
      "cell_type": "code",
      "metadata": {
        "id": "v76RnAN_U9KC"
      },
      "source": [
        "#@title cache_prefetch_group(train_tf, shuffle=5000, batch =0, SEED = 42) { form-width: \"4px\" }\n",
        "\n",
        "def cache_prefetch_group(train_tf, SHUFFLE=5000, batch = 0, SEED = 42):\n",
        "    # I choose to shuffle the entire deck, which probably adds time, but I want to ensure mixed unaugmented and augmented\n",
        "    train_tf = train_tf.shuffle(SHUFFLE, reshuffle_each_iteration=False)  # I took out seed=seed to get variety with each reshuffle\n",
        "    # as of 11/10/21 9 pm I changed reshuffle_each_iteration to False, because I think that will ensure I get at least all of the dataset images in a batch\n",
        "    # as of 11/11/21 4 Am I changed reshuffle_each_iteration back to True, because train_B imagesdidnt look sufficiently shuffled in a batch\n",
        "\n",
        "    train_tf = train_tf.cache().prefetch(buffer_size=AUTOTUNE)\n",
        "    if batch != 0:\n",
        "      train_tf = train_tf.batch(batch)  # ??moved Batch to inside ModelTraining loop to prevent Double-Batching-Weirdness\n",
        "    return train_tf \n"
      ],
      "execution_count": 173,
      "outputs": []
    },
    {
      "cell_type": "markdown",
      "metadata": {
        "id": "B8mXrMWFXhOn"
      },
      "source": [
        "#### Make Sortedd Test Accuracy Dictionary  Functions"
      ]
    },
    {
      "cell_type": "code",
      "metadata": {
        "id": "WFBj1BFR2QKq"
      },
      "source": [
        "#@title make_accuracy_dictionary(cm_norm)\n",
        "# define function to print out all the labels amd accuracies on the diagonal of the confusion matrix\n",
        "def make_accuracy_dictionary(cm_norm):\n",
        "  dictionary = {}\n",
        "  for i in range(10):\n",
        "    dictionary[CLASSES[i]] = cm_norm[i,i]\n",
        "    \n",
        "  # sort the values - ty SO https://stackoverflow.com/questions/613183/how-do-i-sort-a-dictionary-by-value/613218#613218\n",
        "  for w in sorted(dictionary, key=dictionary.get, reverse=True):\n",
        "    print(w, dictionary[w])\n",
        "  return dictionary \n",
        "\n",
        "\n",
        "# define function to print out all the labels amd accuracies on the off diagonal of the confusion matrix\n",
        "# to indicate the most common mistakes:\n",
        "\n",
        "# def make_misclassification_dictionary(cm):\n",
        "#   dictionary = {}\n",
        "\n",
        "#   for i in range(10):\n",
        "#     dictionary_cm_diagonal_labels[CLASSES[i]] = cm_norm[i,i]\n",
        "    \n",
        "#   # sort the values - ty SO https://stackoverflow.com/questions/613183/how-do-i-sort-a-dictionary-by-value/613218#613218\n",
        "#   for w in sorted(dictionary_cm_diagonal_labels, key=dictionary_cm_diagonal_labels.get, reverse=True):\n",
        "#     print(w, dictionary_cm_diagonal_labels[w])\n",
        "#   return dictionary_cm_diagonal_labels "
      ],
      "execution_count": 174,
      "outputs": []
    },
    {
      "cell_type": "markdown",
      "metadata": {
        "id": "BZvyamo1ryBh"
      },
      "source": [
        "# Run, Model, Test, Capture all 50 Designed Runs"
      ]
    },
    {
      "cell_type": "code",
      "metadata": {
        "id": "I8aDdUzp59i9",
        "cellView": "form"
      },
      "source": [
        "#@title\n",
        "## This is code found on SO to see whether the dataset is batched or not\n",
        "#  \n",
        "# train_A_alb.batch(num_alb).__class__.__name__\n",
        "\n",
        "# new_train_A = new_train_A.batch(10)\n",
        "\n",
        "# new_train_A._input_dataset.__class__.__name__\n",
        "\n",
        "# new_train_A = (tf.data.Dataset.unbatch(new_train_A))"
      ],
      "execution_count": 175,
      "outputs": []
    },
    {
      "cell_type": "code",
      "metadata": {
        "id": "7UnuoLIfSvXT"
      },
      "source": [
        "def count_images(ds, opttext = \"\"):\n",
        "  # The number of images present in the new train_A_alb set is equal to the original set\n",
        "  num_images = ds.reduce(np.int64(0), lambda x,_ : x + 1).numpy()  # returns 10 bc no batches\n",
        "  print(\" There are ** \", num_images, \"** total images in \" ,  opttext)\n",
        "  return num_images"
      ],
      "execution_count": 176,
      "outputs": []
    },
    {
      "cell_type": "markdown",
      "metadata": {
        "id": "YIyJ1woOP_Og"
      },
      "source": [
        "Original Working Code for Train_A before it became a function:"
      ]
    },
    {
      "cell_type": "code",
      "metadata": {
        "id": "BNC4zD09LIWQ",
        "cellView": "form"
      },
      "source": [
        "#@title\n",
        " \n",
        "# # ---------------------------------------------------------------------------\n",
        "# # Create Training-Group-Specific Dictionary to collect important metrics at the end of all runs \n",
        "# # ----------------------------------------------------------------------------\n",
        "# Group_A_Runs = {}   #dictionary\n",
        "\n",
        "# # Group_A_Runs[run] = {'TestAccuracy': 0}\n",
        "\n",
        "\n",
        "# # ---------------------------------------------------------------------------\n",
        "# # When in troubleshooting or refining/code mode, I only run 5 experimental runs but\n",
        "# # when running the full design matrix, ensure ENDRUNS = 51  (50 + baseline run)\n",
        "# # the for loop will go through each run like this: df_experimentalruns.loc[run, \"WhateverFactors\"]:\n",
        "# # ----------------------------------------------------------------------------\n",
        "\n",
        "# ENDRUNS = 51\n",
        "# # assert ENDRUNS == 50\n",
        "\n",
        "# for run in range(0,ENDRUNS): \n",
        "\n",
        "#   # run = run + 1  # commented out after I added a Do-Nothing Run, I now have a real index 0 in the test-run-matrix  \n",
        "#   print(\"\\n\", (str(run) + \" \")*50)\n",
        "#   print(\"\\n   Begin Run: \", run)\n",
        "#   print(\"\\n\", (str(run) + \" \")*50)\n",
        "  \n",
        "\n",
        "#   #Use my vanilla CNN model function to build a  model with a certain dropout level\n",
        "#   model = makemodel(DROPOUT=df_experimentalruns.loc[run,'dropout'])\n",
        "\n",
        "# # ------------------------------------\n",
        "# # Create Run-Specific Transformations \n",
        "# # ------------------------------------\n",
        "\n",
        "#   # build  Albumentations list of transformations by passing each run's required parameters \n",
        "#   list_of_transforms = augmentfunction( df_experimentalruns, run )\n",
        "\n",
        "#   # pass the list of transforms to Albumentations Compose function\n",
        "#   transforms = A.Compose(transforms = list_of_transforms)\n",
        "  \n",
        "# # ------------------------------------\n",
        "# # Create Augmented Dataset train_A_alb \n",
        "# # ------------------------------------\n",
        "  \n",
        "#   # Augment the unbatched Training_Group_A through the Process_Data Function to create train_A_alb (albu = albumentations/augmentations)\n",
        "#   train_A_alb = augment_data(dataset = unbatch_train_A, process= process_data, dataset_text = \"Augmented Dataset\")\n",
        "  \n",
        "# # ------------------------------------\n",
        "# # Print the number of total images in each unbatched dataset train_A_alb, and train_A_noalb \n",
        "# # -----------------------------------\n",
        "\n",
        "#   # The number of images present in the new train_A_alb set is equal to the original set\n",
        "#   # num_alb = count_images(train_A_alb, opttext=\"Augmented-train-a, before batching\")\n",
        "#   # print(\"Train_A_Alb has class count:\", count_cifar10_class(train_A_alb))\n",
        "#   # pretty_display_of_dataset(train_A_noalb, \"Train Set A - NO Augmentations\", opttext = \"before batching\")\n",
        "\n",
        "\n",
        "#   # The number of images present in the new train_A_alb set is equal to the original set\n",
        "#   # count_images(train_A_noalb, \"Not-Augmented Train_A, before batching\")\n",
        "#   # print(\"Train_A_No_Augmentations has class count:\", count_cifar10_class(train_A_noalb))\n",
        "#   # pretty_display_of_dataset(train_A_alb, \"Train Set A - Augmentations\", opttext = \"before batching\")\n",
        "\n",
        "\n",
        "#   # ------------------------------------\n",
        "#   # Merge/Concatenate Augmented and Non-Augmented into dataset: NEW_TRAIN_A,  then return the total count of images \n",
        "#   # ------------------------------------\n",
        "#   new_train_A = train_A_noalb.concatenate(train_A_alb)\n",
        "#   # at 9pm I switched the order of these because I think I'm not seeing no_aug until the very last batches? I need to shuffle the batches....\n",
        "#   #pretty_display_of_dataset(new_train_A, \"New Training Set A - Merged with the Augmented, and Non-Augmented\", opttext = \"before batching\")\n",
        "\n",
        "# # ------------------------------------\n",
        "# # Batch Consolidated Dataset  \n",
        "# # ------------------------------------\n",
        "#   new_train_A_batch = 250 \n",
        "#   tot_new_train_A = 5000 # should be 250*10*2 = 5000\n",
        "\n",
        "#   new_train_A = cache_prefetch_group(new_train_A,  SHUFFLE=tot_new_train_A, batch=new_train_A_batch, SEED = seed)\n",
        "\n",
        "# # ------------------------------------\n",
        "# # Send Consolidated Dataset through Model & View Model Training Statistics Output \n",
        "# # ------------------------------------\n",
        "#   # take the created model from passing dropout, and pass the training data through it\n",
        "#   modeltrained = trainmodel(MODEL = model, TRAININGDATA= new_train_A)\n",
        "\n",
        "# # ------------------------------------\n",
        "# # See pictures that were sent through model, up to five batches\n",
        "# # ------------------------------------\n",
        "#   pretty_display_of_dataset(ds= new_train_A, dstitle=\"New Training Set A\", opttext= \"after Shuffling and Batching\") \n",
        "\n",
        "\n",
        "# # ------------------------------------\n",
        "# # Test Statistics for Model \n",
        "# # ------------------------------------\n",
        "#   # Retrieve the TEst Loss and Accuracy after training is complete\n",
        "#   loss, acc = modeltrained.evaluate(x_test, verbose=0) \n",
        "#   print(\"TestLoss: \", loss, \" TestAcc:\", acc)\n",
        "\n",
        "\n",
        "\n",
        "# # ------------------------------------\n",
        "# # Get Predictions from Test Set to use in Confusion Matrix\n",
        "# # ------------------------------------\n",
        "\n",
        "#   #Get the predictions of Y_hat from passing X_Test into the model\n",
        "#   y_pred = modeltrained.predict(x_test)\n",
        "\n",
        "#   # The Y_Hats are y_pred of continuous probabilities into a 1-coded label vectors\n",
        "#   y_pred_1hot = np.argmax(y_pred, axis=1)\n",
        "#   cm = confusion_matrix(y_true = y_test, y_pred = y_pred_1hot,  labels=[0, 1, 2, 3, 4, 5, 6, 7, 8, 9] ) \n",
        "#   cm_norm = confusion_matrix(y_true = y_test, y_pred = y_pred_1hot,  labels=[0, 1, 2, 3, 4, 5, 6, 7, 8, 9], normalize ='true' ) \n",
        "#   # disp = ConfusionMatrixDisplay(cm, display_labels=['airplane', 'automobile','bird','cat','deer','dog','frog','horse','ship','truck']).plot()\n",
        "#   make_accuracy_dictionary(cm_norm)\n",
        "\n",
        "#   # confusion_matrix(y_true = y_test, y_pred = y_pred_1hot )\n",
        "#   # show_confusion_matrix(y_test, y_pred_1hot, CLASSES = CLASSES)\n",
        "\n",
        "# # ------------------------------------\n",
        "# # Save every 10 runs and final file\n",
        "# # ------------------------------------\n",
        "#   Group_A_Runs[run] = {'TestAccuracy': acc, 'TestLoss': loss, 'CM': cm, 'CM_norm': cm_norm}\n",
        "  \n",
        "#   if run != 0:\n",
        "#     if run == 50:      \n",
        "# # ------------------------------------\n",
        "# # Save  final file\n",
        "# # ------------------------------------  \n",
        "#       with open('runs_groupA_final.pkl', 'wb') as fid:\n",
        "#           pickle.dump(Group_A_Runs, fid)\n",
        "#           files.download('runs_groupA_final.pkl')\n",
        "          \n",
        "#           timetoprint = datetime.datetime.now().strftime(\"%a, %d %B %Y %H:%M:%S\")\n",
        "#           print(\"Final Download attempted : \", timetoprint, \" (subtract 3-hours from Hour), and file is called runs_groupA_final.pkl \")\n",
        "# # ------------------------------------\n",
        "# # Save  intermittent files\n",
        "# # ------------------------------------  \n",
        "\n",
        "#     if run%12 == 0:  #When i =12,24,36, save/download file\n",
        "#       with open('runs_groupA.pkl', 'wb') as fid:\n",
        "#           pickle.dump(Group_A_Runs, fid)\n",
        "#           files.download('runs_groupA.pkl')\n",
        "          \n",
        "#           timetoprint = datetime.datetime.now().strftime(\"%a, %d %B %Y %H:%M:%S\")\n",
        "#           print(\"Download attempted : \", timetoprint, \" (subtract 3-hours from Hour), and file is called runs_groupA.pkl \")\n",
        "\n",
        " "
      ],
      "execution_count": 177,
      "outputs": []
    },
    {
      "cell_type": "markdown",
      "metadata": {
        "id": "53ElrngUC8FJ"
      },
      "source": [
        "### Defining all the no_augmentation groups before model-building-and-testing"
      ]
    },
    {
      "cell_type": "code",
      "metadata": {
        "id": "x1ibulkE_pKZ"
      },
      "source": [
        "\n",
        "# I am having trouble defining no_augmentation datasets inside the for-loop so i decided to define them outside the for-loop\n",
        "# ------------------------------------\n",
        "# Create Non-Augmented Dataset train_A_noalb \n",
        "# ------------------------------------\n",
        "# until i figure out a better way , this is my way of ensuring that the unaugmented dataset is compatible datatype with that augmented one\n",
        "def make_noalb(ds, dstitle):\n",
        "  train_X_noalb = augment_data(dataset = make_unbatched(ds), process= no_process_data, dataset_text = str(\"TrainingGroup\" + dstitle+ \"NotAugmented\"),)\n",
        "  return train_X_noalb\n",
        "\n",
        "# train_B_noalb = augment_data(dataset = make_unbatched(train_B), process= no_process_data, dataset_text = \"Train_BNotAugmented\",  passtransforms=no_transforms)\n",
        "# print(\"train_B_noalb created\")\n",
        "# pretty_display_of_dataset(train_B_noalb, \"noAugmentations\") \n",
        "\n",
        "\n",
        "\n",
        "train_A_noalb = make_noalb(train_A, \"A\")\n",
        "train_B_noalb = make_noalb(train_B, \"B\")\n",
        "\n",
        "train_C_noalb = make_noalb(train_C, \"C\")\n",
        "train_D_noalb = make_noalb(train_D, \"D\")\n",
        "\n",
        "train_E_noalb = make_noalb(train_E, \"E\")\n",
        "train_F_noalb = make_noalb(train_F, \"F\")\n",
        "\n",
        "train_G_noalb = make_noalb(train_G, \"G\")\n",
        "train_H_noalb = make_noalb(train_H, \"H\")\n",
        "\n",
        "train_I_noalb = make_noalb(train_I, \"I\")\n",
        "train_J_noalb = make_noalb(train_J, \"J\")"
      ],
      "execution_count": 178,
      "outputs": []
    },
    {
      "cell_type": "code",
      "metadata": {
        "id": "A8SkcBNhHcHf"
      },
      "source": [
        "def run_through_runs(ds, ds_noalb, dstitle = \"X\", showpictures=True):\n",
        "  filename = \"runs_Group\" + dstitle\n",
        "  print(\"filename will be: \", filename, \".pkl\")\n",
        "  originalfilename = filename\n",
        "  # ---------------------------------------------------------------------------\n",
        "  # Create Training-Group-Specific Dictionary to collect important metrics at the end of all runs \n",
        "  # ----------------------------------------------------------------------------\n",
        "  Group_X_Runs = {}   #dictionary\n",
        "  # Group_X_Runs[run] = {'TestAccuracy': 0}\n",
        "\n",
        "\n",
        "  # ---------------------------------------------------------------------------\n",
        "  # For Loop of Runs\n",
        "  # when running the full design matrix, ensure ENDRUNS = 51  (50 + baseline run)\n",
        "  # the for loop will go through each run like this: df_experimentalruns.loc[run, \"WhateverFactors\"]:\n",
        "  # ----------------------------------------------------------------------------\n",
        "\n",
        "  ENDRUNS = 51\n",
        "  # assert ENDRUNS == 51\n",
        "\n",
        "  for run in range(0,51): \n",
        "    filename = originalfilename  #reset so you dont get Downloading \"runs_GroupA.pkl.pkl.pkl.pkl.pkl.pkl.pkl.pkl.pkl.pkl.pkl.pkl\"\n",
        "\n",
        "\n",
        "    # run = run + 1  # commented out after I added a Do-Nothing Run, I now have a real index 0 in the test-run-matrix  \n",
        "    print(\"\\n\", (str(run) + \" \")*50)\n",
        "    print(\"\\n   Begin Run: \", run)\n",
        "    print(\"\\n\", (str(run) + \" \")*50, \"\\n\")\n",
        "    \n",
        "\n",
        "    #Use my vanilla CNN model function to build a  model with a certain dropout level\n",
        "    model = makemodel(DROPOUT=df_experimentalruns.loc[run,'dropout'])\n",
        "\n",
        "    # ------------------------------------\n",
        "    # Create Run-Specific Transformations \n",
        "    # ------------------------------------\n",
        "\n",
        "    # build  Albumentations list of transformations by passing each run's required parameters \n",
        "    list_of_transforms = augmentfunction( df_experimentalruns, run )\n",
        "\n",
        "    # pass the list of transforms to Albumentations Compose function\n",
        "    global transforms \n",
        "    transforms = A.Compose(list_of_transforms)\n",
        "\n",
        "    \n",
        "    # ------------------------------------\n",
        "    # Create Augmented Dataset train_A_alb \n",
        "    # ------------------------------------\n",
        "    \n",
        "    # Augment the unbatched Training_Group_A through the Process_Data Function to create train_A_alb (albu = albumentations/augmentations)\n",
        "    train_X_alb = augment_data(dataset = ds, process= process_data, dataset_text = \"Augmented Dataset\", )\n",
        "    # print(\"train_X_alb created\")\n",
        "    # pretty_display_of_dataset(train_X_alb, \"Augmentations\")\n",
        "\n",
        "    # # ------------------------------------\n",
        "    # # Create Non-Augmented Dataset train_A_noalb \n",
        "    # # ------------------------------------\n",
        "    # # until i figure out a better way , this is my way of ensuring that the unaugmented dataset is compatible datatype with that augmented one\n",
        "\n",
        "    # train_X_noalb = augment_data(dataset = ds, \n",
        "    #                          process= no_process_data,\n",
        "    #                         #  batchsize=100,\n",
        "    #                          dataset_text = str(dstitle+\"NotAugmented\"), passtransforms=no_transforms)\n",
        "    # print(\"train_X_noalb created\")\n",
        "    # pretty_display_of_dataset(train_X_noalb, \"noAugmentations\") \n",
        "\n",
        "\n",
        "    # ------------------------------------\n",
        "    # Print the number of total images in each unbatched dataset train_A_alb, and train_A_noalb \n",
        "    # -----------------------------------\n",
        "    # removed because counting the items in a dataset is insanely time-expensive, unfortunately\n",
        "\n",
        "\n",
        "\n",
        "    # ------------------------------------\n",
        "    # Merge/Concatenate Augmented and Non-Augmented into dataset: NEW_TRAIN_A,  then return the total count of images \n",
        "    # ------------------------------------\n",
        "\n",
        "    new_train_X = ds_noalb.concatenate(train_X_alb)\n",
        "    # print(\"new_train_X created\")\n",
        "    # print(new_train_X)\n",
        "    # pretty_display_of_dataset(new_train_X, \"newTrainX\") \n",
        "\n",
        "    # at 9pm I switched the order of these because I think I'm not seeing no_aug until the very last batches? I need to shuffle the batches....\n",
        "    #pretty_display_of_dataset(new_train_A, \"New Training Set A - Merged with the Augmented, and Non-Augmented\", opttext = \"before batching\")\n",
        "\n",
        "    # ------------------------------------\n",
        "    # Batch Consolidated Dataset  \n",
        "    # ------------------------------------\n",
        "    new_train_X_batch = 250 \n",
        "    tot_new_train_X = 5000 # should be 250*10*2 = 5000\n",
        "\n",
        "    new_train_X= cache_prefetch_group(new_train_X,  SHUFFLE=tot_new_train_X, batch=new_train_X_batch, SEED = seed)\n",
        "    # print(\"new_train_X batched\")\n",
        "    # ------------------------------------\n",
        "    # Send Consolidated Dataset through Model & View Model Training Statistics Output \n",
        "    # ------------------------------------\n",
        "    # take the created model from passing dropout, and pass the training data through it\n",
        "    print(\"Training Model... \")\n",
        "    modeltrained = trainmodel(MODEL = model, TRAININGDATA= new_train_X)\n",
        "\n",
        "    # ------------------------------------\n",
        "    # See pictures that were sent through model, up to five batches\n",
        "    # ------------------------------------\n",
        "    if showpictures == True:\n",
        "      pretty_display_of_dataset(new_train_X, dstitle, ) \n",
        "\n",
        "\n",
        "    # ------------------------------------\n",
        "    # Test Statistics for Model \n",
        "    # ------------------------------------\n",
        "    # Retrieve the TEst Loss and Accuracy after training is complete\n",
        "    loss, acc = modeltrained.evaluate(x_test, verbose=0) \n",
        "    print(\"TestLoss: \", loss, \" TestAcc:\", acc)\n",
        "\n",
        "\n",
        "\n",
        "    # ------------------------------------\n",
        "    # Get Predictions from Test Set to use in Confusion Matrix\n",
        "    # ------------------------------------\n",
        "\n",
        "    #Get the predictions of Y_hat from passing X_Test into the model\n",
        "    y_pred = modeltrained.predict(x_test)\n",
        "\n",
        "    # The Y_Hats are y_pred of continuous probabilities into a 1-coded label vectors\n",
        "    y_pred_1hot = np.argmax(y_pred, axis=1)\n",
        "    cm = confusion_matrix(y_true = y_test, y_pred = y_pred_1hot,  labels=[0, 1, 2, 3, 4, 5, 6, 7, 8, 9] ) \n",
        "    cm_norm = confusion_matrix(y_true = y_test, y_pred = y_pred_1hot,  labels=[0, 1, 2, 3, 4, 5, 6, 7, 8, 9], normalize ='true' ) \n",
        "    # disp = ConfusionMatrixDisplay(cm, display_labels=['airplane', 'automobile','bird','cat','deer','dog','frog','horse','ship','truck']).plot()\n",
        "    make_accuracy_dictionary(cm_norm)\n",
        "\n",
        "    # confusion_matrix(y_true = y_test, y_pred = y_pred_1hot )\n",
        "    #def show_confusion_matrix_wo_diagonal(test_labels, predictions, CLASSES):\n",
        "    show_confusion_matrix_wo_diagonal(y_test, y_pred_1hot, CLASSES = CLASSES, run=run)\n",
        "\n",
        "    # ------------------------------------\n",
        "    # Save every 10 runs and final file\n",
        "    # ------------------------------------\n",
        "    Group_X_Runs[run] = {'TestAccuracy': acc, 'TestLoss': loss, 'CM': cm, 'CM_norm': cm_norm}\n",
        "    \n",
        "    \n",
        "\n",
        "    # I cannot figure out why it downloads my files twice\n",
        "    if run != 0:\n",
        "\n",
        "      if run == 50: \n",
        "        # print(\"run == 50 is true\")    \n",
        "        filename = originalfilename + \"_final.pkl\"   \n",
        "        with open(filename, 'wb') as fid:\n",
        "          pickle.dump(Group_X_Runs, fid)\n",
        "          files.download(filename)\n",
        "          \n",
        "          timetoprint = datetime.datetime.now().strftime(\"%a, %d %B %Y %H:%M:%S\")\n",
        "          print(\"Final Download attempted : \", timetoprint, \" (subtract ~5-hours for local Hour), and file is called \", filename)\n",
        "\n",
        "        # end write\n",
        "      # end if\n",
        "      # if run != 50:\n",
        "      #   # ------------------------------------\n",
        "      #   # Save  intermittent files\n",
        "      #   # ------------------------------------  \n",
        "      #   if run%14 == 0:  #When i save/download file  14 28 42 \n",
        "      #     filename = str(originalfilename + \".pkl\")\n",
        "      #     with open(filename, 'wb') as fid:\n",
        "      #       pickle.dump(Group_X_Runs, fid)\n",
        "      #       files.download(filename)\n",
        "            \n",
        "      #       timetoprint = datetime.datetime.now().strftime(\"%a, %d %B %Y %H:%M:%S\")\n",
        "      #       print(\"Download attempted : \", timetoprint, \" (subtract ~5-hours for local Hour), and file is called\",  filename)\n",
        "          #\n",
        "        #\n",
        "      #\n",
        "    \n",
        " "
      ],
      "execution_count": 230,
      "outputs": []
    },
    {
      "cell_type": "code",
      "metadata": {
        "id": "4sqEZODLJiVu"
      },
      "source": [
        "# run_through_runs(ds=make_unbatched(train_A), ds_noalb=train_A_noalb, dstitle=\"A\" , showpictures= True)  #complete 11/10/21"
      ],
      "execution_count": null,
      "outputs": []
    },
    {
      "cell_type": "code",
      "metadata": {
        "colab": {
          "base_uri": "https://localhost:8080/",
          "height": 1000
        },
        "id": "VJ0E3H0CPG2m",
        "outputId": "f50bfc49-b39f-43f3-88a2-11cd3e531ce6"
      },
      "source": [
        "run_through_runs(ds=make_unbatched(train_B), ds_noalb=train_B_noalb, dstitle=\"B\" , showpictures= False)\n"
      ],
      "execution_count": 223,
      "outputs": [
        {
          "output_type": "stream",
          "name": "stdout",
          "text": [
            "filename will be:  runs_GroupB .pkl\n",
            "\n",
            " 0 0 0 0 0 0 0 0 0 0 0 0 0 0 0 0 0 0 0 0 0 0 0 0 0 0 0 0 0 0 0 0 0 0 0 0 0 0 0 0 0 0 0 0 0 0 0 0 0 0 \n",
            "\n",
            "   Begin Run:  0\n",
            "\n",
            " 0 0 0 0 0 0 0 0 0 0 0 0 0 0 0 0 0 0 0 0 0 0 0 0 0 0 0 0 0 0 0 0 0 0 0 0 0 0 0 0 0 0 0 0 0 0 0 0 0 0  \n",
            "\n",
            "Dropout is:  0.5\n",
            "Shift X:  ( 0.0 , 0.0 ) or ( -0.0 , -0.0 )\n",
            "Shift Y:  ( 0.0 , 0.0 )or ( -0.0 , -0.0 )\n",
            "Gamma:    ( 100 , 100 )\n",
            "ZoomOut:  ( -0.0 , -0.0 )\n",
            "ZoomIn:   ( 0.0 , 0.0 )\n",
            "Noise:    ( 0 , 0 )\n",
            "blur:     ( 0 , 1 )\n",
            "sharp:    ( 0.0 , 0.0 )\n",
            "Contrast: ( 0.0 , 0.0 )\n",
            "Bright:   ( 0.0 , 0.0 )\n",
            "Darken:   ( -0.0 , -0.0 )\n",
            "Rotate:   ( 0 , 0 ) or ( 0 , 0 )\n",
            "pHorizontalFlip:    0\n",
            "pVerticalFlip:      0\n",
            "pEqualize:          0\n",
            "pFancyPCA:          0\n",
            "pChannelShuffle:    0\n",
            "pElasticTransform:  0\n",
            "pToGray:            0\n",
            "* * * * * * * * * * * * * * * * * * * * * * * * * * * * * * * * * * * * * * * * * * * * * * * * * * *  \n",
            "\n",
            "\n",
            "\n",
            " 5 5 5 5 5 5 5 5 5 5 5 5 5 5 5 5 5 5 5 5 5 5 5 5 5 5 5 5 5 5 5 5 5 5 5 5 5 5 5 5 5 5 5 5 5 5 5 5 5 5 \n",
            "\n",
            "   Begin Run:  5\n",
            "\n",
            " 5 5 5 5 5 5 5 5 5 5 5 5 5 5 5 5 5 5 5 5 5 5 5 5 5 5 5 5 5 5 5 5 5 5 5 5 5 5 5 5 5 5 5 5 5 5 5 5 5 5  \n",
            "\n",
            "Dropout is:  0.4\n",
            "Shift X:  ( 0.0 , 0.0 ) or ( -0.0 , -0.0 )\n",
            "Shift Y:  ( 0.125 , 0.125 )or ( -0.125 , -0.125 )\n",
            "Gamma:    ( 100 , 100 )\n",
            "ZoomOut:  ( -0.16 , -0.16 )\n",
            "ZoomIn:   ( 0.08 , 0.08 )\n",
            "Noise:    ( 0 , 0 )\n",
            "blur:     ( 7 , 7 )\n",
            "sharp:    ( 0.0 , 0.0 )\n",
            "Contrast: ( 0.0 , 0.0 )\n",
            "Bright:   ( 0.2 , 0.2 )\n",
            "Darken:   ( -0.2 , -0.2 )\n",
            "Rotate:   ( 14 , 14 ) or ( -14 , -14 )\n",
            "pHorizontalFlip:    0\n",
            "pVerticalFlip:      1\n",
            "pEqualize:          1\n",
            "pFancyPCA:          0\n",
            "pChannelShuffle:    1\n",
            "pElasticTransform:  0\n",
            "pToGray:            0\n",
            "* * * * * * * * * * * * * * * * * * * * * * * * * * * * * * * * * * * * * * * * * * * * * * * * * * *  \n",
            "\n",
            "\n",
            "\n",
            " 10 10 10 10 10 10 10 10 10 10 10 10 10 10 10 10 10 10 10 10 10 10 10 10 10 10 10 10 10 10 10 10 10 10 10 10 10 10 10 10 10 10 10 10 10 10 10 10 10 10 \n",
            "\n",
            "   Begin Run:  10\n",
            "\n",
            " 10 10 10 10 10 10 10 10 10 10 10 10 10 10 10 10 10 10 10 10 10 10 10 10 10 10 10 10 10 10 10 10 10 10 10 10 10 10 10 10 10 10 10 10 10 10 10 10 10 10  \n",
            "\n",
            "Dropout is:  0.5\n",
            "Shift X:  ( 0.0 , 0.0 ) or ( -0.0 , -0.0 )\n",
            "Shift Y:  ( 0.0 , 0.0 )or ( -0.0 , -0.0 )\n",
            "Gamma:    ( 100 , 100 )\n",
            "ZoomOut:  ( -0.0 , -0.0 )\n",
            "ZoomIn:   ( 0.16 , 0.16 )\n",
            "Noise:    ( 24 , 24 )\n",
            "blur:     ( 7 , 7 )\n",
            "sharp:    ( 0.1 , 0.1 )\n",
            "Contrast: ( 0.0 , 0.0 )\n",
            "Bright:   ( 0.2 , 0.2 )\n",
            "Darken:   ( -0.0 , -0.0 )\n",
            "Rotate:   ( 14 , 14 ) or ( -14 , -14 )\n",
            "pHorizontalFlip:    0\n",
            "pVerticalFlip:      0\n",
            "pEqualize:          0\n",
            "pFancyPCA:          0\n",
            "pChannelShuffle:    1\n",
            "pElasticTransform:  0\n",
            "pToGray:            1\n",
            "* * * * * * * * * * * * * * * * * * * * * * * * * * * * * * * * * * * * * * * * * * * * * * * * * * *  \n",
            "\n",
            "\n"
          ]
        },
        {
          "output_type": "display_data",
          "data": {
            "application/javascript": [
              "\n",
              "    async function download(id, filename, size) {\n",
              "      if (!google.colab.kernel.accessAllowed) {\n",
              "        return;\n",
              "      }\n",
              "      const div = document.createElement('div');\n",
              "      const label = document.createElement('label');\n",
              "      label.textContent = `Downloading \"${filename}\": `;\n",
              "      div.appendChild(label);\n",
              "      const progress = document.createElement('progress');\n",
              "      progress.max = size;\n",
              "      div.appendChild(progress);\n",
              "      document.body.appendChild(div);\n",
              "\n",
              "      const buffers = [];\n",
              "      let downloaded = 0;\n",
              "\n",
              "      const channel = await google.colab.kernel.comms.open(id);\n",
              "      // Send a message to notify the kernel that we're ready.\n",
              "      channel.send({})\n",
              "\n",
              "      for await (const message of channel.messages) {\n",
              "        // Send a message to notify the kernel that we're ready.\n",
              "        channel.send({})\n",
              "        if (message.buffers) {\n",
              "          for (const buffer of message.buffers) {\n",
              "            buffers.push(buffer);\n",
              "            downloaded += buffer.byteLength;\n",
              "            progress.value = downloaded;\n",
              "          }\n",
              "        }\n",
              "      }\n",
              "      const blob = new Blob(buffers, {type: 'application/binary'});\n",
              "      const a = document.createElement('a');\n",
              "      a.href = window.URL.createObjectURL(blob);\n",
              "      a.download = filename;\n",
              "      div.appendChild(a);\n",
              "      a.click();\n",
              "      div.remove();\n",
              "    }\n",
              "  "
            ],
            "text/plain": [
              "<IPython.core.display.Javascript object>"
            ]
          },
          "metadata": {}
        },
        {
          "output_type": "display_data",
          "data": {
            "application/javascript": [
              "download(\"download_8f0ba1c1-8eed-4c49-9004-ff2c4f9c917a\", \"runs_GroupB.pkl\", 0)"
            ],
            "text/plain": [
              "<IPython.core.display.Javascript object>"
            ]
          },
          "metadata": {}
        },
        {
          "output_type": "stream",
          "name": "stdout",
          "text": [
            "Download attempted :  Thu, 11 November 2021 17:47:49  (subtract ~5-hours for local Hour), and file is called runs_GroupB.pkl\n",
            "\n",
            " 15 15 15 15 15 15 15 15 15 15 15 15 15 15 15 15 15 15 15 15 15 15 15 15 15 15 15 15 15 15 15 15 15 15 15 15 15 15 15 15 15 15 15 15 15 15 15 15 15 15 \n",
            "\n",
            "   Begin Run:  15\n",
            "\n",
            " 15 15 15 15 15 15 15 15 15 15 15 15 15 15 15 15 15 15 15 15 15 15 15 15 15 15 15 15 15 15 15 15 15 15 15 15 15 15 15 15 15 15 15 15 15 15 15 15 15 15  \n",
            "\n",
            "Dropout is:  0.6\n",
            "Shift X:  ( 0.0625 , 0.0625 ) or ( -0.0625 , -0.0625 )\n",
            "Shift Y:  ( 0.125 , 0.125 )or ( -0.125 , -0.125 )\n",
            "Gamma:    ( 120 , 120 )\n",
            "ZoomOut:  ( -0.16 , -0.16 )\n",
            "ZoomIn:   ( 0.16 , 0.16 )\n",
            "Noise:    ( 24 , 24 )\n",
            "blur:     ( 7 , 7 )\n",
            "sharp:    ( 0.1 , 0.1 )\n",
            "Contrast: ( 0.2 , 0.2 )\n",
            "Bright:   ( 0.2 , 0.2 )\n",
            "Darken:   ( -0.2 , -0.2 )\n",
            "Rotate:   ( 14 , 14 ) or ( -14 , -14 )\n",
            "pHorizontalFlip:    1\n",
            "pVerticalFlip:      1\n",
            "pEqualize:          1\n",
            "pFancyPCA:          1\n",
            "pChannelShuffle:    1\n",
            "pElasticTransform:  1\n",
            "pToGray:            1\n",
            "* * * * * * * * * * * * * * * * * * * * * * * * * * * * * * * * * * * * * * * * * * * * * * * * * * *  \n",
            "\n",
            "\n",
            "\n",
            " 20 20 20 20 20 20 20 20 20 20 20 20 20 20 20 20 20 20 20 20 20 20 20 20 20 20 20 20 20 20 20 20 20 20 20 20 20 20 20 20 20 20 20 20 20 20 20 20 20 20 \n",
            "\n",
            "   Begin Run:  20\n",
            "\n",
            " 20 20 20 20 20 20 20 20 20 20 20 20 20 20 20 20 20 20 20 20 20 20 20 20 20 20 20 20 20 20 20 20 20 20 20 20 20 20 20 20 20 20 20 20 20 20 20 20 20 20  \n",
            "\n",
            "Dropout is:  0.6\n",
            "Shift X:  ( 0.0 , 0.0 ) or ( -0.0 , -0.0 )\n",
            "Shift Y:  ( 0.0 , 0.0 )or ( -0.0 , -0.0 )\n",
            "Gamma:    ( 100 , 100 )\n",
            "ZoomOut:  ( -0.16 , -0.16 )\n",
            "ZoomIn:   ( 0.16 , 0.16 )\n",
            "Noise:    ( 0 , 0 )\n",
            "blur:     ( 0 , 1 )\n",
            "sharp:    ( 0.0 , 0.0 )\n",
            "Contrast: ( 0.2 , 0.2 )\n",
            "Bright:   ( 0.2 , 0.2 )\n",
            "Darken:   ( -0.0 , -0.0 )\n",
            "Rotate:   ( 0 , 0 ) or ( 0 , 0 )\n",
            "pHorizontalFlip:    1\n",
            "pVerticalFlip:      1\n",
            "pEqualize:          0\n",
            "pFancyPCA:          1\n",
            "pChannelShuffle:    1\n",
            "pElasticTransform:  0\n",
            "pToGray:            0\n",
            "* * * * * * * * * * * * * * * * * * * * * * * * * * * * * * * * * * * * * * * * * * * * * * * * * * *  \n",
            "\n",
            "\n"
          ]
        },
        {
          "output_type": "display_data",
          "data": {
            "application/javascript": [
              "\n",
              "    async function download(id, filename, size) {\n",
              "      if (!google.colab.kernel.accessAllowed) {\n",
              "        return;\n",
              "      }\n",
              "      const div = document.createElement('div');\n",
              "      const label = document.createElement('label');\n",
              "      label.textContent = `Downloading \"${filename}\": `;\n",
              "      div.appendChild(label);\n",
              "      const progress = document.createElement('progress');\n",
              "      progress.max = size;\n",
              "      div.appendChild(progress);\n",
              "      document.body.appendChild(div);\n",
              "\n",
              "      const buffers = [];\n",
              "      let downloaded = 0;\n",
              "\n",
              "      const channel = await google.colab.kernel.comms.open(id);\n",
              "      // Send a message to notify the kernel that we're ready.\n",
              "      channel.send({})\n",
              "\n",
              "      for await (const message of channel.messages) {\n",
              "        // Send a message to notify the kernel that we're ready.\n",
              "        channel.send({})\n",
              "        if (message.buffers) {\n",
              "          for (const buffer of message.buffers) {\n",
              "            buffers.push(buffer);\n",
              "            downloaded += buffer.byteLength;\n",
              "            progress.value = downloaded;\n",
              "          }\n",
              "        }\n",
              "      }\n",
              "      const blob = new Blob(buffers, {type: 'application/binary'});\n",
              "      const a = document.createElement('a');\n",
              "      a.href = window.URL.createObjectURL(blob);\n",
              "      a.download = filename;\n",
              "      div.appendChild(a);\n",
              "      a.click();\n",
              "      div.remove();\n",
              "    }\n",
              "  "
            ],
            "text/plain": [
              "<IPython.core.display.Javascript object>"
            ]
          },
          "metadata": {}
        },
        {
          "output_type": "display_data",
          "data": {
            "application/javascript": [
              "download(\"download_609ad7d8-a61b-4e94-8a35-e61b5da9598c\", \"runs_GroupB.pkl\", 0)"
            ],
            "text/plain": [
              "<IPython.core.display.Javascript object>"
            ]
          },
          "metadata": {}
        },
        {
          "output_type": "stream",
          "name": "stdout",
          "text": [
            "Download attempted :  Thu, 11 November 2021 17:47:49  (subtract ~5-hours for local Hour), and file is called runs_GroupB.pkl\n",
            "\n",
            " 25 25 25 25 25 25 25 25 25 25 25 25 25 25 25 25 25 25 25 25 25 25 25 25 25 25 25 25 25 25 25 25 25 25 25 25 25 25 25 25 25 25 25 25 25 25 25 25 25 25 \n",
            "\n",
            "   Begin Run:  25\n",
            "\n",
            " 25 25 25 25 25 25 25 25 25 25 25 25 25 25 25 25 25 25 25 25 25 25 25 25 25 25 25 25 25 25 25 25 25 25 25 25 25 25 25 25 25 25 25 25 25 25 25 25 25 25  \n",
            "\n",
            "Dropout is:  0.5\n",
            "Shift X:  ( 0.125 , 0.125 ) or ( -0.125 , -0.125 )\n",
            "Shift Y:  ( 0.125 , 0.125 )or ( -0.125 , -0.125 )\n",
            "Gamma:    ( 120 , 120 )\n",
            "ZoomOut:  ( -0.16 , -0.16 )\n",
            "ZoomIn:   ( 0.0 , 0.0 )\n",
            "Noise:    ( 0 , 0 )\n",
            "blur:     ( 0 , 1 )\n",
            "sharp:    ( 0.0 , 0.0 )\n",
            "Contrast: ( 0.2 , 0.2 )\n",
            "Bright:   ( 0.0 , 0.0 )\n",
            "Darken:   ( -0.2 , -0.2 )\n",
            "Rotate:   ( 0 , 0 ) or ( 0 , 0 )\n",
            "pHorizontalFlip:    1\n",
            "pVerticalFlip:      1\n",
            "pEqualize:          1\n",
            "pFancyPCA:          1\n",
            "pChannelShuffle:    0\n",
            "pElasticTransform:  1\n",
            "pToGray:            0\n",
            "* * * * * * * * * * * * * * * * * * * * * * * * * * * * * * * * * * * * * * * * * * * * * * * * * * *  \n",
            "\n",
            "\n",
            "\n",
            " 30 30 30 30 30 30 30 30 30 30 30 30 30 30 30 30 30 30 30 30 30 30 30 30 30 30 30 30 30 30 30 30 30 30 30 30 30 30 30 30 30 30 30 30 30 30 30 30 30 30 \n",
            "\n",
            "   Begin Run:  30\n",
            "\n",
            " 30 30 30 30 30 30 30 30 30 30 30 30 30 30 30 30 30 30 30 30 30 30 30 30 30 30 30 30 30 30 30 30 30 30 30 30 30 30 30 30 30 30 30 30 30 30 30 30 30 30  \n",
            "\n",
            "Dropout is:  0.4\n",
            "Shift X:  ( 0.0 , 0.0 ) or ( -0.0 , -0.0 )\n",
            "Shift Y:  ( 0.0 , 0.0 )or ( -0.0 , -0.0 )\n",
            "Gamma:    ( 100 , 100 )\n",
            "ZoomOut:  ( -0.16 , -0.16 )\n",
            "ZoomIn:   ( 0.16 , 0.16 )\n",
            "Noise:    ( 24 , 24 )\n",
            "blur:     ( 0 , 1 )\n",
            "sharp:    ( 0.05 , 0.05 )\n",
            "Contrast: ( 0.2 , 0.2 )\n",
            "Bright:   ( 0.0 , 0.0 )\n",
            "Darken:   ( -0.2 , -0.2 )\n",
            "Rotate:   ( 14 , 14 ) or ( -14 , -14 )\n",
            "pHorizontalFlip:    0\n",
            "pVerticalFlip:      0\n",
            "pEqualize:          0\n",
            "pFancyPCA:          1\n",
            "pChannelShuffle:    0\n",
            "pElasticTransform:  1\n",
            "pToGray:            0\n",
            "* * * * * * * * * * * * * * * * * * * * * * * * * * * * * * * * * * * * * * * * * * * * * * * * * * *  \n",
            "\n",
            "\n"
          ]
        },
        {
          "output_type": "display_data",
          "data": {
            "application/javascript": [
              "\n",
              "    async function download(id, filename, size) {\n",
              "      if (!google.colab.kernel.accessAllowed) {\n",
              "        return;\n",
              "      }\n",
              "      const div = document.createElement('div');\n",
              "      const label = document.createElement('label');\n",
              "      label.textContent = `Downloading \"${filename}\": `;\n",
              "      div.appendChild(label);\n",
              "      const progress = document.createElement('progress');\n",
              "      progress.max = size;\n",
              "      div.appendChild(progress);\n",
              "      document.body.appendChild(div);\n",
              "\n",
              "      const buffers = [];\n",
              "      let downloaded = 0;\n",
              "\n",
              "      const channel = await google.colab.kernel.comms.open(id);\n",
              "      // Send a message to notify the kernel that we're ready.\n",
              "      channel.send({})\n",
              "\n",
              "      for await (const message of channel.messages) {\n",
              "        // Send a message to notify the kernel that we're ready.\n",
              "        channel.send({})\n",
              "        if (message.buffers) {\n",
              "          for (const buffer of message.buffers) {\n",
              "            buffers.push(buffer);\n",
              "            downloaded += buffer.byteLength;\n",
              "            progress.value = downloaded;\n",
              "          }\n",
              "        }\n",
              "      }\n",
              "      const blob = new Blob(buffers, {type: 'application/binary'});\n",
              "      const a = document.createElement('a');\n",
              "      a.href = window.URL.createObjectURL(blob);\n",
              "      a.download = filename;\n",
              "      div.appendChild(a);\n",
              "      a.click();\n",
              "      div.remove();\n",
              "    }\n",
              "  "
            ],
            "text/plain": [
              "<IPython.core.display.Javascript object>"
            ]
          },
          "metadata": {}
        },
        {
          "output_type": "display_data",
          "data": {
            "application/javascript": [
              "download(\"download_b493739d-9732-45f0-be19-d948039f5960\", \"runs_GroupB.pkl\", 0)"
            ],
            "text/plain": [
              "<IPython.core.display.Javascript object>"
            ]
          },
          "metadata": {}
        },
        {
          "output_type": "stream",
          "name": "stdout",
          "text": [
            "Download attempted :  Thu, 11 November 2021 17:47:49  (subtract ~5-hours for local Hour), and file is called runs_GroupB.pkl\n",
            "\n",
            " 35 35 35 35 35 35 35 35 35 35 35 35 35 35 35 35 35 35 35 35 35 35 35 35 35 35 35 35 35 35 35 35 35 35 35 35 35 35 35 35 35 35 35 35 35 35 35 35 35 35 \n",
            "\n",
            "   Begin Run:  35\n",
            "\n",
            " 35 35 35 35 35 35 35 35 35 35 35 35 35 35 35 35 35 35 35 35 35 35 35 35 35 35 35 35 35 35 35 35 35 35 35 35 35 35 35 35 35 35 35 35 35 35 35 35 35 35  \n",
            "\n",
            "Dropout is:  0.4\n",
            "Shift X:  ( 0.0 , 0.0 ) or ( -0.0 , -0.0 )\n",
            "Shift Y:  ( 0.125 , 0.125 )or ( -0.125 , -0.125 )\n",
            "Gamma:    ( 120 , 120 )\n",
            "ZoomOut:  ( -0.16 , -0.16 )\n",
            "ZoomIn:   ( 0.16 , 0.16 )\n",
            "Noise:    ( 12 , 12 )\n",
            "blur:     ( 0 , 1 )\n",
            "sharp:    ( 0.0 , 0.0 )\n",
            "Contrast: ( 0.0 , 0.0 )\n",
            "Bright:   ( 0.0 , 0.0 )\n",
            "Darken:   ( -0.0 , -0.0 )\n",
            "Rotate:   ( 14 , 14 ) or ( -14 , -14 )\n",
            "pHorizontalFlip:    1\n",
            "pVerticalFlip:      0\n",
            "pEqualize:          1\n",
            "pFancyPCA:          0\n",
            "pChannelShuffle:    1\n",
            "pElasticTransform:  1\n",
            "pToGray:            0\n",
            "* * * * * * * * * * * * * * * * * * * * * * * * * * * * * * * * * * * * * * * * * * * * * * * * * * *  \n",
            "\n",
            "\n",
            "\n",
            " 40 40 40 40 40 40 40 40 40 40 40 40 40 40 40 40 40 40 40 40 40 40 40 40 40 40 40 40 40 40 40 40 40 40 40 40 40 40 40 40 40 40 40 40 40 40 40 40 40 40 \n",
            "\n",
            "   Begin Run:  40\n",
            "\n",
            " 40 40 40 40 40 40 40 40 40 40 40 40 40 40 40 40 40 40 40 40 40 40 40 40 40 40 40 40 40 40 40 40 40 40 40 40 40 40 40 40 40 40 40 40 40 40 40 40 40 40  \n",
            "\n",
            "Dropout is:  0.4\n",
            "Shift X:  ( 0.0 , 0.0 ) or ( -0.0 , -0.0 )\n",
            "Shift Y:  ( 0.125 , 0.125 )or ( -0.125 , -0.125 )\n",
            "Gamma:    ( 100 , 100 )\n",
            "ZoomOut:  ( -0.0 , -0.0 )\n",
            "ZoomIn:   ( 0.0 , 0.0 )\n",
            "Noise:    ( 24 , 24 )\n",
            "blur:     ( 0 , 1 )\n",
            "sharp:    ( 0.0 , 0.0 )\n",
            "Contrast: ( 0.2 , 0.2 )\n",
            "Bright:   ( 0.2 , 0.2 )\n",
            "Darken:   ( -0.2 , -0.2 )\n",
            "Rotate:   ( 14 , 14 ) or ( -14 , -14 )\n",
            "pHorizontalFlip:    1\n",
            "pVerticalFlip:      0\n",
            "pEqualize:          1\n",
            "pFancyPCA:          1\n",
            "pChannelShuffle:    0\n",
            "pElasticTransform:  0\n",
            "pToGray:            1\n",
            "* * * * * * * * * * * * * * * * * * * * * * * * * * * * * * * * * * * * * * * * * * * * * * * * * * *  \n",
            "\n",
            "\n"
          ]
        },
        {
          "output_type": "display_data",
          "data": {
            "application/javascript": [
              "\n",
              "    async function download(id, filename, size) {\n",
              "      if (!google.colab.kernel.accessAllowed) {\n",
              "        return;\n",
              "      }\n",
              "      const div = document.createElement('div');\n",
              "      const label = document.createElement('label');\n",
              "      label.textContent = `Downloading \"${filename}\": `;\n",
              "      div.appendChild(label);\n",
              "      const progress = document.createElement('progress');\n",
              "      progress.max = size;\n",
              "      div.appendChild(progress);\n",
              "      document.body.appendChild(div);\n",
              "\n",
              "      const buffers = [];\n",
              "      let downloaded = 0;\n",
              "\n",
              "      const channel = await google.colab.kernel.comms.open(id);\n",
              "      // Send a message to notify the kernel that we're ready.\n",
              "      channel.send({})\n",
              "\n",
              "      for await (const message of channel.messages) {\n",
              "        // Send a message to notify the kernel that we're ready.\n",
              "        channel.send({})\n",
              "        if (message.buffers) {\n",
              "          for (const buffer of message.buffers) {\n",
              "            buffers.push(buffer);\n",
              "            downloaded += buffer.byteLength;\n",
              "            progress.value = downloaded;\n",
              "          }\n",
              "        }\n",
              "      }\n",
              "      const blob = new Blob(buffers, {type: 'application/binary'});\n",
              "      const a = document.createElement('a');\n",
              "      a.href = window.URL.createObjectURL(blob);\n",
              "      a.download = filename;\n",
              "      div.appendChild(a);\n",
              "      a.click();\n",
              "      div.remove();\n",
              "    }\n",
              "  "
            ],
            "text/plain": [
              "<IPython.core.display.Javascript object>"
            ]
          },
          "metadata": {}
        },
        {
          "output_type": "display_data",
          "data": {
            "application/javascript": [
              "download(\"download_1f67a8ab-10c1-47c9-a370-c5ac1e9e763c\", \"runs_GroupB.pkl\", 0)"
            ],
            "text/plain": [
              "<IPython.core.display.Javascript object>"
            ]
          },
          "metadata": {}
        },
        {
          "output_type": "stream",
          "name": "stdout",
          "text": [
            "Download attempted :  Thu, 11 November 2021 17:47:50  (subtract ~5-hours for local Hour), and file is called runs_GroupB.pkl\n",
            "\n",
            " 45 45 45 45 45 45 45 45 45 45 45 45 45 45 45 45 45 45 45 45 45 45 45 45 45 45 45 45 45 45 45 45 45 45 45 45 45 45 45 45 45 45 45 45 45 45 45 45 45 45 \n",
            "\n",
            "   Begin Run:  45\n",
            "\n",
            " 45 45 45 45 45 45 45 45 45 45 45 45 45 45 45 45 45 45 45 45 45 45 45 45 45 45 45 45 45 45 45 45 45 45 45 45 45 45 45 45 45 45 45 45 45 45 45 45 45 45  \n",
            "\n",
            "Dropout is:  0.4\n",
            "Shift X:  ( 0.0 , 0.0 ) or ( -0.0 , -0.0 )\n",
            "Shift Y:  ( 0.0 , 0.0 )or ( -0.0 , -0.0 )\n",
            "Gamma:    ( 100 , 100 )\n",
            "ZoomOut:  ( -0.0 , -0.0 )\n",
            "ZoomIn:   ( 0.16 , 0.16 )\n",
            "Noise:    ( 0 , 0 )\n",
            "blur:     ( 0 , 1 )\n",
            "sharp:    ( 0.1 , 0.1 )\n",
            "Contrast: ( 0.2 , 0.2 )\n",
            "Bright:   ( 0.0 , 0.0 )\n",
            "Darken:   ( -0.2 , -0.2 )\n",
            "Rotate:   ( 0 , 0 ) or ( 0 , 0 )\n",
            "pHorizontalFlip:    1\n",
            "pVerticalFlip:      1\n",
            "pEqualize:          1\n",
            "pFancyPCA:          0\n",
            "pChannelShuffle:    1\n",
            "pElasticTransform:  0\n",
            "pToGray:            1\n",
            "* * * * * * * * * * * * * * * * * * * * * * * * * * * * * * * * * * * * * * * * * * * * * * * * * * *  \n",
            "\n",
            "\n",
            "\n",
            " 50 50 50 50 50 50 50 50 50 50 50 50 50 50 50 50 50 50 50 50 50 50 50 50 50 50 50 50 50 50 50 50 50 50 50 50 50 50 50 50 50 50 50 50 50 50 50 50 50 50 \n",
            "\n",
            "   Begin Run:  50\n",
            "\n",
            " 50 50 50 50 50 50 50 50 50 50 50 50 50 50 50 50 50 50 50 50 50 50 50 50 50 50 50 50 50 50 50 50 50 50 50 50 50 50 50 50 50 50 50 50 50 50 50 50 50 50  \n",
            "\n",
            "Dropout is:  0.6\n",
            "Shift X:  ( 0.0 , 0.0 ) or ( -0.0 , -0.0 )\n",
            "Shift Y:  ( 0.0625 , 0.0625 )or ( -0.0625 , -0.0625 )\n",
            "Gamma:    ( 100 , 100 )\n",
            "ZoomOut:  ( -0.0 , -0.0 )\n",
            "ZoomIn:   ( 0.0 , 0.0 )\n",
            "Noise:    ( 0 , 0 )\n",
            "blur:     ( 0 , 1 )\n",
            "sharp:    ( 0.1 , 0.1 )\n",
            "Contrast: ( 0.0 , 0.0 )\n",
            "Bright:   ( 0.2 , 0.2 )\n",
            "Darken:   ( -0.0 , -0.0 )\n",
            "Rotate:   ( 14 , 14 ) or ( -14 , -14 )\n",
            "pHorizontalFlip:    0\n",
            "pVerticalFlip:      1\n",
            "pEqualize:          1\n",
            "pFancyPCA:          1\n",
            "pChannelShuffle:    0\n",
            "pElasticTransform:  1\n",
            "pToGray:            0\n",
            "* * * * * * * * * * * * * * * * * * * * * * * * * * * * * * * * * * * * * * * * * * * * * * * * * * *  \n",
            "\n",
            "\n",
            "run == 50 is true\n"
          ]
        },
        {
          "output_type": "display_data",
          "data": {
            "application/javascript": [
              "\n",
              "    async function download(id, filename, size) {\n",
              "      if (!google.colab.kernel.accessAllowed) {\n",
              "        return;\n",
              "      }\n",
              "      const div = document.createElement('div');\n",
              "      const label = document.createElement('label');\n",
              "      label.textContent = `Downloading \"${filename}\": `;\n",
              "      div.appendChild(label);\n",
              "      const progress = document.createElement('progress');\n",
              "      progress.max = size;\n",
              "      div.appendChild(progress);\n",
              "      document.body.appendChild(div);\n",
              "\n",
              "      const buffers = [];\n",
              "      let downloaded = 0;\n",
              "\n",
              "      const channel = await google.colab.kernel.comms.open(id);\n",
              "      // Send a message to notify the kernel that we're ready.\n",
              "      channel.send({})\n",
              "\n",
              "      for await (const message of channel.messages) {\n",
              "        // Send a message to notify the kernel that we're ready.\n",
              "        channel.send({})\n",
              "        if (message.buffers) {\n",
              "          for (const buffer of message.buffers) {\n",
              "            buffers.push(buffer);\n",
              "            downloaded += buffer.byteLength;\n",
              "            progress.value = downloaded;\n",
              "          }\n",
              "        }\n",
              "      }\n",
              "      const blob = new Blob(buffers, {type: 'application/binary'});\n",
              "      const a = document.createElement('a');\n",
              "      a.href = window.URL.createObjectURL(blob);\n",
              "      a.download = filename;\n",
              "      div.appendChild(a);\n",
              "      a.click();\n",
              "      div.remove();\n",
              "    }\n",
              "  "
            ],
            "text/plain": [
              "<IPython.core.display.Javascript object>"
            ]
          },
          "metadata": {}
        },
        {
          "output_type": "display_data",
          "data": {
            "application/javascript": [
              "download(\"download_cecd87ef-fee7-48b5-81be-cdd342c0a596\", \"runs_GroupB_final.pkl\", 0)"
            ],
            "text/plain": [
              "<IPython.core.display.Javascript object>"
            ]
          },
          "metadata": {}
        },
        {
          "output_type": "stream",
          "name": "stdout",
          "text": [
            "Final Download attempted :  Thu, 11 November 2021 17:47:50  (subtract ~5-hours for local Hour), and file is called  runs_GroupB_final.pkl\n"
          ]
        }
      ]
    },
    {
      "cell_type": "code",
      "metadata": {
        "id": "8j0WLsurPGzf"
      },
      "source": [
        "run_through_runs(ds=make_unbatched(train_C),  ds_noalb= train_C_noalb, dstitle=\"C\" , showpictures= False)\n"
      ],
      "execution_count": null,
      "outputs": []
    },
    {
      "cell_type": "code",
      "metadata": {
        "id": "xnzFx0NPKYXR"
      },
      "source": [
        "run_through_runs(ds=make_unbatched(train_D),   ds_noalb=train_D_noalb,   dstitle=\"D\" , showpictures= False)\n"
      ],
      "execution_count": null,
      "outputs": []
    },
    {
      "cell_type": "code",
      "metadata": {
        "id": "Druh8echKca1"
      },
      "source": [
        "run_through_runs(ds=make_unbatched(train_E),     ds_noalb=train_E_noalb,   dstitle=\"E\" , showpictures= False)"
      ],
      "execution_count": null,
      "outputs": []
    },
    {
      "cell_type": "code",
      "metadata": {
        "id": "DqejACO6KfkF"
      },
      "source": [
        "run_through_runs(ds=make_unbatched(train_F),  ds_noalb=train_F_noalb, dstitle=\"F\" , showpictures= False)"
      ],
      "execution_count": null,
      "outputs": []
    },
    {
      "cell_type": "code",
      "metadata": {
        "id": "TClqIn8yKizH"
      },
      "source": [
        "run_through_runs(ds=make_unbatched(train_G),    ds_noalb=train_G_noalb, dstitle=\"G\" , showpictures= False)"
      ],
      "execution_count": null,
      "outputs": []
    },
    {
      "cell_type": "code",
      "metadata": {
        "id": "ctniNFAGKlXJ"
      },
      "source": [
        "run_through_runs(ds=make_unbatched(train_H),   ds_noalb= train_H_noalb, dstitle=\"H\" , showpictures= False)"
      ],
      "execution_count": null,
      "outputs": []
    },
    {
      "cell_type": "code",
      "metadata": {
        "id": "2KQf5A2pKnIu"
      },
      "source": [
        "run_through_runs(ds=make_unbatched(train_I),   ds_noalb=train_I_noalb,   dstitle=\"I\" , showpictures= False)"
      ],
      "execution_count": null,
      "outputs": []
    },
    {
      "cell_type": "code",
      "metadata": {
        "id": "b1LhzKbfKpVV",
        "outputId": "580bcd27-a176-4bb5-f1ff-08dfbd8692fc",
        "colab": {
          "base_uri": "https://localhost:8080/",
          "height": 1000
        }
      },
      "source": [
        "run_through_runs(ds=make_unbatched(train_J),  ds_noalb= train_J_noalb, dstitle=\"J\" , showpictures= False)"
      ],
      "execution_count": 228,
      "outputs": [
        {
          "output_type": "stream",
          "name": "stdout",
          "text": [
            "filename will be:  runs_GroupJ .pkl\n",
            "\n",
            " 0 0 0 0 0 0 0 0 0 0 0 0 0 0 0 0 0 0 0 0 0 0 0 0 0 0 0 0 0 0 0 0 0 0 0 0 0 0 0 0 0 0 0 0 0 0 0 0 0 0 \n",
            "\n",
            "   Begin Run:  0\n",
            "\n",
            " 0 0 0 0 0 0 0 0 0 0 0 0 0 0 0 0 0 0 0 0 0 0 0 0 0 0 0 0 0 0 0 0 0 0 0 0 0 0 0 0 0 0 0 0 0 0 0 0 0 0  \n",
            "\n",
            " List of Run-Specific Parameters \n",
            "Dropout:   0.5\n",
            "Shift X:  ( 0.0 , 0.0 ) or ( -0.0 , -0.0 )\n",
            "Shift Y:  ( 0.0 , 0.0 )or ( -0.0 , -0.0 )\n",
            "Gamma:    ( 100 , 100 )\n",
            "ZoomOut:  ( -0.0 , -0.0 )\n",
            "ZoomIn:   ( 0.0 , 0.0 )\n",
            "Noise:    ( 0 , 0 )\n",
            "blur:     ( 0 , 1 )\n",
            "sharp:    ( 0.0 , 0.0 )\n",
            "Contrast: ( 0.0 , 0.0 )\n",
            "Bright:   ( 0.0 , 0.0 )\n",
            "Darken:   ( -0.0 , -0.0 )\n",
            "Rotate:   ( 0 , 0 ) or ( 0 , 0 )\n",
            "pHorizontalFlip:    0\n",
            "pVerticalFlip:      0\n",
            "pEqualize:          0\n",
            "pFancyPCA:          0\n",
            "pChannelShuffle:    0\n",
            "pElasticTransform:  0\n",
            "pToGray:            0\n",
            " ~ ~ ~ ~ ~ ~ ~ ~ ~ ~ ~ ~ ~ ~ ~ ~ ~ ~ ~ ~ ~ ~ ~ \n",
            "\n",
            "\n",
            "\n",
            " 5 5 5 5 5 5 5 5 5 5 5 5 5 5 5 5 5 5 5 5 5 5 5 5 5 5 5 5 5 5 5 5 5 5 5 5 5 5 5 5 5 5 5 5 5 5 5 5 5 5 \n",
            "\n",
            "   Begin Run:  5\n",
            "\n",
            " 5 5 5 5 5 5 5 5 5 5 5 5 5 5 5 5 5 5 5 5 5 5 5 5 5 5 5 5 5 5 5 5 5 5 5 5 5 5 5 5 5 5 5 5 5 5 5 5 5 5  \n",
            "\n",
            " List of Run-Specific Parameters \n",
            "Dropout:   0.4\n",
            "Shift X:  ( 0.0 , 0.0 ) or ( -0.0 , -0.0 )\n",
            "Shift Y:  ( 0.125 , 0.125 )or ( -0.125 , -0.125 )\n",
            "Gamma:    ( 100 , 100 )\n",
            "ZoomOut:  ( -0.16 , -0.16 )\n",
            "ZoomIn:   ( 0.08 , 0.08 )\n",
            "Noise:    ( 0 , 0 )\n",
            "blur:     ( 7 , 7 )\n",
            "sharp:    ( 0.0 , 0.0 )\n",
            "Contrast: ( 0.0 , 0.0 )\n",
            "Bright:   ( 0.2 , 0.2 )\n",
            "Darken:   ( -0.2 , -0.2 )\n",
            "Rotate:   ( 14 , 14 ) or ( -14 , -14 )\n",
            "pHorizontalFlip:    0\n",
            "pVerticalFlip:      1\n",
            "pEqualize:          1\n",
            "pFancyPCA:          0\n",
            "pChannelShuffle:    1\n",
            "pElasticTransform:  0\n",
            "pToGray:            0\n",
            " ~ ~ ~ ~ ~ ~ ~ ~ ~ ~ ~ ~ ~ ~ ~ ~ ~ ~ ~ ~ ~ ~ ~ \n",
            "\n",
            "\n",
            "\n",
            " 10 10 10 10 10 10 10 10 10 10 10 10 10 10 10 10 10 10 10 10 10 10 10 10 10 10 10 10 10 10 10 10 10 10 10 10 10 10 10 10 10 10 10 10 10 10 10 10 10 10 \n",
            "\n",
            "   Begin Run:  10\n",
            "\n",
            " 10 10 10 10 10 10 10 10 10 10 10 10 10 10 10 10 10 10 10 10 10 10 10 10 10 10 10 10 10 10 10 10 10 10 10 10 10 10 10 10 10 10 10 10 10 10 10 10 10 10  \n",
            "\n",
            " List of Run-Specific Parameters \n",
            "Dropout:   0.5\n",
            "Shift X:  ( 0.0 , 0.0 ) or ( -0.0 , -0.0 )\n",
            "Shift Y:  ( 0.0 , 0.0 )or ( -0.0 , -0.0 )\n",
            "Gamma:    ( 100 , 100 )\n",
            "ZoomOut:  ( -0.0 , -0.0 )\n",
            "ZoomIn:   ( 0.16 , 0.16 )\n",
            "Noise:    ( 24 , 24 )\n",
            "blur:     ( 7 , 7 )\n",
            "sharp:    ( 0.1 , 0.1 )\n",
            "Contrast: ( 0.0 , 0.0 )\n",
            "Bright:   ( 0.2 , 0.2 )\n",
            "Darken:   ( -0.0 , -0.0 )\n",
            "Rotate:   ( 14 , 14 ) or ( -14 , -14 )\n",
            "pHorizontalFlip:    0\n",
            "pVerticalFlip:      0\n",
            "pEqualize:          0\n",
            "pFancyPCA:          0\n",
            "pChannelShuffle:    1\n",
            "pElasticTransform:  0\n",
            "pToGray:            1\n",
            " ~ ~ ~ ~ ~ ~ ~ ~ ~ ~ ~ ~ ~ ~ ~ ~ ~ ~ ~ ~ ~ ~ ~ \n",
            "\n",
            "\n"
          ]
        },
        {
          "output_type": "display_data",
          "data": {
            "application/javascript": [
              "\n",
              "    async function download(id, filename, size) {\n",
              "      if (!google.colab.kernel.accessAllowed) {\n",
              "        return;\n",
              "      }\n",
              "      const div = document.createElement('div');\n",
              "      const label = document.createElement('label');\n",
              "      label.textContent = `Downloading \"${filename}\": `;\n",
              "      div.appendChild(label);\n",
              "      const progress = document.createElement('progress');\n",
              "      progress.max = size;\n",
              "      div.appendChild(progress);\n",
              "      document.body.appendChild(div);\n",
              "\n",
              "      const buffers = [];\n",
              "      let downloaded = 0;\n",
              "\n",
              "      const channel = await google.colab.kernel.comms.open(id);\n",
              "      // Send a message to notify the kernel that we're ready.\n",
              "      channel.send({})\n",
              "\n",
              "      for await (const message of channel.messages) {\n",
              "        // Send a message to notify the kernel that we're ready.\n",
              "        channel.send({})\n",
              "        if (message.buffers) {\n",
              "          for (const buffer of message.buffers) {\n",
              "            buffers.push(buffer);\n",
              "            downloaded += buffer.byteLength;\n",
              "            progress.value = downloaded;\n",
              "          }\n",
              "        }\n",
              "      }\n",
              "      const blob = new Blob(buffers, {type: 'application/binary'});\n",
              "      const a = document.createElement('a');\n",
              "      a.href = window.URL.createObjectURL(blob);\n",
              "      a.download = filename;\n",
              "      div.appendChild(a);\n",
              "      a.click();\n",
              "      div.remove();\n",
              "    }\n",
              "  "
            ],
            "text/plain": [
              "<IPython.core.display.Javascript object>"
            ]
          },
          "metadata": {}
        },
        {
          "output_type": "display_data",
          "data": {
            "application/javascript": [
              "download(\"download_e0b721cd-1f12-4218-9dcd-6f5a99a02291\", \"runs_GroupJ.pkl\", 0)"
            ],
            "text/plain": [
              "<IPython.core.display.Javascript object>"
            ]
          },
          "metadata": {}
        },
        {
          "output_type": "stream",
          "name": "stdout",
          "text": [
            "Download attempted :  Thu, 11 November 2021 18:04:46  (subtract ~5-hours for local Hour), and file is called runs_GroupJ.pkl\n",
            "\n",
            " 15 15 15 15 15 15 15 15 15 15 15 15 15 15 15 15 15 15 15 15 15 15 15 15 15 15 15 15 15 15 15 15 15 15 15 15 15 15 15 15 15 15 15 15 15 15 15 15 15 15 \n",
            "\n",
            "   Begin Run:  15\n",
            "\n",
            " 15 15 15 15 15 15 15 15 15 15 15 15 15 15 15 15 15 15 15 15 15 15 15 15 15 15 15 15 15 15 15 15 15 15 15 15 15 15 15 15 15 15 15 15 15 15 15 15 15 15  \n",
            "\n",
            " List of Run-Specific Parameters \n",
            "Dropout:   0.6\n",
            "Shift X:  ( 0.0625 , 0.0625 ) or ( -0.0625 , -0.0625 )\n",
            "Shift Y:  ( 0.125 , 0.125 )or ( -0.125 , -0.125 )\n",
            "Gamma:    ( 120 , 120 )\n",
            "ZoomOut:  ( -0.16 , -0.16 )\n",
            "ZoomIn:   ( 0.16 , 0.16 )\n",
            "Noise:    ( 24 , 24 )\n",
            "blur:     ( 7 , 7 )\n",
            "sharp:    ( 0.1 , 0.1 )\n",
            "Contrast: ( 0.2 , 0.2 )\n",
            "Bright:   ( 0.2 , 0.2 )\n",
            "Darken:   ( -0.2 , -0.2 )\n",
            "Rotate:   ( 14 , 14 ) or ( -14 , -14 )\n",
            "pHorizontalFlip:    1\n",
            "pVerticalFlip:      1\n",
            "pEqualize:          1\n",
            "pFancyPCA:          1\n",
            "pChannelShuffle:    1\n",
            "pElasticTransform:  1\n",
            "pToGray:            1\n",
            " ~ ~ ~ ~ ~ ~ ~ ~ ~ ~ ~ ~ ~ ~ ~ ~ ~ ~ ~ ~ ~ ~ ~ \n",
            "\n",
            "\n",
            "\n",
            " 20 20 20 20 20 20 20 20 20 20 20 20 20 20 20 20 20 20 20 20 20 20 20 20 20 20 20 20 20 20 20 20 20 20 20 20 20 20 20 20 20 20 20 20 20 20 20 20 20 20 \n",
            "\n",
            "   Begin Run:  20\n",
            "\n",
            " 20 20 20 20 20 20 20 20 20 20 20 20 20 20 20 20 20 20 20 20 20 20 20 20 20 20 20 20 20 20 20 20 20 20 20 20 20 20 20 20 20 20 20 20 20 20 20 20 20 20  \n",
            "\n",
            " List of Run-Specific Parameters \n",
            "Dropout:   0.6\n",
            "Shift X:  ( 0.0 , 0.0 ) or ( -0.0 , -0.0 )\n",
            "Shift Y:  ( 0.0 , 0.0 )or ( -0.0 , -0.0 )\n",
            "Gamma:    ( 100 , 100 )\n",
            "ZoomOut:  ( -0.16 , -0.16 )\n",
            "ZoomIn:   ( 0.16 , 0.16 )\n",
            "Noise:    ( 0 , 0 )\n",
            "blur:     ( 0 , 1 )\n",
            "sharp:    ( 0.0 , 0.0 )\n",
            "Contrast: ( 0.2 , 0.2 )\n",
            "Bright:   ( 0.2 , 0.2 )\n",
            "Darken:   ( -0.0 , -0.0 )\n",
            "Rotate:   ( 0 , 0 ) or ( 0 , 0 )\n",
            "pHorizontalFlip:    1\n",
            "pVerticalFlip:      1\n",
            "pEqualize:          0\n",
            "pFancyPCA:          1\n",
            "pChannelShuffle:    1\n",
            "pElasticTransform:  0\n",
            "pToGray:            0\n",
            " ~ ~ ~ ~ ~ ~ ~ ~ ~ ~ ~ ~ ~ ~ ~ ~ ~ ~ ~ ~ ~ ~ ~ \n",
            "\n",
            "\n"
          ]
        },
        {
          "output_type": "display_data",
          "data": {
            "application/javascript": [
              "\n",
              "    async function download(id, filename, size) {\n",
              "      if (!google.colab.kernel.accessAllowed) {\n",
              "        return;\n",
              "      }\n",
              "      const div = document.createElement('div');\n",
              "      const label = document.createElement('label');\n",
              "      label.textContent = `Downloading \"${filename}\": `;\n",
              "      div.appendChild(label);\n",
              "      const progress = document.createElement('progress');\n",
              "      progress.max = size;\n",
              "      div.appendChild(progress);\n",
              "      document.body.appendChild(div);\n",
              "\n",
              "      const buffers = [];\n",
              "      let downloaded = 0;\n",
              "\n",
              "      const channel = await google.colab.kernel.comms.open(id);\n",
              "      // Send a message to notify the kernel that we're ready.\n",
              "      channel.send({})\n",
              "\n",
              "      for await (const message of channel.messages) {\n",
              "        // Send a message to notify the kernel that we're ready.\n",
              "        channel.send({})\n",
              "        if (message.buffers) {\n",
              "          for (const buffer of message.buffers) {\n",
              "            buffers.push(buffer);\n",
              "            downloaded += buffer.byteLength;\n",
              "            progress.value = downloaded;\n",
              "          }\n",
              "        }\n",
              "      }\n",
              "      const blob = new Blob(buffers, {type: 'application/binary'});\n",
              "      const a = document.createElement('a');\n",
              "      a.href = window.URL.createObjectURL(blob);\n",
              "      a.download = filename;\n",
              "      div.appendChild(a);\n",
              "      a.click();\n",
              "      div.remove();\n",
              "    }\n",
              "  "
            ],
            "text/plain": [
              "<IPython.core.display.Javascript object>"
            ]
          },
          "metadata": {}
        },
        {
          "output_type": "display_data",
          "data": {
            "application/javascript": [
              "download(\"download_e9ae3013-776b-4464-9518-8649eeccf2ee\", \"runs_GroupJ.pkl\", 0)"
            ],
            "text/plain": [
              "<IPython.core.display.Javascript object>"
            ]
          },
          "metadata": {}
        },
        {
          "output_type": "stream",
          "name": "stdout",
          "text": [
            "Download attempted :  Thu, 11 November 2021 18:05:46  (subtract ~5-hours for local Hour), and file is called runs_GroupJ.pkl\n",
            "\n",
            " 25 25 25 25 25 25 25 25 25 25 25 25 25 25 25 25 25 25 25 25 25 25 25 25 25 25 25 25 25 25 25 25 25 25 25 25 25 25 25 25 25 25 25 25 25 25 25 25 25 25 \n",
            "\n",
            "   Begin Run:  25\n",
            "\n",
            " 25 25 25 25 25 25 25 25 25 25 25 25 25 25 25 25 25 25 25 25 25 25 25 25 25 25 25 25 25 25 25 25 25 25 25 25 25 25 25 25 25 25 25 25 25 25 25 25 25 25  \n",
            "\n",
            " List of Run-Specific Parameters \n",
            "Dropout:   0.5\n",
            "Shift X:  ( 0.125 , 0.125 ) or ( -0.125 , -0.125 )\n",
            "Shift Y:  ( 0.125 , 0.125 )or ( -0.125 , -0.125 )\n",
            "Gamma:    ( 120 , 120 )\n",
            "ZoomOut:  ( -0.16 , -0.16 )\n",
            "ZoomIn:   ( 0.0 , 0.0 )\n",
            "Noise:    ( 0 , 0 )\n",
            "blur:     ( 0 , 1 )\n",
            "sharp:    ( 0.0 , 0.0 )\n",
            "Contrast: ( 0.2 , 0.2 )\n",
            "Bright:   ( 0.0 , 0.0 )\n",
            "Darken:   ( -0.2 , -0.2 )\n",
            "Rotate:   ( 0 , 0 ) or ( 0 , 0 )\n",
            "pHorizontalFlip:    1\n",
            "pVerticalFlip:      1\n",
            "pEqualize:          1\n",
            "pFancyPCA:          1\n",
            "pChannelShuffle:    0\n",
            "pElasticTransform:  1\n",
            "pToGray:            0\n",
            " ~ ~ ~ ~ ~ ~ ~ ~ ~ ~ ~ ~ ~ ~ ~ ~ ~ ~ ~ ~ ~ ~ ~ \n",
            "\n",
            "\n",
            "\n",
            " 30 30 30 30 30 30 30 30 30 30 30 30 30 30 30 30 30 30 30 30 30 30 30 30 30 30 30 30 30 30 30 30 30 30 30 30 30 30 30 30 30 30 30 30 30 30 30 30 30 30 \n",
            "\n",
            "   Begin Run:  30\n",
            "\n",
            " 30 30 30 30 30 30 30 30 30 30 30 30 30 30 30 30 30 30 30 30 30 30 30 30 30 30 30 30 30 30 30 30 30 30 30 30 30 30 30 30 30 30 30 30 30 30 30 30 30 30  \n",
            "\n",
            " List of Run-Specific Parameters \n",
            "Dropout:   0.4\n",
            "Shift X:  ( 0.0 , 0.0 ) or ( -0.0 , -0.0 )\n",
            "Shift Y:  ( 0.0 , 0.0 )or ( -0.0 , -0.0 )\n",
            "Gamma:    ( 100 , 100 )\n",
            "ZoomOut:  ( -0.16 , -0.16 )\n",
            "ZoomIn:   ( 0.16 , 0.16 )\n",
            "Noise:    ( 24 , 24 )\n",
            "blur:     ( 0 , 1 )\n",
            "sharp:    ( 0.05 , 0.05 )\n",
            "Contrast: ( 0.2 , 0.2 )\n",
            "Bright:   ( 0.0 , 0.0 )\n",
            "Darken:   ( -0.2 , -0.2 )\n",
            "Rotate:   ( 14 , 14 ) or ( -14 , -14 )\n",
            "pHorizontalFlip:    0\n",
            "pVerticalFlip:      0\n",
            "pEqualize:          0\n",
            "pFancyPCA:          1\n",
            "pChannelShuffle:    0\n",
            "pElasticTransform:  1\n",
            "pToGray:            0\n",
            " ~ ~ ~ ~ ~ ~ ~ ~ ~ ~ ~ ~ ~ ~ ~ ~ ~ ~ ~ ~ ~ ~ ~ \n",
            "\n",
            "\n"
          ]
        },
        {
          "output_type": "display_data",
          "data": {
            "application/javascript": [
              "\n",
              "    async function download(id, filename, size) {\n",
              "      if (!google.colab.kernel.accessAllowed) {\n",
              "        return;\n",
              "      }\n",
              "      const div = document.createElement('div');\n",
              "      const label = document.createElement('label');\n",
              "      label.textContent = `Downloading \"${filename}\": `;\n",
              "      div.appendChild(label);\n",
              "      const progress = document.createElement('progress');\n",
              "      progress.max = size;\n",
              "      div.appendChild(progress);\n",
              "      document.body.appendChild(div);\n",
              "\n",
              "      const buffers = [];\n",
              "      let downloaded = 0;\n",
              "\n",
              "      const channel = await google.colab.kernel.comms.open(id);\n",
              "      // Send a message to notify the kernel that we're ready.\n",
              "      channel.send({})\n",
              "\n",
              "      for await (const message of channel.messages) {\n",
              "        // Send a message to notify the kernel that we're ready.\n",
              "        channel.send({})\n",
              "        if (message.buffers) {\n",
              "          for (const buffer of message.buffers) {\n",
              "            buffers.push(buffer);\n",
              "            downloaded += buffer.byteLength;\n",
              "            progress.value = downloaded;\n",
              "          }\n",
              "        }\n",
              "      }\n",
              "      const blob = new Blob(buffers, {type: 'application/binary'});\n",
              "      const a = document.createElement('a');\n",
              "      a.href = window.URL.createObjectURL(blob);\n",
              "      a.download = filename;\n",
              "      div.appendChild(a);\n",
              "      a.click();\n",
              "      div.remove();\n",
              "    }\n",
              "  "
            ],
            "text/plain": [
              "<IPython.core.display.Javascript object>"
            ]
          },
          "metadata": {}
        },
        {
          "output_type": "display_data",
          "data": {
            "application/javascript": [
              "download(\"download_fd504fc7-ca9c-4a09-9cac-30b8e9a95e72\", \"runs_GroupJ.pkl\", 0)"
            ],
            "text/plain": [
              "<IPython.core.display.Javascript object>"
            ]
          },
          "metadata": {}
        },
        {
          "output_type": "stream",
          "name": "stdout",
          "text": [
            "Download attempted :  Thu, 11 November 2021 18:05:46  (subtract ~5-hours for local Hour), and file is called runs_GroupJ.pkl\n",
            "\n",
            " 35 35 35 35 35 35 35 35 35 35 35 35 35 35 35 35 35 35 35 35 35 35 35 35 35 35 35 35 35 35 35 35 35 35 35 35 35 35 35 35 35 35 35 35 35 35 35 35 35 35 \n",
            "\n",
            "   Begin Run:  35\n",
            "\n",
            " 35 35 35 35 35 35 35 35 35 35 35 35 35 35 35 35 35 35 35 35 35 35 35 35 35 35 35 35 35 35 35 35 35 35 35 35 35 35 35 35 35 35 35 35 35 35 35 35 35 35  \n",
            "\n",
            " List of Run-Specific Parameters \n",
            "Dropout:   0.4\n",
            "Shift X:  ( 0.0 , 0.0 ) or ( -0.0 , -0.0 )\n",
            "Shift Y:  ( 0.125 , 0.125 )or ( -0.125 , -0.125 )\n",
            "Gamma:    ( 120 , 120 )\n",
            "ZoomOut:  ( -0.16 , -0.16 )\n",
            "ZoomIn:   ( 0.16 , 0.16 )\n",
            "Noise:    ( 12 , 12 )\n",
            "blur:     ( 0 , 1 )\n",
            "sharp:    ( 0.0 , 0.0 )\n",
            "Contrast: ( 0.0 , 0.0 )\n",
            "Bright:   ( 0.0 , 0.0 )\n",
            "Darken:   ( -0.0 , -0.0 )\n",
            "Rotate:   ( 14 , 14 ) or ( -14 , -14 )\n",
            "pHorizontalFlip:    1\n",
            "pVerticalFlip:      0\n",
            "pEqualize:          1\n",
            "pFancyPCA:          0\n",
            "pChannelShuffle:    1\n",
            "pElasticTransform:  1\n",
            "pToGray:            0\n",
            " ~ ~ ~ ~ ~ ~ ~ ~ ~ ~ ~ ~ ~ ~ ~ ~ ~ ~ ~ ~ ~ ~ ~ \n",
            "\n",
            "\n",
            "\n",
            " 40 40 40 40 40 40 40 40 40 40 40 40 40 40 40 40 40 40 40 40 40 40 40 40 40 40 40 40 40 40 40 40 40 40 40 40 40 40 40 40 40 40 40 40 40 40 40 40 40 40 \n",
            "\n",
            "   Begin Run:  40\n",
            "\n",
            " 40 40 40 40 40 40 40 40 40 40 40 40 40 40 40 40 40 40 40 40 40 40 40 40 40 40 40 40 40 40 40 40 40 40 40 40 40 40 40 40 40 40 40 40 40 40 40 40 40 40  \n",
            "\n",
            " List of Run-Specific Parameters \n",
            "Dropout:   0.4\n",
            "Shift X:  ( 0.0 , 0.0 ) or ( -0.0 , -0.0 )\n",
            "Shift Y:  ( 0.125 , 0.125 )or ( -0.125 , -0.125 )\n",
            "Gamma:    ( 100 , 100 )\n",
            "ZoomOut:  ( -0.0 , -0.0 )\n",
            "ZoomIn:   ( 0.0 , 0.0 )\n",
            "Noise:    ( 24 , 24 )\n",
            "blur:     ( 0 , 1 )\n",
            "sharp:    ( 0.0 , 0.0 )\n",
            "Contrast: ( 0.2 , 0.2 )\n",
            "Bright:   ( 0.2 , 0.2 )\n",
            "Darken:   ( -0.2 , -0.2 )\n",
            "Rotate:   ( 14 , 14 ) or ( -14 , -14 )\n",
            "pHorizontalFlip:    1\n",
            "pVerticalFlip:      0\n",
            "pEqualize:          1\n",
            "pFancyPCA:          1\n",
            "pChannelShuffle:    0\n",
            "pElasticTransform:  0\n",
            "pToGray:            1\n",
            " ~ ~ ~ ~ ~ ~ ~ ~ ~ ~ ~ ~ ~ ~ ~ ~ ~ ~ ~ ~ ~ ~ ~ \n",
            "\n",
            "\n"
          ]
        },
        {
          "output_type": "display_data",
          "data": {
            "application/javascript": [
              "\n",
              "    async function download(id, filename, size) {\n",
              "      if (!google.colab.kernel.accessAllowed) {\n",
              "        return;\n",
              "      }\n",
              "      const div = document.createElement('div');\n",
              "      const label = document.createElement('label');\n",
              "      label.textContent = `Downloading \"${filename}\": `;\n",
              "      div.appendChild(label);\n",
              "      const progress = document.createElement('progress');\n",
              "      progress.max = size;\n",
              "      div.appendChild(progress);\n",
              "      document.body.appendChild(div);\n",
              "\n",
              "      const buffers = [];\n",
              "      let downloaded = 0;\n",
              "\n",
              "      const channel = await google.colab.kernel.comms.open(id);\n",
              "      // Send a message to notify the kernel that we're ready.\n",
              "      channel.send({})\n",
              "\n",
              "      for await (const message of channel.messages) {\n",
              "        // Send a message to notify the kernel that we're ready.\n",
              "        channel.send({})\n",
              "        if (message.buffers) {\n",
              "          for (const buffer of message.buffers) {\n",
              "            buffers.push(buffer);\n",
              "            downloaded += buffer.byteLength;\n",
              "            progress.value = downloaded;\n",
              "          }\n",
              "        }\n",
              "      }\n",
              "      const blob = new Blob(buffers, {type: 'application/binary'});\n",
              "      const a = document.createElement('a');\n",
              "      a.href = window.URL.createObjectURL(blob);\n",
              "      a.download = filename;\n",
              "      div.appendChild(a);\n",
              "      a.click();\n",
              "      div.remove();\n",
              "    }\n",
              "  "
            ],
            "text/plain": [
              "<IPython.core.display.Javascript object>"
            ]
          },
          "metadata": {}
        },
        {
          "output_type": "display_data",
          "data": {
            "application/javascript": [
              "download(\"download_b6e5c158-acb3-4f74-ac96-26f90ca3f5b3\", \"runs_GroupJ.pkl\", 0)"
            ],
            "text/plain": [
              "<IPython.core.display.Javascript object>"
            ]
          },
          "metadata": {}
        },
        {
          "output_type": "stream",
          "name": "stdout",
          "text": [
            "Download attempted :  Thu, 11 November 2021 18:05:46  (subtract ~5-hours for local Hour), and file is called runs_GroupJ.pkl\n",
            "\n",
            " 45 45 45 45 45 45 45 45 45 45 45 45 45 45 45 45 45 45 45 45 45 45 45 45 45 45 45 45 45 45 45 45 45 45 45 45 45 45 45 45 45 45 45 45 45 45 45 45 45 45 \n",
            "\n",
            "   Begin Run:  45\n",
            "\n",
            " 45 45 45 45 45 45 45 45 45 45 45 45 45 45 45 45 45 45 45 45 45 45 45 45 45 45 45 45 45 45 45 45 45 45 45 45 45 45 45 45 45 45 45 45 45 45 45 45 45 45  \n",
            "\n",
            " List of Run-Specific Parameters \n",
            "Dropout:   0.4\n",
            "Shift X:  ( 0.0 , 0.0 ) or ( -0.0 , -0.0 )\n",
            "Shift Y:  ( 0.0 , 0.0 )or ( -0.0 , -0.0 )\n",
            "Gamma:    ( 100 , 100 )\n",
            "ZoomOut:  ( -0.0 , -0.0 )\n",
            "ZoomIn:   ( 0.16 , 0.16 )\n",
            "Noise:    ( 0 , 0 )\n",
            "blur:     ( 0 , 1 )\n",
            "sharp:    ( 0.1 , 0.1 )\n",
            "Contrast: ( 0.2 , 0.2 )\n",
            "Bright:   ( 0.0 , 0.0 )\n",
            "Darken:   ( -0.2 , -0.2 )\n",
            "Rotate:   ( 0 , 0 ) or ( 0 , 0 )\n",
            "pHorizontalFlip:    1\n",
            "pVerticalFlip:      1\n",
            "pEqualize:          1\n",
            "pFancyPCA:          0\n",
            "pChannelShuffle:    1\n",
            "pElasticTransform:  0\n",
            "pToGray:            1\n",
            " ~ ~ ~ ~ ~ ~ ~ ~ ~ ~ ~ ~ ~ ~ ~ ~ ~ ~ ~ ~ ~ ~ ~ \n",
            "\n",
            "\n",
            "\n",
            " 50 50 50 50 50 50 50 50 50 50 50 50 50 50 50 50 50 50 50 50 50 50 50 50 50 50 50 50 50 50 50 50 50 50 50 50 50 50 50 50 50 50 50 50 50 50 50 50 50 50 \n",
            "\n",
            "   Begin Run:  50\n",
            "\n",
            " 50 50 50 50 50 50 50 50 50 50 50 50 50 50 50 50 50 50 50 50 50 50 50 50 50 50 50 50 50 50 50 50 50 50 50 50 50 50 50 50 50 50 50 50 50 50 50 50 50 50  \n",
            "\n",
            " List of Run-Specific Parameters \n",
            "Dropout:   0.6\n",
            "Shift X:  ( 0.0 , 0.0 ) or ( -0.0 , -0.0 )\n",
            "Shift Y:  ( 0.0625 , 0.0625 )or ( -0.0625 , -0.0625 )\n",
            "Gamma:    ( 100 , 100 )\n",
            "ZoomOut:  ( -0.0 , -0.0 )\n",
            "ZoomIn:   ( 0.0 , 0.0 )\n",
            "Noise:    ( 0 , 0 )\n",
            "blur:     ( 0 , 1 )\n",
            "sharp:    ( 0.1 , 0.1 )\n",
            "Contrast: ( 0.0 , 0.0 )\n",
            "Bright:   ( 0.2 , 0.2 )\n",
            "Darken:   ( -0.0 , -0.0 )\n",
            "Rotate:   ( 14 , 14 ) or ( -14 , -14 )\n",
            "pHorizontalFlip:    0\n",
            "pVerticalFlip:      1\n",
            "pEqualize:          1\n",
            "pFancyPCA:          1\n",
            "pChannelShuffle:    0\n",
            "pElasticTransform:  1\n",
            "pToGray:            0\n",
            " ~ ~ ~ ~ ~ ~ ~ ~ ~ ~ ~ ~ ~ ~ ~ ~ ~ ~ ~ ~ ~ ~ ~ \n",
            "\n",
            "\n",
            "run == 50 is true\n"
          ]
        },
        {
          "output_type": "display_data",
          "data": {
            "application/javascript": [
              "\n",
              "    async function download(id, filename, size) {\n",
              "      if (!google.colab.kernel.accessAllowed) {\n",
              "        return;\n",
              "      }\n",
              "      const div = document.createElement('div');\n",
              "      const label = document.createElement('label');\n",
              "      label.textContent = `Downloading \"${filename}\": `;\n",
              "      div.appendChild(label);\n",
              "      const progress = document.createElement('progress');\n",
              "      progress.max = size;\n",
              "      div.appendChild(progress);\n",
              "      document.body.appendChild(div);\n",
              "\n",
              "      const buffers = [];\n",
              "      let downloaded = 0;\n",
              "\n",
              "      const channel = await google.colab.kernel.comms.open(id);\n",
              "      // Send a message to notify the kernel that we're ready.\n",
              "      channel.send({})\n",
              "\n",
              "      for await (const message of channel.messages) {\n",
              "        // Send a message to notify the kernel that we're ready.\n",
              "        channel.send({})\n",
              "        if (message.buffers) {\n",
              "          for (const buffer of message.buffers) {\n",
              "            buffers.push(buffer);\n",
              "            downloaded += buffer.byteLength;\n",
              "            progress.value = downloaded;\n",
              "          }\n",
              "        }\n",
              "      }\n",
              "      const blob = new Blob(buffers, {type: 'application/binary'});\n",
              "      const a = document.createElement('a');\n",
              "      a.href = window.URL.createObjectURL(blob);\n",
              "      a.download = filename;\n",
              "      div.appendChild(a);\n",
              "      a.click();\n",
              "      div.remove();\n",
              "    }\n",
              "  "
            ],
            "text/plain": [
              "<IPython.core.display.Javascript object>"
            ]
          },
          "metadata": {}
        },
        {
          "output_type": "display_data",
          "data": {
            "application/javascript": [
              "download(\"download_61478b93-a782-411d-9198-ceff28f9acd9\", \"runs_GroupJ_final.pkl\", 0)"
            ],
            "text/plain": [
              "<IPython.core.display.Javascript object>"
            ]
          },
          "metadata": {}
        },
        {
          "output_type": "stream",
          "name": "stdout",
          "text": [
            "Final Download attempted :  Thu, 11 November 2021 18:05:47  (subtract ~5-hours for local Hour), and file is called  runs_GroupJ_final.pkl\n"
          ]
        }
      ]
    },
    {
      "cell_type": "markdown",
      "metadata": {
        "id": "XRQSbtOTIzUi"
      },
      "source": [
        "# Time Required\n",
        "\n"
      ]
    },
    {
      "cell_type": "code",
      "metadata": {
        "colab": {
          "base_uri": "https://localhost:8080/"
        },
        "id": "PHdlMjzHI1rI",
        "outputId": "b5126650-a1f5-4e34-9dad-ae6c895ebad6"
      },
      "source": [
        "stop_testing = time.time()\n",
        "print((stop_testing - tic) , \"secs to  run everything start to end, or... \")\n",
        "print((stop_testing - tic)/60, \"minutes ... or \")\n",
        "print((stop_testing - tic)/3600, \"hours \")"
      ],
      "execution_count": 191,
      "outputs": [
        {
          "output_type": "stream",
          "name": "stdout",
          "text": [
            "14902.993225574493 secs to  run everything start to end, or... \n",
            "248.38322042624156 minutes ... or \n",
            "4.13972034043736 hours \n"
          ]
        }
      ]
    },
    {
      "cell_type": "markdown",
      "metadata": {
        "id": "VCp4ve_TFY6N"
      },
      "source": [
        "# Post-Test: View Results"
      ]
    },
    {
      "cell_type": "markdown",
      "metadata": {
        "id": "QHDNcf6KFeVE"
      },
      "source": [
        "After the 50 runs above have run, its time to load the results into JMP to Fit the Definitive Screening Design and find which Main Effects have the most compeling effect.  This is my second time running the results of Training_Group_A.  The first time I created two for loops to go through the first 25 runs and save, and then the second 25 runs and save.  When I went through my results, the second 25 runs on average were slightly less test accuracy (diff of 0.03 according to block effect), and you could clearly see that each run of view_images(data) resulted in the exact same images.  So my belief is that for some reason, maybe due to a coding issue, or maybe just an artifact of calling up the dataset-augmentations \"twice\", the second 25 runs in the original \"[Test1](https://github.com/RachelRamirez/CIFAR-10/blob/main/CollectionofTests/Test1GroupA.ipynb)\" resulted in a visible block effect.  It was funny because I had made a block variable and then accidentally caused a significant blocking effect.. ANYWHO...  \n"
      ]
    },
    {
      "cell_type": "code",
      "metadata": {
        "id": "LXtNIneX-fbF"
      },
      "source": [
        "import pickle\n",
        "import numpy as np\n",
        "with open('runs_groupA (8).pkl', 'rb') as fid:\n",
        "     lastruns_groupA_loaded = pickle.load(fid)  #this file originally saved 11-5-2021 from 1 each testset\n",
        "\n",
        "lastruns_groupA_loaded\n",
        "\n",
        "string_of_cm = \" \"\n",
        "y = {}\n",
        "\n",
        "# test\n",
        "# string_of_cm = string_of_cm + np.array2string(lastruns_groupA_loaded[0][\"CM\"][0][0]) + \" \"\n",
        "print(\"Run ,\", \"Test Accuracy ,\", \"Test Loss,\", \"Confusion Matrix Diagonals,\" )\n",
        " \n",
        "CM_digit = []\n",
        "\n",
        "for i in range(0,ENDRUNS):\n",
        "  for x in range(0,10):\n",
        "    #string_of_cm = string_of_cm + np.array2string(lastruns_groupA_loaded[i][\"CM\"][x][x]) + \", \"\n",
        "    CM_digit = lastruns_groupA_loaded[i][\"CM\"][x][x] + CM_digit\n",
        "  y[i] = lastruns_groupA_loaded[i]['TestAccuracy'], lastruns_groupA_loaded[i][\"TestLoss\"], CM_digit \n",
        "  print(y[i])\n",
        "  CM_digit = [] #clear?\n",
        "\n",
        "lastruns_groupA_loaded[1][\"TestAccuracy\"]\n",
        "lastruns_groupA_loaded[1][\"CM\"][:,0].sum()  #666 Predicted Class 0?\n",
        "lastruns_groupA_loaded[1][\"CM\"][0,:].sum()  #1000 True Class 0?\n",
        "lastruns_groupA_loaded[1][\"CM\"][1,:].sum()  #1000 True Class 1?\n",
        "\n",
        "sum_of_cm_diagonals = 0\n",
        "for i in range(10):\n",
        "  sum_of_cm_diagonals = sum_of_cm_diagonals + lastruns_groupA_loaded[1][\"CM\"][i,i]    \n",
        "\n",
        "print(\"Sum of Diagonals on Confusion Matrix of Run 1: \", sum_of_cm_diagonals) #checks with TestAccuracy\n",
        "\n",
        "\n",
        "#I want to find the area of greatest confusion\n",
        "\n",
        "#create a new matrix to not ruin previious CM\n",
        "confusion_matrix_wo_diagonal = lastruns_groupA_loaded[1][\"CM\"].copy()\n",
        " \n",
        "for i in range(10):\n",
        "  confusion_matrix_wo_diagonal[i,i] = 0 # set the diagonal equal to zero\n",
        "print(confusion_matrix_wo_diagonal)\n",
        "# for i in range(10):\n",
        "#   print(i, \"is most often miscategorized as \", np.argmax(confusion_matrix_wo_diagonal[:,i]), \" \", max(confusion_matrix_wo_diagonal[:,i]), \" times\")\n",
        "\n",
        "for i in range(10):\n",
        "  print(\"The algorithm predicted a \", np.argmax(confusion_matrix_wo_diagonal[i,:]),\"instead of a \",  i, \" \", max(confusion_matrix_wo_diagonal[i,:]), \"times\")\n",
        "\n",
        "\n",
        "\n",
        "print(\"Summing down the rows, for COLUMN total: \", confusion_matrix_wo_diagonal.sum(axis=0))\n",
        "print(\"Summing across the columns, for ROW total: \", confusion_matrix_wo_diagonal.sum(axis=1))"
      ],
      "execution_count": null,
      "outputs": []
    },
    {
      "cell_type": "markdown",
      "metadata": {
        "id": "Oo_fq33cCydS"
      },
      "source": [
        "something weird about the above code.  My confusion matrix looks like its lost the diagonals. I think copying to confusion_matrix_wo_diagonal didn't do a separate copy, it is just linked, so when I cleared the diagonal of confusion_matrix_wo_diagonal, it also cleared it from lastruns_groupsA_loaded[1][\"CM\"]\n"
      ]
    },
    {
      "cell_type": "code",
      "metadata": {
        "id": "7T9ytq0HDFxb"
      },
      "source": [
        "lastruns_groupA_loaded[0][\"CM\"]"
      ],
      "execution_count": null,
      "outputs": []
    },
    {
      "cell_type": "code",
      "metadata": {
        "id": "Agn7vy8szoQl"
      },
      "source": [
        "confusion_matrix_wo_diagonal.sum() + sum_of_cm_diagonals"
      ],
      "execution_count": null,
      "outputs": []
    },
    {
      "cell_type": "code",
      "metadata": {
        "id": "LTCSL1zyIme0"
      },
      "source": [
        "string_of_cm = \"\"\n",
        "\n",
        "for i in range(1,2):  # goes through first n runs with CMs\n",
        "  for x in range(10): # goes through the n items in diagonal of each run.CM\n",
        "    string_of_cm = string_of_cm + np.array2string(lastruns_groupA_loaded[i][\"CM\"][x][x]) + \",\"\n",
        "    y[i] = lastruns_groupA_loaded[i]['TestAccuracy'], lastruns_groupA_loaded[i][\"TestLoss\"], string_of_cm \n",
        "  print(y[i])\n",
        "  \n",
        "\n",
        "lastruns_groupA_loaded[1][\"TestAccuracy\"]\n",
        "lastruns_groupA_loaded[1][\"CM\"][:,0].sum()  #666 Predicted Class 0\n",
        "lastruns_groupA_loaded[1][\"CM\"][0,:].sum()  #1000 True Class 0\n",
        "lastruns_groupA_loaded[1][\"CM\"][1,:].sum()  #1000 True Class 1\n",
        "\n",
        "sum_of_cm_diagonals = 0\n",
        "for i in range(10):\n",
        "  sum_of_cm_diagonals = sum_of_cm_diagonals + lastruns_groupA_loaded[1][\"CM\"][i,i]    \n",
        "\n",
        "print(\"Sum of Diagonals on Confusion Matrix of Run 1: \", sum_of_cm_diagonals) #checks with TestAccuracy\n",
        "\n",
        "\n",
        "#I want to find the area of greatest confusion\n",
        "\n",
        "#create a new matrix to not ruin previious CM\n",
        "confusion_matrix_wo_diagonal = lastruns_groupA_loaded[1][\"CM\"].copy()\n",
        " \n",
        "for i in range(10):\n",
        "  confusion_matrix_wo_diagonal[i,i] = 0 # set the diagonal equal to zero\n",
        "print(confusion_matrix_wo_diagonal)\n",
        "# for i in range(10):\n",
        "#   print(i, \"is most often miscategorized as \", np.argmax(confusion_matrix_wo_diagonal[:,i]), \" \", max(confusion_matrix_wo_diagonal[:,i]), \" times\")\n",
        "\n",
        "for i in range(10):\n",
        "  print(\"The algorithm predicted a \", np.argmax(confusion_matrix_wo_diagonal[i,:]),\"instead of a \",  i, \" \", max(confusion_matrix_wo_diagonal[i,:]), \"times\")\n",
        "\n",
        "\n",
        "\n",
        "print(\"Summing down the rows, for COLUMN total: \", confusion_matrix_wo_diagonal.sum(axis=0))\n",
        "print(\"Summing across the columns, for ROW total: \", confusion_matrix_wo_diagonal.sum(axis=1))"
      ],
      "execution_count": null,
      "outputs": []
    },
    {
      "cell_type": "code",
      "metadata": {
        "id": "uCa9jqpX9sg-"
      },
      "source": [
        ""
      ],
      "execution_count": null,
      "outputs": []
    }
  ]
}