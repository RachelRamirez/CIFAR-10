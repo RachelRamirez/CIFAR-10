{
  "nbformat": 4,
  "nbformat_minor": 0,
  "metadata": {
    "colab": {
      "name": "Filter.ipynb",
      "provenance": [],
      "include_colab_link": true
    },
    "kernelspec": {
      "name": "python3",
      "display_name": "Python 3"
    },
    "accelerator": "GPU",
    "widgets": {
      "application/vnd.jupyter.widget-state+json": {
        "eb0349aa86634322a14285a41ec35e67": {
          "model_module": "@jupyter-widgets/controls",
          "model_name": "HBoxModel",
          "model_module_version": "1.5.0",
          "state": {
            "_view_name": "HBoxView",
            "_dom_classes": [],
            "_model_name": "HBoxModel",
            "_view_module": "@jupyter-widgets/controls",
            "_model_module_version": "1.5.0",
            "_view_count": null,
            "_view_module_version": "1.5.0",
            "box_style": "",
            "layout": "IPY_MODEL_62a7c3a84d094fd8bc5d61878575e238",
            "_model_module": "@jupyter-widgets/controls",
            "children": [
              "IPY_MODEL_1a4e9ddf65a7471fb7078cf213a5868e",
              "IPY_MODEL_2b995d5c15dc48fb84cb5aae3ebf208b",
              "IPY_MODEL_5f97c2209f2c491cb06c2a12a5d2552d"
            ]
          }
        },
        "62a7c3a84d094fd8bc5d61878575e238": {
          "model_module": "@jupyter-widgets/base",
          "model_name": "LayoutModel",
          "model_module_version": "1.2.0",
          "state": {
            "_view_name": "LayoutView",
            "grid_template_rows": null,
            "right": null,
            "justify_content": null,
            "_view_module": "@jupyter-widgets/base",
            "overflow": null,
            "_model_module_version": "1.2.0",
            "_view_count": null,
            "flex_flow": null,
            "width": null,
            "min_width": null,
            "border": null,
            "align_items": null,
            "bottom": null,
            "_model_module": "@jupyter-widgets/base",
            "top": null,
            "grid_column": null,
            "overflow_y": null,
            "overflow_x": null,
            "grid_auto_flow": null,
            "grid_area": null,
            "grid_template_columns": null,
            "flex": null,
            "_model_name": "LayoutModel",
            "justify_items": null,
            "grid_row": null,
            "max_height": null,
            "align_content": null,
            "visibility": null,
            "align_self": null,
            "height": null,
            "min_height": null,
            "padding": null,
            "grid_auto_rows": null,
            "grid_gap": null,
            "max_width": null,
            "order": null,
            "_view_module_version": "1.2.0",
            "grid_template_areas": null,
            "object_position": null,
            "object_fit": null,
            "grid_auto_columns": null,
            "margin": null,
            "display": null,
            "left": null
          }
        },
        "1a4e9ddf65a7471fb7078cf213a5868e": {
          "model_module": "@jupyter-widgets/controls",
          "model_name": "HTMLModel",
          "model_module_version": "1.5.0",
          "state": {
            "_view_name": "HTMLView",
            "style": "IPY_MODEL_ef0d78c2e3304334950d9dc9f963c5f4",
            "_dom_classes": [],
            "description": "",
            "_model_name": "HTMLModel",
            "placeholder": "​",
            "_view_module": "@jupyter-widgets/controls",
            "_model_module_version": "1.5.0",
            "value": "Dl Completed...: 100%",
            "_view_count": null,
            "_view_module_version": "1.5.0",
            "description_tooltip": null,
            "_model_module": "@jupyter-widgets/controls",
            "layout": "IPY_MODEL_b5c610af62bb40f48b03103322bffc85"
          }
        },
        "2b995d5c15dc48fb84cb5aae3ebf208b": {
          "model_module": "@jupyter-widgets/controls",
          "model_name": "FloatProgressModel",
          "model_module_version": "1.5.0",
          "state": {
            "_view_name": "ProgressView",
            "style": "IPY_MODEL_5d11678362e74c899e2c60b829d0ef3b",
            "_dom_classes": [],
            "description": "",
            "_model_name": "FloatProgressModel",
            "bar_style": "success",
            "max": 1,
            "_view_module": "@jupyter-widgets/controls",
            "_model_module_version": "1.5.0",
            "value": 1,
            "_view_count": null,
            "_view_module_version": "1.5.0",
            "orientation": "horizontal",
            "min": 0,
            "description_tooltip": null,
            "_model_module": "@jupyter-widgets/controls",
            "layout": "IPY_MODEL_f2b9added67c4aaeaa04c740bdd0f979"
          }
        },
        "5f97c2209f2c491cb06c2a12a5d2552d": {
          "model_module": "@jupyter-widgets/controls",
          "model_name": "HTMLModel",
          "model_module_version": "1.5.0",
          "state": {
            "_view_name": "HTMLView",
            "style": "IPY_MODEL_91de9b166d4b4695be56cf67ff3a15cf",
            "_dom_classes": [],
            "description": "",
            "_model_name": "HTMLModel",
            "placeholder": "​",
            "_view_module": "@jupyter-widgets/controls",
            "_model_module_version": "1.5.0",
            "value": " 1/1 [00:06&lt;00:00,  4.13s/ url]",
            "_view_count": null,
            "_view_module_version": "1.5.0",
            "description_tooltip": null,
            "_model_module": "@jupyter-widgets/controls",
            "layout": "IPY_MODEL_be4b49fb56fe41fcad2538f3f5658946"
          }
        },
        "ef0d78c2e3304334950d9dc9f963c5f4": {
          "model_module": "@jupyter-widgets/controls",
          "model_name": "DescriptionStyleModel",
          "model_module_version": "1.5.0",
          "state": {
            "_view_name": "StyleView",
            "_model_name": "DescriptionStyleModel",
            "description_width": "",
            "_view_module": "@jupyter-widgets/base",
            "_model_module_version": "1.5.0",
            "_view_count": null,
            "_view_module_version": "1.2.0",
            "_model_module": "@jupyter-widgets/controls"
          }
        },
        "b5c610af62bb40f48b03103322bffc85": {
          "model_module": "@jupyter-widgets/base",
          "model_name": "LayoutModel",
          "model_module_version": "1.2.0",
          "state": {
            "_view_name": "LayoutView",
            "grid_template_rows": null,
            "right": null,
            "justify_content": null,
            "_view_module": "@jupyter-widgets/base",
            "overflow": null,
            "_model_module_version": "1.2.0",
            "_view_count": null,
            "flex_flow": null,
            "width": null,
            "min_width": null,
            "border": null,
            "align_items": null,
            "bottom": null,
            "_model_module": "@jupyter-widgets/base",
            "top": null,
            "grid_column": null,
            "overflow_y": null,
            "overflow_x": null,
            "grid_auto_flow": null,
            "grid_area": null,
            "grid_template_columns": null,
            "flex": null,
            "_model_name": "LayoutModel",
            "justify_items": null,
            "grid_row": null,
            "max_height": null,
            "align_content": null,
            "visibility": null,
            "align_self": null,
            "height": null,
            "min_height": null,
            "padding": null,
            "grid_auto_rows": null,
            "grid_gap": null,
            "max_width": null,
            "order": null,
            "_view_module_version": "1.2.0",
            "grid_template_areas": null,
            "object_position": null,
            "object_fit": null,
            "grid_auto_columns": null,
            "margin": null,
            "display": null,
            "left": null
          }
        },
        "5d11678362e74c899e2c60b829d0ef3b": {
          "model_module": "@jupyter-widgets/controls",
          "model_name": "ProgressStyleModel",
          "model_module_version": "1.5.0",
          "state": {
            "_view_name": "StyleView",
            "_model_name": "ProgressStyleModel",
            "description_width": "",
            "_view_module": "@jupyter-widgets/base",
            "_model_module_version": "1.5.0",
            "_view_count": null,
            "_view_module_version": "1.2.0",
            "bar_color": null,
            "_model_module": "@jupyter-widgets/controls"
          }
        },
        "f2b9added67c4aaeaa04c740bdd0f979": {
          "model_module": "@jupyter-widgets/base",
          "model_name": "LayoutModel",
          "model_module_version": "1.2.0",
          "state": {
            "_view_name": "LayoutView",
            "grid_template_rows": null,
            "right": null,
            "justify_content": null,
            "_view_module": "@jupyter-widgets/base",
            "overflow": null,
            "_model_module_version": "1.2.0",
            "_view_count": null,
            "flex_flow": null,
            "width": "20px",
            "min_width": null,
            "border": null,
            "align_items": null,
            "bottom": null,
            "_model_module": "@jupyter-widgets/base",
            "top": null,
            "grid_column": null,
            "overflow_y": null,
            "overflow_x": null,
            "grid_auto_flow": null,
            "grid_area": null,
            "grid_template_columns": null,
            "flex": null,
            "_model_name": "LayoutModel",
            "justify_items": null,
            "grid_row": null,
            "max_height": null,
            "align_content": null,
            "visibility": null,
            "align_self": null,
            "height": null,
            "min_height": null,
            "padding": null,
            "grid_auto_rows": null,
            "grid_gap": null,
            "max_width": null,
            "order": null,
            "_view_module_version": "1.2.0",
            "grid_template_areas": null,
            "object_position": null,
            "object_fit": null,
            "grid_auto_columns": null,
            "margin": null,
            "display": null,
            "left": null
          }
        },
        "91de9b166d4b4695be56cf67ff3a15cf": {
          "model_module": "@jupyter-widgets/controls",
          "model_name": "DescriptionStyleModel",
          "model_module_version": "1.5.0",
          "state": {
            "_view_name": "StyleView",
            "_model_name": "DescriptionStyleModel",
            "description_width": "",
            "_view_module": "@jupyter-widgets/base",
            "_model_module_version": "1.5.0",
            "_view_count": null,
            "_view_module_version": "1.2.0",
            "_model_module": "@jupyter-widgets/controls"
          }
        },
        "be4b49fb56fe41fcad2538f3f5658946": {
          "model_module": "@jupyter-widgets/base",
          "model_name": "LayoutModel",
          "model_module_version": "1.2.0",
          "state": {
            "_view_name": "LayoutView",
            "grid_template_rows": null,
            "right": null,
            "justify_content": null,
            "_view_module": "@jupyter-widgets/base",
            "overflow": null,
            "_model_module_version": "1.2.0",
            "_view_count": null,
            "flex_flow": null,
            "width": null,
            "min_width": null,
            "border": null,
            "align_items": null,
            "bottom": null,
            "_model_module": "@jupyter-widgets/base",
            "top": null,
            "grid_column": null,
            "overflow_y": null,
            "overflow_x": null,
            "grid_auto_flow": null,
            "grid_area": null,
            "grid_template_columns": null,
            "flex": null,
            "_model_name": "LayoutModel",
            "justify_items": null,
            "grid_row": null,
            "max_height": null,
            "align_content": null,
            "visibility": null,
            "align_self": null,
            "height": null,
            "min_height": null,
            "padding": null,
            "grid_auto_rows": null,
            "grid_gap": null,
            "max_width": null,
            "order": null,
            "_view_module_version": "1.2.0",
            "grid_template_areas": null,
            "object_position": null,
            "object_fit": null,
            "grid_auto_columns": null,
            "margin": null,
            "display": null,
            "left": null
          }
        },
        "0b90b4712ed14a238bbeb92d8db0c7d3": {
          "model_module": "@jupyter-widgets/controls",
          "model_name": "HBoxModel",
          "model_module_version": "1.5.0",
          "state": {
            "_view_name": "HBoxView",
            "_dom_classes": [],
            "_model_name": "HBoxModel",
            "_view_module": "@jupyter-widgets/controls",
            "_model_module_version": "1.5.0",
            "_view_count": null,
            "_view_module_version": "1.5.0",
            "box_style": "",
            "layout": "IPY_MODEL_dbd30af721104a9c840c0b4792326a8d",
            "_model_module": "@jupyter-widgets/controls",
            "children": [
              "IPY_MODEL_c5b3d3ca21f04aed9ca17e79e02545e1",
              "IPY_MODEL_e847e3358f594fe4ab61d3b371df75f4",
              "IPY_MODEL_54c77269b9f74dd6989b0cd7c78b7983"
            ]
          }
        },
        "dbd30af721104a9c840c0b4792326a8d": {
          "model_module": "@jupyter-widgets/base",
          "model_name": "LayoutModel",
          "model_module_version": "1.2.0",
          "state": {
            "_view_name": "LayoutView",
            "grid_template_rows": null,
            "right": null,
            "justify_content": null,
            "_view_module": "@jupyter-widgets/base",
            "overflow": null,
            "_model_module_version": "1.2.0",
            "_view_count": null,
            "flex_flow": null,
            "width": null,
            "min_width": null,
            "border": null,
            "align_items": null,
            "bottom": null,
            "_model_module": "@jupyter-widgets/base",
            "top": null,
            "grid_column": null,
            "overflow_y": null,
            "overflow_x": null,
            "grid_auto_flow": null,
            "grid_area": null,
            "grid_template_columns": null,
            "flex": null,
            "_model_name": "LayoutModel",
            "justify_items": null,
            "grid_row": null,
            "max_height": null,
            "align_content": null,
            "visibility": null,
            "align_self": null,
            "height": null,
            "min_height": null,
            "padding": null,
            "grid_auto_rows": null,
            "grid_gap": null,
            "max_width": null,
            "order": null,
            "_view_module_version": "1.2.0",
            "grid_template_areas": null,
            "object_position": null,
            "object_fit": null,
            "grid_auto_columns": null,
            "margin": null,
            "display": null,
            "left": null
          }
        },
        "c5b3d3ca21f04aed9ca17e79e02545e1": {
          "model_module": "@jupyter-widgets/controls",
          "model_name": "HTMLModel",
          "model_module_version": "1.5.0",
          "state": {
            "_view_name": "HTMLView",
            "style": "IPY_MODEL_b2bf4f2283f744acb1526cc804ee2ab1",
            "_dom_classes": [],
            "description": "",
            "_model_name": "HTMLModel",
            "placeholder": "​",
            "_view_module": "@jupyter-widgets/controls",
            "_model_module_version": "1.5.0",
            "value": "Dl Size...: 100%",
            "_view_count": null,
            "_view_module_version": "1.5.0",
            "description_tooltip": null,
            "_model_module": "@jupyter-widgets/controls",
            "layout": "IPY_MODEL_00c2e6191fbb4125a48b3009d9eafddd"
          }
        },
        "e847e3358f594fe4ab61d3b371df75f4": {
          "model_module": "@jupyter-widgets/controls",
          "model_name": "FloatProgressModel",
          "model_module_version": "1.5.0",
          "state": {
            "_view_name": "ProgressView",
            "style": "IPY_MODEL_57a3d9b7c14247c2909f47237f8ff754",
            "_dom_classes": [],
            "description": "",
            "_model_name": "FloatProgressModel",
            "bar_style": "success",
            "max": 1,
            "_view_module": "@jupyter-widgets/controls",
            "_model_module_version": "1.5.0",
            "value": 1,
            "_view_count": null,
            "_view_module_version": "1.5.0",
            "orientation": "horizontal",
            "min": 0,
            "description_tooltip": null,
            "_model_module": "@jupyter-widgets/controls",
            "layout": "IPY_MODEL_66710de5d1074c19aa61e127f600fbe9"
          }
        },
        "54c77269b9f74dd6989b0cd7c78b7983": {
          "model_module": "@jupyter-widgets/controls",
          "model_name": "HTMLModel",
          "model_module_version": "1.5.0",
          "state": {
            "_view_name": "HTMLView",
            "style": "IPY_MODEL_e42ca25bb70b4840a33285c3059615c9",
            "_dom_classes": [],
            "description": "",
            "_model_name": "HTMLModel",
            "placeholder": "​",
            "_view_module": "@jupyter-widgets/controls",
            "_model_module_version": "1.5.0",
            "value": " 162/162 [00:06&lt;00:00, 48.31 MiB/s]",
            "_view_count": null,
            "_view_module_version": "1.5.0",
            "description_tooltip": null,
            "_model_module": "@jupyter-widgets/controls",
            "layout": "IPY_MODEL_afd49c98773c4d7897d05ae62ab1dee4"
          }
        },
        "b2bf4f2283f744acb1526cc804ee2ab1": {
          "model_module": "@jupyter-widgets/controls",
          "model_name": "DescriptionStyleModel",
          "model_module_version": "1.5.0",
          "state": {
            "_view_name": "StyleView",
            "_model_name": "DescriptionStyleModel",
            "description_width": "",
            "_view_module": "@jupyter-widgets/base",
            "_model_module_version": "1.5.0",
            "_view_count": null,
            "_view_module_version": "1.2.0",
            "_model_module": "@jupyter-widgets/controls"
          }
        },
        "00c2e6191fbb4125a48b3009d9eafddd": {
          "model_module": "@jupyter-widgets/base",
          "model_name": "LayoutModel",
          "model_module_version": "1.2.0",
          "state": {
            "_view_name": "LayoutView",
            "grid_template_rows": null,
            "right": null,
            "justify_content": null,
            "_view_module": "@jupyter-widgets/base",
            "overflow": null,
            "_model_module_version": "1.2.0",
            "_view_count": null,
            "flex_flow": null,
            "width": null,
            "min_width": null,
            "border": null,
            "align_items": null,
            "bottom": null,
            "_model_module": "@jupyter-widgets/base",
            "top": null,
            "grid_column": null,
            "overflow_y": null,
            "overflow_x": null,
            "grid_auto_flow": null,
            "grid_area": null,
            "grid_template_columns": null,
            "flex": null,
            "_model_name": "LayoutModel",
            "justify_items": null,
            "grid_row": null,
            "max_height": null,
            "align_content": null,
            "visibility": null,
            "align_self": null,
            "height": null,
            "min_height": null,
            "padding": null,
            "grid_auto_rows": null,
            "grid_gap": null,
            "max_width": null,
            "order": null,
            "_view_module_version": "1.2.0",
            "grid_template_areas": null,
            "object_position": null,
            "object_fit": null,
            "grid_auto_columns": null,
            "margin": null,
            "display": null,
            "left": null
          }
        },
        "57a3d9b7c14247c2909f47237f8ff754": {
          "model_module": "@jupyter-widgets/controls",
          "model_name": "ProgressStyleModel",
          "model_module_version": "1.5.0",
          "state": {
            "_view_name": "StyleView",
            "_model_name": "ProgressStyleModel",
            "description_width": "",
            "_view_module": "@jupyter-widgets/base",
            "_model_module_version": "1.5.0",
            "_view_count": null,
            "_view_module_version": "1.2.0",
            "bar_color": null,
            "_model_module": "@jupyter-widgets/controls"
          }
        },
        "66710de5d1074c19aa61e127f600fbe9": {
          "model_module": "@jupyter-widgets/base",
          "model_name": "LayoutModel",
          "model_module_version": "1.2.0",
          "state": {
            "_view_name": "LayoutView",
            "grid_template_rows": null,
            "right": null,
            "justify_content": null,
            "_view_module": "@jupyter-widgets/base",
            "overflow": null,
            "_model_module_version": "1.2.0",
            "_view_count": null,
            "flex_flow": null,
            "width": "20px",
            "min_width": null,
            "border": null,
            "align_items": null,
            "bottom": null,
            "_model_module": "@jupyter-widgets/base",
            "top": null,
            "grid_column": null,
            "overflow_y": null,
            "overflow_x": null,
            "grid_auto_flow": null,
            "grid_area": null,
            "grid_template_columns": null,
            "flex": null,
            "_model_name": "LayoutModel",
            "justify_items": null,
            "grid_row": null,
            "max_height": null,
            "align_content": null,
            "visibility": null,
            "align_self": null,
            "height": null,
            "min_height": null,
            "padding": null,
            "grid_auto_rows": null,
            "grid_gap": null,
            "max_width": null,
            "order": null,
            "_view_module_version": "1.2.0",
            "grid_template_areas": null,
            "object_position": null,
            "object_fit": null,
            "grid_auto_columns": null,
            "margin": null,
            "display": null,
            "left": null
          }
        },
        "e42ca25bb70b4840a33285c3059615c9": {
          "model_module": "@jupyter-widgets/controls",
          "model_name": "DescriptionStyleModel",
          "model_module_version": "1.5.0",
          "state": {
            "_view_name": "StyleView",
            "_model_name": "DescriptionStyleModel",
            "description_width": "",
            "_view_module": "@jupyter-widgets/base",
            "_model_module_version": "1.5.0",
            "_view_count": null,
            "_view_module_version": "1.2.0",
            "_model_module": "@jupyter-widgets/controls"
          }
        },
        "afd49c98773c4d7897d05ae62ab1dee4": {
          "model_module": "@jupyter-widgets/base",
          "model_name": "LayoutModel",
          "model_module_version": "1.2.0",
          "state": {
            "_view_name": "LayoutView",
            "grid_template_rows": null,
            "right": null,
            "justify_content": null,
            "_view_module": "@jupyter-widgets/base",
            "overflow": null,
            "_model_module_version": "1.2.0",
            "_view_count": null,
            "flex_flow": null,
            "width": null,
            "min_width": null,
            "border": null,
            "align_items": null,
            "bottom": null,
            "_model_module": "@jupyter-widgets/base",
            "top": null,
            "grid_column": null,
            "overflow_y": null,
            "overflow_x": null,
            "grid_auto_flow": null,
            "grid_area": null,
            "grid_template_columns": null,
            "flex": null,
            "_model_name": "LayoutModel",
            "justify_items": null,
            "grid_row": null,
            "max_height": null,
            "align_content": null,
            "visibility": null,
            "align_self": null,
            "height": null,
            "min_height": null,
            "padding": null,
            "grid_auto_rows": null,
            "grid_gap": null,
            "max_width": null,
            "order": null,
            "_view_module_version": "1.2.0",
            "grid_template_areas": null,
            "object_position": null,
            "object_fit": null,
            "grid_auto_columns": null,
            "margin": null,
            "display": null,
            "left": null
          }
        },
        "7b01a10cdc01424cab6083276b4f30fa": {
          "model_module": "@jupyter-widgets/controls",
          "model_name": "HBoxModel",
          "model_module_version": "1.5.0",
          "state": {
            "_view_name": "HBoxView",
            "_dom_classes": [],
            "_model_name": "HBoxModel",
            "_view_module": "@jupyter-widgets/controls",
            "_model_module_version": "1.5.0",
            "_view_count": null,
            "_view_module_version": "1.5.0",
            "box_style": "",
            "layout": "IPY_MODEL_4329d79f5f3542f3a3f7579f2cb8681b",
            "_model_module": "@jupyter-widgets/controls",
            "children": [
              "IPY_MODEL_a70667a44b05452088f14e6141d95ed8",
              "IPY_MODEL_c0903ba658d842c3802198032dc7b6bd",
              "IPY_MODEL_f02e653fa2e04a23a773f9608d412f21"
            ]
          }
        },
        "4329d79f5f3542f3a3f7579f2cb8681b": {
          "model_module": "@jupyter-widgets/base",
          "model_name": "LayoutModel",
          "model_module_version": "1.2.0",
          "state": {
            "_view_name": "LayoutView",
            "grid_template_rows": null,
            "right": null,
            "justify_content": null,
            "_view_module": "@jupyter-widgets/base",
            "overflow": null,
            "_model_module_version": "1.2.0",
            "_view_count": null,
            "flex_flow": null,
            "width": null,
            "min_width": null,
            "border": null,
            "align_items": null,
            "bottom": null,
            "_model_module": "@jupyter-widgets/base",
            "top": null,
            "grid_column": null,
            "overflow_y": null,
            "overflow_x": null,
            "grid_auto_flow": null,
            "grid_area": null,
            "grid_template_columns": null,
            "flex": null,
            "_model_name": "LayoutModel",
            "justify_items": null,
            "grid_row": null,
            "max_height": null,
            "align_content": null,
            "visibility": null,
            "align_self": null,
            "height": null,
            "min_height": null,
            "padding": null,
            "grid_auto_rows": null,
            "grid_gap": null,
            "max_width": null,
            "order": null,
            "_view_module_version": "1.2.0",
            "grid_template_areas": null,
            "object_position": null,
            "object_fit": null,
            "grid_auto_columns": null,
            "margin": null,
            "display": null,
            "left": null
          }
        },
        "a70667a44b05452088f14e6141d95ed8": {
          "model_module": "@jupyter-widgets/controls",
          "model_name": "HTMLModel",
          "model_module_version": "1.5.0",
          "state": {
            "_view_name": "HTMLView",
            "style": "IPY_MODEL_893ad32f07634306becd4f6e6dc76eba",
            "_dom_classes": [],
            "description": "",
            "_model_name": "HTMLModel",
            "placeholder": "​",
            "_view_module": "@jupyter-widgets/controls",
            "_model_module_version": "1.5.0",
            "value": "Extraction completed...: 100%",
            "_view_count": null,
            "_view_module_version": "1.5.0",
            "description_tooltip": null,
            "_model_module": "@jupyter-widgets/controls",
            "layout": "IPY_MODEL_ecd24f42b6a2403f8d62b3e21f0b2669"
          }
        },
        "c0903ba658d842c3802198032dc7b6bd": {
          "model_module": "@jupyter-widgets/controls",
          "model_name": "FloatProgressModel",
          "model_module_version": "1.5.0",
          "state": {
            "_view_name": "ProgressView",
            "style": "IPY_MODEL_40fe6b5d8d994996a978f847f484bd96",
            "_dom_classes": [],
            "description": "",
            "_model_name": "FloatProgressModel",
            "bar_style": "success",
            "max": 1,
            "_view_module": "@jupyter-widgets/controls",
            "_model_module_version": "1.5.0",
            "value": 1,
            "_view_count": null,
            "_view_module_version": "1.5.0",
            "orientation": "horizontal",
            "min": 0,
            "description_tooltip": null,
            "_model_module": "@jupyter-widgets/controls",
            "layout": "IPY_MODEL_2df24d2b86fc41208770df8a548810c5"
          }
        },
        "f02e653fa2e04a23a773f9608d412f21": {
          "model_module": "@jupyter-widgets/controls",
          "model_name": "HTMLModel",
          "model_module_version": "1.5.0",
          "state": {
            "_view_name": "HTMLView",
            "style": "IPY_MODEL_f5492c54af384c22a300c157097e388e",
            "_dom_classes": [],
            "description": "",
            "_model_name": "HTMLModel",
            "placeholder": "​",
            "_view_module": "@jupyter-widgets/controls",
            "_model_module_version": "1.5.0",
            "value": " 1/1 [00:05&lt;00:00,  5.94s/ file]",
            "_view_count": null,
            "_view_module_version": "1.5.0",
            "description_tooltip": null,
            "_model_module": "@jupyter-widgets/controls",
            "layout": "IPY_MODEL_099530f44fe34081a43d518985cc45ab"
          }
        },
        "893ad32f07634306becd4f6e6dc76eba": {
          "model_module": "@jupyter-widgets/controls",
          "model_name": "DescriptionStyleModel",
          "model_module_version": "1.5.0",
          "state": {
            "_view_name": "StyleView",
            "_model_name": "DescriptionStyleModel",
            "description_width": "",
            "_view_module": "@jupyter-widgets/base",
            "_model_module_version": "1.5.0",
            "_view_count": null,
            "_view_module_version": "1.2.0",
            "_model_module": "@jupyter-widgets/controls"
          }
        },
        "ecd24f42b6a2403f8d62b3e21f0b2669": {
          "model_module": "@jupyter-widgets/base",
          "model_name": "LayoutModel",
          "model_module_version": "1.2.0",
          "state": {
            "_view_name": "LayoutView",
            "grid_template_rows": null,
            "right": null,
            "justify_content": null,
            "_view_module": "@jupyter-widgets/base",
            "overflow": null,
            "_model_module_version": "1.2.0",
            "_view_count": null,
            "flex_flow": null,
            "width": null,
            "min_width": null,
            "border": null,
            "align_items": null,
            "bottom": null,
            "_model_module": "@jupyter-widgets/base",
            "top": null,
            "grid_column": null,
            "overflow_y": null,
            "overflow_x": null,
            "grid_auto_flow": null,
            "grid_area": null,
            "grid_template_columns": null,
            "flex": null,
            "_model_name": "LayoutModel",
            "justify_items": null,
            "grid_row": null,
            "max_height": null,
            "align_content": null,
            "visibility": null,
            "align_self": null,
            "height": null,
            "min_height": null,
            "padding": null,
            "grid_auto_rows": null,
            "grid_gap": null,
            "max_width": null,
            "order": null,
            "_view_module_version": "1.2.0",
            "grid_template_areas": null,
            "object_position": null,
            "object_fit": null,
            "grid_auto_columns": null,
            "margin": null,
            "display": null,
            "left": null
          }
        },
        "40fe6b5d8d994996a978f847f484bd96": {
          "model_module": "@jupyter-widgets/controls",
          "model_name": "ProgressStyleModel",
          "model_module_version": "1.5.0",
          "state": {
            "_view_name": "StyleView",
            "_model_name": "ProgressStyleModel",
            "description_width": "",
            "_view_module": "@jupyter-widgets/base",
            "_model_module_version": "1.5.0",
            "_view_count": null,
            "_view_module_version": "1.2.0",
            "bar_color": null,
            "_model_module": "@jupyter-widgets/controls"
          }
        },
        "2df24d2b86fc41208770df8a548810c5": {
          "model_module": "@jupyter-widgets/base",
          "model_name": "LayoutModel",
          "model_module_version": "1.2.0",
          "state": {
            "_view_name": "LayoutView",
            "grid_template_rows": null,
            "right": null,
            "justify_content": null,
            "_view_module": "@jupyter-widgets/base",
            "overflow": null,
            "_model_module_version": "1.2.0",
            "_view_count": null,
            "flex_flow": null,
            "width": "20px",
            "min_width": null,
            "border": null,
            "align_items": null,
            "bottom": null,
            "_model_module": "@jupyter-widgets/base",
            "top": null,
            "grid_column": null,
            "overflow_y": null,
            "overflow_x": null,
            "grid_auto_flow": null,
            "grid_area": null,
            "grid_template_columns": null,
            "flex": null,
            "_model_name": "LayoutModel",
            "justify_items": null,
            "grid_row": null,
            "max_height": null,
            "align_content": null,
            "visibility": null,
            "align_self": null,
            "height": null,
            "min_height": null,
            "padding": null,
            "grid_auto_rows": null,
            "grid_gap": null,
            "max_width": null,
            "order": null,
            "_view_module_version": "1.2.0",
            "grid_template_areas": null,
            "object_position": null,
            "object_fit": null,
            "grid_auto_columns": null,
            "margin": null,
            "display": null,
            "left": null
          }
        },
        "f5492c54af384c22a300c157097e388e": {
          "model_module": "@jupyter-widgets/controls",
          "model_name": "DescriptionStyleModel",
          "model_module_version": "1.5.0",
          "state": {
            "_view_name": "StyleView",
            "_model_name": "DescriptionStyleModel",
            "description_width": "",
            "_view_module": "@jupyter-widgets/base",
            "_model_module_version": "1.5.0",
            "_view_count": null,
            "_view_module_version": "1.2.0",
            "_model_module": "@jupyter-widgets/controls"
          }
        },
        "099530f44fe34081a43d518985cc45ab": {
          "model_module": "@jupyter-widgets/base",
          "model_name": "LayoutModel",
          "model_module_version": "1.2.0",
          "state": {
            "_view_name": "LayoutView",
            "grid_template_rows": null,
            "right": null,
            "justify_content": null,
            "_view_module": "@jupyter-widgets/base",
            "overflow": null,
            "_model_module_version": "1.2.0",
            "_view_count": null,
            "flex_flow": null,
            "width": null,
            "min_width": null,
            "border": null,
            "align_items": null,
            "bottom": null,
            "_model_module": "@jupyter-widgets/base",
            "top": null,
            "grid_column": null,
            "overflow_y": null,
            "overflow_x": null,
            "grid_auto_flow": null,
            "grid_area": null,
            "grid_template_columns": null,
            "flex": null,
            "_model_name": "LayoutModel",
            "justify_items": null,
            "grid_row": null,
            "max_height": null,
            "align_content": null,
            "visibility": null,
            "align_self": null,
            "height": null,
            "min_height": null,
            "padding": null,
            "grid_auto_rows": null,
            "grid_gap": null,
            "max_width": null,
            "order": null,
            "_view_module_version": "1.2.0",
            "grid_template_areas": null,
            "object_position": null,
            "object_fit": null,
            "grid_auto_columns": null,
            "margin": null,
            "display": null,
            "left": null
          }
        },
        "3c408ad46c1d4b1b8acca0eb3dccf8ff": {
          "model_module": "@jupyter-widgets/controls",
          "model_name": "HBoxModel",
          "model_module_version": "1.5.0",
          "state": {
            "_view_name": "HBoxView",
            "_dom_classes": [],
            "_model_name": "HBoxModel",
            "_view_module": "@jupyter-widgets/controls",
            "_model_module_version": "1.5.0",
            "_view_count": null,
            "_view_module_version": "1.5.0",
            "box_style": "",
            "layout": "IPY_MODEL_fcaedf1433a54e34ae4f0732e52bff1e",
            "_model_module": "@jupyter-widgets/controls",
            "children": [
              "IPY_MODEL_e24c6df3f37348f69b0fb80d70d31931",
              "IPY_MODEL_09f90893420d47448d2bc76e8cb84730",
              "IPY_MODEL_fff3266db12544e78fdb19c778d87a97"
            ]
          }
        },
        "fcaedf1433a54e34ae4f0732e52bff1e": {
          "model_module": "@jupyter-widgets/base",
          "model_name": "LayoutModel",
          "model_module_version": "1.2.0",
          "state": {
            "_view_name": "LayoutView",
            "grid_template_rows": null,
            "right": null,
            "justify_content": null,
            "_view_module": "@jupyter-widgets/base",
            "overflow": null,
            "_model_module_version": "1.2.0",
            "_view_count": null,
            "flex_flow": null,
            "width": null,
            "min_width": null,
            "border": null,
            "align_items": null,
            "bottom": null,
            "_model_module": "@jupyter-widgets/base",
            "top": null,
            "grid_column": null,
            "overflow_y": null,
            "overflow_x": null,
            "grid_auto_flow": null,
            "grid_area": null,
            "grid_template_columns": null,
            "flex": null,
            "_model_name": "LayoutModel",
            "justify_items": null,
            "grid_row": null,
            "max_height": null,
            "align_content": null,
            "visibility": null,
            "align_self": null,
            "height": null,
            "min_height": null,
            "padding": null,
            "grid_auto_rows": null,
            "grid_gap": null,
            "max_width": null,
            "order": null,
            "_view_module_version": "1.2.0",
            "grid_template_areas": null,
            "object_position": null,
            "object_fit": null,
            "grid_auto_columns": null,
            "margin": null,
            "display": null,
            "left": null
          }
        },
        "e24c6df3f37348f69b0fb80d70d31931": {
          "model_module": "@jupyter-widgets/controls",
          "model_name": "HTMLModel",
          "model_module_version": "1.5.0",
          "state": {
            "_view_name": "HTMLView",
            "style": "IPY_MODEL_9234085bb7724cda86f70abca67f3d28",
            "_dom_classes": [],
            "description": "",
            "_model_name": "HTMLModel",
            "placeholder": "​",
            "_view_module": "@jupyter-widgets/controls",
            "_model_module_version": "1.5.0",
            "value": "",
            "_view_count": null,
            "_view_module_version": "1.5.0",
            "description_tooltip": null,
            "_model_module": "@jupyter-widgets/controls",
            "layout": "IPY_MODEL_cf9d9e025c454b078205615e0454b18c"
          }
        },
        "09f90893420d47448d2bc76e8cb84730": {
          "model_module": "@jupyter-widgets/controls",
          "model_name": "FloatProgressModel",
          "model_module_version": "1.5.0",
          "state": {
            "_view_name": "ProgressView",
            "style": "IPY_MODEL_1c870a683f5646f1b462d68ef87b6234",
            "_dom_classes": [],
            "description": "",
            "_model_name": "FloatProgressModel",
            "bar_style": "info",
            "max": 1,
            "_view_module": "@jupyter-widgets/controls",
            "_model_module_version": "1.5.0",
            "value": 1,
            "_view_count": null,
            "_view_module_version": "1.5.0",
            "orientation": "horizontal",
            "min": 0,
            "description_tooltip": null,
            "_model_module": "@jupyter-widgets/controls",
            "layout": "IPY_MODEL_ff795b694d3e42e5a8c358d8f724696c"
          }
        },
        "fff3266db12544e78fdb19c778d87a97": {
          "model_module": "@jupyter-widgets/controls",
          "model_name": "HTMLModel",
          "model_module_version": "1.5.0",
          "state": {
            "_view_name": "HTMLView",
            "style": "IPY_MODEL_d4ed74e08f0f4ed5af230def76a69707",
            "_dom_classes": [],
            "description": "",
            "_model_name": "HTMLModel",
            "placeholder": "​",
            "_view_module": "@jupyter-widgets/controls",
            "_model_module_version": "1.5.0",
            "value": " 49892/0 [00:48&lt;00:00, 1135.69 examples/s]",
            "_view_count": null,
            "_view_module_version": "1.5.0",
            "description_tooltip": null,
            "_model_module": "@jupyter-widgets/controls",
            "layout": "IPY_MODEL_c0048462b78f403f8d7caca484bcf43d"
          }
        },
        "9234085bb7724cda86f70abca67f3d28": {
          "model_module": "@jupyter-widgets/controls",
          "model_name": "DescriptionStyleModel",
          "model_module_version": "1.5.0",
          "state": {
            "_view_name": "StyleView",
            "_model_name": "DescriptionStyleModel",
            "description_width": "",
            "_view_module": "@jupyter-widgets/base",
            "_model_module_version": "1.5.0",
            "_view_count": null,
            "_view_module_version": "1.2.0",
            "_model_module": "@jupyter-widgets/controls"
          }
        },
        "cf9d9e025c454b078205615e0454b18c": {
          "model_module": "@jupyter-widgets/base",
          "model_name": "LayoutModel",
          "model_module_version": "1.2.0",
          "state": {
            "_view_name": "LayoutView",
            "grid_template_rows": null,
            "right": null,
            "justify_content": null,
            "_view_module": "@jupyter-widgets/base",
            "overflow": null,
            "_model_module_version": "1.2.0",
            "_view_count": null,
            "flex_flow": null,
            "width": null,
            "min_width": null,
            "border": null,
            "align_items": null,
            "bottom": null,
            "_model_module": "@jupyter-widgets/base",
            "top": null,
            "grid_column": null,
            "overflow_y": null,
            "overflow_x": null,
            "grid_auto_flow": null,
            "grid_area": null,
            "grid_template_columns": null,
            "flex": null,
            "_model_name": "LayoutModel",
            "justify_items": null,
            "grid_row": null,
            "max_height": null,
            "align_content": null,
            "visibility": null,
            "align_self": null,
            "height": null,
            "min_height": null,
            "padding": null,
            "grid_auto_rows": null,
            "grid_gap": null,
            "max_width": null,
            "order": null,
            "_view_module_version": "1.2.0",
            "grid_template_areas": null,
            "object_position": null,
            "object_fit": null,
            "grid_auto_columns": null,
            "margin": null,
            "display": null,
            "left": null
          }
        },
        "1c870a683f5646f1b462d68ef87b6234": {
          "model_module": "@jupyter-widgets/controls",
          "model_name": "ProgressStyleModel",
          "model_module_version": "1.5.0",
          "state": {
            "_view_name": "StyleView",
            "_model_name": "ProgressStyleModel",
            "description_width": "",
            "_view_module": "@jupyter-widgets/base",
            "_model_module_version": "1.5.0",
            "_view_count": null,
            "_view_module_version": "1.2.0",
            "bar_color": null,
            "_model_module": "@jupyter-widgets/controls"
          }
        },
        "ff795b694d3e42e5a8c358d8f724696c": {
          "model_module": "@jupyter-widgets/base",
          "model_name": "LayoutModel",
          "model_module_version": "1.2.0",
          "state": {
            "_view_name": "LayoutView",
            "grid_template_rows": null,
            "right": null,
            "justify_content": null,
            "_view_module": "@jupyter-widgets/base",
            "overflow": null,
            "_model_module_version": "1.2.0",
            "_view_count": null,
            "flex_flow": null,
            "width": "20px",
            "min_width": null,
            "border": null,
            "align_items": null,
            "bottom": null,
            "_model_module": "@jupyter-widgets/base",
            "top": null,
            "grid_column": null,
            "overflow_y": null,
            "overflow_x": null,
            "grid_auto_flow": null,
            "grid_area": null,
            "grid_template_columns": null,
            "flex": null,
            "_model_name": "LayoutModel",
            "justify_items": null,
            "grid_row": null,
            "max_height": null,
            "align_content": null,
            "visibility": null,
            "align_self": null,
            "height": null,
            "min_height": null,
            "padding": null,
            "grid_auto_rows": null,
            "grid_gap": null,
            "max_width": null,
            "order": null,
            "_view_module_version": "1.2.0",
            "grid_template_areas": null,
            "object_position": null,
            "object_fit": null,
            "grid_auto_columns": null,
            "margin": null,
            "display": null,
            "left": null
          }
        },
        "d4ed74e08f0f4ed5af230def76a69707": {
          "model_module": "@jupyter-widgets/controls",
          "model_name": "DescriptionStyleModel",
          "model_module_version": "1.5.0",
          "state": {
            "_view_name": "StyleView",
            "_model_name": "DescriptionStyleModel",
            "description_width": "",
            "_view_module": "@jupyter-widgets/base",
            "_model_module_version": "1.5.0",
            "_view_count": null,
            "_view_module_version": "1.2.0",
            "_model_module": "@jupyter-widgets/controls"
          }
        },
        "c0048462b78f403f8d7caca484bcf43d": {
          "model_module": "@jupyter-widgets/base",
          "model_name": "LayoutModel",
          "model_module_version": "1.2.0",
          "state": {
            "_view_name": "LayoutView",
            "grid_template_rows": null,
            "right": null,
            "justify_content": null,
            "_view_module": "@jupyter-widgets/base",
            "overflow": null,
            "_model_module_version": "1.2.0",
            "_view_count": null,
            "flex_flow": null,
            "width": null,
            "min_width": null,
            "border": null,
            "align_items": null,
            "bottom": null,
            "_model_module": "@jupyter-widgets/base",
            "top": null,
            "grid_column": null,
            "overflow_y": null,
            "overflow_x": null,
            "grid_auto_flow": null,
            "grid_area": null,
            "grid_template_columns": null,
            "flex": null,
            "_model_name": "LayoutModel",
            "justify_items": null,
            "grid_row": null,
            "max_height": null,
            "align_content": null,
            "visibility": null,
            "align_self": null,
            "height": null,
            "min_height": null,
            "padding": null,
            "grid_auto_rows": null,
            "grid_gap": null,
            "max_width": null,
            "order": null,
            "_view_module_version": "1.2.0",
            "grid_template_areas": null,
            "object_position": null,
            "object_fit": null,
            "grid_auto_columns": null,
            "margin": null,
            "display": null,
            "left": null
          }
        },
        "77edb79875c044f4863e522a89502f87": {
          "model_module": "@jupyter-widgets/controls",
          "model_name": "HBoxModel",
          "model_module_version": "1.5.0",
          "state": {
            "_view_name": "HBoxView",
            "_dom_classes": [],
            "_model_name": "HBoxModel",
            "_view_module": "@jupyter-widgets/controls",
            "_model_module_version": "1.5.0",
            "_view_count": null,
            "_view_module_version": "1.5.0",
            "box_style": "",
            "layout": "IPY_MODEL_cb7951a36c554cf8ac9648537ad1f870",
            "_model_module": "@jupyter-widgets/controls",
            "children": [
              "IPY_MODEL_270a99175e6345bf9a4fd0803b5acfa1",
              "IPY_MODEL_16fbd9e1ff6943b9b452faf2e9126119",
              "IPY_MODEL_bfcc6e6e1d474c0aa2fa9b1535fdb568"
            ]
          }
        },
        "cb7951a36c554cf8ac9648537ad1f870": {
          "model_module": "@jupyter-widgets/base",
          "model_name": "LayoutModel",
          "model_module_version": "1.2.0",
          "state": {
            "_view_name": "LayoutView",
            "grid_template_rows": null,
            "right": null,
            "justify_content": null,
            "_view_module": "@jupyter-widgets/base",
            "overflow": null,
            "_model_module_version": "1.2.0",
            "_view_count": null,
            "flex_flow": null,
            "width": null,
            "min_width": null,
            "border": null,
            "align_items": null,
            "bottom": null,
            "_model_module": "@jupyter-widgets/base",
            "top": null,
            "grid_column": null,
            "overflow_y": null,
            "overflow_x": null,
            "grid_auto_flow": null,
            "grid_area": null,
            "grid_template_columns": null,
            "flex": null,
            "_model_name": "LayoutModel",
            "justify_items": null,
            "grid_row": null,
            "max_height": null,
            "align_content": null,
            "visibility": null,
            "align_self": null,
            "height": null,
            "min_height": null,
            "padding": null,
            "grid_auto_rows": null,
            "grid_gap": null,
            "max_width": null,
            "order": null,
            "_view_module_version": "1.2.0",
            "grid_template_areas": null,
            "object_position": null,
            "object_fit": null,
            "grid_auto_columns": null,
            "margin": null,
            "display": null,
            "left": null
          }
        },
        "270a99175e6345bf9a4fd0803b5acfa1": {
          "model_module": "@jupyter-widgets/controls",
          "model_name": "HTMLModel",
          "model_module_version": "1.5.0",
          "state": {
            "_view_name": "HTMLView",
            "style": "IPY_MODEL_a6c6e88592954c4894c329af4cbf2d1c",
            "_dom_classes": [],
            "description": "",
            "_model_name": "HTMLModel",
            "placeholder": "​",
            "_view_module": "@jupyter-widgets/controls",
            "_model_module_version": "1.5.0",
            "value": "100%",
            "_view_count": null,
            "_view_module_version": "1.5.0",
            "description_tooltip": null,
            "_model_module": "@jupyter-widgets/controls",
            "layout": "IPY_MODEL_57946fe685a349f0ae25406b162f6a19"
          }
        },
        "16fbd9e1ff6943b9b452faf2e9126119": {
          "model_module": "@jupyter-widgets/controls",
          "model_name": "FloatProgressModel",
          "model_module_version": "1.5.0",
          "state": {
            "_view_name": "ProgressView",
            "style": "IPY_MODEL_032c740907a341b2a7beeff39a520a1c",
            "_dom_classes": [],
            "description": "",
            "_model_name": "FloatProgressModel",
            "bar_style": "danger",
            "max": 50000,
            "_view_module": "@jupyter-widgets/controls",
            "_model_module_version": "1.5.0",
            "value": 49999,
            "_view_count": null,
            "_view_module_version": "1.5.0",
            "orientation": "horizontal",
            "min": 0,
            "description_tooltip": null,
            "_model_module": "@jupyter-widgets/controls",
            "layout": "IPY_MODEL_a4645a5d8ab946648feb3f0deeaf0134"
          }
        },
        "bfcc6e6e1d474c0aa2fa9b1535fdb568": {
          "model_module": "@jupyter-widgets/controls",
          "model_name": "HTMLModel",
          "model_module_version": "1.5.0",
          "state": {
            "_view_name": "HTMLView",
            "style": "IPY_MODEL_01e1ef8eb56e4595922170f6c7adf6b9",
            "_dom_classes": [],
            "description": "",
            "_model_name": "HTMLModel",
            "placeholder": "​",
            "_view_module": "@jupyter-widgets/controls",
            "_model_module_version": "1.5.0",
            "value": " 49999/50000 [00:00&lt;00:00, 160681.68 examples/s]",
            "_view_count": null,
            "_view_module_version": "1.5.0",
            "description_tooltip": null,
            "_model_module": "@jupyter-widgets/controls",
            "layout": "IPY_MODEL_0838baf76c1f44a5bee5edf449990867"
          }
        },
        "a6c6e88592954c4894c329af4cbf2d1c": {
          "model_module": "@jupyter-widgets/controls",
          "model_name": "DescriptionStyleModel",
          "model_module_version": "1.5.0",
          "state": {
            "_view_name": "StyleView",
            "_model_name": "DescriptionStyleModel",
            "description_width": "",
            "_view_module": "@jupyter-widgets/base",
            "_model_module_version": "1.5.0",
            "_view_count": null,
            "_view_module_version": "1.2.0",
            "_model_module": "@jupyter-widgets/controls"
          }
        },
        "57946fe685a349f0ae25406b162f6a19": {
          "model_module": "@jupyter-widgets/base",
          "model_name": "LayoutModel",
          "model_module_version": "1.2.0",
          "state": {
            "_view_name": "LayoutView",
            "grid_template_rows": null,
            "right": null,
            "justify_content": null,
            "_view_module": "@jupyter-widgets/base",
            "overflow": null,
            "_model_module_version": "1.2.0",
            "_view_count": null,
            "flex_flow": null,
            "width": null,
            "min_width": null,
            "border": null,
            "align_items": null,
            "bottom": null,
            "_model_module": "@jupyter-widgets/base",
            "top": null,
            "grid_column": null,
            "overflow_y": null,
            "overflow_x": null,
            "grid_auto_flow": null,
            "grid_area": null,
            "grid_template_columns": null,
            "flex": null,
            "_model_name": "LayoutModel",
            "justify_items": null,
            "grid_row": null,
            "max_height": null,
            "align_content": null,
            "visibility": null,
            "align_self": null,
            "height": null,
            "min_height": null,
            "padding": null,
            "grid_auto_rows": null,
            "grid_gap": null,
            "max_width": null,
            "order": null,
            "_view_module_version": "1.2.0",
            "grid_template_areas": null,
            "object_position": null,
            "object_fit": null,
            "grid_auto_columns": null,
            "margin": null,
            "display": null,
            "left": null
          }
        },
        "032c740907a341b2a7beeff39a520a1c": {
          "model_module": "@jupyter-widgets/controls",
          "model_name": "ProgressStyleModel",
          "model_module_version": "1.5.0",
          "state": {
            "_view_name": "StyleView",
            "_model_name": "ProgressStyleModel",
            "description_width": "",
            "_view_module": "@jupyter-widgets/base",
            "_model_module_version": "1.5.0",
            "_view_count": null,
            "_view_module_version": "1.2.0",
            "bar_color": null,
            "_model_module": "@jupyter-widgets/controls"
          }
        },
        "a4645a5d8ab946648feb3f0deeaf0134": {
          "model_module": "@jupyter-widgets/base",
          "model_name": "LayoutModel",
          "model_module_version": "1.2.0",
          "state": {
            "_view_name": "LayoutView",
            "grid_template_rows": null,
            "right": null,
            "justify_content": null,
            "_view_module": "@jupyter-widgets/base",
            "overflow": null,
            "_model_module_version": "1.2.0",
            "_view_count": null,
            "flex_flow": null,
            "width": null,
            "min_width": null,
            "border": null,
            "align_items": null,
            "bottom": null,
            "_model_module": "@jupyter-widgets/base",
            "top": null,
            "grid_column": null,
            "overflow_y": null,
            "overflow_x": null,
            "grid_auto_flow": null,
            "grid_area": null,
            "grid_template_columns": null,
            "flex": null,
            "_model_name": "LayoutModel",
            "justify_items": null,
            "grid_row": null,
            "max_height": null,
            "align_content": null,
            "visibility": null,
            "align_self": null,
            "height": null,
            "min_height": null,
            "padding": null,
            "grid_auto_rows": null,
            "grid_gap": null,
            "max_width": null,
            "order": null,
            "_view_module_version": "1.2.0",
            "grid_template_areas": null,
            "object_position": null,
            "object_fit": null,
            "grid_auto_columns": null,
            "margin": null,
            "display": null,
            "left": null
          }
        },
        "01e1ef8eb56e4595922170f6c7adf6b9": {
          "model_module": "@jupyter-widgets/controls",
          "model_name": "DescriptionStyleModel",
          "model_module_version": "1.5.0",
          "state": {
            "_view_name": "StyleView",
            "_model_name": "DescriptionStyleModel",
            "description_width": "",
            "_view_module": "@jupyter-widgets/base",
            "_model_module_version": "1.5.0",
            "_view_count": null,
            "_view_module_version": "1.2.0",
            "_model_module": "@jupyter-widgets/controls"
          }
        },
        "0838baf76c1f44a5bee5edf449990867": {
          "model_module": "@jupyter-widgets/base",
          "model_name": "LayoutModel",
          "model_module_version": "1.2.0",
          "state": {
            "_view_name": "LayoutView",
            "grid_template_rows": null,
            "right": null,
            "justify_content": null,
            "_view_module": "@jupyter-widgets/base",
            "overflow": null,
            "_model_module_version": "1.2.0",
            "_view_count": null,
            "flex_flow": null,
            "width": null,
            "min_width": null,
            "border": null,
            "align_items": null,
            "bottom": null,
            "_model_module": "@jupyter-widgets/base",
            "top": null,
            "grid_column": null,
            "overflow_y": null,
            "overflow_x": null,
            "grid_auto_flow": null,
            "grid_area": null,
            "grid_template_columns": null,
            "flex": null,
            "_model_name": "LayoutModel",
            "justify_items": null,
            "grid_row": null,
            "max_height": null,
            "align_content": null,
            "visibility": null,
            "align_self": null,
            "height": null,
            "min_height": null,
            "padding": null,
            "grid_auto_rows": null,
            "grid_gap": null,
            "max_width": null,
            "order": null,
            "_view_module_version": "1.2.0",
            "grid_template_areas": null,
            "object_position": null,
            "object_fit": null,
            "grid_auto_columns": null,
            "margin": null,
            "display": null,
            "left": null
          }
        },
        "4ec8639a244549fcb509a6251fd27bc4": {
          "model_module": "@jupyter-widgets/controls",
          "model_name": "HBoxModel",
          "model_module_version": "1.5.0",
          "state": {
            "_view_name": "HBoxView",
            "_dom_classes": [],
            "_model_name": "HBoxModel",
            "_view_module": "@jupyter-widgets/controls",
            "_model_module_version": "1.5.0",
            "_view_count": null,
            "_view_module_version": "1.5.0",
            "box_style": "",
            "layout": "IPY_MODEL_dba8fc16a82c46b092023dd63a6781d6",
            "_model_module": "@jupyter-widgets/controls",
            "children": [
              "IPY_MODEL_0976c1d734274a9bb576f5d2a1a20350",
              "IPY_MODEL_e269cca601e342c5ad0f36a8dcebaa9d",
              "IPY_MODEL_8a305d127cf3481895be898c463d99ad"
            ]
          }
        },
        "dba8fc16a82c46b092023dd63a6781d6": {
          "model_module": "@jupyter-widgets/base",
          "model_name": "LayoutModel",
          "model_module_version": "1.2.0",
          "state": {
            "_view_name": "LayoutView",
            "grid_template_rows": null,
            "right": null,
            "justify_content": null,
            "_view_module": "@jupyter-widgets/base",
            "overflow": null,
            "_model_module_version": "1.2.0",
            "_view_count": null,
            "flex_flow": null,
            "width": null,
            "min_width": null,
            "border": null,
            "align_items": null,
            "bottom": null,
            "_model_module": "@jupyter-widgets/base",
            "top": null,
            "grid_column": null,
            "overflow_y": null,
            "overflow_x": null,
            "grid_auto_flow": null,
            "grid_area": null,
            "grid_template_columns": null,
            "flex": null,
            "_model_name": "LayoutModel",
            "justify_items": null,
            "grid_row": null,
            "max_height": null,
            "align_content": null,
            "visibility": null,
            "align_self": null,
            "height": null,
            "min_height": null,
            "padding": null,
            "grid_auto_rows": null,
            "grid_gap": null,
            "max_width": null,
            "order": null,
            "_view_module_version": "1.2.0",
            "grid_template_areas": null,
            "object_position": null,
            "object_fit": null,
            "grid_auto_columns": null,
            "margin": null,
            "display": null,
            "left": null
          }
        },
        "0976c1d734274a9bb576f5d2a1a20350": {
          "model_module": "@jupyter-widgets/controls",
          "model_name": "HTMLModel",
          "model_module_version": "1.5.0",
          "state": {
            "_view_name": "HTMLView",
            "style": "IPY_MODEL_c32cbe07a2a64e9d83d7899670275c08",
            "_dom_classes": [],
            "description": "",
            "_model_name": "HTMLModel",
            "placeholder": "​",
            "_view_module": "@jupyter-widgets/controls",
            "_model_module_version": "1.5.0",
            "value": "",
            "_view_count": null,
            "_view_module_version": "1.5.0",
            "description_tooltip": null,
            "_model_module": "@jupyter-widgets/controls",
            "layout": "IPY_MODEL_50e51e4bd08a444d9bade34ee0550daa"
          }
        },
        "e269cca601e342c5ad0f36a8dcebaa9d": {
          "model_module": "@jupyter-widgets/controls",
          "model_name": "FloatProgressModel",
          "model_module_version": "1.5.0",
          "state": {
            "_view_name": "ProgressView",
            "style": "IPY_MODEL_6852a66a5032426abb29bccf63dea6c7",
            "_dom_classes": [],
            "description": "",
            "_model_name": "FloatProgressModel",
            "bar_style": "info",
            "max": 1,
            "_view_module": "@jupyter-widgets/controls",
            "_model_module_version": "1.5.0",
            "value": 1,
            "_view_count": null,
            "_view_module_version": "1.5.0",
            "orientation": "horizontal",
            "min": 0,
            "description_tooltip": null,
            "_model_module": "@jupyter-widgets/controls",
            "layout": "IPY_MODEL_4c04e7fdf9814512bce5d0cd77cba7a1"
          }
        },
        "8a305d127cf3481895be898c463d99ad": {
          "model_module": "@jupyter-widgets/controls",
          "model_name": "HTMLModel",
          "model_module_version": "1.5.0",
          "state": {
            "_view_name": "HTMLView",
            "style": "IPY_MODEL_60cba7861c9540b49e7c1db8b89d6c1c",
            "_dom_classes": [],
            "description": "",
            "_model_name": "HTMLModel",
            "placeholder": "​",
            "_view_module": "@jupyter-widgets/controls",
            "_model_module_version": "1.5.0",
            "value": " 9903/0 [00:09&lt;00:00, 1074.15 examples/s]",
            "_view_count": null,
            "_view_module_version": "1.5.0",
            "description_tooltip": null,
            "_model_module": "@jupyter-widgets/controls",
            "layout": "IPY_MODEL_42bb922c68b346fb9c848090c68a9dee"
          }
        },
        "c32cbe07a2a64e9d83d7899670275c08": {
          "model_module": "@jupyter-widgets/controls",
          "model_name": "DescriptionStyleModel",
          "model_module_version": "1.5.0",
          "state": {
            "_view_name": "StyleView",
            "_model_name": "DescriptionStyleModel",
            "description_width": "",
            "_view_module": "@jupyter-widgets/base",
            "_model_module_version": "1.5.0",
            "_view_count": null,
            "_view_module_version": "1.2.0",
            "_model_module": "@jupyter-widgets/controls"
          }
        },
        "50e51e4bd08a444d9bade34ee0550daa": {
          "model_module": "@jupyter-widgets/base",
          "model_name": "LayoutModel",
          "model_module_version": "1.2.0",
          "state": {
            "_view_name": "LayoutView",
            "grid_template_rows": null,
            "right": null,
            "justify_content": null,
            "_view_module": "@jupyter-widgets/base",
            "overflow": null,
            "_model_module_version": "1.2.0",
            "_view_count": null,
            "flex_flow": null,
            "width": null,
            "min_width": null,
            "border": null,
            "align_items": null,
            "bottom": null,
            "_model_module": "@jupyter-widgets/base",
            "top": null,
            "grid_column": null,
            "overflow_y": null,
            "overflow_x": null,
            "grid_auto_flow": null,
            "grid_area": null,
            "grid_template_columns": null,
            "flex": null,
            "_model_name": "LayoutModel",
            "justify_items": null,
            "grid_row": null,
            "max_height": null,
            "align_content": null,
            "visibility": null,
            "align_self": null,
            "height": null,
            "min_height": null,
            "padding": null,
            "grid_auto_rows": null,
            "grid_gap": null,
            "max_width": null,
            "order": null,
            "_view_module_version": "1.2.0",
            "grid_template_areas": null,
            "object_position": null,
            "object_fit": null,
            "grid_auto_columns": null,
            "margin": null,
            "display": null,
            "left": null
          }
        },
        "6852a66a5032426abb29bccf63dea6c7": {
          "model_module": "@jupyter-widgets/controls",
          "model_name": "ProgressStyleModel",
          "model_module_version": "1.5.0",
          "state": {
            "_view_name": "StyleView",
            "_model_name": "ProgressStyleModel",
            "description_width": "",
            "_view_module": "@jupyter-widgets/base",
            "_model_module_version": "1.5.0",
            "_view_count": null,
            "_view_module_version": "1.2.0",
            "bar_color": null,
            "_model_module": "@jupyter-widgets/controls"
          }
        },
        "4c04e7fdf9814512bce5d0cd77cba7a1": {
          "model_module": "@jupyter-widgets/base",
          "model_name": "LayoutModel",
          "model_module_version": "1.2.0",
          "state": {
            "_view_name": "LayoutView",
            "grid_template_rows": null,
            "right": null,
            "justify_content": null,
            "_view_module": "@jupyter-widgets/base",
            "overflow": null,
            "_model_module_version": "1.2.0",
            "_view_count": null,
            "flex_flow": null,
            "width": "20px",
            "min_width": null,
            "border": null,
            "align_items": null,
            "bottom": null,
            "_model_module": "@jupyter-widgets/base",
            "top": null,
            "grid_column": null,
            "overflow_y": null,
            "overflow_x": null,
            "grid_auto_flow": null,
            "grid_area": null,
            "grid_template_columns": null,
            "flex": null,
            "_model_name": "LayoutModel",
            "justify_items": null,
            "grid_row": null,
            "max_height": null,
            "align_content": null,
            "visibility": null,
            "align_self": null,
            "height": null,
            "min_height": null,
            "padding": null,
            "grid_auto_rows": null,
            "grid_gap": null,
            "max_width": null,
            "order": null,
            "_view_module_version": "1.2.0",
            "grid_template_areas": null,
            "object_position": null,
            "object_fit": null,
            "grid_auto_columns": null,
            "margin": null,
            "display": null,
            "left": null
          }
        },
        "60cba7861c9540b49e7c1db8b89d6c1c": {
          "model_module": "@jupyter-widgets/controls",
          "model_name": "DescriptionStyleModel",
          "model_module_version": "1.5.0",
          "state": {
            "_view_name": "StyleView",
            "_model_name": "DescriptionStyleModel",
            "description_width": "",
            "_view_module": "@jupyter-widgets/base",
            "_model_module_version": "1.5.0",
            "_view_count": null,
            "_view_module_version": "1.2.0",
            "_model_module": "@jupyter-widgets/controls"
          }
        },
        "42bb922c68b346fb9c848090c68a9dee": {
          "model_module": "@jupyter-widgets/base",
          "model_name": "LayoutModel",
          "model_module_version": "1.2.0",
          "state": {
            "_view_name": "LayoutView",
            "grid_template_rows": null,
            "right": null,
            "justify_content": null,
            "_view_module": "@jupyter-widgets/base",
            "overflow": null,
            "_model_module_version": "1.2.0",
            "_view_count": null,
            "flex_flow": null,
            "width": null,
            "min_width": null,
            "border": null,
            "align_items": null,
            "bottom": null,
            "_model_module": "@jupyter-widgets/base",
            "top": null,
            "grid_column": null,
            "overflow_y": null,
            "overflow_x": null,
            "grid_auto_flow": null,
            "grid_area": null,
            "grid_template_columns": null,
            "flex": null,
            "_model_name": "LayoutModel",
            "justify_items": null,
            "grid_row": null,
            "max_height": null,
            "align_content": null,
            "visibility": null,
            "align_self": null,
            "height": null,
            "min_height": null,
            "padding": null,
            "grid_auto_rows": null,
            "grid_gap": null,
            "max_width": null,
            "order": null,
            "_view_module_version": "1.2.0",
            "grid_template_areas": null,
            "object_position": null,
            "object_fit": null,
            "grid_auto_columns": null,
            "margin": null,
            "display": null,
            "left": null
          }
        },
        "0babaad3ef9a474686b11d2fce583349": {
          "model_module": "@jupyter-widgets/controls",
          "model_name": "HBoxModel",
          "model_module_version": "1.5.0",
          "state": {
            "_view_name": "HBoxView",
            "_dom_classes": [],
            "_model_name": "HBoxModel",
            "_view_module": "@jupyter-widgets/controls",
            "_model_module_version": "1.5.0",
            "_view_count": null,
            "_view_module_version": "1.5.0",
            "box_style": "",
            "layout": "IPY_MODEL_a290d78a28b94252b473654afbfb429e",
            "_model_module": "@jupyter-widgets/controls",
            "children": [
              "IPY_MODEL_aee2feffabc94b3f926d1353a821ef57",
              "IPY_MODEL_4f9a986be6ba4a939200ea41dcb440c8",
              "IPY_MODEL_d11884af601c455786efb3b16eaee117"
            ]
          }
        },
        "a290d78a28b94252b473654afbfb429e": {
          "model_module": "@jupyter-widgets/base",
          "model_name": "LayoutModel",
          "model_module_version": "1.2.0",
          "state": {
            "_view_name": "LayoutView",
            "grid_template_rows": null,
            "right": null,
            "justify_content": null,
            "_view_module": "@jupyter-widgets/base",
            "overflow": null,
            "_model_module_version": "1.2.0",
            "_view_count": null,
            "flex_flow": null,
            "width": null,
            "min_width": null,
            "border": null,
            "align_items": null,
            "bottom": null,
            "_model_module": "@jupyter-widgets/base",
            "top": null,
            "grid_column": null,
            "overflow_y": null,
            "overflow_x": null,
            "grid_auto_flow": null,
            "grid_area": null,
            "grid_template_columns": null,
            "flex": null,
            "_model_name": "LayoutModel",
            "justify_items": null,
            "grid_row": null,
            "max_height": null,
            "align_content": null,
            "visibility": null,
            "align_self": null,
            "height": null,
            "min_height": null,
            "padding": null,
            "grid_auto_rows": null,
            "grid_gap": null,
            "max_width": null,
            "order": null,
            "_view_module_version": "1.2.0",
            "grid_template_areas": null,
            "object_position": null,
            "object_fit": null,
            "grid_auto_columns": null,
            "margin": null,
            "display": null,
            "left": null
          }
        },
        "aee2feffabc94b3f926d1353a821ef57": {
          "model_module": "@jupyter-widgets/controls",
          "model_name": "HTMLModel",
          "model_module_version": "1.5.0",
          "state": {
            "_view_name": "HTMLView",
            "style": "IPY_MODEL_38a47ae85b8542c181882c67248a3438",
            "_dom_classes": [],
            "description": "",
            "_model_name": "HTMLModel",
            "placeholder": "​",
            "_view_module": "@jupyter-widgets/controls",
            "_model_module_version": "1.5.0",
            "value": "100%",
            "_view_count": null,
            "_view_module_version": "1.5.0",
            "description_tooltip": null,
            "_model_module": "@jupyter-widgets/controls",
            "layout": "IPY_MODEL_81240cb44a584656a5320dd448080fb0"
          }
        },
        "4f9a986be6ba4a939200ea41dcb440c8": {
          "model_module": "@jupyter-widgets/controls",
          "model_name": "FloatProgressModel",
          "model_module_version": "1.5.0",
          "state": {
            "_view_name": "ProgressView",
            "style": "IPY_MODEL_245185a72b6c49878be959c004805cd6",
            "_dom_classes": [],
            "description": "",
            "_model_name": "FloatProgressModel",
            "bar_style": "danger",
            "max": 10000,
            "_view_module": "@jupyter-widgets/controls",
            "_model_module_version": "1.5.0",
            "value": 9999,
            "_view_count": null,
            "_view_module_version": "1.5.0",
            "orientation": "horizontal",
            "min": 0,
            "description_tooltip": null,
            "_model_module": "@jupyter-widgets/controls",
            "layout": "IPY_MODEL_135dde8e5e3b4c42a9e921467b17e6f4"
          }
        },
        "d11884af601c455786efb3b16eaee117": {
          "model_module": "@jupyter-widgets/controls",
          "model_name": "HTMLModel",
          "model_module_version": "1.5.0",
          "state": {
            "_view_name": "HTMLView",
            "style": "IPY_MODEL_9db14f7709b54501ac055eddf3ca1d09",
            "_dom_classes": [],
            "description": "",
            "_model_name": "HTMLModel",
            "placeholder": "​",
            "_view_module": "@jupyter-widgets/controls",
            "_model_module_version": "1.5.0",
            "value": " 9999/10000 [00:00&lt;00:00, 98097.70 examples/s]",
            "_view_count": null,
            "_view_module_version": "1.5.0",
            "description_tooltip": null,
            "_model_module": "@jupyter-widgets/controls",
            "layout": "IPY_MODEL_8e5d6b144a444e0ab14cb918cf019cd0"
          }
        },
        "38a47ae85b8542c181882c67248a3438": {
          "model_module": "@jupyter-widgets/controls",
          "model_name": "DescriptionStyleModel",
          "model_module_version": "1.5.0",
          "state": {
            "_view_name": "StyleView",
            "_model_name": "DescriptionStyleModel",
            "description_width": "",
            "_view_module": "@jupyter-widgets/base",
            "_model_module_version": "1.5.0",
            "_view_count": null,
            "_view_module_version": "1.2.0",
            "_model_module": "@jupyter-widgets/controls"
          }
        },
        "81240cb44a584656a5320dd448080fb0": {
          "model_module": "@jupyter-widgets/base",
          "model_name": "LayoutModel",
          "model_module_version": "1.2.0",
          "state": {
            "_view_name": "LayoutView",
            "grid_template_rows": null,
            "right": null,
            "justify_content": null,
            "_view_module": "@jupyter-widgets/base",
            "overflow": null,
            "_model_module_version": "1.2.0",
            "_view_count": null,
            "flex_flow": null,
            "width": null,
            "min_width": null,
            "border": null,
            "align_items": null,
            "bottom": null,
            "_model_module": "@jupyter-widgets/base",
            "top": null,
            "grid_column": null,
            "overflow_y": null,
            "overflow_x": null,
            "grid_auto_flow": null,
            "grid_area": null,
            "grid_template_columns": null,
            "flex": null,
            "_model_name": "LayoutModel",
            "justify_items": null,
            "grid_row": null,
            "max_height": null,
            "align_content": null,
            "visibility": null,
            "align_self": null,
            "height": null,
            "min_height": null,
            "padding": null,
            "grid_auto_rows": null,
            "grid_gap": null,
            "max_width": null,
            "order": null,
            "_view_module_version": "1.2.0",
            "grid_template_areas": null,
            "object_position": null,
            "object_fit": null,
            "grid_auto_columns": null,
            "margin": null,
            "display": null,
            "left": null
          }
        },
        "245185a72b6c49878be959c004805cd6": {
          "model_module": "@jupyter-widgets/controls",
          "model_name": "ProgressStyleModel",
          "model_module_version": "1.5.0",
          "state": {
            "_view_name": "StyleView",
            "_model_name": "ProgressStyleModel",
            "description_width": "",
            "_view_module": "@jupyter-widgets/base",
            "_model_module_version": "1.5.0",
            "_view_count": null,
            "_view_module_version": "1.2.0",
            "bar_color": null,
            "_model_module": "@jupyter-widgets/controls"
          }
        },
        "135dde8e5e3b4c42a9e921467b17e6f4": {
          "model_module": "@jupyter-widgets/base",
          "model_name": "LayoutModel",
          "model_module_version": "1.2.0",
          "state": {
            "_view_name": "LayoutView",
            "grid_template_rows": null,
            "right": null,
            "justify_content": null,
            "_view_module": "@jupyter-widgets/base",
            "overflow": null,
            "_model_module_version": "1.2.0",
            "_view_count": null,
            "flex_flow": null,
            "width": null,
            "min_width": null,
            "border": null,
            "align_items": null,
            "bottom": null,
            "_model_module": "@jupyter-widgets/base",
            "top": null,
            "grid_column": null,
            "overflow_y": null,
            "overflow_x": null,
            "grid_auto_flow": null,
            "grid_area": null,
            "grid_template_columns": null,
            "flex": null,
            "_model_name": "LayoutModel",
            "justify_items": null,
            "grid_row": null,
            "max_height": null,
            "align_content": null,
            "visibility": null,
            "align_self": null,
            "height": null,
            "min_height": null,
            "padding": null,
            "grid_auto_rows": null,
            "grid_gap": null,
            "max_width": null,
            "order": null,
            "_view_module_version": "1.2.0",
            "grid_template_areas": null,
            "object_position": null,
            "object_fit": null,
            "grid_auto_columns": null,
            "margin": null,
            "display": null,
            "left": null
          }
        },
        "9db14f7709b54501ac055eddf3ca1d09": {
          "model_module": "@jupyter-widgets/controls",
          "model_name": "DescriptionStyleModel",
          "model_module_version": "1.5.0",
          "state": {
            "_view_name": "StyleView",
            "_model_name": "DescriptionStyleModel",
            "description_width": "",
            "_view_module": "@jupyter-widgets/base",
            "_model_module_version": "1.5.0",
            "_view_count": null,
            "_view_module_version": "1.2.0",
            "_model_module": "@jupyter-widgets/controls"
          }
        },
        "8e5d6b144a444e0ab14cb918cf019cd0": {
          "model_module": "@jupyter-widgets/base",
          "model_name": "LayoutModel",
          "model_module_version": "1.2.0",
          "state": {
            "_view_name": "LayoutView",
            "grid_template_rows": null,
            "right": null,
            "justify_content": null,
            "_view_module": "@jupyter-widgets/base",
            "overflow": null,
            "_model_module_version": "1.2.0",
            "_view_count": null,
            "flex_flow": null,
            "width": null,
            "min_width": null,
            "border": null,
            "align_items": null,
            "bottom": null,
            "_model_module": "@jupyter-widgets/base",
            "top": null,
            "grid_column": null,
            "overflow_y": null,
            "overflow_x": null,
            "grid_auto_flow": null,
            "grid_area": null,
            "grid_template_columns": null,
            "flex": null,
            "_model_name": "LayoutModel",
            "justify_items": null,
            "grid_row": null,
            "max_height": null,
            "align_content": null,
            "visibility": null,
            "align_self": null,
            "height": null,
            "min_height": null,
            "padding": null,
            "grid_auto_rows": null,
            "grid_gap": null,
            "max_width": null,
            "order": null,
            "_view_module_version": "1.2.0",
            "grid_template_areas": null,
            "object_position": null,
            "object_fit": null,
            "grid_auto_columns": null,
            "margin": null,
            "display": null,
            "left": null
          }
        }
      }
    }
  },
  "cells": [
    {
      "cell_type": "markdown",
      "metadata": {
        "id": "view-in-github",
        "colab_type": "text"
      },
      "source": [
        "<a href=\"https://colab.research.google.com/github/RachelRamirez/CIFAR-10/blob/main/Filter.ipynb\" target=\"_parent\"><img src=\"https://colab.research.google.com/assets/colab-badge.svg\" alt=\"Open In Colab\"/></a>"
      ]
    },
    {
      "cell_type": "markdown",
      "metadata": {
        "id": "clsNM6VmYkbd"
      },
      "source": [
        "# Imports"
      ]
    },
    {
      "cell_type": "code",
      "metadata": {
        "id": "51kUNphD_Vj9"
      },
      "source": [
        "import tensorflow as tf\n",
        "import tensorflow_datasets as tfds\n",
        "import matplotlib.pyplot as plt\n",
        "import numpy as np\n",
        "import pandas as pd\n",
        "import seaborn as sns\n",
        "import copy\n",
        "import os\n",
        "import PIL\n",
        "import PIL.Image\n",
        "from tensorflow import keras \n",
        "from tensorflow.keras import layers\n",
        "from tensorflow.keras.models import Sequential\n",
        "# import keras.utils -- dont do this!! it causes problems, \n",
        "from tensorflow.keras.utils import to_categorical  #do this instead!!\n",
        "import random\n",
        "import sklearn\n",
        "from sklearn.metrics import confusion_matrix\n",
        "from sklearn.metrics import ConfusionMatrixDisplay\n",
        "import time\n",
        "\n",
        "tic = time.time()  # Start the timer\n",
        "initial_run = 0\n"
      ],
      "execution_count": 7,
      "outputs": []
    },
    {
      "cell_type": "markdown",
      "metadata": {
        "id": "bgG2J6U-ZxNf"
      },
      "source": [
        "### Set Random Seeds"
      ]
    },
    {
      "cell_type": "code",
      "metadata": {
        "id": "qOLO1F8rZwdz"
      },
      "source": [
        "##  Random Seed\n",
        "seed = 42\n",
        "random.seed(seed)\n",
        "tf.random.set_seed(seed)\n",
        "## ------------------"
      ],
      "execution_count": 8,
      "outputs": []
    },
    {
      "cell_type": "markdown",
      "metadata": {
        "id": "aznJzlFa0udt"
      },
      "source": [
        "Set Logic-Values\n"
      ]
    },
    {
      "cell_type": "code",
      "metadata": {
        "id": "ZQmptTLF0xyC"
      },
      "source": [
        "run_model = False  #When Im looking at augmentations, I don't want to keep refitting a model, I want to just get the database of images loaded"
      ],
      "execution_count": 9,
      "outputs": []
    },
    {
      "cell_type": "markdown",
      "metadata": {
        "id": "4ODbm50NY1AW"
      },
      "source": [
        "Make Image Datasets"
      ]
    },
    {
      "cell_type": "markdown",
      "metadata": {
        "id": "AuNDxhJEKUoj"
      },
      "source": [
        "One of my biggest learning curves was learning how to load  the dataset with tdfs.load() and then filter on images by label.  \n",
        "\n",
        "The second biggest was using the created model to make predictions on the test set.   \n",
        "\n",
        "Current but \"skipped\" problem is trying to view misclassifeid images of results.\n",
        "\n",
        "\n",
        "Another area of problems is rerunning when you've already specified a batch on your dataset creates another \"batch\" split so it can cause problems to rerun a cell that says how to define a dataset.  Unbatch may be needed first.    "
      ]
    },
    {
      "cell_type": "code",
      "metadata": {
        "id": "nqQHy1cx_ZK_",
        "colab": {
          "base_uri": "https://localhost:8080/",
          "height": 433,
          "referenced_widgets": [
            "eb0349aa86634322a14285a41ec35e67",
            "62a7c3a84d094fd8bc5d61878575e238",
            "1a4e9ddf65a7471fb7078cf213a5868e",
            "2b995d5c15dc48fb84cb5aae3ebf208b",
            "5f97c2209f2c491cb06c2a12a5d2552d",
            "ef0d78c2e3304334950d9dc9f963c5f4",
            "b5c610af62bb40f48b03103322bffc85",
            "5d11678362e74c899e2c60b829d0ef3b",
            "f2b9added67c4aaeaa04c740bdd0f979",
            "91de9b166d4b4695be56cf67ff3a15cf",
            "be4b49fb56fe41fcad2538f3f5658946",
            "0b90b4712ed14a238bbeb92d8db0c7d3",
            "dbd30af721104a9c840c0b4792326a8d",
            "c5b3d3ca21f04aed9ca17e79e02545e1",
            "e847e3358f594fe4ab61d3b371df75f4",
            "54c77269b9f74dd6989b0cd7c78b7983",
            "b2bf4f2283f744acb1526cc804ee2ab1",
            "00c2e6191fbb4125a48b3009d9eafddd",
            "57a3d9b7c14247c2909f47237f8ff754",
            "66710de5d1074c19aa61e127f600fbe9",
            "e42ca25bb70b4840a33285c3059615c9",
            "afd49c98773c4d7897d05ae62ab1dee4",
            "7b01a10cdc01424cab6083276b4f30fa",
            "4329d79f5f3542f3a3f7579f2cb8681b",
            "a70667a44b05452088f14e6141d95ed8",
            "c0903ba658d842c3802198032dc7b6bd",
            "f02e653fa2e04a23a773f9608d412f21",
            "893ad32f07634306becd4f6e6dc76eba",
            "ecd24f42b6a2403f8d62b3e21f0b2669",
            "40fe6b5d8d994996a978f847f484bd96",
            "2df24d2b86fc41208770df8a548810c5",
            "f5492c54af384c22a300c157097e388e",
            "099530f44fe34081a43d518985cc45ab",
            "3c408ad46c1d4b1b8acca0eb3dccf8ff",
            "fcaedf1433a54e34ae4f0732e52bff1e",
            "e24c6df3f37348f69b0fb80d70d31931",
            "09f90893420d47448d2bc76e8cb84730",
            "fff3266db12544e78fdb19c778d87a97",
            "9234085bb7724cda86f70abca67f3d28",
            "cf9d9e025c454b078205615e0454b18c",
            "1c870a683f5646f1b462d68ef87b6234",
            "ff795b694d3e42e5a8c358d8f724696c",
            "d4ed74e08f0f4ed5af230def76a69707",
            "c0048462b78f403f8d7caca484bcf43d",
            "77edb79875c044f4863e522a89502f87",
            "cb7951a36c554cf8ac9648537ad1f870",
            "270a99175e6345bf9a4fd0803b5acfa1",
            "16fbd9e1ff6943b9b452faf2e9126119",
            "bfcc6e6e1d474c0aa2fa9b1535fdb568",
            "a6c6e88592954c4894c329af4cbf2d1c",
            "57946fe685a349f0ae25406b162f6a19",
            "032c740907a341b2a7beeff39a520a1c",
            "a4645a5d8ab946648feb3f0deeaf0134",
            "01e1ef8eb56e4595922170f6c7adf6b9",
            "0838baf76c1f44a5bee5edf449990867",
            "4ec8639a244549fcb509a6251fd27bc4",
            "dba8fc16a82c46b092023dd63a6781d6",
            "0976c1d734274a9bb576f5d2a1a20350",
            "e269cca601e342c5ad0f36a8dcebaa9d",
            "8a305d127cf3481895be898c463d99ad",
            "c32cbe07a2a64e9d83d7899670275c08",
            "50e51e4bd08a444d9bade34ee0550daa",
            "6852a66a5032426abb29bccf63dea6c7",
            "4c04e7fdf9814512bce5d0cd77cba7a1",
            "60cba7861c9540b49e7c1db8b89d6c1c",
            "42bb922c68b346fb9c848090c68a9dee",
            "0babaad3ef9a474686b11d2fce583349",
            "a290d78a28b94252b473654afbfb429e",
            "aee2feffabc94b3f926d1353a821ef57",
            "4f9a986be6ba4a939200ea41dcb440c8",
            "d11884af601c455786efb3b16eaee117",
            "38a47ae85b8542c181882c67248a3438",
            "81240cb44a584656a5320dd448080fb0",
            "245185a72b6c49878be959c004805cd6",
            "135dde8e5e3b4c42a9e921467b17e6f4",
            "9db14f7709b54501ac055eddf3ca1d09",
            "8e5d6b144a444e0ab14cb918cf019cd0"
          ]
        },
        "outputId": "e57d0392-4f03-4b18-b0f3-6e4b5fd2024b"
      },
      "source": [
        "dataset, info = tfds.load('cifar10', as_supervised=True, with_info=True)\n",
        "x_test =  dataset[\"test\"]\n",
        "dataset  = dataset[\"train\"]\n",
        "assert isinstance(x_test, tf.data.Dataset)\n",
        "#x_test = [(example.numpy(), label.numpy()) for example, label in x_test]\n",
        "# once broken into numpy arrays, my model still doesn't handle it, it seems to be expecting a tensor\n",
        "# So i think i have to break it into two tensors?  test_x, test_y?\n",
        "# x_test[0][0]\n",
        "# x_test[0][1]\n",
        "# x_test = pd.DataFrame(x_test, columns=['example', 'label'])\n",
        "# x_test = tf.data.Dataset.from_generator(lambda: x_test, (tf.int64, tf.int16))\n",
        "# x_list = list(x_test.as_numpy_iterator())  # Crashes Google Colab!\n",
        "# print(x_list[:5])\n",
        "\n",
        "\n",
        "# believe I got this from stack-overflow.  Need this code to define y_test, the labels of testset\n",
        "\n",
        "def get_labels_from_tfdataset(tfdataset, batched=False):\n",
        "    labels = list(map(lambda x: x[1], tfdataset)) # Get labels \n",
        "    if not batched:\n",
        "        return tf.concat(labels, axis=0) # concat the list of batched labels\n",
        "    return labels\n",
        "y_test = get_labels_from_tfdataset(x_test)\n",
        "\n",
        "\n",
        "dataset_airplanes   = dataset.filter(lambda img, label: label == 0)\n",
        "dataset_automobiles = dataset.filter(lambda img, label: label == 1)\n",
        "dataset_birds       = dataset.filter(lambda img, label: label == 2)\n",
        "dataset_cats        = dataset.filter(lambda img, label: label == 3)\n",
        "dataset_deers       = dataset.filter(lambda img, label: label == 4)\n",
        "dataset_dogs        = dataset.filter(lambda img, label: label == 5)\n",
        "dataset_frogs       = dataset.filter(lambda img, label: label == 6)\n",
        "dataset_horses      = dataset.filter(lambda img, label: label == 7)\n",
        "dataset_ships       = dataset.filter(lambda img, label: label == 8)\n",
        "dataset_trucks      = dataset.filter(lambda img, label: label == 9)\n",
        "\n",
        "##  Ways to count the number of images in the sets:\n",
        "print(\"There are ways to count and verify the number per training set which i have hidden because they are costly\")\n",
        "print(\"Entire Training Dataset was originally cardinality:\", tf.data.experimental.cardinality(dataset).numpy()) #   prints 50,000, correct\n",
        "print(\"Entire Airplane Training Dataset was originally cardinality:\", tf.data.experimental.cardinality(dataset_airplanes).numpy()) #   prints -2 this is a \"feature\" in tf when a set takes too long to count\n",
        "# print(dataset_airplanes.reduce(np.int64(0), lambda x,_ : x + 1).numpy()) #prints 5000, correct\n",
        "\n",
        "##  This is a way of asserting that all the images have the same label in a set\n",
        "# for img, label in dataset_dogs:\n",
        "#   assert label == 5\n",
        " "
      ],
      "execution_count": 10,
      "outputs": [
        {
          "output_type": "stream",
          "name": "stdout",
          "text": [
            "\u001b[1mDownloading and preparing dataset cifar10/3.0.2 (download: 162.17 MiB, generated: 132.40 MiB, total: 294.58 MiB) to /root/tensorflow_datasets/cifar10/3.0.2...\u001b[0m\n"
          ]
        },
        {
          "output_type": "display_data",
          "data": {
            "application/vnd.jupyter.widget-view+json": {
              "model_id": "eb0349aa86634322a14285a41ec35e67",
              "version_minor": 0,
              "version_major": 2
            },
            "text/plain": [
              "Dl Completed...: 0 url [00:00, ? url/s]"
            ]
          },
          "metadata": {}
        },
        {
          "output_type": "display_data",
          "data": {
            "application/vnd.jupyter.widget-view+json": {
              "model_id": "0b90b4712ed14a238bbeb92d8db0c7d3",
              "version_minor": 0,
              "version_major": 2
            },
            "text/plain": [
              "Dl Size...: 0 MiB [00:00, ? MiB/s]"
            ]
          },
          "metadata": {}
        },
        {
          "output_type": "display_data",
          "data": {
            "application/vnd.jupyter.widget-view+json": {
              "model_id": "7b01a10cdc01424cab6083276b4f30fa",
              "version_minor": 0,
              "version_major": 2
            },
            "text/plain": [
              "Extraction completed...: 0 file [00:00, ? file/s]"
            ]
          },
          "metadata": {}
        },
        {
          "output_type": "stream",
          "name": "stdout",
          "text": [
            "\n",
            "\n",
            "\n"
          ]
        },
        {
          "output_type": "display_data",
          "data": {
            "application/vnd.jupyter.widget-view+json": {
              "model_id": "3c408ad46c1d4b1b8acca0eb3dccf8ff",
              "version_minor": 0,
              "version_major": 2
            },
            "text/plain": [
              "0 examples [00:00, ? examples/s]"
            ]
          },
          "metadata": {}
        },
        {
          "output_type": "stream",
          "name": "stdout",
          "text": [
            "Shuffling and writing examples to /root/tensorflow_datasets/cifar10/3.0.2.incompleteHBRPOI/cifar10-train.tfrecord\n"
          ]
        },
        {
          "output_type": "display_data",
          "data": {
            "application/vnd.jupyter.widget-view+json": {
              "model_id": "77edb79875c044f4863e522a89502f87",
              "version_minor": 0,
              "version_major": 2
            },
            "text/plain": [
              "  0%|          | 0/50000 [00:00<?, ? examples/s]"
            ]
          },
          "metadata": {}
        },
        {
          "output_type": "display_data",
          "data": {
            "application/vnd.jupyter.widget-view+json": {
              "model_id": "4ec8639a244549fcb509a6251fd27bc4",
              "version_minor": 0,
              "version_major": 2
            },
            "text/plain": [
              "0 examples [00:00, ? examples/s]"
            ]
          },
          "metadata": {}
        },
        {
          "output_type": "stream",
          "name": "stdout",
          "text": [
            "Shuffling and writing examples to /root/tensorflow_datasets/cifar10/3.0.2.incompleteHBRPOI/cifar10-test.tfrecord\n"
          ]
        },
        {
          "output_type": "display_data",
          "data": {
            "application/vnd.jupyter.widget-view+json": {
              "model_id": "0babaad3ef9a474686b11d2fce583349",
              "version_minor": 0,
              "version_major": 2
            },
            "text/plain": [
              "  0%|          | 0/10000 [00:00<?, ? examples/s]"
            ]
          },
          "metadata": {}
        },
        {
          "output_type": "stream",
          "name": "stdout",
          "text": [
            "\u001b[1mDataset cifar10 downloaded and prepared to /root/tensorflow_datasets/cifar10/3.0.2. Subsequent calls will reuse this data.\u001b[0m\n",
            "There are ways to count and verify the number per training set which i have hidden because they are costly\n",
            "Entire Training Dataset was originally cardinality: 50000\n",
            "Entire Airplane Training Dataset was originally cardinality: -2\n"
          ]
        }
      ]
    },
    {
      "cell_type": "code",
      "metadata": {
        "colab": {
          "base_uri": "https://localhost:8080/",
          "height": 534
        },
        "id": "ynZzq-p_yOIS",
        "outputId": "a1ac925b-1b61-4f7e-8b87-ffa94af35503"
      },
      "source": [
        "## Tfds.show_examples is a matplotlib funnction that only works on image ds's, and you have to pass it the \"info\" for some reason\n",
        "fig = tfds.show_examples(dataset_airplanes, info)"
      ],
      "execution_count": 11,
      "outputs": [
        {
          "output_type": "display_data",
          "data": {
            "image/png": "[encoded data removed]",
            "text/plain": [
              "<Figure size 648x648 with 9 Axes>"
            ]
          },
          "metadata": {}
        }
      ]
    },
    {
      "cell_type": "markdown",
      "metadata": {
        "id": "OtKKnPKjgfuA"
      },
      "source": [
        "How to display one picture of a dataset using `next(iter(dataset)`"
      ]
    },
    {
      "cell_type": "code",
      "metadata": {
        "id": "3ttHjk8vAYM1",
        "colab": {
          "base_uri": "https://localhost:8080/",
          "height": 298
        },
        "outputId": "c8dd3c54-b860-48f2-a86e-1a88bdc9f727"
      },
      "source": [
        "img, label = next(iter(dataset_dogs))\n",
        "\n",
        "#print(img)\n",
        "plt.title(str(label))\n",
        "plt.imshow(img)"
      ],
      "execution_count": 12,
      "outputs": [
        {
          "output_type": "execute_result",
          "data": {
            "text/plain": [
              "<matplotlib.image.AxesImage at 0x7ff2901cd810>"
            ]
          },
          "metadata": {},
          "execution_count": 12
        },
        {
          "output_type": "display_data",
          "data": {
            "image/png": "[encoded data removed]",
            "text/plain": [
              "<Figure size 432x288 with 1 Axes>"
            ]
          },
          "metadata": {
            "needs_background": "light"
          }
        }
      ]
    },
    {
      "cell_type": "markdown",
      "metadata": {
        "id": "BEik6FQDblAg"
      },
      "source": [
        "# Create validation set of 10,000 images"
      ]
    },
    {
      "cell_type": "code",
      "metadata": {
        "id": "87dfHTIEbp4K"
      },
      "source": [
        "# I want 10 un replicated samples from dataset_airplanes + dataset_automobiles... dataset_trucks.\n",
        "\n",
        "# There are 5000 images of each Class \n",
        "# I want 10 equal sets A, B, C, D, ... J plus a validation set\n",
        "# I want 10,000 total images in the validation set with 1000 of each class\n",
        "# and I want 10 sets of training images  4000 total images, so 400 images in each class\n",
        "\n",
        "N = 1000\n",
        "dataset_airplanes_val   = dataset_airplanes.take(N)\n",
        "dataset_automobiles_val  = dataset_automobiles.take(N)\n",
        "dataset_birds_val       = dataset_birds.take(N)  \n",
        "dataset_cats_val        = dataset_cats.take(N)\n",
        "dataset_deers_val       = dataset_deers.take(N)\n",
        "dataset_dogs_val        = dataset_dogs.take(N)\n",
        "dataset_frogs_val       = dataset_frogs.take(N)\n",
        "dataset_horses_val      = dataset_horses.take(N)\n",
        "dataset_ships_val       = dataset_ships.take(N)\n",
        "dataset_trucks_val      = dataset_trucks.take(N)\n",
        "\n",
        "\n",
        "# Make sure to skip the next 1000 images in each data set before making training set\n",
        "dataset_airplanes   = dataset_airplanes.skip(N)\n",
        "dataset_automobiles  = dataset_automobiles.skip(N)\n",
        "dataset_birds      = dataset_birds.skip(N)  \n",
        "dataset_cats        = dataset_cats.skip(N)\n",
        "dataset_deers       = dataset_deers.skip(N)\n",
        "dataset_dogs        = dataset_dogs.skip(N)\n",
        "dataset_frogs       = dataset_frogs.skip(N)\n",
        "dataset_horses      = dataset_horses.skip(N)\n",
        "dataset_ships       = dataset_ships.skip(N)\n",
        "dataset_trucks      = dataset_trucks.skip(N)\n",
        "\n",
        "# # Check that remaining dataset does not have validation data\n",
        "# fig = tfds.show_examples(dataset_ships, info)\n",
        "# fig = tfds.show_examples(dataset_ships_val, info)\n",
        "# # I checked and they dont.\n",
        "\n",
        "\n",
        "# NOW, How do I combine my val sets?\n",
        "\n",
        "# Hint1 its not this... \n",
        "# val = dataset_airplanes_val + dataset_automobile_val + dataset_birds_val\n",
        "\n",
        "# #  Hint2 its also not this implementation of zip because the info file doesn't match it\n",
        "# val = tf.data.Dataset.zip((dataset_airplanes_val,\n",
        "#                     dataset_automobile_val,\n",
        "#                     dataset_birds_val,\n",
        "#                     dataset_cats_val,\n",
        "#                     dataset_deers_val,\n",
        "#                     dataset_dogs_val,\n",
        "#                     dataset_frogs_val,\n",
        "#                     dataset_horses_val,\n",
        "#                     dataset_ships_val,\n",
        "#                     dataset_trucks_val ))\n",
        " \n",
        "# fig = tfds.show_examples(val, info)   # Returns a warning that the info file is not compatible\n",
        "\n",
        "\n",
        "# is it concatenate? YESSSSSSSSSSSSSSSSSSSSSS\n",
        "val = dataset_airplanes_val.concatenate(dataset_automobiles_val)\n",
        "# This is how I checked that it worked\n",
        "# fig = tfds.show_examples(val.skip(999), info)    # shows 1 airplane and then 8 automobiles\n",
        "\n",
        "val = val.concatenate(dataset_birds_val)\n",
        "val = val.concatenate(dataset_cats_val)\n",
        "val = val.concatenate(dataset_deers_val)\n",
        "val = val.concatenate(dataset_dogs_val)\n",
        "val = val.concatenate(dataset_frogs_val)\n",
        "val = val.concatenate(dataset_horses_val)\n",
        "val = val.concatenate(dataset_ships_val)\n",
        "val = val.concatenate(dataset_trucks_val)\n",
        "  \n",
        "# print(val.reduce(np.int32(0), lambda x,_ : x + 1))  # this shows 10000! Thank goodness! :-)\n",
        "\n"
      ],
      "execution_count": 13,
      "outputs": []
    },
    {
      "cell_type": "markdown",
      "metadata": {
        "id": "HmxMCsLECazK"
      },
      "source": [
        "# Create 9 small groups of training_sets"
      ]
    },
    {
      "cell_type": "markdown",
      "metadata": {
        "id": "hKhAHF0aCdUw"
      },
      "source": [
        " I \"shard\" the remaining training set into 16 groups and save 9 of them."
      ]
    },
    {
      "cell_type": "markdown",
      "metadata": {
        "id": "0tjDv6PVJ1xs"
      },
      "source": [
        "#### Airplanes (airplanes_A, ... airplanes_P)"
      ]
    },
    {
      "cell_type": "code",
      "metadata": {
        "id": "5Wj9ZwxECc9T"
      },
      "source": [
        "# https://www.tensorflow.org/api_docs/python/tf/data/Dataset#shard\n",
        "\n",
        "# Check that each of the remaining 10 datasets has only 4000 images \n",
        "# print(dataset_airplanes.reduce(np.int32(0), lambda x,_ : x + 1))  # 4000 check!\n",
        "\n",
        "# Shard each of the remaining 10 datasets into 16 smaller groups\n",
        "airplanes_A = dataset_airplanes.shard(num_shards=16, index = 0)\n",
        "airplanes_B = dataset_airplanes.shard(num_shards=16, index = 1)\n",
        "airplanes_C = dataset_airplanes.shard(num_shards=16, index = 2)\n",
        "airplanes_D = dataset_airplanes.shard(num_shards=16, index = 3)\n",
        "airplanes_E = dataset_airplanes.shard(num_shards=16, index = 4)\n",
        "airplanes_F = dataset_airplanes.shard(num_shards=16, index = 5)\n",
        "airplanes_G = dataset_airplanes.shard(num_shards=16, index = 6)\n",
        "airplanes_H = dataset_airplanes.shard(num_shards=16, index = 7)\n",
        "airplanes_I = dataset_airplanes.shard(num_shards=16, index = 8)\n",
        "airplanes_J = dataset_airplanes.shard(num_shards=16, index = 9)\n",
        "airplanes_K = dataset_airplanes.shard(num_shards=16, index = 10)\n",
        "airplanes_L = dataset_airplanes.shard(num_shards=16, index = 11)\n",
        "airplanes_M = dataset_airplanes.shard(num_shards=16, index = 12)\n",
        "airplanes_N = dataset_airplanes.shard(num_shards=16, index = 13)\n",
        "airplanes_O = dataset_airplanes.shard(num_shards=16, index = 14)\n",
        "airplanes_P = dataset_airplanes.shard(num_shards=16, index = 15)\n",
        "\n",
        "#check that a random airplane dataset only has 250 images\n",
        "# print(airplanes_M.reduce(np.int32(0), lambda x,_ : x + 1))  # 250 check!\n"
      ],
      "execution_count": 14,
      "outputs": []
    },
    {
      "cell_type": "markdown",
      "metadata": {
        "id": "P5xFEsulJy93"
      },
      "source": [
        "#### Automobiles"
      ]
    },
    {
      "cell_type": "code",
      "metadata": {
        "id": "vb9GeTzWJFIx"
      },
      "source": [
        "# dataset_automobile\n",
        "\n",
        "# Check that each of the remaining 10 datasets has only 4000 images \n",
        "# print(dataset_automobile.reduce(np.int32(0), lambda x,_ : x + 1))  # 4000 check!\n",
        "\n",
        "# Shard each of the remaining 10 datasets into 16 smaller groups\n",
        "automobiles_A = dataset_automobiles.shard(num_shards=16, index = 0)\n",
        "automobiles_B = dataset_automobiles.shard(num_shards=16, index = 1)\n",
        "automobiles_C = dataset_automobiles.shard(num_shards=16, index = 2)\n",
        "automobiles_D = dataset_automobiles.shard(num_shards=16, index = 3)\n",
        "automobiles_E = dataset_automobiles.shard(num_shards=16, index = 4)\n",
        "automobiles_F = dataset_automobiles.shard(num_shards=16, index = 5)\n",
        "automobiles_G = dataset_automobiles.shard(num_shards=16, index = 6)\n",
        "automobiles_H = dataset_automobiles.shard(num_shards=16, index = 7)\n",
        "automobiles_I = dataset_automobiles.shard(num_shards=16, index = 8)\n",
        "automobiles_J = dataset_automobiles.shard(num_shards=16, index = 9)\n",
        "automobiles_K = dataset_automobiles.shard(num_shards=16, index = 10)\n",
        "automobiles_L = dataset_automobiles.shard(num_shards=16, index = 11)\n",
        "automobiles_M = dataset_automobiles.shard(num_shards=16, index = 12)\n",
        "automobiles_N = dataset_automobiles.shard(num_shards=16, index = 13)\n",
        "automobiles_O = dataset_automobiles.shard(num_shards=16, index = 14)\n",
        "automobiles_P = dataset_automobiles.shard(num_shards=16, index = 15)\n",
        "\n",
        "\n",
        "#check that a random airplane dataset only has 250 images\n",
        "# print(airplanes_H.reduce(np.int32(0), lambda x,_ : x + 1))  # 250 check!"
      ],
      "execution_count": 15,
      "outputs": []
    },
    {
      "cell_type": "markdown",
      "metadata": {
        "id": "pTE1qIe4JfjF"
      },
      "source": [
        "#### Birds"
      ]
    },
    {
      "cell_type": "code",
      "metadata": {
        "id": "ps-dQEq1JJzv"
      },
      "source": [
        "# dataset_birds\n",
        "\n",
        "# Shard each of the remaining 10 datasets into 16 smaller groups\n",
        "birds_A = dataset_birds.shard(num_shards=16, index = 0)\n",
        "birds_B = dataset_birds.shard(num_shards=16, index = 1)\n",
        "birds_C = dataset_birds.shard(num_shards=16, index = 2)\n",
        "birds_D = dataset_birds.shard(num_shards=16, index = 3)\n",
        "birds_E = dataset_birds.shard(num_shards=16, index = 4)\n",
        "birds_F = dataset_birds.shard(num_shards=16, index = 5)\n",
        "birds_G = dataset_birds.shard(num_shards=16, index = 6)\n",
        "birds_H = dataset_birds.shard(num_shards=16, index = 7)\n",
        "birds_I = dataset_birds.shard(num_shards=16, index = 8)\n",
        "birds_J = dataset_birds.shard(num_shards=16, index = 9)\n",
        "birds_K = dataset_birds.shard(num_shards=16, index = 10)\n",
        "birds_L = dataset_birds.shard(num_shards=16, index = 11)\n",
        "birds_M = dataset_birds.shard(num_shards=16, index = 12)\n",
        "birds_N = dataset_birds.shard(num_shards=16, index = 13)\n",
        "birds_O = dataset_birds.shard(num_shards=16, index = 14)\n",
        "birds_P = dataset_birds.shard(num_shards=16, index = 15)\n",
        "\n",
        "#check that a random airplane dataset only has 250 images\n",
        "# print(airplanes_H.reduce(np.int32(0), lambda x,_ : x + 1))  # 250 check!"
      ],
      "execution_count": 16,
      "outputs": []
    },
    {
      "cell_type": "markdown",
      "metadata": {
        "id": "DdGfixTrKbA5"
      },
      "source": [
        "#### Cats"
      ]
    },
    {
      "cell_type": "code",
      "metadata": {
        "id": "tnjMznpsJksD"
      },
      "source": [
        "# dataset_cats\n",
        "\n",
        "# Shard each of the remaining 10 datasets into 16 smaller groups\n",
        "cats_A = dataset_cats.shard(num_shards=16, index = 0)\n",
        "cats_B = dataset_cats.shard(num_shards=16, index = 1)\n",
        "cats_C = dataset_cats.shard(num_shards=16, index = 2)\n",
        "cats_D = dataset_cats.shard(num_shards=16, index = 3)\n",
        "cats_E = dataset_cats.shard(num_shards=16, index = 4)\n",
        "cats_F = dataset_cats.shard(num_shards=16, index = 5)\n",
        "cats_G = dataset_cats.shard(num_shards=16, index = 6)\n",
        "cats_H = dataset_cats.shard(num_shards=16, index = 7)\n",
        "cats_I = dataset_cats.shard(num_shards=16, index = 8)\n",
        "cats_J = dataset_cats.shard(num_shards=16, index = 9)\n",
        "cats_K = dataset_cats.shard(num_shards=16, index = 10)\n",
        "cats_L = dataset_cats.shard(num_shards=16, index = 11)\n",
        "cats_M = dataset_cats.shard(num_shards=16, index = 12)\n",
        "cats_N = dataset_cats.shard(num_shards=16, index = 13)\n",
        "cats_O = dataset_cats.shard(num_shards=16, index = 14)\n",
        "cats_P = dataset_cats.shard(num_shards=16, index = 15)\n",
        "#check that a random airplane dataset only has 250 images\n",
        "# print(cats_P.reduce(np.int32(0), lambda x,_ : x + 1))  # 250 check!"
      ],
      "execution_count": 17,
      "outputs": []
    },
    {
      "cell_type": "markdown",
      "metadata": {
        "id": "D5xWq3xTJ6Ju"
      },
      "source": [
        "#### Deer(s)"
      ]
    },
    {
      "cell_type": "code",
      "metadata": {
        "id": "gGOQ4VJuJ6gG"
      },
      "source": [
        "# dataset_deers\n",
        "# Shard each of the remaining 10 datasets into 16 smaller groups\n",
        "deers_A = dataset_deers.shard(num_shards=16, index = 0)\n",
        "deers_B = dataset_deers.shard(num_shards=16, index = 1)\n",
        "deers_C = dataset_deers.shard(num_shards=16, index = 2)\n",
        "deers_D = dataset_deers.shard(num_shards=16, index = 3)\n",
        "deers_E = dataset_deers.shard(num_shards=16, index = 4)\n",
        "deers_F = dataset_deers.shard(num_shards=16, index = 5)\n",
        "deers_G = dataset_deers.shard(num_shards=16, index = 6)\n",
        "deers_H = dataset_deers.shard(num_shards=16, index = 7)\n",
        "deers_I = dataset_deers.shard(num_shards=16, index = 8)\n",
        "deers_J = dataset_deers.shard(num_shards=16, index = 9)\n",
        "deers_K = dataset_deers.shard(num_shards=16, index = 10)\n",
        "deers_L = dataset_deers.shard(num_shards=16, index = 11)\n",
        "deers_M = dataset_deers.shard(num_shards=16, index = 12)\n",
        "deers_N = dataset_deers.shard(num_shards=16, index = 13)\n",
        "deers_O = dataset_deers.shard(num_shards=16, index = 14)\n",
        "deers_P = dataset_deers.shard(num_shards=16, index = 15)\n",
        "#check that a random airplane dataset only has 250 images\n",
        "# print(deers_H.reduce(np.int32(0), lambda x,_ : x + 1))  # 250 check!"
      ],
      "execution_count": 18,
      "outputs": []
    },
    {
      "cell_type": "code",
      "metadata": {
        "id": "EFe8-QmBciLO"
      },
      "source": [
        ""
      ],
      "execution_count": 18,
      "outputs": []
    },
    {
      "cell_type": "code",
      "metadata": {
        "id": "BOzrkr1kciEO"
      },
      "source": [
        ""
      ],
      "execution_count": 18,
      "outputs": []
    },
    {
      "cell_type": "markdown",
      "metadata": {
        "id": "byU1ZKdQJ754"
      },
      "source": [
        "#### Dogs"
      ]
    },
    {
      "cell_type": "code",
      "metadata": {
        "id": "eAIsVACaJ8dr"
      },
      "source": [
        "# dataset_dogs\n",
        "# Shard each of the remaining 10 datasets into 16 smaller groups\n",
        "dogs_A = dataset_dogs.shard(num_shards=16, index = 0)\n",
        "dogs_B = dataset_dogs.shard(num_shards=16, index = 1)\n",
        "dogs_C = dataset_dogs.shard(num_shards=16, index = 2)\n",
        "dogs_D = dataset_dogs.shard(num_shards=16, index = 3)\n",
        "dogs_E = dataset_dogs.shard(num_shards=16, index = 4)\n",
        "dogs_F = dataset_dogs.shard(num_shards=16, index = 5)\n",
        "dogs_G = dataset_dogs.shard(num_shards=16, index = 6)\n",
        "dogs_H = dataset_dogs.shard(num_shards=16, index = 7)\n",
        "dogs_I = dataset_dogs.shard(num_shards=16, index = 8)\n",
        "dogs_J = dataset_dogs.shard(num_shards=16, index = 9)\n",
        "dogs_K = dataset_dogs.shard(num_shards=16, index = 10)\n",
        "dogs_L = dataset_dogs.shard(num_shards=16, index = 11)\n",
        "dogs_M = dataset_dogs.shard(num_shards=16, index = 12)\n",
        "dogs_N = dataset_dogs.shard(num_shards=16, index = 13)\n",
        "dogs_O = dataset_dogs.shard(num_shards=16, index = 14)\n",
        "dogs_P = dataset_dogs.shard(num_shards=16, index = 15)\n",
        "\n",
        "#check that a random airplane dataset only has 250 images\n",
        "# print(dogs_H.reduce(np.int32(0), lambda x,_ : x + 1))  # 250 check!\n"
      ],
      "execution_count": 19,
      "outputs": []
    },
    {
      "cell_type": "markdown",
      "metadata": {
        "id": "Dw-8AHERJ90m"
      },
      "source": [
        "#### Frogs"
      ]
    },
    {
      "cell_type": "code",
      "metadata": {
        "id": "sP7uUGF6J-th"
      },
      "source": [
        "# dataset_frogs\n",
        "# Shard each of the remaining 10 datasets into 16 smaller groups\n",
        "frogs_A = dataset_frogs.shard(num_shards=16, index = 0)\n",
        "frogs_B = dataset_frogs.shard(num_shards=16, index = 1)\n",
        "frogs_C = dataset_frogs.shard(num_shards=16, index = 2)\n",
        "frogs_D = dataset_frogs.shard(num_shards=16, index = 3)\n",
        "frogs_E = dataset_frogs.shard(num_shards=16, index = 4)\n",
        "frogs_F = dataset_frogs.shard(num_shards=16, index = 5)\n",
        "frogs_G = dataset_frogs.shard(num_shards=16, index = 6)\n",
        "frogs_H = dataset_frogs.shard(num_shards=16, index = 7)\n",
        "frogs_I = dataset_frogs.shard(num_shards=16, index = 8)\n",
        "frogs_J = dataset_frogs.shard(num_shards=16, index = 9)\n",
        "frogs_K = dataset_frogs.shard(num_shards=16, index = 10)\n",
        "frogs_L = dataset_frogs.shard(num_shards=16, index = 11)\n",
        "frogs_M = dataset_frogs.shard(num_shards=16, index = 12)\n",
        "frogs_N = dataset_frogs.shard(num_shards=16, index = 13)\n",
        "frogs_O = dataset_frogs.shard(num_shards=16, index = 14)\n",
        "frogs_P = dataset_frogs.shard(num_shards=16, index = 15)\n",
        "#check that a random airplane dataset only has 250 images\n",
        "# print(frogs_A.reduce(np.int32(0), lambda x,_ : x + 1))  # 250 check!"
      ],
      "execution_count": 20,
      "outputs": []
    },
    {
      "cell_type": "markdown",
      "metadata": {
        "id": "5ON5smYaKAZb"
      },
      "source": [
        "#### Horses"
      ]
    },
    {
      "cell_type": "code",
      "metadata": {
        "id": "UJuMDMT9KAvX"
      },
      "source": [
        "# dataset_horses\n",
        "# Shard each of the remaining 10 datasets into 16 smaller groups\n",
        "horses_A = dataset_horses.shard(num_shards=16, index = 0)\n",
        "horses_B = dataset_horses.shard(num_shards=16, index = 1)\n",
        "horses_C = dataset_horses.shard(num_shards=16, index = 2)\n",
        "horses_D = dataset_horses.shard(num_shards=16, index = 3)\n",
        "horses_E = dataset_horses.shard(num_shards=16, index = 4)\n",
        "horses_F = dataset_horses.shard(num_shards=16, index = 5)\n",
        "horses_G = dataset_horses.shard(num_shards=16, index = 6)\n",
        "horses_H = dataset_horses.shard(num_shards=16, index = 7)\n",
        "horses_I = dataset_horses.shard(num_shards=16, index = 8)\n",
        "horses_J = dataset_horses.shard(num_shards=16, index = 9)\n",
        "horses_K = dataset_horses.shard(num_shards=16, index = 10)\n",
        "horses_L = dataset_horses.shard(num_shards=16, index = 11)\n",
        "horses_M = dataset_horses.shard(num_shards=16, index = 12)\n",
        "horses_N = dataset_horses.shard(num_shards=16, index = 13)\n",
        "horses_O = dataset_horses.shard(num_shards=16, index = 14)\n",
        "horses_P = dataset_horses.shard(num_shards=16, index = 15)\n",
        "#check that a random airplane dataset only has 250 images\n",
        "# print(horses_H.reduce(np.int32(0), lambda x,_ : x + 1))  # 250 check!"
      ],
      "execution_count": 21,
      "outputs": []
    },
    {
      "cell_type": "markdown",
      "metadata": {
        "id": "yWcxJta7KBxY"
      },
      "source": [
        "#### Ships"
      ]
    },
    {
      "cell_type": "code",
      "metadata": {
        "id": "d375MfgdKCJM"
      },
      "source": [
        "# dataset_ships\n",
        "# Shard each of the remaining 10 datasets into 16 smaller groups\n",
        "ships_A = dataset_ships.shard(num_shards=16, index = 0)\n",
        "ships_B = dataset_ships.shard(num_shards=16, index = 1)\n",
        "ships_C = dataset_ships.shard(num_shards=16, index = 2)\n",
        "ships_D = dataset_ships.shard(num_shards=16, index = 3)\n",
        "ships_E = dataset_ships.shard(num_shards=16, index = 4)\n",
        "ships_F = dataset_ships.shard(num_shards=16, index = 5)\n",
        "ships_G = dataset_ships.shard(num_shards=16, index = 6)\n",
        "ships_H = dataset_ships.shard(num_shards=16, index = 7)\n",
        "ships_I = dataset_ships.shard(num_shards=16, index = 8)\n",
        "ships_J = dataset_ships.shard(num_shards=16, index = 9)\n",
        "ships_K = dataset_ships.shard(num_shards=16, index = 10)\n",
        "ships_L = dataset_ships.shard(num_shards=16, index = 11)\n",
        "ships_M = dataset_ships.shard(num_shards=16, index = 12)\n",
        "ships_N = dataset_ships.shard(num_shards=16, index = 13)\n",
        "ships_O = dataset_ships.shard(num_shards=16, index = 14)\n",
        "ships_P = dataset_ships.shard(num_shards=16, index = 15)\n",
        "#check that a random airplane dataset only has 250 images\n",
        "# print(ships_H.reduce(np.int32(0), lambda x,_ : x + 1))  # 250 check!"
      ],
      "execution_count": 22,
      "outputs": []
    },
    {
      "cell_type": "markdown",
      "metadata": {
        "id": "4SFGmpwtKGLB"
      },
      "source": [
        "#### Trucks\n"
      ]
    },
    {
      "cell_type": "code",
      "metadata": {
        "id": "uLvmyTf7KIEI"
      },
      "source": [
        "# dataset_trucks\n",
        "# Shard each of the remaining 10 datasets into 16 smaller groups\n",
        "trucks_A = dataset_trucks.shard(num_shards=16, index = 0)\n",
        "trucks_B = dataset_trucks.shard(num_shards=16, index = 1)\n",
        "trucks_C = dataset_trucks.shard(num_shards=16, index = 2)\n",
        "trucks_D = dataset_trucks.shard(num_shards=16, index = 3)\n",
        "trucks_E = dataset_trucks.shard(num_shards=16, index = 4)\n",
        "trucks_F = dataset_trucks.shard(num_shards=16, index = 5)\n",
        "trucks_G = dataset_trucks.shard(num_shards=16, index = 6)\n",
        "trucks_H = dataset_trucks.shard(num_shards=16, index = 7)\n",
        "trucks_I = dataset_trucks.shard(num_shards=16, index = 8)\n",
        "trucks_J = dataset_trucks.shard(num_shards=16, index = 9)\n",
        "trucks_K = dataset_trucks.shard(num_shards=16, index = 10)\n",
        "trucks_L = dataset_trucks.shard(num_shards=16, index = 11)\n",
        "trucks_M = dataset_trucks.shard(num_shards=16, index = 12)\n",
        "trucks_N = dataset_trucks.shard(num_shards=16, index = 13)\n",
        "trucks_O = dataset_trucks.shard(num_shards=16, index = 14)\n",
        "trucks_P = dataset_trucks.shard(num_shards=16, index = 15)\n",
        "\n",
        "\n",
        "#check that a random airplane dataset only has 250 images\n",
        "# print(trucks_H.reduce(np.int32(0), lambda x,_ : x + 1))  # 250 check!\n"
      ],
      "execution_count": 23,
      "outputs": []
    },
    {
      "cell_type": "markdown",
      "metadata": {
        "id": "LwI8YY2tKDF1"
      },
      "source": [
        "# Merge 1/16th of each CIFAR Training Datasets into 16 Small training Groups {A}, {B}, {C} , ... {P}"
      ]
    },
    {
      "cell_type": "markdown",
      "metadata": {
        "id": "CwwqykvrPuO2"
      },
      "source": [
        "#### Group A  (train_A)"
      ]
    },
    {
      "cell_type": "code",
      "metadata": {
        "id": "0gJxRkApP25H"
      },
      "source": [
        "# {A}\n",
        "X = birds_A, cats_A, deers_A, dogs_A, frogs_A, horses_A, ships_A, trucks_A\n",
        "train_A = airplanes_A.concatenate(automobiles_A)\n",
        "\n",
        "for i in list(X):\n",
        "  train_A = train_A.concatenate(i)\n",
        "# print(train_A.reduce(np.int32(0), lambda x,_ : x + 1))  # 250*10 = 2500? "
      ],
      "execution_count": 24,
      "outputs": []
    },
    {
      "cell_type": "markdown",
      "metadata": {
        "id": "luuwRmSrP25F"
      },
      "source": [
        "#### Group B"
      ]
    },
    {
      "cell_type": "code",
      "metadata": {
        "id": "WTTCjd8nQoIL"
      },
      "source": [
        "# {B}\n",
        "X = birds_B, cats_B, deers_B, dogs_B, frogs_B, horses_B, ships_B, trucks_B\n",
        "train_B = airplanes_B.concatenate(automobiles_B)\n",
        "\n",
        "for i in list(X):\n",
        "  train_B = train_B.concatenate(i)\n",
        "\n",
        "# print(train_B.reduce(np.int32(0), lambda x,_ : x + 1))  # 250*10 = 2500? "
      ],
      "execution_count": 25,
      "outputs": []
    },
    {
      "cell_type": "markdown",
      "metadata": {
        "id": "PkxiQUTmSnAV"
      },
      "source": [
        "#### Group C"
      ]
    },
    {
      "cell_type": "code",
      "metadata": {
        "id": "9Klir_U7SnAW"
      },
      "source": [
        "# {C}\n",
        "X = birds_C, cats_C, deers_C, dogs_C, frogs_C, horses_C, ships_C, trucks_C\n",
        "train_C = airplanes_C.concatenate(automobiles_C)\n",
        "\n",
        "for i in list(X):\n",
        "  train_C = train_C.concatenate(i)\n",
        "\n",
        "# print(train_C.reduce(np.int32(0), lambda x,_ : x + 1))  # 250*10 = 2500? "
      ],
      "execution_count": 26,
      "outputs": []
    },
    {
      "cell_type": "markdown",
      "metadata": {
        "id": "-4hb8nQ-Rl9X"
      },
      "source": [
        "#### Group D"
      ]
    },
    {
      "cell_type": "code",
      "metadata": {
        "id": "S2y1elhgRl9Y"
      },
      "source": [
        "# {D}\n",
        "X = birds_D, cats_D, deers_D, dogs_D, frogs_D, horses_D, ships_D, trucks_D\n",
        "train_D = airplanes_D.concatenate(automobiles_D)\n",
        "\n",
        "for i in list(X):\n",
        "  train_D = train_D.concatenate(i)\n",
        "\n",
        "# print(train_D.reduce(np.int32(0), lambda x,_ : x + 1))  # 250*10 = 2500? "
      ],
      "execution_count": 27,
      "outputs": []
    },
    {
      "cell_type": "markdown",
      "metadata": {
        "id": "E0HfSJz2RmXZ"
      },
      "source": [
        "#### Group E"
      ]
    },
    {
      "cell_type": "code",
      "metadata": {
        "id": "6wCvrPzGRmXa"
      },
      "source": [
        "# {E}\n",
        "X = birds_E, cats_E, deers_E, dogs_E, frogs_E, horses_E, ships_E, trucks_E\n",
        "train_E = airplanes_E.concatenate(automobiles_E)\n",
        "\n",
        "for i in list(X):\n",
        "  train_E = train_E.concatenate(i)\n",
        "\n",
        "# print(train_E.reduce(np.int32(0), lambda x,_ : x + 1))  # 250*10 = 2500? "
      ],
      "execution_count": 28,
      "outputs": []
    },
    {
      "cell_type": "markdown",
      "metadata": {
        "id": "WORh3NGSRmyc"
      },
      "source": [
        "#### Group F"
      ]
    },
    {
      "cell_type": "code",
      "metadata": {
        "id": "2Ljtuh44Rmye"
      },
      "source": [
        "# {F}\n",
        "X = birds_F, cats_F, deers_F, dogs_F, frogs_F, horses_F, ships_F, trucks_F\n",
        "train_F = airplanes_F.concatenate(automobiles_F)\n",
        "\n",
        "for i in list(X):\n",
        "  train_F = train_F.concatenate(i)\n",
        "\n",
        "# print(train_F.reduce(np.int32(0), lambda x,_ : x + 1))  # 250*10 = 2500? "
      ],
      "execution_count": 29,
      "outputs": []
    },
    {
      "cell_type": "markdown",
      "metadata": {
        "id": "d8VA6XYARnM1"
      },
      "source": [
        "#### Group G"
      ]
    },
    {
      "cell_type": "code",
      "metadata": {
        "id": "VBbGNULkRnM2"
      },
      "source": [
        "# {G}\n",
        "X = birds_G, cats_G, deers_G, dogs_G, frogs_G, horses_G, ships_G, trucks_G\n",
        "train_G = airplanes_G.concatenate(automobiles_G)\n",
        "\n",
        "for i in list(X):\n",
        "  train_G = train_G.concatenate(i)\n",
        "\n",
        "# print(train_G.reduce(np.int32(0), lambda x,_ : x + 1))  # 250*10 = 2500? "
      ],
      "execution_count": 30,
      "outputs": []
    },
    {
      "cell_type": "markdown",
      "metadata": {
        "id": "EdiZ0V7hRniQ"
      },
      "source": [
        "#### Group H"
      ]
    },
    {
      "cell_type": "code",
      "metadata": {
        "id": "54IwvzgFRniS"
      },
      "source": [
        "# {H}\n",
        "X = birds_H, cats_H, deers_H, dogs_H, frogs_H, horses_H, ships_H, trucks_H\n",
        "train_H = airplanes_H.concatenate(automobiles_H)\n",
        "\n",
        "for i in list(X):\n",
        "  train_H = train_H.concatenate(i)\n",
        "\n",
        "# print(train_H.reduce(np.int32(0), lambda x,_ : x + 1))  # 250*10 = 2500? "
      ],
      "execution_count": 31,
      "outputs": []
    },
    {
      "cell_type": "markdown",
      "metadata": {
        "id": "1wxeC_c1Rn2p"
      },
      "source": [
        "#### Group I"
      ]
    },
    {
      "cell_type": "code",
      "metadata": {
        "id": "nGwKPcTfRn2p"
      },
      "source": [
        "# {I}\n",
        "X = birds_I, cats_I, deers_I, dogs_I, frogs_I, horses_I, ships_I, trucks_I\n",
        "train_I = airplanes_I.concatenate(automobiles_I)\n",
        "\n",
        "for i in list(X):\n",
        "  train_I = train_I.concatenate(i)\n",
        "\n",
        "# print(train_I.reduce(np.int32(0), lambda x,_ : x + 1))  # 250*10 = 2500? "
      ],
      "execution_count": 32,
      "outputs": []
    },
    {
      "cell_type": "markdown",
      "metadata": {
        "id": "vSNbzIxdRoMH"
      },
      "source": [
        "#### Group J"
      ]
    },
    {
      "cell_type": "code",
      "metadata": {
        "id": "mFIUW6_mRoMJ"
      },
      "source": [
        "# {J}\n",
        "X = birds_J, cats_J, deers_J, dogs_J, frogs_J, horses_J, ships_J, trucks_J\n",
        "train_J = airplanes_J.concatenate(automobiles_J)\n",
        "\n",
        "for i in list(X):\n",
        "  train_J = train_J.concatenate(i)\n",
        "\n",
        "# print(train_J.reduce(np.int32(0), lambda x,_ : x + 1))  # 250*10 = 2500? "
      ],
      "execution_count": 33,
      "outputs": []
    },
    {
      "cell_type": "markdown",
      "metadata": {
        "id": "etYZhc53P0bq"
      },
      "source": [
        "### Adding Batches, Buffers, Shuffles and Caches"
      ]
    },
    {
      "cell_type": "markdown",
      "metadata": {
        "id": "ejCVXsygP4Pp"
      },
      "source": [
        "The following is necessary to run the datasets through the models.  Do not run the following more than once because it'll try to make an additional dimension in your datasets"
      ]
    },
    {
      "cell_type": "code",
      "metadata": {
        "id": "v5NwdQRkwKlR"
      },
      "source": [
        "if initial_run == 0: \n",
        "    \n",
        "  AUTOTUNE = tf.data.AUTOTUNE # results in -1 which i think is code for the whole database\n",
        "  train_A = train_A.cache().prefetch(buffer_size=AUTOTUNE)\n",
        "  train_A = train_A.shuffle(2500, reshuffle_each_iteration=True, seed=seed)\n",
        "  train_A = train_A.batch(100)  # I believe its good to not have a remainder to cut ds evenly but I'm not sure\n",
        "\n",
        "  val = val.cache().prefetch(buffer_size=AUTOTUNE)\n",
        "  val = val.batch(100)\n",
        "\n",
        "  x_test = x_test.cache().prefetch(tf.data.AUTOTUNE)\n",
        "  x_test = x_test.batch(10000)\n",
        "\n",
        "else:\n",
        "  pass\n",
        "\n",
        "initial_run = initial_run+1"
      ],
      "execution_count": 34,
      "outputs": []
    },
    {
      "cell_type": "markdown",
      "metadata": {
        "id": "os7CGfJqDBvx"
      },
      "source": [
        "#### Time required to create datasets: 108 seconds"
      ]
    },
    {
      "cell_type": "code",
      "metadata": {
        "colab": {
          "base_uri": "https://localhost:8080/"
        },
        "id": "50FBIXyyDDrP",
        "outputId": "c5ec2476-b47d-4d32-ed62-de6f4fc87b02"
      },
      "source": [
        "toc = time.time()  \n",
        "print(f\"Made datasets in {toc - tic:0.4f} seconds\")\n",
        "!mkdir -p saved_model\n"
      ],
      "execution_count": 35,
      "outputs": [
        {
          "output_type": "stream",
          "name": "stdout",
          "text": [
            "Made datasets in 69.1820 seconds\n"
          ]
        }
      ]
    },
    {
      "cell_type": "markdown",
      "metadata": {
        "id": "nB7IU7_gv-5q"
      },
      "source": [
        "# Train CNN on Training_Group_A"
      ]
    },
    {
      "cell_type": "markdown",
      "metadata": {
        "id": "do5itWWAwDqU"
      },
      "source": [
        "Train a vanilla CNN using small group A train set, the val set, and test"
      ]
    },
    {
      "cell_type": "markdown",
      "metadata": {
        "id": "nVyzV4xYiH8-"
      },
      "source": [
        "## Train the model :\n"
      ]
    },
    {
      "cell_type": "code",
      "metadata": {
        "id": "A0nRfh7aiH9F"
      },
      "source": [
        "# Make a Vanilla CNN\n",
        "num_classes = 10\n",
        "input_shape = (32, 32, 3)\n",
        "\n",
        "# For Reference these are the defaults\n",
        "# kernel_initializer=\"glorot_uniform\",\n",
        "# bias_initializer=\"zeros\",\n",
        "# padding=\"valid\",  #valid = no padding\n",
        "# kernel_regularizer=None,\n",
        "# bias_regularizer=None,\n",
        "# activity_regularizer=None,\n",
        "\n",
        "initializer = tf.keras.initializers.HeUniform(seed)\n",
        "\n",
        "model = tf.keras.Sequential(\n",
        "[\n",
        "    #keras.Input(),\n",
        "    tf.keras.Input(shape=input_shape),\n",
        "\n",
        "    layers.experimental.preprocessing.Rescaling(1./255),\n",
        "    #data_augmentation,   \n",
        "    layers.Conv2D(32, kernel_size=(3, 3), activation=\"relu\", kernel_initializer=initializer, name=\"ConvLayer1\"),\n",
        "    layers.MaxPooling2D(pool_size=(2, 2), name=\"MaxPool1\"),\n",
        "    layers.BatchNormalization(name=\"BN1\"),\n",
        "    layers.Conv2D(64, kernel_size=(3, 3), activation=\"relu\", kernel_initializer=initializer, name=\"ConvLayer2\"),\n",
        "    layers.MaxPooling2D(pool_size=(2, 2), name=\"MaxPool2\"),\n",
        "    layers.BatchNormalization(name=\"BN2\"),\n",
        "    layers.Conv2D(128, kernel_size=(3, 3), activation=\"relu\", kernel_initializer=initializer, name=\"ConvLayer3\"),\n",
        "    layers.MaxPooling2D(pool_size=(2, 2), name=\"MaxPool3\"),\n",
        "    layers.BatchNormalization(name=\"BN3\"),\n",
        "    layers.Flatten(),\n",
        "    layers.Dropout(0.5),\n",
        "    layers.Dense(512, activation=\"relu\", kernel_initializer=initializer),\n",
        "    layers.Dropout(0.5),\n",
        "    layers.Dense(num_classes, activation=\"softmax\")\n",
        "\n",
        "])\n",
        "\n",
        "\n",
        "model.compile(\n",
        "  optimizer='adam',\n",
        "  loss=tf.losses.SparseCategoricalCrossentropy(),\n",
        "  metrics=['accuracy'])  #changed, added to val_accuracy\n",
        "\n",
        "model.save_weights('saved_model/blank_model')\n",
        "model.load_weights('saved_model/blank_model')\n",
        "\n",
        "\n",
        "if run_model == True:\n",
        "\n",
        "  history = model.fit(\n",
        "    train_A,\n",
        "    validation_data=(val),\n",
        "    epochs=100,\n",
        "    callbacks = keras.callbacks.EarlyStopping(monitor= 'val_accuracy', patience=10, restore_best_weights=True), \n",
        "    verbose=0\n",
        "  )\n",
        "\n",
        "  \n",
        "  plt.plot(history.history['accuracy'])\n",
        "  plt.plot(history.history['val_accuracy'])\n",
        "  plt.title('model accuracy')\n",
        "  plt.ylabel('accuracy')\n",
        "  plt.xlabel('epoch')\n",
        "  plt.legend(['train', 'val'], loc='upper left')\n",
        "  plt.show()\n",
        "\n",
        "  # summarize history for loss\n",
        "  plt.plot(history.history['loss'])\n",
        "  plt.plot(history.history['val_loss'])\n",
        "  plt.title('model loss')\n",
        "  plt.ylabel('loss')\n",
        "  plt.xlabel('epoch')\n",
        "  plt.legend(['train', 'val'], loc='upper left')\n",
        "  plt.show()\n",
        "\n",
        "  model.save('saved_model/my_model')"
      ],
      "execution_count": 36,
      "outputs": []
    },
    {
      "cell_type": "markdown",
      "metadata": {
        "id": "1lVKJrNIG3YM"
      },
      "source": [
        "#### Time Required to Train and Validate (Baseline) 64 seconds"
      ]
    },
    {
      "cell_type": "code",
      "metadata": {
        "colab": {
          "base_uri": "https://localhost:8080/"
        },
        "id": "upg_Hq-WG8Kh",
        "outputId": "c3647ceb-f9fb-475c-bbf7-ef76bf391c3b"
      },
      "source": [
        "tock = time.time()  \n",
        "# print(tock - toc, \" seconds\")\n",
        "print(f\"Trained model in {tock - toc:0.4f} seconds\")"
      ],
      "execution_count": 37,
      "outputs": [
        {
          "output_type": "stream",
          "name": "stdout",
          "text": [
            "Trained model in 0.5633 seconds\n"
          ]
        }
      ]
    },
    {
      "cell_type": "code",
      "metadata": {
        "id": "-KLqbhHBiH9G"
      },
      "source": [
        ""
      ],
      "execution_count": 37,
      "outputs": []
    },
    {
      "cell_type": "markdown",
      "metadata": {
        "id": "dPLdDae3L59U"
      },
      "source": [
        "# Evaluate Model on Test Set"
      ]
    },
    {
      "cell_type": "code",
      "metadata": {
        "id": "xu0Cm_Mc-8g1"
      },
      "source": [
        "\n",
        "if run_model == True:\n",
        "  model.evaluate(x_test, verbose=2) "
      ],
      "execution_count": 38,
      "outputs": []
    },
    {
      "cell_type": "markdown",
      "metadata": {
        "id": "bvPhUmNlhI5R"
      },
      "source": [
        "When the training dataset has a shuffle-per-iteration with a pseudo-random seed the following test accuracies resulst: 0.5346999, 0.5309, 0.5479, 0.5479 again, 0.5429\n"
      ]
    },
    {
      "cell_type": "markdown",
      "metadata": {
        "id": "ddHUpBzmJgDg"
      },
      "source": [
        "### Confusion Matrix on Test-Set Data "
      ]
    },
    {
      "cell_type": "code",
      "metadata": {
        "id": "fG4rj-2peeUz"
      },
      "source": [
        "\n",
        "if run_model == True:\n",
        "\n",
        "  y_pred = model.predict(x_test)\n",
        "  # I need to convert this large y_pred of continuous probabilities into a 1-coded label vectors\n",
        "  y_pred_1hot = np.argmax(y_pred, axis=1)\n",
        "  cm = confusion_matrix(y_true = y_test, y_pred = y_pred_1hot,  labels=[0, 1, 2, 3, 4, 5, 6, 7, 8, 9] ) \n",
        "  # disp = ConfusionMatrixDisplay(cm, display_labels=['airplane', 'automobile','bird','cat','deer','dog','frog','horse','ship','truck']).plot()\n",
        "  print(cm)"
      ],
      "execution_count": 39,
      "outputs": []
    },
    {
      "cell_type": "markdown",
      "metadata": {
        "id": "pDCZu6m0jYSS"
      },
      "source": [
        "## Confusion Matrix of Training-Cats Dataset (for sanity check)\n",
        "\n",
        "I wanted to verify the confusion matrix was working, so I sent just `cats_A`, through the predictive model.  I figured out that scikits `confusion_matrix` only saw and used the numerical values from the prediction and that's why it looked like it was skipping an index.  Thanks [SO](https://stackoverflow.com/questions/35162652/construct-confusion-matrix-with-missing-data)  "
      ]
    },
    {
      "cell_type": "code",
      "metadata": {
        "id": "SE1Mg436y5F8"
      },
      "source": [
        "\n",
        "if run_model == True:\n",
        "  if initial_run == 1:\n",
        "   cats_A = cats_A.batch(250)"
      ],
      "execution_count": 40,
      "outputs": []
    },
    {
      "cell_type": "code",
      "metadata": {
        "id": "CbEtjCAljgWy"
      },
      "source": [
        "\n",
        "if run_model == True:\n",
        "  preds_cats = model.predict(cats_A)\n",
        "  preds_cats = np.argmax(preds_cats, axis=1)\n",
        "  y_cats = get_labels_from_tfdataset(cats_A)\n",
        "  cm2 = confusion_matrix(y_true = y_cats, y_pred = preds_cats , labels=[0, 1, 2, 3, 4, 5, 6, 7, 8, 9])  # Adding these labels is super important on this function\n",
        "  # disp2 = ConfusionMatrixDisplay(cm2, display_labels= ['airplane', 'automobile', 'bird', 'cat', 'deer', 'dog', 'frog', 'horse', 'ship', 'truck']).plot()"
      ],
      "execution_count": 41,
      "outputs": []
    },
    {
      "cell_type": "code",
      "metadata": {
        "id": "bekNPJQj7O7o"
      },
      "source": [
        "\n",
        "if run_model == True:\n",
        "\n",
        "  CLASSES = info.features['label'].names\n",
        "\n",
        "  def show_confusion_matrix(test_labels, predictions, CLASSES):\n",
        "    \"\"\"Compute confusion matrix and normalize.\"\"\"\n",
        "    confusion = sklearn.metrics.confusion_matrix(test_labels, predictions,  labels=[0, 1, 2, 3, 4, 5, 6, 7, 8, 9])\n",
        "    \n",
        "    confusing_part_matrix= np.array(confusion)-np.identity(confusion.shape[0])*np.diag(confusion)\n",
        "    # print(confusing_part_matrix)\n",
        "    # print(confusion)\n",
        "    # print(confusion.astype(\"float\"))\n",
        "    # print(confusion.sum(axis=1))\n",
        "    # # confusion_normalized = np.divide(confusion.astype(\"float\"), confusion.sum(axis=1))\n",
        "    # confusion_normalized = np.where(confusing_part_matrix> 0, np.divide(confusing_part_matrix.astype(\"float\"), confusing_part_matrix.sum(axis=1)), 0)\n",
        "    axis_labels = CLASSES\n",
        "    # ax = sns.heatmap(\n",
        "    #     confusion_normalized, xticklabels=axis_labels, yticklabels=axis_labels,\n",
        "    #     cmap='Blues', annot=True, fmt='.2f', square=True)\n",
        "    ax = sns.heatmap(\n",
        "        confusing_part_matrix, xticklabels=axis_labels, yticklabels=axis_labels,\n",
        "        cmap='Blues', annot=True, square=True, fmt='.0f')\n",
        "\n",
        "    plt.title(\"Confusion matrix without Diagonal\")\n",
        "    plt.ylabel(\"True label\")\n",
        "    plt.xlabel(\"Predicted label\")\n",
        "\n",
        "  \n",
        "  # show_confusion_matrix(y_cats, preds_cats, CLASSES = CLASSES)  # this is the training set, so a lot less will show up on the confusion matrix, I got four on this run\n",
        "\n",
        "  # confusion_matrix(y_true = y_test, y_pred = y_pred_1hot )\n",
        "  show_confusion_matrix(y_test, y_pred_1hot, CLASSES = CLASSES)"
      ],
      "execution_count": 42,
      "outputs": []
    },
    {
      "cell_type": "markdown",
      "metadata": {
        "id": "U9hn47_gaDO5"
      },
      "source": [
        "### I Attempted to get misclassified images to show but have been failing"
      ]
    },
    {
      "cell_type": "code",
      "metadata": {
        "id": "h14uLInC0wNB"
      },
      "source": [
        "\n",
        "if run_model == True:\n",
        "  # fig = tfds.show_examples(tf.data.Dataset.unbatch(cats_A), info)\n",
        "\n",
        "  # I want to identify images that wer not predicted as cats\n",
        "  errors = ( preds_cats - 3 !=0 )  # IF predicted class is 3, then a correct prediction yields 3-3 = 0.  \n",
        "\n",
        "  #print(errors) # this prints the answer to 250 questions, I just want the index of the wrong ones with respect to the 250\n",
        "\n",
        "  index, = np.where(errors == True)\n",
        "  print(index)\n",
        "\n",
        "  "
      ],
      "execution_count": 43,
      "outputs": []
    },
    {
      "cell_type": "markdown",
      "metadata": {
        "id": "VWDirm_IZxFk"
      },
      "source": [
        "# Transition to Augmentations\n"
      ]
    },
    {
      "cell_type": "code",
      "metadata": {
        "id": "Bz7XO7vMJsKx"
      },
      "source": [
        "import time\n",
        "start_augmentations = time.time()"
      ],
      "execution_count": 44,
      "outputs": []
    },
    {
      "cell_type": "markdown",
      "metadata": {
        "id": "b23a7099"
      },
      "source": [
        "## Prepare the Google Colab environment"
      ]
    },
    {
      "cell_type": "markdown",
      "metadata": {
        "id": "0675c0fb"
      },
      "source": [
        "#### Install the latest version of Albumentations"
      ]
    },
    {
      "cell_type": "markdown",
      "metadata": {
        "id": "26f58a5d"
      },
      "source": [
        "Google Colab has an outdated version of Albumentations so we will install the latest stable version from PyPi."
      ]
    },
    {
      "cell_type": "code",
      "metadata": {
        "id": "3d019720",
        "colab": {
          "base_uri": "https://localhost:8080/"
        },
        "outputId": "e90938cf-b41d-4a2e-ac19-6081d1470acf"
      },
      "source": [
        "# !pip install -q -U albumentations\n",
        "# !echo \"$(pip freeze | grep albumentations) is successfully installed\"\n",
        "\n",
        "!pip install -U git+https://github.com/albumentations-team/albumentations\n",
        "# necessary imports\n",
        "from functools import partial\n",
        "import albumentations as A\n",
        "import cv2 as cv2\n",
        "\n",
        "import tensorflow as tf\n",
        "AUTOTUNE = tf.data.experimental.AUTOTUNE\n"
      ],
      "execution_count": 45,
      "outputs": [
        {
          "output_type": "stream",
          "name": "stdout",
          "text": [
            "Collecting git+https://github.com/albumentations-team/albumentations\n",
            "  Cloning https://github.com/albumentations-team/albumentations to /tmp/pip-req-build-5o6544fo\n",
            "  Running command git clone -q https://github.com/albumentations-team/albumentations /tmp/pip-req-build-5o6544fo\n",
            "Requirement already satisfied: numpy>=1.11.1 in /usr/local/lib/python3.7/dist-packages (from albumentations==1.1.0) (1.19.5)\n",
            "Requirement already satisfied: scipy in /usr/local/lib/python3.7/dist-packages (from albumentations==1.1.0) (1.4.1)\n",
            "Requirement already satisfied: scikit-image>=0.16.1 in /usr/local/lib/python3.7/dist-packages (from albumentations==1.1.0) (0.16.2)\n",
            "Requirement already satisfied: PyYAML in /usr/local/lib/python3.7/dist-packages (from albumentations==1.1.0) (3.13)\n",
            "Collecting qudida>=0.0.4\n",
            "  Downloading qudida-0.0.4-py3-none-any.whl (3.5 kB)\n",
            "Requirement already satisfied: opencv-python>=4.1.1 in /usr/local/lib/python3.7/dist-packages (from albumentations==1.1.0) (4.1.2.30)\n",
            "Requirement already satisfied: typing-extensions in /usr/local/lib/python3.7/dist-packages (from qudida>=0.0.4->albumentations==1.1.0) (3.7.4.3)\n",
            "Collecting opencv-python-headless>=4.0.1\n",
            "  Downloading opencv_python_headless-4.5.4.58-cp37-cp37m-manylinux2014_x86_64.whl (47.6 MB)\n",
            "\u001b[K     |████████████████████████████████| 47.6 MB 68 kB/s \n",
            "\u001b[?25hRequirement already satisfied: scikit-learn>=0.19.1 in /usr/local/lib/python3.7/dist-packages (from qudida>=0.0.4->albumentations==1.1.0) (0.22.2.post1)\n",
            "Requirement already satisfied: pillow>=4.3.0 in /usr/local/lib/python3.7/dist-packages (from scikit-image>=0.16.1->albumentations==1.1.0) (7.1.2)\n",
            "Requirement already satisfied: imageio>=2.3.0 in /usr/local/lib/python3.7/dist-packages (from scikit-image>=0.16.1->albumentations==1.1.0) (2.4.1)\n",
            "Requirement already satisfied: networkx>=2.0 in /usr/local/lib/python3.7/dist-packages (from scikit-image>=0.16.1->albumentations==1.1.0) (2.6.3)\n",
            "Requirement already satisfied: matplotlib!=3.0.0,>=2.0.0 in /usr/local/lib/python3.7/dist-packages (from scikit-image>=0.16.1->albumentations==1.1.0) (3.2.2)\n",
            "Requirement already satisfied: PyWavelets>=0.4.0 in /usr/local/lib/python3.7/dist-packages (from scikit-image>=0.16.1->albumentations==1.1.0) (1.1.1)\n",
            "Requirement already satisfied: pyparsing!=2.0.4,!=2.1.2,!=2.1.6,>=2.0.1 in /usr/local/lib/python3.7/dist-packages (from matplotlib!=3.0.0,>=2.0.0->scikit-image>=0.16.1->albumentations==1.1.0) (2.4.7)\n",
            "Requirement already satisfied: cycler>=0.10 in /usr/local/lib/python3.7/dist-packages (from matplotlib!=3.0.0,>=2.0.0->scikit-image>=0.16.1->albumentations==1.1.0) (0.10.0)\n",
            "Requirement already satisfied: python-dateutil>=2.1 in /usr/local/lib/python3.7/dist-packages (from matplotlib!=3.0.0,>=2.0.0->scikit-image>=0.16.1->albumentations==1.1.0) (2.8.2)\n",
            "Requirement already satisfied: kiwisolver>=1.0.1 in /usr/local/lib/python3.7/dist-packages (from matplotlib!=3.0.0,>=2.0.0->scikit-image>=0.16.1->albumentations==1.1.0) (1.3.2)\n",
            "Requirement already satisfied: six in /usr/local/lib/python3.7/dist-packages (from cycler>=0.10->matplotlib!=3.0.0,>=2.0.0->scikit-image>=0.16.1->albumentations==1.1.0) (1.15.0)\n",
            "Requirement already satisfied: joblib>=0.11 in /usr/local/lib/python3.7/dist-packages (from scikit-learn>=0.19.1->qudida>=0.0.4->albumentations==1.1.0) (1.0.1)\n",
            "Building wheels for collected packages: albumentations\n",
            "  Building wheel for albumentations (setup.py) ... \u001b[?25l\u001b[?25hdone\n",
            "  Created wheel for albumentations: filename=albumentations-1.1.0-py3-none-any.whl size=103057 sha256=3b1c724addff5afa2ed21800c61825c9828ff50995308a39b1ec25383b43f9e3\n",
            "  Stored in directory: /tmp/pip-ephem-wheel-cache-c1t0ssl9/wheels/3a/25/ed/ec3b518e7a332d7f0a3bb37c280e1b784cf2f79b94b3c7d00b\n",
            "Successfully built albumentations\n",
            "Installing collected packages: opencv-python-headless, qudida, albumentations\n",
            "  Attempting uninstall: albumentations\n",
            "    Found existing installation: albumentations 0.1.12\n",
            "    Uninstalling albumentations-0.1.12:\n",
            "      Successfully uninstalled albumentations-0.1.12\n",
            "Successfully installed albumentations-1.1.0 opencv-python-headless-4.5.4.58 qudida-0.0.4\n"
          ]
        }
      ]
    },
    {
      "cell_type": "markdown",
      "metadata": {
        "id": "vRuq5Msthyvt"
      },
      "source": [
        "## Augmentation Factors and Levels\n",
        "\n",
        "The following are the 19 chosen data-augmentation techniques and the one regularization factor \"*Dropout*\" Percent Level, to compare with.  "
      ]
    },
    {
      "cell_type": "markdown",
      "metadata": {
        "id": "g6ah5Z3DfzJS"
      },
      "source": [
        "|Order | Factors | Low | High | Center  |\n",
        "| -: | :- | :-: | :-: | :-: | \n",
        "|1 | *DropoutPercent* | 0 | 50 | 25| \n",
        "|2 | FlipHorizontal | No | Yes | NA| \n",
        "|3 | FlipVertical | No | Yes | NA| \n",
        "|4 | ShiftHorizontal | 0 | 10 | 5| \n",
        "|5 | ShiftVertical | 0 | 10 | 5| \n",
        "|6 | ZoomOut | 0 | 0.2 | 0.1| \n",
        "|7 | Gamma | 0 | 1 | 0.5| \n",
        "|8 | Noise | 0 | 8 | 4| \n",
        "|9 | Blur | 0 | 8 | 4| \n",
        "|10 | FancyPCA | No | Yes | NA| \n",
        "|11 | ChannelShuffle | No | Yes | NA| \n",
        "|12 | HistogramEqualizer | No | Yes | NA| \n",
        "|13 | Rotate | 0 | 30 | 15| \n",
        "|14 | Brighten | 0 | 10 | 5| \n",
        "|15 | Contrast | 0 | 1 | 0.5| \n",
        "|16 | ElasticTransform | 0 | 1 | 0.5| \n",
        "|17 | Darken | 0 | 10 | 5| \n",
        "|18 | RandomCrop | 32 | 16 | 24| \n",
        "|19 | ZoomIn | 0 | 0.2 | 0.1| \n",
        "|20 | ToGray | No | Yes | NA| \n"
      ]
    },
    {
      "cell_type": "markdown",
      "metadata": {
        "id": "xGOpWE9Rh_0O"
      },
      "source": [
        "A 42-run definitive screening design with no blocks is used to see which main effects are most important."
      ]
    },
    {
      "cell_type": "markdown",
      "metadata": {
        "id": "IY-_TvwTnGUT"
      },
      "source": [
        " | Definitive Screening Design Diagnostics  | | \n",
        "| --- | --- | \n",
        " | D Efficiency| 92.46019| \n",
        "| G Efficiency | 81.68744 | \n",
        "| A Efficiency | 91.32396 | \n",
        "| Average Variance of Prediction\t | 0.298038 |\n"
      ]
    },
    {
      "cell_type": "markdown",
      "metadata": {
        "id": "oifCQyBvrIxG"
      },
      "source": [
        "## Standard-Order Definitive Screening Design \n",
        "### Experimental Runs with Low, High, Center Levels (Not Randomized for Visual) \n",
        "\n",
        "  There are 42 runs, for assessing 19 factors.  The Factor Levels are shown as \"0\" for low, \"1\" for high, and \"0.5\" for center points to assess for curvature in the model."
      ]
    },
    {
      "cell_type": "markdown",
      "metadata": {
        "id": "JJrbxtK0rL-9"
      },
      "source": [
        "Run | DropoutPercent | FlipHorizontal | FlipVertical | ShiftHorizontal | ShiftVertical | ZoomOut | Gamma | Noise | Blur | FancyPCA | ChannelShuffle | Histogram Equalizer | Rotate | Contrast | Brighten | Darken | ElasticTransform | RandomCrop | ZoomIn | ToGray | \n",
        "--- | --- | --- | --- | --- | --- | --- | --- | --- | --- | --- | --- | --- | --- | --- | --- | --- | --- | --- | --- | --- |\n",
        "1 | 0.5 | Yes | Yes | 1 | 1 | 1 | 1 | 1 | 1 | Yes | Yes | Yes | 1 | 1 | 1 | 1 | 1 | 1 | 1 | Yes\n",
        "2 | 0.5 | No | No | 0 | 0 | 0 | 0 | 0 | 0 | No | No | No | 0 | 0 | 0 | 0 | 0 | 0 | 0 | No\n",
        "3 | 1 | No | No | 0.5 | 1 | 0 | 0 | 1 | 1 | No | Yes | Yes | 1 | 1 | 0 | 1 | 0 | 1 | 0 | No\n",
        "4 | 0 | Yes | Yes | 0.5 | 0 | 1 | 1 | 0 | 0 | Yes | No | No | 0 | 0 | 1 | 0 | 1 | 0 | 1 | Yes\n",
        "5 | 1 | No | No | 0 | 0.5 | 1 | 0 | 0 | 1 | No | No | Yes | 1 | 1 | 1 | 0 | 1 | 0 | 1 | Yes\n",
        "6 | 0 | Yes | Yes | 1 | 0.5 | 0 | 1 | 1 | 0 | Yes | Yes | No | 0 | 0 | 0 | 1 | 0 | 1 | 0 | No\n",
        "7 | 1 | Yes | No | 1 | 0 | 0.5 | 1 | 0 | 0 | No | No | No | 1 | 1 | 1 | 1 | 0 | 1 | 0 | Yes\n",
        "8 | 0 | No | Yes | 0 | 1 | 0.5 | 0 | 1 | 1 | Yes | Yes | Yes | 0 | 0 | 0 | 0 | 1 | 0 | 1 | No\n",
        "9 | 1 | No | Yes | 1 | 1 | 0 | 0.5 | 1 | 0 | No | No | No | 0 | 1 | 1 | 1 | 1 | 0 | 1 | No\n",
        "10 | 0 | Yes | No | 0 | 0 | 1 | 0.5 | 0 | 1 | Yes | Yes | Yes | 1 | 0 | 0 | 0 | 0 | 1 | 0 | Yes\n",
        "11 | 1 | Yes | No | 0 | 1 | 1 | 0 | 0.5 | 1 | Yes | No | No | 0 | 0 | 1 | 1 | 1 | 1 | 0 | No\n",
        "12 | 0 | No | Yes | 1 | 0 | 0 | 1 | 0.5 | 0 | No | Yes | Yes | 1 | 1 | 0 | 0 | 0 | 0 | 1 | Yes\n",
        "13 | 1 | No | Yes | 0 | 0 | 1 | 1 | 0 | 0.5 | No | Yes | No | 1 | 0 | 0 | 1 | 1 | 1 | 1 | No\n",
        "14 | 0 | Yes | No | 1 | 1 | 0 | 0 | 1 | 0.5 | Yes | No | Yes | 0 | 1 | 1 | 0 | 0 | 0 | 0 | Yes\n",
        "15 | 1 | Yes | No | 0 | 0 | 0 | 1 | 1 | 0 | Yes | No | Yes | 0.5 | 1 | 0 | 0 | 1 | 1 | 1 | No\n",
        "16 | 0 | No | Yes | 1 | 1 | 1 | 0 | 0 | 1 | No | Yes | No | 0.5 | 0 | 1 | 1 | 0 | 0 | 0 | Yes\n",
        "17 | 1 | Yes | Yes | 0 | 0 | 0 | 0 | 1 | 1 | No | Yes | No | 0 | 0.5 | 1 | 0 | 0 | 1 | 1 | Yes\n",
        "18 | 0 | No | No | 1 | 1 | 1 | 1 | 0 | 0 | Yes | No | Yes | 1 | 0.5 | 0 | 1 | 1 | 0 | 0 | No\n",
        "19 | 1 | Yes | Yes | 1 | 0 | 0 | 0 | 0 | 1 | Yes | No | Yes | 1 | 0 | 0.5 | 1 | 0 | 0 | 1 | No\n",
        "20 | 0 | No | No | 0 | 1 | 1 | 1 | 1 | 0 | No | Yes | No | 0 | 1 | 0.5 | 0 | 1 | 1 | 0 | Yes\n",
        "21 | 1 | Yes | Yes | 0 | 1 | 0 | 0 | 0 | 0 | Yes | Yes | No | 1 | 1 | 0 | 0.5 | 1 | 0 | 0 | Yes\n",
        "22 | 0 | No | No | 1 | 0 | 1 | 1 | 1 | 1 | No | No | Yes | 0 | 0 | 1 | 0.5 | 0 | 1 | 1 | No\n",
        "23 | 1 | No | Yes | 1 | 0 | 1 | 0 | 0 | 0 | Yes | Yes | Yes | 0 | 1 | 1 | 0 | 0.5 | 1 | 0 | No\n",
        "24 | 0 | Yes | No | 0 | 1 | 0 | 1 | 1 | 1 | No | No | No | 1 | 0 | 0 | 1 | 0.5 | 0 | 1 | Yes\n",
        "25 | 1 | No | No | 0 | 1 | 0 | 1 | 0 | 0 | Yes | Yes | Yes | 0 | 0 | 1 | 1 | 0 | 0.5 | 1 | Yes\n",
        "26 | 0 | Yes | Yes | 1 | 0 | 1 | 0 | 1 | 1 | No | No | No | 1 | 1 | 0 | 0 | 1 | 0.5 | 0 | No\n",
        "27 | 1 | Yes | No | 1 | 0 | 1 | 0 | 1 | 0 | No | Yes | Yes | 0 | 0 | 0 | 1 | 1 | 0 | 0.5 | Yes\n",
        "28 | 0 | No | Yes | 0 | 1 | 0 | 1 | 0 | 1 | Yes | No | No | 1 | 1 | 1 | 0 | 0 | 1 | 0.5 | No\n",
        "29 | 1 | Yes | Yes | 1 | 1 | 0 | 1 | 0 | 1 | No | No | Yes | 0 | 0 | 0 | 0 | 1 | 1 | 0 | Yes\n",
        "30 | 0 | No | No | 0 | 0 | 1 | 0 | 1 | 0 | Yes | Yes | No | 1 | 1 | 1 | 1 | 0 | 0 | 1 | No\n",
        "31 | 1 | No | Yes | 1 | 1 | 1 | 0 | 1 | 0 | Yes | No | No | 1 | 0 | 0 | 0 | 0 | 1 | 1 | Yes\n",
        "32 | 0 | Yes | No | 0 | 0 | 0 | 1 | 0 | 1 | No | Yes | Yes | 0 | 1 | 1 | 1 | 1 | 0 | 0 | No\n",
        "33 | 1 | Yes | No | 1 | 1 | 1 | 1 | 0 | 1 | Yes | Yes | No | 0 | 1 | 0 | 0 | 0 | 0 | 1 | No\n",
        "34 | 0 | No | Yes | 0 | 0 | 0 | 0 | 1 | 0 | No | No | Yes | 1 | 0 | 1 | 1 | 1 | 1 | 0 | Yes\n",
        "35 | 1 | Yes | Yes | 0 | 1 | 1 | 1 | 1 | 0 | No | Yes | Yes | 1 | 0 | 1 | 0 | 0 | 0 | 0 | No\n",
        "36 | 0 | No | No | 1 | 0 | 0 | 0 | 0 | 1 | Yes | No | No | 0 | 1 | 0 | 1 | 1 | 1 | 1 | Yes\n",
        "37 | 1 | No | Yes | 0 | 0 | 1 | 1 | 1 | 1 | Yes | No | Yes | 0 | 1 | 0 | 1 | 0 | 0 | 0 | Yes\n",
        "38 | 0 | Yes | No | 1 | 1 | 0 | 0 | 0 | 0 | No | Yes | No | 1 | 0 | 1 | 0 | 1 | 1 | 1 | No\n",
        "39 | 1 | No | No | 1 | 0 | 0 | 1 | 1 | 1 | Yes | Yes | No | 1 | 0 | 1 | 0 | 1 | 0 | 0 | Yes\n",
        "40 | 0 | Yes | Yes | 0 | 1 | 1 | 0 | 0 | 0 | No | No | Yes | 0 | 1 | 0 | 1 | 0 | 1 | 1 | No\n",
        "41 | 0.5 | No | No | 0.5 | 0.5 | 0.5 | 0.5 | 0.5 | 0.5 | No | No | No | 0.5 | 0.5 | 0.5 | 0.5 | 0.5 | 0.5 | 0.5 | No\n",
        "42 | 0.5 | Yes | Yes | 0.5 | 0.5 | 0.5 | 0.5 | 0.5 | 0.5 | Yes | Yes | Yes | 0.5 | 0.5 | 0.5 | 0.5 | 0.5 | 0.5 | 0.5 | Yes\n",
        "\n"
      ]
    },
    {
      "cell_type": "markdown",
      "metadata": {
        "id": "CWzcz2a7zoUN"
      },
      "source": [
        "## Randomized Definitive Screening Design in 42-Runs\n",
        "### Experimental Runs with Low, High, Center Levels (Randomized) \n",
        "\n",
        "Run 1 below does not equate with Run 1 in the table above"
      ]
    },
    {
      "cell_type": "markdown",
      "metadata": {
        "id": "wOy-4UxLIygE"
      },
      "source": [
        "ExperimentalRun | DropoutPercent | FlipHorizontal | FlipVertical | ShiftHorizontal | ShiftVertical | ZoomOut | Gamma | Noise | Blur | FancyPCA | ChannelShuffle | Histogram Equalizer | Rotate | Contrast | Brighten | Darken | ElasticTransform | RandomCrop | ZoomIn | ToGray\n",
        "--- | --- | --- | --- | --- | --- | --- | --- | --- | --- | --- | --- | --- | --- | --- | --- | --- | --- | --- | --- | ---\n",
        "1 | 1 | Yes | No | 1 | 0 | 0.5 | 1 | 0 | 0 | No | No | No | 1 | 1 | 1 | 1 | 0 | 1 | 0 | Yes\n",
        "2 | 1 | No | Yes | 1 | 1 | 0 | 0.5 | 1 | 0 | No | No | No | 0 | 1 | 1 | 1 | 1 | 0 | 1 | No\n",
        "3 | 1 | Yes | Yes | 0 | 0 | 0 | 0 | 1 | 1 | No | Yes | No | 0 | 0.5 | 1 | 0 | 0 | 1 | 1 | Yes\n",
        "4 | 0 | No | Yes | 0 | 1 | 0 | 1 | 0 | 1 | Yes | No | No | 1 | 1 | 1 | 0 | 0 | 1 | 0.5 | No\n",
        "5 | 1 | Yes | No | 0 | 1 | 1 | 0 | 0.5 | 1 | Yes | No | No | 0 | 0 | 1 | 1 | 1 | 1 | 0 | No\n",
        "6 | 0 | Yes | No | 0 | 0 | 1 | 0.5 | 0 | 1 | Yes | Yes | Yes | 1 | 0 | 0 | 0 | 0 | 1 | 0 | Yes\n",
        "7 | 0 | No | No | 1 | 0 | 0 | 0 | 0 | 1 | Yes | No | No | 0 | 1 | 0 | 1 | 1 | 1 | 1 | Yes\n",
        "8 | 0.5 | Yes | Yes | 0.5 | 0.5 | 0.5 | 0.5 | 0.5 | 0.5 | Yes | Yes | Yes | 0.5 | 0.5 | 0.5 | 0.5 | 0.5 | 0.5 | 0.5 | Yes\n",
        "9 | 0 | No | No | 0 | 0 | 1 | 0 | 1 | 0 | Yes | Yes | No | 1 | 1 | 1 | 1 | 0 | 0 | 1 | No\n",
        "10 | 0 | No | No | 1 | 0 | 1 | 1 | 1 | 1 | No | No | Yes | 0 | 0 | 1 | 0.5 | 0 | 1 | 1 | No\n",
        "11 | 0 | No | Yes | 1 | 1 | 1 | 0 | 0 | 1 | No | Yes | No | 0.5 | 0 | 1 | 1 | 0 | 0 | 0 | Yes\n",
        "12 | 1 | Yes | No | 1 | 1 | 1 | 1 | 0 | 1 | Yes | Yes | No | 0 | 1 | 0 | 0 | 0 | 0 | 1 | No\n",
        "13 | 1 | Yes | Yes | 1 | 0 | 0 | 0 | 0 | 1 | Yes | No | Yes | 1 | 0 | 0.5 | 1 | 0 | 0 | 1 | No\n",
        "14 | 1 | Yes | Yes | 1 | 1 | 0 | 1 | 0 | 1 | No | No | Yes | 0 | 0 | 0 | 0 | 1 | 1 | 0 | Yes\n",
        "15 | 1 | No | No | 1 | 0 | 0 | 1 | 1 | 1 | Yes | Yes | No | 1 | 0 | 1 | 0 | 1 | 0 | 0 | Yes\n",
        "16 | 0.5 | Yes | Yes | 1 | 1 | 1 | 1 | 1 | 1 | Yes | Yes | Yes | 1 | 1 | 1 | 1 | 1 | 1 | 1 | Yes\n",
        "17 | 0 | Yes | No | 1 | 1 | 0 | 0 | 0 | 0 | No | Yes | No | 1 | 0 | 1 | 0 | 1 | 1 | 1 | No\n",
        "18 | 0 | Yes | Yes | 1 | 0 | 1 | 0 | 1 | 1 | No | No | No | 1 | 1 | 0 | 0 | 1 | 0.5 | 0 | No\n",
        "19 | 0 | No | Yes | 1 | 0 | 0 | 1 | 0.5 | 0 | No | Yes | Yes | 1 | 1 | 0 | 0 | 0 | 0 | 1 | Yes\n",
        "20 | 1 | No | Yes | 0 | 0 | 1 | 1 | 0 | 0.5 | No | Yes | No | 1 | 0 | 0 | 1 | 1 | 1 | 1 | No\n",
        "21 | 0 | No | Yes | 0 | 0 | 0 | 0 | 1 | 0 | No | No | Yes | 1 | 0 | 1 | 1 | 1 | 1 | 0 | Yes\n",
        "22 | 0 | No | No | 1 | 1 | 1 | 1 | 0 | 0 | Yes | No | Yes | 1 | 0.5 | 0 | 1 | 1 | 0 | 0 | No\n",
        "23 | 1 | No | No | 0.5 | 1 | 0 | 0 | 1 | 1 | No | Yes | Yes | 1 | 1 | 0 | 1 | 0 | 1 | 0 | No\n",
        "24 | 0 | Yes | No | 0 | 0 | 0 | 1 | 0 | 1 | No | Yes | Yes | 0 | 1 | 1 | 1 | 1 | 0 | 0 | No\n",
        "25 | 1 | Yes | Yes | 0 | 1 | 1 | 1 | 1 | 0 | No | Yes | Yes | 1 | 0 | 1 | 0 | 0 | 0 | 0 | No\n",
        "26 | 1 | Yes | No | 1 | 0 | 1 | 0 | 1 | 0 | No | Yes | Yes | 0 | 0 | 0 | 1 | 1 | 0 | 0.5 | Yes\n",
        "27 | 0 | Yes | No | 0 | 1 | 0 | 1 | 1 | 1 | No | No | No | 1 | 0 | 0 | 1 | 0.5 | 0 | 1 | Yes\n",
        "28 | 0.5 | No | No | 0 | 0 | 0 | 0 | 0 | 0 | No | No | No | 0 | 0 | 0 | 0 | 0 | 0 | 0 | No\n",
        "29 | 1 | No | Yes | 1 | 1 | 1 | 0 | 1 | 0 | Yes | No | No | 1 | 0 | 0 | 0 | 0 | 1 | 1 | Yes\n",
        "30 | 0 | Yes | Yes | 0 | 1 | 1 | 0 | 0 | 0 | No | No | Yes | 0 | 1 | 0 | 1 | 0 | 1 | 1 | No\n",
        "31 | 0 | No | Yes | 0 | 1 | 0.5 | 0 | 1 | 1 | Yes | Yes | Yes | 0 | 0 | 0 | 0 | 1 | 0 | 1 | No\n",
        "32 | 1 | Yes | No | 0 | 0 | 0 | 1 | 1 | 0 | Yes | No | Yes | 0.5 | 1 | 0 | 0 | 1 | 1 | 1 | No\n",
        "33 | 0 | No | No | 0 | 1 | 1 | 1 | 1 | 0 | No | Yes | No | 0 | 1 | 0.5 | 0 | 1 | 1 | 0 | Yes\n",
        "34 | 1 | No | Yes | 0 | 0 | 1 | 1 | 1 | 1 | Yes | No | Yes | 0 | 1 | 0 | 1 | 0 | 0 | 0 | Yes\n",
        "35 | 1 | No | No | 0 | 1 | 0 | 1 | 0 | 0 | Yes | Yes | Yes | 0 | 0 | 1 | 1 | 0 | 0.5 | 1 | Yes\n",
        "36 | 1 | No | No | 0 | 0.5 | 1 | 0 | 0 | 1 | No | No | Yes | 1 | 1 | 1 | 0 | 1 | 0 | 1 | Yes\n",
        "37 | 0 | Yes | Yes | 0.5 | 0 | 1 | 1 | 0 | 0 | Yes | No | No | 0 | 0 | 1 | 0 | 1 | 0 | 1 | Yes\n",
        "38 | 1 | No | Yes | 1 | 0 | 1 | 0 | 0 | 0 | Yes | Yes | Yes | 0 | 1 | 1 | 0 | 0.5 | 1 | 0 | No\n",
        "39 | 1 | Yes | Yes | 0 | 1 | 0 | 0 | 0 | 0 | Yes | Yes | No | 1 | 1 | 0 | 0.5 | 1 | 0 | 0 | Yes\n",
        "40 | 0 | Yes | No | 1 | 1 | 0 | 0 | 1 | 0.5 | Yes | No | Yes | 0 | 1 | 1 | 0 | 0 | 0 | 0 | Yes\n",
        "41 | 0 | Yes | Yes | 1 | 0.5 | 0 | 1 | 1 | 0 | Yes | Yes | No | 0 | 0 | 0 | 1 | 0 | 1 | 0 | No\n",
        "42 | 0.5 | No | No | 0.5 | 0.5 | 0.5 | 0.5 | 0.5 | 0.5 | No | No | No | 0.5 | 0.5 | 0.5 | 0.5 | 0.5 | 0.5 | 0.5 | No\n"
      ]
    },
    {
      "cell_type": "markdown",
      "metadata": {
        "id": "9n4b-_j3rAl9"
      },
      "source": [
        "Need to make a dataframe with each factors \"high\" \"low\" and \"center\" points to reference (**df_factors**)"
      ]
    },
    {
      "cell_type": "code",
      "metadata": {
        "colab": {
          "base_uri": "https://localhost:8080/"
        },
        "id": "-tXwd0syrF8M",
        "outputId": "1bc06fdb-f5e5-4684-e0d2-f674a83f47ca"
      },
      "source": [
        "import pandas as pd\n",
        "\n",
        "ls_continuous_factors = [\"Dropout\" , \"ShiftH\" , \"ShiftV\" , \"ZoomOut\" , \"Gamma\" , \"Noise\" , \"Blur\" , \"Rotate\" , \"Contrast\" , \"Brighten\" , \"Darken\" , \"ElasticTransform\" , \"RandomCrop\" , \"ZoomIn\"]\n",
        "# DataFrame for Factor Levels\n",
        "df_factors = pd.DataFrame( [[40,0,0,0,0,0,0,0,0,0,0,0,32,0], [60, .20,.20, -0.15,  10,8,8,30,1,10,1,10,24,0.15], [50,.1,.1, -0.075,         5,4,4,15,0.5,5,0.5,5,28,0.075]], \n",
        "                          index = [\"Low\", \"High\", \"Center\"], columns = ls_continuous_factors )\n",
        "\n",
        "print(\"To see a continuous factors level like Noise and Low  type df_factors[\\\"Noise\\\"][\\\"Low\\\"]: \", df_factors[\"Noise\"][\"Low\"], \"\\n\")\n",
        "print(\"\\nTo see all factors level from a factor like \\\"Noise\\\", type df_factors[\\\"Noise\\\"]:\\n\",  df_factors[\"Noise\"])\n",
        "print(\"\\nTo see all given Factors' settings for a certain level like \\\"High\\\", type df_factors.loc[\\\"High\\\", :]): \\n\",  df_factors.loc[\"High\", :])\n",
        "\n",
        "# Changed crop sizes 10-28-2020 to High: 24, 28, Low: 32\n",
        "# Changed Shift X and Shift Y to Center: 0.1,  High: 0.2\n",
        "# Changed Zoom Out to High -0.15,  Center: -0.075\n",
        "# Changed Zoom In to High 0.15,  Center: 0.075\n",
        "# Changed Gamma to 100+gamma where gamma_low = 0, gamma_center=5, gamma_high = 10\n",
        "# Changed Noise High to 50 and Center to 25\n",
        "df_factors[\"Noise\"][\"High\"] = 50\n",
        "df_factors[\"Noise\"][\"Center\"] = 25\n",
        "\n",
        "#Changed blur because it's effect seems to powerful on 32 by 32\n",
        "df_factors[\"Blur\"][\"Center\"] = 1 \n",
        "df_factors[\"Blur\"][\"High\"] = 3  #must be odd\n",
        "\n",
        "\n",
        "#Dropout will have a massive effect if it varies from 0 to 50 so I made the intervals a bit tighter\n",
        "df_factors[\"Dropout\"][\"Low\"] = 40 \n",
        "df_factors[\"Dropout\"][\"High\"] = 60\n",
        "df_factors[\"Dropout\"][\"Center\"] = 50 \n",
        "\n",
        "#Rotate:  30 is too high\n",
        "df_factors[\"Rotate\"][\"High\"] = 15\n",
        "df_factors[\"Rotate\"][\"Center\"] = 7\n",
        "\n",
        "\n",
        "#Brightness\n",
        "df_factors[\"Brighten\"][\"High\"] = 0.1\n",
        "df_factors[\"Brighten\"][\"Center\"] = 0.05\n",
        "\n",
        "\n",
        "#Darken\n",
        "df_factors[\"Darken\"][\"High\"] = 0.1\n",
        "df_factors[\"Darken\"][\"Center\"] = 0.05\n",
        "\n",
        "\n",
        "#Contrast\n",
        "df_factors[\"Contrast\"][\"High\"] = 0.1\n",
        "df_factors[\"Contrast\"][\"Center\"] = 0.05\n",
        "\n",
        "\n",
        "#Shift H\n",
        "df_factors[\"ShiftH\"][\"High\"] = 0.1\n",
        "df_factors[\"ShiftH\"][\"Center\"] = 0.05\n",
        "\n",
        "#Shift V\n",
        "df_factors[\"ShiftV\"][\"High\"] = 0.1\n",
        "df_factors[\"ShiftV\"][\"Center\"] = 0.05"
      ],
      "execution_count": 578,
      "outputs": [
        {
          "output_type": "execute_result",
          "data": {
            "text/plain": [
              "Low       0.0\n",
              "High      0.2\n",
              "Center    0.1\n",
              "Name: ShiftH, dtype: float64"
            ]
          },
          "metadata": {},
          "execution_count": 578
        }
      ]
    },
    {
      "cell_type": "markdown",
      "metadata": {
        "id": "bxI97SD1NF2A"
      },
      "source": [
        "Experimental Run Order DataFrame"
      ]
    },
    {
      "cell_type": "code",
      "metadata": {
        "colab": {
          "base_uri": "https://localhost:8080/"
        },
        "id": "-vaduYZTNGPI",
        "outputId": "eb0f74cd-90e0-4573-eae3-f66e9f678a73"
      },
      "source": [
        " ls_all_factors = [\"Dropout\", \"FlipH\", \"FlipV\", \"ShiftH\", \"ShiftV\", \"ZoomOut\", \"Gamma\", \"Noise\", \"Blur\", \"FancyPCA\", \"ChannelShuffle\", \"HistogramEqualizer\",\n",
        "\"Rotate\", \"Contrast\", \"Brighten\", \"Darken\", \"ElasticTransform\", \"RandomCrop\", \"ZoomIn\", \"ToGray\"]\n",
        "\t\n",
        "\n",
        "df_experimentalruns = pd.DataFrame(\t[\n",
        "[\"High\", \"On\", \"Off\", \"High\", \"Low\", \"Center\", \"High\", \"Low\", \"Low\", \"Off\", \"Off\", \"Off\", \"High\", \"High\", \"High\", \"High\", \"Low\", \"High\", \"Low\", \"On\"],\n",
        "[\"High\", \"Off\", \"On\", \"High\", \"High\", \"Low\", \"Center\", \"High\", \"Low\", \"Off\", \"Off\", \"Off\", \"Low\", \"High\", \"High\", \"High\", \"High\", \"Low\", \"High\", \"Off\"],\n",
        "[\"High\", \"On\", \"On\", \"Low\", \"Low\", \"Low\", \"Low\", \"High\", \"High\", \"Off\", \"On\", \"Off\", \"Low\", \"Center\", \"High\", \"Low\", \"Low\", \"High\", \"High\", \"On\"],\n",
        "[\"Low\", \"Off\", \"On\", \"Low\", \"High\", \"Low\", \"High\", \"Low\", \"High\", \"On\", \"Off\", \"Off\", \"High\", \"High\", \"High\", \"Low\", \"Low\", \"High\", \"Center\", \"Off\"],\n",
        "[\"High\", \"On\", \"Off\", \"Low\", \"High\", \"High\", \"Low\", \"Center\", \"High\", \"On\", \"Off\", \"Off\", \"Low\", \"Low\", \"High\", \"High\", \"High\", \"High\", \"Low\", \"Off\"],\n",
        "[\"Low\", \"On\", \"Off\", \"Low\", \"Low\", \"High\", \"Center\", \"Low\", \"High\", \"On\", \"On\", \"On\", \"High\", \"Low\", \"Low\", \"Low\", \"Low\", \"High\", \"Low\", \"On\"],\n",
        "[\"Low\", \"Off\", \"Off\", \"High\", \"Low\", \"Low\", \"Low\", \"Low\", \"High\", \"On\", \"Off\", \"Off\", \"Low\", \"High\", \"Low\", \"High\", \"High\", \"High\", \"High\", \"On\"],\n",
        "[\"Center\", \"On\", \"On\", \"Center\", \"Center\", \"Center\", \"Center\", \"Center\", \"Center\", \"On\", \"On\", \"On\", \"Center\", \"Center\", \"Center\", \"Center\", \"Center\", \"Center\", \"Center\", \"On\"],\n",
        "[\"Low\", \"Off\", \"Off\", \"Low\", \"Low\", \"High\", \"Low\", \"High\", \"Low\", \"On\", \"On\", \"Off\", \"High\", \"High\", \"High\", \"High\", \"Low\", \"Low\", \"High\", \"Off\"],\n",
        "[\"Low\", \"Off\", \"Off\", \"High\", \"Low\", \"High\", \"High\", \"High\", \"High\", \"Off\", \"Off\", \"On\", \"Low\", \"Low\", \"High\", \"Center\", \"Low\", \"High\", \"High\", \"Off\"],\n",
        "[\"Low\", \"Off\", \"On\", \"High\", \"High\", \"High\", \"Low\", \"Low\", \"High\", \"Off\", \"On\", \"Off\", \"Center\", \"Low\", \"High\", \"High\", \"Low\", \"Low\", \"Low\", \"On\"],\n",
        "[\"High\", \"On\", \"Off\", \"High\", \"High\", \"High\", \"High\", \"Low\", \"High\", \"On\", \"On\", \"Off\", \"Low\", \"High\", \"Low\", \"Low\", \"Low\", \"Low\", \"High\", \"Off\"],\n",
        "[\"High\", \"On\", \"On\", \"High\", \"Low\", \"Low\", \"Low\", \"Low\", \"High\", \"On\", \"Off\", \"On\", \"High\", \"Low\", \"Center\", \"High\", \"Low\", \"Low\", \"High\", \"Off\"],\n",
        "[\"High\", \"On\", \"On\", \"High\", \"High\", \"Low\", \"High\", \"Low\", \"High\", \"Off\", \"Off\", \"On\", \"Low\", \"Low\", \"Low\", \"Low\", \"High\", \"High\", \"Low\", \"On\"],\n",
        "[\"High\", \"Off\", \"Off\", \"High\", \"Low\", \"Low\", \"High\", \"High\", \"High\", \"On\", \"On\", \"Off\", \"High\", \"Low\", \"High\", \"Low\", \"High\", \"Low\", \"Low\", \"On\"],\n",
        "[\"Center\", \"On\", \"On\", \"High\", \"High\", \"High\", \"High\", \"High\", \"High\", \"On\", \"On\", \"On\", \"High\", \"High\", \"High\", \"High\", \"High\", \"High\", \"High\", \"On\"],\n",
        "[\"Low\", \"On\", \"Off\", \"High\", \"High\", \"Low\", \"Low\", \"Low\", \"Low\", \"Off\", \"On\", \"Off\", \"High\", \"Low\", \"High\", \"Low\", \"High\", \"High\", \"High\", \"Off\"],\n",
        "[\"Low\", \"On\", \"On\", \"High\", \"Low\", \"High\", \"Low\", \"High\", \"High\", \"Off\", \"Off\", \"Off\", \"High\", \"High\", \"Low\", \"Low\", \"High\", \"Center\", \"Low\", \"Off\"],\n",
        "[\"Low\", \"Off\", \"On\", \"High\", \"Low\", \"Low\", \"High\", \"Center\", \"Low\", \"Off\", \"On\", \"On\", \"High\", \"High\", \"Low\", \"Low\", \"Low\", \"Low\", \"High\", \"On\"],\n",
        "[\"High\", \"Off\", \"On\", \"Low\", \"Low\", \"High\", \"High\", \"Low\", \"Center\", \"Off\", \"On\", \"Off\", \"High\", \"Low\", \"Low\", \"High\", \"High\", \"High\", \"High\", \"Off\"],\n",
        "[\"Low\", \"Off\", \"On\", \"Low\", \"Low\", \"Low\", \"Low\", \"High\", \"Low\", \"Off\", \"Off\", \"On\", \"High\", \"Low\", \"High\", \"High\", \"High\", \"High\", \"Low\", \"On\"],\n",
        "[\"Low\", \"Off\", \"Off\", \"High\", \"High\", \"High\", \"High\", \"Low\", \"Low\", \"On\", \"Off\", \"On\", \"High\", \"Center\", \"Low\", \"High\", \"High\", \"Low\", \"Low\", \"Off\"],\n",
        "[\"High\", \"Off\", \"Off\", \"Center\", \"High\", \"Low\", \"Low\", \"High\", \"High\", \"Off\", \"On\", \"On\", \"High\", \"High\", \"Low\", \"High\", \"Low\", \"High\", \"Low\", \"Off\"],\n",
        "[\"Low\", \"On\", \"Off\", \"Low\", \"Low\", \"Low\", \"High\", \"Low\", \"High\", \"Off\", \"On\", \"On\", \"Low\", \"High\", \"High\", \"High\", \"High\", \"Low\", \"Low\", \"Off\"],\n",
        "[\"High\", \"On\", \"On\", \"Low\", \"High\", \"High\", \"High\", \"High\", \"Low\", \"Off\", \"On\", \"On\", \"High\", \"Low\", \"High\", \"Low\", \"Low\", \"Low\", \"Low\", \"Off\"],\n",
        "[\"High\", \"On\", \"Off\", \"High\", \"Low\", \"High\", \"Low\", \"High\", \"Low\", \"Off\", \"On\", \"On\", \"Low\", \"Low\", \"Low\", \"High\", \"High\", \"Low\", \"Center\", \"On\"],\n",
        "[\"Low\", \"On\", \"Off\", \"Low\", \"High\", \"Low\", \"High\", \"High\", \"High\", \"Off\", \"Off\", \"Off\", \"High\", \"Low\", \"Low\", \"High\", \"Center\", \"Low\", \"High\", \"On\"],\n",
        "[\"Center\", \"Off\", \"Off\", \"Low\", \"Low\", \"Low\", \"Low\", \"Low\", \"Low\", \"Off\", \"Off\", \"Off\", \"Low\", \"Low\", \"Low\", \"Low\", \"Low\", \"Low\", \"Low\", \"Off\"],\n",
        "[\"High\", \"Off\", \"On\", \"High\", \"High\", \"High\", \"Low\", \"High\", \"Low\", \"On\", \"Off\", \"Off\", \"High\", \"Low\", \"Low\", \"Low\", \"Low\", \"High\", \"High\", \"On\"],\n",
        "[\"Low\", \"On\", \"On\", \"Low\", \"High\", \"High\", \"Low\", \"Low\", \"Low\", \"Off\", \"Off\", \"On\", \"Low\", \"High\", \"Low\", \"High\", \"Low\", \"High\", \"High\", \"Off\"],\n",
        "[\"Low\", \"Off\", \"On\", \"Low\", \"High\", \"Center\", \"Low\", \"High\", \"High\", \"On\", \"On\", \"On\", \"Low\", \"Low\", \"Low\", \"Low\", \"High\", \"Low\", \"High\", \"Off\"],\n",
        "[\"High\", \"On\", \"Off\", \"Low\", \"Low\", \"Low\", \"High\", \"High\", \"Low\", \"On\", \"Off\", \"On\", \"Center\", \"High\", \"Low\", \"Low\", \"High\", \"High\", \"High\", \"Off\"],\n",
        "[\"Low\", \"Off\", \"Off\", \"Low\", \"High\", \"High\", \"High\", \"High\", \"Low\", \"Off\", \"On\", \"Off\", \"Low\", \"High\", \"Center\", \"Low\", \"High\", \"High\", \"Low\", \"On\"],\n",
        "[\"High\", \"Off\", \"On\", \"Low\", \"Low\", \"High\", \"High\", \"High\", \"High\", \"On\", \"Off\", \"On\", \"Low\", \"High\", \"Low\", \"High\", \"Low\", \"Low\", \"Low\", \"On\"],\n",
        "[\"High\", \"Off\", \"Off\", \"Low\", \"High\", \"Low\", \"High\", \"Low\", \"Low\", \"On\", \"On\", \"On\", \"Low\", \"Low\", \"High\", \"High\", \"Low\", \"Center\", \"High\", \"On\"],\n",
        "[\"High\", \"Off\", \"Off\", \"Low\", \"Center\", \"High\", \"Low\", \"Low\", \"High\", \"Off\", \"Off\", \"On\", \"High\", \"High\", \"High\", \"Low\", \"High\", \"Low\", \"High\", \"On\"],\n",
        "[\"Low\", \"On\", \"On\", \"Center\", \"Low\", \"High\", \"High\", \"Low\", \"Low\", \"On\", \"Off\", \"Off\", \"Low\", \"Low\", \"High\", \"Low\", \"High\", \"Low\", \"High\", \"On\"],\n",
        "[\"High\", \"Off\", \"On\", \"High\", \"Low\", \"High\", \"Low\", \"Low\", \"Low\", \"On\", \"On\", \"On\", \"Low\", \"High\", \"High\", \"Low\", \"Center\", \"High\", \"Low\", \"Off\"],\n",
        "[\"High\", \"On\", \"On\", \"Low\", \"High\", \"Low\", \"Low\", \"Low\", \"Low\", \"On\", \"On\", \"Off\", \"High\", \"High\", \"Low\", \"Center\", \"High\", \"Low\", \"Low\", \"On\"],\n",
        "[\"Low\", \"On\", \"Off\", \"High\", \"High\", \"Low\", \"Low\", \"High\", \"Center\", \"On\", \"Off\", \"On\", \"Low\", \"High\", \"High\", \"Low\", \"Low\", \"Low\", \"Low\", \"On\"],\n",
        "[\"Low\", \"On\", \"On\", \"High\", \"Center\", \"Low\", \"High\", \"High\", \"Low\", \"On\", \"On\", \"Off\", \"Low\", \"Low\", \"Low\", \"High\", \"Low\", \"High\", \"Low\", \"Off\"],\n",
        "[\"Center\", \"Off\", \"Off\", \"Center\", \"Center\", \"Center\", \"Center\", \"Center\", \"Center\", \"Off\", \"Off\", \"Off\", \"Center\", \"Center\", \"Center\", \"Center\", \"Center\", \"Center\", \"Center\", \"Off\"]],\n",
        " index=[1, 2, 3, 4, 5, 6, 7, 8, 9, 10, 11, 12, 13, 14, 15, 16, 17, 18, 19, 20, 21, 22, 23, 24, 25, 26, 27, 28, 29, 30, 31, 32, 33, 34, 35, 36, 37, 38, 39, 40, 41, 42], \n",
        "                                   columns = ls_all_factors)\n",
        "\t\n",
        "#print(df_experimentalruns)\n",
        "#print(\"To reference experimental run 1, type df_experimentalruns.loc[1,:] \\n \", df_experimentalruns.loc[1,:])\n",
        "#print(\"To convert high-low values to experimental values use code:\" )\n",
        "# print(\"Noise level on Run 1: \", df_factors[\"Noise\"][df_experimentalruns.loc[1,\"Noise\"]] )\n",
        "\n",
        "# To run through the entire design matrix uncomment the line below\n",
        "#for run in range(1,43):\n",
        "run = 10\n",
        "print(\"Run \", run, \" -------- \\n\")\n",
        "for factor_name in ls_all_factors:\n",
        "  if factor_name in ls_continuous_factors:\n",
        "    print(factor_name[0:6], \"\\t \", df_factors[factor_name][df_experimentalruns.loc[run,factor_name]])\n",
        "  else:\n",
        "    if df_experimentalruns.loc[run,factor_name]==\"On\":\n",
        "      print(factor_name[0:6], \"\\t \", 0.5) #Categorical Factor on means apply 50%\n",
        "    else:\n",
        "      print(factor_name[0:6], \"\\t \", 0)    #Categorical Factor OFF  means apply 0%\n"
      ],
      "execution_count": 47,
      "outputs": [
        {
          "output_type": "stream",
          "name": "stdout",
          "text": [
            "Run  10  -------- \n",
            "\n",
            "Dropou \t  0\n",
            "FlipH \t  0\n",
            "FlipV \t  0\n",
            "ShiftH \t  0.2\n",
            "ShiftV \t  0.0\n",
            "ZoomOu \t  -0.15\n",
            "Gamma \t  10\n",
            "Noise \t  8\n",
            "Blur \t  8\n",
            "FancyP \t  0\n",
            "Channe \t  0\n",
            "Histog \t  0.5\n",
            "Rotate \t  0\n",
            "Contra \t  0.0\n",
            "Bright \t  10\n",
            "Darken \t  0.5\n",
            "Elasti \t  0\n",
            "Random \t  24\n",
            "ZoomIn \t  0.15\n",
            "ToGray \t  0\n"
          ]
        }
      ]
    },
    {
      "cell_type": "markdown",
      "metadata": {
        "id": "skvz-i_c5HN7"
      },
      "source": [
        "## View images from the dataset function (view_image(ds))"
      ]
    },
    {
      "cell_type": "code",
      "metadata": {
        "id": "2WL44kh05HN8"
      },
      "source": [
        "def view_image(ds):\n",
        "    image, label = next(iter(ds)) # extract 1 batch from the dataset\n",
        "    image = image.numpy()\n",
        "    label = label.numpy()\n",
        "    \n",
        "    fig = plt.figure(figsize=(32, 32))\n",
        "    for i in range(5):\n",
        "        ax = fig.add_subplot(1, 5, i+1, xticks=[], yticks=[])\n",
        "        ax.imshow(image[i])\n",
        "        ax.set_title(f\"Label: {label[i]}\")\n",
        "\n",
        "# Using `tf.image` is very efficient to create a pipeline but the disadvantage is that with `tf.image` we can only apply limited amounts of augmentations to our `input data`.\n",
        "# One way to solve is issue is to use `tf.keras` `ImageDataGenerator` class but `albumentations` is faster."
      ],
      "execution_count": 48,
      "outputs": []
    },
    {
      "cell_type": "markdown",
      "metadata": {
        "id": "Nzdx-SEV5HOE"
      },
      "source": [
        "To integrate `albumentations` into our tensorflow pipeline we can create two functions :  \n",
        "- Pipeline to apply `augmentation`.\n",
        "- a function that calls the above function and pass in our data through the pipeline.\n",
        "We can then wrap our 2nd Function under `tf.numpy_function` ."
      ]
    },
    {
      "cell_type": "markdown",
      "metadata": {
        "id": "vH0L97tx5HOF"
      },
      "source": [
        "## Create Pipeline to Process data"
      ]
    },
    {
      "cell_type": "markdown",
      "metadata": {
        "id": "0KsYvz8LXWw5"
      },
      "source": [
        "### Augmentation Functions (transforms = Compose([ ... ])   ) "
      ]
    },
    {
      "cell_type": "code",
      "metadata": {
        "id": "nmKkoddt5HOF"
      },
      "source": [
        "# Instantiate augments\n",
        "IMG_SIZE = 32\n",
        "cat_probability = 1\n",
        "cont_probability = 1\n",
        "random.seed(42)\n",
        "\n",
        "## Pseudocode For Run in Runs:\n",
        "run = 1\n",
        "\n",
        "\n",
        "# for factor_name in ls_all_factors:\n",
        "#   if factor_name in ls_continuous_factors:\n",
        "#     print(factor_name[0:6], \"\\t \", df_factors[factor_name][df_experimentalruns.loc[run,factor_name]])\n",
        "#   else:\n",
        "#     if df_experimentalruns.loc[run,factor_name]==\"On\":\n",
        "#       print(factor_name[0:6], \"\\t \", 0.5) #Categorical Factor on means apply 50%\n",
        "#     else:\n",
        "#       print(factor_name[0:6], \"\\t \", 0)    #Categorical Factor OFF  means apply 0%\n",
        "\n",
        "shift_limit_x_left = 0\n",
        "shift_limit_x_right = 0.1\n",
        "assert shift_limit_x_right > shift_limit_x_left\n",
        "assert shift_limit_x_right < 1  #more than one is damaging\n",
        "\n",
        "shift_limit_y_left = 0\n",
        "shift_limit_y_right = 0.1 \n",
        "assert shift_limit_y_right > shift_limit_y_left\n",
        "assert shift_limit_y_right < 1  #more than one is damaging\n",
        "\n",
        "gamma_left = 100    #100-110, 90-100, 110-120\n",
        "gamma_right = 110   #110, 100, 120\n",
        "assert gamma_right > gamma_left\n",
        "\n",
        "zoom_out_left = -0.1\n",
        "zoom_out_right = -0.05\n",
        "assert zoom_out_right > zoom_out_left\n",
        "\n",
        "noise_left = 0              # df_factors[\"Noise\"][df_experimentalruns.loc[run,\"Noise\"]])\n",
        "noise_right = 20            #  need to change noise to larger number\n",
        "assert noise_right > noise_left\n",
        "\n",
        "\n",
        "blur_left = 0\n",
        "blur_right = 1 #must be integer\n",
        "assert blur_right > blur_left\n",
        "assert blur_right > 0  # must be an integer\n",
        "\n",
        "# Need to add Sharp to the menu of options\n",
        "sharp_left = 0\n",
        "sharp_right = 0.3\n",
        "assert sharp_right > sharp_left\n",
        "\n",
        "\n",
        "contrast_limit_left = 0.05\n",
        "contrast_limit_right = 0.1\n",
        "assert contrast_limit_right > contrast_limit_left\n",
        "\n",
        "brightness_limit_left = 0.05\n",
        "brightness_limit_right = 0.1\n",
        "assert brightness_limit_right > brightness_limit_left\n",
        "\n",
        "darkness_limit_left = -0.1\n",
        "darkness_limit_right = -0.05\n",
        "assert darkness_limit_right > darkness_limit_left\n",
        "\n",
        "\n",
        "\n",
        "rotate_left  = 10\n",
        "rotate_right = 15\n",
        "assert rotate_right > rotate_left\n",
        "\n",
        "crop_value = 24\n",
        "\n",
        "zoom_in_left = 0.10\n",
        "zoom_in_right = 0.15\n",
        "assert zoom_in_right > zoom_in_left\n",
        "assert zoom_in_right < 1.0\n",
        "\n",
        "\n",
        "transforms = A.Compose([\n",
        "                  \n",
        "      A.HorizontalFlip(p=cat_probability),\n",
        "      #A.VerticalFlip(p=cat_probability),\n",
        "      \n",
        "      # Shift Horizontally Right or Shift Horizontally Left\n",
        "      A.OneOf([\n",
        "                A.geometric.ShiftScaleRotate(rotate_limit=0, shift_limit_y=0, \n",
        "                                                 shift_limit_x=(shift_limit_x_left,shift_limit_x_right), \n",
        "                                                 scale_limit=0, border_mode=cv2.BORDER_CONSTANT, value=0),    \n",
        "                A.geometric.ShiftScaleRotate(rotate_limit=0, shift_limit_y=0, \n",
        "                                                 shift_limit_x=(-shift_limit_x_right,-shift_limit_x_left), \n",
        "                                                 scale_limit=0, border_mode=cv2.BORDER_CONSTANT, value=0)], p=cont_probability),\n",
        "      \n",
        "      \n",
        "      # Shift VERTICALLY  up or down \n",
        "      A.OneOf([\n",
        "               A.geometric.ShiftScaleRotate(rotate_limit=0, shift_limit_y=(shift_limit_y_left,shift_limit_y_right), shift_limit_x=0, scale_limit=0, border_mode=cv2.BORDER_CONSTANT, value=0),   \n",
        "               A.geometric.ShiftScaleRotate(rotate_limit=0, shift_limit_y=(-shift_limit_y_right, -shift_limit_y_left), shift_limit_x=0, scale_limit=0, border_mode=cv2.BORDER_CONSTANT, value=0)], p =cont_probability) , \n",
        "\n",
        "      # Zoom Out\n",
        "      A.geometric.ShiftScaleRotate(rotate_limit=0,  shift_limit_y=0, shift_limit_x=0, scale_limit=(zoom_out_left,zoom_out_right), border_mode=cv2.BORDER_CONSTANT, value=0, p=cont_probability),    #Zoom Out safe: scale_limit=(-0.15,-0.1)\n",
        "\n",
        "      #GAMMA\n",
        "      A.transforms.RandomGamma(gamma_limit=(gamma_left,gamma_right), p=cat_probability),  \n",
        "      \n",
        "      #NOISE\n",
        "      A.transforms.GaussNoise(var_limit=(noise_left,noise_right), p=cont_probability),  \n",
        "\n",
        "      #BLUR\n",
        "      A.transforms.GaussianBlur(blur_limit=(blur_left,blur_right), sigma_limit=(0.001,0.001), p=cont_probability),  #Blur\n",
        "\n",
        "      #Need to Add Sharpen TO DOE\n",
        "      #A.transforms.Sharpen(alpha=(sharp_left,sharp_right), lightness=(0.5, 1.0), p=cont_probability),  #AntiBlur\n",
        "\n",
        "      #FANCY PCA\n",
        "      A.transforms.FancyPCA(alpha=0.1, p=cat_probability),                    # FancyPCA Amount to perturn eigenvalues not Categorical\n",
        "      \n",
        "      #CHANNELSHUFFLE\n",
        "      A.transforms.ChannelShuffle(p=cat_probability),  #this is prob going to ruin accuracy\n",
        "\n",
        "      #Contrast\n",
        "      A.transforms.RandomBrightnessContrast(brightness_limit=(0,0), contrast_limit=(contrast_limit_left,contrast_limit_right), p=cont_probability),       \n",
        "\n",
        "      #Brightness\n",
        "      A.transforms.RandomBrightnessContrast(brightness_limit=(brightness_limit_left,brightness_limit_right), contrast_limit=(0,0), p=cont_probability),      \n",
        "      \n",
        "      #Darkness\n",
        "      A.transforms.RandomBrightnessContrast(brightness_limit=(darkness_limit_left,darkness_limit_right), p=cont_probability),  #darkness\n",
        "\n",
        "      #Elastic Transform\n",
        "      A.geometric.ElasticTransform(alpha=0.1, sigma=0.001, alpha_affine=0.001, same_dxdy=True, border_mode=cv2.BORDER_CONSTANT, value=0, p=cat_probability),    #Seems more like a blur than a transform?\n",
        "      \n",
        "\n",
        "      #  Rotate CW or CCW\n",
        "      A.OneOf([\n",
        "                    A.geometric.SafeRotate(limit=(rotate_left,rotate_right)),\n",
        "                    A.geometric.SafeRotate(limit=(-rotate_right,-rotate_left))], p=1),\n",
        "     \n",
        "      # #Resize to 32x32 for crop\n",
        "      # A.geometric.Resize(height=32, width=32, p=1),                              \n",
        "\n",
        "      #Central Crop then Pad\n",
        "      A.crops.transforms.CenterCrop(height=crop_value, width=crop_value,  p=cont_probability),       # Crop 24,24 is the extreme\n",
        "      A.transforms.PadIfNeeded(min_height=32, min_width=32,  border_mode=cv2.BORDER_CONSTANT, value=0, p=1),\n",
        "\n",
        "      #Histogram Equalizer\n",
        "      A.transforms.Equalize(p=cat_probability),                                \n",
        "\n",
        "      # Zoom In\n",
        "      A.geometric.ShiftScaleRotate(rotate_limit=0, shift_limit_y=0, shift_limit_x=0, scale_limit=(zoom_in_left,zoom_in_right), border_mode=cv2.BORDER_CONSTANT, value=0, p=cont_probability),  \n",
        "\n",
        "      # Turn Everything Gray\n",
        "      A.transforms.ToGray(p=cat_probability),\n",
        "])  \n",
        "\n"
      ],
      "execution_count": 564,
      "outputs": []
    },
    {
      "cell_type": "markdown",
      "metadata": {
        "id": "6P7iEY6TXcCe"
      },
      "source": [
        "### Augment_Function returns augmented image"
      ]
    },
    {
      "cell_type": "code",
      "metadata": {
        "id": "XucKZYBg5HOI"
      },
      "source": [
        "def aug_fn(image, img_size):\n",
        "    data = {\"image\":image}\n",
        "    aug_data = transforms(**data)\n",
        "    aug_img = aug_data[\"image\"]\n",
        "    aug_img = tf.cast(aug_img/255.0, tf.float32)\n",
        "    aug_img = tf.image.resize(aug_img, size=[img_size, img_size])\n",
        "    return aug_img"
      ],
      "execution_count": 565,
      "outputs": []
    },
    {
      "cell_type": "markdown",
      "metadata": {
        "id": "VBMCft7eXkKL"
      },
      "source": [
        "#### Process_Data (returns augmented image and label)"
      ]
    },
    {
      "cell_type": "code",
      "metadata": {
        "id": "k9wPsk2J5HOK"
      },
      "source": [
        "def process_data(image, label, img_size):\n",
        "    aug_img = tf.numpy_function(func=aug_fn, inp=[image, img_size], Tout=tf.float32)\n",
        "    return aug_img, label"
      ],
      "execution_count": 566,
      "outputs": []
    },
    {
      "cell_type": "markdown",
      "metadata": {
        "id": "JuTDB9vwDQzB"
      },
      "source": [
        "#### Restoring dataset shapes. \n",
        "The datasets loses its shape after applying a tf.numpy_function, so this is necessary for the sequential model and when inheriting from the model class."
      ]
    },
    {
      "cell_type": "code",
      "metadata": {
        "id": "Os3MmtYPDP3z"
      },
      "source": [
        "def set_shapes(img, label, img_shape=(IMG_SIZE,IMG_SIZE,3)):\n",
        "    img.set_shape(img_shape)\n",
        "    label.set_shape([])\n",
        "    return img, label"
      ],
      "execution_count": 567,
      "outputs": []
    },
    {
      "cell_type": "markdown",
      "metadata": {
        "id": "y9-Ozu1vYKnw"
      },
      "source": [
        "#### Apply Augmentations to the Cats_A Dataset"
      ]
    },
    {
      "cell_type": "code",
      "metadata": {
        "id": "wN9TrQXGKezT"
      },
      "source": [
        "\n",
        "if run_model == True:\n",
        "  unbatch_cats_A =(tf.data.Dataset.unbatch(cats_A))\n",
        "else:\n",
        "  unbatch_cats_A = cats_A\n",
        "#No Augmentations \"No Albumentations\"\n",
        "cats_A_noalb = unbatch_cats_A.map(set_shapes, num_parallel_calls=AUTOTUNE).batch(20).prefetch(AUTOTUNE) \n",
        "\n",
        "# Augmentations \"Albumentations\"\n",
        "cats_A_alb = unbatch_cats_A.map(partial(process_data, img_size=IMG_SIZE),\n",
        "                  num_parallel_calls=AUTOTUNE).prefetch(AUTOTUNE)\n",
        " \n",
        "\n",
        "cats_A_alb = cats_A_alb.map(set_shapes, num_parallel_calls=AUTOTUNE).batch(20).prefetch(AUTOTUNE) \n",
        " "
      ],
      "execution_count": 568,
      "outputs": []
    },
    {
      "cell_type": "markdown",
      "metadata": {
        "id": "NWm1aApyhfPz"
      },
      "source": [
        "### View augmented and non augmented images from the cats_A dataset"
      ]
    },
    {
      "cell_type": "code",
      "metadata": {
        "colab": {
          "base_uri": "https://localhost:8080/",
          "height": 221
        },
        "id": "mBhXL7CmMlqy",
        "outputId": "be021b40-040a-4c6a-888b-1c836224c8df"
      },
      "source": [
        "view_image(cats_A_alb)"
      ],
      "execution_count": 569,
      "outputs": [
        {
          "output_type": "display_data",
          "data": {
            "image/png": "[encoded data removed]",
            "text/plain": [
              "<Figure size 2304x2304 with 5 Axes>"
            ]
          },
          "metadata": {}
        }
      ]
    },
    {
      "cell_type": "code",
      "metadata": {
        "colab": {
          "base_uri": "https://localhost:8080/",
          "height": 221
        },
        "id": "yOi2E77RhcUe",
        "outputId": "1fa7de31-f2b5-4b0a-d9a0-c53962641aee"
      },
      "source": [
        "view_image(cats_A_noalb)"
      ],
      "execution_count": 570,
      "outputs": [
        {
          "output_type": "display_data",
          "data": {
            "image/png": "[encoded data removed]",
            "text/plain": [
              "<Figure size 2304x2304 with 5 Axes>"
            ]
          },
          "metadata": {}
        }
      ]
    },
    {
      "cell_type": "markdown",
      "metadata": {
        "id": "lZR8EWg6iFKu"
      },
      "source": [
        "## `Note`: \n",
        "Some `API's` of `tensorflow.keras.Model` might not work, if you dont map the dataset with the set_shapes function."
      ]
    },
    {
      "cell_type": "code",
      "metadata": {
        "colab": {
          "base_uri": "https://localhost:8080/"
        },
        "id": "vW0SQXPZWQUD",
        "outputId": "833c70c1-bcb6-452d-da8c-eeb1afd49ff5"
      },
      "source": [
        "stop_augmentations = time.time()\n",
        "print(stop_augmentations - start_augmentations , \"secs for augmenting data\")"
      ],
      "execution_count": 571,
      "outputs": [
        {
          "output_type": "stream",
          "name": "stdout",
          "text": [
            "6578.323360443115 secs for augmenting data\n"
          ]
        }
      ]
    },
    {
      "cell_type": "markdown",
      "metadata": {
        "id": "L2jwAZW1Gthx"
      },
      "source": [
        "## Train\n"
      ]
    }
  ]
}