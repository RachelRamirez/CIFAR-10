{
  "nbformat": 4,
  "nbformat_minor": 0,
  "metadata": {
    "colab": {
      "name": "Filter.ipynb",
      "provenance": [],
      "include_colab_link": true
    },
    "kernelspec": {
      "name": "python3",
      "display_name": "Python 3"
    },
    "accelerator": "GPU"
  },
  "cells": [
    {
      "cell_type": "markdown",
      "metadata": {
        "id": "view-in-github",
        "colab_type": "text"
      },
      "source": [
        "<a href=\"https://colab.research.google.com/github/RachelRamirez/CIFAR-10/blob/main/Filter.ipynb\" target=\"_parent\"><img src=\"https://colab.research.google.com/assets/colab-badge.svg\" alt=\"Open In Colab\"/></a>"
      ]
    },
    {
      "cell_type": "markdown",
      "metadata": {
        "id": "clsNM6VmYkbd"
      },
      "source": [
        "# Imports"
      ]
    },
    {
      "cell_type": "code",
      "metadata": {
        "id": "51kUNphD_Vj9"
      },
      "source": [
        "import tensorflow as tf\n",
        "import tensorflow_datasets as tfds\n",
        "import matplotlib.pyplot as plt\n",
        "import numpy as np\n",
        "import pandas as pd\n",
        "import seaborn as sns\n",
        "import copy\n",
        "import os\n",
        "import PIL\n",
        "import PIL.Image\n",
        "from tensorflow import keras \n",
        "from tensorflow.keras import layers\n",
        "from tensorflow.keras.models import Sequential\n",
        "# import keras.utils -- dont do this!! it causes problems, \n",
        "from tensorflow.keras.utils import to_categorical  #do this instead!!\n",
        "import random\n",
        "import sklearn\n",
        "from sklearn.metrics import confusion_matrix\n",
        "from sklearn.metrics import ConfusionMatrixDisplay\n",
        "import time\n",
        "\n",
        "tic = time.time()  # Start the timer\n",
        "initial_run = 0\n"
      ],
      "execution_count": 1,
      "outputs": []
    },
    {
      "cell_type": "markdown",
      "metadata": {
        "id": "bgG2J6U-ZxNf"
      },
      "source": [
        "### Set Random Seeds"
      ]
    },
    {
      "cell_type": "code",
      "metadata": {
        "id": "qOLO1F8rZwdz"
      },
      "source": [
        "##  Random Seed\n",
        "seed = 42\n",
        "random.seed(seed)\n",
        "tf.random.set_seed(seed)\n",
        "## ------------------"
      ],
      "execution_count": 2,
      "outputs": []
    },
    {
      "cell_type": "markdown",
      "metadata": {
        "id": "aznJzlFa0udt"
      },
      "source": [
        "Set Logic-Values\n"
      ]
    },
    {
      "cell_type": "code",
      "metadata": {
        "id": "ZQmptTLF0xyC"
      },
      "source": [
        "run_model = False  #When Im looking at augmentations, I don't want to keep refitting a model, I want to just get the database of images loaded"
      ],
      "execution_count": 3,
      "outputs": []
    },
    {
      "cell_type": "markdown",
      "metadata": {
        "id": "4ODbm50NY1AW"
      },
      "source": [
        "Make Image Datasets"
      ]
    },
    {
      "cell_type": "markdown",
      "metadata": {
        "id": "AuNDxhJEKUoj"
      },
      "source": [
        "One of my biggest learning curves was learning how to load  the dataset with tdfs.load() and then filter on images by label.  \n",
        "\n",
        "The second biggest was using the created model to make predictions on the test set.   \n",
        "\n",
        "Current but \"skipped\" problem is trying to view misclassifeid images of results.\n",
        "\n",
        "\n",
        "Another area of problems is rerunning when you've already specified a batch on your dataset creates another \"batch\" split so it can cause problems to rerun a cell that says how to define a dataset.  Unbatch may be needed first.    "
      ]
    },
    {
      "cell_type": "code",
      "metadata": {
        "id": "nqQHy1cx_ZK_",
        "colab": {
          "base_uri": "https://localhost:8080/"
        },
        "outputId": "997520b4-9cb4-464b-b64e-21b58631ad73"
      },
      "source": [
        "dataset, info = tfds.load('cifar10', as_supervised=True, with_info=True)\n",
        "x_test =  dataset[\"test\"]\n",
        "dataset  = dataset[\"train\"]\n",
        "assert isinstance(x_test, tf.data.Dataset)\n",
        "#x_test = [(example.numpy(), label.numpy()) for example, label in x_test]\n",
        "# once broken into numpy arrays, my model still doesn't handle it, it seems to be expecting a tensor\n",
        "# So i think i have to break it into two tensors?  test_x, test_y?\n",
        "# x_test[0][0]\n",
        "# x_test[0][1]\n",
        "# x_test = pd.DataFrame(x_test, columns=['example', 'label'])\n",
        "# x_test = tf.data.Dataset.from_generator(lambda: x_test, (tf.int64, tf.int16))\n",
        "# x_list = list(x_test.as_numpy_iterator())  # Crashes Google Colab!\n",
        "# print(x_list[:5])\n",
        "\n",
        "\n",
        "# believe I got this from stack-overflow.  Need this code to define y_test, the labels of testset\n",
        "\n",
        "def get_labels_from_tfdataset(tfdataset, batched=False):\n",
        "    labels = list(map(lambda x: x[1], tfdataset)) # Get labels \n",
        "    if not batched:\n",
        "        return tf.concat(labels, axis=0) # concat the list of batched labels\n",
        "    return labels\n",
        "y_test = get_labels_from_tfdataset(x_test)\n",
        "\n",
        "\n",
        "dataset_airplanes   = dataset.filter(lambda img, label: label == 0)\n",
        "dataset_automobiles = dataset.filter(lambda img, label: label == 1)\n",
        "dataset_birds       = dataset.filter(lambda img, label: label == 2)\n",
        "dataset_cats        = dataset.filter(lambda img, label: label == 3)\n",
        "dataset_deers       = dataset.filter(lambda img, label: label == 4)\n",
        "dataset_dogs        = dataset.filter(lambda img, label: label == 5)\n",
        "dataset_frogs       = dataset.filter(lambda img, label: label == 6)\n",
        "dataset_horses      = dataset.filter(lambda img, label: label == 7)\n",
        "dataset_ships       = dataset.filter(lambda img, label: label == 8)\n",
        "dataset_trucks      = dataset.filter(lambda img, label: label == 9)\n",
        "\n",
        "##  Ways to count the number of images in the sets:\n",
        "print(\"There are ways to count and verify the number per training set which i have hidden because they are costly\")\n",
        "print(\"Entire Training Dataset was originally cardinality:\", tf.data.experimental.cardinality(dataset).numpy()) #   prints 50,000, correct\n",
        "print(\"Entire Airplane Training Dataset was originally cardinality:\", tf.data.experimental.cardinality(dataset_airplanes).numpy()) #   prints -2 this is a \"feature\" in tf when a set takes too long to count\n",
        "# print(dataset_airplanes.reduce(np.int64(0), lambda x,_ : x + 1).numpy()) #prints 5000, correct\n",
        "\n",
        "##  This is a way of asserting that all the images have the same label in a set\n",
        "# for img, label in dataset_dogs:\n",
        "#   assert label == 5\n",
        " "
      ],
      "execution_count": 4,
      "outputs": [
        {
          "output_type": "stream",
          "name": "stdout",
          "text": [
            "There are ways to count and verify the number per training set which i have hidden because they are costly\n",
            "Entire Training Dataset was originally cardinality: 50000\n",
            "Entire Airplane Training Dataset was originally cardinality: -2\n"
          ]
        }
      ]
    },
    {
      "cell_type": "code",
      "metadata": {
        "colab": {
          "base_uri": "https://localhost:8080/",
          "height": 534
        },
        "id": "ynZzq-p_yOIS",
        "outputId": "451e39bd-2772-421c-9382-41397cdee284"
      },
      "source": [
        "## Tfds.show_examples is a matplotlib funnction that only works on image ds's, and you have to pass it the \"info\" for some reason\n",
        "fig = tfds.show_examples(dataset_airplanes, info)"
      ],
      "execution_count": 5,
      "outputs": [
        {
          "output_type": "display_data",
          "data": {
            "image/png": "[encoded data removed]",
            "text/plain": [
              "<Figure size 648x648 with 9 Axes>"
            ]
          },
          "metadata": {}
        }
      ]
    },
    {
      "cell_type": "markdown",
      "metadata": {
        "id": "OtKKnPKjgfuA"
      },
      "source": [
        "How to display one picture of a dataset using `next(iter(dataset)`"
      ]
    },
    {
      "cell_type": "code",
      "metadata": {
        "id": "3ttHjk8vAYM1",
        "colab": {
          "base_uri": "https://localhost:8080/",
          "height": 297
        },
        "outputId": "afc242ab-98aa-4978-e4eb-da3f863f7e7d"
      },
      "source": [
        "img, label = next(iter(dataset_dogs))\n",
        "\n",
        "#print(img)\n",
        "plt.title(str(label))\n",
        "plt.imshow(img)"
      ],
      "execution_count": 6,
      "outputs": [
        {
          "output_type": "execute_result",
          "data": {
            "text/plain": [
              "<matplotlib.image.AxesImage at 0x7f12a67dd050>"
            ]
          },
          "metadata": {},
          "execution_count": 6
        },
        {
          "output_type": "display_data",
          "data": {
            "image/png": "[encoded data removed]",
            "text/plain": [
              "<Figure size 432x288 with 1 Axes>"
            ]
          },
          "metadata": {
            "needs_background": "light"
          }
        }
      ]
    },
    {
      "cell_type": "markdown",
      "metadata": {
        "id": "BEik6FQDblAg"
      },
      "source": [
        "# Create validation set of 10,000 images"
      ]
    },
    {
      "cell_type": "code",
      "metadata": {
        "id": "87dfHTIEbp4K"
      },
      "source": [
        "# I want 10 un replicated samples from dataset_airplanes + dataset_automobiles... dataset_trucks.\n",
        "\n",
        "# There are 5000 images of each Class \n",
        "# I want 10 equal sets A, B, C, D, ... J plus a validation set\n",
        "# I want 10,000 total images in the validation set with 1000 of each class\n",
        "# and I want 10 sets of training images  4000 total images, so 400 images in each class\n",
        "\n",
        "N = 1000\n",
        "dataset_airplanes_val   = dataset_airplanes.take(N)\n",
        "dataset_automobiles_val  = dataset_automobiles.take(N)\n",
        "dataset_birds_val       = dataset_birds.take(N)  \n",
        "dataset_cats_val        = dataset_cats.take(N)\n",
        "dataset_deers_val       = dataset_deers.take(N)\n",
        "dataset_dogs_val        = dataset_dogs.take(N)\n",
        "dataset_frogs_val       = dataset_frogs.take(N)\n",
        "dataset_horses_val      = dataset_horses.take(N)\n",
        "dataset_ships_val       = dataset_ships.take(N)\n",
        "dataset_trucks_val      = dataset_trucks.take(N)\n",
        "\n",
        "\n",
        "# Make sure to skip the next 1000 images in each data set before making training set\n",
        "dataset_airplanes   = dataset_airplanes.skip(N)\n",
        "dataset_automobiles  = dataset_automobiles.skip(N)\n",
        "dataset_birds      = dataset_birds.skip(N)  \n",
        "dataset_cats        = dataset_cats.skip(N)\n",
        "dataset_deers       = dataset_deers.skip(N)\n",
        "dataset_dogs        = dataset_dogs.skip(N)\n",
        "dataset_frogs       = dataset_frogs.skip(N)\n",
        "dataset_horses      = dataset_horses.skip(N)\n",
        "dataset_ships       = dataset_ships.skip(N)\n",
        "dataset_trucks      = dataset_trucks.skip(N)\n",
        "\n",
        "# # Check that remaining dataset does not have validation data\n",
        "# fig = tfds.show_examples(dataset_ships, info)\n",
        "# fig = tfds.show_examples(dataset_ships_val, info)\n",
        "# # I checked and they dont.\n",
        "\n",
        "\n",
        "# NOW, How do I combine my val sets?\n",
        "\n",
        "# Hint1 its not this... \n",
        "# val = dataset_airplanes_val + dataset_automobile_val + dataset_birds_val\n",
        "\n",
        "# #  Hint2 its also not this implementation of zip because the info file doesn't match it\n",
        "# val = tf.data.Dataset.zip((dataset_airplanes_val,\n",
        "#                     dataset_automobile_val,\n",
        "#                     dataset_birds_val,\n",
        "#                     dataset_cats_val,\n",
        "#                     dataset_deers_val,\n",
        "#                     dataset_dogs_val,\n",
        "#                     dataset_frogs_val,\n",
        "#                     dataset_horses_val,\n",
        "#                     dataset_ships_val,\n",
        "#                     dataset_trucks_val ))\n",
        " \n",
        "# fig = tfds.show_examples(val, info)   # Returns a warning that the info file is not compatible\n",
        "\n",
        "\n",
        "# is it concatenate? YESSSSSSSSSSSSSSSSSSSSSS\n",
        "val = dataset_airplanes_val.concatenate(dataset_automobiles_val)\n",
        "# This is how I checked that it worked\n",
        "# fig = tfds.show_examples(val.skip(999), info)    # shows 1 airplane and then 8 automobiles\n",
        "\n",
        "val = val.concatenate(dataset_birds_val)\n",
        "val = val.concatenate(dataset_cats_val)\n",
        "val = val.concatenate(dataset_deers_val)\n",
        "val = val.concatenate(dataset_dogs_val)\n",
        "val = val.concatenate(dataset_frogs_val)\n",
        "val = val.concatenate(dataset_horses_val)\n",
        "val = val.concatenate(dataset_ships_val)\n",
        "val = val.concatenate(dataset_trucks_val)\n",
        "  \n",
        "# print(val.reduce(np.int32(0), lambda x,_ : x + 1))  # this shows 10000! Thank goodness! :-)\n",
        "\n"
      ],
      "execution_count": 7,
      "outputs": []
    },
    {
      "cell_type": "markdown",
      "metadata": {
        "id": "HmxMCsLECazK"
      },
      "source": [
        "# Create 9 small groups of training_sets"
      ]
    },
    {
      "cell_type": "markdown",
      "metadata": {
        "id": "hKhAHF0aCdUw"
      },
      "source": [
        " I \"shard\" the remaining training set into 16 groups and save 9 of them."
      ]
    },
    {
      "cell_type": "markdown",
      "metadata": {
        "id": "0tjDv6PVJ1xs"
      },
      "source": [
        "#### Airplanes (airplanes_A, ... airplanes_P)"
      ]
    },
    {
      "cell_type": "code",
      "metadata": {
        "id": "5Wj9ZwxECc9T"
      },
      "source": [
        "# https://www.tensorflow.org/api_docs/python/tf/data/Dataset#shard\n",
        "\n",
        "# Check that each of the remaining 10 datasets has only 4000 images \n",
        "# print(dataset_airplanes.reduce(np.int32(0), lambda x,_ : x + 1))  # 4000 check!\n",
        "\n",
        "# Shard each of the remaining 10 datasets into 16 smaller groups\n",
        "airplanes_A = dataset_airplanes.shard(num_shards=16, index = 0)\n",
        "airplanes_B = dataset_airplanes.shard(num_shards=16, index = 1)\n",
        "airplanes_C = dataset_airplanes.shard(num_shards=16, index = 2)\n",
        "airplanes_D = dataset_airplanes.shard(num_shards=16, index = 3)\n",
        "airplanes_E = dataset_airplanes.shard(num_shards=16, index = 4)\n",
        "airplanes_F = dataset_airplanes.shard(num_shards=16, index = 5)\n",
        "airplanes_G = dataset_airplanes.shard(num_shards=16, index = 6)\n",
        "airplanes_H = dataset_airplanes.shard(num_shards=16, index = 7)\n",
        "airplanes_I = dataset_airplanes.shard(num_shards=16, index = 8)\n",
        "airplanes_J = dataset_airplanes.shard(num_shards=16, index = 9)\n",
        "airplanes_K = dataset_airplanes.shard(num_shards=16, index = 10)\n",
        "airplanes_L = dataset_airplanes.shard(num_shards=16, index = 11)\n",
        "airplanes_M = dataset_airplanes.shard(num_shards=16, index = 12)\n",
        "airplanes_N = dataset_airplanes.shard(num_shards=16, index = 13)\n",
        "airplanes_O = dataset_airplanes.shard(num_shards=16, index = 14)\n",
        "airplanes_P = dataset_airplanes.shard(num_shards=16, index = 15)\n",
        "\n",
        "#check that a random airplane dataset only has 250 images\n",
        "# print(airplanes_M.reduce(np.int32(0), lambda x,_ : x + 1))  # 250 check!\n"
      ],
      "execution_count": 8,
      "outputs": []
    },
    {
      "cell_type": "markdown",
      "metadata": {
        "id": "P5xFEsulJy93"
      },
      "source": [
        "#### Automobiles"
      ]
    },
    {
      "cell_type": "code",
      "metadata": {
        "id": "vb9GeTzWJFIx"
      },
      "source": [
        "# dataset_automobile\n",
        "\n",
        "# Check that each of the remaining 10 datasets has only 4000 images \n",
        "# print(dataset_automobile.reduce(np.int32(0), lambda x,_ : x + 1))  # 4000 check!\n",
        "\n",
        "# Shard each of the remaining 10 datasets into 16 smaller groups\n",
        "automobiles_A = dataset_automobiles.shard(num_shards=16, index = 0)\n",
        "automobiles_B = dataset_automobiles.shard(num_shards=16, index = 1)\n",
        "automobiles_C = dataset_automobiles.shard(num_shards=16, index = 2)\n",
        "automobiles_D = dataset_automobiles.shard(num_shards=16, index = 3)\n",
        "automobiles_E = dataset_automobiles.shard(num_shards=16, index = 4)\n",
        "automobiles_F = dataset_automobiles.shard(num_shards=16, index = 5)\n",
        "automobiles_G = dataset_automobiles.shard(num_shards=16, index = 6)\n",
        "automobiles_H = dataset_automobiles.shard(num_shards=16, index = 7)\n",
        "automobiles_I = dataset_automobiles.shard(num_shards=16, index = 8)\n",
        "automobiles_J = dataset_automobiles.shard(num_shards=16, index = 9)\n",
        "automobiles_K = dataset_automobiles.shard(num_shards=16, index = 10)\n",
        "automobiles_L = dataset_automobiles.shard(num_shards=16, index = 11)\n",
        "automobiles_M = dataset_automobiles.shard(num_shards=16, index = 12)\n",
        "automobiles_N = dataset_automobiles.shard(num_shards=16, index = 13)\n",
        "automobiles_O = dataset_automobiles.shard(num_shards=16, index = 14)\n",
        "automobiles_P = dataset_automobiles.shard(num_shards=16, index = 15)\n",
        "\n",
        "\n",
        "#check that a random airplane dataset only has 250 images\n",
        "# print(airplanes_H.reduce(np.int32(0), lambda x,_ : x + 1))  # 250 check!"
      ],
      "execution_count": 9,
      "outputs": []
    },
    {
      "cell_type": "markdown",
      "metadata": {
        "id": "pTE1qIe4JfjF"
      },
      "source": [
        "#### Birds"
      ]
    },
    {
      "cell_type": "code",
      "metadata": {
        "id": "ps-dQEq1JJzv"
      },
      "source": [
        "# dataset_birds\n",
        "\n",
        "# Shard each of the remaining 10 datasets into 16 smaller groups\n",
        "birds_A = dataset_birds.shard(num_shards=16, index = 0)\n",
        "birds_B = dataset_birds.shard(num_shards=16, index = 1)\n",
        "birds_C = dataset_birds.shard(num_shards=16, index = 2)\n",
        "birds_D = dataset_birds.shard(num_shards=16, index = 3)\n",
        "birds_E = dataset_birds.shard(num_shards=16, index = 4)\n",
        "birds_F = dataset_birds.shard(num_shards=16, index = 5)\n",
        "birds_G = dataset_birds.shard(num_shards=16, index = 6)\n",
        "birds_H = dataset_birds.shard(num_shards=16, index = 7)\n",
        "birds_I = dataset_birds.shard(num_shards=16, index = 8)\n",
        "birds_J = dataset_birds.shard(num_shards=16, index = 9)\n",
        "birds_K = dataset_birds.shard(num_shards=16, index = 10)\n",
        "birds_L = dataset_birds.shard(num_shards=16, index = 11)\n",
        "birds_M = dataset_birds.shard(num_shards=16, index = 12)\n",
        "birds_N = dataset_birds.shard(num_shards=16, index = 13)\n",
        "birds_O = dataset_birds.shard(num_shards=16, index = 14)\n",
        "birds_P = dataset_birds.shard(num_shards=16, index = 15)\n",
        "\n",
        "#check that a random airplane dataset only has 250 images\n",
        "# print(airplanes_H.reduce(np.int32(0), lambda x,_ : x + 1))  # 250 check!"
      ],
      "execution_count": 10,
      "outputs": []
    },
    {
      "cell_type": "markdown",
      "metadata": {
        "id": "DdGfixTrKbA5"
      },
      "source": [
        "#### Cats"
      ]
    },
    {
      "cell_type": "code",
      "metadata": {
        "id": "tnjMznpsJksD"
      },
      "source": [
        "# dataset_cats\n",
        "\n",
        "# Shard each of the remaining 10 datasets into 16 smaller groups\n",
        "cats_A = dataset_cats.shard(num_shards=16, index = 0)\n",
        "cats_B = dataset_cats.shard(num_shards=16, index = 1)\n",
        "cats_C = dataset_cats.shard(num_shards=16, index = 2)\n",
        "cats_D = dataset_cats.shard(num_shards=16, index = 3)\n",
        "cats_E = dataset_cats.shard(num_shards=16, index = 4)\n",
        "cats_F = dataset_cats.shard(num_shards=16, index = 5)\n",
        "cats_G = dataset_cats.shard(num_shards=16, index = 6)\n",
        "cats_H = dataset_cats.shard(num_shards=16, index = 7)\n",
        "cats_I = dataset_cats.shard(num_shards=16, index = 8)\n",
        "cats_J = dataset_cats.shard(num_shards=16, index = 9)\n",
        "cats_K = dataset_cats.shard(num_shards=16, index = 10)\n",
        "cats_L = dataset_cats.shard(num_shards=16, index = 11)\n",
        "cats_M = dataset_cats.shard(num_shards=16, index = 12)\n",
        "cats_N = dataset_cats.shard(num_shards=16, index = 13)\n",
        "cats_O = dataset_cats.shard(num_shards=16, index = 14)\n",
        "cats_P = dataset_cats.shard(num_shards=16, index = 15)\n",
        "#check that a random airplane dataset only has 250 images\n",
        "# print(cats_P.reduce(np.int32(0), lambda x,_ : x + 1))  # 250 check!"
      ],
      "execution_count": 11,
      "outputs": []
    },
    {
      "cell_type": "markdown",
      "metadata": {
        "id": "D5xWq3xTJ6Ju"
      },
      "source": [
        "#### Deer(s)"
      ]
    },
    {
      "cell_type": "code",
      "metadata": {
        "id": "gGOQ4VJuJ6gG"
      },
      "source": [
        "# dataset_deers\n",
        "# Shard each of the remaining 10 datasets into 16 smaller groups\n",
        "deers_A = dataset_deers.shard(num_shards=16, index = 0)\n",
        "deers_B = dataset_deers.shard(num_shards=16, index = 1)\n",
        "deers_C = dataset_deers.shard(num_shards=16, index = 2)\n",
        "deers_D = dataset_deers.shard(num_shards=16, index = 3)\n",
        "deers_E = dataset_deers.shard(num_shards=16, index = 4)\n",
        "deers_F = dataset_deers.shard(num_shards=16, index = 5)\n",
        "deers_G = dataset_deers.shard(num_shards=16, index = 6)\n",
        "deers_H = dataset_deers.shard(num_shards=16, index = 7)\n",
        "deers_I = dataset_deers.shard(num_shards=16, index = 8)\n",
        "deers_J = dataset_deers.shard(num_shards=16, index = 9)\n",
        "deers_K = dataset_deers.shard(num_shards=16, index = 10)\n",
        "deers_L = dataset_deers.shard(num_shards=16, index = 11)\n",
        "deers_M = dataset_deers.shard(num_shards=16, index = 12)\n",
        "deers_N = dataset_deers.shard(num_shards=16, index = 13)\n",
        "deers_O = dataset_deers.shard(num_shards=16, index = 14)\n",
        "deers_P = dataset_deers.shard(num_shards=16, index = 15)\n",
        "#check that a random airplane dataset only has 250 images\n",
        "# print(deers_H.reduce(np.int32(0), lambda x,_ : x + 1))  # 250 check!"
      ],
      "execution_count": 12,
      "outputs": []
    },
    {
      "cell_type": "code",
      "metadata": {
        "id": "EFe8-QmBciLO"
      },
      "source": [
        ""
      ],
      "execution_count": 12,
      "outputs": []
    },
    {
      "cell_type": "code",
      "metadata": {
        "id": "BOzrkr1kciEO"
      },
      "source": [
        ""
      ],
      "execution_count": 12,
      "outputs": []
    },
    {
      "cell_type": "markdown",
      "metadata": {
        "id": "byU1ZKdQJ754"
      },
      "source": [
        "#### Dogs"
      ]
    },
    {
      "cell_type": "code",
      "metadata": {
        "id": "eAIsVACaJ8dr"
      },
      "source": [
        "# dataset_dogs\n",
        "# Shard each of the remaining 10 datasets into 16 smaller groups\n",
        "dogs_A = dataset_dogs.shard(num_shards=16, index = 0)\n",
        "dogs_B = dataset_dogs.shard(num_shards=16, index = 1)\n",
        "dogs_C = dataset_dogs.shard(num_shards=16, index = 2)\n",
        "dogs_D = dataset_dogs.shard(num_shards=16, index = 3)\n",
        "dogs_E = dataset_dogs.shard(num_shards=16, index = 4)\n",
        "dogs_F = dataset_dogs.shard(num_shards=16, index = 5)\n",
        "dogs_G = dataset_dogs.shard(num_shards=16, index = 6)\n",
        "dogs_H = dataset_dogs.shard(num_shards=16, index = 7)\n",
        "dogs_I = dataset_dogs.shard(num_shards=16, index = 8)\n",
        "dogs_J = dataset_dogs.shard(num_shards=16, index = 9)\n",
        "dogs_K = dataset_dogs.shard(num_shards=16, index = 10)\n",
        "dogs_L = dataset_dogs.shard(num_shards=16, index = 11)\n",
        "dogs_M = dataset_dogs.shard(num_shards=16, index = 12)\n",
        "dogs_N = dataset_dogs.shard(num_shards=16, index = 13)\n",
        "dogs_O = dataset_dogs.shard(num_shards=16, index = 14)\n",
        "dogs_P = dataset_dogs.shard(num_shards=16, index = 15)\n",
        "\n",
        "#check that a random airplane dataset only has 250 images\n",
        "# print(dogs_H.reduce(np.int32(0), lambda x,_ : x + 1))  # 250 check!\n"
      ],
      "execution_count": 13,
      "outputs": []
    },
    {
      "cell_type": "markdown",
      "metadata": {
        "id": "Dw-8AHERJ90m"
      },
      "source": [
        "#### Frogs"
      ]
    },
    {
      "cell_type": "code",
      "metadata": {
        "id": "sP7uUGF6J-th"
      },
      "source": [
        "# dataset_frogs\n",
        "# Shard each of the remaining 10 datasets into 16 smaller groups\n",
        "frogs_A = dataset_frogs.shard(num_shards=16, index = 0)\n",
        "frogs_B = dataset_frogs.shard(num_shards=16, index = 1)\n",
        "frogs_C = dataset_frogs.shard(num_shards=16, index = 2)\n",
        "frogs_D = dataset_frogs.shard(num_shards=16, index = 3)\n",
        "frogs_E = dataset_frogs.shard(num_shards=16, index = 4)\n",
        "frogs_F = dataset_frogs.shard(num_shards=16, index = 5)\n",
        "frogs_G = dataset_frogs.shard(num_shards=16, index = 6)\n",
        "frogs_H = dataset_frogs.shard(num_shards=16, index = 7)\n",
        "frogs_I = dataset_frogs.shard(num_shards=16, index = 8)\n",
        "frogs_J = dataset_frogs.shard(num_shards=16, index = 9)\n",
        "frogs_K = dataset_frogs.shard(num_shards=16, index = 10)\n",
        "frogs_L = dataset_frogs.shard(num_shards=16, index = 11)\n",
        "frogs_M = dataset_frogs.shard(num_shards=16, index = 12)\n",
        "frogs_N = dataset_frogs.shard(num_shards=16, index = 13)\n",
        "frogs_O = dataset_frogs.shard(num_shards=16, index = 14)\n",
        "frogs_P = dataset_frogs.shard(num_shards=16, index = 15)\n",
        "#check that a random airplane dataset only has 250 images\n",
        "# print(frogs_A.reduce(np.int32(0), lambda x,_ : x + 1))  # 250 check!"
      ],
      "execution_count": 14,
      "outputs": []
    },
    {
      "cell_type": "markdown",
      "metadata": {
        "id": "5ON5smYaKAZb"
      },
      "source": [
        "#### Horses"
      ]
    },
    {
      "cell_type": "code",
      "metadata": {
        "id": "UJuMDMT9KAvX"
      },
      "source": [
        "# dataset_horses\n",
        "# Shard each of the remaining 10 datasets into 16 smaller groups\n",
        "horses_A = dataset_horses.shard(num_shards=16, index = 0)\n",
        "horses_B = dataset_horses.shard(num_shards=16, index = 1)\n",
        "horses_C = dataset_horses.shard(num_shards=16, index = 2)\n",
        "horses_D = dataset_horses.shard(num_shards=16, index = 3)\n",
        "horses_E = dataset_horses.shard(num_shards=16, index = 4)\n",
        "horses_F = dataset_horses.shard(num_shards=16, index = 5)\n",
        "horses_G = dataset_horses.shard(num_shards=16, index = 6)\n",
        "horses_H = dataset_horses.shard(num_shards=16, index = 7)\n",
        "horses_I = dataset_horses.shard(num_shards=16, index = 8)\n",
        "horses_J = dataset_horses.shard(num_shards=16, index = 9)\n",
        "horses_K = dataset_horses.shard(num_shards=16, index = 10)\n",
        "horses_L = dataset_horses.shard(num_shards=16, index = 11)\n",
        "horses_M = dataset_horses.shard(num_shards=16, index = 12)\n",
        "horses_N = dataset_horses.shard(num_shards=16, index = 13)\n",
        "horses_O = dataset_horses.shard(num_shards=16, index = 14)\n",
        "horses_P = dataset_horses.shard(num_shards=16, index = 15)\n",
        "#check that a random airplane dataset only has 250 images\n",
        "# print(horses_H.reduce(np.int32(0), lambda x,_ : x + 1))  # 250 check!"
      ],
      "execution_count": 15,
      "outputs": []
    },
    {
      "cell_type": "markdown",
      "metadata": {
        "id": "yWcxJta7KBxY"
      },
      "source": [
        "#### Ships"
      ]
    },
    {
      "cell_type": "code",
      "metadata": {
        "id": "d375MfgdKCJM"
      },
      "source": [
        "# dataset_ships\n",
        "# Shard each of the remaining 10 datasets into 16 smaller groups\n",
        "ships_A = dataset_ships.shard(num_shards=16, index = 0)\n",
        "ships_B = dataset_ships.shard(num_shards=16, index = 1)\n",
        "ships_C = dataset_ships.shard(num_shards=16, index = 2)\n",
        "ships_D = dataset_ships.shard(num_shards=16, index = 3)\n",
        "ships_E = dataset_ships.shard(num_shards=16, index = 4)\n",
        "ships_F = dataset_ships.shard(num_shards=16, index = 5)\n",
        "ships_G = dataset_ships.shard(num_shards=16, index = 6)\n",
        "ships_H = dataset_ships.shard(num_shards=16, index = 7)\n",
        "ships_I = dataset_ships.shard(num_shards=16, index = 8)\n",
        "ships_J = dataset_ships.shard(num_shards=16, index = 9)\n",
        "ships_K = dataset_ships.shard(num_shards=16, index = 10)\n",
        "ships_L = dataset_ships.shard(num_shards=16, index = 11)\n",
        "ships_M = dataset_ships.shard(num_shards=16, index = 12)\n",
        "ships_N = dataset_ships.shard(num_shards=16, index = 13)\n",
        "ships_O = dataset_ships.shard(num_shards=16, index = 14)\n",
        "ships_P = dataset_ships.shard(num_shards=16, index = 15)\n",
        "#check that a random airplane dataset only has 250 images\n",
        "# print(ships_H.reduce(np.int32(0), lambda x,_ : x + 1))  # 250 check!"
      ],
      "execution_count": 16,
      "outputs": []
    },
    {
      "cell_type": "markdown",
      "metadata": {
        "id": "4SFGmpwtKGLB"
      },
      "source": [
        "#### Trucks\n"
      ]
    },
    {
      "cell_type": "code",
      "metadata": {
        "id": "uLvmyTf7KIEI"
      },
      "source": [
        "# dataset_trucks\n",
        "# Shard each of the remaining 10 datasets into 16 smaller groups\n",
        "trucks_A = dataset_trucks.shard(num_shards=16, index = 0)\n",
        "trucks_B = dataset_trucks.shard(num_shards=16, index = 1)\n",
        "trucks_C = dataset_trucks.shard(num_shards=16, index = 2)\n",
        "trucks_D = dataset_trucks.shard(num_shards=16, index = 3)\n",
        "trucks_E = dataset_trucks.shard(num_shards=16, index = 4)\n",
        "trucks_F = dataset_trucks.shard(num_shards=16, index = 5)\n",
        "trucks_G = dataset_trucks.shard(num_shards=16, index = 6)\n",
        "trucks_H = dataset_trucks.shard(num_shards=16, index = 7)\n",
        "trucks_I = dataset_trucks.shard(num_shards=16, index = 8)\n",
        "trucks_J = dataset_trucks.shard(num_shards=16, index = 9)\n",
        "trucks_K = dataset_trucks.shard(num_shards=16, index = 10)\n",
        "trucks_L = dataset_trucks.shard(num_shards=16, index = 11)\n",
        "trucks_M = dataset_trucks.shard(num_shards=16, index = 12)\n",
        "trucks_N = dataset_trucks.shard(num_shards=16, index = 13)\n",
        "trucks_O = dataset_trucks.shard(num_shards=16, index = 14)\n",
        "trucks_P = dataset_trucks.shard(num_shards=16, index = 15)\n",
        "\n",
        "\n",
        "#check that a random airplane dataset only has 250 images\n",
        "# print(trucks_H.reduce(np.int32(0), lambda x,_ : x + 1))  # 250 check!\n"
      ],
      "execution_count": 17,
      "outputs": []
    },
    {
      "cell_type": "markdown",
      "metadata": {
        "id": "LwI8YY2tKDF1"
      },
      "source": [
        "# Merge 1/16th of each CIFAR Training Datasets into 16 Small training Groups {A}, {B}, {C} , ... {P}"
      ]
    },
    {
      "cell_type": "markdown",
      "metadata": {
        "id": "CwwqykvrPuO2"
      },
      "source": [
        "#### Group A  (train_A)"
      ]
    },
    {
      "cell_type": "code",
      "metadata": {
        "id": "0gJxRkApP25H"
      },
      "source": [
        "# {A}\n",
        "X = birds_A, cats_A, deers_A, dogs_A, frogs_A, horses_A, ships_A, trucks_A\n",
        "train_A = airplanes_A.concatenate(automobiles_A)\n",
        "\n",
        "for i in list(X):\n",
        "  train_A = train_A.concatenate(i)\n",
        "# print(train_A.reduce(np.int32(0), lambda x,_ : x + 1))  # 250*10 = 2500? "
      ],
      "execution_count": 18,
      "outputs": []
    },
    {
      "cell_type": "markdown",
      "metadata": {
        "id": "luuwRmSrP25F"
      },
      "source": [
        "#### Group B"
      ]
    },
    {
      "cell_type": "code",
      "metadata": {
        "id": "WTTCjd8nQoIL"
      },
      "source": [
        "# {B}\n",
        "X = birds_B, cats_B, deers_B, dogs_B, frogs_B, horses_B, ships_B, trucks_B\n",
        "train_B = airplanes_B.concatenate(automobiles_B)\n",
        "\n",
        "for i in list(X):\n",
        "  train_B = train_B.concatenate(i)\n",
        "\n",
        "# print(train_B.reduce(np.int32(0), lambda x,_ : x + 1))  # 250*10 = 2500? "
      ],
      "execution_count": 19,
      "outputs": []
    },
    {
      "cell_type": "markdown",
      "metadata": {
        "id": "PkxiQUTmSnAV"
      },
      "source": [
        "#### Group C"
      ]
    },
    {
      "cell_type": "code",
      "metadata": {
        "id": "9Klir_U7SnAW"
      },
      "source": [
        "# {C}\n",
        "X = birds_C, cats_C, deers_C, dogs_C, frogs_C, horses_C, ships_C, trucks_C\n",
        "train_C = airplanes_C.concatenate(automobiles_C)\n",
        "\n",
        "for i in list(X):\n",
        "  train_C = train_C.concatenate(i)\n",
        "\n",
        "# print(train_C.reduce(np.int32(0), lambda x,_ : x + 1))  # 250*10 = 2500? "
      ],
      "execution_count": 20,
      "outputs": []
    },
    {
      "cell_type": "markdown",
      "metadata": {
        "id": "-4hb8nQ-Rl9X"
      },
      "source": [
        "#### Group D"
      ]
    },
    {
      "cell_type": "code",
      "metadata": {
        "id": "S2y1elhgRl9Y"
      },
      "source": [
        "# {D}\n",
        "X = birds_D, cats_D, deers_D, dogs_D, frogs_D, horses_D, ships_D, trucks_D\n",
        "train_D = airplanes_D.concatenate(automobiles_D)\n",
        "\n",
        "for i in list(X):\n",
        "  train_D = train_D.concatenate(i)\n",
        "\n",
        "# print(train_D.reduce(np.int32(0), lambda x,_ : x + 1))  # 250*10 = 2500? "
      ],
      "execution_count": 21,
      "outputs": []
    },
    {
      "cell_type": "markdown",
      "metadata": {
        "id": "E0HfSJz2RmXZ"
      },
      "source": [
        "#### Group E"
      ]
    },
    {
      "cell_type": "code",
      "metadata": {
        "id": "6wCvrPzGRmXa"
      },
      "source": [
        "# {E}\n",
        "X = birds_E, cats_E, deers_E, dogs_E, frogs_E, horses_E, ships_E, trucks_E\n",
        "train_E = airplanes_E.concatenate(automobiles_E)\n",
        "\n",
        "for i in list(X):\n",
        "  train_E = train_E.concatenate(i)\n",
        "\n",
        "# print(train_E.reduce(np.int32(0), lambda x,_ : x + 1))  # 250*10 = 2500? "
      ],
      "execution_count": 22,
      "outputs": []
    },
    {
      "cell_type": "markdown",
      "metadata": {
        "id": "WORh3NGSRmyc"
      },
      "source": [
        "#### Group F"
      ]
    },
    {
      "cell_type": "code",
      "metadata": {
        "id": "2Ljtuh44Rmye"
      },
      "source": [
        "# {F}\n",
        "X = birds_F, cats_F, deers_F, dogs_F, frogs_F, horses_F, ships_F, trucks_F\n",
        "train_F = airplanes_F.concatenate(automobiles_F)\n",
        "\n",
        "for i in list(X):\n",
        "  train_F = train_F.concatenate(i)\n",
        "\n",
        "# print(train_F.reduce(np.int32(0), lambda x,_ : x + 1))  # 250*10 = 2500? "
      ],
      "execution_count": 23,
      "outputs": []
    },
    {
      "cell_type": "markdown",
      "metadata": {
        "id": "d8VA6XYARnM1"
      },
      "source": [
        "#### Group G"
      ]
    },
    {
      "cell_type": "code",
      "metadata": {
        "id": "VBbGNULkRnM2"
      },
      "source": [
        "# {G}\n",
        "X = birds_G, cats_G, deers_G, dogs_G, frogs_G, horses_G, ships_G, trucks_G\n",
        "train_G = airplanes_G.concatenate(automobiles_G)\n",
        "\n",
        "for i in list(X):\n",
        "  train_G = train_G.concatenate(i)\n",
        "\n",
        "# print(train_G.reduce(np.int32(0), lambda x,_ : x + 1))  # 250*10 = 2500? "
      ],
      "execution_count": 24,
      "outputs": []
    },
    {
      "cell_type": "markdown",
      "metadata": {
        "id": "EdiZ0V7hRniQ"
      },
      "source": [
        "#### Group H"
      ]
    },
    {
      "cell_type": "code",
      "metadata": {
        "id": "54IwvzgFRniS"
      },
      "source": [
        "# {H}\n",
        "X = birds_H, cats_H, deers_H, dogs_H, frogs_H, horses_H, ships_H, trucks_H\n",
        "train_H = airplanes_H.concatenate(automobiles_H)\n",
        "\n",
        "for i in list(X):\n",
        "  train_H = train_H.concatenate(i)\n",
        "\n",
        "# print(train_H.reduce(np.int32(0), lambda x,_ : x + 1))  # 250*10 = 2500? "
      ],
      "execution_count": 25,
      "outputs": []
    },
    {
      "cell_type": "markdown",
      "metadata": {
        "id": "1wxeC_c1Rn2p"
      },
      "source": [
        "#### Group I"
      ]
    },
    {
      "cell_type": "code",
      "metadata": {
        "id": "nGwKPcTfRn2p"
      },
      "source": [
        "# {I}\n",
        "X = birds_I, cats_I, deers_I, dogs_I, frogs_I, horses_I, ships_I, trucks_I\n",
        "train_I = airplanes_I.concatenate(automobiles_I)\n",
        "\n",
        "for i in list(X):\n",
        "  train_I = train_I.concatenate(i)\n",
        "\n",
        "# print(train_I.reduce(np.int32(0), lambda x,_ : x + 1))  # 250*10 = 2500? "
      ],
      "execution_count": 26,
      "outputs": []
    },
    {
      "cell_type": "markdown",
      "metadata": {
        "id": "vSNbzIxdRoMH"
      },
      "source": [
        "#### Group J"
      ]
    },
    {
      "cell_type": "code",
      "metadata": {
        "id": "mFIUW6_mRoMJ"
      },
      "source": [
        "# {J}\n",
        "X = birds_J, cats_J, deers_J, dogs_J, frogs_J, horses_J, ships_J, trucks_J\n",
        "train_J = airplanes_J.concatenate(automobiles_J)\n",
        "\n",
        "for i in list(X):\n",
        "  train_J = train_J.concatenate(i)\n",
        "\n",
        "# print(train_J.reduce(np.int32(0), lambda x,_ : x + 1))  # 250*10 = 2500? "
      ],
      "execution_count": 27,
      "outputs": []
    },
    {
      "cell_type": "markdown",
      "metadata": {
        "id": "etYZhc53P0bq"
      },
      "source": [
        "### Adding Batches, Buffers, Shuffles and Caches"
      ]
    },
    {
      "cell_type": "markdown",
      "metadata": {
        "id": "ejCVXsygP4Pp"
      },
      "source": [
        "The following is necessary to run the datasets through the models.  Do not run the following more than once because it'll try to make an additional dimension in your datasets"
      ]
    },
    {
      "cell_type": "code",
      "metadata": {
        "id": "v5NwdQRkwKlR"
      },
      "source": [
        "if initial_run == 0: \n",
        "    \n",
        "  AUTOTUNE = tf.data.AUTOTUNE # results in -1 which i think is code for the whole database\n",
        "  train_A = train_A.cache().prefetch(buffer_size=AUTOTUNE)\n",
        "  train_A = train_A.shuffle(2500, reshuffle_each_iteration=True, seed=seed)\n",
        "  train_A = train_A.batch(100)  # I believe its good to not have a remainder to cut ds evenly but I'm not sure\n",
        "\n",
        "  val = val.cache().prefetch(buffer_size=AUTOTUNE)\n",
        "  val = val.batch(100)\n",
        "\n",
        "  x_test = x_test.cache().prefetch(tf.data.AUTOTUNE)\n",
        "  x_test = x_test.batch(10000)\n",
        "\n",
        "else:\n",
        "  pass\n",
        "\n",
        "initial_run = initial_run+1"
      ],
      "execution_count": 28,
      "outputs": []
    },
    {
      "cell_type": "markdown",
      "metadata": {
        "id": "os7CGfJqDBvx"
      },
      "source": [
        "#### Time required to create datasets: 108 seconds"
      ]
    },
    {
      "cell_type": "code",
      "metadata": {
        "colab": {
          "base_uri": "https://localhost:8080/"
        },
        "id": "50FBIXyyDDrP",
        "outputId": "17ec29e9-60a0-42af-9769-c70187e2fc7c"
      },
      "source": [
        "toc = time.time()  \n",
        "print(f\"Made datasets in {toc - tic:0.4f} seconds\")\n",
        "!mkdir -p saved_model\n"
      ],
      "execution_count": 29,
      "outputs": [
        {
          "output_type": "stream",
          "name": "stdout",
          "text": [
            "Made datasets in 7.9378 seconds\n"
          ]
        }
      ]
    },
    {
      "cell_type": "markdown",
      "metadata": {
        "id": "nB7IU7_gv-5q"
      },
      "source": [
        "# Train CNN on Training_Group_A"
      ]
    },
    {
      "cell_type": "markdown",
      "metadata": {
        "id": "do5itWWAwDqU"
      },
      "source": [
        "Train a vanilla CNN using small group A train set, the val set, and test"
      ]
    },
    {
      "cell_type": "markdown",
      "metadata": {
        "id": "nVyzV4xYiH8-"
      },
      "source": [
        "## Train the model :\n"
      ]
    },
    {
      "cell_type": "code",
      "metadata": {
        "id": "A0nRfh7aiH9F"
      },
      "source": [
        "# Make a Vanilla CNN\n",
        "\n",
        "def makemodel(DROPOUT):  #returns model\n",
        "  num_classes = 10\n",
        "  input_shape = (32, 32, 3)\n",
        "\n",
        "  # For Reference these are the defaults\n",
        "  # kernel_initializer=\"glorot_uniform\",\n",
        "  # bias_initializer=\"zeros\",\n",
        "  # padding=\"valid\",  #valid = no padding\n",
        "  # kernel_regularizer=None,\n",
        "  # bias_regularizer=None,\n",
        "  # activity_regularizer=None,\n",
        "\n",
        "  initializer = tf.keras.initializers.HeUniform(seed)\n",
        "\n",
        "  model = tf.keras.Sequential(\n",
        "  [\n",
        "      #keras.Input(),\n",
        "      tf.keras.Input(shape=input_shape),\n",
        "\n",
        "      layers.experimental.preprocessing.Rescaling(1./255),\n",
        "      #data_augmentation,   \n",
        "      layers.Conv2D(32, kernel_size=(3, 3), activation=\"relu\", kernel_initializer=initializer, name=\"ConvLayer1\"),\n",
        "      layers.MaxPooling2D(pool_size=(2, 2), name=\"MaxPool1\"),\n",
        "      layers.BatchNormalization(name=\"BN1\"),\n",
        "   \n",
        "      layers.Conv2D(64, kernel_size=(3, 3), activation=\"relu\", kernel_initializer=initializer, name=\"ConvLayer2\"),\n",
        "      layers.MaxPooling2D(pool_size=(2, 2), name=\"MaxPool2\"),\n",
        "      layers.BatchNormalization(name=\"BN2\"),\n",
        "   \n",
        "      layers.Conv2D(128, kernel_size=(3, 3), activation=\"relu\", kernel_initializer=initializer, name=\"ConvLayer3\"),\n",
        "      layers.MaxPooling2D(pool_size=(2, 2), name=\"MaxPool3\"),\n",
        "      layers.BatchNormalization(name=\"BN3\"),\n",
        "   \n",
        "      layers.Flatten(),\n",
        "      layers.Dropout(0.5),\n",
        "      layers.Dense(512, activation=\"relu\", kernel_initializer=initializer),\n",
        "      layers.Dropout(DROPOUT),\n",
        "      layers.Dense(num_classes, activation=\"softmax\")\n",
        "\n",
        "  ])\n",
        "\n",
        "\n",
        "  model.compile(\n",
        "    optimizer='adam',\n",
        "    loss=tf.losses.SparseCategoricalCrossentropy(),\n",
        "    metrics=['accuracy'])  #changed, added to val_accuracy\n",
        "\n",
        "  model.save_weights('saved_model/blank_model')\n",
        "  model.load_weights('saved_model/blank_model')\n",
        "\n",
        "  return model\n",
        "\n",
        "# -----------------------------------------\n",
        "\n",
        "\n",
        "\n",
        "def trainmodel(MODEL, TRAININGDATA):   # returns TRAINEDMODEL\n",
        "  history = MODEL.fit(\n",
        "    TRAININGDATA,\n",
        "    validation_data=(val),\n",
        "    epochs=100,\n",
        "    callbacks = keras.callbacks.EarlyStopping(monitor= 'val_accuracy', patience=10, restore_best_weights=True), \n",
        "    verbose=0\n",
        "  )\n",
        "    \n",
        "  # plt.plot(history.history['accuracy'])\n",
        "  # plt.plot(history.history['val_accuracy'])\n",
        "  # plt.title('model accuracy')\n",
        "  # plt.ylabel('accuracy')\n",
        "  # plt.xlabel('epoch')\n",
        "  # plt.legend(['train', 'val'], loc='upper left')\n",
        "  # plt.show()\n",
        "\n",
        "  # # summarize history for loss\n",
        "  # plt.plot(history.history['loss'])\n",
        "  # plt.plot(history.history['val_loss'])\n",
        "  # plt.title('model loss')\n",
        "  # plt.ylabel('loss')\n",
        "  # plt.xlabel('epoch')\n",
        "  # plt.legend(['train', 'val'], loc='upper left')\n",
        "  # plt.show()\n",
        "\n",
        "  # model.save('saved_model/my_model')\n",
        "\n",
        "  val_acc_array = history.history['val_accuracy']\n",
        "  n_epochs_best = np.argmax(val_acc_array)\n",
        "  print(\"Early Stop Epoch: \", n_epochs_best, \" when Val Acc was: \", np.max(val_acc_array))\n",
        "\n",
        "  return MODEL\n",
        "\n"
      ],
      "execution_count": 30,
      "outputs": []
    },
    {
      "cell_type": "markdown",
      "metadata": {
        "id": "1lVKJrNIG3YM"
      },
      "source": [
        "#### Time Required to Train and Validate (Baseline) 64 seconds"
      ]
    },
    {
      "cell_type": "code",
      "metadata": {
        "id": "upg_Hq-WG8Kh"
      },
      "source": [
        "# tock = time.time()  \n",
        "# # print(tock - toc, \" seconds\")\n",
        "# print(f\"Trained model in {tock - toc:0.4f} seconds\")"
      ],
      "execution_count": 31,
      "outputs": []
    },
    {
      "cell_type": "code",
      "metadata": {
        "id": "-KLqbhHBiH9G"
      },
      "source": [
        ""
      ],
      "execution_count": 31,
      "outputs": []
    },
    {
      "cell_type": "markdown",
      "metadata": {
        "id": "VWDirm_IZxFk"
      },
      "source": [
        "# Transition to Augmentations\n"
      ]
    },
    {
      "cell_type": "code",
      "metadata": {
        "id": "Bz7XO7vMJsKx"
      },
      "source": [
        "import time\n",
        "start_augmentations = time.time()"
      ],
      "execution_count": 32,
      "outputs": []
    },
    {
      "cell_type": "markdown",
      "metadata": {
        "id": "b23a7099"
      },
      "source": [
        "## Prepare the Google Colab environment"
      ]
    },
    {
      "cell_type": "markdown",
      "metadata": {
        "id": "0675c0fb"
      },
      "source": [
        "#### Install the latest version of Albumentations"
      ]
    },
    {
      "cell_type": "markdown",
      "metadata": {
        "id": "26f58a5d"
      },
      "source": [
        "Google Colab has an outdated version of Albumentations so we will install the latest stable version from PyPi."
      ]
    },
    {
      "cell_type": "code",
      "metadata": {
        "id": "3d019720"
      },
      "source": [
        "# !pip install -q -U albumentations\n",
        "# !echo \"$(pip freeze | grep albumentations) is successfully installed\"\n",
        "\n",
        "!pip install -U git+https://github.com/albumentations-team/albumentations -q\n",
        "# necessary imports\n",
        "from functools import partial\n",
        "import albumentations as A\n",
        "import cv2 as cv2\n",
        "\n",
        "import tensorflow as tf\n",
        "AUTOTUNE = tf.data.experimental.AUTOTUNE\n"
      ],
      "execution_count": 33,
      "outputs": []
    },
    {
      "cell_type": "markdown",
      "metadata": {
        "id": "vRuq5Msthyvt"
      },
      "source": [
        "## Augmentation Factors' Order and Levels\n",
        "\n",
        "The following are 21 factors: 20 data-augmentation techniques and one regularization factor \"*Dropout*\" Percent Level, to compare with.  The order is what seemed to give each factor the most opportunity to add to the image, and more \"destructive\" factors were ordered later, like \"ToGray\" and Crop or ZoomIn since they take away image data permanently.  Zoom Out was order 11 because I wanted to make sure noise, blur, zoom, sharpen, contrast, did not have a over-magnified effect if after ZoomOut.  FlipHorizontal and FlipVertical are at the bottom not because they are destructive, but because I wanted to keep the categorical variables grouped as much as possible for consistent coding practices."
      ]
    },
    {
      "cell_type": "markdown",
      "metadata": {
        "id": "g6ah5Z3DfzJS"
      },
      "source": [
        "|Order | Factors | Role | Low | High |\n",
        "| -: | :- | :-: | :-: | :-: |\n",
        "1|*dropout*|Continuous|0.4  |0.6\n",
        "2|shiftX|Continuous|0 | 0.1\n",
        "3|shiftY|Continuous|0|  0.1\n",
        "4|noise|Continuous|0  |24\n",
        "5|blur|Continuous|0 | 7**\n",
        "6|sharpen|Continuous|0 | 0.1\n",
        "7|contrast|Continuous|0 | 0.2\n",
        "8|brighten|Continuous|0|  0.2\n",
        "9|darken (negative brightness)|Continuous|0 | -0.2 *\n",
        "10|gamma|Continuous|100|  120\n",
        "11|zoomOut (negative zoomin) |Continuous| 0 | -0.16*\n",
        "12|rotate|Continuous|0|  14\n",
        "13|crop|Continuous|32* | 24*\n",
        "14|zoomin|Continuous|0  |0.16\n",
        "15|flipH|Categorical|0 | 1\n",
        "16|flipV|Categorical|0 | 1\n",
        "17|fancyPCA|Categorical|0 | 1\n",
        "18|equalize|Categorical|0 | 1\n",
        "19|channelShuffle|Categorical|0 | 1\n",
        "20|elasticTransform|Categorical|0 | 1\n",
        "21|togray|Categorical|0 | 1\n",
        "\n",
        "* Values with asterisks are for emphasis since they seem counterintuitive\n",
        "\n",
        "** Blur values can only be odd so a center point will be rounded down from 3.5 to 3 - four center points were changed"
      ]
    },
    {
      "cell_type": "markdown",
      "metadata": {
        "id": "xGOpWE9Rh_0O"
      },
      "source": [
        "A 50-run definitive screening design with 2 blocks is used to see which main effects are most important.  The JMP Metrics for this design are below:"
      ]
    },
    {
      "cell_type": "markdown",
      "metadata": {
        "id": "IY-_TvwTnGUT"
      },
      "source": [
        " | Definitive Screening Design Diagnostics  | | \n",
        "| --- | --- | \n",
        " | D Efficiency| 92.46019| \n",
        "| G Efficiency | 81.68744 | \n",
        "| A Efficiency | 91.32396 | \n",
        "| Average Variance of Prediction\t | 0.298038 |\n"
      ]
    },
    {
      "cell_type": "markdown",
      "metadata": {
        "id": "CWzcz2a7zoUN"
      },
      "source": [
        "## Randomized Definitive Screening Design "
      ]
    },
    {
      "cell_type": "markdown",
      "metadata": {
        "id": "wOy-4UxLIygE"
      },
      "source": [
        "**Block 1**\n",
        " \n",
        " xRun|Block|dropout|shiftX|shiftY|noise|blur|sharpen|contrast|brighten|darken|gamma|zoomOut|rotate|crop|zoomin|flipH|flipV|fancyPCA|equalize|channelShuffle|elasticTransform|togray\n",
        ":-| :-| :-| :-| :-| :-| :-| :-| :-| :-| :-| :-| :-| :-| :-| :-| :-| :-| :-| :-| :-| :-| :-\n",
        "1|1|0.4|0.1|0|24|7|0.1|0.2|0.2|-0.2|100|-0.08|14|24|0.16|1|1|0|1|0|1|0\n",
        "2|1|0.4|0.1|0|24|7|0|0|0|0|100|-0.16|0|32|0|1|1|1|1|1|1|0\n",
        "3|1|0.5|0|0|24|7|0.1|0|0.2|-0.2|100|-0.16|14|32|0.16|0|0|0|0|1|0|1\n",
        "4|1|0.4|0|0.1|24|3|0.1|0|0|-0.2|100|0|0|32|0|1|1|0|0|0|1|1\n",
        "5|1|0.6|0|0|0|0|0|0.2|0.2|-0.2|100|0|0|32|0.16|1|1|1|0|1|0|0\n",
        "6|1|0.6|0.1|0|24|0|0.1|0.2|0|-0.2|120|-0.16|0|24|0.08|1|0|1|0|0|1|1\n",
        "7|1|0.4|0|0|0|7|0|0.2|0.2|0|120|0|7|24|0|0|1|0|0|0|1|1\n",
        "8|1|0.4|0.1|0.1|0|0|0.1|0.2|0.2|-0.2|100|0|0|32|0|0|0|1|1|1|1|1\n",
        "9|1|0.6|0|0|24|7|0|0|0|0|120|-0.16|14|24|0.16|1|1|0|0|0|0|0\n",
        "10|1|0.5|0.05|0.05|12|3|0.05|0.1|0.1|-0.1|110|-0.08|7|28|0.08|0|0|0|0|0|0|0\n",
        "11|1|0.4|0|0|24|7|0.1|0.2|0.1|-0.2|120|0|0|24|0|0|0|1|1|1|0|0\n",
        "12|1|0.4|0.1|0.1|24|0|0|0.2|0.2|-0.2|120|-0.16|0|32|0.16|0|1|0|1|0|0|0\n",
        "13|1|0.6|0|0|0|7|0.1|0|0|0|100|0|14|24|0|1|0|1|0|1|1|1\n",
        "14|1|0.6|0.05|0.1|24|7|0.1|0.2|0.2|0|120|0|14|32|0.16|1|1|1|1|1|1|1\n",
        "15|1|0.4|0|0|0|7|0|0|0.2|-0.2|120|-0.16|0|32|0.16|1|0|1|1|0|1|1\n",
        "16|1|0.4|0.05|0|0|0|0|0|0|-0.2|100|-0.16|0|24|0|0|0|0|0|0|0|0\n",
        "17|1|0.4|0.1|0.1|24|7|0.1|0|0|0|120|-0.16|14|24|0|0|0|0|1|0|1|1\n",
        "18|1|0.6|0.1|0.1|24|0|0.1|0|0|-0.2|100|-0.16|7|32|0.16|1|0|1|1|1|0|0\n",
        "19|1|0.6|0|0.1|0|0|0|0|0|0|120|-0.08|0|32|0|0|0|1|0|1|0|1\n",
        "20|1|0.6|0|0.1|0|0|0.1|0.2|0.2|-0.2|120|0|14|24|0.16|0|0|0|0|0|0|1\n",
        "21|1|0.6|0.1|0.1|0|0|0|0|0.1|0|100|-0.16|14|32|0.16|1|1|0|0|0|1|1\n",
        "22|1|0.5|0.05|0.05|12|3|0.05|0.1|0.1|-0.1|110|-0.08|7|28|0.08|1|1|1|1|1|1|1\n",
        "23|1|0.6|0.1|0.1|24|0|0.1|0.2|0|0|100|0|14|24|0|0|1|0|0|1|0|0\n",
        "24|1|0.6|0.1|0|0|3|0|0.2|0.2|0|120|-0.16|14|24|0.16|0|0|1|1|1|0|0\n",
        "25|1|0.5|0.1|0.1|0|0|0|0.2|0|0|120|0|0|24|0|1|1|1|1|0|1|0\n",
        "26|1|0.4|0|0.1|0|7|0|0|0.2|0|100|0|14|32|0.08|0|1|0|1|1|0|0\n"
      ]
    },
    {
      "cell_type": "markdown",
      "metadata": {
        "id": "kXTWOlP2g02W"
      },
      "source": [
        "**Block 2**\n",
        "\n",
        "xRun|Block|dropout|shiftX|shiftY|noise|blur|sharpen|contrast|brighten|darken|gamma|zoomOut|rotate|crop|zoomin|flipH|flipV|fancyPCA|equalize|channelShuffle|elasticTransform|togray\n",
        ":-| :-| :-| :-| :-| :-| :-| :-| :-| :-| :-| :-| :-| :-| :-| :-| :-| :-| :-| :-| :-| :-| :-\n",
        "27|2|0.6|0.1|0|12|6|0.1|0.2|0.2|0|100|-0.16|0|32|0|0|1|1|0|0|0|1\n",
        "28|2|0.6|0.1|0|0|6|0|0.2|0|-0.2|100|0|14|32|0|1|0|0|1|0|0|1\n",
        "29|2|0.4|0|0|24|0|0.05|0.2|0|0|100|0|14|32|0.16|0|0|1|0|0|1|0\n",
        "30|2|0.6|0.1|0|24|0|0|0|0.2|0|100|0|0|24|0.16|0|0|0|1|1|1|1\n",
        "31|2|0.6|0|0.1|24|6|0|0.2|0.2|-0.1|100|-0.16|0|24|0|1|0|0|0|1|1|0\n",
        "32|2|0.6|0|0.1|24|6|0|0.1|0|-0.2|100|0|0|24|0.16|0|1|1|1|0|0|1\n",
        "33|2|0.4|0.1|0.1|0|6|0|0.2|0|-0.2|100|-0.16|14|24|0.16|0|1|1|0|1|1|1\n",
        "34|2|0.4|0|0.1|0|6|0.1|0.2|0|-0.2|120|-0.16|14|32|0|1|1|1|0|0|0|0\n",
        "35|2|0.4|0.1|0.05|24|6|0|0.2|0|0|120|0|0|32|0.16|1|0|0|0|1|0|1\n",
        "36|2|0.6|0|0|24|0|0.1|0|0.2|0|120|0|0|32|0|1|0|0|1|0|0|0\n",
        "37|2|0.6|0.1|0.1|24|6|0|0|0.2|-0.2|120|0|14|32|0|0|0|1|0|0|1|0\n",
        "38|2|0.6|0|0.1|0|6|0.1|0.2|0|0|110|-0.16|0|32|0.16|0|0|0|1|0|1|0\n",
        "39|2|0.6|0|0.05|0|0|0.1|0|0.2|-0.2|100|-0.16|14|24|0|0|1|1|1|0|1|0\n",
        "40|2|0.4|0|0.1|12|0|0|0|0|-0.2|120|0|14|24|0.16|1|0|0|1|1|1|0\n",
        "41|2|0.6|0.1|0.1|0|6|0.05|0|0.2|-0.2|120|-0.16|0|24|0|1|1|0|1|1|0|1\n",
        "42|2|0.4|0|0.1|24|0|0.1|0|0.2|0|120|-0.16|0|24|0.16|0|1|1|0|1|1|0\n",
        "43|2|0.4|0.1|0|0|0|0.1|0.1|0.2|0|120|-0.16|14|32|0|1|0|0|0|1|1|0\n",
        "44|2|0.4|0|0|0|0|0.1|0.2|0|0|100|-0.16|0|24|0.16|1|1|0|1|1|0|1\n",
        "45|2|0.4|0.1|0|0|0|0.1|0|0|-0.1|120|0|14|32|0.16|0|1|1|1|0|0|1\n",
        "46|2|0.4|0.1|0.1|0|6|0.1|0|0.2|0|100|0|0|24|0.16|1|0|1|0|0|0|0\n",
        "47|2|0.4|0|0.1|24|0|0|0.2|0.2|0|100|-0.16|14|28|0|1|0|1|1|0|0|1\n",
        "48|2|0.4|0.1|0|24|0|0|0|0.2|-0.2|110|0|14|24|0|1|1|1|0|1|0|1\n",
        "49|2|0.6|0.1|0|0|6|0.1|0|0|-0.2|120|0|0|28|0.16|0|1|0|0|1|1|0\n",
        "50|2|0.6|0|0|24|0|0|0.2|0|-0.2|120|-0.16|14|32|0|0|1|0|1|1|1|1"
      ]
    },
    {
      "cell_type": "markdown",
      "metadata": {
        "id": "bxI97SD1NF2A"
      },
      "source": [
        "# Defining Experimental Run Order DataFrame"
      ]
    },
    {
      "cell_type": "code",
      "metadata": {
        "id": "-vaduYZTNGPI"
      },
      "source": [
        " ls_all_factors = ['xRun', 'Block', 'dropout', 'shiftX', 'shiftY', 'noise', 'blur', 'sharpen', 'contrast', 'brighten', 'darken', 'gamma', 'zoomOut', 'rotate', 'crop', 'zoomin', 'flipH', 'flipV', 'fancyPCA', 'equalize', 'channelShuffle', 'elasticTransform', 'togray']\n",
        "\n",
        "df_experimentalruns = pd.DataFrame(\t[\n",
        "[1, 1, 0.6, 0, 0, 24, 7, 0, 0, 0, 0.2, 120, 0, 14, 0, 0.16, 1, 1, 0, 0, 0, 0, 0],\n",
        "[2, 1, 0.6, 0.1, 0, 0, 3, 0, 0.2, 0.2, 0.2, 120, 0, 14, 0, 0.16, 0, 0, 1, 1, 1, 0, 0],\n",
        "[3, 1, 0.4, 0.1, 0.1, 0, 0, 0.1, 0.2, 0.2, 0, 100, 0.16, 0, 8, 0, 0, 0, 1, 1, 1, 1, 1],\n",
        "[4, 1, 0.5, 0.05, 0.05, 12, 3, 0.05, 0.1, 0.1, 0.1, 110, 0.08, 7, 4, 0.08, 1, 1, 1, 1, 1, 1, 1],\n",
        "[5, 1, 0.4, 0, 0.1, 0, 7, 0, 0, 0.2, 0.2, 100, 0.16, 14, 8, 0.08, 0, 1, 0, 1, 1, 0, 0],\n",
        "[6, 1, 0.4, 0.1, 0.1, 24, 7, 0.1, 0, 0, 0.2, 120, 0, 14, 0, 0, 0, 0, 0, 1, 0, 1, 1],\n",
        "[7, 1, 0.6, 0.1, 0.1, 24, 0, 0.1, 0, 0, 0, 100, 0, 7, 8, 0.16, 1, 0, 1, 1, 1, 0, 0],\n",
        "[8, 1, 0.4, 0.1, 0, 24, 7, 0, 0, 0, 0.2, 100, 0, 0, 8, 0, 1, 1, 1, 1, 1, 1, 0],\n",
        "[9, 1, 0.5, 0.05, 0.05, 12, 3, 0.05, 0.1, 0.1, 0.1, 110, 0.08, 7, 4, 0.08, 0, 0, 0, 0, 0, 0, 0],\n",
        "[10, 1, 0.5, 0, 0, 24, 7, 0.1, 0, 0.2, 0, 100, 0, 14, 8, 0.16, 0, 0, 0, 0, 1, 0, 1],\n",
        "[11, 1, 0.6, 0, 0, 0, 7, 0.1, 0, 0, 0.2, 100, 0.16, 14, 0, 0, 1, 0, 1, 0, 1, 1, 1],\n",
        "[12, 1, 0.4, 0.1, 0, 24, 7, 0.1, 0.2, 0.2, 0, 100, 0.08, 14, 0, 0.16, 1, 1, 0, 1, 0, 1, 0],\n",
        "[13, 1, 0.6, 0, 0.1, 0, 0, 0, 0, 0, 0.2, 120, 0.08, 0, 8, 0, 0, 0, 1, 0, 1, 0, 1],\n",
        "[14, 1, 0.4, 0.05, 0, 0, 0, 0, 0, 0, 0, 100, 0, 0, 0, 0, 0, 0, 0, 0, 0, 0, 0],\n",
        "[15, 1, 0.6, 0.05, 0.1, 24, 7, 0.1, 0.2, 0.2, 0.2, 120, 0.16, 14, 8, 0.16, 1, 1, 1, 1, 1, 1, 1],\n",
        "[16, 1, 0.4, 0, 0.1, 24, 3, 0.1, 0, 0, 0, 100, 0.16, 0, 8, 0, 1, 1, 0, 0, 0, 1, 1],\n",
        "[17, 1, 0.6, 0.1, 0.1, 24, 0, 0.1, 0.2, 0, 0.2, 100, 0.16, 14, 0, 0, 0, 1, 0, 0, 1, 0, 0],\n",
        "[18, 1, 0.4, 0, 0, 24, 7, 0.1, 0.2, 0.1, 0, 120, 0.16, 0, 0, 0, 0, 0, 1, 1, 1, 0, 0],\n",
        "[19, 1, 0.6, 0, 0.1, 0, 0, 0.1, 0.2, 0.2, 0, 120, 0.16, 14, 0, 0.16, 0, 0, 0, 0, 0, 0, 1],\n",
        "[20, 1, 0.6, 0, 0, 0, 0, 0, 0.2, 0.2, 0, 100, 0.16, 0, 8, 0.16, 1, 1, 1, 0, 1, 0, 0],\n",
        "[21, 1, 0.6, 0.1, 0.1, 0, 0, 0, 0, 0.1, 0.2, 100, 0, 14, 8, 0.16, 1, 1, 0, 0, 0, 1, 1],\n",
        "[22, 1, 0.4, 0, 0, 0, 7, 0, 0, 0.2, 0, 120, 0, 0, 8, 0.16, 1, 0, 1, 1, 0, 1, 1],\n",
        "[23, 1, 0.6, 0.1, 0, 24, 0, 0.1, 0.2, 0, 0, 120, 0, 0, 0, 0.08, 1, 0, 1, 0, 0, 1, 1],\n",
        "[24, 1, 0.4, 0, 0, 0, 7, 0, 0.2, 0.2, 0.2, 120, 0.16, 7, 0, 0, 0, 1, 0, 0, 0, 1, 1],\n",
        "[25, 1, 0.5, 0.1, 0.1, 0, 0, 0, 0.2, 0, 0.2, 120, 0.16, 0, 0, 0, 1, 1, 1, 1, 0, 1, 0],\n",
        "[26, 1, 0.4, 0.1, 0.1, 24, 0, 0, 0.2, 0.2, 0, 120, 0, 0, 8, 0.16, 0, 1, 0, 1, 0, 0, 0],\n",
        "[27, 2, 0.6, 0, 0.1, 24, 7, 0, 0.1, 0, 0, 100, 0.16, 0, 0, 0.16, 0, 1, 1, 1, 0, 0, 1],\n",
        "[28, 2, 0.6, 0.1, 0, 0, 7, 0.1, 0, 0, 0, 120, 0.16, 0, 4, 0.16, 0, 1, 0, 0, 1, 1, 0],\n",
        "[29, 2, 0.4, 0, 0.1, 24, 0, 0.1, 0, 0.2, 0.2, 120, 0, 0, 0, 0.16, 0, 1, 1, 0, 1, 1, 0],\n",
        "[30, 2, 0.4, 0, 0, 24, 0, 0.05, 0.2, 0, 0.2, 100, 0.16, 14, 8, 0.16, 0, 0, 1, 0, 0, 1, 0],\n",
        "[31, 2, 0.6, 0.1, 0.1, 24, 7, 0, 0, 0.2, 0, 120, 0.16, 14, 8, 0, 0, 0, 1, 0, 0, 1, 0],\n",
        "[32, 2, 0.4, 0.1, 0, 0, 0, 0.1, 0, 0, 0.1, 120, 0.16, 14, 8, 0.16, 0, 1, 1, 1, 0, 0, 1],\n",
        "[33, 2, 0.6, 0, 0, 24, 0, 0, 0.2, 0, 0, 120, 0, 14, 8, 0, 0, 1, 0, 1, 1, 1, 1],\n",
        "[34, 2, 0.6, 0, 0, 24, 0, 0.1, 0, 0.2, 0.2, 120, 0.16, 0, 8, 0, 1, 0, 0, 1, 0, 0, 0],\n",
        "[35, 2, 0.4, 0, 0.1, 12, 0, 0, 0, 0, 0, 120, 0.16, 14, 0, 0.16, 1, 0, 0, 1, 1, 1, 0],\n",
        "[36, 2, 0.4, 0.1, 0, 0, 0, 0.1, 0.1, 0.2, 0.2, 120, 0, 14, 8, 0, 1, 0, 0, 0, 1, 1, 0],\n",
        "[37, 2, 0.6, 0.1, 0.1, 0, 7, 0.05, 0, 0.2, 0, 120, 0, 0, 0, 0, 1, 1, 0, 1, 1, 0, 1],\n",
        "[38, 2, 0.6, 0, 0.1, 24, 7, 0, 0.2, 0.2, 0.1, 100, 0, 0, 0, 0, 1, 0, 0, 0, 1, 1, 0],\n",
        "[39, 2, 0.4, 0, 0.1, 0, 7, 0.1, 0.2, 0, 0, 120, 0, 14, 8, 0, 1, 1, 1, 0, 0, 0, 0],\n",
        "[40, 2, 0.4, 0, 0.1, 24, 0, 0, 0.2, 0.2, 0.2, 100, 0, 14, 4, 0, 1, 0, 1, 1, 0, 0, 1],\n",
        "[41, 2, 0.6, 0.1, 0, 0, 7, 0, 0.2, 0, 0, 100, 0.16, 14, 8, 0, 1, 0, 0, 1, 0, 0, 1],\n",
        "[42, 2, 0.4, 0.1, 0.1, 0, 7, 0.1, 0, 0.2, 0.2, 100, 0.16, 0, 0, 0.16, 1, 0, 1, 0, 0, 0, 0],\n",
        "[43, 2, 0.4, 0.1, 0.1, 0, 7, 0, 0.2, 0, 0, 100, 0, 14, 0, 0.16, 0, 1, 1, 0, 1, 1, 1],\n",
        "[44, 2, 0.4, 0.1, 0, 24, 0, 0, 0, 0.2, 0, 110, 0.16, 14, 0, 0, 1, 1, 1, 0, 1, 0, 1],\n",
        "[45, 2, 0.4, 0, 0, 0, 0, 0.1, 0.2, 0, 0.2, 100, 0, 0, 0, 0.16, 1, 1, 0, 1, 1, 0, 1],\n",
        "[46, 2, 0.6, 0.1, 0, 24, 0, 0, 0, 0.2, 0.2, 100, 0.16, 0, 0, 0.16, 0, 0, 0, 1, 1, 1, 1],\n",
        "[47, 2, 0.4, 0.1, 0.05, 24, 7, 0, 0.2, 0, 0.2, 120, 0.16, 0, 8, 0.16, 1, 0, 0, 0, 1, 0, 1],\n",
        "[48, 2, 0.6, 0, 0.1, 0, 7, 0.1, 0.2, 0, 0.2, 110, 0, 0, 8, 0.16, 0, 0, 0, 1, 0, 1, 0],\n",
        "[49, 2, 0.6, 0.1, 0, 12, 7, 0.1, 0.2, 0.2, 0.2, 100, 0, 0, 8, 0, 0, 1, 1, 0, 0, 0, 1],\n",
        "[50, 2, 0.6, 0, 0.05, 0, 0, 0.1, 0, 0.2, 0, 100, 0, 14, 0, 0, 0, 1, 1, 1, 0, 1, 0]\n",
        "],\n",
        "\n",
        "index=[1, 2, 3, 4, 5, 6, 7, 8, 9, 10, 11, 12, 13, 14, 15, 16, 17, 18, 19, 20, 21, 22, 23, 24, 25, 26, 27, 28, 29, 30, 31, 32, 33, 34, 35, 36, 37, 38, 39, 40, 41, 42, 43, 44, 45, 46, 47, 48, 49, 50], \n",
        "columns = ls_all_factors)\n",
        "\t\n",
        "# I had to make some changes to shift x and y values\n",
        "\n",
        "df_experimentalruns.loc[df_experimentalruns[\"shiftX\"]==0.1,\"shiftX\"] = 0.125  #this is 4/32\n",
        "df_experimentalruns.loc[df_experimentalruns[\"shiftX\"]==0.05,\"shiftX\"] = 0.0625  #this is 2/32\n",
        "df_experimentalruns[\"shiftX\"]\n",
        "\n",
        "df_experimentalruns.loc[df_experimentalruns[\"shiftY\"]==0.1,\"shiftY\"] = 0.125  #this is 4/32\n",
        "df_experimentalruns.loc[df_experimentalruns[\"shiftY\"]==0.05,\"shiftY\"] = 0.0625  #this is 2/32  \n",
        "\n",
        "#  Sigh of RELIEF.  Changing the percentage to \"divisible\" values of 32 made it so that theres no blur happening in the pictures, yay! "
      ],
      "execution_count": 34,
      "outputs": []
    },
    {
      "cell_type": "markdown",
      "metadata": {
        "id": "skvz-i_c5HN7"
      },
      "source": [
        "## View images from the dataset function (view_image(ds))"
      ]
    },
    {
      "cell_type": "code",
      "metadata": {
        "id": "2WL44kh05HN8"
      },
      "source": [
        "def view_image(ds):\n",
        "    image, label = next(iter(ds)) # extract 1 batch from the dataset\n",
        "    image = image.numpy()\n",
        "    label = label.numpy()\n",
        "    \n",
        "    fig = plt.figure(figsize=(16, 16))\n",
        "    for i in range(25):\n",
        "        ax = fig.add_subplot(5, 5, i+1, xticks=[], yticks=[])\n",
        "        ax.imshow(image[i])\n",
        "        ax.set_title(f\"Label: {label[i]}\")\n",
        "\n",
        "# Using `tf.image` is very efficient to create a pipeline but the disadvantage is that with `tf.image` we can only apply limited amounts of augmentations to our `input data`.\n",
        "# One way to solve is issue is to use `tf.keras` `ImageDataGenerator` class but `albumentations` is faster."
      ],
      "execution_count": 35,
      "outputs": []
    },
    {
      "cell_type": "markdown",
      "metadata": {
        "id": "Nzdx-SEV5HOE"
      },
      "source": [
        "To integrate `albumentations` into our tensorflow pipeline we can create two functions :  \n",
        "- Pipeline to apply `augmentation`.\n",
        "- a function that calls the above function and pass in our data through the pipeline.\n",
        "We can then wrap our 2nd Function under `tf.numpy_function` ."
      ]
    },
    {
      "cell_type": "markdown",
      "metadata": {
        "id": "vH0L97tx5HOF"
      },
      "source": [
        ""
      ]
    },
    {
      "cell_type": "markdown",
      "metadata": {
        "id": "0KsYvz8LXWw5"
      },
      "source": [
        "### Augmentation Functions (transforms = Compose([ ... ])   ) "
      ]
    },
    {
      "cell_type": "code",
      "metadata": {
        "id": "nmKkoddt5HOF"
      },
      "source": [
        "IMG_SIZE = 32\n",
        "\n",
        "def augmentfunction(df_experimentalruns, run):\n",
        "    \n",
        "  # Instantiate augments\n",
        "\n",
        "  cat_probability = 1\n",
        "  cont_probability = 1\n",
        "  random.seed(42)\n",
        "\n",
        "  # Assign Continuous Factors Levels by Run -------------------------\n",
        "\n",
        "  shift_limit_x_left =  df_experimentalruns.loc[run,\"shiftX\"]\n",
        "  shift_limit_x_right = df_experimentalruns.loc[run,\"shiftX\"]  \n",
        "  assert shift_limit_x_right >= shift_limit_x_left\n",
        "  assert shift_limit_x_right <= 1  #more than one is damaging\n",
        "  # print(\"Shift X: (\", shift_limit_x_left, \",\", shift_limit_x_right, \") or (\",-shift_limit_x_right, \",\", -shift_limit_x_left, \")\" )\n",
        "\n",
        "  shift_limit_y_left = df_experimentalruns.loc[run,\"shiftY\"]\n",
        "  shift_limit_y_right = df_experimentalruns.loc[run,\"shiftY\"]  \n",
        "  assert shift_limit_y_right >= shift_limit_y_left\n",
        "  assert shift_limit_y_right < 1  #more than one is damaging\n",
        "  # print(\"Shift Y: (\", shift_limit_y_left, \",\", shift_limit_y_right, \")or (\", -shift_limit_y_right, \",\", -shift_limit_y_left, \")\")\n",
        "\n",
        "\n",
        "  gamma_left =  df_experimentalruns.loc[run,\"gamma\"]     \n",
        "  gamma_right = df_experimentalruns.loc[run,\"gamma\"]  \n",
        "  assert gamma_right >= gamma_left\n",
        "  # print(\"Gamma: (\", gamma_left, \",\", gamma_right, \")\")\n",
        "\n",
        "  zoom_out_left = -df_experimentalruns.loc[run,\"zoomOut\"]  \n",
        "  zoom_out_right = -df_experimentalruns.loc[run,\"zoomOut\"] \n",
        "  assert zoom_out_right >= zoom_out_left\n",
        "  # print(\"ZoomOut: (\", zoom_out_left, \",\", zoom_out_right, \")\")\n",
        "\n",
        "\n",
        "  zoom_in_left = df_experimentalruns.loc[run,\"zoomin\"]\n",
        "  zoom_in_right = df_experimentalruns.loc[run,\"zoomin\"]\n",
        "  assert zoom_in_right >= zoom_in_left\n",
        "  assert zoom_in_right < 1.0\n",
        "  # print(\"ZoomIn: (\", zoom_in_left, \",\", zoom_in_right, \")\")\n",
        "\n",
        "\n",
        "\n",
        "  noise_left = df_experimentalruns.loc[run,\"noise\"]             # df_factors[\"Noise\"][df_experimentalruns.loc[run,\"Noise\"]])\n",
        "  noise_right = df_experimentalruns.loc[run,\"noise\"]         #  need to change noise to larger number\n",
        "  assert noise_right >= noise_left\n",
        "  # print(\"Noise: (\", noise_left, \",\", noise_right, \")\")\n",
        "\n",
        "\n",
        "  ## Is blur of 7 too high? :-\\ \n",
        "  if df_experimentalruns.loc[run,\"blur\"] == 0:\n",
        "    blur_probability = 0\n",
        "    print(\"blur is 0\")\n",
        "    blur_left = 0\n",
        "    blur_right = 0+1\n",
        "  else:\n",
        "    print(\"blur is not 0\")\n",
        "    blur_probability = 1\n",
        "    blur_left = df_experimentalruns.loc[run,\"blur\"]\n",
        "    blur_right = df_experimentalruns.loc[run,\"blur\"]\n",
        "  assert blur_right >= blur_left\n",
        "  assert blur_right > 0  # must be an integer  #I can't see a dfference using 7 and 9!\n",
        "  # print(\"blur: (\", blur_left, \",\", blur_right, \")\")\n",
        "\n",
        "\n",
        "  # Need to add Sharp to the menu of options\n",
        "  sharp_left = df_experimentalruns.loc[run,\"sharpen\"]\n",
        "  sharp_right = df_experimentalruns.loc[run,\"sharpen\"]\n",
        "  assert sharp_right >= sharp_left\n",
        "  # print(\"sharp: (\", sharp_left, \",\", sharp_right, \")\")\n",
        "\n",
        "\n",
        "  contrast_limit_left = df_experimentalruns.loc[run,\"contrast\"]\n",
        "  contrast_limit_right = df_experimentalruns.loc[run,\"contrast\"]\n",
        "  assert contrast_limit_right >= contrast_limit_left\n",
        "  # print(\"Contrast: (\", contrast_limit_left, \",\", contrast_limit_right, \")\")\n",
        "\n",
        "\n",
        "  brightness_limit_left = df_experimentalruns.loc[run,\"brighten\"]\n",
        "  brightness_limit_right = df_experimentalruns.loc[run,\"brighten\"] \n",
        "  assert brightness_limit_right >= brightness_limit_left\n",
        "  # print(\"Bright: (\", brightness_limit_left, \",\", brightness_limit_right, \")\")\n",
        "\n",
        "  darkness_limit_left = -df_experimentalruns.loc[run,\"darken\"] \n",
        "  darkness_limit_right = -df_experimentalruns.loc[run,\"darken\"]\n",
        "  assert darkness_limit_right >= darkness_limit_left\n",
        "  # print(\"Darken: (\", darkness_limit_left, \",\", darkness_limit_right, \")\")\n",
        "\n",
        "\n",
        "  rotate_left  = df_experimentalruns.loc[run,\"rotate\"]\n",
        "  rotate_right = df_experimentalruns.loc[run,\"rotate\"]\n",
        "  assert rotate_right >= rotate_left\n",
        "  # print(\"Rotate: (\", rotate_left, \",\", rotate_right, \") or (\",-rotate_right, \",\", -rotate_left, \")\" )\n",
        "\n",
        "\n",
        "  crop_value = 32-df_experimentalruns.loc[run,\"crop\"]\n",
        "\n",
        "\n",
        "  # Assign Categorical Factors Probabilities to make \"on\" or \"off\" -------------------------\n",
        "  pHorizontalFlip =   df_experimentalruns.loc[run,\"flipH\"]\n",
        "  # print(\"pHorizontalFlip: \", pHorizontalFlip)\n",
        "\n",
        "  pVerticalFlip =     df_experimentalruns.loc[run,\"flipV\"]\n",
        "  # print(\"pVerticalFlip: \", pVerticalFlip)\n",
        "\n",
        "  pEqualize =          df_experimentalruns.loc[run,\"equalize\"]\n",
        "  # print(\"pEqualize: \", pEqualize)\n",
        "\n",
        "  pFancyPCA =          df_experimentalruns.loc[run,\"fancyPCA\"]\n",
        "  # print(\"pFancyPCA: \", pFancyPCA)\n",
        "\n",
        "  pChannelShuffle =   df_experimentalruns.loc[run,\"channelShuffle\"]\n",
        "  print(\"pChannelShuffle: \", pChannelShuffle)\n",
        "\n",
        "  pElasticTransform =  df_experimentalruns.loc[run,\"elasticTransform\"]\n",
        "  # print(\"pElasticTransform: \", pElasticTransform)\n",
        "\n",
        "  pToGray =            df_experimentalruns.loc[run,\"togray\"]\n",
        "  # print(\"pToGray: \", pToGray)\n",
        "\n",
        "  background_value = 0\n",
        "\n",
        "   \n",
        "  #transforms = A.Compose([\n",
        "  list_of_transforms = [\n",
        "\n",
        "\n",
        "      #1. Shift Horizontally Right or Shift Horizontally Left\n",
        "      A.OneOf([\n",
        "                A.geometric.ShiftScaleRotate(rotate_limit=0, shift_limit_y=0, \n",
        "                                                  shift_limit_x=(shift_limit_x_left,shift_limit_x_right), \n",
        "                                                  scale_limit=0, border_mode=cv2.BORDER_CONSTANT, value=background_value),    \n",
        "                A.geometric.ShiftScaleRotate(rotate_limit=0, shift_limit_y=0, \n",
        "                                                  shift_limit_x=(-shift_limit_x_right,-shift_limit_x_left), \n",
        "                                                  scale_limit=0, border_mode=cv2.BORDER_CONSTANT, value=background_value)], \n",
        "              p=cont_probability),\n",
        "      \n",
        "      \n",
        "      # 2 Shift VERTICALLY  up or down \n",
        "      A.OneOf([\n",
        "                A.geometric.ShiftScaleRotate(rotate_limit=0, shift_limit_y=(shift_limit_y_left,shift_limit_y_right), shift_limit_x=0, scale_limit=0, border_mode=cv2.BORDER_CONSTANT, value=background_value),   \n",
        "                A.geometric.ShiftScaleRotate(rotate_limit=0, shift_limit_y=(-shift_limit_y_right, -shift_limit_y_left), shift_limit_x=0, scale_limit=0, border_mode=cv2.BORDER_CONSTANT, value=background_value)], \n",
        "              p =cont_probability),\n",
        "      \n",
        "      #3 NOISE ---------------------------------\n",
        "      A.transforms.GaussNoise(var_limit=(noise_left,noise_right), p=cont_probability),  \n",
        "\n",
        "      #4 BLUR\n",
        "      A.transforms.GaussianBlur(blur_limit=(blur_left,blur_right), sigma_limit=(0.5,0.05), p=blur_probability),  #Blur\n",
        "      \n",
        "      #5 Sharpen \n",
        "      A.transforms.Sharpen(alpha=(sharp_left,sharp_right), lightness=(0.0, 0.0), p=cont_probability),  #AntiBlur keep lightness constant at 0?\n",
        "        \n",
        "      #6 Contrast\n",
        "      A.transforms.RandomBrightnessContrast(brightness_limit=(0,0), contrast_limit=(contrast_limit_left,contrast_limit_right), p=cont_probability),       \n",
        "\n",
        "      #7 Brightness\n",
        "      A.transforms.RandomBrightnessContrast(brightness_limit=(brightness_limit_left,brightness_limit_right), contrast_limit=(0,0), p=cont_probability),      \n",
        "      \n",
        "      #8 Darkness\n",
        "      A.transforms.RandomBrightnessContrast(brightness_limit=(darkness_limit_left,darkness_limit_right), contrast_limit=(0,0), p=cont_probability),  #darkness\n",
        "\n",
        "      #9 GAMMA\n",
        "      # A.transforms.RandomGamma(gamma_limit=(gamma_left,gamma_right), p=cont_probability),  \n",
        "      \n",
        "\n",
        "      #10 Zoom Out\n",
        "      A.geometric.ShiftScaleRotate(rotate_limit=0,  shift_limit_y=0, shift_limit_x=0, scale_limit=(zoom_out_left,zoom_out_right), border_mode=cv2.BORDER_CONSTANT, value=background_value, p=cont_probability),    #Zoom Out safe: scale_limit=(-0.15,-0.1)\n",
        "\n",
        "      #11  Rotate CW or CCW\n",
        "      A.OneOf([\n",
        "                    A.geometric.SafeRotate(limit=(rotate_left,rotate_right), border_mode=cv2.BORDER_CONSTANT, value=background_value),\n",
        "                    A.geometric.SafeRotate(limit=(-rotate_right,-rotate_left), border_mode=cv2.BORDER_CONSTANT, value=background_value)], p=1),\n",
        "      \n",
        "      #12  Crop then Pad\n",
        "      A.crops.transforms.CenterCrop(height=crop_value, width=crop_value,  p=cont_probability),       # Crop 24,24 is the extreme\n",
        "      A.transforms.PadIfNeeded(min_height=32, min_width=32,  border_mode=cv2.BORDER_CONSTANT, value=background_value, p=1),\n",
        "\n",
        "      # 13 ZoomIn\n",
        "      A.geometric.ShiftScaleRotate(rotate_limit=0, shift_limit_y=0, shift_limit_x=0,\n",
        "                                    scale_limit=(zoom_in_left,zoom_in_right), border_mode=cv2.BORDER_CONSTANT, value=background_value, p=cont_probability),  \n",
        "\n",
        "      # 14 FlipH\n",
        "      A.HorizontalFlip(p=pHorizontalFlip),\n",
        "      \n",
        "      # 15 FlipVert\n",
        "      A.VerticalFlip(p=pVerticalFlip),\n",
        "      \n",
        "      #16 FANCY PCA\n",
        "      A.transforms.FancyPCA(alpha=0.1, p=pFancyPCA),                    # FancyPCA Amount to perturn eigenvalues not Categorical\n",
        "      \n",
        "      #17 Elastic Transform\n",
        "      A.geometric.ElasticTransform(alpha=0.1, sigma=0.001, alpha_affine=0.001, \n",
        "                                    same_dxdy=True, border_mode=cv2.BORDER_CONSTANT, \n",
        "                                    value=background_value, p=pElasticTransform),    #Seems more like a blur than a transform?\n",
        "      \n",
        "      # #Resize to 32x32 for crop\n",
        "      # A.geometric.Resize(height=32, width=32, p=1),\n",
        "\n",
        "      #18 Histogram Equalizer\n",
        "      A.transforms.Equalize(p=pEqualize),  \n",
        "\n",
        "      #19 CHANNELSHUFFLE\n",
        "      A.transforms.ChannelShuffle(p=pChannelShuffle),  #this is prob going to ruin accuracy\n",
        "\n",
        "\n",
        "      #20 Turn Everything Gray\n",
        "      A.transforms.ToGray(p=pToGray)\n",
        "\n",
        "    ] #)  \n",
        "    \n",
        "  return list_of_transforms\n",
        "\n"
      ],
      "execution_count": 36,
      "outputs": []
    },
    {
      "cell_type": "markdown",
      "metadata": {
        "id": "6P7iEY6TXcCe"
      },
      "source": [
        "### Augment_Function returns augmented image"
      ]
    },
    {
      "cell_type": "code",
      "metadata": {
        "id": "XucKZYBg5HOI"
      },
      "source": [
        "def aug_fn(image, img_size):\n",
        "    data = {\"image\":image}\n",
        "    aug_data = transforms(**data)\n",
        "    aug_img = aug_data[\"image\"]\n",
        "    aug_img = tf.cast(aug_img/255.0, tf.float32)\n",
        "    aug_img = tf.image.resize(aug_img, size=[img_size, img_size])\n",
        "    return aug_img\n",
        "\n",
        "def no_aug_fn(image, img_size):\n",
        "    data = {\"image\":image}\n",
        "    #aug_data = transforms(**data)\n",
        "    img = data[\"image\"]\n",
        "    img = tf.cast(img/255.0, tf.float32)\n",
        "    img = tf.image.resize(img, size=[img_size, img_size])\n",
        "    return img"
      ],
      "execution_count": 37,
      "outputs": []
    },
    {
      "cell_type": "markdown",
      "metadata": {
        "id": "VBMCft7eXkKL"
      },
      "source": [
        "#### Process_Data (returns augmented image and label)"
      ]
    },
    {
      "cell_type": "code",
      "metadata": {
        "id": "k9wPsk2J5HOK"
      },
      "source": [
        "def process_data(image, label, img_size):\n",
        "    aug_img = tf.numpy_function(func=aug_fn, inp=[image, img_size], Tout=tf.float32)\n",
        "    return aug_img, label\n",
        "\n",
        "\n",
        "def no_process_data(image, label, img_size):\n",
        "    no_aug_img = tf.numpy_function(func=no_aug_fn, inp=[image, img_size], Tout=tf.float32)\n",
        "    return no_aug_img, label\n",
        "    "
      ],
      "execution_count": 38,
      "outputs": []
    },
    {
      "cell_type": "markdown",
      "metadata": {
        "id": "JuTDB9vwDQzB"
      },
      "source": [
        "#### Restoring dataset shapes. \n",
        "The datasets loses its shape after applying a tf.numpy_function, so this is necessary for the sequential model and when inheriting from the model class."
      ]
    },
    {
      "cell_type": "code",
      "metadata": {
        "id": "Os3MmtYPDP3z"
      },
      "source": [
        "def set_shapes(img, label, img_shape=(IMG_SIZE,IMG_SIZE,3)):\n",
        "    img.set_shape(img_shape)\n",
        "    label.set_shape([])\n",
        "    return img, label"
      ],
      "execution_count": 39,
      "outputs": []
    },
    {
      "cell_type": "markdown",
      "metadata": {
        "id": "lZR8EWg6iFKu"
      },
      "source": [
        "## `Note`: \n",
        "Some `API's` of `tensorflow.keras.Model` might not work, if you dont map the dataset with the set_shapes function."
      ]
    },
    {
      "cell_type": "code",
      "metadata": {
        "colab": {
          "base_uri": "https://localhost:8080/"
        },
        "id": "vW0SQXPZWQUD",
        "outputId": "95e6f7ee-be12-42d5-e7e7-906826bff6d2"
      },
      "source": [
        "stop_augmentations = time.time()\n",
        "print(stop_augmentations - start_augmentations , \"secs for augmenting data\")"
      ],
      "execution_count": 40,
      "outputs": [
        {
          "output_type": "stream",
          "name": "stdout",
          "text": [
            "12.134274959564209 secs for augmenting data\n"
          ]
        }
      ]
    },
    {
      "cell_type": "markdown",
      "metadata": {
        "id": "L2jwAZW1Gthx"
      },
      "source": [
        "## Train\n"
      ]
    },
    {
      "cell_type": "code",
      "metadata": {
        "colab": {
          "base_uri": "https://localhost:8080/"
        },
        "id": "BNC4zD09LIWQ",
        "outputId": "aeb0bfd3-fcaa-41e8-ad91-a73c8d33ee3d"
      },
      "source": [
        "import pickle\n",
        "\n",
        "# The augmented data returns floats between 0 and 1\n",
        "# The unaugmented data is integers uint8 between 0 and 255 \n",
        "\n",
        "unbatch_train_A = (tf.data.Dataset.unbatch(train_A))\n",
        "#No Augmentations \"No Albumentations\"\n",
        "train_A_noalb = unbatch_train_A.map(set_shapes, num_parallel_calls=AUTOTUNE)\n",
        "train_A_noalb = train_A_noalb.map(partial(no_process_data, img_size=IMG_SIZE),\n",
        "                  num_parallel_calls=AUTOTUNE).prefetch(AUTOTUNE)\n",
        " \n",
        "# print(train_A_noalb)  # types: (tf.uint8, tf.int64)>\n",
        "# print(train_A_alb)\n",
        "\n",
        "# def cache_prefetch_group(train_tf):\n",
        "    \n",
        "#     train_tf = train_tf.shuffle(5000, reshuffle_each_iteration=True, seed=seed)\n",
        "#     train_tf = train_tf.cache().prefetch(buffer_size=AUTOTUNE)\n",
        "#     train_tf = train_tf.batch(1000)  # I believe its good to not have a remainder to cut ds evenly but I'm not sure\n",
        "#     return train_tf \n",
        "\n",
        "\n",
        "\n",
        "CLASSES = info.features['label'].names\n",
        "\n",
        "def show_confusion_matrix(test_labels, predictions, CLASSES):\n",
        "    \"\"\"Compute confusion matrix and normalize.\"\"\"\n",
        "    confusion = sklearn.metrics.confusion_matrix(test_labels, predictions,  labels=[0, 1, 2, 3, 4, 5, 6, 7, 8, 9])\n",
        "    \n",
        "    confusing_part_matrix= np.array(confusion)-np.identity(confusion.shape[0])*np.diag(confusion)\n",
        "  \n",
        "    axis_labels = CLASSES\n",
        "  \n",
        "    ax = sns.heatmap(\n",
        "        confusing_part_matrix, xticklabels=axis_labels, yticklabels=axis_labels,\n",
        "        cmap='Blues', annot=True, square=True, fmt='.0f')\n",
        "\n",
        "    plt.title(\"Confusion matrix without Diagonal\")\n",
        "    plt.ylabel(\"True label\")\n",
        "    plt.xlabel(\"Predicted label\")\n",
        "\n",
        "\n",
        "\n",
        "\n",
        "Group_A_Runs = {}   #dictionary\n",
        "# Group_A_Runs[run] = {'TestAccuracy': 0}\n",
        "\n",
        "\n",
        "for run in range(50): # df_experimentalruns['xRun']:\n",
        "  run = run + 1  \n",
        "  print(\"Run: \", run)\n",
        "\n",
        "  \n",
        "  model = makemodel(DROPOUT=df_experimentalruns.loc[run,'dropout' ])\n",
        "  list_of_transforms = augmentfunction( df_experimentalruns, run )\n",
        " \n",
        "  transforms = A.Compose(transforms = list_of_transforms)\n",
        "  \n",
        "  # Augmentations \"Albumentations\"\n",
        "  train_A_alb = unbatch_train_A.map(partial(process_data, img_size=IMG_SIZE),\n",
        "                  num_parallel_calls=AUTOTUNE).prefetch(AUTOTUNE)\n",
        "\n",
        "  train_A_alb = train_A_alb.map(set_shapes, num_parallel_calls=AUTOTUNE)\n",
        "\n",
        "  # train_A_noalb.shuffle(buffer_size=2500, reshuffle_each_iteration=True, seed=seed)\n",
        "  # train_A_alb.shuffle(buffer_size = 5000, reshuffle_each_iteration=True, seed=seed)\n",
        "\n",
        "  new_train_A = train_A_alb.concatenate(train_A_noalb)\n",
        "  # new_train_A = cache_prefetch_group(new_train_A)\n",
        "\n",
        "  #Is there something I can do to below to speed up training better?\n",
        "  new_train_A = new_train_A.shuffle(buffer_size=5000, reshuffle_each_iteration=True, seed = seed).cache().prefetch(buffer_size=AUTOTUNE).batch(250)\n",
        "\n",
        "  # view_image(new_train_A)  # the labels looked mostly right that I could tell, \n",
        "\n",
        "  # ALLLLLLLLLLLL my time spent here\n",
        "  modeltrained = trainmodel(MODEL = model, TRAININGDATA= new_train_A)\n",
        "\n",
        "\n",
        "  # train_A_alb_new = cache_prefetch_group(train_A_alb)\n",
        "  # view_image(train_A_alb_new)\n",
        "  # modeltrained = trainmodel(MODEL = model, TRAININGDATA= train_A_alb_new)\n",
        "\n",
        "  loss, acc = modeltrained.evaluate(x_test, verbose=0) \n",
        "  print(\"TestLoss: \", loss, \" TestAcc:\", acc)\n",
        "\n",
        "  y_pred = modeltrained.predict(x_test)\n",
        "  # I need to convert this large y_pred of continuous probabilities into a 1-coded label vectors\n",
        "  y_pred_1hot = np.argmax(y_pred, axis=1)\n",
        "  cm = confusion_matrix(y_true = y_test, y_pred = y_pred_1hot,  labels=[0, 1, 2, 3, 4, 5, 6, 7, 8, 9] ) \n",
        "  # disp = ConfusionMatrixDisplay(cm, display_labels=['airplane', 'automobile','bird','cat','deer','dog','frog','horse','ship','truck']).plot()\n",
        "  # print(cm)\n",
        "\n",
        "  # confusion_matrix(y_true = y_test, y_pred = y_pred_1hot )\n",
        "  # show_confusion_matrix(y_test, y_pred_1hot, CLASSES = CLASSES)\n",
        "\n",
        "  Group_A_Runs[run] = {'TestAccuracy': acc, 'TestLoss': loss, 'CM': cm}\n",
        "\n",
        "now = time.time()\n",
        "print(now - start_augmentations , \"secs for training augmented data through model\")"
      ],
      "execution_count": null,
      "outputs": [
        {
          "output_type": "stream",
          "name": "stdout",
          "text": [
            "Run:  1\n",
            "blur is not 0\n",
            "pChannelShuffle:  0\n",
            "Early Stop Epoch:  29  when Val Acc was:  0.26840001344680786\n",
            "TestLoss:  101.81243896484375  TestAcc: 0.2775000035762787\n",
            "Run:  2\n",
            "blur is not 0\n",
            "pChannelShuffle:  1\n",
            "Early Stop Epoch:  8  when Val Acc was:  0.12020000070333481\n",
            "TestLoss:  6.801170349121094  TestAcc: 0.12070000171661377\n",
            "Run:  3\n",
            "blur is 0\n",
            "pChannelShuffle:  1\n",
            "Early Stop Epoch:  5  when Val Acc was:  0.1526000052690506\n",
            "TestLoss:  4.650789260864258  TestAcc: 0.15109999477863312\n",
            "Run:  4\n",
            "blur is not 0\n",
            "pChannelShuffle:  1\n",
            "Early Stop Epoch:  25  when Val Acc was:  0.2240999937057495\n",
            "TestLoss:  63.32215118408203  TestAcc: 0.22849999368190765\n",
            "Run:  5\n",
            "blur is not 0\n",
            "pChannelShuffle:  1\n",
            "Early Stop Epoch:  1  when Val Acc was:  0.13490000367164612\n",
            "TestLoss:  3.0345962047576904  TestAcc: 0.13510000705718994\n",
            "WARNING:tensorflow:5 out of the last 5 calls to <function Model.make_predict_function.<locals>.predict_function at 0x7f127d8b6560> triggered tf.function retracing. Tracing is expensive and the excessive number of tracings could be due to (1) creating @tf.function repeatedly in a loop, (2) passing tensors with different shapes, (3) passing Python objects instead of tensors. For (1), please define your @tf.function outside of the loop. For (2), @tf.function has experimental_relax_shapes=True option that relaxes argument shapes that can avoid unnecessary retracing. For (3), please refer to https://www.tensorflow.org/guide/function#controlling_retracing and https://www.tensorflow.org/api_docs/python/tf/function for  more details.\n"
          ]
        },
        {
          "output_type": "stream",
          "name": "stderr",
          "text": [
            "WARNING:tensorflow:5 out of the last 5 calls to <function Model.make_predict_function.<locals>.predict_function at 0x7f127d8b6560> triggered tf.function retracing. Tracing is expensive and the excessive number of tracings could be due to (1) creating @tf.function repeatedly in a loop, (2) passing tensors with different shapes, (3) passing Python objects instead of tensors. For (1), please define your @tf.function outside of the loop. For (2), @tf.function has experimental_relax_shapes=True option that relaxes argument shapes that can avoid unnecessary retracing. For (3), please refer to https://www.tensorflow.org/guide/function#controlling_retracing and https://www.tensorflow.org/api_docs/python/tf/function for  more details.\n"
          ]
        },
        {
          "output_type": "stream",
          "name": "stdout",
          "text": [
            "Run:  6\n",
            "blur is not 0\n",
            "pChannelShuffle:  0\n",
            "Early Stop Epoch:  13  when Val Acc was:  0.22310000658035278\n",
            "TestLoss:  8.011981010437012  TestAcc: 0.22200000286102295\n",
            "WARNING:tensorflow:6 out of the last 6 calls to <function Model.make_predict_function.<locals>.predict_function at 0x7f1324367950> triggered tf.function retracing. Tracing is expensive and the excessive number of tracings could be due to (1) creating @tf.function repeatedly in a loop, (2) passing tensors with different shapes, (3) passing Python objects instead of tensors. For (1), please define your @tf.function outside of the loop. For (2), @tf.function has experimental_relax_shapes=True option that relaxes argument shapes that can avoid unnecessary retracing. For (3), please refer to https://www.tensorflow.org/guide/function#controlling_retracing and https://www.tensorflow.org/api_docs/python/tf/function for  more details.\n"
          ]
        },
        {
          "output_type": "stream",
          "name": "stderr",
          "text": [
            "WARNING:tensorflow:6 out of the last 6 calls to <function Model.make_predict_function.<locals>.predict_function at 0x7f1324367950> triggered tf.function retracing. Tracing is expensive and the excessive number of tracings could be due to (1) creating @tf.function repeatedly in a loop, (2) passing tensors with different shapes, (3) passing Python objects instead of tensors. For (1), please define your @tf.function outside of the loop. For (2), @tf.function has experimental_relax_shapes=True option that relaxes argument shapes that can avoid unnecessary retracing. For (3), please refer to https://www.tensorflow.org/guide/function#controlling_retracing and https://www.tensorflow.org/api_docs/python/tf/function for  more details.\n"
          ]
        },
        {
          "output_type": "stream",
          "name": "stdout",
          "text": [
            "Run:  7\n",
            "blur is 0\n",
            "pChannelShuffle:  1\n",
            "Early Stop Epoch:  3  when Val Acc was:  0.16940000653266907\n",
            "TestLoss:  2.9121077060699463  TestAcc: 0.17069999873638153\n",
            "Run:  8\n",
            "blur is not 0\n",
            "pChannelShuffle:  1\n",
            "Early Stop Epoch:  1  when Val Acc was:  0.1281999945640564\n",
            "TestLoss:  2.7314200401306152  TestAcc: 0.13050000369548798\n",
            "Run:  9\n",
            "blur is not 0\n",
            "pChannelShuffle:  0\n",
            "Early Stop Epoch:  1  when Val Acc was:  0.17800000309944153\n",
            "TestLoss:  2.8159420490264893  TestAcc: 0.17839999496936798\n",
            "Run:  10\n",
            "blur is not 0\n",
            "pChannelShuffle:  1\n",
            "Early Stop Epoch:  20  when Val Acc was:  0.21050000190734863\n",
            "TestLoss:  42.86604309082031  TestAcc: 0.21250000596046448\n",
            "Run:  11\n",
            "blur is not 0\n",
            "pChannelShuffle:  1\n",
            "Early Stop Epoch:  2  when Val Acc was:  0.20759999752044678\n",
            "TestLoss:  2.655015468597412  TestAcc: 0.2061000019311905\n",
            "Run:  12\n",
            "blur is not 0\n",
            "pChannelShuffle:  0\n",
            "Early Stop Epoch:  5  when Val Acc was:  0.1597999930381775\n",
            "TestLoss:  3.3751375675201416  TestAcc: 0.16300000250339508\n",
            "Run:  13\n",
            "blur is 0\n",
            "pChannelShuffle:  1\n",
            "Early Stop Epoch:  11  when Val Acc was:  0.19370000064373016\n",
            "TestLoss:  6.8312788009643555  TestAcc: 0.1941000074148178\n",
            "Run:  14\n",
            "blur is 0\n",
            "pChannelShuffle:  0\n",
            "Early Stop Epoch:  5  when Val Acc was:  0.17159999907016754\n",
            "TestLoss:  3.0449492931365967  TestAcc: 0.1688999980688095\n",
            "Run:  15\n",
            "blur is not 0\n",
            "pChannelShuffle:  1\n",
            "Early Stop Epoch:  10  when Val Acc was:  0.21930000185966492\n",
            "TestLoss:  5.336484909057617  TestAcc: 0.2167000025510788\n",
            "Run:  16\n",
            "blur is not 0\n",
            "pChannelShuffle:  0\n",
            "Early Stop Epoch:  14  when Val Acc was:  0.19859999418258667\n",
            "TestLoss:  11.421043395996094  TestAcc: 0.18649999797344208\n",
            "Run:  17\n",
            "blur is 0\n",
            "pChannelShuffle:  1\n",
            "Early Stop Epoch:  6  when Val Acc was:  0.21060000360012054\n",
            "TestLoss:  2.9346110820770264  TestAcc: 0.2134000062942505\n",
            "Run:  18\n",
            "blur is not 0\n",
            "pChannelShuffle:  1\n",
            "Early Stop Epoch:  8  when Val Acc was:  0.1565999984741211\n",
            "TestLoss:  6.463376045227051  TestAcc: 0.15530000627040863\n",
            "Run:  19\n",
            "blur is 0\n",
            "pChannelShuffle:  0\n"
          ]
        }
      ]
    },
    {
      "cell_type": "markdown",
      "metadata": {
        "id": "ddHUpBzmJgDg"
      },
      "source": [
        "### Confusion Matrix on Test-Set Data "
      ]
    },
    {
      "cell_type": "code",
      "metadata": {
        "id": "fG4rj-2peeUz",
        "colab": {
          "base_uri": "https://localhost:8080/",
          "height": 231
        },
        "outputId": "739a7bb5-5ae9-4ddb-84c8-69ce9d4433bb"
      },
      "source": [
        "for k, v in Group_A_Runs.items():\n",
        "   a_line = print(k, v)\n",
        "\n",
        "with open('pickled_data_file.pkl', 'wb') as fid:\n",
        "     pickle.dump(Group_A_Runs, fid)\n",
        "\n",
        "\n",
        "\n",
        "from google.colab import files\n",
        "files.download('pickled_data_file.pkl')\n",
        "\n",
        "# for k, v in Group_A_Runs.items():\n",
        "#   with open('group_a_runs.txt', 'w') as writefile:\n",
        "#     a_line = k +  v\n",
        "#     writefile.write(a_line)"
      ],
      "execution_count": 1,
      "outputs": [
        {
          "output_type": "error",
          "ename": "NameError",
          "evalue": "ignored",
          "traceback": [
            "\u001b[0;31m---------------------------------------------------------------------------\u001b[0m",
            "\u001b[0;31mNameError\u001b[0m                                 Traceback (most recent call last)",
            "\u001b[0;32m<ipython-input-1-3096faca44d0>\u001b[0m in \u001b[0;36m<module>\u001b[0;34m()\u001b[0m\n\u001b[0;32m----> 1\u001b[0;31m \u001b[0;32mfor\u001b[0m \u001b[0mk\u001b[0m\u001b[0;34m,\u001b[0m \u001b[0mv\u001b[0m \u001b[0;32min\u001b[0m \u001b[0mGroup_A_Runs\u001b[0m\u001b[0;34m.\u001b[0m\u001b[0mitems\u001b[0m\u001b[0;34m(\u001b[0m\u001b[0;34m)\u001b[0m\u001b[0;34m:\u001b[0m\u001b[0;34m\u001b[0m\u001b[0;34m\u001b[0m\u001b[0m\n\u001b[0m\u001b[1;32m      2\u001b[0m    \u001b[0ma_line\u001b[0m \u001b[0;34m=\u001b[0m \u001b[0mprint\u001b[0m\u001b[0;34m(\u001b[0m\u001b[0mk\u001b[0m\u001b[0;34m,\u001b[0m \u001b[0mv\u001b[0m\u001b[0;34m)\u001b[0m\u001b[0;34m\u001b[0m\u001b[0;34m\u001b[0m\u001b[0m\n\u001b[1;32m      3\u001b[0m \u001b[0;34m\u001b[0m\u001b[0m\n\u001b[1;32m      4\u001b[0m \u001b[0;32mwith\u001b[0m \u001b[0mopen\u001b[0m\u001b[0;34m(\u001b[0m\u001b[0;34m'pickled_data_file.pkl'\u001b[0m\u001b[0;34m,\u001b[0m \u001b[0;34m'wb'\u001b[0m\u001b[0;34m)\u001b[0m \u001b[0;32mas\u001b[0m \u001b[0mfid\u001b[0m\u001b[0;34m:\u001b[0m\u001b[0;34m\u001b[0m\u001b[0;34m\u001b[0m\u001b[0m\n\u001b[1;32m      5\u001b[0m      \u001b[0mpickle\u001b[0m\u001b[0;34m.\u001b[0m\u001b[0mdump\u001b[0m\u001b[0;34m(\u001b[0m\u001b[0mGroup_A_Runs\u001b[0m\u001b[0;34m,\u001b[0m \u001b[0mfid\u001b[0m\u001b[0;34m)\u001b[0m\u001b[0;34m\u001b[0m\u001b[0;34m\u001b[0m\u001b[0m\n",
            "\u001b[0;31mNameError\u001b[0m: name 'Group_A_Runs' is not defined"
          ]
        }
      ]
    },
    {
      "cell_type": "code",
      "metadata": {
        "id": "bekNPJQj7O7o"
      },
      "source": [
        ""
      ],
      "execution_count": null,
      "outputs": []
    },
    {
      "cell_type": "code",
      "metadata": {
        "colab": {
          "base_uri": "https://localhost:8080/"
        },
        "id": "ZxIYOKK3nazs",
        "outputId": "f2072d8b-49b7-4b8d-b4a4-9c047bf7e62d"
      },
      "source": [
        "import pickle\n",
        "with open('pickled_data_file.pkl', 'rb') as fid:\n",
        "     data3 = pickle.load(fid)  #this file originally saved 10-31-2021 in my downlods\n",
        "\n",
        "\n",
        "data3[1]"
      ],
      "execution_count": 10,
      "outputs": [
        {
          "output_type": "execute_result",
          "data": {
            "text/plain": [
              "{'CM': array([[407,   2, 144,  26,   0, 301,   0, 116,   1,   3],\n",
              "        [218,  70,  86,  24,   0, 400,   1, 159,   4,  38],\n",
              "        [ 43,   2, 168,  23,   0, 719,   0,  44,   0,   1],\n",
              "        [ 16,   0,  75,  33,   0, 835,   0,  39,   0,   2],\n",
              "        [ 18,   0,  78,  21,   0, 810,   0,  71,   1,   1],\n",
              "        [  4,   0,  58,  14,   0, 886,   0,  37,   0,   1],\n",
              "        [ 11,   0,  52,  20,   0, 887,   7,  23,   0,   0],\n",
              "        [ 15,   0,  46,  17,   0, 668,   1, 251,   0,   2],\n",
              "        [369,   1,  73,  42,   0, 322,   0, 163,  18,  12],\n",
              "        [119,  26,  68,  19,   0, 483,   0, 197,   2,  86]]),\n",
              " 'TestAccuracy': 0.19259999692440033,\n",
              " 'TestLoss': 40.27682876586914}"
            ]
          },
          "metadata": {},
          "execution_count": 10
        }
      ]
    }
  ]
}