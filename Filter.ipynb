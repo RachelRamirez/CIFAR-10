{
  "nbformat": 4,
  "nbformat_minor": 0,
  "metadata": {
    "colab": {
      "name": "Filter.ipynb",
      "provenance": [],
      "toc_visible": true,
      "include_colab_link": true
    },
    "kernelspec": {
      "name": "python3",
      "display_name": "Python 3"
    },
    "accelerator": "GPU"
  },
  "cells": [
    {
      "cell_type": "markdown",
      "metadata": {
        "id": "view-in-github",
        "colab_type": "text"
      },
      "source": [
        "<a href=\"https://colab.research.google.com/github/RachelRamirez/CIFAR-10/blob/main/Filter.ipynb\" target=\"_parent\"><img src=\"https://colab.research.google.com/assets/colab-badge.svg\" alt=\"Open In Colab\"/></a>"
      ]
    },
    {
      "cell_type": "markdown",
      "metadata": {
        "id": "clsNM6VmYkbd"
      },
      "source": [
        "# Imports"
      ]
    },
    {
      "cell_type": "code",
      "metadata": {
        "id": "51kUNphD_Vj9"
      },
      "source": [
        "import tensorflow as tf\n",
        "import tensorflow_datasets as tfds\n",
        "\n",
        "import matplotlib.pyplot as plt\n",
        "\n",
        "import numpy as np\n",
        "import pandas as pd\n"
      ],
      "execution_count": 1,
      "outputs": []
    },
    {
      "cell_type": "markdown",
      "metadata": {
        "id": "4ODbm50NY1AW"
      },
      "source": [
        "Make Image Datasets"
      ]
    },
    {
      "cell_type": "markdown",
      "metadata": {
        "id": "AuNDxhJEKUoj"
      },
      "source": [
        "One of my biggest learning curves was learning how to load  the dataset with tdfs.load() and then filter on images by label.  Once I learned that it was a little less complicated to figure out how to slice and dice the image-datasets into mini-datasets with equal number of classes.\n",
        "\n",
        "The second biggest after making a model and training it with the train and val datasets, was using the model to make predictions on the test set.  Unlike the train and validation sets I created, the test-set wouldn't be read by model.evaluate or model.predict.   Although this problem is at the very bottom of the jupyter notebook I tried to fix it here at the top.   About 100 stackoverflow examples later I think I got one [here](https://stackoverflow.com/questions/62436302/extract-target-from-tensorflow-prefetchdataset)\n",
        "\n",
        "\n",
        "Another problem that reoccurs is anytime I inadvertently want to mess with batch-size on the x_test dataset, I change the shapen from (None, 32, 32, 3) to (None, None, 32, 32, 3) and then it doesn't fit in model.evaluate() anymore.   I created a backup copy of x_test so I don't have to rerun the entire notebook each time."
      ]
    },
    {
      "cell_type": "code",
      "metadata": {
        "id": "nqQHy1cx_ZK_"
      },
      "source": [
        "dataset, info = tfds.load('cifar10', as_supervised=True, with_info=True)\n",
        "\n",
        "dataset, x_test = dataset[\"train\"], dataset[\"test\"]\n",
        "assert isinstance(x_test, tf.data.Dataset)\n",
        "#x_test = [(example.numpy(), label.numpy()) for example, label in x_test]\n",
        "# once broken into numpy arrays, my model still doesn't handle it, it seems to be expecting a tensor\n",
        "# So i think i have to break it into two tensors?  test_x, test_y?\n",
        "# x_test[0][0]\n",
        "# x_test[0][1]\n",
        "# x_test = pd.DataFrame(x_test, columns=['example', 'label'])\n",
        "# x_test = tf.data.Dataset.from_generator(lambda: x_test, (tf.int64, tf.int16))\n",
        "# x_list = list(x_test.as_numpy_iterator())  # Crashes Google Colab!\n",
        "# print(x_list[:5])\n",
        "\n",
        "\n",
        "# believe I got this from stack-overflow.  Need this code to define y_test, the labels of testset\n",
        "\n",
        "def get_labels_from_tfdataset(tfdataset, batched=False):\n",
        "\n",
        "    labels = list(map(lambda x: x[1], tfdataset)) # Get labels \n",
        "\n",
        "    if not batched:\n",
        "        return tf.concat(labels, axis=0) # concat the list of batched labels\n",
        "\n",
        "    return labels\n",
        "\n",
        "y_test = get_labels_from_tfdataset(x_test)\n",
        "\n",
        "\n",
        "\n",
        " # with_info = True, \n",
        "#If anything goes wrong, its because I added \"as_supervised=True\" to this above\n",
        "\n",
        "dataset_airplanes   = dataset.filter(lambda img, label: label == 0)\n",
        "dataset_automobiles = dataset.filter(lambda img, label: label == 1)\n",
        "dataset_birds       = dataset.filter(lambda img, label: label == 2)\n",
        "dataset_cats        = dataset.filter(lambda img, label: label == 3)\n",
        "dataset_deers       = dataset.filter(lambda img, label: label == 4)\n",
        "dataset_dogs        = dataset.filter(lambda img, label: label == 5)\n",
        "dataset_frogs       = dataset.filter(lambda img, label: label == 6)\n",
        "dataset_horses      = dataset.filter(lambda img, label: label == 7)\n",
        "dataset_ships       = dataset.filter(lambda img, label: label == 8)\n",
        "dataset_trucks      = dataset.filter(lambda img, label: label == 9)\n",
        "\n",
        "##  Ways to count the number of images in the sets:\n",
        "print(\"Entire Training Dataset was originally cardinality:\", tf.data.experimental.cardinality(dataset).numpy()) #   prints 50,000, correct\n",
        "print(\"Entire Airplane Training Dataset was originally cardinality:\", tf.data.experimental.cardinality(dataset_airplanes).numpy()) #   prints -2 this is a \"feature\" in tf when a set takes too long to count\n",
        "# print(dataset_airplanes.reduce(np.int64(0), lambda x,_ : x + 1).numpy()) #prints 5000, correct\n",
        "\n",
        "##  This is a way of asserting that all the images have the same label in a set\n",
        "for img, label in dataset_dogs:\n",
        "  assert label == 5\n",
        " "
      ],
      "execution_count": 40,
      "outputs": []
    },
    {
      "cell_type": "code",
      "metadata": {
        "id": "iUdsw00-JdKo"
      },
      "source": [
        ""
      ],
      "execution_count": 2,
      "outputs": []
    },
    {
      "cell_type": "code",
      "metadata": {
        "colab": {
          "base_uri": "https://localhost:8080/",
          "height": 534
        },
        "id": "ynZzq-p_yOIS",
        "outputId": "4b86919e-6103-4695-9b1c-ae1014408eb2"
      },
      "source": [
        "## Tfds.show_examples is a matplotlib funnction that only works on image ds's, and you have to pass it the \"info\" for some reason\n",
        "fig = tfds.show_examples(dataset_airplanes, info)"
      ],
      "execution_count": 3,
      "outputs": [
        {
          "output_type": "display_data",
          "data": {
            "image/png": "[encoded data removed]",
            "text/plain": [
              "<Figure size 648x648 with 9 Axes>"
            ]
          },
          "metadata": {}
        }
      ]
    },
    {
      "cell_type": "markdown",
      "metadata": {
        "id": "OtKKnPKjgfuA"
      },
      "source": [
        "How to display one picture of a dataset using `next(iter(dataset)`"
      ]
    },
    {
      "cell_type": "code",
      "metadata": {
        "id": "3ttHjk8vAYM1",
        "colab": {
          "base_uri": "https://localhost:8080/",
          "height": 284
        },
        "outputId": "90a54ea4-f102-4132-bd07-a223af96b91d"
      },
      "source": [
        "img, label = next(iter(dataset_dogs))\n",
        "\n",
        "# print(img)\n",
        "# plt.title(str(label))\n",
        "plt.imshow(img)"
      ],
      "execution_count": 4,
      "outputs": [
        {
          "output_type": "execute_result",
          "data": {
            "text/plain": [
              "<matplotlib.image.AxesImage at 0x7f90467524d0>"
            ]
          },
          "metadata": {},
          "execution_count": 4
        },
        {
          "output_type": "display_data",
          "data": {
            "image/png": "[encoded data removed]",
            "text/plain": [
              "<Figure size 432x288 with 1 Axes>"
            ]
          },
          "metadata": {
            "needs_background": "light"
          }
        }
      ]
    },
    {
      "cell_type": "markdown",
      "metadata": {
        "id": "BEik6FQDblAg"
      },
      "source": [
        "# Get 1000 samples from each dataset class and create validation set"
      ]
    },
    {
      "cell_type": "code",
      "metadata": {
        "colab": {
          "base_uri": "https://localhost:8080/"
        },
        "id": "87dfHTIEbp4K",
        "outputId": "52348086-6e30-46fc-8497-ed089bd6b341"
      },
      "source": [
        "# I want 10 un replicated samples from dataset_airplanes + dataset_automobiles... dataset_trucks.\n",
        "\n",
        "# There are 5000 images of each Class \n",
        "# I want 10 equal sets A, B, C, D, ... J plus a validation set\n",
        "# I want 10,000 total images in the validation set with 1000 of each class\n",
        "# and I want 10 sets of training images  4000 total images, so 400 images in each class\n",
        "\n",
        "N = 1000\n",
        "dataset_airplanes_val   = dataset_airplanes.take(N)\n",
        "dataset_automobiles_val  = dataset_automobiles.take(N)\n",
        "dataset_birds_val       = dataset_birds.take(N)  \n",
        "dataset_cats_val        = dataset_cats.take(N)\n",
        "dataset_deers_val       = dataset_deers.take(N)\n",
        "dataset_dogs_val        = dataset_dogs.take(N)\n",
        "dataset_frogs_val       = dataset_frogs.take(N)\n",
        "dataset_horses_val      = dataset_horses.take(N)\n",
        "dataset_ships_val       = dataset_ships.take(N)\n",
        "dataset_trucks_val      = dataset_trucks.take(N)\n",
        "\n",
        "\n",
        "# Make sure to skip the next 1000 images in each data set before making training set\n",
        "dataset_airplanes   = dataset_airplanes.skip(N)\n",
        "dataset_automobiles  = dataset_automobiles.skip(N)\n",
        "dataset_birds      = dataset_birds.skip(N)  \n",
        "dataset_cats        = dataset_cats.skip(N)\n",
        "dataset_deers       = dataset_deers.skip(N)\n",
        "dataset_dogs        = dataset_dogs.skip(N)\n",
        "dataset_frogs       = dataset_frogs.skip(N)\n",
        "dataset_horses      = dataset_horses.skip(N)\n",
        "dataset_ships       = dataset_ships.skip(N)\n",
        "dataset_trucks      = dataset_trucks.skip(N)\n",
        "\n",
        "# # Check that remaining dataset does not have validation data\n",
        "# fig = tfds.show_examples(dataset_ships, info)\n",
        "# fig = tfds.show_examples(dataset_ships_val, info)\n",
        "# # I checked and they dont.\n",
        "\n",
        "\n",
        "# NOW, How do I combine my val sets?\n",
        "\n",
        "# Hint1 its not this... \n",
        "# val = dataset_airplanes_val + dataset_automobile_val + dataset_birds_val\n",
        "\n",
        "# #  Hint2 its also not this implementation of zip because the info file doesn't match it\n",
        "# val = tf.data.Dataset.zip((dataset_airplanes_val,\n",
        "#                     dataset_automobile_val,\n",
        "#                     dataset_birds_val,\n",
        "#                     dataset_cats_val,\n",
        "#                     dataset_deers_val,\n",
        "#                     dataset_dogs_val,\n",
        "#                     dataset_frogs_val,\n",
        "#                     dataset_horses_val,\n",
        "#                     dataset_ships_val,\n",
        "#                     dataset_trucks_val ))\n",
        " \n",
        "# fig = tfds.show_examples(val, info)   # Returns a warning that the info file is not compatible\n",
        "\n",
        "\n",
        "# is it concatenate? YESSSSSSSSSSSSSSSSSSSSSS\n",
        "val = dataset_airplanes_val.concatenate(dataset_automobiles_val)\n",
        "# This is how I checked that it worked\n",
        "# fig = tfds.show_examples(val.skip(999), info)    # shows 1 airplane and then 8 automobiles\n",
        "\n",
        "val = val.concatenate(dataset_birds_val)\n",
        "val = val.concatenate(dataset_cats_val)\n",
        "val = val.concatenate(dataset_deers_val)\n",
        "val = val.concatenate(dataset_dogs_val)\n",
        "val = val.concatenate(dataset_frogs_val)\n",
        "val = val.concatenate(dataset_horses_val)\n",
        "val = val.concatenate(dataset_ships_val)\n",
        "val = val.concatenate(dataset_trucks_val)\n",
        " \n",
        "# print(val.cardinality())  # returns -2 \n",
        "print(val.reduce(np.int32(0), lambda x,_ : x + 1))  # this shows 10000! Thank goodness! :-)\n",
        "\n",
        "\n",
        "\n",
        "# Now I need to split the remaining images of each data set in the remaining datasets into different training groups and\n",
        "# mini_ds_airplanes = dataset_airplanes.skip(9)\n",
        "# mini_ds_airplanes = mini_ds_airplanes.take(9)\n",
        "# B = dataset_airplanes.shard(400, index=0)\n",
        "# C = dataset_airplanes.shard(1000, index=1)\n",
        "# list(B.as_numpy_iterator())\n",
        "# list(C.as_numpy_iterator())\n",
        "# mini_ds_airplanes\n",
        "# plt.imshow(feature_dict['image'])\n",
        "40000/16/10"
      ],
      "execution_count": 5,
      "outputs": [
        {
          "output_type": "stream",
          "name": "stdout",
          "text": [
            "tf.Tensor(10000, shape=(), dtype=int32)\n"
          ]
        },
        {
          "output_type": "execute_result",
          "data": {
            "text/plain": [
              "250.0"
            ]
          },
          "metadata": {},
          "execution_count": 5
        }
      ]
    },
    {
      "cell_type": "markdown",
      "metadata": {
        "id": "wG4xxsEUc1gn"
      },
      "source": [
        "# Create 16 small groups of training_sets: plan"
      ]
    },
    {
      "cell_type": "markdown",
      "metadata": {
        "id": "23D0Y4EyA4E2"
      },
      "source": [
        "The image below is a table of the planned training set divided into 16 groups of 250 images per class, resulting in each of the 16 groups named A through P, having a total of 2500 images each.  There are initially 16 groups, and then they are merged by 2s into 8 groups of 2s, and then 4 groups of 4, until they are merged for the 5th time into one large group of 16 groups, which is the original training set.  This grouping and division allows one to study 5 different image sizes, and the number per class is a relatively easy number to work with for reviewing the final confusion matrices resulting from each run.  Although there are many discrete mathematical combinations possible for combining the groups, this is not the focus of the study, the goal is to have a clear  data division that is repeatable and consistent throughout the test.   "
      ]
    },
    {
      "cell_type": "markdown",
      "metadata": {
        "id": "McKVQAnjc_5X"
      },
      "source": [
        " ![plan_16_groups_B-P_3reps_table_image.jpg](data:image/jpeg;base64,/9j/4AAQSkZJRgABAQEAkACQAAD/2wBDAAMCAgMCAgMDAwMEAwMEBQgFBQQEBQoHBwYIDAoMDAsKCwsNDhIQDQ4RDgsLEBYQERMUFRUVDA8XGBYUGBIUFRT/2wBDAQMEBAUEBQkFBQkUDQsNFBQUFBQUFBQUFBQUFBQUFBQUFBQUFBQUFBQUFBQUFBQUFBQUFBQUFBQUFBQUFBQUFBT/wAARCAI9BJADASIAAhEBAxEB/8QAHwAAAQUBAQEBAQEAAAAAAAAAAAECAwQFBgcICQoL/8QAtRAAAgEDAwIEAwUFBAQAAAF9AQIDAAQRBRIhMUEGE1FhByJxFDKBkaEII0KxwRVS0fAkM2JyggkKFhcYGRolJicoKSo0NTY3ODk6Q0RFRkdISUpTVFVWV1hZWmNkZWZnaGlqc3R1dnd4eXqDhIWGh4iJipKTlJWWl5iZmqKjpKWmp6ipqrKztLW2t7i5usLDxMXGx8jJytLT1NXW19jZ2uHi4+Tl5ufo6erx8vP09fb3+Pn6/8QAHwEAAwEBAQEBAQEBAQAAAAAAAAECAwQFBgcICQoL/8QAtREAAgECBAQDBAcFBAQAAQJ3AAECAxEEBSExBhJBUQdhcRMiMoEIFEKRobHBCSMzUvAVYnLRChYkNOEl8RcYGRomJygpKjU2Nzg5OkNERUZHSElKU1RVVldYWVpjZGVmZ2hpanN0dXZ3eHl6goOEhYaHiImKkpOUlZaXmJmaoqOkpaanqKmqsrO0tba3uLm6wsPExcbHyMnK0tPU1dbX2Nna4uPk5ebn6Onq8vP09fb3+Pn6/9oADAMBAAIRAxEAPwD9U6KKKACiiigD5w+Ffiv43/Ez4YeEPGH/AAmHw/03/hINHs9W+x/8IVfS+R58CS+Xv/tdd23fjdgZxnA6V1H2P43/APQ+/D//AMIW+/8AlzVL9lf/AJNh+EH/AGJ+j/8ApFDXqNAHnf2P43/9D78P/wDwhb7/AOXNH2P43/8AQ+/D/wD8IW+/+XNeiUUAed/Y/jf/AND78P8A/wAIW+/+XNH2P43/APQ+/D//AMIW+/8AlzXolFAHnf2P43/9D78P/wDwhb7/AOXNH2P43/8AQ+/D/wD8IW+/+XNeiV8/fEv9t/4c/DH4kaR4Juotd1jV9Q1aHRJJtK04taWd1KyhY5p5GRMgOGKxl2A6igDvfsfxv/6H34f/APhC33/y5o+x/G//AKH34f8A/hC33/y5o+N/x78H/s9+FYtd8X30kMdzOtrZWNnEZ7u9nbpFDEOWb8gO5GRVP4I/Hu0+N8eseV4L8aeCbnTPJMtp4z0ZtOlkWXfseP5mDj922cHjjPUUAXPsfxv/AOh9+H//AIQt9/8ALmj7H8b/APoffh//AOELff8Ay5qt8cv2jPA37PGj2F54w1KWK51KUwabpdjA1xe38oxlIYl5J+ZRk4UFlBOSAeO+GP7ZGhfEbx1pHhK8+H/xF8CarrHm/wBnN4w8OtYwXRjheZlSQO4zsjc84zt+lAHdfY/jf/0Pvw//APCFvv8A5c0fY/jf/wBD78P/APwhb7/5c16JRQB539j+N/8A0Pvw/wD/AAhb7/5c0fY/jf8A9D78P/8Awhb7/wCXNeiUUAed/Y/jf/0Pvw//APCFvv8A5c0fY/jf/wBD78P/APwhb7/5c16JRQB539j+N/8A0Pvw/wD/AAhb7/5c0fY/jf8A9D78P/8Awhb7/wCXNeiUUAed/Y/jf/0Pvw//APCFvv8A5c0fY/jf/wBD78P/APwhb7/5c15/+0J+1XqHwi+J3gv4c+EvANx8RPG/ieGe7t9Nj1SHTkSCJXZm82RWUtiOQhTgfIeckA+0eIvGOmeC/CN34k8RXC6PpdjbfabyWXLCBcDIO0EkgnHAyT0oA5f7H8b/APoffh//AOELff8Ay5o+x/G//offh/8A+ELff/LmuZ+A/wC1n4P/AGh/F3i/w94b03xBYXnhnyDdPrdgLRZVl37GjQuZBwhOJEQ4I4r2qgDzv7H8b/8Aoffh/wD+ELff/Lmj7H8b/wDoffh//wCELff/AC5r0SigDzv7H8b/APoffh//AOELff8Ay5o+x/G//offh/8A+ELff/LmvRKKAPO/sfxv/wCh9+H/AP4Qt9/8ua5f4j+K/jf8P/D9pqn/AAmHw/v/ALRrGlaT5X/CFX0e37bqFvZ+Zn+1znZ9o37cfNsxkZyPbK8u/aO/5J7pP/Y4eFf/AFINPoAu/Y/jf/0Pvw//APCFvv8A5c0fY/jf/wBD78P/APwhb7/5c16JRQB539j+N/8A0Pvw/wD/AAhb7/5c0fY/jf8A9D78P/8Awhb7/wCXNeiUUAed/Y/jf/0Pvw//APCFvv8A5c0fY/jf/wBD78P/APwhb7/5c16JRQB539j+N/8A0Pvw/wD/AAhb7/5c0fY/jf8A9D78P/8Awhb7/wCXNUfj1+0d4S/Z30vSLjxGmpajqOtXJs9K0TRLQ3V/qEwAykUeQCfmUckDLKOpFZvwH/ao8J/tAat4g0XTNL8Q+GPE2geWdS8P+KdNNlfW6vnYzJuYYOOm7IyMgZFAHQfY/jf/AND78P8A/wAIW+/+XNH2P43/APQ+/D//AMIW+/8AlzTvjZ8evBX7PfhRNf8AGurf2fazS/Z7W3hjaa4u5iMiOKNRlj+g7kV5z4D/AG19A8aeMNF8PX3w6+JXgqTWphb6dqHirw01pZ3MhUsqrKHbqF4yB1FAHon2P43/APQ+/D//AMIW+/8AlzR9j+N//Q+/D/8A8IW+/wDlzXolFAHnf2P43/8AQ+/D/wD8IW+/+XNH2P43/wDQ+/D/AP8ACFvv/lzXolFAHnf2P43/APQ+/D//AMIW+/8AlzR9j+N//Q+/D/8A8IW+/wDlzXolFAHnf2P43/8AQ+/D/wD8IW+/+XNH2P43/wDQ+/D/AP8ACFvv/lzXolFAHnf2P43/APQ+/D//AMIW+/8AlzR9j+N//Q+/D/8A8IW+/wDlzXCftG/tTXvwX8ceBvA3hjwLcfEHxr4uM7WWlx6pFp0axxLlmaaRWUE84BAHytkjgH1nxN4+sfA/w9uvFviSKfTLOyshd3lvHG1xLEcDMYVAS7bjtGByaAMH7H8b/wDoffh//wCELff/AC5o+x/G/wD6H34f/wDhC33/AMua80+H/wC3f4E8cfFjT/h1feHvGXgfxLqSeZpsPi7RTYLfLhiDH87NhgjbSyqDjA54r6PoA87+x/G//offh/8A+ELff/Lmj7H8b/8Aoffh/wD+ELff/LmvRKKAPO/sfxv/AOh9+H//AIQt9/8ALmj7H8b/APoffh//AOELff8Ay5r0SigDzv7H8b/+h9+H/wD4Qt9/8ua5f4V+K/jf8TPhh4Q8Yf8ACYfD/Tf+Eg0ez1b7H/whV9L5HnwJL5e/+113bd+N2BnGcDpXtleXfsr/APJsPwg/7E/R/wD0ihoAu/Y/jf8A9D78P/8Awhb7/wCXNH2P43/9D78P/wDwhb7/AOXNeiUUAed/Y/jf/wBD78P/APwhb7/5c0fY/jf/AND78P8A/wAIW+/+XNeiUUAed/Y/jf8A9D78P/8Awhb7/wCXNH2P43/9D78P/wDwhb7/AOXNeiUUAed/Y/jf/wBD78P/APwhb7/5c0fY/jf/AND78P8A/wAIW+/+XNeiV88w/tzfDm8/aQi+C1lDrN/4ke5ksjqVtbxNpyXEcJlkiMplD7kA2thDhuKAPQvsfxv/AOh9+H//AIQt9/8ALmj7H8b/APoffh//AOELff8Ay5ruNZ1ix8O6Te6pql3Dp+m2UL3Nzd3DhI4YkUszsx4AABJJ9K+Y1/4KJeCNUNxeeG/APxN8ZeGYXZG8UaD4Wkm0z5SQx8xnVsAjnKUAeyfY/jf/AND78P8A/wAIW+/+XNH2P43/APQ+/D//AMIW+/8AlzXXeEfFOn+OPCei+JNJkebStYsoNQtJJEKM0MsayISp5UlWHB5Fa1AHnf2P43/9D78P/wDwhb7/AOXNH2P43/8AQ+/D/wD8IW+/+XNeiUUAed/Y/jf/AND78P8A/wAIW+/+XNH2P43/APQ+/D//AMIW+/8AlzXolFAHnf2P43/9D78P/wDwhb7/AOXNH2P43/8AQ+/D/wD8IW+/+XNeiUUAed/Y/jf/AND78P8A/wAIW+/+XNH2P43/APQ+/D//AMIW+/8AlzWh8ZvilpvwT+FviTxzq8E1zYaJaNcvb2+BJKchURSeAWZlGT0zXPfs3/F7xL8bvh1a+K/EXgOTwFFqCRXWmW76rFqAvLOWJJIrgMirs3B/uMAwxzQBo/Y/jf8A9D78P/8Awhb7/wCXNH2P43/9D78P/wDwhb7/AOXNcl+05+2F4E/ZRsdHl8WxarqN1qjP5FhokEc06xpgNK4kkRVQMyrknktgA4OPXfCviO18YeF9H16xWRbLVLOG+gWZQriOVA6hgCcHDDPJoA4/7H8b/wDoffh//wCELff/AC5o+x/G/wD6H34f/wDhC33/AMua9EooA87+x/G//offh/8A+ELff/Lmj7H8b/8Aoffh/wD+ELff/LmvRKKAPO/sfxv/AOh9+H//AIQt9/8ALmj7H8b/APoffh//AOELff8Ay5r0SigDxPxh4r+N/hTxB4H0v/hMPh/df8JNrEmk+b/whV8n2bZp95eeZj+1zvz9j2bcj/WZz8uD1H2P43/9D78P/wDwhb7/AOXNUvi//wAlC+B//Y4XH/qP6xXqNAHnf2P43/8AQ+/D/wD8IW+/+XNH2P43/wDQ+/D/AP8ACFvv/lzXolFAHnf2P43/APQ+/D//AMIW+/8AlzR9j+N//Q+/D/8A8IW+/wDlzXolFAHnf2P43/8AQ+/D/wD8IW+/+XNH2P43/wDQ+/D/AP8ACFvv/lzXoleL/HD9qrw78DdY/si68MeMfF+rJp66rcWfhLRXvja2heRBNM5ZURSYZerZ+QnFAHSfY/jf/wBD78P/APwhb7/5c0fY/jf/AND78P8A/wAIW+/+XNHwH+PfhH9o7wBF4v8ABl3NcaYZ3tZorqLy57adApaKRckBtro3BIIYHPNYPxy/as8C/APU9N0XWW1PW/FmqJ5lh4X8O2TXupXSZI3LGCABlWwWZc7WxnacAG99j+N//Q+/D/8A8IW+/wDlzR9j+N//AEPvw/8A/CFvv/lzXNfBn9qjRPjJ4uuvC3/CH+N/A/iGCxfUhp/jLQ2095bdJI42dDuZThpY+M5+b617TQB539j+N/8A0Pvw/wD/AAhb7/5c0fY/jf8A9D78P/8Awhb7/wCXNeiUUAed/Y/jf/0Pvw//APCFvv8A5c0fY/jf/wBD78P/APwhb7/5c16JRQB539j+N/8A0Pvw/wD/AAhb7/5c0fY/jf8A9D78P/8Awhb7/wCXNeiUUAed/Y/jf/0Pvw//APCFvv8A5c0fY/jf/wBD78P/APwhb7/5c16JXzt40/aw1PTf2l7b4N+D/h5c+NNUt7KHU9bv11aGyTTbR5I0Mqo6kzFBLGxUFWO4AA84APRfsfxv/wCh9+H/AP4Qt9/8uaPsfxv/AOh9+H//AIQt9/8ALmp/jZ8bvCf7PvgWfxb4xvZLTTEmS2ijt4jLNcTPnZFGg+8xAY9gApJIArg/g1+2R4S+MXj6bwOfDni/wN4uWzOoxaP4y0c2E9xbAgGWMB3BXnuQTg4zg0Adr9j+N/8A0Pvw/wD/AAhb7/5c0fY/jf8A9D78P/8Awhb7/wCXNeiUUAed/Y/jf/0Pvw//APCFvv8A5c0fY/jf/wBD78P/APwhb7/5c16JRQB539j+N/8A0Pvw/wD/AAhb7/5c0fY/jf8A9D78P/8Awhb7/wCXNeiUUAeJ/CvxX8b/AImfDDwh4w/4TD4f6b/wkGj2erfY/wDhCr6XyPPgSXy9/wDa67tu/G7AzjOB0rqPsfxv/wCh9+H/AP4Qt9/8uapfsr/8mw/CD/sT9H/9Ioa9RoA87+x/G/8A6H34f/8AhC33/wAuaPsfxv8A+h9+H/8A4Qt9/wDLmvRKKAPO/sfxv/6H34f/APhC33/y5o+x/G//AKH34f8A/hC33/y5r0SigDzv7H8b/wDoffh//wCELff/AC5o+x/G/wD6H34f/wDhC33/AMuaT42fHzwn8A/D8ep+JpL6aS4WU2mm6VZyXd3deWu6TYijACqQSzlVGRlhmrPwM+MmiftA/CvRPH3h22v7TRtX87yIdTjSO4Xyp5IW3qjuo+aJsYY8Y+lAFf7H8b/+h9+H/wD4Qt9/8uaPsfxv/wCh9+H/AP4Qt9/8uaZ8cP2hPBH7PPh221fxnqjWgvJfs9jY2sLT3d7LgfJDEoyx5GScKMjJGRXB/Dv9tDQfHnjbRvC998PfiR4GvdZdo9OufF3htrK2unEbSbVkDuMlUYjOOlAHf/Y/jf8A9D78P/8Awhb7/wCXNH2P43/9D78P/wDwhb7/AOXNeiUUAed/Y/jf/wBD78P/APwhb7/5c0fY/jf/AND78P8A/wAIW+/+XNeiUUAed/Y/jf8A9D78P/8Awhb7/wCXNH2P43/9D78P/wDwhb7/AOXNeiUUAed/Y/jf/wBD78P/APwhb7/5c0fY/jf/AND78P8A/wAIW+/+XNeiV87fHr9rDU/hb8X/AAv8L/B3w8ufiL401uwk1X7DHq0OnJDaoZAWEkqlWb9zJ8p2/d65IFAHov2P43/9D78P/wDwhb7/AOXNH2P43/8AQ+/D/wD8IW+/+XNdV408Z6N8PfC+oeIvEN8um6NYIJLi5ZGfaCQoAVQWYkkAKoJJIAGa8y/Z9/at8JftI65400rw1pmv6dc+E5reG9/tyxW0Mhm83YUTeXH+pbIdUIyOPQA6P7H8b/8Aoffh/wD+ELff/Lmj7H8b/wDoffh//wCELff/AC5rzfxt+3R4H8L+OtZ8J6L4b8a/EXUtDcR6zJ4J0NtRg0xucrO4dQCuGztzgqw6ggfQmm30eqafa3kKyLFcRLMiyoUcKwBAKnkHnoelAHB/Y/jf/wBD78P/APwhb7/5c0fY/jf/AND78P8A/wAIW+/+XNeiUUAed/Y/jf8A9D78P/8Awhb7/wCXNH2P43/9D78P/wDwhb7/AOXNeiUUAed/Y/jf/wBD78P/APwhb7/5c10vwH8aa548+Hf9peJG0+XWrfWNY0mebS7aS2t5fsWp3VmsiRPLKyblt1YqZGwWPOK364j9mD/kmOpf9jh4r/8AUh1CgD1qiiigAooooA8L/ZX/AOTYfhB/2J+j/wDpFDXqNeXfsr/8mw/CD/sT9H/9Ioa9RoAKKKKACiiigAr4l/4KRqF8Sfs5ADA/4T+0PH+/HX21Xz94/wD2B/gR8UfGWqeKvE/gX+09e1SXzru7/te/i818Bc7I51UcAdAKAPD/ANvq31q+/am/ZntdJ1218NXU9zqUdjq2pWgura1uiIAknlMQruCU2gn7xSu3/ZT+MHxLuv2jPiv8HvH3imz+IcfhOC2urfxRa6ZFYktKqMYXjh+QEeZjHJDRPye3sWtfsp/CnxF8KNJ+Gup+DrW+8GaTzYafPcTs9qcsSY59/mqfmbkPnBx04rb+EPwH8A/AXRbjSvAPhiz8OWdy6yXBgLySzsoIUySyMzvjJxuY4ycdTQB8p/G3VNO8If8ABTz4Uaz43mhtPDVz4XmtNDvb5gttDqG+cMCzYAf50GeeZYu+MdNpf7SHxo8M/tl+CvhD44tPh/caD4pt77ULa78Nx3rXUdtHDcyQ72lkChyYF3YQjBOD6fS3xM+Evg74yeH/AOxPGvhyw8SaYH8xIb6LcY3xjcjDDI2MjKkHBIrgPhR+xd8Fvgj4mg8ReDPAtrpOuQBxDfy3dzdSw70KNsM0j7cqzKcY4Y+tAHyZ+xD8GdB+IHxU+NfjHXI9Q1fVPCPj6+utBsRfzRW1tdGV2eYRowDO4SNDvDDaoGK8w8A/Dfwl8av2N/iZ8efHniPUZvi7YXGoXdrrraxNHLptzEoa2tY4lcKgdtqgFcgSDbgAY/Tn4b/Bnwd8I7jxHP4T0YaTL4i1GTVdTYXE032i5cks/wC8dtucn5VwozwK888RfsKfAbxX44l8Xap8NtLudcmnNzM4lnSCaQklmkt1kELkkknchyTk5oA+WPCfjbWPEn7SH7EniLxddP8A2rqXhLUPtF1dfKbiWSymRGPq0haM+5ceoptvrVprfxM/4KB3mnXsV9anwkYxPbyh0Lx6ZcIwDA4yrKyn0IIr7Y+L37OPw2+PGj6ZpfjrwnZ65Z6YxNku+S3e2yACqPEyMqkKuVBwdoyOBXDeLP2T/Bfgv4RfF6w+F3g200bxH4u8K3Oj/Z7Odo47mRbOWG2Ta7+XGSX5fC7ixZyTk0AfnTrng3w54P8A2Ffhn8btD8U6kfi7aarb2Npf/wBsSSPCsUkiLYxwbtqIkUcbbAucdSVbFev/ALXngW60j4veKvi14+0Wb4l/D63t7G0J8P8Aih7DUvBFyY4lbZAHwXLsHCsCDvBbHJPvH7Kn7A/gLwX8Pfh/rnjz4dadH8UtJt911M9y0ypMJnaNmSOQwSOqlPnwxyBzxXq/jz9jH4LfE7x83jTxR4BsNW8SOyvLdSTTok5VQqmWJZBHJ8qgfOp6UAdJ448cXFj+ztr/AIx8LGa+uofCtxq+lG4UmWZxaNLDvBH3iQuQR1Nfmde/C3wfD+wHbftCnxVq0fxra5Fwvin+27h7p7o33lG12CTaP3WT03D7xO3iv1zjt4oYEgjjSOFFCLGqgKFAwAB6Y7V4RY/sHfALTfGyeK7b4Z6THrEc32hPnmNqsmcgi1L+QMHoAmB2oA+Ofid8D/CPxS/b0+BMHjLw550vjzwodX8UWn2q4h+0X0dhcEH5JAYtrQRDahUfJyDk5/UBlDcEZHXmuL1j4M+DfEHxS0D4jahoy3HjPQbaWz07UzcTKYIpFdXXyw4jbIlkGWUkbjg1s+OPBOi/EjwjqvhjxHZf2joeqwNbXlr5rxebGeq70ZWH1BBoA+Qf2Rf+T5v2q/8Ar70/+UtfbVfPPgn/AIJ+/AP4c+LdJ8T+HvAf9n65pVwt1Z3X9sX8vlSqcq2152VvoQRX0NQAUUUUAFFFFABXl37R3/JPdJ/7HDwr/wCpBp9eo15d+0d/yT3Sf+xw8K/+pBp9AHqNFFFABRRRQAUUUUAfEf8AwUP/AOKk+IXwK8J+GpJNH+Kl5rE9z4c8TPdrBa6WqCIzmUFH80OBHiMAZKDk/cfM/YmvtT8Kftb/ABs8F/EF4vE3xXntrfVL3xjZTg211ZoIUjt/JCqIGQTRfKBzgjgIpP1h8YfgH4A+P2jWul+PvDNr4itLV2kt/OeSKWBmADFJY2V0zgZwwzgZ6Cq3wb/Zz+G/7P1neW/gDwpaeHhebftM0byTTzBc7Q0srM5AycAtgZNAHy/+15qFh4W/bu/Zu8Q+NXhg8Awx30Ed1eYFtb6gyOEd2PypiRrRtxPGzPRTXS+K/wBpL4zfDr9qvwB4C8QW3w+vfBHjjU7saVc6Ml6+oR2CMTE0zPIIxKVaPJRWUkNjAxX098Qfht4W+K3hubQPF+g2PiHR5jua1voQ6hh0ZT1Vhk4ZSCM8GvMPhv8AsO/A74R+K7bxL4V8AWun65auZLe8mvLm6aFiCNyCaVwpwTyAKAPln9j/AOCfhz4sftP/ALQWveKDqGov4P8AiRcajolkt/NDbWt4b2djcmNGAd8W8SfNldoIIOePN/hn8OfCv7Q37NPxn+NXxQ1vUF+KWj3+pSWmpPq08b6E8UKyW8McKuFAMhKhSuSAFXBFfpb8P/gz4N+FuteLNX8L6Mul6j4q1BtU1mcXE0purlmdi+HdgnMjnagVfm6V594u/YZ+BPjrxtN4u1v4c6bd67PObmeZZp4Yp5Scs8kKSLE5Y8ksp3EknOaAPkOTx1rXiTVP+Cf/AIk8YXkn9pXUmpR3F7eMQ0xItYoHdj1aRdhyeWLE966nWNctNY/bK/atfT76K8jt/hlJbu1vKHVJUtogyZBxuU5BHY5HXNfZHxU/Z/8Ah78avCNl4Y8Z+FrPWNDsWVrS1Uvb/Ziq7QIniZWjG3jCkDAx0rhrr9kn4ffD/wAFeOW+G3guz0TxJq/ha60CP7JO6LOjRP5aMHfZuLlcyN8x/iY0Afmu3gfwvpP/AAT18KfGqz8Vakvxb0rVksbC8GsyFrBY7t40sooN22NRAqz427uS2dpxXtf7WngnU5viPqXxc8d6Efih4C0/RdOhvtJ0fxM+nah4Lu3hhZpVhVuWZnEgDA584EgABq9l/ZH/AOCfvgfwn8KfAOp/E34cad/wtLSPtD3Ust0Z1DfbJpIDIsUhglZY2jGSGwABn5a9q+JH7GvwZ+Lvjn/hMfF3gSy1jxGwQSXjzzxedsUIvmpHIqSYVVUb1PCgdBQB00PjRZv2fY/F3hZrrU0bwuNV0ptQGbi4BtPNhMo/vt8u73Jr8ytN+F/hDxJ+wLqH7Q+s+KdVHxrW6nuF8UHWp/tUV0t80UVqqCTaN8YUj5dw8zcCFGK/XK0tILC1htbWGO2toUWOKGFAqRoBgKoHAAAAAFeEyfsH/AOXxsfFbfDPSTrBm+0H55ha785z9l3+R15xsxQB8W/FT4O+Gfi7+1R+zHd+OfD7XOqfETwxDfeLoWubiE3V1Hp6gZCuDFtKKMR7fu855r9Oda1rSfBHhu71TVb2DStF0y2M1xdXUm2OCFFyWZj2AFc74i+DHg3xX8RPDHjvVdFW68VeGUlj0m/+0TJ9mWRSrjy1cI+Qx++pxnjFanxC+Hvh/wCK3gzVPCninT/7V0DU4xFd2fnSReYoYMBvjZWHzKDwR0oA+NPhPo2rftp/tVaV8eJ7C40T4V+C4pLHwr9pQxz6zMC4a52kZEe5yfqiLyfMx92185eFf+Cd/wCz74J8UaP4i0XwB9i1jSLyHULK5/tnUJPKnicSRvta4KthlBwwIOOQRX0bQAUUUUAFFFFABXl37K//ACbD8IP+xP0f/wBIoa9Rry79lf8A5Nh+EH/Yn6P/AOkUNAHqNFFFABRRRQAUUUUAeXftP+MvF3w/+AvjHXPAeiXniHxfDarFptjp9q9zOZZZUi8xYkUl/LEhkIx0jOeM1+Y/hPxVZfDP9ob9my2t/hn8TLG+0SG9fVIdc8PmHU9bvrlX8+6hjMhMqh2JLE5VEHXbX7E1xXiT4M+DvF3xE8MeO9W0YXfivw0sqaVqH2iZDbrIpVxsVwj5BP31bGeMUAeO/wDBSHT9a1L9jL4iR6IJHmjhtprlIfvm1S6iab8AgZm/2Vb6V5p4x/aC8Y/DP9kfwd8Qfge3w8v/AIe6D4dtE1Kz1r7U97FN+7iEMSQOqBlZiHEjBsg9e/2/NDHcQvFKiyxSKVdHAKsCMEEHqK+edW/4J6fs8a14gbWbj4Y6cl4zbzHbXVzb2+ck/wCojlWLHPTbigD5h/aMuJ/2g/ip+xjca5cT6SfGeiSXOprosz2/yXVtbPcQxtuLKjq7x9SdrHnPNbHxP+FXhjWP2w/hd+ztqhvdM+DOneFptQsvDS6rcRRahctLcHY8nmeZJt2/KN24BDg4Y5+zdS/Z/wDh/q3iDwLrVx4bhGoeB4jB4daGaWGPT4yipsWJHCMAqKAHVsY4xUXxk/Z1+HH7QNjZ2vxA8KWniJLIsbaWR5IZ4d2NwSWJldQcDIDYOBkcUAfnrNb/APCAeF/20Phd4S1W81X4ZeHNItpdLgluHuY9OnkQGaCN2JIAbzEIJ58nJ5yT1Pxs8UaZe/s5/sQWMGp281++seGZRbpMDIVitkilbbnOFkO0nsTivufwD+z/APDr4X+BL7wZ4Y8I6dpnhm/R472w2GYXaumxhM0hZpcr8vzk8cVwOg/sEfAPwzcWlxpnw5srW6tNTh1eC5W8ummiuYiTGVcylggJz5WfLOBlTgYAPlu++GHhH41/8FLPjl4O8d6ldjw5No+nXx0WHVJLKK/misLQKZNjK0giWWVwoOByTwDXA/Cjwz45+Of7Gmq+BvDfi2HULTRviFNZ6Rp2qasbT/hI9NihEjafHOGBYHf5gAOMA8jaMfQ2ofsRwfFn9tP4u+K/ib4KttZ+HGtaZp6aRdyXwSR7mK3tY3KeTIJo8GKVSTtBHqDX0Frn7J/wk8R/C3Tvh1f+B9Pk8G6dL59ppsTSReTLhgZFkRhJvO9stuycnJNAHk3/AAT18ReErnwj448NeGvCuteAr7w/rZttW8K6lqz6nb6dcbAhW1nYkmNjExIJOG3HoQT5r428H6R+03/wUM8afDj4ozXd74J8N+Gre60Tw8NRmtILqV0t3knxG6l2Uyyjg/wDPC4r7H+E3wX8E/AvwydA8CeHrXw7pTSedJFAXd5ZMAb5JHLO7YAGWYnArnvjL+yv8Kv2gry0vPH3g2016+tI/JhvPOmtrhY8khDLC6OVBJIUkgFjgcmgD84NV8N2HiT9kb9pbw9dXt34r8JfDXxYD4L1K6upX+ynzfJZEcNiRViYAA5X94WA+YV9+/sO/DTw38Nf2YPAA8N6b/Zw17RrDXtS/fyy+ffT2UBml+dm27tq/KuFGOAK7Bf2c/hvF8I7v4YQeFLO08C3abLjSLR5IBL8ytuaRGEhYsqkuW3HAya7Xwx4b03wb4a0nw/o1sLLSNJtIbCytlZmEUESBI0yxJOFUDJJPHJoA/I79qTxf4h8ReHP2gfEfj/4YfEGy8R6zcWeiaBrF14fkj0PSNGttRgkRTcuVIeZkySFIZ2TBG8gfpZ+yl4s/wCEy/Z1+H+of2Nq2hbNHtrT7LrVr9nnbyY1i80Lk5jfZvRv4kZTxnFdj8S/hp4b+MHgjU/CHi/TBrHh3UhGLqyM0kPmbJFkT542Vhh0U8EdK2dC0Sy8M6Hp+kabB9m07T7eO0toQxby4o1CouWJJwoAySTxQBeooooAKKKKACiiigDy74v/APJQvgf/ANjhcf8AqP6xXqNeXfF//koXwP8A+xwuP/Uf1ivUaACiiigAooooAK+fP2t/2mB8GdDtPCvhaybxL8WPFKm18PeHrUb5CzZX7TKP4YkwxycBipGQA7L9B14t8YP2Nfg98fPFcfiXx34P/t3W47VLNbr+07y3xCjMyrthmReC7c4zz14FAGZ+xH+zbJ+y38CbHwpfXSXmu3l0+q6tJCxMQupERCkeeqqkUa54yVLYGcV4P4R1iHwl/wAFOPi+niSexsvEus+G7UeDrnWG2W8qiGEGOM5B5dGBCjJ8qXHfP1d8Fv2efh/+zxpWo6b8PtA/4R+y1Cdbi6i+23Fz5kgXaGzNI5HHYECpfi7+z/8ADv48afBZ+PfCdh4ijtwwgmnDRzwhvvBJoysiA8ZCsOg9KAPnX4SftHfF7Xv2iviB8GvidZ+CFn0TwlNrP2zwfHeBTITbhF3zyEkbLg5GwHIHOOvgf7Ffw7svC/7FPiX442P9oah8RvDul65FoVxNeStDp0SRSExxQBvLK72eU7lJLHqK+6/hH+yb8JfgVcX1x4H8GWuiXV9bPZ3F1589xPJAzBmj8yV3YKSqnAP8I9BXU/C34O+D/gt4Jj8I+DdGTSPDsbySCxaeW4BaQ5clpWdjn0J9qAPy98UfC/wj4R/YS8NftBaR4p1WH42zXNvcr4l/tqeW6vLp7vZLbFS5X5Iy7Ebd37r5icnP0p8O/EEkf/BTLVrrXZE068vvhXbu8cx8tfN862kkUA/3Qsp9grehr2jQ/wBhL4C+G/G0Xi3TvhrpdvrUMwuIm8yZ7eKQEEMls0hhUggEYQYxxiuk+Lv7LPwq+PGtabq/jvwbZ6/qenII7e6kllhcIGLBHMbr5iAljtfI+Y8cmgD85bjVLfV/2EP2vr+xuku7O6+IvnwXEL7kljfUbIh1I4IYEHPcGug8ReE9D+EPiT9k74jeAvEmpan4/wDG+pWUWu3k2sSXkmsRTeStwJFLEBEaR49qgBc4PzLkfUP7S37I+nQ/sm/E/wACfBnwdb2er+KL+11M6VbXYhimuFvLaSQp50gjiURwnCKVQbcKBnFdT8Bf2Lvhf8J/+EZ8VxeA9O074hW2l28d5fJLJKsVyIFSZ40LmJGJ3ZZFBOTzzQB8e+OvC0HwZ/aKvPiT8TdPvPHXh/XPGiLoHxJ8LeKHFzojCcsunyWgYqypsaN128KrBTnCj7R/bm8ceIPhv+yh8RPEHhaaa21y2soo4bi3JEkCy3EUUkikchkjkdgR0K57VZT9ir4JJ8S28f8A/CvtObxU12b43bSzNF9oL7/N8gv5O/d827ZnPNexatpNjr+l3mmanZwahp15C9vc2l1GJIpo2BVkdSMMpBIIPBBoA/Lf4ifCvwp8AvhD+z/8WPhnreoRfFPxDqmki6u01We6fX/Pi33CSRlypXzAqkAAYO1skg12fgH9nvwBc/8ABVrxzYSaButNI0aLxfZR/bLgeVqpuLKU3GfMy3zzSHY2U+bG3AAH1f8AD/8AYj+B/wALfGcXivwz8PrDT9ehfzIbqSee4EDf3oo5ZGSNh2KqCO1d5p3wZ8G6T8WNU+JdpoyxeN9UsF0y71X7RMTJbKYyI/LL+WOYo+QoPyjmgD53/wCCnOoaK3wJ0LRL+xubnXdZ8SWdr4euoL1bNdP1HD+XcySsrYRVLgjGSH6r95fLvggvi34Y/wDBQDStB+M2q23xF8fa/wCFfI0PxPpkwSLT7aJZZZIXthGgG8xSnzDySQQP3jbfuP4mfCvwl8ZPCs3hvxpoVr4h0WV1lNrdA/K4BAdGUhkYAkblIOCeea474OfsmfCT4A6pcal4D8F2mialPGYXvWnnup9hIJRZJndlUkDIUgHAzQB65RRRQAUUUUAFFFFAHl37K/8AybD8IP8AsT9H/wDSKGvUa8u/ZX/5Nh+EH/Yn6P8A+kUNeo0AFFFFABRRRQBwnx6Uf8KO+Ihxz/wjmpDP/btJXjP/AATJ/wCTH/ht/wBxL/053Ver/Gv9nH4d/tE2Ol2fxC8Pf8JBb6XI8ton225tvLZwAxzDIhOQo656VQ+Cv7Kvwt/Z31DU774feF/+EfutSiSG7k/tC6ufMRSSoxNK4GCT0xQB83/tLanYeEv+CjnwH1/xrLDa+Cv7FurbT7y+YLbW+p5uMsxbCqf3lqAT0O08YyOmvP2kPjR4H/a78CfDLxba/D+68K+MZryewudBjvWvY7ONZWiMjSSBBIdiZ2qyn5sY4r6a+I3wt8JfF3w5JoPjLw/Y+ItJc7vs99EH2N/fRvvI3+0pB5615x8L/wBib4JfBnxTb+JPCPgO10zXLYs0F7Ld3N08JZSpKedK4U7WI4x1oA+Vf2P/AIJ+HPix+0/+0Fr3ig6hqL+D/iRcajolkt/NDbWt4b2djcmNGAd8W8SfNldoIIOePN/hn8OfCv7Q37NPxn+NXxQ1vUF+KWj3+pSWmpPq08b6E8UKyW8McKuFAMhKhSuSAFXBFfpb8P8A4M+DfhbrXizV/C+jLpeo+KtQbVNZnFxNKbq5ZnYvh3YJzI52oFX5ulefeLv2GfgT468bTeLtb+HOm3euzzm5nmWaeGKeUnLPJCkixOWPJLKdxJJzmgD5D8N+Oda8TfEr9g/xF4xvJP7UvNN1SOW8vGIacmIRROzH7zSL5Rz1YuD3rR8Ra3aa18f/ANvC606+ivbVfh75Imt5A6CSPSRG65BxlXV1PoQRX238WP2dfhx8cPDOneHvGvhOz1jSNNINjArSWxtcALtieFkZFwqgqpAIUAjgVwHi39kfwR4N+EvxVs/hd4Ls9H8TeJvCN5oUcNnO0aXLG2lSBCHfy1JdxmQ4JJyzHrQB+dmueDfDng/9hX4Z/G7Q/FOpH4u2mq29jaX/APbEkjwrFJIi2McG7aiJFHG2wLnHUlWxX6n/AB08X674O/Z48c+JtJi8nxFp3hu7vrdVXd5U6W7MGx32sM4/2a8H/ZU/YH8BeC/h78P9c8efDrTo/ilpNvuupnuWmVJhM7RsyRyGCR1Up8+GOQOeK+v5YknjeORFkjcFWRhkMD1BHcUAfkZ4o+F/hHwj+wl4a/aC0jxTqsPxtmube5XxL/bU8t1eXT3eyW2KlyvyRl2I27v3XzE5OfQ/HvwJ8G+Of+ClXw4sfEnhzcvibwcniTWrT7XcR+Zqai6/eZWQMm0wRDYpC/JyOTn650P9hL4C+G/G0Xi3TvhrpdvrUMwuIm8yZ7eKQEEMls0hhUggEYQYxxivRNQ+DPg3VPixpnxMutGWXxvpuntpdpqpuJgYrYmQlPLD+WeZZPmKlvmPNAHaMobgjI6818SfsL/8nYftf/8AYx2P/ozUK+u/iF8P9A+Kng3VPCniiw/tTQNTjEV3aedJD5ihgwG+NlYcqDwR0rx/wB+wP8CPhd4y0vxV4Y8C/wBma9pcvnWl3/a9/L5T4K52STsp4J6g0AfBXwP8RfFj4d/s3/F74ieD/ilpXhVfDfiq8m1Pw3faHBc3OpXLNCD51xKSybgQqBV5ZXGQckfqD8E/G998Svg/4J8WanZLp+oa3o1pqNxaoCFjkliV2Cg87cnjPOMVwfir9iH4G+NvHs3jPW/h1pl/4gml8+eZpJlhnkzkvJAriJyTySyHPfNe3Qwx28KRRIsUUahURAAqgDAAA6CgB9FFFABRRRQAVxH7MH/JMdS/7HDxX/6kOoV29cR+zB/yTHUv+xw8V/8AqQ6hQB61RRRQAUUUUAfIv7Nn7Nnwj139nX4WalqXws8FahqN54V0q4uby68PWks08r2cTPI7tGSzMxJLE5JJJr0b/hlf4Lf9Eg8B/wDhM2X/AMao/ZX/AOTYfhB/2J+j/wDpFDXD/tbeKZZ7C38E3emeIf8AhFdS0+6vdc1LSNBv9RSWGNcR2G+1ik8szOQZGfA8mOResgIAO4/4ZX+C3/RIPAf/AITNl/8AGqP+GV/gt/0SDwH/AOEzZf8AxqvAPg/pvhT4xt8FdC8YaTFrfhu0+GEV1ZaP4k090t5LyM28E9wLe4QCQpGVCS7SAkpZG2vk0fgboOifFi/8C6F8R7e18W+HLTwZfX2iWniIi6hmiGqSwpd7ZCwkdbMWeJTllWXII3nIB9G/8Mr/AAW/6JB4D/8ACZsv/jVH/DK/wW/6JB4D/wDCZsv/AI1XzZ8C/D+hfF/UPD2l/FK3tfFmgWPw6jvtHj8SkTxGB9SvI5L0CQkGT7LDp/7/AO+quMMPMOa3wV0PRvjFpsUfxljj8RwaV8LdIv8AS5PEirI8ME73wur9Q5+Wcpb2ZafIcbV+YZOQD6E8WfAf9n/wNo39q638LPAVlY/aILUSf8IraSM000qQxIqpCWZmkkRQADya2P8Ahlf4Lf8ARIPAf/hM2X/xqvKvhVrOvfE6x/Z88O+IZZ7rUNM8M2vjXxHJeHMss3kCCxWXvveZ5p+cfNZc88V2Oh+FdN8O/thancWUUv2nUvB7XV1PcXMtxI7nUOAGkZiqLkhY1IRAcKoHFAHSf8Mr/Bb/AKJB4D/8Jmy/+NVjv8Bv2f4/GEPhY/CvwGddlsH1NbVfClqcW6SJGXZxDtX53UBSQWwxAIViPDPhW15Y+JPCHxE13T/A3inXPEnjjUdCnmuNDf8A4SLT3WW8ixFfvcP8sKW6jyEhjVYd3zcFn9v+F2lwfFnVviX4wvnuk0zW77/hHtLmsbue0nGnWDPEXjnidJE33bXrhkKkqycmgDc/4ZX+C3/RIPAf/hM2X/xqj/hlf4Lf9Eg8B/8AhM2X/wAarwDSbWz0n9jjR9ERI9L8KXXxEuNF1SC3/wBHgXS5vFk8EtuxXASF0YRMBgbHK8A10um5+D/xP+LmkfD1LXwx4atLXQZxYab4Tu9as7PUJRdC4WPT7B43VngSzdyuAMqzD5skA9a/4ZX+C3/RIPAf/hM2X/xqj/hlf4Lf9Eg8B/8AhM2X/wAarg7z4jaFqnwt8Sat8YdQj1zw1ps0LGym8Cav4cS6dgypbm1vpn+3l2KgRgFd23Kk7SPF/C/7LPi3Uv2e9H0W6sNB0o6v8TV8a2Hw/wDE101vZ22mbmnGjYWGbDGON2aMRsqhpCVyrZAPqT/hlf4Lf9Eg8B/+EzZf/GqP+GV/gt/0SDwH/wCEzZf/ABqvkm+8eeG/ibZfC/wZH4D0jwB4Mh+K9z4Z8TeGdKMT6NqN5bQtJCu6OKJLiKSXym2PGNzxgMp2qT7f+xBDNplp8YtEtB5fhLR/iFqtloFtHj7Pa24MbvBABwsSyvJhV4BLAcg0Aej/APDK/wAFv+iQeA//AAmbL/41R/wyv8Fv+iQeA/8AwmbL/wCNV4h8LfEfjDxUvwk8J6L4q/4QjTNW8P8AiHUb5tB0bT0YyW2o2yQmJHgaKI/v33fuyGDPkbyrrrfBj4qeOrpfg94k8WeMDrFn460u9a/0mPS7e3s7J4LYTRzQFF84MVik8wPJIrNKSixgKoAPWf8Ahlf4Lf8ARIPAf/hM2X/xqj/hlf4Lf9Eg8B/+EzZf/Gq8A8O/tKeM9K1W/wBSl1HV9Y0S/wDh3qvjPT5vFNlplnZyyW32d4JrSOzka4itJFnb93eMZQoT5yyyGk0z4rfFTwr4D+IfjmTxB4u8QaNpPhOxksk8ZeGbXSBHq0rv9rcRfZbWSSKBBCwYuIvnkBdsb0APoD/hlf4Lf9Eg8B/+EzZf/GqP+GV/gt/0SDwH/wCEzZf/ABqvONFvPjxceGPHNnY23iAzHT7S40LVPGLaCmoG481heQxDT2e2IMIRoWnQASsRIWT7vpPwq8aPr/wq1K8XVNfv9V0ua+srx/E8FlHf291A7q8Ugs0W3baQMNGGUrg7mOaAG/8ADK/wW/6JB4D/APCZsv8A41R/wyv8Fv8AokHgP/wmbL/41XjPwt+LnjuLQPg94lv/ABsfHkvjfwrealfaCthawxwTwWUc4e2MEYkXbL+4lEjSAyTjasXCUfCT4mfGDXvC9r4uvotfu/Duq+FLrVrnUdXTQksbO8MKTWx05bOZ52hOZVK3QdsCMlgQ4YA9m/4ZX+C3/RIPAf8A4TNl/wDGqp6z+zj8BfDmk3eqat8L/hzpemWcTTXN7eeH7CGGCNRlnd2jAVQOpJwK0/gTP4iu/hLoXiHxH4ju/FOr61pltqjrJa29tFA0kCOYYEhjUhMn/lo0jZJ+bGAPnbx14k1/xx+xX4u8Za58QRq0vi34f6jqx8Kta2kcVi5SNmW1aNEmKW/m+RJ5zSks0Z3IeHAPoL/hlf4Lf9Eg8B/+EzZf/GqP+GV/gt/0SDwH/wCEzZf/ABqvJfjX8cvE/hn4iXM/hvVdfuNM0XxHomg39rDYaXHosbXU1sJYbh53+3S3BiuhIr2oEShoQVOyZj18Pifx5ovxs1nR9e1TUrd9aF6fBtr5Vi/h24WK2jZI5mSL7elwCJJH3N5RAbYx+VAAdX/wyv8ABb/okHgP/wAJmy/+NV5z8fP2bPhHo/gXTLiw+FngqxnfxV4at2ltvD1pGzRS65YxSxkiMEq8bujL0ZWYHIJFdl+zf4n13UbHW9B8Zap4kvPHGjG1GrWniGLTQsLSwhlktXsIkje3dlk2+Z+9Gw7lTgHU/aO/5J7pP/Y4eFf/AFINPoAP+GV/gt/0SDwH/wCEzZf/ABqj/hlf4Lf9Eg8B/wDhM2X/AMar1GigDy7/AIZX+C3/AESDwH/4TNl/8ao/4ZX+C3/RIPAf/hM2X/xqvUaKAPLv+GV/gt/0SDwH/wCEzZf/ABqj/hlf4Lf9Eg8B/wDhM2X/AMar1GvKf2qPAN78VP2f/GPg/TdS0/SdR1y2jsLa61WdobcSyTRqisyqx+ZiEACkksABzQBL/wAMr/Bb/okHgP8A8Jmy/wDjVH/DK/wW/wCiQeA//CZsv/jVfHPxc8e6X4b+Evxh+HWnfD7QfhRfeH9T8OWfiq+8FXMf2K806+mjDF7iO3t3QlDJGyugO1zgkMayPjrar8NfGHx68IeFVTwv8MLjUPB8Wtabo+LOxtBdOkV2oWPasPnQLGJQoG9SN2Q3IB9u/wDDK/wW/wCiQeA//CZsv/jVH/DK/wAFv+iQeA//AAmbL/41Xl37N2iQeC/2pv2gPC/hmyg0jwJZLodzBpOnRpDY2d9LaHzhFEgCozqkbOFH90nqM5lv4w8U/wBo6Vonh7W4fCZ1/wCK+uaPfXmm6TZ+Y1slpezZCtEUM26BG851Ziygv5g3KwB7J/wyv8Fv+iQeA/8AwmbL/wCNUf8ADK/wW/6JB4D/APCZsv8A41XkHhXx/wDEbTzo+t6t49uNZs7b4hT+CJdLbSbOKK+tBdz2yXE7pGH+1BvLbdE0UWIwvk5LMz9O+Oniab46+Dhaatr2o+DPEfiPV9DZr+x0u10gpaw3Z/0MK51DzYpbQI8k/wC6kIlZQgeJQAeuf8Mr/Bb/AKJB4D/8Jmy/+NUf8Mr/AAW/6JB4D/8ACZsv/jVfP3wZ+MHxU8X2dr48l1fxVq+iReDNQ8Q6louoeHIdP0s6kdj2VrZTtZpNcwGMzMGjlkOI4maQ79jdX8IfFXxw8XaOuoWyareWmveEZr6z1jxcNFj0231Zo43s2tF02WSZrSQySFlmDuqxx4cktuAPVv8Ahlf4Lf8ARIPAf/hM2X/xqj/hlf4Lf9Eg8B/+EzZf/Gqrfs7+LNR13Rtc0rxDqHie58WaLeRQatZ+KotNE9nJJbRTKkb6dGsEkRWQOrZZvmIYgjaPJPBXxT8c3lj4W8WXXxBGq/2h8Q73wlP4VFhZrAbVb68hUbkj88XMcUST7vMCmKP5ozkyEA9k/wCGV/gt/wBEg8B/+EzZf/GqP+GV/gt/0SDwH/4TNl/8aryT4L/Ez4u/ELxToXiH+zfEN14cvtZv7PV7W6GiRaNYWsb3ESG2Mcp1Dz45YoVcTAhszfJH8m30v9mHVPFPi74d2vi3xT4rutdutWMoSx+x2tva2axTyxqY/LjEjOyqu4u7AkfKqDigC9L+y58E4I3kk+EfgGONAWZ28NWICgdST5XAqvpX7NnwI13S7PUtN+Fnw71DTryFLi2vLXw9YSwzxOoZJEdYyGVlIIYHBBBFcn4L8U+IPHUPiDxNqXj7+z7X+3dc8Pp4Ka1tBb7LT7VDHGjmMXP2lltxdMTIy7C4EQGGXxW7+MviXwL+zD4GPg/V/EEWoeFfhTpOv3Npo9hpZs4t1n+5fUJb9w8kMht2VY7MCVdspJYvEqgH1B/wyv8ABb/okHgP/wAJmy/+NUf8Mr/Bb/okHgP/AMJmy/8AjVcrr3jTxfovxi8N3+v6lrWl+ANa/s+x0tdCi0+Wxa9lSUvFqImia7UvJ5aRtbnYBt3lPmY2vgp4n8WxfELxB4Y+IWqa23ipoJdTtrCSLTzor2f2p0WSwkt4hcbUUwoy3bb8uMb8F6AOg/4ZX+C3/RIPAf8A4TNl/wDGqP8Ahlf4Lf8ARIPAf/hM2X/xqvUaKAPLv+GV/gt/0SDwH/4TNl/8ao/4ZX+C3/RIPAf/AITNl/8AGq9RooA8u/4ZX+C3/RIPAf8A4TNl/wDGq85/Zs/Zs+Eeu/s6/CzUtS+FngrUNRvPCulXFzeXXh60lmnleziZ5HdoyWZmJJYnJJJNfS9eXfsr/wDJsPwg/wCxP0f/ANIoaAD/AIZX+C3/AESDwH/4TNl/8ao/4ZX+C3/RIPAf/hM2X/xqvUaKAPLv+GV/gt/0SDwH/wCEzZf/ABqj/hlf4Lf9Eg8B/wDhM2X/AMar1GigDy7/AIZX+C3/AESDwH/4TNl/8ao/4ZX+C3/RIPAf/hM2X/xqvUa8w/aX8HQ+OPgf4w0+51LU9OtY9NuLmUaXdm2e5WOF28iR1+bynOA6qRuHyk4JBAG/8Mr/AAW/6JB4D/8ACZsv/jVH/DK/wW/6JB4D/wDCZsv/AI1XybpYi1f9nX9jPwxrW2bwZruqWNvq9hcf8et+yW0kltbzqeJEaZVby2yrMi5BIFcj4RszefFHQPhzqUUdx8Gn+MXiGwt9FnCtpjpDaCa3sxH9xoFumcrFgpvBGMrwAfcH/DK/wW/6JB4D/wDCZsv/AI1R/wAMr/Bb/okHgP8A8Jmy/wDjVfD3wxtX174qeAfh34hij1H4RH4n+OLLTtGvVWXTLm2tLeNtPhKHKPGkzXRRCNu5eBwBX0t+w/Ne/wDCh/FVnK7T6HpvifXLDQvMIkjGnRXDJEiE5BjUiRFHQBcDgCgD0v8A4ZX+C3/RIPAf/hM2X/xqj/hlf4Lf9Eg8B/8AhM2X/wAarwL4c+LfHXirwH8PtL0bxk3gqzX4U23iSRdD0XT13XgAUBUkgaKOLnmNIx91QpTnPWeA/i94u0e68C634u8YpfaV4z8A3/iu6t30mJLXRZrZLGXMCxATyReXeOGSSSR2MalWXO2gD1H/AIZX+C3/AESDwH/4TNl/8ao/4ZX+C3/RIPAf/hM2X/xqvnv/AIaI+IXhfT/iKxudfu54PASeKdHi8X2eki4WdppI42gi05zmGTKhYrgmTdHjcctWhf8AxP8Aib4L8A/EjxRBr/jHxDo8d1o+k6DceK/D1lpN3C9zLDFeXKwSWtpkxGYFHn2wkrhiVVmIB7p/wyv8Fv8AokHgP/wmbL/41R/wyv8ABb/okHgP/wAJmy/+NV53Y3Xx4uPBvi6zt7LxFbzQXunzaXqHiF9BXW7i0L/6fDCLUvZCVVT9006KpM2G+7ursdP+JE2ofsva74u0XWNXvNSsdH1Vkv8AX7a1S+ivLXz43WaOCNbcvFNCyfIpRtmQWB3EA0/+GV/gt/0SDwH/AOEzZf8Axqj/AIZX+C3/AESDwH/4TNl/8arx2P4x+OfAen2mtjxcvxNGsfDfVfGK6b9ht4obW6tY7aSEW5tkD/Z5jcPHtleRyY1KyE7gadr8SfjHoXwp8feKLo+JH0iH4e3+u2PiHxImgEW+qxQeZB9jj0+STfBIrO+LhX2+Sg3NvIIB7d/wyv8ABb/okHgP/wAJmy/+NVT1b9nD4DeH7B77VPhd8OdNso2VXubvw/YRRqWYKoLNGACWZVHqSB3rd0e517wZ8JdR1vVNauvGWtR6fLqubi3gt08wQb/s8KQxrti3KdocySANhpHwDXg3jy81nUv2aZNa1n4kf8JlL4hsdC1ZdOa1s4Y7UvqFszPaeQiP9nPmBcTGVvlT95nduAPaP+GV/gt/0SDwH/4TNl/8ao/4ZX+C3/RIPAf/AITNl/8AGq8p8afG7xNpvxk0Z9G1TxBd+G28aW3hO7hksdLg0Rmkj2ywgu/9oPcIW3+YmIiY8bdoYnXtPEvxPsfG/jTwxqOtX1t431TT9XuvBlreQ2DeGpoopI/IlR4YvtqyxLPbLKtw20tJIUDrtKgHf/8ADK/wW/6JB4D/APCZsv8A41R/wyv8Fv8AokHgP/wmbL/41UX7PXi288QaFrum61qPie78UaLqC2uq2niyLTlurKV7aGZYlbT41t3iKSJIrAs37whiMbV9WoA8u/4ZX+C3/RIPAf8A4TNl/wDGqP8Ahlf4Lf8ARIPAf/hM2X/xqvUaKAPLv+GV/gt/0SDwH/4TNl/8ao/4ZX+C3/RIPAf/AITNl/8AGq9RooA+aPin+zZ8I9P8dfB23tfhZ4KtoL7xVPb3cUPh60RbiIaHqsojkAjw6iSON9pyN0anqoNejf8ADK/wW/6JB4D/APCZsv8A41R8X/8AkoXwP/7HC4/9R/WK9RoA8u/4ZX+C3/RIPAf/AITNl/8AGqP+GV/gt/0SDwH/AOEzZf8AxqvUaKAPLv8Ahlf4Lf8ARIPAf/hM2X/xqj/hlf4Lf9Eg8B/+EzZf/Gq9RooA8u/4ZX+C3/RIPAf/AITNl/8AGqP+GV/gt/0SDwH/AOEzZf8AxqvCvG3gLQviZ+1p4NX4baWtvrfgrXZNb8aeOk3vIN6EDSDcsS8zOsm0w7tkEQVAFGEHi+nQG78P+FPiDahZPjDdfHV9KvdYUg6i0PnywSWLOfmFutqqDyc7FQA4AoA+3f8Ahlf4Lf8ARIPAf/hM2X/xqj/hlf4Lf9Eg8B/+EzZf/Gq+IfAsU0nhn4H/ABAskV/i3rXxkm0vxDqq7TqE9j514lzbSv8AfMKW8UP7snaihcAcUvwVjlfwx+zF47slVvir4l8c6laeKNUXH9oX9v5l39qhuW+88cccUWEbKoEQgdCQD7d/4ZX+C3/RIPAf/hM2X/xqj/hlf4Lf9Eg8B/8AhM2X/wAarkfjf4pv/Dfxi0uTTxaQ3EPw/wDE2oRXT2MElxFNC9gYykroXVcuxKA7GO3cG2rjlPCN58UvEvi/wr4dn+LWoQJ4m8F/8JPcXkOiad5tjcpJAnlWgaAqsLG6G4TCZ8RAK6li1AHrP/DK/wAFv+iQeA//AAmbL/41R/wyv8Fv+iQeA/8AwmbL/wCNV4P4o/aK8XeJPgd4S1/SNW1+w8Ty+AR4t1KPwxYaV5Fu3k/8fF1JqT7Ps3mLJ+6gHm4RiWA25b8QPjP8TPGmty6Z4S1jxHoerv4d0C+0u18L+HIr+zuLy9dzcre3U9rOlsqRqhUu8QCksTJ90AHvX/DK/wAFv+iQeA//AAmbL/41R/wyv8Fv+iQeA/8AwmbL/wCNV4/4s+JPxg1P4n+OtK8GWHibVZPB91p9lZ2NmNCj07UQ1tDcSSag91JHdAy+bIga1CIojBG5g6jv7XxR4t8P/tELpXi/VdatdD167mg8LW2nRae+j3KR2XmtDcMYjepdDyrqXO4QkKoDZ+QgHQ/8Mr/Bb/okHgP/AMJmy/8AjVH/AAyv8Fv+iQeA/wDwmbL/AONVzXxI1/xNrHx6g8Eab8RJPAmlN4Uk1ovaWdlLcvMlyYy6tcxyKI1VgXG08BcMnJPk9v8AHT4rfEtPBmnaNB4itr+98BWniV7jwdb6ODeXc8ssW+RdVkUfZlEUb7YMv/pK7nUbNwB77/wyv8Fv+iQeA/8AwmbL/wCNUf8ADK/wW/6JB4D/APCZsv8A41XI+FPEnxE8ZfG/TtF1zW5vB1vYeCdD8Qar4c0y3tJwdSnub1Lm3NxIkh8n9wEPlncdiMkifNv2/iZruv618XtF8C6X4zuPAVnJoN5rkmo2FvaS3V1JFNFEI1+1RSxiJBKXfCbzmPDKAdwBYtf2cPgNe6he2Fv8Lvh1PfWWz7VaxeH7BpYN43J5iiPK7hyM4yOlW/8Ahlf4Lf8ARIPAf/hM2X/xqvJLrxxP4Z8Y/Fa8tdcuJNS1Wfwvp9nfeHbGCee9mnt9q/ZVnk8hGkySjzM0SZBbeBgweE/H3xd8cfDbXI9Judfn1Hw342uNI1No10QeI5NOS3STYnDaabhJZ41boDHEwGJTQB7F/wAMr/Bb/okHgP8A8Jmy/wDjVH/DK/wW/wCiQeA//CZsv/jVea3nxS15rr4deNU8UeJZfg/qmn6QsOr6baaZ59xeT3CxZ1WKaDzFjnMtsgNiq7WabIQbGH03QB5d/wAMr/Bb/okHgP8A8Jmy/wDjVH/DK/wW/wCiQeA//CZsv/jVeo0UAeXf8Mr/AAW/6JB4D/8ACZsv/jVH/DK/wW/6JB4D/wDCZsv/AI1XqNFAHzR+zZ+zZ8I9d/Z1+Fmpal8LPBWoajeeFdKuLm8uvD1pLNPK9nEzyO7RkszMSSxOSSSa9G/4ZX+C3/RIPAf/AITNl/8AGqP2V/8Ak2H4Qf8AYn6P/wCkUNeo0AeXf8Mr/Bb/AKJB4D/8Jmy/+NUf8Mr/AAW/6JB4D/8ACZsv/jVeo0UAeXf8Mr/Bb/okHgP/AMJmy/8AjVH/AAyv8Fv+iQeA/wDwmbL/AONV6jXw/wD8FHtfv/EHhzWfCF3pHiCLwdpvhm81651Kz0S8ubO+1HY8dnavPFE0cSxENcO0jKoIg54NAH0f/wAMr/Bb/okHgP8A8Jmy/wDjVH/DK/wW/wCiQeA//CZsv/jVfG+nweHfi3rlrpXjS1XUPDmk/AiG/wBH0/xBaNDHbTgtFdXsUU6jZIPKQCcAHaFZW2kE8x4TjPxa8M+If+Fulda1DRPgbbanof8AbzCRrUyJMZL+LfnbOTHbbrj/AFh2oC1AH3f/AMMr/Bb/AKJB4D/8Jmy/+NUf8Mr/AAW/6JB4D/8ACZsv/jVfDNvHL8UvDfj+5+LONW1/QfgjpuqaG+tkNLZXEtpLJNewh/8AV3BmSDdKMPlVUntX1D4g8Qa837DXhPVvEUcd74jm0nw9Jf8A9r2kV15k7z2gkaWOVWUuSxbJGQ3IwQMAHov/AAyv8Fv+iQeA/wDwmbL/AONUf8Mr/Bb/AKJB4D/8Jmy/+NV4148+IvxMtW+J3iHR/HZ0+Hwz480vwzpuizaRaz2Tw3Y0tJGuDtWaTa1+7qI5YjlSGZgQF6C/+JXiTwLH8R/C+p+MtZ1u907V9GsNG1ZNKsZNVlOoJEotkVVgtPNMnmBJZUWNPMUyBwh3AHov/DK/wW/6JB4D/wDCZsv/AI1R/wAMr/Bb/okHgP8A8Jmy/wDjVfPtp+0F46/4RcaPqGr+J9Pu4/iVL4UutSt9HsdT8RQ2KaV9vJ+zWMU9s8qyERs8cThY+SofJXRj+Ifxe0nwr8LdC1O88YX+v+LbzWbu4u7Gw0W01lLW3bNlAkV4kNrEzwMk0iSI0y7JVAGCYwD3H/hlf4Lf9Eg8B/8AhM2X/wAao/4ZX+C3/RIPAf8A4TNl/wDGq8p8WeLvjH4f+F/hnxH4rfX/AAvpGj2+pP4quvDy6NNrKQwv/ot9LHMs1qYzbxySTx22XEjqI1KgqPSP2jfH2reE/h74f1Lw5r1v4ek1PxDpGntql1bpLHFb3N1HG7MkmB9xyeSCPUUAXv8Ahlf4Lf8ARIPAf/hM2X/xqj/hlf4Lf9Eg8B/+EzZf/Gq8a8ZfF7x94BHinwpZ+IdR8YXFt4t0bQ7fXorTTU1S3jvYBJJB86wWRuAwVY2kVVH2qLcrkAPoXfi74w6d4Z0PSNUvdY8KXeqeOLfRrHWtcttJuNUn0ua0eR2litDJarMkokVGUAYjiZ42+dXAPVf+GV/gt/0SDwH/AOEzZf8Axqqd5+zj8BtPvrCyuvhd8Oba81B2js7ebw/YJJcsqF2WNTHlyEVmIGcBSegqf43eKNZ+GXwjs/sOuuNTuNQ0rQpPE2pQws9qLq8htZL50WNYfMUSlwCixb9uV25U8N4ojuPDnxb+EVrq3jSXxk+m+I9VEl5dwW0d3aqdCml8m4FsiRlwH8wERRny5YwVYje4B33/AAyv8Fv+iQeA/wDwmbL/AONUf8Mr/Bb/AKJB4D/8Jmy/+NV4z8KfjP8AEDxT8RrHSrPVdW1Sz8U+Cr7xDo114rsdMtLJ7hJLYW09pFZO9zFZuLkkx3ZaYKE+ZmWTOrofiT4o6x8O9V0TT9W8XT/ETRdU08eIrTUo9CXUYbWSJXk/sySOEWLh+Sn2n5tqyBvLbZQB6j/wyv8ABb/okHgP/wAJmy/+NUf8Mr/Bb/okHgP/AMJmy/8AjVdF8IfFVp42+Gnh7W7LUdS1WC7tVb7XrEMMN47glXEyQokYkVgyny1CZU7cjBPX0AeXf8Mr/Bb/AKJB4D/8Jmy/+NUf8Mr/AAW/6JB4D/8ACZsv/jVeo0UAeXf8Mr/Bb/okHgP/AMJmy/8AjVaH7JelWWhfB2bTdNs7fT9Os/FXii3trO1iWKGCJNf1BUjRFACqqgAKBgAACvQa4j9mD/kmOpf9jh4r/wDUh1CgD1qiiigAooooA8L/AGV/+TYfhB/2J+j/APpFDXp1xBFdQSQzRrNDIpR45FDKykYIIPUEV5j+yv8A8mw/CD/sT9H/APSKGvUaAOV8RfCfwR4v0HTdD17wb4f1vRdNCrY6bqOlwXFtahU2KIo3QqmF+UbQMDjpUni74X+DfH+m2Wn+J/CWheJLCyO61tdX02G6igONuUWRSF444A4rpqKAOX8YfCzwX8RLWytvFXhDQfE1tY5+yQ6xpkF2lvkAHyxIpC5CgcY6D0p3jH4Y+DviJNp8vivwnofiaXTmZrJ9Y02G7a2LFSxjMinYTsTO3Gdq+grzSbUfGXhf9oDwjog8cXXim31saleavoEmm2sVrpOnojG2uImjjEyETeTB++mkEu+ZlA2HZzXgHxj468M/FWzsPifqnjbTV1rXdUstEjlt9Cfw/eRh7iSzgWS3ja9jk+yoJB5zJuaJgSfukA900LwLYaB4s8T+I4pJ59S8QPbm4acqRFHBEI44Y8KCEBMkmGLHfNIc4IUZUXwN+G8Hiw+KY/h94Wj8TG5a8OtLotsL3zySTL52zfvJJJbOcnrXgvhL4veOrPwn8IvifqnimbWNK8fX3k3vhSSztIbSwguba4uLY2siRCfzIvJiRvNkkDhpW2p8u2/8PfiR49tofgb4w1vxZJrun/FBwl54eksrWG10o3NhNf2/2R44lmPlCHyW86SXeHLfKcUAe7r8KfCFv4k1HxLYeGtH0vxZfxPDP4jstOgTUWDKFJM+wsx4X72R8oyDijQ/hd4a0P4aab4BOlW+p+FrLT4tMFhqcSXCTwooUearDbITjLEjkkmuA8VePfiBY/tSeFfCWkWWj3XhG98OXmoXcd3qTQS5jvLKN51AtJCXjSdgkXmKknmsWaMouauiftG61qjeGNbn8FwWngLxPqv9k6Vq51jdf73MiwTT2nkBY4pWjwCs7uBJGWQZYKAegeH/AIJ/DvwnpWsaZongLwxo2m6zEINTs9P0e3ghvowGASdEQCRQHcYYEYdvU1teEfBPh34f6QNK8L6BpfhvSxI0osdIs47WDe33m2RqFycDJx2rwn4W/G/4gr8MfHPibxppvhkLpPiPVNOtrqXxItrbQrDqU1vsuZpLSJYreAKqiYCSWRV3GIOdpoQftBz/ABa0PwJqWlXNrp8lv8SIvD+ot4c1r+0NPvFW2lkxFcokfnwurxMQyLhgQR8uSAfQXjHwH4Z+ImlJpnivw7pPibTUlE62esWMV3CsgBAcJIpAYBmGcZwx9aw7T4D/AA00/wAN33h21+HfhS28P38qTXekw6JbLa3EiEFHkiCbXZSBgkEjArP8eePrjwz8VPBujI121vqGlaxfSwxSwrBIbZbYqJA0LSE/vTtKSIBltyyZXb5z4T/ad8c+MG8Bw2nwv0+C58d6C3iDQvtHijEUcEaW7zfbWW0LQ8XUXl+Us5Yuu9YhvKAHs0vwp8Ez+Co/B0vg7QJPCMZymgNpcBsF+fzOLfb5Y+clvu/eOetbHh3w3pHhDRbXR9C0uy0TSbVStvYadbpbwQgkkhI0AVRkk8DqTXiHiT9qoaT8J/CnjSHTPDuljW7SW4kg8YeLINHghmiGHtI5vLlM0+/cFCxhCI2LOh2q2N44/bIu9L8J/wDCQ+FPBlvrlhbeC7DxxfLrGtHTZEs7wyCCKFUt5/Ol/cybgdgHyAFi2AAfQGm+DPD+jz2M9hoWm2M1jDLb2kltZxxtbxSuryxxkAbFd0RmUYDFVJyQKWx8G+H9Mi0iOz0PTbSPR1ZdNSC0jQWQZSjCEAfuwVJU7cZBxXz/APFL9tTS/hT4o1nR9Uh8L28vhq2tJ9et7/xWlpfM0sazSJpls8G6+McTBhuMG9mVB827b3ui/HS41745aj4Bh07RrC3sESQyaprT22q3sLW4lFzZ2H2cie3DsIjL5y4ZJeMoAwBoa3+zz4Im8M+JdP8ADegaV4G1TW7C7sX17w5psFpfQ/aFAkkWREB3EqjHnkovoCOb+Df7NNr8L/FGp61MnhK2+2aaNLOl+DPC40OxmjL72kuYjcT/AGiUYCqxI2q0gwd5I3vH3xW8R6H8StL8EeFfCNp4i1a/0e41j7RqOsf2fbQxwzRRMrssEz5YzLjajc4BAGWHm+v/ALbGmWOm+Ffstl4d0fV9Y0aTWZrXxx4qh0KC32TGA2yTmKXzpjKkoAVQm2IszrlQwB61Y/s9/C3S9H1PSbP4a+ELTStU8r7fYwaDapBd+WxaLzUEe19jEsu4HBORiuksfB2kaF4TPhzQtOstA0lIJILez062SGCANnOyNAFAyxOBjkmvLPC/7Rl98SPE3hGw8GeFYtQ03XfDtl4pl1LVtT+xC0s55XjZPLWGVnnXaCqjCN8+ZEwpfV+Mnxq1T4d69p+g+H/Dll4g1i40fUNekGq6udMto7Sz8kShZRBMWlLXEeE2gYDFmUDkA0vgr8CfC/wV8J6FYaZpGkHX7LRrPSL/AMRWmlxWt1qQt4Uj3ysuWO7yw21nbHqcZrV0n4L/AA+0HXNQ1rTPAnhrTtY1FJY73ULTSLeK4uVlOZVkkVAzhzywYnceua4Dwp8fvFHjLWPBGlad4H08Xev+HLbxReSz686QWFrLIFKA/Zd8soVkIXy0UncCyYDM3Qf2jNY1WbwvrVz4Mhsvh/4n1UaTpesDV99/vcusE09n5ASOKVo8ArO7gSR7kGWCAHtlhYW2lWNtZWVtDZ2dtGsMFvboEjijUAKiqOFUAAADgAVzEHwf8B2sviGWHwT4chk8RBxrTx6TbqdT3szP9pIT99uLMTvzksSetcXo37Qv9reGPAmr/wBgeV/wlHiq68M+T9s3fZvJe9Xz8+X8+77FnZhceZ947ecXw1+0tr2tPouq3fgOKw8G6n4nufCi6omtCa7S4juri1Sf7MIAvkPLAqFjKJFZ/wDVlBvYA9R1j4S+B/EHiZPEeqeDPD+peIYxGqateaXBLdqEYMgErIXG1gCOeCARUVt8HPANnrGt6tb+B/DcGq65DNb6rfR6RbrPqEUxDTRzuE3Sq5ALK5IYgZzXYUUAYPg3wB4Y+HOly6b4T8N6R4X06WY3Elno1jFaQvKVVTIUjVQWKoo3YzhQOwrjP2jv+Se6T/2OHhX/ANSDT69Rry79o7/knuk/9jh4V/8AUg0+gD1GiiigAorjfjJ/wl3/AAqjxb/wgP8AyOv9mz/2N/qf+PvYfK/137v72Pv/AC+teC3nxo8Q+FPBvjHRxrXjCH4hRX2iafDb+PrLR2k0+LUrxLSK9h/sxFgnjBaU7Wdjvt9rBQ3zAH1ZVTWNHsPEGlXemapZW+pabeRNBc2d5EssM8bDDI6MCGUgkEEYINfL3jb4nePfhf4w1/4bp4un8QXuqDw+2j+J9XsrP7Zpg1K/ksJ90UEUUMvlCEzRbox87kOXUYC+JPid498E+NvEHwwTxdPq1/dX3h+PS/FWo2Nob2yg1CS5jnDxwxRwSPH9ikaImLGZl3hwnzAH0Dofwp8E+GfC+oeGdH8HaBpXhzUTIb3R7HS4IbO6LoEcyQqoR9yKqncDkKAeBS6P8KfBPh7wrfeGNK8HaBpnhq/Lm70az0uCKzuN6hX8yFVCPuVQDkHIAB6Vxnwf8R+Ibf4jfEPwJr+vT+KV8PDTr2x1i9gt4bt4buOUmKYW8ccRZHgkwyxplXUEEjceG8HfH3x3ovh34iax4w0HTtSi07xU+gaLa6TqhknmupbmG3trMhrSJVi8yZP37MzYZspwMgHvXg/wN4b+HuknS/C3h/S/DWmGRpjZaPZR2kJkIAL7I1C7iAMnGeBTo/Bfh+K4gnTQtNSeC9k1KKRbOMNHdyKySXCnHErK7qzj5iHYE8mvnv4yftBfELwv8Ovifp6+HtJ8MfEDw3otvrVtNa6y1/ZSWUzyxieKSSzUtKkkEqmGSELyhDkNx0nxm/aO1j4H+FbHUfEmj+DdP1NrG6vp7HUPGyWaXPknJt9PaW1El3OVKEq0UKAyIu85yAD2EeDfD6wiEaHpohF+dUEf2SPaLwuZDc4x/rd5LeZ97JznNYzfB3wOuvXev23hHQ7DxLdO0z69aaZbx3/nMjx+cJ9m7zNsjjcSThmHQmuK8AeMLrxN+0X4uWK+vH0KTwb4f1GzsZpW8qJp59S3OI8lVdlSMMRydigk4FY2rfH/AFXw1rXjO0s9FuvE17b+NrLwrY2V1qEFvEjXGn29wrq624ZIg0vzBzK/32Vj8sQAIvg3+ybF8K/GGia7JfeG3m0exlsku9A8M/2XqOqb0VDJqd0bmU3jHZ5h+VN0p8w8gCvS7H4D/DTS7jVriz+HfhS0uNYgktdSlg0S2Rr2GRg0kcxCZkR2VSytkEgE9K8ys/2nPE8LXc+s/D2z07S9F8T23hTX7638QicW9zczwRQy2qm3RriIfa7ZnMnkMu9gqybTWp4m/acg8K/GjSPA15beHduoapFpIgj8UQvrkTyQtJHcNpqxnFuxCDcZg4DhjHjigD1jwj4J8O/D/SBpXhfQNL8N6WJGlFjpFnHawb2+82yNQuTgZOO1cR8Jf2e/C/wvRb06XpGqeKlvdSuR4kOlRRXwiu724uvJ835n2oLgx/ew23OBnA4vQP2oNb8QeN/DtnD4O0yDwnrmo6xZQatNr7/bYl015EuJJLNbRguWibaomPBXcUJC1m/Cz9trRfiX4h0uyhtdDuIdcsLvUdKs/D/iOLVNXVIU81Yr6ySNfsszxZIQSShXVo2YHGQD2qP4Q+BIfGh8YJ4K8Op4t3mT+3l0qAX+4psLefs8zJQlc7uhx0rodJ0ew8P6fFYaXY22m2MOfLtbSFYokySxwqgAZJJ47k1578AfjBdfGrwi+vT23h6yTMa/ZNE159TmtZGjV3t7xWtoTbXCblDQncVJOSO/IyftK69DfajqEngKNPBWl+Kx4TvtY/toNdiVrxbRLmK1EBDw+ZLDv3So65farhQWAPWE+GnhCPxdeeKl8KaIvii8i8i51tdOhF7PHtVNjz7d7LtRFwTjCgdAKoax8Ffh74ih0mLVfAfhnU4tItRZacl5o9vKtlbhdohhDIfLTaANq4GBjFeP2f7a3h+9+J0Xh1D4c/s2XxI3hZE/4SWM699qWRoPNbS/KysBnUoH83dtKybAp49H+DfxU134rNrV9N4XtdE8PWOp6jpMF22qme5uprS9ltmcQiEKkTCItkybg25dhUCRgDo4/hT4Jj8ZReLk8HaAniyJdkevLpcAvkUReUAJ9u8Dy/kxn7vy9OKd4L+F3gz4btfN4S8I6F4Wa/KG7bRdNhszcFN2wyeWq79u98Zzjc3qa8m1j9pbxBD48ttJ0jwXpd7oMvjJfBTaje+IXtrtboWxuZZRaraSAxhFYL+9DMQCVRDvE0H7S2st4d8V+IZvA8aaNpfiC58KaasWsB7zVdTTU/7PgVYvJCRQyOVzI8m5DvHlsoV3APeqK8I1j9o/W/BMPiyx8W+DbPT/ABJoUOl30dppetNeWd7Z3t2bVZEuHtonV45El3RtF0CEMd526nxE/aI/4V/efEyH/hHX1L/hC9F0vWP3d4Ea9+2S3UflAFMIU+y53EkNvx8uMkA9jorzbwF8T9e1rx3qnhHxX4Vt/DWrW+nQ6vatY6p/aENxbSSPGQzmGIpMjJhkAZfmUq7c49JoAK8u/ZX/AOTYfhB/2J+j/wDpFDXqNeXfsr/8mw/CD/sT9H/9IoaAPUaKKKACivHf2kvEXi/wdo3hzWfDviGHSLFfEOj2N5arp6TTXa3OpW1u6GWQsqR+VLLkLGH3bCJFCsr53jPVPGfj74u+LPCXhvxndeBrTwx4ds9RWewsrO4e9vLyS6WPzjcxSAQxiz+6mxmMrZcYFAHudYvi7wT4d+IGkHSvFGgaX4k0syLKbHV7OO6g3r91tkilcjJwcd68km+POs337H2n/FO0s7O18Q6l4ftL6K3dWe2hurgRoDt3bmjV5M7d2SBjOea4j4jfE3x/8CdY1nwy/jCXxpc3/h62vtM1XXLC0SWwvJNSttPcmO1jhSSHN5FKEZd2Y2BchvlAPdbX4G/Dex8LXvhm2+H3ha38N3sy3F1o8Wi2y2c8q42yPCE2Mw2rhiMjaPSrt18J/BF94Ng8I3Pg3w/ceFLchodCl0uBrGMhiwKwFNgwxJ4HUk18+fET4n+P/gzr2veC18XzeKrvUrDR5NH13W7G0W506e91RNOlLx20UMcsaCVJkDJncrKzMpG30v4a694l8PfGnxV8O9d8SXXjGzt9FsPEGn6rqcFrDeRLPLcW8tvILaKKNkDWwdW8sN+8cEtgYAO41L4T+CNZ8I2fhXUPBvh++8L2ZVrbRLnS4JLKArnaUgZCi43NjA4yfWtzSdD03QNHtdJ0vT7XTdKtYhb29jaQLFBDGBgIiKAqqBxgDFfPnh348eNvD2ufHDUfF2kWF94W8Jawtpp8Wl6gZL0M1nZPBaxxNaxK4ka43mSSXKPIUwyKHqT4kfHj4g+G/BvxB0q78K6R4b8daf4PuvE2kzWeutf2bRREpMxd7NCJoCUcRmJo5C6L5gBYqAe5af4H8OaTHBHY+H9Lso7exGlwpb2UcYjsx0tlAXiIf88x8vtUtv4R0KzbS2g0TToG0q0aw08x2kamztmCBoYsD93GRFECi4B8tOPlGPF/FX7QXiX4a/DDwzrXibTfBWn6vqFo88j6141TTrGTZGrLHFNJaB5LiQNuEYgCKFfMgwu+58PviVL8RvjL4a1awub6Dw7r3w7ttet9NmlIRGnuFZXaMHb5gRwpbr2zigDd8Rfs3+Cpfh94k8NeEPD+h+AZdZtHtnvND0iCAEMVJWVIwhkifYqyR7l3pldy8MMv4Rfs26f8Or3xPcX8HhV7bXrGLTbrQ/C3hldG0eSFDMS8toZpxLK4nZGdmwUVF2jBLZ3jL4+33gDWPiLJHpV94jOj63oGkWumNe28KFr828eYW8hSuGn3ESyPuI4aNTgZ99+054w0ObxUur/Diwt4PBt/aW3iS6tvEvmxJDcLBIktlutUa4ZI5y8iSrbgbQEaQk7QD0y3/Z9+F1r4futCh+G3hCHRLuZLi402PQrVbaaVAQkjxiPazKCcMRkZOK1PEnw90/VPhhq/gjSYrbw9pl5pM+k20dnaqsNnHJE0a7Il2jaobhRgcY4rzT4m/tPwfDH4n6X4Yv7Tw99lvNS0/TBFN4nhj1qU3ckcaXMGmiNmkt0eUKzNJG/7uYiMqqtJTt/2mfEGqfErRNC07wXpkvh3VvFl/wCE4tUuvEDx3qS2MU0l1M1mto4Cf6NMI/3vzfuy3lh8gA9P+G/wk8LfC2xYaFoGj6bqd1DEmp6np2nRWs2oyID+9mZBudizO2WLHLtzyTUWjfA34b+Hf7W/sn4feFtL/te2ks9R+x6LbQ/bYJP9ZFNtQeYjd1bIPcV5H8O/21tB+IHxA0DQ4P8AhHRp/iG+utP05LLxNHd61FJCsrq95pyxA28ciQSEMJXKl4ldVLkL3fwA+N138btN1PUJtN0XRo7WQRNpltrbXeq2Mu5w8Go2rW8X2OddoBj3yc7hnCgsAerRRJBGkcaLHGgCqijAUDoAOwrlNL+EPgTQ4NWg03wT4d0+HVpkuNRjtdKgiW9lRy6PMFQeYyuSwLZIJyOa8w8RftLa9ot947u4PAcV54S8E61DpOsaodaCXLo8VrK81tbeQRIYkugzo8kfyqNjOxKrk+JP21dB8PfEq+8POPDo07Ttdt/D12tz4mih1t55XijM1vpnlFpYEeZQzGVXISVlRgq7wD2e4+Evga78XSeK5/Bnh+bxTI0bvrkmlQNes0ezyyZym8lfLj288bFx0FVrP4J/DvT/AO3Ba+AvDFt/bqNHq3k6Nbp/aCsxZluMJ+9BJJIfOSSayfhz8UNe+IXi7xTaL4XtdN8N6Dqdzo7apLqpe4ubiIrzHbrDgRlWGWaVWDAgKw+auI8f/tM6/wCHPG2qaNoHgvTdY0/S/Eek+Frq81LX3sZ/tt+kDxtHAlpNuhVbmLLllJIfClV3EA9o8J+C/D/gHR00nwxoWm+HNKR2kWx0mzjtYAzHLMEjULk9zjmtmvELj9ovU7KP4harceDlHhbwdfTaXJdw6oHvdQu1EXlxwW/lBQrmZFLSSptJ6MMsM/xZ+0t4i+Gmj+Mj4z8DWNhrmieFpvFdnaaTrzXltfQRNslhaZ7WJopUYxZ/dOuJVIYkEAA9/oryL4s/H/8A4VfdeNof7B/tP/hGvBsni3d9s8r7TseVPs/+rbZnys7+fvfd45ueBfi1r2tfEA+FPFHhGLwzc3mj/wBu6VJbaoL7zrdZVjljuAIkEM8ZlgyqNKh8w7ZG25IB6jRRRQB5d8X/APkoXwP/AOxwuP8A1H9Yr1GvLvi//wAlC+B//Y4XH/qP6xXqNABRUN4txJZzraSxw3TRsIpJozIiPj5SyhlLAHGQGGfUda+Yta+KnjH4Nr8YJv8AhLLr4maf4L8Ipqc1zrVla25tdY2zSC13WkUKsjRCGRoyGeMMhL/vVFAH1HRXhnhLVPGfw7+NnhvwT4k8Z3Xjuz8ReHbzUWudQsrO2ks7yzltlk8kW0Uf7mRbvhZA7KYhhzlqofEDxF458UeNPiVa+G/Gc3g+18EaPb3FrbW1jaXCaheSwyT5umnjdvJASNNkLRN80hL/AHdoB6E37PPwrfxAdeb4Z+D21w3X246mdBtftJuN+/zvN8vd5m/5t2c55zmti3+Fngu18aS+MIPCGgw+LZc+Zr0emQLfvlNhzOF8w5UBfvdOOlfOcPxe8ffFfwj428aaB4qfwbF4V8N6dqtpotvZWs9tfXU2mR6jIt280byeURLHCBC8TAB23EkbW618YfHvjTwf8VPiHoHiiTwxZeAtPtryy8OpZ2s1rqTppcGp3C3kksTS7XFwIB5MkJUIWyS3AB9HWPwt8F6X4wufFll4Q0G08VXO4T65BpkKX0u4ANunC72yAM5POBRpPws8F6D4svfFGmeENB07xNe7/tWtWmmQRXk+8gvvmVQ7biATknJAzXnX7RHxM8YeGPhN4a8ReCLexS/1LW9Dt5RqF15QWG6vbeNowfs8wO/zPLZtoKK7OuWUKZPEnxs8Z6fe65Y6L4B07W73wvpcOoeIVbxA9vGk0kTSi1sWNoTcvsQndKtunzR8jLbAD1bUvDOj6xeLd3+k2N9dLazWQnubZJHFvLt82HcQTsfYm5ejbFyDgUtr4Z0exvLS7ttKsbe7s7T7BbTxWyLJDbEqTCjAZWPKIdg4+ReOBXiXhL4xeNPGn7QSWWkWOl3fw4vvB+ma/a+dqJiu1juHn/fiMWpzIxQR+UZggVFcPudkGFH+1R/wnLePfCUS6DZaza+EtS1u1m8M+Ko9VuLLyNsTxXgijQWtyjTRHajyrkSbZDsBYA9q1T4L/D7XLTQ7XUvAnhnULXQk8vSYbrR7eVNPX5flt1ZCIh8icJj7o9BXk3xZ/ZCtfiV4m1S9jufC8WnahpkGlxprXhVdRvtGjjR486VcfaI1s8B96jypNsoL/MMIOk8Q+PNQ8J/ssaV4oN5qD6imjaZK91bzRC5d5PIVm3zxTKSd5yWRs5PQ4YYfjL9qDXfC2r+N3t/h7/a3hvwfr1jod/ew62kd5cvdx2bRm2t3iCMyteKrLLNEoAUh2yyoAeoa98GfAni6+03UPEng7QvE+q6fDHBbanrmmQXl1GqEsuJZELD5iW4PUk9TVzS/hf4N0TxbeeKdO8JaFYeJ70MLrWrXTYY72cMQWDzKodslVzk84HpXA2fx21uz0Xx4niPwxpGieJPCZtHntx4kQ6YYLlFaO5kvZoYTFGn73zcxFlWFiiykqrcx4d/a7/4SvwfLdaPouh6x4jPi2HwhbRaX4kFzotxcSQJciZdRW3z5Xksw4gLeavl7ed1AHoHjH4B+GfiJ8SE8S+K9M0nxNpqaQNNXRNY0uK7hWQTmUXAMmQGAZlxtzhjzziuk8YfCzwX8RLWytvFXhDQfE1tY5+yQ6xpkF2lvkAHyxIpC5CgcY6D0rwn/AIbNn0/wjpN7r+h+FvDGtatr+raJapq/i8W+komnyNFPPLfvaDG6VCsaRxSFt6HKjf5dxv2xYdQ8I+B9X0jS/D6/8JHd6hp0moa54k+xaHb3dpL5TQR6iltKszTMHaDCL5scbt8pXbQB79pvhbRdFukudP0iwsblbOHT1mtrZI3FrEWMUAKgHy0LuVT7q72wBk1R8afDnwn8SLK3s/FvhfRvFNpbyebDb61p8N5HG+CNyrIrAHBIyOcGsT4yfE65+FHg+y1iDQn8Q3l3q2n6RFp0N0sDPJd3Uduu13G3hpQfm2g45K9R554k/amuPh9oXi0eM/DenaF4k0K/06xSBNeDaVcfbgPs8zX0sERhiVhKJGeHKCFiokyoYA9h1v4f+F/E1rq1rq/hvSNVttXEQ1GG+sYpkvRHgxCYMpEmzA27s4wMYrEuvgL8M77QYdDufh14TuNFhn+0xabLodq1sk3lrH5ixlNoby1VNwGdqgdAK8q0n9sJNd8K3l1pOiaN4l1218SWPhs2/hzxLHe6bNJdqrQzRX3kruQb9rho1ZSjjDYUt6b8RvidqPwv+Ff/AAk2r6Jaz635tnZDS7PUGa1+13VzFbRKbp4VIiEkybpDECFBIQnCkA15vhL4HuPE2n+I5fBnh+XxDp8aRWerPpcBu7ZEBCLHKU3oFBIAUgDJxXV187W/7TniuHR9ek1D4f6b/a+m+MLXwZDY6b4ka4iuLmaOJ/N86S0i2xr58X8Jb/WcAqA3Q6/8aPHFpqWraTongDS9a1bw7pUWpa+j+Int4I5JFdo7azkNmWuZCsTnMiQIN0Y3fM2wA9oorxfTf2lrDXtM8ZappejyXOmaH4M03xlazS3IR72G8hvJUiKhT5RC2g+bL58zp8vzUtZ/aC8W3HiOTQ/CHw+tNfvYfCNj4tlkv9f+wxbLh7lPsqkW8rNNm3GwlQjAvuaMqokAPdaKxPA3jCw+IXgnw/4p0sTDTNc0+31O1FwoWQQzRLIm4AnDbWGRk81t0AeXfsr/APJsPwg/7E/R/wD0ihr1GvLv2V/+TYfhB/2J+j/+kUNeo0AFFfOvxC+MXie8+L3hOy8Kagtj4NsfFEHhzWpjbRyHVLuWGSR4I3cHakCxgOyYJkk27h5ThsDW/il48g8O+JPihB4rlj0rQ/HD+H18H/YrQWM9hFqaabKXmaM3H2hj5syusoQHy08sgNuAPqmqes6Lp/iPSbvS9WsLbVNMvImhubK8hWaGeNhhkdGBDKR1BGDXm/xs8Sa9Drvw+8H+HtYk8N3PivV5ba51u3ghnuLS3gtJrpxCkyPF5khhWPc6OFV3IUttI8o0f4nePdd8Z/8ACqD4untNStfFt9pc/jCCxtGv5tPg0+C/jAjaI2yzk3UcTP5O3bGxCKzfKAe9+KPg54B8b2OlWXiPwP4b1+z0mMw6db6ppNvcx2UZCgpCroRGpEaDC4GEX0FWPGHws8F/EK6sbnxV4Q0HxNc2Gfsk2saZBdvb5IJ8syKSmSqnjHQelfP/AIf+J3jzxV4lsPhk3i2bTtTt/E+saXeeLbOxtGvbizsreC4i2xvE1ukzi8hR28or+7faiFht9O+CvjTxT4g8G+MbK/mtfEPiXwvreoaHBeXTLZpqRhCvbvOYo2WJmWSNZGjjIBDMsfRKAOy8WfC3wX4+v7C+8T+ENB8R3un82dzq2mQ3UltyD+7aRSU5APGOQK3NW0bT/EFg9jqljbalZSMrPbXcKyxsVYMpKsCCQyqw9CAe1fOfwj+P3j69+B/w21DXdA03xB448Yyx2mkrBqphgu8QSXE1xdyC0VbULHDKdkUc2SEAzuO2Lxt+0F8Q7i30ex0Pw5pGj+K9O8c23hrxBpt1rTNbOJYVuIRDcfYmZoZoZomMhijeMgqFbrQB9CTeC/D1zDfwzaFpksN/eR6jdxvZxlbm6jMZjnkBX55FMEO1zlh5SYPyjEeseA/DPiK11e21Xw7pOp2+sLGupQ3ljFKl6I/9WJgykSBcDG7OMcV5F8S/2oT8LPHOj6DrOn+Gohd3Om2c1q3iyJdXd7uVIfOtLDyS09vG8gBkdoXPlzER7UUv0vwM1rUNX174tx319c3sdj4zmtbVbiZpBbwixsmEcYJ+VAzu20YGWJ7mgDM+JH7Mfh/xN4f0bSfDGl+FfDmn6fqB1CTRL7w3He6LfubY24NzZRyQCRkQR7GL/KY14O1caXgP9nXwx4d+GP8AwhXiLSdC8VaS9/NqTaZNo0UelW8skjSbLWycyLBEpY7V3MQWY7iWNcV4X/aE8Tahp/gfStE8NnxRrviafxCEuNd1mKzitl06/wDJzNJBZ8oyttXy4WYERq27LzDT+Gf7SmseOdQ8Byap4HXw7oXjL7Ta6fdPrKXF0l9bwySyxyQLEFEREFzslEpZhGpaOPfhQDv5vgR8NLi10W2l+HnhSW30Td/ZcL6JbFLDc/mN5A2Yiy/zHbj5uetO+LXwxt/ixoek6Vd3McFrZ61YatLHNbCdLlLadZWgZSwGHClSTnGeh6V5noH7W9je/EbUvC+o2WhbrbTdS1LyvD/iaHVtQtBZMgkgvraNFW2mIfhVllXcjru4yczSf2u9VtINX1PxZ4M03SPD9h4Jh8ci50nxC2oXMltO0ggg8prWJFkPlNk+bsBIw7DcVAPbrD4W+C9K8H3HhOy8IaDZ+FbjcJtDt9MhSxl3HLboAuw5PXI5pvh34T+CPCGmw6foXg3w/olhBe/2lFa6dpcFvFHd7Nn2hURABLsAXeBuwMZxXiWgftnW2q6H4zkGl+H9f1vw/oaa5HaeB/E669bSoztGYpZ47dGheNgrPiNwI33qZCGUe1fCzxpN8QvBdnr0snh2dLp5BFP4V1s6xYSKrlMpc+TDuIZWBATgqRk4oA6LWNHsPEGlXemapZW+pabeRNBc2d5EssM8bDDI6MCGUgkEEYINY+g/Dfwl4Vs9KtNF8LaLpFppMsk2nwWGnwwJZySKyyPCqqBGzB3DFcEhmz1NeP8Awv8A2ota8Z2nw51jxD4Fi8L+GfHllLNpd5FrX225huI7Vrox3EKwIqRvFDcukiSOxEaB442cqmX8LP22dF+JniHS7GGLw40OuWF3qGlQaT4oi1DUokhTzVTUbRIl+xyPFltoeUKysjEEDIB7FpvwQ+HOjnUTYeAPC9idRhntr022jW0f2qKcKJ45cIN6yBF3q2Q20ZzgVC3wE+GTeF18Mn4c+Ez4cW7/ALQGjnQ7X7GLnZs88Q+Xs8zYSu/GcHGcVB8DfiNrnxa+H2j+L9V8N2vhmw1uwtdR063i1Q3s7QzRLJmUeSixn5hgKz5UgnYcqPNvA37U3iDxp4s8N248EaZaeGfEWk6rrun6j/wkLyXotLORIx51qLTbHK7TQ/J5zKoMnzsybWAPoLTdNtNG0610/T7WGxsLSJILe1toxHFDGoCqiKoAVQAAAOABVmvBfD37RnijxB8PvAuvR+AbOHV/HrW3/CN6Q2vEq0clo93LLeTC2xbokUUjDYszNlBtVmKrd0n9oy7a+0/RdZ8LR6b4mHjFfCGqWVvqRuLe2d7F76K5hmMKNNG8PlHDRxEF2B+5lgD22ivD/EH7SF9p39pW+meD/wC1tRt/Gy+C7a3OprAs0jWaXK3Du0Z2IC4VlAYhQWG84Q9n8KfiRqHjp/E+m67oUXh3xJ4b1MabqFna3pvbZt0EVxFLDOY4i6NFOn3o0ZWDKRwCQDva4j9mD/kmOpf9jh4r/wDUh1Cu3riP2YP+SY6l/wBjh4r/APUh1CgD1qiiigAooooA+Rf2bP2k/hHoX7Ovws03Uvin4K0/UbPwrpVvc2d14htIpoJUs4leN0aQFWVgQVIyCCDXo3/DVHwW/wCiv+A//Cmsv/jtH7K//JsPwg/7E/R//SKGvTri4itYJJppFhhjUu8kjBVVQMkknoAKAPMf+GqPgt/0V/wH/wCFNZf/AB2j/hqj4Lf9Ff8AAf8A4U1l/wDHateF/wBoXwN4y1ew0/StQ1CUajK8On6hPol9b6dfuqs2La9khW3nysbsvlyNvVSy5AzXo9AHyv4M8VfBrwP431jxJZ/tR6fdvrGoNqGo2N94i8PSx3R5CQtL9nFwIYwdqIsoCKMLgZzb0jxr8D7XxZpGt6z+0hpPi6PRJprnR9M1zxZpLW2nzSI0fmqYkjlmdYpJI1aeSUhZGP3jur6dooA+U/COqfs8+EtX0SUfHzQNV0Hw/NcXGheGdS8V6U+n6VLKHQvFtVZn2RzTRoJpZAiSsAAQpV3gPWf2fPAesaBcRfH/AELWNL8NCdfDmh6p4s0p7TRVlVo8QlAkz7IWaFDPJKVRmAOSTX1VRQB89+Jvix8DfEXxA8NeMYfjx4W0XWNEgns/+Jf4m0sx3trNJBJLbzrL5nyM1tEcxlHGDhhmuZ8O6x+z34d1bS3T4/6Fe+HdHv5NU0nwrd+LdLOnafcsXIeMqFncIZZNkcszom4bVGxNv1VRQB8n3mpfs/3On65YxftDaHaWl/r6+J7KKHxPoxGkaiLlrl5rbfG27fKzMVn85Rn5QtT6BrP7Peiwxef8fdB1i8XxSvjCW+1DxZpZlnvhbi3IYRhEEZVc7EVcHhSqgKPXvD37RngLxR4ittFsdTv1urq9uNNtbi80S+tLO6uoGkWaCG6mhWCWRWhlG1HYny3xnaa9LoA8D8TfF74B+KvF2ieIrv4zeDY73SbG/sII4fFOniNo7sQiUsC5JYeQm3BAGTkHjGP4V8bfs8eEJvh1JZ/GrwnK3gXw/L4b03z/ABVpxE1tIlojPNhhukxZRYK7R8z/AC8jH0pXIeF/i54R8beLNa8N6FrcOqavo8STXsdvG7RIrSSRDbNt8tyJIZo2CMSrxurYIIoA+dhJ+z1ZWegRaP8AtC6NoFxpOn3mkfbbHxVo7T3VldTrPNBIZUcKC6KQ8QjcY4avFPiNcfC3RfFelf8ACNeOfDetDw54W0rRPCuvWeveEbyS2lshMI3vW1Vi8RV2jfdZRrkFicsFC/pHRQB8uzfEL4S3muTeJLP9pPw74L8Q6rb2o12Pw14j0WSzvriGPYJNl7FOUIX5AUKkoqBslQRo6p8SPgl4g+IGk+J9Z/aH8Patb6PetqOl6DN4k0WOysrgwSQeYjRxpcNhJpRtkmdcvkg4XH0jXnHjX9oXwN8PfEN/out3+pQ3mn2kN/fyWuh393bWNvKZBHNcXEMDxQIfJlO6R1AEbE4AJoA8L+InxN+G3jT4+aD4g0/49eG/Cml2Xhi+sG1rRPFmkectxJdWzLCYrgyq6siSHJjIBQEMrYrRj1r9n7Rbfw7/AMIn+0DoXgm/0XTDoyajpPirSZ5rq1LiQpOLtZ45G8wGTzNgcM8mGAdgfqe3uIrqCOaGRZoZFDpJGwZWUjIII6gin0AeAaP8YPgXpfjKHxVP8c/Ceqa4uhw6FLcXfifTFFxHHI0nnOsZRRKzOxOwKnPCLXiv7UvxA+EXxN8feGNSuPF/hPxVodhpl1bj+xNb8K3l1DcSSwt88WtSm3WMrHw8S+bkEMQuAfqvxh8dPBfgLxAmj65qV1aXO63Wa4j0u7ms7QzyeXCLm6jiaC3LsQB5rpwQehBPfUAfMvwz+NHwthm8P+MPGnxq8Bz+P18Ox6NqQtfFGn/ZWPmeaz4Vh+83dSuE67VAxWf4d1j9nvw7q2lunx/0K98O6PfyappPhW78W6WdO0+5YuQ8ZULO4QyybI5ZnRNw2qNibfqqigD5Nsb79nyw8S6XqS/tDaRJpuk67P4i03w+/i/SvsFpdzmYzFQFErqzXEpCySMF3HZtHFcv8FdY+Eem6Vp1z4v+O3h9P7P8U6vr9v4VfxhpMmnJNJqN49rc5QmU/upo5BF53lhyGMYkBI+ovHnxo8LfDfWrDR9Zk1aXVb61mvYLPR9Cv9UlMETRpJKy2sMhRVaWMEtgZcV03hrxJpfjHw/p+uaJfwappGoQLc2t5bNujmjYZVgfpQBwH/DVHwW/6K/4D/8ACmsv/jtH/DVHwW/6K/4D/wDCmsv/AI7XqNcN8SPjV4S+EyqfEd1qEf8Aost9INN0e81E29tHjfPMLaGTyYxn78m1ThsE7TgAx/8Ahqj4Lf8ARX/Af/hTWX/x2vOfj5+0n8I9Y8C6Zb2HxT8FX06eKvDVw0Vt4htJGWKLXLGWWQgSEhUjR3ZuiqrE4AJr6Rs7y31Gzgu7SeO6tZ41linhcOkiMMqysOCCCCCOua80/aO/5J7pP/Y4eFf/AFINPoAP+GqPgt/0V/wH/wCFNZf/AB2j/hqj4Lf9Ff8AAf8A4U1l/wDHa9RrmvHnxI8PfDTTLe+8QX7Wy3U6WtrbW1tLd3d3Mx4jgt4VeWZ8ZYrGjEKrMcKpIAPPfFf7RHwY8UaBdaZH8dPCehyzbTHqOk+K7CO5gZWDKyFnZTyoyrqysMqyspIPncmrfs8apofiq08QfHvQfE2r+JFtUuvEV/4s0uK+hFq/mWfkfZxFDF5EuZU2xcuxL7819DeB/iJofxEtbybRpbwPZzCC6tNS0650+6t3Kh1ElvcRxyplWVgSoDA5Ga6WgD5Rn1L9nvVtI8RRa7+0DofiHX9akspX8T3nivSYdQtGs5POsjb+QscMfkzbpVHlEMztv3g4pZtV/Z81DSdaTVf2gdD1fxFql5Z37+KrjxZpMeowTWhBtGiEKpAgiO4hPJ2sXk3h97Z+raKAPn34d/Fv4GfD99Zu2+O3hbxHrms3CXGo61rHijTDcXBSMRxrth8qJERFACpGo5YnLMxPNalrv7PWq23jayuPj14e/snxRerqrafH4r0tE03UFMbreWkigSpKJIY5BvkdAy/dwSK+p6KAPlabWv2fNY8O+NdP8R/H3w/4q1Hxdpo0jUNd1LxVpMd4loqyeVFCLdYoYxG00sgxHku5LFuAKfi7UvgZ40Zp7/8Aab0+PULvRW8P6vqFr4n0KObV7EySSeVNiDbHjzZButxC2G5JIUj6m17XLLwxoeo6xqc/2bTdPtpLu6m2M/lxRqXdtqgk4UE4AJ9K5L4f/HDwh8TNUl03RLzUE1FLNNQWz1fR73S5prV2KieFLqGMyx7sAvGGCllBI3LkA828J/FD9n/wb4ruvEFl8Z/B8t5caJp+gvHceKdPMYgs2naJgAwO8m4fcc4OFwBznKuPFn7O1zruo6s3xr8Ki4vvE9r4skUeK9O2C7t7WK2RFGc+UUhUkEltxOGAwB9NVBf6hbaVY3N7e3MNnZ20bTT3Fw4SOKNQSzsx4VQASSeABQB816n4s/Z11XRfE+mS/Gvwqtv4h8SWnii6ZPFenBkureW0kRIyTgRk2UWQQWwz4YZGMmTUP2fZPF66wv7Quiw6cniIeKk8PReKtIWxXUf4pS2zz3DZclHmZAXyqrtTb9FfD/4l+G/ijpl7qPhjUf7TsrO8exlm8iWIeaiqx2+Yq71KujK65VgwKkg5rp6APzu+CfjjwP4D+J1vqMPjHwTolxealf8A/CTX91rXhNtLvbGV532WtxC7apKzSm2Zftbj5VfzOQqV7r4H8ffB34eWa6Zo37T+mJ4ctrWSz03Qp/Emgy2+mREEQrDI0HnsIVwqCWWQYVQ2+vpyvPvH/wAefB3wz1ptJ1y41Y36WB1SWLS9A1DUhDahmUzSNbQSLGuUblyOlAHm3w7+KXwP8A6xr+tXHx+8M+KvEGufZ0vNW1nxLpCStFArCGIJbLDEFXzJDnZuO85YgKF8w8B6x8IrzWPEl54q+O+gW2j3HjW68QxeFU8YaTJpt8VufOtLiTlplwyxP5SyohaJS0ZJfd9oabqVprOnWuoafdQ31hdxJPb3VtIJIpo2AZXRlJDKQQQRwQas0AfNGg/EH4LeE/E91qGgftJaLo2iXWoy6pP4Xg8SaHJpzzytvnIMsT3CLJIWkZUmUBnYrtBxXQfD340fAX4a6Fc6Tpnxl8GT29xqV9qjNd+KLBnEt3dS3Migq6jaHlYKMZCgZJPJ7rx98c/Bnwx1E2XiLUrq0ljt47y5kt9Lu7uGyt3dkSa6lhidLaNmjkAeZkU+XIc4Rsd4jrIqsrBlYZDKcgj1oA/O/R/Hvgzw/wDHvUfFOleNfBWn63feKZLmXXzrfhSXSW0h5gZAZ3kbV/Oa2BXYGWNZyFXbAK93m8V/s5XPw98QeD5fjN4Uaw1jV7vXTdL4tsEurS9nvWvRLA6uApinYNHkHGxQ2/nP01RQB8rya5+z7qmh+LbXxB8f9B8T6v4ms4rC78QX/ivSor6GCEu9ukH2dYoYxFJJJKuI8l3JfeMAcX8TtS+ET/Dj4pPpXx60Pxt4z8YaVZafPNrHjHSIWkW1llaLyxCYIoTtuHB2hQditjeXZ/pLwP8AtGeA/iJrWn6Xo2pah9q1KOaXT31HRL6wgvxFjzBbTXEMcc7KDuKxsx2qzY2qSPSqAPnLwF8TPgb4J8Ranr93+0B4e8Wa7fW0Nj/aGveKtLaSC1iZ2SCMQCJQu6R2LFS7EjczYXHef8NUfBb/AKK/4D/8Kay/+O16jXAeB/jx4K+IuvLo2handTX8tmdRtlu9Lu7OO9tQyr9otZJokS5iy6fvIWdcOhzhgSAZv/DVHwW/6K/4D/8ACmsv/jtec/s2ftJ/CPQv2dfhZpupfFPwVp+o2fhXSre5s7rxDaRTQSpZxK8bo0gKsrAgqRkEEGvpevLv2V/+TYfhB/2J+j/+kUNAB/w1R8Fv+iv+A/8AwprL/wCO0f8ADVHwW/6K/wCA/wDwprL/AOO16jUV1dQ2NtLcXEsdvbwoZJJpWCoigZLEngADnJoA+bvjF8Q/gt8YrPT7K4/aQ0Pw3Y2d1b332bRPEeibZriCeOeCRzcRTNlJIkIClVOMMGFZ3ijxR8EPEmpRarH+0vpmia3Lo66FquqaX4p0WObWLZWZk+0K0TRo6tJMVkt0hYec+CBtC+w+Ff2g/A/jPV9P0/Sr/UXOpO0enX11ol9a2GoMqM+La8lhWC4JSN3XypG3IjMuVBNejUAfKMni74H6vceINC1P4zeBYPhtJ4bs/DGkeGdP8ZQJHbwxhzJcMPNGybmKNGUkqsAJYlsKjaj+z3q+meIoPFP7QWi+M7/WtPi0p9W1bxdpcN1a28bmWNYDaiFEZZT5nmbC5ZV3MwVQPq+igD5Rn1T9nzWtL8UQ+Jf2gtD8V6vr8Frbya9qPivSYby0jtZTNai2FssUUflTkzA+WSz43lwqqOn+H/xU+BvgXVta1q6+PnhnxX4j1dYYrrWtb8TaUJzBCG8mBUtxDEkaGSVgFQEtK5YnjH0PRQB8v6p4m/Z41rVvHk938cvDMmkeNYl/tXQl8VaYlr9oWGGFbuJ1xPHMI7eIAiXZkbtu7DBum+KPgF5Ovt4k/aB0Hxvf6zo7+H5tQ1zxTpKyxae4bfBGtssMY3FyzOULsQu5iEUD6iooA+TLjVfgdcxaDIf2nNPj1fSdLuNDOsR+J9CW6u9PmeJ2tpf3GxQDDHiSJI5Pl++TzXQ+APHX7PPw5uvDdxpvxq8JzvoPhi28J2wuvFWnMHtICpR32suZTsGSML1wor2Hx98W/Dfw0vNIs9bk1N77VvO+xWek6Le6nPMIgpkPl2sMjAKHXJIA5rY8H+MNG8f+GdP8Q+H76PUtIv4/NguEVlyMkFWVgGR1YFWRgGVlZWAIIAB8++I/Fn7OvifUPEF5dfGvwrHLrer6RrVwIfFenBUm054XgVMk4RjAm8HJILYK8Yd4j8Xfs7eJ7P4hW118a/CscfjiW3l1Ew+K9OBiMMEUKeTknaCsKE7t3JPTgD6ZrkfiP8WvCXwl02G+8V61FpUM7EQx+W800uCoYpFGrSMq7lLMFIQHLEDmgD568SXf7PfiTxJqWpn9oTRdOsNS12x8SXuiWfirSBaT6haNbmKVmdGmwRaQqYxLs4JCqx3V5F8NfHXgnwX8Zj4gsvG3gvSNWvPEN/c6xrT634Uk0m502e6mlZY7kSNq7yMjQkCRwgkGMLEqpX6IUUAfMvgvx/8ABj4f30Ueh/tLaPaeGYZLiSDwq3iTQ5LGDzS7FUkaE3IVXkLopnIXaq/cGyrfgX4mfBHwf4q1PxPqH7Qnh3xf4jv7KDTW1LWvEmjRvHaxSSyJCqWqQJjfNI2WUt82M44r6PrzXwP+0Z4D+ImtafpejalqH2rUo5pdPfUdEvrCC/EWPMFtNcQxxzsoO4rGzHarNjapIAPm/RdY+EfiXxh8UbjxP8dvD+m+G9d8WQ6kug2fjDSTZaxaxWdgEaYZeWMGaCVGVHiMioFcMm2vQ4fiF8F9J8YX+uaB+0no3hq01K/XU9Q0Kx8SaJLY3dxhFkY/aIpZY/MVFDiKRATlhtZix+l6KAPC/Bfxs+A3gX+3vsHxl8Fzf2zqs+sXH2nxRYNtmm27lTDjCDaMA5Pua+ZPEnjrwRD+0B4g8aaJ418Fx+JrrXba603xFHrfhSfSxZiC3hkFzNcyNqiMYo5o2S22LyoTGWc/aPgf47eCviNrg0jQtTuZr6Sz/tC2W80y7s0vbXcq/aLWSeJEuYsun7yEuuHQ5wyk99QB83yeOf2crrwz430C8+L/AIPvNN8XX82o36yeLbJHjlkSNT5LpIpTb5SMpyWDDOemMiDXv2fb6w8Rw+Kvj9oPjq613RZPDtxf654r0pJotPcNvhiFqsKKWZyxk2GQkLliEQL9T1zHxA+JWg/DDS7O/wDEE15FDe3iWFtHYadc38807qzLGkNvHJIxIRjwvagD5J+J2ofCST4Y/E6XTv2gdH8eeONe8HXXhy1bXvGGjp5i7JDDGBGIYkO9zlzjO4lieo9G+HfxD+B3gvXj4hvvj/4f8T63/ZselW02ueLNLf7BaB95gi8ry9wZghaSUySP5abnO2vdPAfxC0H4laLLqnh+8kubeG5ks7iK5tZrS5tp4zh4poJkSWJxwdrqpKsrAYYE9HQB5d/w1R8Fv+iv+A//AAprL/47R/w1R8Fv+iv+A/8AwprL/wCO11/jfx/ovw8061vNalugt3cC0tbfT7C4vrq5mKPJsigt0eWQhI5HIVThY3Y4CkiTwP450T4keGbXX/Dt7/aGlXLSIkpieF1dHaORHjkVXR1dWVkZQylSCAaAPBvin+0n8I9Q8dfB24tfin4KuYLHxVPcXcsPiG0dbeI6HqsQkkIkwimSSNNxwN0ijqwFejf8NUfBb/or/gP/AMKay/8AjtHxf/5KF8D/APscLj/1H9Yr1GgDyXVP2m/gxqWmXdpH8avBVg9xC8S3Vr4nsBLCWUgOm52XcM5GQRkDIPSvJfAt98BPB/hHVPCN9+0dovi7whqdlc2V5ouueI9CCXH2j/XTST20MNxJM+X3SPKWYuzHLYYfQXjj4u+F/h3qFjp2r3d5Nqt8jS2+l6Rpl1qd68a8NL9ntYpJRGCQDIV2gsoJyQDs+EfGGk+OtBh1jRLprqxleSLMkMkMkckbtHJFJFIqvHIjqyMjqGVlIIBGKAPlq88TfC3R/Dmuz6N+0v4d17xzc6C3hzSfEHijxbpivpFtIy+Y8X2RIdz5VJCzAu7wRAyKBkaPifWPgJ4iu7qeH9o3TdF/tLSoNG1tNP8AGOlk6zbRKyr9oeUSOsm2SRTLA0UhDn5shSv1bRQB8oeKr79nfxHear9j+PmheGdH1uxt9M1vQ9F8W6WlpqltChjSOTzA8kWYmMTNbvEzJtBbKqQ7xbqX7O/irWNdnX49eH9F0XxFHbRa/wCHNM8VaUlhq6woIlWUOrSxhoUSFvIki3Iig9M19W0UAeCfEr4xfAX4neDZvDt98aPBumwGe1u4LzTfE+nLPaz288c8Eke9nTKyRIcMrKQCCCCRXI+IvEXwM8QX11eD9pTTNLudU0yHStffTvFejR/25FGjIHnBjIilKvIDJa+QwDcEbU2/VNUNe1yy8MaHqOsanP8AZtN0+2ku7qbYz+XFGpd22qCThQTgAn0oA+ebjxx+z3/wl2m63p/xt8J6NDa6Kvh6fSbHxPpf2S9sE3mKGXfukURmRyrRPG3OCSOK5fwvH+z34bMIl/aK0nWYLXwtc+DbC3v/ABVoyx2OmzeR+7jEMceWQW0YV33MQTuL/Lj6B+H/AMcPCHxM1SXTdEvNQTUUs01BbPV9HvdLmmtXYqJ4UuoYzLHuwC8YYKWUEjcue8oA+efEHxO/Z+8R/CuLwBc/Gfwgmjx2ltZieLxTp4uNkBjKHcWK5Plrn5e5wBWTrHir9nXWrPxnbT/GvwqkfivXLLX70x+K9OBjuLUWgjWLJOEP2GLcG3E7nwRkY+lb/ULbSrG5vb25hs7O2jaae4uHCRxRqCWdmPCqACSTwAK5/wCH/wAS/DfxR0y91HwxqP8AadlZ3j2Ms3kSxDzUVWO3zFXepV0ZXXKsGBUkHNAHg/jLxN+zt41vvEl9c/G7wvZ3+tT6Vdm4tfFWmZs7jTpTLaywq+5SQ+CyyLIrYwVxkHyX4wyfBxvDKW1j8XPD/wARE1TxZH4i8QteeJfDk+ouy6a1ojW8F0YrBxlIdyToVVS7RqHWPb980UAfFvw38c/DDVPAehx698bPDPgrWPDmoXR8MXen+IPDsOpafp8kYi8i4it1fT2LDf8AJHEyBRCeJELDtPF3j74R+OPBaeF9X/an02fTZ7W5sdVK6/4dWTV4Jsh45yLbCAIxjBgER2nJJb5q9d8f/Hnwd8M9abSdcuNWN+lgdUli0vQNQ1IQ2oZlM0jW0EixrlG5cjpXcabqVprOnWuoafdQ31hdxJPb3VtIJIpo2AZXRlJDKQQQRwQaAPlv9oP4tfCXxx8N/D/hvw98WfBaLa+ItCndrTxhYQzW1pb38EksqSPMPmjiRmGCWJUYBOBT/wC2P2fLrRddh1T9oDQtZ1/V7601KTxRdeK9Kj1CC4tQv2R4RCqQIIimQgi2MXk3q+98/VVcF4++Ofgz4Y6ibLxFqV1aSx28d5cyW+l3d3DZW7uyJNdSwxOltGzRyAPMyKfLkOcI2ADyeT4jfBjVdJ0yy8R/tJaJ4qk07WrXXLa71HxHocMqSQMGSLFtFEhjJGTld3J+YcYy/wBqD42fCf4lfCW40HT/AIkeA9dSXUbCe70+PxNpTTS28V1HLJ5KXUwtpJAEBVLjMRx8wb7p+qEdZFVlYMrDIZTkEetLQB8S/Bnx18J28JrofiH4o+FPDvhrRfEVprfhzTbnXvDVpfQtDtkdZ00si0ETT72AQeYQzFmBIA73xv4y+BPjDxLqGt2n7Q+i+FLjVrFNN1iHQvFmlLHqdum/YsnnLI0bqskiiWExyYf73ypt+na818D/ALRngP4ia1p+l6NqWofatSjml099R0S+sIL8RY8wW01xDHHOyg7isbMdqs2NqkgA8Y8XXf7OviRpItO+Peg+EdOutAh8MX2m+H/FulxQ3unQ+b5ELmQSOhjE8wDxMjYkIJIwBy+r6/8AC3WvjJqVzaftBaN4U8MjwNpfhuLVNF8YaOJbvyri+M0MiS+ZtISWBhKqIyliEcZcV9s0UAePeHf2iPgL4T8P6ZomkfFX4f2OlabaxWVnax+JrPbDDGgSNBmXOAqgfhWh/wANUfBb/or/AID/APCmsv8A47Wl4H+PHgr4i68ujaFqd1Nfy2Z1G2W70u7s4721DKv2i1kmiRLmLLp+8hZ1w6HOGBPf0AfNH7Nn7Sfwj0L9nX4WabqXxT8FafqNn4V0q3ubO68Q2kU0EqWcSvG6NICrKwIKkZBBBr0b/hqj4Lf9Ff8AAf8A4U1l/wDHaP2V/wDk2H4Qf9ifo/8A6RQ123jTxtofw98OXeveItRi0vSrUAvNLlizE4WNEUFpJGYhVjQFnYhVBJAoA+bPGln+x3461qy1jUPEPwhj1SHVRrFxeW97o4lv5vnLLcu2WlR2kLMCclgDninzav8As93HiS4vG+P2gjw5da2viO58If8ACV6UdLm1BXWUTNkfaMeeiT+WJhGZFyUILA++eCfit4d+IF7e2WlPqdtf2caTS2OtaNeaVceW5YLIsV3FE7oSrDeoK5BGc119AHyYnjL4T+JtNurnxP8AtFeF7TxMnii48R6RqejeMbGR9EBjNtFb2/2jehjNsWWSN4ijPPKwUHawmbVf2fI9JsVtP2gdDsPEtpq8+ujxbB4s0k6lLeTRmKaSRXVrdleIiPy/J2KqoFVSqkfVtFAHyo2rfs+Q6Lo8Wn/tAaHpXiHTNRudWj8U23izSn1Ga6uQy3LyiRXgcSBsFDDsUKmxU2LjtPh38aPgL8NfDY0jT/jN4NvWkuJr271DUPFVhJc3lzM5kmnlZXVdzMxOFVVUYVVVQAPd6KAPk2xv/gBpvgrSPDlp+0To9sNA1Eaj4d1OLxTowu9DO1kMNufL2SRGOSWMrcJMSkjAkkKVs3Gtfs+3HhObTP8Ahf8AoEetz63D4jm8VL4p0g6lLqEWwJMQym34jjSLYIQgQYCg819U15r4H/aM8B/ETWtP0vRtS1D7VqUc0unvqOiX1hBfiLHmC2muIY452UHcVjZjtVmxtUkAHiXiKb9n7xJrepX037RWkW1pqup6frWp6XbeKtGW3vr6z+z+TPITGZRn7LDlEkWP5chATmvQvBvxq+A3gi88T3Nj8ZfBksniHVn1m6Fx4osGCTNDDCVjw4wm2BDg5OSeegHutFAHzL4T8W/s7eDdS8L3tl8a/Cssvh3+1/si3HivTir/ANo3K3E/mYIztdQExjA67jzRoPi79nbw9a/D+3tvjX4VdPBV9dX+nGXxXpxMslxBcwuJsEblC3chG3achck4IPtngf4teEviTqWtWPhjWotZm0dohdyW0bmH94GKGOUqI5VOxxujZgCrAkEEV11AHxWbf4GeEfDMq+Hfj94b1u70Xw5qWh+GNE13xfpkWnWUdzEFEJe2WOYpmOIGRpHlAXO8nJPG/APxL8J9Lttb8Jar4x8J6F8OtZ0GSz1ux13WfCVnPeXjbEja2bRXDbVj+0bnnbeC0JTneR+g1cx8QPiVoPww0uzv/EE15FDe3iWFtHYadc38807qzLGkNvHJIxIRjwvagDxPR/ix8NtJ0S/09/2t7TUZbiKOK3v7zX/DbXFlsYEtGVtVV2YDaxlWTgkjDfNWr8NfjB8Cfhno99Z23xv8I6xeajfzanqGqal4m00XF5cykbpHWExxL8qooEcajCAkFizH1vwH8QtB+JWiy6p4fvJLm3huZLO4iubWa0ubaeM4eKaCZEliccHa6qSrKwGGBPR0AfEX7NGpfCDwT8PvhlJ40+Ofh2+1fw3owgg8Nal4v0iex0m6lgEVw0TRHfIdrSxjzJpERJXVAq4A9B8D+Ovgt4Bs10mw/aW0m58JwWsljZeGbzxLob2llbkFY4o5RELkrEuFTzJnOFAYtivevG/j/Rfh5p1rea1LdBbu4Fpa2+n2FxfXVzMUeTZFBbo8shCRyOQqnCxuxwFJE3gnxvonxF8N2uv+Hr4ahpdyXVJfLeJlZHKOjxuFeN1dWVkcBlKkEAigDyjwR8dvgb8OPh7oHhPRvjH4HuLTQdLt9LspL7xTYmR0ghWKMyMrgEkIMlVHfAHSvl79mfxd4D+G+uaXZ/8ACceD/DFlc6ZLa+K57zW/Ca2t2/lYQWM9nI1/MRMxZXvnYmPeXzKwr9FKKAPmG68Vfs9t8N/A/hKx+OvhvSJfBUVpHoXiCy8V6Z/aNo1vB9nD5fdE5khMkbq8RRlkb5QdpFWbXP2fZfC0unr8f9Bi16bW4/Ecni1PFelf2m+oIFRZiCpt8eSgh8vyfL8vgKDzXr1t+0Z4DuvF3/CODUtQivv7UfRBdXGiX0Onm+XcDbC9eEW5kJUqqiTLNhVySAfSqAPiDxpffB+00XRNO8OfHrRb+7vPHcPinV9duPGmlLfW8n2RoZLmM7ljwGSJhCI2T5igj8r92PX/AIb/ABd+BXw3tdW2fHLwnr+raxetqGp61q/ijTTdXk2xIlL+UY41VIooo1VEVQqDjJJP0BXAWPx48Fal42h8KQ6ndDV7i6uLG3eXS7uKzuri33+fBDdtELeWSMxyBkSRmBjcEZRgADN/4ao+C3/RX/Af/hTWX/x2tD9kvVbLXfg7NqWm3lvqGnXnirxRcW15ayrLDPE+v6gySI6khlZSCGBwQQRXoNcR+zB/yTHUv+xw8V/+pDqFAHrVFFFABRRRQB4X+yv/AMmw/CD/ALE/R/8A0ihq/wDtCeCdV+JXwM8eeFdDkjj1fWNGurK282Qxo7vGVCMw5CtnaT6Ma8q/Zs0L4uTfs6/CyTTfG/gq005vCulNbW914Nu55oojZxbFeRdVQOwXALBFBIJCrnA9G/4R340/9D/4D/8ACGvf/lxQB5/bfEXxR4o+JPw8Tw1F498O28l/9l8R+ENW8KC30qws47O5Lst81kFdhcJbKphumVg3yKQcjidP+Dcul/s76zqJ8GX0muah4tvpfElvb2jrq2p6EPEE8ktqgIEkkL2uGECECVGYKGMuH92/4R340/8AQ/8AgP8A8Ia9/wDlxR/wjvxp/wCh/wDAf/hDXv8A8uKAPAtX+HrzeFvijffD7wXqeg/D9rzwvqlh4eg0KbTZLi6sNQS51Ga206RI5FLQRW6YEYMrw/KG4LVvi/qF34o8M/HrxLF4e8S2GjakPC8WnSX9jPpNzfeVebJPJE3lSRsHO0F/LYHa3Csjn6G/4R340/8AQ/8AgP8A8Ia9/wDlxWP4t+F/xT8daDPouueNfAd9pk7xSSQf8IVqEeWjkWVDuTWQeHRT15xg8cUAYv7O/hvSdN+J3jfVPA/hLUPBXw9utM0yBdPvdGn0ZLjVI2uTcTx2k8cbg+TJao820CRkAyxQmvoOvLv+Ed+NP/Q/+A//AAhr3/5cUf8ACO/Gn/of/Af/AIQ17/8ALigD1GivEfAs3xp8a654507/AITbwHZ/8IxrUekeZ/whV7J9p3afZ3nmY/tcbMfbNm3Lf6vOfmwOv/4Qb40/9FF8B/8AhCXv/wAuaAPnb4cfDbxd4Yb4e65rEfiHW/DyeO9dNx4UurEIujPcalfCz1SIRRJM8Y35b7Q0sYS881dgjUjO+Gnw1123+NVvd+IpP7G8Z23i2+vrnV7f4d6nNd6naNJP5UMmvJMbVrV7aSILGyKseyNNivEMfTX/AAg3xp/6KL4D/wDCEvf/AJc0f8IN8af+ii+A/wDwhL3/AOXNAHyp8EfDelaxceBbvw/4O1mHx7a+N9UudR8VNpk6Qf2Wt7fLLGb8qY3hZSsYtQ+RId3ljBevaPDPjKC+/a88SXKaL4qisLzwxp2iwajc+FtTgs3u7e81GSZPtD24jChJoiJCwR94Csx4rqvCPwX+KfgXQ00fQ/HXgOx05Jp7hYf+EI1CTEk0zzSnc+tE8ySO2M4GcDAAFbP/AAg3xp/6KL4D/wDCEvf/AJc0Ad/RXAf8IN8af+ii+A//AAhL3/5c1ymmn406h8VPEPg3/hN/Acf9kaNpmr/bf+EJvT5v2ue/i8vZ/a/y7PsGd247vNxgbcsAe1V8n/Gj4WeN/F3xI+NF/wCHbvWbKCXwjosUWlxQRpY+JfLl1Jp7B5zH5qFo28vdbTROn2lWJPy17j/wg3xp/wCii+A//CEvf/lzR/wg3xp/6KL4D/8ACEvf/lzQB8v/ABs8D3njTxvFf6jo8mn+EdS8H2MHhyS/+HWq+JLnQ5D5xuFhjtJY5NNu132zeY6bmKRgODCVEXxI8PaBq3xK+J2meKfCuu/ETXv+EL0W30i7stEuLl11Bob1VmCoGFjO7hWWeTYI8MPMXkH6l/4Qb40/9FF8B/8AhCXv/wAuaxtP+C/xT0vxRq/iK18deA4tZ1aG3t725/4QjUD5scHmeSNp1rau3zpOVAJ3c5wMAHm3xY8W6lqVv4Y+F/ibSPFX9lR2Njd+K/EOneGNS1WLUCgVjY2z2ttKC0kiZllYrsQ7UDO5MP0/FIJo0kUMFYBgGUqefUHkH2NcF/wg3xp/6KL4D/8ACEvf/lzR/wAIN8af+ii+A/8AwhL3/wCXNAHf0V4r4yPxp8I+IvAmlf8ACb+A7v8A4SjWpNI87/hCb1Ps2zTr298zH9rnfn7Hs25X/Wbs/Lg9X/wg3xp/6KL4D/8ACEvf/lzQB538Zfh34u8bfH3QJvDHiHWvBbxeCdat08RabZQTwpcvdaeYYJjPDImG2tJtXZIRCdrgBq8f8U+DdW1Xwr8GJNQ8DxaT4N03Q72wvfDOt+C9R8XW2nauskSb3sY5lnkBWO5EV2/mrtZjkeerN9Sf8IN8af8AoovgP/whL3/5c0f8IN8af+ii+A//AAhL3/5c0AfMF14Z8M6L44+FWi+P9M1v4naHZ+Ab9Cs3ha+uJJCLy1EL3GmMJZ/lU7B5quyNtZiD8w6i6XWdB/Z38K+DfEc/xM8PXj+H51aLw5oL60biN96R2F1LFbzzRSxxGNSyyQE7jtmJUsnr0nwX+Kc3jC38Uv468BnXrewl0yK7/wCEI1D5beSSOR02f21tOXijOSMjbgHBOdn/AIQb40/9FF8B/wDhCXv/AMuaANX4T22rWfwt8H2+vaRZ6BrkOj2kd9pOntut7OcQoJIYzuf5EYFR8zcAfM3U8x+0d/yT3Sf+xw8K/wDqQafWl/wg3xp/6KL4D/8ACEvf/lzXmn7QvhD4uWfw/wBNlv8Ax54Ku4B4q8NKsdt4Mu4WEp1yxETFjqzgqshRmXALKrKGQsHUA+iq8Q+Mlpqfhj4xeB/iB/ZOq614c0/StT0W9/sSze+vNMlupLRoryO2RXeUDyHjby0dlDglSu4rvf8ACO/Gn/of/Af/AIQ17/8ALij/AIR340/9D/4D/wDCGvf/AJcUAeF+JNP8afE74Z+K9Lv5vGXi/wAPjxx4aTSLnXtBOk6nJZLd6fLeOYYrW1kWONzOfNMa4VCQ2FJrX+Jvwx8E6F8RNQ0/xd8LbjxN4AbwzDZ+E9L0LwzJqVjptyJrhr6OOC3iZbOeXzbQidlQMEOJB5bCvXf+Ed+NP/Q/+A//AAhr3/5cUf8ACO/Gn/of/Af/AIQ17/8ALigDxfT7Lxl8M59IuPGmj+I/E3iLVvhdZ+H5bjR9Pm1Qy6vbvMZIp5owyxs5ukxNMyRMVkYyAAkchDoPhiz1z4XaX8S/AeseKLG1+E1hBNoseg3OqNb3Ssq4ls4kZxIP3irI0eI2JBZCwz9L/wDCO/Gn/of/AAH/AOENe/8Ay4rI/wCFYfFT/hLv+Eo/4TXwH/bv2H+zftX/AAhWof8AHv5nmbNn9s7fv85xntnFAHU/AHRte8O/BLwPpnijzxr9rpFtFeJdTedNHIIx8kkn8bqMKzZOSCcnqe/ry7/hHfjT/wBD/wCA/wDwhr3/AOXFYXgWb40+Ndc8c6d/wm3gOz/4RjWo9I8z/hCr2T7Tu0+zvPMx/a42Y+2bNuW/1ec/NgAHd/GqwutV+Dfjyysraa8vLnQL+GC3t0LySyNbyBUVRyzEkAAckmvn7Qfhx4/8L6hNCt5rniHXdV+Gs9h4a8RajbxwPoN8qxmSxkNvFHDGJHNtIkkkYkzbOrO+1QPdf+EG+NP/AEUXwH/4Ql7/APLmj/hBvjT/ANFF8B/+EJe//LmgD5C8M+AX8PfCv4lX8QHh2dfhpqlpq2iWnw31Pw8l7cC3BWa7vrmaWG8uIj5yh0Ys/nytuZea9M+Aui6PpXxE0nxL4Q8Ga94U0e08GSr4vmvNFureTVdQaSCS3OWQtqVwgjvi1xEZt3nDEj+YufX/ABJ8Jfiz4u8O6poWrePfAd3pWqWstld2/wDwg9+nmwyIUddy60GGVYjIIIzwat2Pw5+Mem2NvZ23xC8Bx29vGsUSf8ILfHaqgADJ1nJ4HegDjv2ZvE0epa38TLdtH8SaW+oeJ7rWLV9a8Oahpsc1q8Vuiur3EEaliyN8md+ATtxzXu9cB/wg3xp/6KL4D/8ACEvf/lzXKfFg/Gn4X/Cvxl4y/wCE38B6n/wjujXmr/Yv+EJvYvtH2eB5fL3/ANrtt3bMbtpxnOD0oA9qr5r+NHwy8beNvjP4iufCet6t4ZkbwGLS3ure1iayvrn7VORazSyRFlBBGTDJFIofcGHFeq/8IN8af+ii+A//AAhL3/5c0f8ACDfGn/oovgP/AMIS9/8AlzQB8t/EbwRc+Kv+Fez3vg5dK+Hn/CC2+nWPh/X/AABqfioaJeq2JYTaW0qS28wi8lFuGVsiFwrrn94virw/4WX4nWOmfEzQPEXxcgg+Fulxi4/4Rq8vJ7q7E96omlsVWSSC5kUybZZEzCTIpkjZ8P8AUf8Awg3xp/6KL4D/APCEvf8A5c1jR/Bf4pw+MLjxSnjrwGNeuLCLTJbv/hCNQ+a3jkkkRNn9tbRh5ZDkDJ3YJwBgA8i8Ya94ms/hJ4F+DvjLTPFUk+p+GLWDxp4o03QNQ1lBD5QiubSKW0glD3UxDoXYhURmkyzbFb6q0ia3uNJspbSOWG1eBGijmheF0QqCoaNwGQgYyrAEdCAa4v8A4Qb40/8ARRfAf/hCXv8A8uaP+EG+NP8A0UXwH/4Ql7/8uaAO/orxXTT8adQ+KniHwb/wm/gOP+yNG0zV/tv/AAhN6fN+1z38Xl7P7X+XZ9gzu3Hd5uMDblur/wCEG+NP/RRfAf8A4Ql7/wDLmgD56+BXw18W+CZPgbqfiKPxBr2kIt/ajStQsVjbwteyxS+VcBYYo3MTxCaBmuRIUM6EOgZs5X7OPw117R/iX4UvPEU39ieOLG41D+3rm1+HWpQ3Otb1m3x3evGZ7W4hZ/KnQ4AzFCqrGRsH01/wg3xp/wCii+A//CEvf/lzR/wg3xp/6KL4D/8ACEvf/lzQB8m/sreG9NvLH4F6r4S8F61pviywt7m48U+IbjTJ4EvtNNnLGkDX8g8q7DzNYtFCsr+UsONsXlFV9a+H91qnij9oLQvEVrF401uzOlahDfv468OPpf8AwjiyPDIltZuILeOYyOio5AuW22yHzVH+t7/wf8F/in4B8L6Z4d0Hx14DsNG02Fbe1tv+EI1CTy4x0G59aLH6kk1s/wDCDfGn/oovgP8A8IS9/wDlzQB39eXfsr/8mw/CD/sT9H/9Ioa0v+EG+NP/AEUXwH/4Ql7/APLmvJ/2bNC+Lk37Ovwsk03xv4KtNObwrpTW1vdeDbueaKI2cWxXkXVUDsFwCwRQSCQq5wAD6Xrzv9onwRqvxI+BvjfwxoYjfVtU0ua3toppDHHMxH+qZuyuAUJ6YY54ql/wjvxp/wCh/wDAf/hDXv8A8uKP+Ed+NP8A0P8A4D/8Ia9/+XFAHA2PxG8UeLPiv8Pv+EcHj7Q9Nmunh8SeE9a8KC10zT7ZLK45W9ezAdxcrbqDDdOrAnaCvI4jSfg2dD/Zsgu28FX0mqX2v+d4ttLe0f8AtbVNITVJWkt2UjzZovJIItwcPHuRVO/a3uv/AAjvxp/6H/wH/wCENe//AC4o/wCEd+NP/Q/+A/8Awhr3/wCXFAHgeqfD+T/hGfiFqfgPwZqmh+AI9c8Laxpvh230OfT5ZpbG+im1Oa2050SRN0McQCiJTK8DFQ24M2b8ary48TeEfjT4ibw54ns9E1XXvBa2P2qxuNKvL9I9StI5PIEhiljfcCoLeWwO1vlBVj9Hf8I78af+h/8AAf8A4Q17/wDLisbxd8Lfil460X+ydc8aeA77T/tNteeT/wAIXqEf723njuIWymsg/LLFG2M4O3BBBIIBnfs4+G9N0jx98R9Q8H+FrvwZ8Or5dMWw0u40abRopNQjjmF5cRWUscbRq0bWUZfYodoG67cn3uvLv+Ed+NP/AEP/AID/APCGvf8A5cUf8I78af8Aof8AwH/4Q17/APLigD1GivBvipq3xp+Gfww8X+MP+Ez8B6l/wj+j3mrfY/8AhC72Lz/IgeXy9/8Aazbd2zG7acZzg9K7r/hBvjT/ANFF8B/+EJe//LmgDjfjh4H8ReMvjB8L30HWNa8MC0tdZ87XtIs7e4+ys8VuI1k+0QyxAOQeCATtO0jmvDte8C+JJvhl8J7DUfCi2uiaHfazbeKdK1Xwnf8Aie0n1IyN5d+2nxzLNcxTSfaZklDSqhukJHG5PqP/AIQb40/9FF8B/wDhCXv/AMuaP+EG+NP/AEUXwH/4Ql7/APLmgD5av/C3h/QL/wCAmj+NLHVviD4WisPE26x/4RC/hWKD7RaNbQPo8nmXDW8B8qOON0l2iOGTAVBInQeIrXU/C/7Et34Xm8OeKHvdXa+/sDQ7TQ77ULqz09r9pbK2nWGJzbmO1aFdku3bt2dUIHtmofBf4p6p4o0jxFdeOvAcus6TDcW9lc/8IRqA8qOfy/OG0a1tbd5MfLAkbeMZOdn/AIQb40/9FF8B/wDhCXv/AMuaAOu8O69beKNFtdUs4r2G2uVLJHqNjPZTgAkfPDOiSIcjoyg4wehFaNcB/wAIN8af+ii+A/8AwhL3/wCXNcpqR+NOn/FTw94N/wCE38Byf2vo2p6v9t/4Qm9HlfZJ7CLy9n9r/Nv+353bht8rGDuyoB7VXx38Cvhr4t8EyfA3U/EUfiDXtIRb+1GlahYrG3ha9lil8q4CwxRuYniE0DNciQoZ0IdAzZ+hf+EG+NP/AEUXwH/4Ql7/APLmj/hBvjT/ANFF8B/+EJe//LmgD5l/Zx+GuvaP8S/Cl54im/sTxxY3Gof29c2vw61KG51res2+O714zPa3ELP5U6HAGYoVVYyNgyP2VPDelXtn8CdV8K+DtZ0nxVYwXFx4r8SXOlXEUd5phs5Ykha+ZTHeK0rWLRQpI5iWHGyLyiq/WP8Awg3xp/6KL4D/APCEvf8A5c1jeD/gv8U/APhfTPDug+OvAdho2mwrb2tt/wAIRqEnlxjoNz60WP1JJoA4z4T+OE+LXxo/4S3XNB8V+Hbyzs7rSfDmj6t4V1O0S2tXeOS5ubm5lt1gE05t4dsYkIRI15LyMqfRdcB/wg3xp/6KL4D/APCEvf8A5c0f8IN8af8AoovgP/whL3/5c0Ad/Xjn7SnhTWPGFt8OrTRZ9UsJ4fF9ncTalo9vHNNYxLBcBpsSxSRhQWUFnQr8w9RUHwnPxp+KHwr8G+Mv+E38B6Z/wkWjWer/AGL/AIQm9l+z/aIEl8vf/a67tu/G7aM4zgdK6v8A4Qb40/8ARRfAf/hCXv8A8uaAPm3xX8P/ABnB8MNf0CfTLrUb6z+IceoeJ9SvdDuNTh8Taa8SmO7ayhkj+1Kq/ZEltrdlUG0cCPbiNsLXfCWmeHfht4HtNShvtf8ACV58TUmbw3pfgnUPD0Nnavplz9otrfTLh2mkt2PmyvGm5ZfNmjVHJMZ+r/8AhBvjT/0UXwH/AOEJe/8Ay5rG8Q/Bf4p+KrjRZ9U8deA7qXRr9dTsW/4QjUE8m4WOSMP8utDd8ksgw2R82cZAwAeY+Ac+AfAvjBtJ03xx4C8Da14skfw5H4b8MNNe6Tai2h81/wCzZbWaS3gmuoboqv2Y489WwgcNXpP7Lul6lo/wynttQ026sYv7Z1CayudRtpLa+1K3kuHkF9dxSMXSedneR1Kx8txFEMRrvf8ACDfGn/oovgP/AMIS9/8AlzR/wg3xp/6KL4D/APCEvf8A5c0AZvxf/wCShfA//scLj/1H9Yr1GvnP4veE/i5ZeNfg4brx34KuZ5PFk6WjQ+DLuJYZf7D1Ul5FOqsZF8sSLtBQ7mVtxClG7v8A4R340/8AQ/8AgP8A8Ia9/wDlxQBxPjKPUvh98bPGmuX9r4mt9F8W6Lp1lYeKPCWjvrF3pc1q1wXga3WC4ZVfzg6uYWjyXDENtzyGkeC/EfxdX4Oj4kaRqniuwj13xE142v6QLfzbAC5XT2vrZIYkTfGtudkkaZbGU3cV7L/wjvxp/wCh/wDAf/hDXv8A8uKP+Ed+NP8A0P8A4D/8Ia9/+XFAHz/8UPh0L/UviVYP4E1a++K93qcDeBvFEOjTTQafbKkH2TyNQRPKsYoJFmaSIyRFsSHa/mjfe+LdlrOkD46+F4fCnibV9R8W69pur6TNpmi3FxaTW62mnxSs1yqmKNo2tJ8xu4cgLtVtwFe5f8I78af+h/8AAf8A4Q17/wDLij/hHfjT/wBD/wCA/wDwhr3/AOXFAHzD8UvDOl+KviV+0RY2vg7WNa+I82s6UnhDW7XS57mLS7/+ydOMc0d0itHp7RyeVJLK5i8xEQbpPL2p9314rovwt+KXh7WvEGraf408B2+oa9cx3mpTf8IXqDefLHBHbo2G1khcRQxrhQB8uSMkk7P/AAjvxp/6H/wH/wCENe//AC4oA9RrjPjVYXWq/Bvx5ZWVtNeXlzoF/DBb26F5JZGt5AqKo5ZiSAAOSTXCeBZvjT411zxzp3/CbeA7P/hGNaj0jzP+EKvZPtO7T7O88zH9rjZj7Zs25b/V5z82B1//AAg3xp/6KL4D/wDCEvf/AJc0AeFaD8OPH/hfUJoVvNc8Q67qvw1nsPDXiLUbeOB9BvlWMyWMht4o4YxI5tpEkkjEmbZ1Z32qB5v4Z8Av4e+FfxKv4gPDs6/DTVLTVtEtPhvqfh5L24FuCs13fXM0sN5cRHzlDoxZ/Plbcy819e/8IN8af+ii+A//AAhL3/5c1m+JPhL8WfF3h3VNC1bx74Du9K1S1lsru3/4Qe/TzYZEKOu5daDDKsRkEEZ4NAHkHwF0XR9K+Imk+JfCHgzXvCmj2ngyVfF815ot1byarqDSQSW5yyFtSuEEd8WuIjNu84YkfzFz3P7M3iaPUtb+Jlu2j+JNLfUPE91rFq+teHNQ02Oa1eK3RXV7iCNSxZG+TO/AJ245rsbH4c/GPTbG3s7b4heA47e3jWKJP+EFvjtVQABk6zk8DvU//CDfGn/oovgP/wAIS9/+XNAHf0V4r8WD8afhf8K/GXjL/hN/Aep/8I7o15q/2L/hCb2L7R9ngeXy9/8Aa7bd2zG7acZzg9K6v/hBvjT/ANFF8B/+EJe//LmgDyr40fDLxt42+M/iK58J63q3hmRvAYtLe6t7WJrK+uftU5FrNLJEWUEEZMMkUih9wYcV5h8RvBFz4q/4V7Pe+Dl0r4ef8ILb6dY+H9f8Aan4qGiXqtiWE2ltKktvMIvJRbhlbIhcK65/efUn/CDfGn/oovgP/wAIS9/+XNH/AAg3xp/6KL4D/wDCEvf/AJc0AfLnirw/4WX4nWOmfEzQPEXxcgg+Fulxi4/4Rq8vJ7q7E96omlsVWSSC5kUybZZEzCTIpkjZ8P1vjDXvE1n8JPAvwd8ZaZ4qkn1PwxaweNPFGm6BqGsoIfKEVzaRS2kEoe6mIdC7EKiM0mWbYreux/Bf4pw+MLjxSnjrwGNeuLCLTJbv/hCNQ+a3jkkkRNn9tbRh5ZDkDJ3YJwBjZ/4Qb40/9FF8B/8AhCXv/wAuaAO00ia3uNJspbSOWG1eBGijmheF0QqCoaNwGQgYyrAEdCAat1wH/CDfGn/oovgP/wAIS9/+XNcppp+NOofFTxD4N/4TfwHH/ZGjaZq/23/hCb0+b9rnv4vL2f2v8uz7BnduO7zcYG3LAHtVfHfwK+Gvi3wTJ8DdT8RR+INe0hFv7UaVqFisbeFr2WKXyrgLDFG5ieITQM1yJChnQh0DNn6F/wCEG+NP/RRfAf8A4Ql7/wDLmj/hBvjT/wBFF8B/+EJe/wDy5oA+Zf2cfhrr2j/EvwpeeIpv7E8cWNxqH9vXNr8OtShuda3rNvju9eMz2txCz+VOhwBmKFVWMjYMf9lbw3pt5Y/AvVfCXgvWtN8WWFvc3HinxDcaZPAl9pps5Y0ga/kHlXYeZrFooVlfylhxti8oqv1l/wAIN8af+ii+A/8AwhL3/wCXNY3g/wCC/wAU/APhfTPDug+OvAdho2mwrb2tt/whGoSeXGOg3PrRY/UkmgDgPh/dap4o/aC0LxFaxeNNbszpWoQ37+OvDj6X/wAI4sjwyJbWbiC3jmMjoqOQLlttsh81R/rfpeuA/wCEG+NP/RRfAf8A4Ql7/wDLmj/hBvjT/wBFF8B/+EJe/wDy5oAzf2V/+TYfhB/2J+j/APpFDWd+0To+r/aPh34s07R7rxJY+EfEB1bU9HsU8y5mtzZXNuZYYs/vZImnSQRj5m2nblsK3Ffs2aF8XJv2dfhZJpvjfwVaac3hXSmtre68G3c80URs4tivIuqoHYLgFgigkEhVzgejf8I78af+h/8AAf8A4Q17/wDLigDw/wAf6h41+IXgb49aZpV3448V+F7rwPONMtfEXhVtMuBqU32sNbWsZsbaadRGsAHEhywBYk10XxD+FfhPwj4l8AJrXw+m134Wx2N+b7SdN0GbV4xrcn2Yw3t7ZwxySTu0Md2n2h0kKvJ8xDSBq9O/4R340/8AQ/8AgP8A8Ia9/wDlxR/wjvxp/wCh/wDAf/hDXv8A8uKAPFvBOi638LF+EHiLXdB8RDw7pcniWwtrGx0u51S90nT7udZtLhmgt1kmVUtrdIsBCIz5aNtwK4230ezs9B+Blr8Q/BGt3Gnyav4sn1Dw3Npct7OqSXc8kfn2cO9rhPmjbaiyqflcAqNw+m/+Ed+NP/Q/+A//AAhr3/5cVkan8MPiprHiHRdcvPGvgObVNG877Dcf8IVqC+T5yBJPlGshWyoA+YHHbFAF79l/Qbvw78KltpdNvNE0yTVdRuNG0nUEaOex017uVrSFo2+aICIqViPMalUIUqVHrVeXf8I78af+h/8AAf8A4Q17/wDLiuemvPjTD8VNA8G/8Jr4DP8Aaujalq/23/hCr3919knsYvL2f2v82/7dnduGPKxg7sqAe5V8d/Ar4a+LfBMnwN1PxFH4g17SEW/tRpWoWKxt4WvZYpfKuAsMUbmJ4hNAzXIkKGdCHQM2foX/AIQb40/9FF8B/wDhCXv/AMuaP+EG+NP/AEUXwH/4Ql7/APLmgD5l/Zx+GuvaP8S/Cl54im/sTxxY3Gof29c2vw61KG51res2+O714zPa3ELP5U6HAGYoVVYyNgyf2UfDGl6ha/AjU/Cng7WNI8V2UNxP4q8SXWlzwxXmmGzliSF791Md2rStYtFCkjmJYcbYvKKr9Yf8IN8af+ii+A//AAhL3/5c1jeD/gv8U/APhfTPDug+OvAdho2mwrb2tt/whGoSeXGOg3PrRY/UkmgDmPhP4zt9U/aM+I8yaL4ps7TWbbTI7G81LwtqdlbStbRXAmBmmt0RcFlxuYbsjbur3+uA/wCEG+NP/RRfAf8A4Ql7/wDLmj/hBvjT/wBFF8B/+EJe/wDy5oA7+vHP2lPCmseMLb4dWmiz6pYTw+L7O4m1LR7eOaaxiWC4DTYlikjCgsoLOhX5h6ioPhOfjT8UPhX4N8Zf8Jv4D0z/AISLRrPV/sX/AAhN7L9n+0QJL5e/+113bd+N20ZxnA6V1f8Awg3xp/6KL4D/APCEvf8A5c0AfNviv4f+M4Phhr+gT6ZdajfWfxDj1DxPqV7odxqcPibTXiUx3bWUMkf2pVX7Ikttbsqg2jgR7cRtha74S0zw78NvA9pqUN9r/hK8+JqTN4b0vwTqHh6GztX0y5+0W1vplw7TSW7HzZXjTcsvmzRqjkmM/V//AAg3xp/6KL4D/wDCEvf/AJc1jeIfgv8AFPxVcaLPqnjrwHdS6Nfrqdi3/CEagnk3CxyRh/l1obvklkGGyPmzjIGADyvwf4rv/gb8NfG2q+E/h94g/sDWfFbp4P8ADceg3yDT4HtoUluJ7OKBp7S0N1FdTbRDuxICqZkXPsP7POmaZo/w1gttNm1i8la8urrUL7XNFutIuLy+nla4uZ/s1zGjojyyuVABUD5Qx2k1c/4Qb40/9FF8B/8AhCXv/wAuaP8AhBvjT/0UXwH/AOEJe/8Ay5oA7+ivFfGR+NPhHxF4E0r/AITfwHd/8JRrUmked/whN6n2bZp17e+Zj+1zvz9j2bcr/rN2flwer/4Qb40/9FF8B/8AhCXv/wAuaAPnqH4a+LdL1S58R3sfiDWfDMHxUn1C68HPYqI/Ia7xb6nb+VEtxJ5MrRTlWeWNkRiEyqkZUXw116b49aje69N/Y3iUeNxqGm+IIPh1qWp3z6b5qeTbprcMxt4LZ7Ym3eN0VUBlLKc72+mv+EG+NP8A0UXwH/4Ql7/8uaP+EG+NP/RRfAf/AIQl7/8ALmgD5P8ADHhjS/EPijVTong7WH+J8HxYu57PxX/Zc7QWumxas8l2o1Da0UMDW4vIjal0LySk+U3mh39W8RX2q+Lvjl4Pu9Ot/G2rT6V4hlE+geJvDrW2jaPbiCaCW/trxIYo5pNpxHuuLnK3TYjU/NF6D4Y+C/xT8G29/Bo/jrwHZxX1/cancL/whGoPvuJ5DJM/za0cbnYnAwBnAAFbP/CDfGn/AKKL4D/8IS9/+XNAHf1xH7MH/JMdS/7HDxX/AOpDqFV/+EG+NP8A0UXwH/4Ql7/8uaP2T4L21+EVzDqVzb3mox+LPFKXNxawNBDLKNf1AO6Rs7lFLZIUu5AIBZsZIB7FRRRQAUV5T8I/iF4v8TfED4heHfFtnollJoD2DW0WivNKEW4gaQo80m3zSCo+YRRdcbeMn1agDwv9lf8A5Nh+EH/Yn6P/AOkUNeo15d+yv/ybD8IP+xP0f/0ihr1GgApssqQRvJI6xxoCzOxwFA6knsKdXi37YN14tk+BGt6B4G0y81HxR4pki8O2j2sMjpZi6bypbmZ0VjDHHEZGMpwFO3kcUAdf8H/jh4J+PnhmfxB4D1xde0mC5a0lmFtNbskoRXKlJURh8roQcYIYYruq+TPgT4M8a/Bn9pbUdKvPBNrofgfxZ4ctRCfDl7capYWN7p0aW8Ylma0txCZLfAwV+YwrgknC/WdABRRRQBwnwK/5Hn45f9jnb/8AqP6PXr1eQ/Ar/kefjl/2Odv/AOo/o9evUAFFFFABRRRQAV5V4c/5Om+If/YmeGf/AEu16vVa8q8Of8nTfEP/ALEzwz/6Xa9QB6rRRRQAUUUUAFFFFAHlXxk/5KL8Cf8Asc7n/wBR7Wa9Vryr4yf8lF+BP/Y53P8A6j2s16rQAUUUUAFFFFABXkv7T/8AyTHTf+xw8Kf+pDp9etV5L+0//wAkx03/ALHDwp/6kOn0AdvRRRQAUUUUAFFFFABXCfAr/kefjl/2Odv/AOo/o9d3XCfAr/kefjl/2Odv/wCo/o9AHr1FFFABRRRQAV5V+1j/AMms/GT/ALEzWf8A0hmr1WvKv2sf+TWfjJ/2Jms/+kM1AHqtFFFABRRRQAUUUUAeVeHP+TpviH/2Jnhn/wBLter1WvKvDn/J03xD/wCxM8M/+l2vV6rQAUUUUAFFFFABXhf7K/8AybD8IP8AsT9H/wDSKGvdK8L/AGV/+TYfhB/2J+j/APpFDQB6jRRRQAUUUUAFFFFABRRRQB5d+1R/ybD8X/8AsT9Y/wDSKavdK8L/AGqP+TYfi/8A9ifrH/pFNXulABRRRQAUUUUAFeVeI/8Ak6b4ef8AYmeJv/S7Qa9VryrxH/ydN8PP+xM8Tf8ApdoNAHqtFFFABRRRQAUUUUAeVfsnf8ms/Bv/ALEzRv8A0hhr1WvKv2Tv+TWfg3/2Jmjf+kMNeq0AFFFFABRRRQB5D8df+R5+Bv8A2Odx/wCo/rFd3XCfHX/kefgb/wBjncf+o/rFd3QAUUUUAFFFFABRRRQBwnwK/wCR5+OX/Y52/wD6j+j169XkPwK/5Hn45f8AY52//qP6PXr1ABRRRQAUUUUAeVftY/8AJrPxk/7EzWf/AEhmr1WvKv2sf+TWfjJ/2Jms/wDpDNXqtABRRRQAUUUUAFeVeHP+TpviH/2Jnhn/ANLter1WvKvDn/J03xD/AOxM8M/+l2vUAeq0UUUAFFFFABRRRQB4X+yv/wAmw/CD/sT9H/8ASKGvUa8u/ZX/AOTYfhB/2J+j/wDpFDXqNABRRRQAUUUUAFed3n/J03gL/sTPEn/pdoVeiV53ef8AJ03gL/sTPEn/AKXaFQB7PRRRQAUUUUAFFFFAHlX7J3/JrPwb/wCxM0b/ANIYa9Vryr9k7/k1n4N/9iZo3/pDDXqtABRRRQAUUUUAeVfGT/kovwJ/7HO5/wDUe1mvVa8q+Mn/ACUX4E/9jnc/+o9rNeq0AFFFFABRRRQAV5V+zT/yTrV/+xz8Wf8AqQ6jXqteVfs0/wDJOtX/AOxz8Wf+pDqNAHqtFFFAHj/w2+FPjvwl8UPE/izXfGnh3WrXxEtv9s0/T/DM9i6GCIxxGOV7+YKMHLAo2exWvYKKKAPD/wBla3lb9mD4QEROQfB2j/wn/nyhr1H7NN/zyf8A75NfMn7Nn7Nnwj139nX4WalqXws8FahqN54V0q4uby68PWks08r2cTPI7tGSzMxJLE5JJJr0b/hlf4Lf9Eg8B/8AhM2X/wAaoA9V+zTf88n/AO+TR9mm/wCeT/8AfJryr/hlf4Lf9Eg8B/8AhM2X/wAao/4ZX+C3/RIPAf8A4TNl/wDGqAPVfs03/PJ/++TR9mm/55P/AN8mvKv+GV/gt/0SDwH/AOEzZf8Axqj/AIZX+C3/AESDwH/4TNl/8aoA9V+zTf8APJ/++TR9mm/55P8A98mvKv8Ahlf4Lf8ARIPAf/hM2X/xqj/hlf4Lf9Eg8B/+EzZf/GqANf4GKU8dfHIMCp/4TO34I/6l/Rq9dr5Y+DP7M/wf1Txl8ZIL34U+CLuGw8WwW1pHP4cs3W3iOh6VKY4wY/kUySyPtGBukY9WJr1L/hk74If9Eb+H/wD4S9j/APGqAPVaK8q/4ZO+CH/RG/h//wCEvY//ABqj/hk74If9Eb+H/wD4S9j/APGqAPVaK8q/4ZO+CH/RG/h//wCEvY//ABqj/hk74If9Eb+H/wD4S9j/APGqAPVa8q8Of8nTfEP/ALEzwz/6Xa9R/wAMnfBD/ojfw/8A/CXsf/jVeaaB+zL8Hpv2kvHWmSfCfwO+m23hLw9cwWbeHLMwxSyXmtLJIqeXhWdYYgzAZIjQH7owAfUFFeVf8MnfBD/ojfw//wDCXsf/AI1R/wAMnfBD/ojfw/8A/CXsf/jVAHqtFeVf8MnfBD/ojfw//wDCXsf/AI1R/wAMnfBD/ojfw/8A/CXsf/jVAHqtFeVf8MnfBD/ojfw//wDCXsf/AI1R/wAMnfBD/ojfw/8A/CXsf/jVAB8ZP+Si/An/ALHO5/8AUe1mvVa+X/ix+zL8HtN8efBi3tPhP4Htbe/8W3FteRQ+HLNFuYhoWrSiOQCPDqJIo32nI3Rqeqg16X/wyd8EP+iN/D//AMJex/8AjVAHqtFeVf8ADJ3wQ/6I38P/APwl7H/41R/wyd8EP+iN/D//AMJex/8AjVAHqtFeVf8ADJ3wQ/6I38P/APwl7H/41R/wyd8EP+iN/D//AMJex/8AjVAHqteS/tP/APJMdN/7HDwp/wCpDp9S/wDDJ3wQ/wCiN/D/AP8ACXsf/jVed/Hb9nv4WeB/B+h634b+Gng/w/rVr4w8L+RqOl6Da21xDu16wRtkiRhlyrMpweQxHQ0Ae7UUUUAFFFFABRRRQAVwnwK/5Hn45f8AY52//qP6PXd1wnwK/wCR5+OX/Y52/wD6j+j0AevUUUUAFFFFABXlX7WP/JrPxk/7EzWf/SGavVa8q/ax/wCTWfjJ/wBiZrP/AKQzUAeq0UUUAFFFFABRRRQB5V4c/wCTpviH/wBiZ4Z/9Lter1WvKvDn/J03xD/7Ezwz/wCl2vV6rQAUUUUAFFFFABXhf7K//JsPwg/7E/R//SKGvdK8L/ZX/wCTYfhB/wBifo//AKRQ0Aeo0UUUAFFFFABRRRQAUUUUAeXftUf8mw/F/wD7E/WP/SKavdK8L/ao/wCTYfi//wBifrH/AKRTV7pQAUUUUAFFFFABXlXiP/k6b4ef9iZ4m/8AS7Qa9VryrxH/AMnTfDz/ALEzxN/6XaDQB6rRRRQAUUUUAFFFFAHlX7J3/JrPwb/7EzRv/SGGvVa8q/ZO/wCTWfg3/wBiZo3/AKQw16rQAUUUUAFFFFAHkPx1/wCR5+Bv/Y53H/qP6xXd1wnx1/5Hn4G/9jncf+o/rFd3QAUUUUAFFFFABRRRQBwnwK/5Hn45f9jnb/8AqP6PXr1eQ/Ar/kefjl/2Odv/AOo/o9evUAFFFFABRRRQB5V+1j/yaz8ZP+xM1n/0hmr1WvKv2sf+TWfjJ/2Jms/+kM1eq0AFFFFABRRRQAV5V4c/5Om+If8A2Jnhn/0u16vVa8q8Of8AJ03xD/7Ezwz/AOl2vUAeq0UUUAFFFFABRRRQB4X+yv8A8mw/CD/sT9H/APSKGvUa8u/ZX/5Nh+EH/Yn6P/6RQ16jQAUUUUAFFFFABXnd5/ydN4C/7EzxJ/6XaFXoled3n/J03gL/ALEzxJ/6XaFQB7PRRRQAUUUUAFFFFAHlX7J3/JrPwb/7EzRv/SGGvVa8q/ZO/wCTWfg3/wBiZo3/AKQw16rQAUUUUAFFFFAHlXxk/wCSi/An/sc7n/1HtZr1WvKvjJ/yUX4E/wDY53P/AKj2s16rQAUUUUAFFFFABXlX7NP/ACTrV/8Asc/Fn/qQ6jXqteVfs0/8k61f/sc/Fn/qQ6jQB6rRRTXUsjAMUJGAy4yPfmgB1FfPPwo0WfSf2gdUsvC/ijxN4k8KaPoj2Pia617WrjUoJdbaaF4Vh81ykMyQ/aGmjgEcSieBdgOAn0NQB4X+yv8A8mw/CD/sT9H/APSKGvUa8u/ZX/5Nh+EH/Yn6P/6RQ16jQAVxvxk+IbfCb4W+J/GK6cNWbRbJ7wWLT+QJiv8AD5m1tufXafpXZV5/8f8A4f6h8VPgt4y8I6U9pHqOs6dJaQNfuyQBmHG8qrEL64U/SgCr8OfihrfiLx14l8G+J/D2n6Jr+i2VlqLtourPqdo8Fy06RgyPbwMkoa2kyhj+6VYMckD0qvDfgr8FtS8C/EHU/EP/AAi3hL4caRcaWlh/wjPgm6eezvJxKX+2TZtbZFkRf3a7YyxV23OQFUe5UAFFFFAHCfAr/kefjl/2Odv/AOo/o9evV5D8Cv8Akefjl/2Odv8A+o/o9evUAFFFFABRRRQAV5V4c/5Om+If/YmeGf8A0u16vVa8q8Of8nTfEP8A7Ezwz/6Xa9QB6rRRRQAUUUUAFFFFAHlXxk/5KL8Cf+xzuf8A1HtZr1WvKvjJ/wAlF+BP/Y53P/qPazXqtABRRRQAUUUUAFeS/tP/APJMdN/7HDwp/wCpDp9etV5L+0//AMkx03/scPCn/qQ6fQB29FFFABRXwL+2R+0JdaR8ZNY/sH4kxeFpPhXpVlqr+Hf7bWx/4SS+uLqOWW0eEuPtKJZwN8oDEPcqMDPze1/G79ryy8A2fwxu/DdnfataeKtc0mKa6PhzUbq3fTLtGcvbTQx+XJcbQhWJWdzk/u27AH0fRX58ftGeOvF3jL46eO7PwovxFvreL4XDVdH0/Q9YutAOm3pmmVby4tZLi2dtvAMZjd2wo2HjH2d8C/FzePPgz4I8QS6zD4hudQ0e1muNWt4DBHdz+UollWMqpQM4Y7doxnGBQB3NcJ8Cv+R5+OX/AGOdv/6j+j13dcJ8Cv8Akefjl/2Odv8A+o/o9AHr1FFFABRRRQAV5V+1j/yaz8ZP+xM1n/0hmr1WvKv2sf8Ak1n4yf8AYmaz/wCkM1AHqtFFFABRRRQAUUUUAeVeHP8Ak6b4h/8AYmeGf/S7Xq9Vryrw5/ydN8Q/+xM8M/8Apdr1eq0AFFFFABRRRQAV4X+yv/ybD8IP+xP0f/0ihr3SvC/2V/8Ak2H4Qf8AYn6P/wCkUNAHqNFFFABRRRQAUUUUAFFFFAHl37VH/JsPxf8A+xP1j/0imr3SvC/2qP8Ak2H4v/8AYn6x/wCkU1e6UAFFFFABRRRQAV5V4j/5Om+Hn/YmeJv/AEu0GvVa8q8R/wDJ03w8/wCxM8Tf+l2g0Aeq0UUUAFFFFABRRRQB5V+yd/yaz8G/+xM0b/0hhr1WvKv2Tv8Ak1n4N/8AYmaN/wCkMNeq0AFFFFABRRRQB5D8df8Akefgb/2Odx/6j+sV3dcJ8df+R5+Bv/Y53H/qP6xXd0AFFFFABRRRQAUUUUAcJ8Cv+R5+OX/Y52//AKj+j169XkPwK/5Hn45f9jnb/wDqP6PXr1ABRRRQAUUUUAeVftY/8ms/GT/sTNZ/9IZq9Vryr9rH/k1n4yf9iZrP/pDNXqtABRRRQAUUUUAFeVeHP+TpviH/ANiZ4Z/9Lter1WvKvDn/ACdN8Q/+xM8M/wDpdr1AHqtFFFABRRRQAUUUUAeF/sr/APJsPwg/7E/R/wD0ihr1GvLv2V/+TYfhB/2J+j/+kUNeo0AFFFFABRRRQAV53ef8nTeAv+xM8Sf+l2hV6JXnd5/ydN4C/wCxM8Sf+l2hUAez0UUUAFFFFABRRRQB5V+yd/yaz8G/+xM0b/0hhr1WvKv2Tv8Ak1n4N/8AYmaN/wCkMNeq0AFFFFABRRRQB5V8ZP8AkovwJ/7HO5/9R7Wa9Vryr4yf8lF+BP8A2Odz/wCo9rNeq0AFFFFABRRRQAV5V+zT/wAk61f/ALHPxZ/6kOo16rXlX7NP/JOtX/7HPxZ/6kOo0Aeq0yWMTRPGxYKwKkqxU8+hHIPuKfRQB5p8M/2d/BfwgktT4VXxDYW1qkiQafceKtVvLJA5JbFrPcvDklic7Mgkkc816XRRQB8k/s1/FLxDp/7OfwrtYPhB441OGDwppUSXtpc6GIbhVs4gJEEmpo4VgMjeitgjKg5Fej/8Le8Tf9ET+IH/AIFeH/8A5bVF+yv/AMmw/CD/ALE/R/8A0ihr1GgDzP8A4W94m/6In8QP/Arw/wD/AC2o/wCFveJv+iJ/ED/wK8P/APy2r0yigDzP/hb3ib/oifxA/wDArw//APLaj/hb3ib/AKIn8QP/AAK8P/8Ay2r0yigDzP8A4W94m/6In8QP/Arw/wD/AC2o/wCFveJv+iJ/ED/wK8P/APy2r0yigD58+DfxW8TWfjT4yPB8GvHF+bjxbBLJHDd6ErWrDQ9KTy5N+pqCxCK+ULrtkX5g25V9R/4XJ4u/6IT8QP8AwO8Pf/LWq3wK/wCR5+OX/Y52/wD6j+j169QB5V/wuTxd/wBEJ+IH/gd4e/8AlrR/wuTxd/0Qn4gf+B3h7/5a16rRQB5V/wALk8Xf9EJ+IH/gd4e/+WtH/C5PF3/RCfiB/wCB3h7/AOWteq0UAeVf8Lk8Xf8ARCfiB/4HeHv/AJa15poHxY8UR/tJeOrtfgx44kuJfCXh6J7FbzQvOhVbzWisjE6mEKuXZVCuWzE+5VBQv9QV5V4c/wCTpviH/wBiZ4Z/9LteoAP+FyeLv+iE/ED/AMDvD3/y1o/4XJ4u/wCiE/ED/wADvD3/AMta9VooA8q/4XJ4u/6IT8QP/A7w9/8ALWj/AIXJ4u/6IT8QP/A7w9/8ta9VooA8q/4XJ4u/6IT8QP8AwO8Pf/LWj/hcni7/AKIT8QP/AAO8Pf8Ay1r1WigD5f8Aix8WPFF148+DEsvwY8cWb23i24lihmvNCLXTHQtWTy49mpsAwV2ky5RdsbfNuKq3pf8AwuTxd/0Qn4gf+B3h7/5a0fGT/kovwJ/7HO5/9R7Wa9VoA8q/4XJ4u/6IT8QP/A7w9/8ALWj/AIXJ4u/6IT8QP/A7w9/8ta9VooA8q/4XJ4u/6IT8QP8AwO8Pf/LWj/hcni7/AKIT8QP/AAO8Pf8Ay1r1WigDyr/hcni7/ohPxA/8DvD3/wAta8x/aK+K/ifUPh7p0Vx8GfHGmRjxX4Zl8+5vNCZSya7YusYEeps252URrkBdzruZF3MPqOvJf2n/APkmOm/9jh4U/wDUh0+gDK/4W94m/wCiJ/ED/wACvD//AMtqP+FveJv+iJ/ED/wK8P8A/wAtq9MooA8F8PzReGI/Fiaf+z54+RfFd7NqGtedqOhzm8mlRY3LGTWGKrsUKI1wijO1Rk1l2vh/SrPwf4N8LR/s8fEL+wvB9/b6nodq+s6O5tLiAsYX3trRdwu9sK5ZcEDGAMfR1FAHzL468F6P8RvFtz4n1n4B/FNddutNGj3N5pfinT9NNxZhmbyJFttdjV0y7ZDA579BXf6D4/1Twvotjo+j/AXxxpmlWMK29rZ2s3h6OKGNRhUVRquAABXrdFAHmf8Awt7xN/0RP4gf+BXh/wD+W1cR8G/it4ms/GnxkeD4NeOL83Hi2CWSOG70JWtWGh6Unlyb9TUFiEV8oXXbIvzBtyr9B1wnwK/5Hn45f9jnb/8AqP6PQBZ/4XJ4u/6IT8QP/A7w9/8ALWj/AIXJ4u/6IT8QP/A7w9/8ta9VooA8q/4XJ4u/6IT8QP8AwO8Pf/LWj/hcni7/AKIT8QP/AAO8Pf8Ay1r1WigDyr/hcni7/ohPxA/8DvD3/wAta80/aa+LHijUv2bfivaXHwY8caXbz+EtWikvru80JobZWs5QZHEepu5VQdxCIzYBwpOBX1BXlX7WP/JrPxk/7EzWf/SGagA/4XJ4u/6IT8QP/A7w9/8ALWj/AIXJ4u/6IT8QP/A7w9/8ta9VooA8q/4XJ4u/6IT8QP8AwO8Pf/LWj/hcni7/AKIT8QP/AAO8Pf8Ay1r1WigDyr/hcni7/ohPxA/8DvD3/wAtaP8Ahcni7/ohPxA/8DvD3/y1r1WigD5f0D4seKI/2kvHV2vwY8cSXEvhLw9E9it5oXnQqt5rRWRidTCFXLsqhXLZifcqgoX9L/4XJ4u/6IT8QP8AwO8Pf/LWjw5/ydN8Q/8AsTPDP/pdr1eq0AeVf8Lk8Xf9EJ+IH/gd4e/+WtH/AAuTxd/0Qn4gf+B3h7/5a16rRQB5V/wuTxd/0Qn4gf8Agd4e/wDlrR/wuTxd/wBEJ+IH/gd4e/8AlrXqtFAHlX/C5PF3/RCfiB/4HeHv/lrWB+yv/wAmw/CD/sT9H/8ASKGvdK8L/ZX/AOTYfhB/2J+j/wDpFDQB6jRRRQAUUUUAFFFFABRRRQB5d+1R/wAmw/F//sT9Y/8ASKavdK8L/ao/5Nh+L/8A2J+sf+kU1e6UAFFFFABRRRQAV5V4j/5Om+Hn/YmeJv8A0u0GvVa8q8R/8nTfDz/sTPE3/pdoNAHqtFFFABRRRQAUUUUAeVfsnf8AJrPwb/7EzRv/AEhhr1WvKv2Tv+TWfg3/ANiZo3/pDDXqtABRRRQAUUUUAeQ/HX/kefgb/wBjncf+o/rFd3XCfHX/AJHn4G/9jncf+o/rFd3QAUUUUAFcb8RPilp3w1/s/wC36P4m1b7b5mz/AIR3w/ear5ezbnzPs8b+XneMbsbsNjO047KuP+IMfj+T7B/wg1x4bgx5n2z/AISCC4lz93y/L8p1x/HnOf4cd6AMf4V/Hzw78YpIf+Ef0zxPHZz2K6jb6lqvhy+sbK4hbZtaK4miWOQsJFZQrEsuSMgE16RXiP7LWj+NND+Gfgqwv9b8K694ItfDVlb6RfaNaXUNzcxrDCsEz+a5Xa0QLEBQcsOnIr26gDhPgV/yPPxy/wCxzt//AFH9Hr16vIfgV/yPPxy/7HO3/wDUf0evXqACiiigAooooA8q/ax/5NZ+Mn/Ymaz/AOkM1eq15V+1j/yaz8ZP+xM1n/0hmr1WgAooooAKKKKACvKvDn/J03xD/wCxM8M/+l2vV6rXlXhz/k6b4h/9iZ4Z/wDS7XqAPVaKKKACiiigAooooA8L/ZX/AOTYfhB/2J+j/wDpFDXqNeXfsr/8mw/CD/sT9H/9Ioa9RoAKKKKACiiigArzu8/5Om8Bf9iZ4k/9LtCr0SvO7z/k6bwF/wBiZ4k/9LtCoA9nooooAKKKKACiiigDyr9k7/k1n4N/9iZo3/pDDXqteVfsnf8AJrPwb/7EzRv/AEhhr1WgAooooAKKKKAPKvjJ/wAlF+BP/Y53P/qPazXqteVfGT/kovwJ/wCxzuf/AFHtZr1WgAooooAKKKKACvKv2af+Sdav/wBjn4s/9SHUa9Vryr9mn/knWr/9jn4s/wDUh1GgD1Wmu6xozuwVVGSzHAA9adUdxI0MEkiRPO6qWEUZAZyB90biBk+5A96AOC8BfHvwT8TNfbRdA1K8l1L7D/acMV9pN5Yrd2e9U+02z3ESLcQ7nT95EXX50OcMufQa+Yfhjdan4p/aH0rxJZx+Nte09tEvYL+78e+GpNIfw+JJYZI7SzP2e2jm8xlIkIS4bFtH++UY8z6eoA8L/ZX/AOTYfhB/2J+j/wDpFDXqNeXfsr/8mw/CD/sT9H/9Ioa9RoAK8e/a++J2ufBv9mvx74w8NKv9vadYj7HI0Yk8h5JUi87aQVbyxIZMMCp2cjGa9hqprGj2HiDSrvTNUsrfUtNvImgubO8iWWGeNhhkdGBDKQSCCMEGgDz/AOEPwpi8C6dpWoR+LfFHiC6n0xI759a1241GC+mIjb7SEmZxCwIfAg8tCJWDK22PZ6XXAfDX4FeDvhKYP+Eas9RhW1sxp9omo61faitnbZQmG3W5mkECHy48rHtDeXHnOxcd/QAUUUUAcJ8Cv+R5+OX/AGOdv/6j+j169XkPwK/5Hn45f9jnb/8AqP6PXr1ABRRRQAUUUUAFeVeHP+TpviH/ANiZ4Z/9Lter1WvKvDn/ACdN8Q/+xM8M/wDpdr1AHqtFFFABRRRQAUUUUAeVfGT/AJKL8Cf+xzuf/Ue1mvVa8q+Mn/JRfgT/ANjnc/8AqPazXqtABRRRQAUUUUAFeS/tP/8AJMdN/wCxw8Kf+pDp9etV5L+0/wD8kx03/scPCn/qQ6fQB29FFFABRRRQAUUUUAFcJ8Cv+R5+OX/Y52//AKj+j13dcJ8Cv+R5+OX/AGOdv/6j+j0AevUUUUAFFFFABXlX7WP/ACaz8ZP+xM1n/wBIZq9Vryr9rH/k1n4yf9iZrP8A6QzUAeq0UUUAFFFFABRRRQB5V4c/5Om+If8A2Jnhn/0u16vVa8q8Of8AJ03xD/7Ezwz/AOl2vV6rQAUUUUAFFFFABXhf7K//ACbD8IP+xP0f/wBIoa90rwv9lf8A5Nh+EH/Yn6P/AOkUNAHqNFFFABRRRQAUUUUAFFFFAHl37VH/ACbD8X/+xP1j/wBIpq90rwv9qj/k2H4v/wDYn6x/6RTV7pQAUUUUAFFFFABXlXiP/k6b4ef9iZ4m/wDS7Qa9VryrxH/ydN8PP+xM8Tf+l2g0Aeq0UUUAFFFFABRRRQB5V+yd/wAms/Bv/sTNG/8ASGGvVa8q/ZO/5NZ+Df8A2Jmjf+kMNeq0AFFFFABRRRQB5D8df+R5+Bv/AGOdx/6j+sV3dcJ8df8Akefgb/2Odx/6j+sV3dABRRRQAVyfj7RfD/ixdK0DW9U1HT5ry4aWzi0nXLvSrmd442LASWsscjKFJJUsV4UkZCkdZXlfxb03xJovjLwn498N6BJ4tk0W1v8ATL7RLe4ihuZba6NtI00BlZY2lR7OIbGZcrJJg5wCAcb+xzc/DbR/AeleFvB3xDtfG+vaZolhb6str4mutUgjeGIRl7eGaZ1toi5bCxKi42Aj5VA+hq8B+Bfh3UdW8TeGtdh8H3ngXwT4W8Kt4a8PWOqX1vc3t7DK9q3myeRLKoREsoVQmRmbzJCQBgn36gDhPgV/yPPxy/7HO3/9R/R69eryH4Ff8jz8cv8Asc7f/wBR/R69eoAKKKKACiiigDyr9rH/AJNZ+Mn/AGJms/8ApDNXqteVftY/8ms/GT/sTNZ/9IZq9VoAKKKKACiiigAryrw5/wAnTfEP/sTPDP8A6Xa9XqteVeHP+TpviH/2Jnhn/wBLteoA9VooooAKKKKACiiigDwv9lf/AJNh+EH/AGJ+j/8ApFDXqNeXfsr/APJsPwg/7E/R/wD0ihr1GgAooooAKKKKACvO7z/k6bwF/wBiZ4k/9LtCr0SvO7z/AJOm8Bf9iZ4k/wDS7QqAPZ6KKKACiiigAooooA8q/ZO/5NZ+Df8A2Jmjf+kMNeq15V+yd/yaz8G/+xM0b/0hhr1WgAooooAKKKKAPKvjJ/yUX4E/9jnc/wDqPazXqteVfGT/AJKL8Cf+xzuf/Ue1mvVaACiiigAooooAK8q/Zp/5J1q//Y5+LP8A1IdRr1WvKv2af+Sdav8A9jn4s/8AUh1GgD1WiiigAooooA+Sf2a9G+LUv7OfwrfTfGXge105vCmlG2gu/B17PNHEbOLYryLqyK7BcAsEQEgkKucD0f8AsP4z/wDQ8/D/AP8ACHv/AP5c1F+yv/ybD8IP+xP0f/0ihr1GgDzP+w/jP/0PPw//APCHv/8A5c0f2H8Z/wDoefh//wCEPf8A/wAua9MrL8T+KtF8E6Hc614i1iw0HR7Xb5+oapcpbW8W5gi7pHIVcsyqMnksB1NAHD/2H8Z/+h5+H/8A4Q9//wDLmj+w/jP/ANDz8P8A/wAIe/8A/lzXWeDPiF4W+I+nTah4S8S6P4osIZTBLdaLfxXcSSABijNGzANhlODzgj1roKAPM/7D+M//AEPPw/8A/CHv/wD5c0f2H8Z/+h5+H/8A4Q9//wDLmvTKKAPnz4N6F8X5vGnxkFl448D2syeLYFu2m8F3kqyy/wBh6UQ8YGrKY18sxrtJc7lZtwDBE9R/4Rz43/8ARQ/h/wD+EHff/Lmq3wK/5Hn45f8AY52//qP6PXr1AHlX/COfG/8A6KH8P/8Awg77/wCXNH/COfG//oofw/8A/CDvv/lzXqtFAHlX/COfG/8A6KH8P/8Awg77/wCXNH/COfG//oofw/8A/CDvv/lzXqtFAHlX/COfG/8A6KH8P/8Awg77/wCXNeaaBoPxhP7SXjqOPx14HXUl8JeHmnuG8FXhheI3mteWix/2sCrKwlLMXYMHQBU2Ev8AUFeVeHP+TpviH/2Jnhn/ANLteoAP+Ec+N/8A0UP4f/8AhB33/wAuaP8AhHPjf/0UP4f/APhB33/y5r1WigDyr/hHPjf/ANFD+H//AIQd9/8ALmj/AIRz43/9FD+H/wD4Qd9/8ua9VooA8q/4Rz43/wDRQ/h//wCEHff/AC5o/wCEc+N//RQ/h/8A+EHff/LmvVaKAPl/4saD8YY/HnwYW78deB57h/FtwtnJD4KvI1hl/sLViXkU6sxkXyxIu0FDuZW3EKUf0v8A4Rz43/8ARQ/h/wD+EHff/Lmj4yf8lF+BP/Y53P8A6j2s16rQB5V/wjnxv/6KH8P/APwg77/5c0f8I58b/wDoofw//wDCDvv/AJc16rRQB5V/wjnxv/6KH8P/APwg77/5c0f8I58b/wDoofw//wDCDvv/AJc16rRQB5V/wjnxv/6KH8P/APwg77/5c1538dtF+Kdn4P0OXxJ4y8H6roq+MPC/n2el+ErqxuJP+J9YBdkz6nMqYbaTmNsgEcE7h9M15L+0/wD8kx03/scPCn/qQ6fQB29FFFABRRRQAUUUUAFcJ8Cv+R5+OX/Y52//AKj+j13dcJ8Cv+R5+OX/AGOdv/6j+j0AevUUUUAFFFFABXlX7WP/ACaz8ZP+xM1n/wBIZq9Vryr9rH/k1n4yf9iZrP8A6QzUAeq0UUUAFFFFABRRRQB5V4c/5Om+If8A2Jnhn/0u16vVa8q8Of8AJ03xD/7Ezwz/AOl2vV6rQAUUUUAFFFFABXhf7K//ACbD8IP+xP0f/wBIoa90rwv9lf8A5Nh+EH/Yn6P/AOkUNAHqNFFFABRRRQAUUUUAFFFFAHl37VH/ACbD8X/+xP1j/wBIpq90rwv9qj/k2H4v/wDYn6x/6RTV7pQAUUUUAFFFFABXlXiP/k6b4ef9iZ4m/wDS7Qa9VryrxH/ydN8PP+xM8Tf+l2g0Aeq0UUUAFFFFABRRRQB5V+yd/wAms/Bv/sTNG/8ASGGvVa8q/ZO/5NZ+Df8A2Jmjf+kMNeq0AFFFFABRRRQB5D8df+R5+Bv/AGOdx/6j+sV3dcJ8df8Akefgb/2Odx/6j+sV3dABRRRQAVzvjLTL/XrW307SfFNx4V1FnNwJrOG3mlliUbXXZOjjbukjJYDIO0Z5weiry/4neB/GmpfEDwt4t8E6hoNre6VpmpaVPb6/bzyxyR3UtlLuXynUhlNkBzxh/agCn+y34B8S/Dv4L+DdK8S69c6ld2/h/TLU6bNHa+XprxWyq8McsCjzVBwu5mfIQEE5JPrleI/staP400P4Z+CrC/1vwrr3gi18NWVvpF9o1pdQ3NzGsMKwTP5rldrRAsQFByw6civbqAOE+BX/ACPPxy/7HO3/APUf0evXq8h+BX/I8/HL/sc7f/1H9Hr16gAooooAKKKKAPKv2sf+TWfjJ/2Jms/+kM1eq15V+1j/AMms/GT/ALEzWf8A0hmr1WgAooooAKKKKACvKvDn/J03xD/7Ezwz/wCl2vV6rXlXhz/k6b4h/wDYmeGf/S7XqAPVaKKKACiiigAooooA8L/ZX/5Nh+EH/Yn6P/6RQ16jXl37K/8AybD8IP8AsT9H/wDSKGvUaACiiigAooooAK87vP8Ak6bwF/2JniT/ANLtCr0SvO7z/k6bwF/2JniT/wBLtCoA9nooooAKKKKACiiigDyr9k7/AJNZ+Df/AGJmjf8ApDDXqteVfsnf8ms/Bv8A7EzRv/SGGvVaACiiigAooooA8q+Mn/JRfgT/ANjnc/8AqPazXqteVfGT/kovwJ/7HO5/9R7Wa9VoAKKKKACiiigAryr9mn/knWr/APY5+LP/AFIdRr1WvKv2af8AknWr/wDY5+LP/Uh1GgD1WiiqWtaa2saPf2C3l1pzXVvJALyycJPBuUr5kbEEB1zkEggEDg0AeW+C/wBoWHx38cNY8DabohfQ7LTp7q38TC7BjvZoLhLe5iiiCcpHK5jMm/mSKVduF3H1+vnf4Z/ss6x8Lfi34a1qw+IWtan4R0Pw1JoUOmahDpqSEeajJEfIsI8xALvL7xKXVcsVLA/RFAHhf7K//JsPwg/7E/R//SKGvUa8u/ZX/wCTYfhB/wBifo//AKRQ16jQAV4p+2NqFrpPwJub6+uYbKytfEHh2ae5uJBHHFGut2JZ2Y8KoAJJPAAr2uigD578M+ItB+JX7UmneKPh5qFjr2h2nhi9sPEevaLMk9jcTtcWr2Ns00eUkmjUXT7QxaNJOdokAf6EoooAKKKKAOE+BX/I8/HL/sc7f/1H9Hr16vIfgV/yPPxy/wCxzt//AFH9Hr16gAooooAKKKKACvKvDn/J03xD/wCxM8M/+l2vV6rXlXhz/k6b4h/9iZ4Z/wDS7XqAPVaKKKACiiigAooooA8q+Mn/ACUX4E/9jnc/+o9rNeq15V8ZP+Si/An/ALHO5/8AUe1mvVaACiiigAooooAK8l/af/5Jjpv/AGOHhT/1IdPr1qvJf2n/APkmOm/9jh4U/wDUh0+gDt65z4jePtL+F/gfWPFOs+e2naZAZnjtU3zStkKkca5ALu5VFBIGWGSBzXR1yHxc+Hq/FT4c654X/tBtJmvol+z6gkQl+zXEbrJDKYyQHCyIjFMjcARkZzQBV8CeJfH2ragsXi7wRp3hy0ntTcQ3Gm6//aJhcFB5FwrW8OyQhyQYjMn7qTLr8nmbOseNbHRfF3h7w7PFcPe64ty9tJGqmNBAis+8lgRkMMYB75xWP4Du/iTeXo/4TTSvCuk2kNttJ0HU7m+kurglfn/e28IgQAP8n70sZF+dfLPmcx46/ZZ+HfxC+JGj+L9X8H+GL65txcf2hHe6DbXD6m0kaJG00jDLGMJxuDdeMUAdF8ZPiNqPw10HSLnSNGtdd1PVdYs9GtrW9v2soRJcSbA7yrDKwUHk4Qmq3gP4panrHjXVPBXi3w9D4Z8V2VnHqcUdhqB1CxvrN2KebBOYonykgKOkkSEEqRuVg1RfHHwHrvjDwz4di8KQaXJqOi69p+rx2mqXUlnbyx28m8x+ZHDKUJAwMRkVD4F8B+J7r4mah8QPGn9l2GqNpaaJp+i6HdS3dva24l82WR7iSKJpZJH2cCJAixgfOSWoA9RrhPgV/wAjz8cv+xzt/wD1H9Hru64T4Ff8jz8cv+xzt/8A1H9HoA9eooooAKKKKACvKv2sf+TWfjJ/2Jms/wDpDNXqteVftY/8ms/GT/sTNZ/9IZqAPVaKKKACiiigAooooA8q8Of8nTfEP/sTPDP/AKXa9XqteVeHP+TpviH/ANiZ4Z/9Lter1WgAooooAKKKKACvC/2V/wDk2H4Qf9ifo/8A6RQ17pXhf7K//JsPwg/7E/R//SKGgCz8ffi/L8F/AkWsWGhN4p16/wBStNI0nQkuhbNf3VxKEWMSlWC4Xe5JU8Rnp1E3ws+NWj/Ez4JaP8StjaXpd1prX95A5MrWTRBhcRHCgsYnjkQ4UElDwOlcl8Zvgh4o+LXxe+H+rweKpPCvhXwnFd3yS6UYZNQl1OVRFG3l3FvLB5aQmb5iC2ZDgdGHFeDP2R9c8P8AgP4o+BtT8S3Wp+H9V1K61bwzeW2tXWm3aS3UDCeO8WyWCPyvPJYRqHjIdiUGAtAHafFz9p218FeAfhn4n8I6TD4xg+IOv6boejm6vJNNh/05HeGeRjBI6qNgyvl7sN0yMHU+Cv7QEXxQ8O+Ob3V9IXw5e+CtbvtC1hba7N9a+bagM7wTCONpF2spIMasDkFehPiHir9iHWbr9n34Q+DrCTTde1nwrrmi6zrmneJtdv7rSdQSzt5Y5raATJOIIpDKV2JCqbeqcBa63wL+ybfWPg34i6bq08Xhm28R3rXukeFPBuvX9npWit9maLakkIt2dJXYySR+UI84+RsA0Ad78R/2nPDXg34SeHfHGiwz+LB4sntbHwvp1rm2k1a7uh/o0eZQDErdWZlyqgnaxwp6vRfGmv6X4f1/VPiDoGn+FodIha8e60nVH1S1ktljLuwYwQyh02tuTycYKbWcllT59j/Yp1XTP2ffh5oWk6/5PxG8GXml65az6nqt/qOkSahZo6+UscrnyLd/McHyY0wNp2naBXqXjr4a+LvjX8NfE+j+MIbDw3qNxaT2+k2vhnxPqQhEjwOgkuriNLYyxlnAMDQsoCEkyb9qAFf4wftMQeBPAfwy8TeFNIh8YQ/ELXdL0XRzdXsmnQ4v43kguJGMEjquFXK+XuAbpkYrU+G3xyu/EvxQ8Q/DbxZ4cj8LeNtIsYdWSGy1D7fY31hI2wTwTGKJ8rICjq8SYOMFgcjx/Xv2PfEtj8E/gnoHhu/tb3xR4H8QeH/EGpxa94i1GWwuZLC3dJYrV5EmNujO3yrHEqBf4BgLXp/w1+EHif8A4Xl4j+LfjqbSrXXb3R4PDmmaLoVzLdW1jYpKZ3MlxLHE00kkzE8RIEAx8+7IANr9qj/k2H4v/wDYn6x/6RTV7pXhf7VH/JsPxf8A+xP1j/0imr3SgAooooAKKKKACvKvEf8AydN8PP8AsTPE3/pdoNeq15V4j/5Om+Hn/YmeJv8A0u0GgD1WiiigAooooAKKKKAPKv2Tv+TWfg3/ANiZo3/pDDXqteVfsnf8ms/Bv/sTNG/9IYa9VoAKKKKACiiigDyH46/8jz8Df+xzuP8A1H9Yru64T46/8jz8Df8Asc7j/wBR/WK7ugAooooAK4/x1pfh7xlfaZ4S1fUtUs7+5jm1W1g0bWL3S55I7cxxSsZrWSNiim7iBRmwS6nBK5HYV5z8SvhXq3jLxZ4e8SaB4xuvB+r6RZX2nCa3sYLtZoLqS1kdWWZSAQ1nEQRzyaAOZ/Zn8I+GfhT8P/Afhqx8SXOu6vqnhe1uo5m1u+1Czu4bWK3jkuLNJ5HjghLXURCxCMFZIxtwgC+2V8+/s0/CMaXovw78YW/j3UvFnh6z8HJpfhy1vtMt7QwWFytlKrOY1DM+yzgHzE4+bua+gqAOE+BX/I8/HL/sc7f/ANR/R69eryH4Ff8AI8/HL/sc7f8A9R/R69eoAKKKKACiiigDyr9rH/k1n4yf9iZrP/pDNXqteVftY/8AJrPxk/7EzWf/AEhmr1WgAooooAKKKKACvKvDn/J03xD/AOxM8M/+l2vV6rXlXhz/AJOm+If/AGJnhn/0u16gD1WiiigAooooAKKKKAPC/wBlf/k2H4Qf9ifo/wD6RQ16jXl37K//ACbD8IP+xP0f/wBIoa9RoAKKKKACivMP2gPiX4h+HPhvRIvCOl6bqvirxBqq6Rpses3ZtrKN/InuZJJnHO1YraU4HJO0DrUXwF+Lep/ETRdUsfFlnpejeNND1JtK1Ky0u+FzbSyCCG4WWBj8xRoriNsHlTuB6UAeqV53ef8AJ03gL/sTPEn/AKXaFXoled3n/J03gL/sTPEn/pdoVAHs9FFFABRRRQAUUUUAeVfsnf8AJrPwb/7EzRv/AEhhr1WvKv2Tv+TWfg3/ANiZo3/pDDXqtABRRRQAUUUUAeVfGT/kovwJ/wCxzuf/AFHtZr1WvKvjJ/yUX4E/9jnc/wDqPazXqtABRRRQAUUUUAFeVfs0/wDJOtX/AOxz8Wf+pDqNeq15V+zT/wAk61f/ALHPxZ/6kOo0Aeq0UUUAFFFFAHyT+zX8C/D2r/s5/Cu/n1jxxFNdeFNKndLTx7rltCrNZxMQkUd4qRrk8IihVGAAAAK9H/4Z68M/9Bv4gf8AhxfEH/ydUX7K/wDybD8IP+xP0f8A9Ioa9RoA8z/4Z68M/wDQb+IH/hxfEH/ydR/wz14Z/wCg38QP/Di+IP8A5Or0yub+JXj7TvhZ8P8AxF4w1eK4m0zQ7GbULmKzRWmeONCxVAzKCxAwMkDPUigDl/8Ahnrwz/0G/iB/4cXxB/8AJ1H/AAz14Z/6DfxA/wDDi+IP/k6tD4WfFG7+KGl2+qf8IP4i8L6Vd2cN7Z3utS6eyXUcihl2rbXczqdpBw6r19eK7ygDzP8A4Z68M/8AQb+IH/hxfEH/AMnUf8M9eGf+g38QP/Di+IP/AJOr0yigD58+DfwA8M6p40+Mkc+reOALPxbBbxtD4+12JmU6HpUmZGS8BlbMjDe5ZgoVc7UVR6j/AMM0+Ef+gv8AED/w4/iH/wCTqrfAr/kefjl/2Odv/wCo/o9evUAeVf8ADNPhH/oL/ED/AMOP4h/+TqP+GafCP/QX+IH/AIcfxD/8nV6rRQB5V/wzT4R/6C/xA/8ADj+If/k6j/hmnwj/ANBf4gf+HH8Q/wDydXqtFAHlX/DNPhH/AKC/xA/8OP4h/wDk6vNNA/Z78Ly/tJeOtPbVfHAt4PCXh64R18fa6sxaS81pWDSi93uoES7UZiqkuVALuW+oK8q8Of8AJ03xD/7Ezwz/AOl2vUAH/DNPhH/oL/ED/wAOP4h/+TqP+GafCP8A0F/iB/4cfxD/APJ1eq0UAeVf8M0+Ef8AoL/ED/w4/iH/AOTqP+GafCP/AEF/iB/4cfxD/wDJ1eq0UAeVf8M0+Ef+gv8AED/w4/iH/wCTqP8Ahmnwj/0F/iB/4cfxD/8AJ1eq0UAfL/xY/Z78L2Pjz4MQRar44ZL3xbcW8pm8fa7KyqNC1aTMbPekxNujUb0KsVLJna7KfS/+GafCP/QX+IH/AIcfxD/8nUfGT/kovwJ/7HO5/wDUe1mvVaAPKv8Ahmnwj/0F/iB/4cfxD/8AJ1H/AAzT4R/6C/xA/wDDj+If/k6vVaKAPKv+GafCP/QX+IH/AIcfxD/8nUf8M0+Ef+gv8QP/AA4/iH/5Or1WigDyr/hmnwj/ANBf4gf+HH8Q/wDydXmP7RX7P3hjRvh7p1zb6r44eQ+K/DMGLnx9rtwoWTXbGNiFkvGUMFclXA3IwVlKsqsPqOvJf2n/APkmOm/9jh4U/wDUh0+gDK/4Z68M/wDQb+IH/hxfEH/ydR/wz14Z/wCg38QP/Di+IP8A5Or0yigDzP8A4Z68M/8AQb+IH/hxfEH/AMnUf8M9eGf+g38QP/Di+IP/AJOr0yigDzP/AIZ68M/9Bv4gf+HF8Qf/ACdR/wAM9eGf+g38QP8Aw4viD/5Or0yigDzP/hnrwz/0G/iB/wCHF8Qf/J1cR8G/gB4Z1Txp8ZI59W8cAWfi2C3jaHx9rsTMp0PSpMyMl4DK2ZGG9yzBQq52oqj6DrhPgV/yPPxy/wCxzt//AFH9HoAs/wDDNPhH/oL/ABA/8OP4h/8Ak6j/AIZp8I/9Bf4gf+HH8Q//ACdXqtFAHlX/AAzT4R/6C/xA/wDDj+If/k6j/hmnwj/0F/iB/wCHH8Q//J1eq0UAeVf8M0+Ef+gv8QP/AA4/iH/5OrzT9pr9nvwvov7NvxX1C31XxxJcWnhLVriNLvx9rtzCzLZysA8Ul6ySLkco6lWGQQQSK+oK8q/ax/5NZ+Mn/Ymaz/6QzUAH/DNPhH/oL/ED/wAOP4h/+TqP+GafCP8A0F/iB/4cfxD/APJ1eq0UAeVf8M0+Ef8AoL/ED/w4/iH/AOTqP+GafCP/AEF/iB/4cfxD/wDJ1eq0UAeVf8M0+Ef+gv8AED/w4/iH/wCTqP8Ahmnwj/0F/iB/4cfxD/8AJ1eq0UAfL+gfs9+F5f2kvHWntqvjgW8HhLw9cI6+PtdWYtJea0rBpRe73UCJdqMxVSXKgF3Lel/8M0+Ef+gv8QP/AA4/iH/5Oo8Of8nTfEP/ALEzwz/6Xa9XqtAHlX/DNPhH/oL/ABA/8OP4h/8Ak6j/AIZp8I/9Bf4gf+HH8Q//ACdXqtFAHlX/AAzT4R/6C/xA/wDDj+If/k6j/hmnwj/0F/iB/wCHH8Q//J1eq0UAeVf8M0+Ef+gv8QP/AA4/iH/5Orx79mv4F+HtX/Zz+Fd/PrHjiKa68KaVO6Wnj3XLaFWaziYhIo7xUjXJ4RFCqMAAAAV9bV4X+yv/AMmw/CD/ALE/R/8A0ihoAl/4Z68M/wDQb+IH/hxfEH/ydR/wz14Z/wCg38QP/Di+IP8A5Or0yigDzP8A4Z68M/8AQb+IH/hxfEH/AMnUf8M9eGf+g38QP/Di+IP/AJOr0yigDzP/AIZ68M/9Bv4gf+HF8Qf/ACdR/wAM9eGf+g38QP8Aw4viD/5Or0yigDzP/hnrwz/0G/iB/wCHF8Qf/J1H/DPXhn/oN/ED/wAOL4g/+Tq9MooA+bP2lPgX4e0j9nP4qX8GseOJZrXwpqs6Jd+PdcuYWZbOVgHikvGSRcjlHUqwyCCCRXsP/DNPhH/oL/ED/wAOP4h/+TqwP2qP+TYfi/8A9ifrH/pFNXulAHlX/DNPhH/oL/ED/wAOP4h/+TqP+GafCP8A0F/iB/4cfxD/APJ1eq0UAeVf8M0+Ef8AoL/ED/w4/iH/AOTqP+GafCP/AEF/iB/4cfxD/wDJ1eq0UAeVf8M0+Ef+gv8AED/w4/iH/wCTq801/wDZ78LxftJeBdPXVfHBt5/CXiG4d28fa60waO80VVCym93opErbkVgrEIWBKIV+oK8q8R/8nTfDz/sTPE3/AKXaDQAf8M0+Ef8AoL/ED/w4/iH/AOTqP+GafCP/AEF/iB/4cfxD/wDJ1eq0UAeVf8M0+Ef+gv8AED/w4/iH/wCTqP8Ahmnwj/0F/iB/4cfxD/8AJ1eq0UAeVf8ADNPhH/oL/ED/AMOP4h/+TqP+GafCP/QX+IH/AIcfxD/8nV6rRQB8v/sy/s9+F9a/Zt+FGoXGq+OI7i78JaTcSJaePtdtoVZrOJiEijvVSNcnhEUKowAAABXpf/DNPhH/AKC/xA/8OP4h/wDk6j9k7/k1n4N/9iZo3/pDDXqtAHlX/DNPhH/oL/ED/wAOP4h/+TqP+GafCP8A0F/iB/4cfxD/APJ1eq0UAeVf8M0+Ef8AoL/ED/w4/iH/AOTqP+GafCP/AEF/iB/4cfxD/wDJ1eq0UAfNnxA+EOheAPid8EtQ0y/8UXVxJ4tubdk1vxZquqwhToGrsSIru5lRWyo+cKGAJAOGIPuFcJ8df+R5+Bv/AGOdx/6j+sV3dABRRRQAV5f8fNe8C6boOk2HjXQZfFr397jS/D9np7X11d3CxsSYoh/dQuWdiFUHkjNeoV5d8UPAvjTVPH3hXxZ4Lv8AQbe80jTdS02a38QW80sTrdSWcgdPKdSGX7GV57SGgDjv2RbLwT4N8Lw+CdF0DUPDni3RtJsLfV01jRzpt3qKxRmJLzbudXV2Ehykj7SxBOa+gq8U+GOheNPGXjvw78SfEGueFNS0T/hG7q101vDNtcx/ao72WyuEmZpXbKhbUbcY/wBaa9roA4T4Ff8AI8/HL/sc7f8A9R/R69eryH4Ff8jz8cv+xzt//Uf0evXqACiiigAooooA8q/ax/5NZ+Mn/Ymaz/6QzV6rXlX7WP8Ayaz8ZP8AsTNZ/wDSGavVaACiiigAooooAK8q8Of8nTfEP/sTPDP/AKXa9XqteVeHP+TpviH/ANiZ4Z/9LteoA9VooooAKKKKACiiigDwv9lf/k2H4Qf9ifo//pFDXqNeXfsr/wDJsPwg/wCxP0f/ANIoa9RoAKKKKAPPPjx8N/AXxJ+Ht3F8R9BHiLw5o+7WGtQkzurwxSZdEhO922NIAq5J3YAJxXyt+yr/AMM33Hx3vk8EfDq78P8AifTtRkt9A1E6Tqkf+jnTIpJmnebMcTky3SBX2kqIyBl1J+pfjl8SNd+HnhzSo/CmgxeJfF2v6kmkaPp9zcfZ4DOYpZ3klkwSI44beaQ45OzA5Nea/CPxX8TfBPxMOlfE7wR4b0f/AITy/knh1zwrqc9xFLqMNgo8qaKf5kLWlj8pj+X9wcjcxJAPpGvO7z/k6bwF/wBiZ4k/9LtCr0SvO7z/AJOm8Bf9iZ4k/wDS7QqAPZ6KKKACiiigAooooA8q/ZO/5NZ+Df8A2Jmjf+kMNeq15V+yd/yaz8G/+xM0b/0hhr1WgAooooAKKKKAPKvjJ/yUX4E/9jnc/wDqPazXqteVfGT/AJKL8Cf+xzuf/Ue1mvVaACiiigAooooAK8q/Zp/5J1q//Y5+LP8A1IdRr1WvKv2af+Sdav8A9jn4s/8AUh1GgD1Wiio7iFbmCSFy4SRShMbsjAEY4ZSCD7g5FAHzP+zz4y8eaX4s0Lw58XdW8c2njPVtLuJotP1q20E6NdyxMhma0l06MzBkVlIWd1yrsdrEZX6crzLwT8DY/DHiqx8Ra1408T+PdX02yew02bxJJaYsYpCvmlFtbeAPJJ5cYaSUO+EwGAZ93ptAHhf7K/8AybD8IP8AsT9H/wDSKGvUa+bP2a/jx4X0f9nP4V2FxY+MnuLXwppUEjWvgTXbiIstnEpKSx2TJIuRw6MVYYIJBBr0f/honwj/ANA/xz/4bvxD/wDIFAHplea/tK+DtW+IX7PvxD8M6Dai91rVdDu7SytjIsfmzPEwRNzkKuTgZYgc8kU3/honwj/0D/HP/hu/EP8A8gUf8NE+Ef8AoH+Of/Dd+If/AJAoA5r9lfwvqPgjwbZaHqXg3xp4avbbTLOG6uPE3iOPVbWaaKMIy2qLqFyYVzuO1UiUjaMfKAPca8z/AOGifCP/AED/ABz/AOG78Q//ACBR/wANE+Ef+gf45/8ADd+If/kCgD0yivM/+GifCP8A0D/HP/hu/EP/AMgUf8NE+Ef+gf45/wDDd+If/kCgDR+BX/I8/HL/ALHO3/8AUf0evXq+Wfg3+0B4X0zxp8ZJZdM8bSpeeLYJ4vs/gLXZmVRoelR4kVLImJt0bHY4VipVsbXVj6j/AMNLeEf+gR8QP/DceIf/AJBoA9Voryr/AIaW8I/9Aj4gf+G48Q//ACDR/wANLeEf+gR8QP8Aw3HiH/5BoA9Voryr/hpbwj/0CPiB/wCG48Q//INH/DS3hH/oEfED/wANx4h/+QaAPVa8q8Of8nTfEP8A7Ezwz/6Xa9R/w0t4R/6BHxA/8Nx4h/8AkGvNNA/aD8LxftJeOtQbSvHBt5/CXh6BEXwDrrTBo7zWmYtELLeikSrtdlCsQ4Uko4UA+oKK8q/4aW8I/wDQI+IH/huPEP8A8g0f8NLeEf8AoEfED/w3HiH/AOQaAPVaK8q/4aW8I/8AQI+IH/huPEP/AMg0f8NLeEf+gR8QP/DceIf/AJBoA9Voryr/AIaW8I/9Aj4gf+G48Q//ACDR/wANLeEf+gR8QP8Aw3HiH/5BoAPjJ/yUX4E/9jnc/wDqPazXqtfL/wAWP2g/C9948+DE8WleOFSy8W3E8om8A67EzKdC1aPEavZAytukU7EDMFDPjajMPS/+GlvCP/QI+IH/AIbjxD/8g0Aeq0V5V/w0t4R/6BHxA/8ADceIf/kGj/hpbwj/ANAj4gf+G48Q/wDyDQB6rRXlX/DS3hH/AKBHxA/8Nx4h/wDkGj/hpbwj/wBAj4gf+G48Q/8AyDQB6rXkv7T/APyTHTf+xw8Kf+pDp9S/8NLeEf8AoEfED/w3HiH/AOQa87+O3xw8O+MPB+h6RYab4wt7u48YeF9kmqeCtZ0+3G3XrBjvnuLSOJOFONzDJwBkkAgHu1FFFABRRRQAUUUUAFcJ8Cv+R5+OX/Y52/8A6j+j13dcJ8Cv+R5+OX/Y52//AKj+j0AevUUUUAFFFFABXlX7WP8Ayaz8ZP8AsTNZ/wDSGavVa8q/ax/5NZ+Mn/Ymaz/6QzUAeq0UUUAFFFFABRRRQB5V4c/5Om+If/YmeGf/AEu16vVa8q8Of8nTfEP/ALEzwz/6Xa9XqtABRRRQAUUUUAFeF/sr/wDJsPwg/wCxP0f/ANIoa90rwv8AZX/5Nh+EH/Yn6P8A+kUNAHqNFFFABRRRQAUUUUAFFFFAHl37VH/JsPxf/wCxP1j/ANIpq90rwv8Aao/5Nh+L/wD2J+sf+kU1e6UAFFFFABRRRQAV5V4j/wCTpvh5/wBiZ4m/9LtBr1WvKvEf/J03w8/7EzxN/wCl2g0Aeq0UUUAFFFFABRRRQB5V+yd/yaz8G/8AsTNG/wDSGGvVa8q/ZO/5NZ+Df/YmaN/6Qw16rQAUUUUAFFFFAHkPx1/5Hn4G/wDY53H/AKj+sV3dcJ8df+R5+Bv/AGOdx/6j+sV3dABRRRQAVx/xAtNF8QzaN4c1LWdU0m+1CeSazTRr+4s55vKjYvl4SCIwrDO4hdxQfeKg9hXm3xW8D+KdS17w94v8DXelReKtDgu7JbPXRKLK9tLkwNNE7x5eJt9rbusgV8bCCpDHABj/ALOvw/tPgr4R8OeA73Xr3UfFVr4csBeW0+o3N1ajyIxDI9oJsBIvMyNqBSAYtyjK17DXivwd0vxX8QfEmk/FXxXqHh17WbQXtfD1h4Ye4mtxaXj29xJPJPPHG8jSC3tsDykChW6luPaqAOE+BX/I8/HL/sc7f/1H9Hr16vIfgV/yPPxy/wCxzt//AFH9Hr16gAooooAKKKKAPKv2sf8Ak1n4yf8AYmaz/wCkM1eq15V+1j/yaz8ZP+xM1n/0hmr1WgAooooAKKKKACvKvDn/ACdN8Q/+xM8M/wDpdr1eq15V4c/5Om+If/YmeGf/AEu16gD1WiiigAooooAKKKKAPC/2V/8Ak2H4Qf8AYn6P/wCkUNeo15d+yv8A8mw/CD/sT9H/APSKGvUaACiiigDg/jN8MV+KXhOKzh1+88J6xpt0up6Xr+n7TLp9yiuok2t8rqUkkRlbhkdhxnNeMfAvwBr2tfFi+1Xx58b7r4qap4JvXsNP09dEs9ItYLqaxile4VIHbz2FveeWGONu+UYPWvXPj98RfCvw5+HlzL4z0nUtb8P6uzaPc2OmabJftKs0Um5XjjBIQorgk8cgdxXyz+zJqH7NukftBJaeFfB+oaF411+7nv8Aw0NT8M3Gnmxt005Ip4YpHJDKfJupS2FGZ2XqAWAPu2vO7z/k6bwF/wBiZ4k/9LtCr0SvO7z/AJOm8Bf9iZ4k/wDS7QqAPZ6KKKACiiigAooooA8q/ZO/5NZ+Df8A2Jmjf+kMNeq15V+yd/yaz8G/+xM0b/0hhr1WgAooooAKKKKAPKvjJ/yUX4E/9jnc/wDqPazXqteVfGT/AJKL8Cf+xzuf/Ue1mvVaACiiigAooooAK8q/Zp/5J1q//Y5+LP8A1IdRr1WvKv2af+Sdav8A9jn4s/8AUh1GgD1WiiigAorldP8Aiv4J1bxlc+EbLxjoF54stdxn0G31SB76LaAW3wBt64BGcjjIrqqAPC/2V/8Ak2H4Qf8AYn6P/wCkUNeo15d+yv8A8mw/CD/sT9H/APSKGvUaACiiuT+LeuX3hj4U+M9Y0yf7NqWn6Le3dtNsV/Lljgd0bawIOGAOCCPWgDrKK8Y/Zs8TXPirQTfXni/xx4mu5bK1mmj8WeGF0iCGR1JY2zjT7UTAnOcNIAAp43Zb2egAooooA4T4Ff8AI8/HL/sc7f8A9R/R69eryH4Ff8jz8cv+xzt//Uf0evXqACiiigAooooAK8q8Of8AJ03xD/7Ezwz/AOl2vV6rXlXhz/k6b4h/9iZ4Z/8AS7XqAPVaKKKACiiigAooooA8q+Mn/JRfgT/2Odz/AOo9rNeq15V8ZP8AkovwJ/7HO5/9R7Wa9VoAKKKKACiiigAryX9p/wD5Jjpv/Y4eFP8A1IdPr1qvJf2n/wDkmOm/9jh4U/8AUh0+gDt6KKKACiiigAooooAK4T4Ff8jz8cv+xzt//Uf0eu7rhPgV/wAjz8cv+xzt/wD1H9HoA9eooooAKKKKACvKv2sf+TWfjJ/2Jms/+kM1eq15V+1j/wAms/GT/sTNZ/8ASGagD1WiiigAooooAKKKKAPKvDn/ACdN8Q/+xM8M/wDpdr1eq15V4c/5Om+If/YmeGf/AEu16vVaACiiigAooooAK8L/AGV/+TYfhB/2J+j/APpFDXuleF/sr/8AJsPwg/7E/R//AEihoA9RooooAKKKKACiiigAooooA8u/ao/5Nh+L/wD2J+sf+kU1e6V4X+1R/wAmw/F//sT9Y/8ASKavdKACiiigAooooAK8q8R/8nTfDz/sTPE3/pdoNeq15V4j/wCTpvh5/wBiZ4m/9LtBoA9VooooAKKKKACiiigDyr9k7/k1n4N/9iZo3/pDDXqteVfsnf8AJrPwb/7EzRv/AEhhr1WgAooooAKKKKAPIfjr/wAjz8Df+xzuP/Uf1iu7rhPjr/yPPwN/7HO4/wDUf1iu7oAKKKKACuA+Mt94GtvD9jF488WHwlp0t4gtrmPxNcaE80+1lEYmgnhdxhiSm4rwGI+UEd/Xknxi+GHibxd408LeI/Db+GZpNK03UtNnsfFNlLc28i3b2bb1CMMMotGXnqsrCgDm/wBka38C+E/B9p4M8OeMZfE/iTQ9JsbHWFbW769tvMt0MLyWcdzIyRweYsi/6Oqp8qqfuKB7/Xzb+zH8LfEulWfwy16+1/wzrHhXQ/A50TRZ9Bs7iCW+guP7PkS5l81iOUsw2Ao5mavpKgDhPgV/yPPxy/7HO3/9R/R69eryH4Ff8jz8cv8Asc7f/wBR/R69eoAKKKKACiiigDyr9rH/AJNZ+Mn/AGJms/8ApDNXqteVftY/8ms/GT/sTNZ/9IZq9VoAKKKKACiiigAryrw5/wAnTfEP/sTPDP8A6Xa9XqteVeHP+TpviH/2Jnhn/wBLteoA9VooooAKKKKACiiigDwv9lf/AJNh+EH/AGJ+j/8ApFDXqNeXfsr/APJsPwg/7E/R/wD0ihr1GgAooooA8e/am0/4uat8M47L4MXVjY+J7i/jju7m8kSNo7IpJ5hhZ1ZVlLeUAxU4BYjkA149+yd8NfFvw78d3KX/AMNfDiXbSvb+JPGlx4xOt67532dZUjmLQKwLB7djGCgCSK+08Z+pvG0lqPCuqQXWvf8ACMLd28lqmrrNHFJau6FVkjaQFd6k7l3AjIGQa+cf2efhNd+Efi54n1a4+OGseKYbrV/tFtpM2p2E6azH/ZdrCZ7hI494dHR1AUr8ttGSCCSwB9VV53ef8nTeAv8AsTPEn/pdoVeiV53ef8nTeAv+xM8Sf+l2hUAez0UUUAFFFFABRRRQB5V+yd/yaz8G/wDsTNG/9IYa9Vryr9k7/k1n4N/9iZo3/pDDXqtABRRRQAUUUUAeVfGT/kovwJ/7HO5/9R7Wa9Vryr4yf8lF+BP/AGOdz/6j2s16rQAUUUUAFFFFABXlX7NP/JOtX/7HPxZ/6kOo16rXlX7NP/JOtX/7HPxZ/wCpDqNAHqtVtSFy2m3QsyFuzE4hY4wHwdp546461ZooA+IP2PvGV/pK/BzwnoXxBuvFskuj3UXjXwfeWtj5nhq6jhDyyymCCO4hlN6HiIunkaUzu/LKWH2/RRQB4X+yv/ybD8IP+xP0f/0ihr1Gvmz9mvX/AIrw/s5/CuPTvAvg2809fCmlLbXF140u4JZYhZxbHeNdJcIxGCVDuASRubGT6P8A8JJ8ZP8Aonngb/wvLz/5TUAemVk+LvDdt4z8Ka14fvZJorPVrKawnktyBIscsbIxUkEBsMcZBGexrif+Ek+Mn/RPPA3/AIXl5/8AKaj/AIST4yf9E88Df+F5ef8AymoA77QtHh8P6Hp+l27SPb2NvHbRtKQXKooUEkADOB2Aq9Xmf/CSfGT/AKJ54G/8Ly8/+U1H/CSfGT/onngb/wALy8/+U1AHplFeZ/8ACSfGT/onngb/AMLy8/8AlNR/wknxk/6J54G/8Ly8/wDlNQBo/Ar/AJHn45f9jnb/APqP6PXr1fLPwb1/4vR+NPjI1h4F8Ezyv4tga7juPGl5GsMv9h6UAkbDSW8xfLEbbiEO5mXaQod/Uf8AhJPjf/0Tz4f/APheX3/ymoA9Voryr/hJPjf/ANE8+H//AIXl9/8AKaj/AIST43/9E8+H/wD4Xl9/8pqAPVaK8q/4ST43/wDRPPh//wCF5ff/ACmo/wCEk+N//RPPh/8A+F5ff/KagD1WvKvDn/J03xD/AOxM8M/+l2vUf8JJ8b/+iefD/wD8Ly+/+U1eaaBr/wAYR+0l46kj8C+B21JvCXh5Z7dvGl4IUiF5rXlusn9kkszMZQylFChEIZ95CAH1BRXlX/CSfG//AKJ58P8A/wALy+/+U1H/AAknxv8A+iefD/8A8Ly+/wDlNQB6rRXlX/CSfG//AKJ58P8A/wALy+/+U1H/AAknxv8A+iefD/8A8Ly+/wDlNQB6rRXlX/CSfG//AKJ58P8A/wALy+/+U1H/AAknxv8A+iefD/8A8Ly+/wDlNQAfGT/kovwJ/wCxzuf/AFHtZr1Wvl/4sa/8YZPHnwYa78C+B4LhPFtw1nHD40vJFml/sLVgUkY6SpjXyzI24BzuVV2gMXT0v/hJPjf/ANE8+H//AIXl9/8AKagD1WivKv8AhJPjf/0Tz4f/APheX3/ymo/4ST43/wDRPPh//wCF5ff/ACmoA9Voryr/AIST43/9E8+H/wD4Xl9/8pqP+Ek+N/8A0Tz4f/8AheX3/wApqAPVa8l/af8A+SY6b/2OHhT/ANSHT6l/4ST43/8ARPPh/wD+F5ff/KavMf2itf8AjBL8PdOXUvAvgi1tv+Er8MsJLXxpeTOZRrtiYk2tpKAK0gRWbJKqzMFcqEYA+gKK8z/4ST4yf9E88Df+F5ef/Kaj/hJPjJ/0TzwN/wCF5ef/ACmoA+ZvAPgGHx1+3J+0DPe/DzwZ43trLU/D3m6h4olH2rTIzYjL2iGznDthc7TJCMxoN3OV9I1r9oHx7Y/tb6X4Og8C+KJPDcnhm7u20iNtG33UqXkUa3ySNdgiIIxXYzq53g+UcEjY174W614q8SSeIda/Z6+Desa/I8bvqt/4hee6ZkVVRjK+hFiVVVAOeAoA6V08g+JsniCLXn+FHw5fXIrZrOPU28aXRuUgZgzRCX+xdwQsqsVzgkA44oA8h/bk0ZvEnxT/AGd9K/sDR/FS3XiG9B0XxBJ5dhdEWhIWY+TNgDkj92/IHHcfTfw90FfDPg3S9MXw9o3hQW8ZX+xvDz77G1JYkrE3kw5XJz/q05J471wGqQ/ErXNR0vUNS+Evw31C/wBLlaawurrxncyy2kjLtZ4mbRSY2K8ErgkcVqf8JJ8ZP+ieeBv/AAvLz/5TUAemVwnwK/5Hn45f9jnb/wDqP6PWd/wknxk/6J54G/8AC8vP/lNXEfBvX/i9H40+MjWHgXwTPK/i2BruO48aXkawy/2HpQCRsNJbzF8sRtuIQ7mZdpCh3APqaivKv+Ek+N//AETz4f8A/heX3/ymo/4ST43/APRPPh//AOF5ff8AymoA9Voryr/hJPjf/wBE8+H/AP4Xl9/8pqP+Ek+N/wD0Tz4f/wDheX3/AMpqAPVa8q/ax/5NZ+Mn/Ymaz/6QzUf8JJ8b/wDonnw//wDC8vv/AJTV5p+01r/xhm/Zt+K8ep+BfA9npreEtWW6uLTxpeTzRRGzl3ukbaSgdguSFLoCQAWXOQAfUFFeVf8ACSfG/wD6J58P/wDwvL7/AOU1H/CSfG//AKJ58P8A/wALy+/+U1AHqtFeVf8ACSfG/wD6J58P/wDwvL7/AOU1H/CSfG//AKJ58P8A/wALy+/+U1AHqtFeVf8ACSfG/wD6J58P/wDwvL7/AOU1H/CSfG//AKJ58P8A/wALy+/+U1AB4c/5Om+If/YmeGf/AEu16vVa+X9A1/4wj9pLx1JH4F8DtqTeEvDyz27eNLwQpELzWvLdZP7JJZmYyhlKKFCIQz7yE9L/AOEk+N//AETz4f8A/heX3/ymoA9Voryr/hJPjf8A9E8+H/8A4Xl9/wDKaj/hJPjf/wBE8+H/AP4Xl9/8pqAPVaK8q/4ST43/APRPPh//AOF5ff8Aymo/4ST43/8ARPPh/wD+F5ff/KagD1WvC/2V/wDk2H4Qf9ifo/8A6RQ1v/8ACSfG/wD6J58P/wDwvL7/AOU1YH7K/wDybD8IP+xP0f8A9IoaAPUaKKKACiiigAooooAKKKKAPLv2qP8Ak2H4v/8AYn6x/wCkU1e6V4X+1R/ybD8X/wDsT9Y/9Ipq90oAKKKKACiiigAryrxH/wAnTfDz/sTPE3/pdoNeq15V4j/5Om+Hn/YmeJv/AEu0GgD1WiiigAooooAKKKKAPKv2Tv8Ak1n4N/8AYmaN/wCkMNeq15V+yd/yaz8G/wDsTNG/9IYa9VoAKKKKACiiigDyH46/8jz8Df8Asc7j/wBR/WK7uuE+Ov8AyPPwN/7HO4/9R/WK7ugAooooAK5/xt4N0zxto6WerXeq2drBKLnzdI1q80qUFVYfNNayxOUwxypbbkAkZUEdBXk3x8+AcXxwt9F365NYNpLTOumXkAvNIvzJs4vbMsonCmMbfnUrufB5oA5L9k+TwD4L0XTvh34b8Yz+MfFGj6FZwa1La61f6tptvLbRpE6xNLI8Frl5DiCPyyVH3MRjb9DV4b+z14J8bfDXxP410vxD4a8PWejazfJq9nqXhSXybGIx2VlZfZvsbgPESLUyjaZF5YFgQN3uVAHCfAr/AJHn45f9jnb/APqP6PXr1eQ/Ar/kefjl/wBjnb/+o/o9evUAFFFFABRRRQB5V+1j/wAms/GT/sTNZ/8ASGavVa8q/ax/5NZ+Mn/Ymaz/AOkM1eq0AFFFFABRRRQAV5V4c/5Om+If/YmeGf8A0u16vVa8q8Of8nTfEP8A7Ezwz/6Xa9QB6rRRRQAUUUUAFFFFAHhf7K//ACbD8IP+xP0f/wBIoa9Rry79lf8A5Nh+EH/Yn6P/AOkUNeo0AFFFFAHhX7ZXwx8AfFD4RxWvxF8VweDNH0vUotTttWuntxCl0scsaK6TqUlUrK48vGW4x0r5i/Yz0rTE+Ommf8I/8HdD8QeHbOOc2nxe0XRbvQ44828in9xc5ErPnyz5LYAlDYxX1z+018G/Bfxl+G/2fx5qeoaJoPh+5/4SBtS028+yyWrQQygymTacKsckhPHv2r5x/ZavvgrffHOeDwv8ZPF/iPXdNvpbTR9M1bxfLf22swnTo5pJ/IaNQQhmuECknDWu/PYAH3PXnd5/ydN4C/7EzxJ/6XaFXoled3n/ACdN4C/7EzxJ/wCl2hUAez0UUUAFFFFABRRRQB5V+yd/yaz8G/8AsTNG/wDSGGvVa8q/ZO/5NZ+Df/YmaN/6Qw16rQAUUUUAFFFFAHlXxk/5KL8Cf+xzuf8A1HtZr1WvKvjJ/wAlF+BP/Y53P/qPazXqtABRRRQAUUUUAFeVfs0/8k61f/sc/Fn/AKkOo16rXlX7NP8AyTrV/wDsc/Fn/qQ6jQB6rRRUdxI0MEkiRPO6qWEUZAZyB90biBk+5A96AJKK8l0P4/XGofErQvBGr/Dbxb4V1TWLW6vLebU59JmhWG3CeY7/AGW+mdV3SRIDswWkUepHrVAHhf7K/wDybD8IP+xP0f8A9Ioa9Rry79lf/k2H4Qf9ifo//pFDXqNABRRXzt+3Z4k1bw38E7J7HUrzRNGvPEWl2PiHVbGVoZbPSpbgLcSCVSDGDlVLA9HI70AfRNFfLnw1bwj8Nf2pLH4e6B8KvC/hIXfhi41Ww8ReFdSYfbrJZ441W7gW2iWSQkBgzSTbPm2t87E/UdABRRRQBwnwK/5Hn45f9jnb/wDqP6PXr1eQ/Ar/AJHn45f9jnb/APqP6PXr1ABRRRQAUUUUAFeVeHP+TpviH/2Jnhn/ANLter1WvKvDn/J03xD/AOxM8M/+l2vUAeq0UUUAFFFFABRRRQB5V8ZP+Si/An/sc7n/ANR7Wa9Vryr4yf8AJRfgT/2Odz/6j2s16rQAUUUUAFFFFABXkv7T/wDyTHTf+xw8Kf8AqQ6fXrVeS/tP/wDJMdN/7HDwp/6kOn0AdvRRRQAUUUUAFFFFABXCfAr/AJHn45f9jnb/APqP6PXd1wnwK/5Hn45f9jnb/wDqP6PQB69RRRQAUUUUAFeVftY/8ms/GT/sTNZ/9IZq9Vryr9rH/k1n4yf9iZrP/pDNQB6rRRRQAUUUUAFFFFAHlXhz/k6b4h/9iZ4Z/wDS7Xq9Vryrw5/ydN8Q/wDsTPDP/pdr1eq0AFFFFABRRRQAV4X+yv8A8mw/CD/sT9H/APSKGvdK8L/ZX/5Nh+EH/Yn6P/6RQ0Aeo0UUUAFFFFABRRRQAUUUUAeXftUf8mw/F/8A7E/WP/SKavdK8L/ao/5Nh+L/AP2J+sf+kU1e6UAFFFFABRRRQAV5V4j/AOTpvh5/2Jnib/0u0GvVa8q8R/8AJ03w8/7EzxN/6XaDQB6rRRRQAUUUUAFFFFAHlX7J3/JrPwb/AOxM0b/0hhr1WvKv2Tv+TWfg3/2Jmjf+kMNeq0AFFFFABRRRQB5D8df+R5+Bv/Y53H/qP6xXd1wnx1/5Hn4G/wDY53H/AKj+sV3dABRRRQAUUUUAFFFFAHCfAr/kefjl/wBjnb/+o/o9evV5D8Cv+R5+OX/Y52//AKj+j169QAUUUUAFFFFAHlX7WP8Ayaz8ZP8AsTNZ/wDSGavVa8q/ax/5NZ+Mn/Ymaz/6QzV6rQAUUUUAFFFFABXlXhz/AJOm+If/AGJnhn/0u16vVa8q8Of8nTfEP/sTPDP/AKXa9QB6rRRRQAUUUUAFFFFAHhf7K/8AybD8IP8AsT9H/wDSKGvUa8u/ZX/5Nh+EH/Yn6P8A+kUNeo0AFFFFAHMfEL4keEfhhocep+NNf0zw7pNxMLNbnVZ1hikkZWYR5Y4JKo5x6Ka8U8HfGz4Px/FjSNL+HHiPw34o1vx14ikl1KLT72KWWzji0WT97EqDKp/xLrdCDxmZjnkCvbfiLo+k6t4R1CTV/CsHjOKxhkvYdGltYbh7iWONiqRLL8nmNkqpJHLdQCa+a/2b/HFt4g+MfiWwH7Pl54O+x6ube01r+xdOthosf9lW0pgnkiffvkeSRgV3fLcxgkDIUA+ua87vP+TpvAX/AGJniT/0u0KvRK87vP8Ak6bwF/2JniT/ANLtCoA9nooooAKKKKACiiigDyr9k7/k1n4N/wDYmaN/6Qw16rXlX7J3/JrPwb/7EzRv/SGGvVaACiiigAooooA8q+Mn/JRfgT/2Odz/AOo9rNeq15V8ZP8AkovwJ/7HO5/9R7Wa9VoAKKKKACiiigAryr9mn/knWr/9jn4s/wDUh1GvVa8q/Zp/5J1q/wD2Ofiz/wBSHUaAPVaKKKAPKPhf4L1uT4nePvH3iqxOn6jqE6aLotm8scpt9ItixjfKMwDTzSSzEZBCmJWAZDXq9FFAHhf7K/8AybD8IP8AsT9H/wDSKGvUa+bP2a/hn4ov/wBnP4V3Vv8AGHxlplvN4U0qSOxtbDQmit1NnERGhk013KqDgF3ZsAZYnJr0f/hU/i7/AKLf45/8F3h7/wCVVAHplRXVrDfW0tvcQx3FvMhjkhlUMjqRgqQeCCOMGvOP+FT+Lv8Aot/jn/wXeHv/AJVUf8Kn8Xf9Fv8AHP8A4LvD3/yqoA2vBvwW+Hvw51SXUvCfgTwz4X1GWE28l5o2j29pM8RZWMZeNFJUsinbnGVB7CuyrzP/AIVP4u/6Lf45/wDBd4e/+VVH/Cp/F3/Rb/HP/gu8Pf8AyqoA9MorzP8A4VP4u/6Lf45/8F3h7/5VUf8ACp/F3/Rb/HP/AILvD3/yqoA0fgV/yPPxy/7HO3/9R/R69er5Z+Dfwr8UX3jT4yJF8ZfG1i9v4tgillt7LQt1039h6U/mSB9MYBgrrHhAi7Y1O3cWZvUf+FN+Lv8Aou3xA/8AAHw9/wDKqgD1WivKv+FN+Lv+i7fED/wB8Pf/ACqo/wCFN+Lv+i7fED/wB8Pf/KqgD1WivKv+FN+Lv+i7fED/AMAfD3/yqo/4U34u/wCi7fED/wAAfD3/AMqqAPVa8q8Of8nTfEP/ALEzwz/6Xa9R/wAKb8Xf9F2+IH/gD4e/+VVeaaB8J/FEn7SXjq0X4z+OI7iLwl4ele+Wz0Lzple81oLGwOmFAqFGZSqBsyvuZgECAH1BRXlX/Cm/F3/RdviB/wCAPh7/AOVVH/Cm/F3/AEXb4gf+APh7/wCVVAHqtFeVf8Kb8Xf9F2+IH/gD4e/+VVH/AApvxd/0Xb4gf+APh7/5VUAeq0V5V/wpvxd/0Xb4gf8AgD4e/wDlVR/wpvxd/wBF2+IH/gD4e/8AlVQAfGT/AJKL8Cf+xzuf/Ue1mvVa+X/ix8J/FFr48+DEUvxn8cXj3Pi24iimms9CDWrDQtWfzI9mmKCxVGjw4ddsjfLuCsvpf/Cm/F3/AEXb4gf+APh7/wCVVAHqtFeVf8Kb8Xf9F2+IH/gD4e/+VVH/AApvxd/0Xb4gf+APh7/5VUAeq0V5V/wpvxd/0Xb4gf8AgD4e/wDlVR/wpvxd/wBF2+IH/gD4e/8AlVQB6rXkv7T/APyTHTf+xw8Kf+pDp9S/8Kb8Xf8ARdviB/4A+Hv/AJVV538dvhp4j8P+D9Dv7/4seMPE1pD4w8L79L1S00ZLefOvWCjebfT4pRtJDDbIvKjORkEA92ooooAKKKKACiiigArhPgV/yPPxy/7HO3/9R/R67uuE+BX/ACPPxy/7HO3/APUf0egD16iiigAooooAK8q/ax/5NZ+Mn/Ymaz/6QzV6rXlX7WP/ACaz8ZP+xM1n/wBIZqAPVaKKKACiiigAooooA8q8Of8AJ03xD/7Ezwz/AOl2vV6rXlXhz/k6b4h/9iZ4Z/8AS7Xq9VoAKKKKACiiigArwv8AZX/5Nh+EH/Yn6P8A+kUNe6V4X+yv/wAmw/CD/sT9H/8ASKGgD1GiiigAooooAKKKKACiiigDy79qj/k2H4v/APYn6x/6RTV7pXhf7VH/ACbD8X/+xP1j/wBIpq90oAKKKKACiiigAryrxH/ydN8PP+xM8Tf+l2g16rXlXiP/AJOm+Hn/AGJnib/0u0GgD1WiiigAooooAKKKKAPKv2Tv+TWfg3/2Jmjf+kMNeq15V+yd/wAms/Bv/sTNG/8ASGGvVaACiiigAooooA8h+Ov/ACPPwN/7HO4/9R/WK7uuE+Ov/I8/A3/sc7j/ANR/WK7ugAooooAKKKKACiiigDhPgV/yPPxy/wCxzt//AFH9Hr16vIfgV/yPPxy/7HO3/wDUf0evXqACiiigAooooA8q/ax/5NZ+Mn/Ymaz/AOkM1eq15V+1j/yaz8ZP+xM1n/0hmr1WgAooooAKKKKACvKvDn/J03xD/wCxM8M/+l2vV6rXlXhz/k6b4h/9iZ4Z/wDS7XqAPVaKKKACiiigAooooA8L/ZX/AOTYfhB/2J+j/wDpFDXqNeXfsr/8mw/CD/sT9H/9Ioa9RoAKKKKAPG/2qPiBrHwx+Hun+IND8YeGvCV9bapEfK8WOsVlrCeVKWsTKeYXcDerryDDg/KWrw/9nX9qqf8AaI+NVjPpmreEPh5oE0881x4Uhvra917xNeJZmFpJTGcJFEsSlWGXdLZP+WZGPq/4i6PpOreEdQk1fwrB4zisYZL2HRpbWG4e4ljjYqkSy/J5jZKqSRy3UAmvmv8AZv8AHFt4g+MfiWwH7Pl54O+x6ube01r+xdOthosf9lW0pgnkiffvkeSRgV3fLcxgkDIUA+ua87vP+TpvAX/YmeJP/S7Qq9Erzu8/5Om8Bf8AYmeJP/S7QqAPZ6KKKACiiigAooooA8q/ZO/5NZ+Df/YmaN/6Qw16rXlX7J3/ACaz8G/+xM0b/wBIYa9VoAKKKKACiiigDyr4yf8AJRfgT/2Odz/6j2s16rXlXxk/5KL8Cf8Asc7n/wBR7Wa9VoAKKKKACiiigAryr9mn/knWr/8AY5+LP/Uh1GvVa8q/Zp/5J1q//Y5+LP8A1IdRoA9VoopkzOkLtGnmOFJVM43HHAz2oAfRXzL8Af2ifGXxN+IGnaLqh0G6eXTLm91/QdO0u6s7/wAHXCyqkNreyyzus7ufOUYjhLiLzkUxsDX01QB4X+yv/wAmw/CD/sT9H/8ASKGvUa8u/ZX/AOTYfhB/2J+j/wDpFDXqNABWN4u8YaR4F0X+1tcu/sOn/abaz87ynk/e3E8dvCuEBPzSyxrnGBuySACRs15B+1f4c1TxZ8FrnS9Fjv31GXXNBdH0uATXEKprFm7zKhR1PlorSEsrKAhLAgGgD0eTxfpEPjC38LPd4164sJdTitPLf5reOSON3342jDyxjBOTuyBgHGxXgvhn4deJPDH7UGmanqPiXxL4z01vB19bf2nrVnZxxW0pvbNlhV7S1gTcyqzbX3MQhIwAa96oAKKKKAOE+BX/ACPPxy/7HO3/APUf0evXq8h+BX/I8/HL/sc7f/1H9Hr16gAooooAKKKKACvKvDn/ACdN8Q/+xM8M/wDpdr1eq15V4c/5Om+If/YmeGf/AEu16gD1WiiigAooooAKKKKAPKvjJ/yUX4E/9jnc/wDqPazXqteVfGT/AJKL8Cf+xzuf/Ue1mvVaACiiigAooooAK8l/af8A+SY6b/2OHhT/ANSHT69aryX9p/8A5Jjpv/Y4eFP/AFIdPoA7eiiigAor508RfHnxBet4k1qz8Y/D/wCGvg7StYuPDtjeeOopJH1a+tmdLjDi7tkt0EsckageczCJpMAYWul8fftVeBPhvq3gnS9a8U+Fbe/127jhvo28RQIum272U9yt2SwBeFnhjjV2CBvPQ5zhSAezUV4g37Ung/Q/i54h8PeJvGnhHQPDseh6Rq+iX9/qsNsdQ+1NeeaySSShJYwsEBBQceZkk7lx2HwF+Il18WPhL4f8WXgsxPqSzPnT8+QyrNIismWY4KqDnJzmgDv64T4Ff8jz8cv+xzt//Uf0eu7rhPgV/wAjz8cv+xzt/wD1H9HoA9eooooAKKKKACvKv2sf+TWfjJ/2Jms/+kM1eq15V+1j/wAms/GT/sTNZ/8ASGagD1WiiigAooooAKKKKAPKvDn/ACdN8Q/+xM8M/wDpdr1eq15V4c/5Om+If/YmeGf/AEu16vVaACiiigAooooAK8L/AGV/+TYfhB/2J+j/APpFDXuleF/sr/8AJsPwg/7E/R//AEihoA9Roor5/wDjR8ddQ8C/F3T/AAp/wn3gP4d6XPoZ1T+0fGlq032ib7QYvKjP261UYX5v4jxQB9AUVga54y0bwJ4Xj1fxd4i0jRrGNY0uNVvrhLK0MjYAIMjkKGbopYnkDJ61ynwJ+Pfhf49+DrTV9C1fSLjUfs8c1/pOn6pFezaeXLBVl2YKk7GxuVc4PpQB6VRXguqfGTxPpXx40jwhDrvgrXkvdUe2vPCWkxzSa1pNj9meVL65m88qqkiElXt0X9+irI52l/eqACiiigDy79qj/k2H4v8A/Yn6x/6RTV7pXhf7VH/JsPxf/wCxP1j/ANIpq90oAKKKKACiiigAryrxH/ydN8PP+xM8Tf8ApdoNeq15V4j/AOTpvh5/2Jnib/0u0GgD1WiiigAooooAKKKKAPKv2Tv+TWfg3/2Jmjf+kMNeq15V+yd/yaz8G/8AsTNG/wDSGGvVaACiiigAooooA8h+Ov8AyPPwN/7HO4/9R/WK7uuE+Ov/ACPPwN/7HO4/9R/WK7ugAooooAKKKKACiiigDhPgV/yPPxy/7HO3/wDUf0evXq8h+BX/ACPPxy/7HO3/APUf0evXqACiiigAooooA8q/ax/5NZ+Mn/Ymaz/6QzV6rXlX7WP/ACaz8ZP+xM1n/wBIZq9VoAKKKKACiiigAryrw5/ydN8Q/wDsTPDP/pdr1eq15V4c/wCTpviH/wBiZ4Z/9LteoA9VooooAKKKKACiiigDwv8AZX/5Nh+EH/Yn6P8A+kUNeo15d+yv/wAmw/CD/sT9H/8ASKGvUaACiiigDhfjDpPxB1rwzbQfDbX9I8Oa6t2rzXetWLXcLW+xwyKikYYsYzn0UjvXknwmtfjT4X+KAi8Q694J8Z6Jf6o9l4kPhzSGsrzTroaaJobidtx3kxx2cOGy22aHHAFe3/EbV9E0zwjfwa94pj8HWuoxSWEertfRWcsEkkbANDJJ8olUBmXg8rnBwa+bf2cvhn4d8K/GLxBqVt+0DrfjKe71Zp9P0WfxbZXy6tF/ZdvE013DHGGeVHjmClSMJbwkg4JIB9cV53ef8nTeAv8AsTPEn/pdoVeiV53ef8nTeAv+xM8Sf+l2hUAez0UUUAFFFFABRRRQB5V+yd/yaz8G/wDsTNG/9IYa9Vryr9k7/k1n4N/9iZo3/pDDXqtABRRRQAUUUUAeVfGT/kovwJ/7HO5/9R7Wa9Vryr4yf8lF+BP/AGOdz/6j2s16rQAUUUUAFFFFABXlX7NP/JOtX/7HPxZ/6kOo16rXlX7NP/JOtX/7HPxZ/wCpDqNAHqtVtSshqWnXVoZprYXETRedbOUlj3AjcjD7rDOQexqzRQB8/wDwt/Zj1fwPrnw8n1jxXo+p6V4B06407RLfRvDf9mXMiyxLETdzfaZVlG1dxSOOFWl2uR8iivoCiigD5J/Zr/aM+Euh/s5/CvTtS+KngfTtRs/CmlW9zZ3fiSyimglSziV43RpQysrAgqQCCCDXo/8Aw1B8GP8AosHw/wD/AAqrD/49UX7K/wDybD8IP+xP0f8A9Ioa9RoA8z/4ag+DH/RYPh//AOFVYf8Ax6j/AIag+DH/AEWD4f8A/hVWH/x6vTKKAPM/+GoPgx/0WD4f/wDhVWH/AMeo/wCGoPgx/wBFg+H/AP4VVh/8er0yigDzP/hqD4Mf9Fg+H/8A4VVh/wDHqP8AhqD4Mf8ARYPh/wD+FVYf/Hq9MooA+fPg3+0t8INJ8afGSW9+K3ge0hvvFsFzaSTeI7NVuIhoelRGSMmXDqJIpE3DI3RsOqkD1H/hrH4If9Fk+H//AIVFj/8AHarfAr/kefjl/wBjnb/+o/o9evUAeVf8NY/BD/osnw//APCosf8A47R/w1j8EP8Aosnw/wD/AAqLH/47XqtFAHlX/DWPwQ/6LJ8P/wDwqLH/AOO0f8NY/BD/AKLJ8P8A/wAKix/+O16rRQB5V/w1j8EP+iyfD/8A8Kix/wDjteaaB+038Hof2kvHWpyfFfwOmm3PhLw9bQXjeI7MQyyx3mtNJGr+ZhmRZoiyg5AkQn7wz9QV5V4c/wCTpviH/wBiZ4Z/9LteoAP+Gsfgh/0WT4f/APhUWP8A8do/4ax+CH/RZPh//wCFRY//AB2vVaKAPKv+Gsfgh/0WT4f/APhUWP8A8do/4ax+CH/RZPh//wCFRY//AB2vVaKAPKv+Gsfgh/0WT4f/APhUWP8A8do/4ax+CH/RZPh//wCFRY//AB2vVaKAPl/4sftN/B7UvHnwYuLT4r+B7q3sPFtxc3ksPiOzdbaI6Fq0QkkIkwimSWNNxwN0ijqwFel/8NY/BD/osnw//wDCosf/AI7R8ZP+Si/An/sc7n/1HtZr1WgDyr/hrH4If9Fk+H//AIVFj/8AHaP+Gsfgh/0WT4f/APhUWP8A8dr1WigDyr/hrH4If9Fk+H//AIVFj/8AHaP+Gsfgh/0WT4f/APhUWP8A8dr1WigDyr/hrH4If9Fk+H//AIVFj/8AHa8x/aK/aY+D+u/D3TrXTfiv4Hv7lfFfhm4aG28R2cjCKLXbGWWQgScKkaO7N0VVYnABNfUdeS/tP/8AJMdN/wCxw8Kf+pDp9AGV/wANQfBj/osHw/8A/CqsP/j1H/DUHwY/6LB8P/8AwqrD/wCPV6ZRQB8g654i8A2K+N9P8E/tL/C7Q/DXi+S5ur7Sdcu7PUja3VyHFzLayx6hblFkLbykgkAfcVIDba7x/iR8A5tP+HtpJ8avBZXwTcxXdgy+LNOBmdLKezAl+c5Hl3DnC7TuCnOAQfoKigDwHQ/i58GNF+K/i3xp/wALw+H839vabpmnfYf+EjsF8j7I922/f553b/teMbRt8vqd3DvhJ8YPgx8Lfh7pXhf/AIXf8P8AU/sPm/6V/wAJJYQ798ryfc89sY346npmvfKKAPM/+GoPgx/0WD4f/wDhVWH/AMeriPg3+0t8INJ8afGSW9+K3ge0hvvFsFzaSTeI7NVuIhoelRGSMmXDqJIpE3DI3RsOqkD6DrhPgV/yPPxy/wCxzt//AFH9HoAs/wDDWPwQ/wCiyfD/AP8ACosf/jtH/DWPwQ/6LJ8P/wDwqLH/AOO16rRQB5V/w1j8EP8Aosnw/wD/AAqLH/47R/w1j8EP+iyfD/8A8Kix/wDjteq0UAeVf8NY/BD/AKLJ8P8A/wAKix/+O15p+01+038Hte/Zt+K+maZ8V/A+o6le+EtWtrWztPEdnLNPK9nKqRoiyEszMQAoGSSAK+oK8q/ax/5NZ+Mn/Ymaz/6QzUAH/DWPwQ/6LJ8P/wDwqLH/AOO0f8NY/BD/AKLJ8P8A/wAKix/+O16rRQB5V/w1j8EP+iyfD/8A8Kix/wDjtH/DWPwQ/wCiyfD/AP8ACosf/jteq0UAeVf8NY/BD/osnw//APCosf8A47R/w1j8EP8Aosnw/wD/AAqLH/47XqtFAHy/oH7Tfweh/aS8danJ8V/A6abc+EvD1tBeN4jsxDLLHea00kav5mGZFmiLKDkCRCfvDPpf/DWPwQ/6LJ8P/wDwqLH/AOO0eHP+TpviH/2Jnhn/ANLter1WgDyr/hrH4If9Fk+H/wD4VFj/APHaP+Gsfgh/0WT4f/8AhUWP/wAdr1WigDyr/hrH4If9Fk+H/wD4VFj/APHaP+Gsfgh/0WT4f/8AhUWP/wAdr1WigDyr/hrH4If9Fk+H/wD4VFj/APHa8e/Zr/aM+Euh/s5/CvTtS+KngfTtRs/CmlW9zZ3fiSyimglSziV43RpQysrAgqQCCCDX1tXhf7K//JsPwg/7E/R//SKGgCX/AIag+DH/AEWD4f8A/hVWH/x6vLfGnxS8C33xRt/G3hH9or4S6JdLox0aa11q7ttSR08/zg6mPUrcqc8YO6vp6igDyuw/ae+EMdjbJe/Gb4dXF4saiea38SWMUbyYG5lQ3DFVJyQpZiBxk9axvh/8avgV8N/BekeGdM+Mvgeew0yAW8Ml34s05pWUEnLFZFBPPYCvbaKAPlTxH478A+NvE2iv4k/aU+F+o+FtF8Qp4isbKG6sIdSSSOR5IIWu/tpjMabwmVt1d41Cs5LO7b8Hxu8Jx6rbTyftS/D+Wyj1W/u5bT7dpI82zmidbWz3+fkfZ3ZH80fNJs2tgE19GUUAfPnhn46eCtLuvCz6x+038P8AXIdP0qS01eL+0tKt/wC1rwmPZeZWf9xtCSfukyp83/ZFdv8A8NQfBj/osHw//wDCqsP/AI9XplFAHzZ+0p+0Z8Jdc/Zz+Kmnab8VPA+o6jeeFNVt7aztPEllLNPK9nKqRoiylmZmIAUAkkgCvYf+Gsfgh/0WT4f/APhUWP8A8drA/ao/5Nh+L/8A2J+sf+kU1e6UAeVf8NY/BD/osnw//wDCosf/AI7R/wANY/BD/osnw/8A/Cosf/jteq0UAeVf8NY/BD/osnw//wDCosf/AI7R/wANY/BD/osnw/8A/Cosf/jteq0UAeVf8NY/BD/osnw//wDCosf/AI7Xmmv/ALTfwem/aS8C6nH8V/A76bbeEvENtPeL4jszDFLJeaK0cbP5mFZ1hlKqTkiNyPunH1BXlXiP/k6b4ef9iZ4m/wDS7QaAD/hrH4If9Fk+H/8A4VFj/wDHaP8AhrH4If8ARZPh/wD+FRY//Ha9VooA8q/4ax+CH/RZPh//AOFRY/8Ax2j/AIax+CH/AEWT4f8A/hUWP/x2vVaKAPKv+Gsfgh/0WT4f/wDhUWP/AMdo/wCGsfgh/wBFk+H/AP4VFj/8dr1WigD5f/Zl/ab+D2g/s2/CjTNT+K/gfTtSsvCWk211Z3fiOzimglSziV43RpAVZWBBUjIIINel/wDDWPwQ/wCiyfD/AP8ACosf/jtH7J3/ACaz8G/+xM0b/wBIYa9VoA8q/wCGsfgh/wBFk+H/AP4VFj/8do/4ax+CH/RZPh//AOFRY/8Ax2vVaKAPKv8AhrH4If8ARZPh/wD+FRY//HaP+Gsfgh/0WT4f/wDhUWP/AMdr1WigD5Z+Mn7S3wg1bxp8G5bL4reB7uGx8Wz3N3JD4js2W3iOh6rEJJCJcIpkljTccDdIo6sAe3/4ag+DH/RYPh//AOFVYf8Ax6tH46/8jz8Df+xzuP8A1H9Yru6APM/+GoPgx/0WD4f/APhVWH/x6j/hqD4Mf9Fg+H//AIVVh/8AHq9MooA8z/4ag+DH/RYPh/8A+FVYf/HqP+GoPgx/0WD4f/8AhVWH/wAer0yigDzP/hqD4Mf9Fg+H/wD4VVh/8eo/4ag+DH/RYPh//wCFVYf/AB6vTKKAPnz4N/tLfCDSfGnxklvfit4HtIb7xbBc2kk3iOzVbiIaHpURkjJlw6iSKRNwyN0bDqpA9R/4ax+CH/RZPh//AOFRY/8Ax2q3wK/5Hn45f9jnb/8AqP6PXr1AHlX/AA1j8EP+iyfD/wD8Kix/+O0f8NY/BD/osnw//wDCosf/AI7XqtFAHlX/AA1j8EP+iyfD/wD8Kix/+O0f8NY/BD/osnw//wDCosf/AI7XqtFAHy/+01+038Hte/Zt+K+maZ8V/A+o6le+EtWtrWztPEdnLNPK9nKqRoiyEszMQAoGSSAK9L/4ax+CH/RZPh//AOFRY/8Ax2j9rH/k1n4yf9iZrP8A6QzV6rQB5V/w1j8EP+iyfD//AMKix/8AjtH/AA1j8EP+iyfD/wD8Kix/+O16rRQB5V/w1j8EP+iyfD//AMKix/8AjtH/AA1j8EP+iyfD/wD8Kix/+O16rRQB5V/w1j8EP+iyfD//AMKix/8AjteaaB+038Hof2kvHWpyfFfwOmm3PhLw9bQXjeI7MQyyx3mtNJGr+ZhmRZoiyg5AkQn7wz9QV5V4c/5Om+If/YmeGf8A0u16gA/4ax+CH/RZPh//AOFRY/8Ax2j/AIax+CH/AEWT4f8A/hUWP/x2vVaKAPKv+Gsfgh/0WT4f/wDhUWP/AMdo/wCGsfgh/wBFk+H/AP4VFj/8dr1WigDyr/hrH4If9Fk+H/8A4VFj/wDHaP8AhrH4If8ARZPh/wD+FRY//Ha9VooA8L/ZX/5Nh+EH/Yn6P/6RQ16jXl37K/8AybD8IP8AsT9H/wDSKGvUaACiiigDivjB4L8K+NPA96vi7wdD4607TFfU4tFeyS7lmmjjfaIY3IBlIZkXkZL4yM18u/su6j4A1D44a5DpP7N2s+BtQsNWe30zXpvC1rZro8R0q3keG6mSZmSWRpZiu0NmO4hBI3HH038ZP+Fnf8Ivbf8ACpx4S/4SP7Yvn/8ACZfavsn2XY+7b9n+fzN/lYz8uN/fFeMfs261+0F4o8U3Gt+KdO+E9j4Pu9Z1O11x/Dkeopqlxd2Ty6f5qeaTGwMllEoLHPlKOAQFAB9R153ef8nTeAv+xM8Sf+l2hV6JXnd5/wAnTeAv+xM8Sf8ApdoVAHs9FFFABRRRQAUUUUAeVfsnf8ms/Bv/ALEzRv8A0hhr1WvKv2Tv+TWfg3/2Jmjf+kMNeq0AFFFFABRRRQB5V8ZP+Si/An/sc7n/ANR7Wa9Vryr4yf8AJRfgT/2Odz/6j2s16rQAUUUUAFFFFABXlX7NP/JOtX/7HPxZ/wCpDqNeq15V+zT/AMk61f8A7HPxZ/6kOo0Aeq0UVU1ezm1DSb21t7p7G4ngeKO6jGWhZlIDgdyCc/hQBbor4q+D/wAO9a+Dv7Qnwt8LN4Z8H6PrR0DUn8Rax4W1W4uLvXbeNIlF7qMMlpGQ73RRleSaZtzzKrEbzX2rQB4X+yv/AMmw/CD/ALE/R/8A0ihr1GvLv2V/+TYfhB/2J+j/APpFDXqNABRRRQB49+y18YtZ+N3w71PXtdtrG0vLXXtR0tE0+N0jMVvOY0Yh3Y7iByc4z0Ar2GvMf2e/gr/wofwTf+Hv7Z/tz7VrF9q32j7L9n2/aJjJ5e3e+ducbs89cCvTqACiiigDhPgV/wAjz8cv+xzt/wD1H9Hr16vIfgV/yPPxy/7HO3/9R/R69eoAKKKKACiiigAryrw5/wAnTfEP/sTPDP8A6Xa9XqteVeHP+TpviH/2Jnhn/wBLteoA9VooooAKKKKACiiigDyr4yf8lF+BP/Y53P8A6j2s16rXlXxk/wCSi/An/sc7n/1HtZr1WgAooooAKKKKACvJf2n/APkmOm/9jh4U/wDUh0+vWq8l/af/AOSY6b/2OHhT/wBSHT6AO3ooooAKKKKACiiigArhPgV/yPPxy/7HO3/9R/R67uuE+BX/ACPPxy/7HO3/APUf0egD16iiigAooooAK8q/ax/5NZ+Mn/Ymaz/6QzV6rXlX7WP/ACaz8ZP+xM1n/wBIZqAPVaKKKACiiigAooooA8q8Of8AJ03xD/7Ezwz/AOl2vV6rXlXhz/k6b4h/9iZ4Z/8AS7Xq9VoAKKKKACiiigArwv8AZX/5Nh+EH/Yn6P8A+kUNe6V4X+yv/wAmw/CD/sT9H/8ASKGgD1GiiigAooooAKKKKACiiigDy79qj/k2H4v/APYn6x/6RTV7pXhf7VH/ACbD8X/+xP1j/wBIpq90oAKKKKACiiigAryrxH/ydN8PP+xM8Tf+l2g16rXlXiP/AJOm+Hn/AGJnib/0u0GgD1WiiigAooooAKKKKAPKv2Tv+TWfg3/2Jmjf+kMNeq15V+yd/wAms/Bv/sTNG/8ASGGvVaACiiigAooooA8h+Ov/ACPPwN/7HO4/9R/WK7uuE+Ov/I8/A3/sc7j/ANR/WK7ugAooooAKKKKACiiigDhPgV/yPPxy/wCxzt//AFH9Hr16vIfgV/yPPxy/7HO3/wDUf0evXqACiiigAooooA8q/ax/5NZ+Mn/Ymaz/AOkM1eq15V+1j/yaz8ZP+xM1n/0hmr1WgAooooAKKKKACvKvDn/J03xD/wCxM8M/+l2vV6rXlXhz/k6b4h/9iZ4Z/wDS7XqAPVaKKKACiiigAooooA8L/ZX/AOTYfhB/2J+j/wDpFDXqNeXfsr/8mw/CD/sT9H/9Ioa9RoAKKKKAPN/j98OfCnxH+HtxH401XUtE8P6O7axcX2malJYtCsMUm9nkjIOwIzkg8cA9hXy5+ynb/s5r8bri28CeONUu/EOm6lcQ6NZXHii4u4dXSSwW4uLkQMAvDXF0pB3HdAz5ycD7E8beM7fwrdeGdPlsmv7jxHqq6PbwqQFyYJp5XbP8Kw28zY77QO9eA/CX4tQ2/wAddc0yP4U6hoWieKvFWpafZ+MJLy3lt7q/0+2e1kjjhRRJCjRaTM3zE/Mrf3qAPqWvO7z/AJOm8Bf9iZ4k/wDS7Qq9Erzu8/5Om8Bf9iZ4k/8AS7QqAPZ6KKKACiiigAooooA8q/ZO/wCTWfg3/wBiZo3/AKQw16rXlX7J3/JrPwb/AOxM0b/0hhr1WgAooooAKKKKAPKvjJ/yUX4E/wDY53P/AKj2s16rXlXxk/5KL8Cf+xzuf/Ue1mvVaACiiigAooooAK8q/Zp/5J1q/wD2Ofiz/wBSHUa9Vryr9mn/AJJ1q/8A2Ofiz/1IdRoA9VpksSTxPFKiyRuCrIwyGB4II7in0UAct4G+FPgn4XpeJ4N8H6B4SW9KG6XQ9MgshOUzsL+Uq7tu5sZ6bj611NFFAHyT+zX8UvEOn/s5/Cu1g+EHjjU4YPCmlRJe2lzoYhuFWziAkQSamjhWAyN6K2CMqDkV6P8A8Le8Tf8ARE/iB/4FeH//AJbVF+yv/wAmw/CD/sT9H/8ASKGvUaAPM/8Ahb3ib/oifxA/8CvD/wD8tqP+FveJv+iJ/ED/AMCvD/8A8tq9MooA8z/4W94m/wCiJ/ED/wACvD//AMtqP+FveJv+iJ/ED/wK8P8A/wAtq9MooA8z/wCFveJv+iJ/ED/wK8P/APy2o/4W94m/6In8QP8AwK8P/wDy2r0yigD58+DfxW8TWfjT4yPB8GvHF+bjxbBLJHDd6ErWrDQ9KTy5N+pqCxCK+ULrtkX5g25V9R/4XJ4u/wCiE/ED/wADvD3/AMtarfAr/kefjl/2Odv/AOo/o9evUAeVf8Lk8Xf9EJ+IH/gd4e/+WtH/AAuTxd/0Qn4gf+B3h7/5a16rRQB5V/wuTxd/0Qn4gf8Agd4e/wDlrR/wuTxd/wBEJ+IH/gd4e/8AlrXqtFAHlX/C5PF3/RCfiB/4HeHv/lrXmmgfFjxRH+0l46u1+DHjiS4l8JeHonsVvNC86FVvNaKyMTqYQq5dlUK5bMT7lUFC/wBQV5V4c/5Om+If/YmeGf8A0u16gA/4XJ4u/wCiE/ED/wADvD3/AMtaP+FyeLv+iE/ED/wO8Pf/AC1r1WigDyr/AIXJ4u/6IT8QP/A7w9/8taP+FyeLv+iE/ED/AMDvD3/y1r1WigDyr/hcni7/AKIT8QP/AAO8Pf8Ay1o/4XJ4u/6IT8QP/A7w9/8ALWvVaKAPl/4sfFjxRdePPgxLL8GPHFm9t4tuJYoZrzQi10x0LVk8uPZqbAMFdpMuUXbG3zbiqt6X/wALk8Xf9EJ+IH/gd4e/+WtHxk/5KL8Cf+xzuf8A1HtZr1WgDyr/AIXJ4u/6IT8QP/A7w9/8taP+FyeLv+iE/ED/AMDvD3/y1r1WigDyr/hcni7/AKIT8QP/AAO8Pf8Ay1o/4XJ4u/6IT8QP/A7w9/8ALWvVaKAPKv8Ahcni7/ohPxA/8DvD3/y1rzv47fEvxH4g8H6HYX/wn8YeGbSbxh4X36pql3oz28GNesGG8W+oSyncQFG2NuWGcDJH0zXkv7T/APyTHTf+xw8Kf+pDp9AHb0UUUAFFFFABRRRQAVwnwK/5Hn45f9jnb/8AqP6PXd1wnwK/5Hn45f8AY52//qP6PQB69RRRQAUUUUAFeVftY/8AJrPxk/7EzWf/AEhmr1WvKv2sf+TWfjJ/2Jms/wDpDNQB6rRRRQAUUUUAFFFFAHlXhz/k6b4h/wDYmeGf/S7Xq9Vryrw5/wAnTfEP/sTPDP8A6Xa9XqtABRRRQAUUUUAFeF/sr/8AJsPwg/7E/R//AEihr3SvC/2V/wDk2H4Qf9ifo/8A6RQ0Aeo0UUUAFFFFABRRRQAUUUUAeXftUf8AJsPxf/7E/WP/AEimr3SvC/2qP+TYfi//ANifrH/pFNXulABRRRQAUUUUAFeVeI/+Tpvh5/2Jnib/ANLtBr1WvKvEf/J03w8/7EzxN/6XaDQB6rRRRQAUUUUAFFFFAHlX7J3/ACaz8G/+xM0b/wBIYa9Vryr9k7/k1n4N/wDYmaN/6Qw16rQAUUUUAFFFFAHkPx1/5Hn4G/8AY53H/qP6xXd1wnx1/wCR5+Bv/Y53H/qP6xXd0AFFFFABRRRQAUUUUAcJ8Cv+R5+OX/Y52/8A6j+j169XkPwK/wCR5+OX/Y52/wD6j+j169QAUUUUAFFFFAHlX7WP/JrPxk/7EzWf/SGavVa8q/ax/wCTWfjJ/wBiZrP/AKQzV6rQAUUUUAFFFFABXlXhz/k6b4h/9iZ4Z/8AS7Xq9Vryrw5/ydN8Q/8AsTPDP/pdr1AHqtFFFABRRRQAUUUUAeF/sr/8mw/CD/sT9H/9Ioa9Rry79lf/AJNh+EH/AGJ+j/8ApFDXqNABRRRQB5/8bPhnL8T/AAhDbWHiK48Ia9pV5Hquk6/axrI1hdRqyhyj/K6FJJEdDwySMO9eP/Avwv4n8V/Fa/1P4g/E3TvGF94HvpLDTtH0bS4rC0S8nso5pLw4dmlc297szwFLzDnOa928fanoLQ6V4V8Q2Z1Cz8ZXE+gi1aMPFNusrm4kSXkYRobaYd+SB3yPHP2d/wBmf4ReF/E+v+PvCXhawtbwa/f22mS/Y/Jl0r7Mv9mXMEZ3tuR5rW6kDcZFyRjjJAPo2vO7z/k6bwF/2JniT/0u0KvRK87vP+TpvAX/AGJniT/0u0KgD2eiiigAooooAKKKKAPKv2Tv+TWfg3/2Jmjf+kMNeq15V+yd/wAms/Bv/sTNG/8ASGGvVaACiiigAooooA8q+Mn/ACUX4E/9jnc/+o9rNeq15V8ZP+Si/An/ALHO5/8AUe1mvVaACiiigAooooAK8q/Zp/5J1q//AGOfiz/1IdRr1WvKv2af+Sdav/2Ofiz/ANSHUaAPVa43wP8AGDwf8Sta17SvDGtxa1daH5P217aOQwASmQIY5ivlzDdDKpMbMFaN1bDAiuyr5g8O+IP+Ew+OnxjtLPRvFdgnibw/p+maZqOpeFNUsrR57eK/E2bia3SNAvmx4ZmAfcAhY0AeseB/2hvAPxH16DR9A1qa6u7qKeexkuNNu7W21KKF1WWSzuJoliu0UumWgdxh1bOCDXo9fJvwwt9U8Zat+ztpaeFPEOgXXw5sZj4hfWNHuLK3tpF0p7AW0M8irHc75ZS6tbmRNsG4ldybvrKgDwv9lf8A5Nh+EH/Yn6P/AOkUNeo15d+yv/ybD8IP+xP0f/0ihr1GgAooqC/so9Ssbm0laZIriNona3meGQKwIJWRCGRueGUgg8gg0AeZ/AXWNQ1j/hYv2++ub77L4y1G1t/tMzSeTCvl7Y0yTtQZOFHAzXqdc54D+HuhfDTQ30nw/azW9pJcy3kz3V5NeTzzysWkllnmd5JHJP3nYnAA6ACujoAKKKKAOE+BX/I8/HL/ALHO3/8AUf0evXq8h+BX/I8/HL/sc7f/ANR/R69eoAKKKKACiiigAryrw5/ydN8Q/wDsTPDP/pdr1eq15V4c/wCTpviH/wBiZ4Z/9LteoA9VooooAKKKKACiiigDyr4yf8lF+BP/AGOdz/6j2s16rXlXxk/5KL8Cf+xzuf8A1HtZr1WgAooooAKKKKACvJf2n/8AkmOm/wDY4eFP/Uh0+vWq8l/af/5Jjpv/AGOHhT/1IdPoA7eiiigDnPiJ8Q/D/wAKfBeqeLPFWof2X4f0xFku7zyZJvLUsqA7I1Zj8zAcA9a3rW5jvLWG4hbfDKgkRsEZUjIOD7V4V+3b4b1fxf8Asl/EXR9C0u91vVrqzhW3sNOt3uJ5iLmIkJGgLMcAngdAa4L4yeA/irqvxq+Ad9ot7pn9madd3jRTP4Wu7ldHzpjIzX0i3iiQO2UXAgwzLy2MEA+j/wDhZ3hr/hZ//Cu/7S/4rH+x/wC3/wCzfIl/48fP8jzfM2+X/rPl27t3fGOa6ivmHwXo2t+JP28NT8YvpupjSNH+HSeF7zV7rRbrTbS61L+02lcW3nj95HtQsGjaRcMvztkE/T1ABXCfAr/kefjl/wBjnb/+o/o9d3XCfAr/AJHn45f9jnb/APqP6PQB69RRRQAUUUUAFeVftY/8ms/GT/sTNZ/9IZq9Vryr9rH/AJNZ+Mn/AGJms/8ApDNQB6rRRRQAUUUUAFFFFAHlXhz/AJOm+If/AGJnhn/0u16vVa8q8Of8nTfEP/sTPDP/AKXa9XqtABRRRQAUUUUAFeF/sr/8mw/CD/sT9H/9Ioa90rwv9lf/AJNh+EH/AGJ+j/8ApFDQB6jRRRQAUUUUAFFFFABRRRQB5d+1R/ybD8X/APsT9Y/9Ipq90rwv9qj/AJNh+L//AGJ+sf8ApFNXulABRRRQAUUUUAFeVeI/+Tpvh5/2Jnib/wBLtBr1WvKvEf8AydN8PP8AsTPE3/pdoNAHqtFFFABRRRQAUUUUAeVfsnf8ms/Bv/sTNG/9IYa9Vryr9k7/AJNZ+Df/AGJmjf8ApDDXqtABRRRQAUUUUAeQ/HX/AJHn4G/9jncf+o/rFd3XCfHX/kefgb/2Odx/6j+sV3dABRRRQAUUUUAFFFFAHCfAr/kefjl/2Odv/wCo/o9evV5D8Cv+R5+OX/Y52/8A6j+j169QAUUUUAFFFFAHlX7WP/JrPxk/7EzWf/SGavVa8q/ax/5NZ+Mn/Ymaz/6QzV6rQAUUUUAFFFFABXlXhz/k6b4h/wDYmeGf/S7Xq9Vryrw5/wAnTfEP/sTPDP8A6Xa9QB6rRRRQAUUUUAFFFFAHhf7K/wDybD8IP+xP0f8A9Ioa9Rry79lf/k2H4Qf9ifo//pFDXqNABRRRQB5l+0J8LfBvxQ8A/wDFc399pOh+H5m11tR0+/eyktfKgmR5DKhyFEUsufY18w/sp2/7Oa/G64tvAnjjVLvxDpupXEOjWVx4ouLuHV0ksFuLi5EDALw1xdKQdx3QM+cnA+vPHnj228G6t4L067toprbxNq8mkPPNMI0tgun3l3vIIIfP2Ty9uR/rM54wfNfA3jfwXpviiyvvDelRyXnjrxxqWk3ZkmiV7Oawsbq3aaNUU5icaImFyP8AX7yf4SAe8153ef8AJ03gL/sTPEn/AKXaFXoled3n/J03gL/sTPEn/pdoVAHs9FFFABRRRQAUUUUAeVfsnf8AJrPwb/7EzRv/AEhhr1WvKv2Tv+TWfg3/ANiZo3/pDDXqtABRRRQAUUUUAeVfGT/kovwJ/wCxzuf/AFHtZr1WvKvjJ/yUX4E/9jnc/wDqPazXqtABRRRQAUUUUAFeVfs0/wDJOtX/AOxz8Wf+pDqNeq15V+zT/wAk61f/ALHPxZ/6kOo0Aeq0UUUAFFFFAHyT+zXo3xal/Zz+Fb6b4y8D2unN4U0o20F34OvZ5o4jZxbFeRdWRXYLgFgiAkEhVzgej/2H8Z/+h5+H/wD4Q9//APLmov2V/wDk2H4Qf9ifo/8A6RQ16jQB5n/Yfxn/AOh5+H//AIQ9/wD/AC5o/sP4z/8AQ8/D/wD8Ie//APlzXplZ/iDxFpXhPR7rV9b1Oz0bSrRd9xfahcJBBCuQNzyOQqjJHJPegDg/7D+M/wD0PPw//wDCHv8A/wCXNH9h/Gf/AKHn4f8A/hD3/wD8ua7KPxt4dm8RQeH49f0uTXriyGpQ6Wt5GbqS1LbRcLFu3GLcCN4G3IxmtqgDzP8AsP4z/wDQ8/D/AP8ACHv/AP5c0f2H8Z/+h5+H/wD4Q9//APLmvTKKAPnz4N6F8X5vGnxkFl448D2syeLYFu2m8F3kqyy/2HpRDxgaspjXyzGu0lzuVm3AMET1H/hHPjf/ANFD+H//AIQd9/8ALmq3wK/5Hn45f9jnb/8AqP6PXr1AHlX/AAjnxv8A+ih/D/8A8IO+/wDlzR/wjnxv/wCih/D/AP8ACDvv/lzXqtFAHlX/AAjnxv8A+ih/D/8A8IO+/wDlzR/wjnxv/wCih/D/AP8ACDvv/lzXqtFAHlX/AAjnxv8A+ih/D/8A8IO+/wDlzXmmgaD8YT+0l46jj8deB11JfCXh5p7hvBV4YXiN5rXlosf9rAqysJSzF2DB0AVNhL/UFeVeHP8Ak6b4h/8AYmeGf/S7XqAD/hHPjf8A9FD+H/8A4Qd9/wDLmj/hHPjf/wBFD+H/AP4Qd9/8ua9VooA8q/4Rz43/APRQ/h//AOEHff8Ay5o/4Rz43/8ARQ/h/wD+EHff/LmvVaKAPKv+Ec+N/wD0UP4f/wDhB33/AMuaP+Ec+N//AEUP4f8A/hB33/y5r1WigD5f+LGg/GGPx58GFu/HXgee4fxbcLZyQ+CryNYZf7C1Yl5FOrMZF8sSLtBQ7mVtxClH9L/4Rz43/wDRQ/h//wCEHff/AC5o+Mn/ACUX4E/9jnc/+o9rNeq0AeVf8I58b/8Aoofw/wD/AAg77/5c0f8ACOfG/wD6KH8P/wDwg77/AOXNeq0UAeVf8I58b/8Aoofw/wD/AAg77/5c0f8ACOfG/wD6KH8P/wDwg77/AOXNeq0UAeVf8I58b/8Aoofw/wD/AAg77/5c15j+0VoPxgh+HunNqXjnwPd23/CV+GQsdt4LvIG8067YiJix1Z8qshRmXALKrKGQsHX6jryX9p//AJJjpv8A2OHhT/1IdPoAyv7D+M//AEPPw/8A/CHv/wD5c0f2H8Z/+h5+H/8A4Q9//wDLmvTKKAPM/wCw/jP/ANDz8P8A/wAIe/8A/lzR/Yfxn/6Hn4f/APhD3/8A8ua9MooA8z/sP4z/APQ8/D//AMIe/wD/AJc0f2H8Z/8Aoefh/wD+EPf/APy5r0yigDzP+w/jP/0PPw//APCHv/8A5c1xHwb0L4vzeNPjILLxx4HtZk8WwLdtN4LvJVll/sPSiHjA1ZTGvlmNdpLncrNuAYIn0HXCfAr/AJHn45f9jnb/APqP6PQBZ/4Rz43/APRQ/h//AOEHff8Ay5o/4Rz43/8ARQ/h/wD+EHff/LmvVaKAPKv+Ec+N/wD0UP4f/wDhB33/AMuaP+Ec+N//AEUP4f8A/hB33/y5r1WigDyr/hHPjf8A9FD+H/8A4Qd9/wDLmvNP2mtB+MMP7NvxXk1Px14HvNNXwlqzXVvaeCryCaWIWcu9EkbVnCMVyAxRwCQSrYwfqCvKv2sf+TWfjJ/2Jms/+kM1AB/wjnxv/wCih/D/AP8ACDvv/lzR/wAI58b/APoofw//APCDvv8A5c16rRQB5V/wjnxv/wCih/D/AP8ACDvv/lzR/wAI58b/APoofw//APCDvv8A5c16rRQB5V/wjnxv/wCih/D/AP8ACDvv/lzR/wAI58b/APoofw//APCDvv8A5c16rRQB8v6BoPxhP7SXjqOPx14HXUl8JeHmnuG8FXhheI3mteWix/2sCrKwlLMXYMHQBU2Ev6X/AMI58b/+ih/D/wD8IO+/+XNHhz/k6b4h/wDYmeGf/S7Xq9VoA8q/4Rz43/8ARQ/h/wD+EHff/Lmj/hHPjf8A9FD+H/8A4Qd9/wDLmvVaKAPKv+Ec+N//AEUP4f8A/hB33/y5o/4Rz43/APRQ/h//AOEHff8Ay5r1WigDyr/hHPjf/wBFD+H/AP4Qd9/8uawP2V/+TYfhB/2J+j/+kUNe6V4X+yv/AMmw/CD/ALE/R/8A0ihoA9RooooAKKKKACiiigAooooA8u/ao/5Nh+L/AP2J+sf+kU1e6V4X+1R/ybD8X/8AsT9Y/wDSKavdKACiiigAooooAK8q8R/8nTfDz/sTPE3/AKXaDXqteVeI/wDk6b4ef9iZ4m/9LtBoA9VooooAKKKKACiiigDyr9k7/k1n4N/9iZo3/pDDXqteVfsnf8ms/Bv/ALEzRv8A0hhr1WgAooooAKKKKAPIfjr/AMjz8Df+xzuP/Uf1iu7rhPjr/wAjz8Df+xzuP/Uf1iu7oAKKKKACiiigAooooA4T4Ff8jz8cv+xzt/8A1H9Hr16vIfgV/wAjz8cv+xzt/wD1H9Hr16gAooooAKKKKAPKv2sf+TWfjJ/2Jms/+kM1eq15V+1j/wAms/GT/sTNZ/8ASGavVaACiiigAooooAK8q8Of8nTfEP8A7Ezwz/6Xa9XqteVeHP8Ak6b4h/8AYmeGf/S7XqAPVaKKKACiiigAooooA8L/AGV/+TYfhB/2J+j/APpFDXqNeXfsr/8AJsPwg/7E/R//AEihr1GgAooooA88+PHw18DfEz4e3cHxB8Nt4q0HSN2sDT4UmklMkUUnMSREO77HdQoySWxjOK+U/wBlGz+BEnx51IeEvg/rXhbxBpupyW2h6tNompQrb27aXDJKLt5nZIpWaW5VQwXKPDgZYFvqr44fEbW/h74b0uPwrocPiPxdr2pR6Ro+n3Vx5EDTtHLM8kr4JEccME0hwMkR4HJzXmvwn8TfFTwD8TotG+KfhTwdajx3eSzQa/4JvLp4n1GGyXENxFcjcGa0sjhkO3/RzkZbNAH0fXnd5/ydN4C/7EzxJ/6XaFXoled3n/J03gL/ALEzxJ/6XaFQB7PRRRQAUUUUAFFFFAHlX7J3/JrPwb/7EzRv/SGGvVa8q/ZO/wCTWfg3/wBiZo3/AKQw16rQAUUUUAFFFFAHlXxk/wCSi/An/sc7n/1HtZr1WvKvjJ/yUX4E/wDY53P/AKj2s16rQAUUUUAFFFFABXlX7NP/ACTrV/8Asc/Fn/qQ6jXqteVfs0/8k61f/sc/Fn/qQ6jQB6rXmnw3+Lmp+OPiJ428Lap4Tl8MP4fhsLmFrm/iuJ7iK5NwAZEiBjiINsxAWWTKuhJRtyL6XXiPw98I/EzS/jx4v8Wa7oXhO08P+IrSxs2OneIrm5u7YWgutjiJ7CNXMhuFBXzF2BSQX6UAdJ8Lfi1qfj/xf400HVfCc3hW48PPZ7Irm/iuZ5UuIjIpkWLMcbDb91JJRgg7s5A9KrxP4WeE/iZo/wAYvGviXxLoPhOx0bxKtpn+yfEVzeXFsbaFo1GySwhVw+ck712+jV7ZQB4X+yv/AMmw/CD/ALE/R/8A0ihr1GvLv2V/+TYfhB/2J+j/APpFDXqNABXz/wDt+f8AJnfxS/7BY/8AR0dfQFFAHxv+xW//AAhvxT8f+GPHipL8VNWjttbs9dkwqavoZjVLeO1UkmNLcoUaLJwSDufqPsiiigAooooA4T4Ff8jz8cv+xzt//Uf0evXq8h+BX/I8/HL/ALHO3/8AUf0evXqACiiigAooooAK8q8Of8nTfEP/ALEzwz/6Xa9XqteVeHP+TpviH/2Jnhn/ANLteoA9VooooAKKKKACiiigDyr4yf8AJRfgT/2Odz/6j2s16rXlXxk/5KL8Cf8Asc7n/wBR7Wa9VoAKKKKACiiigAryX9p//kmOm/8AY4eFP/Uh0+vWq8l/af8A+SY6b/2OHhT/ANSHT6AO3ooooAKKKKACiiigArhPgV/yPPxy/wCxzt//AFH9Hru64T4Ff8jz8cv+xzt//Uf0egD16iiigAooooAK8q/ax/5NZ+Mn/Ymaz/6QzV6rXlX7WP8Ayaz8ZP8AsTNZ/wDSGagD1WiiigAooooAKKKKAPKvDn/J03xD/wCxM8M/+l2vV6rXlXhz/k6b4h/9iZ4Z/wDS7Xq9VoAKKKKACiiigArwv9lf/k2H4Qf9ifo//pFDXuleF/sr/wDJsPwg/wCxP0f/ANIoaAPUaKKKACiiigAooooAKKKKAPLv2qP+TYfi/wD9ifrH/pFNXuleF/tUf8mw/F//ALE/WP8A0imr3SgAooooAKKKKACvKvEf/J03w8/7EzxN/wCl2g16rXlXiP8A5Om+Hn/YmeJv/S7QaAPVaKKKACiiigAooooA8q/ZO/5NZ+Df/YmaN/6Qw16rXlX7J3/JrPwb/wCxM0b/ANIYa9VoAKKKKACiiigDyH46/wDI8/A3/sc7j/1H9Yru64T46/8AI8/A3/sc7j/1H9Yru6ACiiigAooooAKKKKAOE+BX/I8/HL/sc7f/ANR/R69eryH4Ff8AI8/HL/sc7f8A9R/R69eoAKKKKACiiigDyr9rH/k1n4yf9iZrP/pDNXqteVftY/8AJrPxk/7EzWf/AEhmr1WgAooooAKKKKACvKvDn/J03xD/AOxM8M/+l2vV6rXlXhz/AJOm+If/AGJnhn/0u16gD1WiiigAooooAKKKKAPC/wBlf/k2H4Qf9ifo/wD6RQ16jXl37K//ACbD8IP+xP0f/wBIoa9RoAKKKKAPMP2hPhLovxY8G2Y1zxjr3gK28PXh1xPEHh3VE025tNltPFIzXDKwSPyp5dx446nGc/O/7PHhX4U6p8b4p9M/aK8ZfETXPC2qSx6RoviLx5a6tbakz6WDJdQW6oGcJHeXEe9D8rQy5OAwr6o+Iniyz0FvDei3emR6v/wleqjQktbhlELK1vPPMZNwIKiC3mO3HznavG7I4PS/hz4C+CfxU02fTfCekwX3jjWpltL2Czgik024j0pf3MAWMFYXhsLh2O4YdzwfM4APa687vP8Ak6bwF/2JniT/ANLtCr0SvO7z/k6bwF/2JniT/wBLtCoA9nooooAKKKKACiiigDyr9k7/AJNZ+Df/AGJmjf8ApDDXqteVfsnf8ms/Bv8A7EzRv/SGGvVaACiiigAooooA8q+Mn/JRfgT/ANjnc/8AqPazXqteVfGT/kovwJ/7HO5/9R7Wa9VoAKKKKACiiigAryr9mn/knWr/APY5+LP/AFIdRr1WvKv2af8AknWr/wDY5+LP/Uh1GgD1WiiigAooooA+Sf2a/gX4e1f9nP4V38+seOIprrwppU7paePdctoVZrOJiEijvFSNcnhEUKowAAABXo//AAz14Z/6DfxA/wDDi+IP/k6ov2V/+TYfhB/2J+j/APpFDXqNAHmf/DPXhn/oN/ED/wAOL4g/+TqP+GevDP8A0G/iB/4cXxB/8nV6ZVHXdYh8P6HqGqXCyPb2NvJcyLEAXKopYgAkDOB3IoA4H/hnrwz/ANBv4gf+HF8Qf/J1H/DPXhn/AKDfxA/8OL4g/wDk6u28I+JLbxn4U0XxBZRzRWerWUN/BHcACRY5Y1dQwBIDYYZwSM9zWtQB5n/wz14Z/wCg38QP/Di+IP8A5Oo/4Z68M/8AQb+IH/hxfEH/AMnV6ZRQB8+fBv4AeGdU8afGSOfVvHAFn4tgt42h8fa7EzKdD0qTMjJeAytmRhvcswUKudqKo9R/4Zp8I/8AQX+IH/hx/EP/AMnVW+BX/I8/HL/sc7f/ANR/R69eoA8q/wCGafCP/QX+IH/hx/EP/wAnUf8ADNPhH/oL/ED/AMOP4h/+Tq9VooA8q/4Zp8I/9Bf4gf8Ahx/EP/ydR/wzT4R/6C/xA/8ADj+If/k6vVaKAPKv+GafCP8A0F/iB/4cfxD/APJ1eaaB+z34Xl/aS8dae2q+OBbweEvD1wjr4+11Zi0l5rSsGlF7vdQIl2ozFVJcqAXct9QV5V4c/wCTpviH/wBiZ4Z/9LteoAP+GafCP/QX+IH/AIcfxD/8nUf8M0+Ef+gv8QP/AA4/iH/5Or1WigDyr/hmnwj/ANBf4gf+HH8Q/wDydR/wzT4R/wCgv8QP/Dj+If8A5Or1WigDyr/hmnwj/wBBf4gf+HH8Q/8AydR/wzT4R/6C/wAQP/Dj+If/AJOr1WigD5f+LH7Pfhex8efBiCLVfHDJe+Lbi3lM3j7XZWVRoWrSZjZ70mJt0ajehVipZM7XZT6X/wAM0+Ef+gv8QP8Aw4/iH/5Oo+Mn/JRfgT/2Odz/AOo9rNeq0AeVf8M0+Ef+gv8AED/w4/iH/wCTqP8Ahmnwj/0F/iB/4cfxD/8AJ1eq0UAeVf8ADNPhH/oL/ED/AMOP4h/+TqP+GafCP/QX+IH/AIcfxD/8nV6rRQB5V/wzT4R/6C/xA/8ADj+If/k6vO/jt8D/AA74P8H6Hq9hqXjC4u7fxh4X2R6p411nULc7tesFO+C4u5In4Y43KcHBGCAR9M15L+0//wAkx03/ALHDwp/6kOn0AdvRRRQAUUUUAFFFFABXCfAr/kefjl/2Odv/AOo/o9d3XCfAr/kefjl/2Odv/wCo/o9AHr1FFFABRRRQAV5V+1j/AMms/GT/ALEzWf8A0hmr1WvKv2sf+TWfjJ/2Jms/+kM1AHqtFFFABRRRQAUUUUAeVeHP+TpviH/2Jnhn/wBLter1WvKvDn/J03xD/wCxM8M/+l2vV6rQAUUUUAFFFFABXhf7K/8AybD8IP8AsT9H/wDSKGvdK8L/AGV/+TYfhB/2J+j/APpFDQB6jRRRQAUUUUAFFFFABRRRQB5d+1R/ybD8X/8AsT9Y/wDSKavdK8L/AGqP+TYfi/8A9ifrH/pFNXulABRRRQAUUUUAFeVeI/8Ak6b4ef8AYmeJv/S7Qa9VryrxH/ydN8PP+xM8Tf8ApdoNAHqtFFFABRRRQAUUUUAeVfsnf8ms/Bv/ALEzRv8A0hhr1WvKv2Tv+TWfg3/2Jmjf+kMNeq0AFFFFABRRRQB5D8df+R5+Bv8A2Odx/wCo/rFd3XCfHX/kefgb/wBjncf+o/rFd3QAUUUUAFFFFABRRRQBwnwK/wCR5+OX/Y52/wD6j+j169XkPwK/5Hn45f8AY52//qP6PXr1ABRRRQAUUUUAeVftY/8AJrPxk/7EzWf/AEhmr1WvKv2sf+TWfjJ/2Jms/wDpDNXqtABRRRQAUUUUAFeVeHP+TpviH/2Jnhn/ANLter1WvKvDn/J03xD/AOxM8M/+l2vUAeq0UUUAFFFFABRRRQB4X+yv/wAmw/CD/sT9H/8ASKGvUa8u/ZX/AOTYfhB/2J+j/wDpFDXqNABRRRQBwXxy8A+FPiJ8NdVsfGV5NpOiWa/2m2sW14bObTGgBkF1HOP9U0YBO7pjIOQSK+Yv2UY/g5N8aNUa1+MuufFLxppl1Lpvh6TxZ4rXVHkt3sobieeyiAGOHliZhuP+jydBkV9MfHD4raf8JfCEF5e+HtV8XXGq3a6VZaBotqtzdX8rxyO0aoxAIEUUrtk42o3XpXhX7O/xU8L6t8VLu60z4R634T0rxnqsx0zxFq9rawgalbWCQXNgkKKJLfYmn3Gclg0kc+DggAA+t687vP8Ak6bwF/2JniT/ANLtCr0SvO7z/k6bwF/2JniT/wBLtCoA9nooooAKKKKACiiigDyr9k7/AJNZ+Df/AGJmjf8ApDDXqteVfsnf8ms/Bv8A7EzRv/SGGvVaACiiigAooooA8q+Mn/JRfgT/ANjnc/8AqPazXqteVfGT/kovwJ/7HO5/9R7Wa9VoAKKKKACiiigAryr9mn/knWr/APY5+LP/AFIdRr1WvKv2af8AknWr/wDY5+LP/Uh1GgD1WvGPhT4g8ZS/Gz4o+GfEviSHXbfTbHSL2xjt9NjtLe0NwbwOsahmkKkQRE+ZK53BypRWCL7PXlPhP4D3PhT4laz41/4WR4t1W+1iGK3vbK+i0oW0scSzC3XEVijr5RncqVcEnG/eBigDnvh9qXjTQ/j/AC+D7/x1d/EDS4vDZ1DXJLvTrS1TSNQaeIWscBt4kKpNGbtvJmaV1WCNjJ82X93ryX4O/s/SfBqeQWXxE8Wa/YTzzXd1Y63Hpbi8uJfvTzzxWUdxLJwvzNKeFVeVUAetUAeF/sr/APJsPwg/7E/R/wD0ihr1Gvmz9mv48eF9H/Zz+FdhcWPjJ7i18KaVBI1r4E124iLLZxKSksdkySLkcOjFWGCCQQa9H/4aJ8I/9A/xz/4bvxD/APIFAHplYfjrTbnWfBHiHT7OPzru6064ghj3BdztEyqMkgDJI68Vx/8Aw0T4R/6B/jn/AMN34h/+QKP+GifCP/QP8c/+G78Q/wDyBQBF+z/qHiK18A+HfDXiDwJrnhO50TRrOzkutTudPmguJI4ljYRfZrqZsZUnLqvBHfivUa8z/wCGifCP/QP8c/8Ahu/EP/yBR/w0T4R/6B/jn/w3fiH/AOQKAPTKK8z/AOGifCP/AED/ABz/AOG78Q//ACBR/wANE+Ef+gf45/8ADd+If/kCgDR+BX/I8/HL/sc7f/1H9Hr16vln4N/tAeF9M8afGSWXTPG0qXni2CeL7P4C12ZlUaHpUeJFSyJibdGx2OFYqVbG11Y+o/8ADS3hH/oEfED/AMNx4h/+QaAPVaK8q/4aW8I/9Aj4gf8AhuPEP/yDR/w0t4R/6BHxA/8ADceIf/kGgD1WivKv+GlvCP8A0CPiB/4bjxD/APINH/DS3hH/AKBHxA/8Nx4h/wDkGgD1WvKvDn/J03xD/wCxM8M/+l2vUf8ADS3hH/oEfED/AMNx4h/+Qa800D9oPwvF+0l461BtK8cG3n8JeHoERfAOutMGjvNaZi0Qst6KRKu12UKxDhSSjhQD6goryr/hpbwj/wBAj4gf+G48Q/8AyDR/w0t4R/6BHxA/8Nx4h/8AkGgD1WivKv8Ahpbwj/0CPiB/4bjxD/8AINH/AA0t4R/6BHxA/wDDceIf/kGgD1WivKv+GlvCP/QI+IH/AIbjxD/8g0f8NLeEf+gR8QP/AA3HiH/5BoAPjJ/yUX4E/wDY53P/AKj2s16rXy/8WP2g/C9948+DE8WleOFSy8W3E8om8A67EzKdC1aPEavZAytukU7EDMFDPjajMPS/+GlvCP8A0CPiB/4bjxD/APINAHqtFeVf8NLeEf8AoEfED/w3HiH/AOQaP+GlvCP/AECPiB/4bjxD/wDINAHqtFeVf8NLeEf+gR8QP/DceIf/AJBo/wCGlvCP/QI+IH/huPEP/wAg0Aeq15L+0/8A8kx03/scPCn/AKkOn1L/AMNLeEf+gR8QP/DceIf/AJBrzH9or9oLwvrHw9063g0vxvE6+K/DM5a68A67bptj12xkYbpLJQWKoQqA7nYqqhmZVIB9AUV5n/w0T4R/6B/jn/w3fiH/AOQKP+GifCP/AED/ABz/AOG78Q//ACBQB57+0l+0Br3wZ+KHg3TdMEd1a65o9/DFaXaCOyGoNe6db2k93cBS0ECG6k3NkBtwUBnaMVs/E74zXvwB8LeEdL1a71jxf4juNQ0y1v8AVl8K3k0E8U94kU7KbOExRyhS/lw7jJxGMSFsvR8YeKfhd498VWmt67o/jzURBo1/oT6bN8O9fa0uLa7eBphIh07JP+jIBhgAGbIPBD9J8ZfDqz8D+H/C2pQfErxHZaHcW1zZ3WreBfETXPmW0wlti8kdgm8xlEALAlgg37yWJAOo0b4lXviL46aRpVlNeQ+Gb3wjPqosdQ02Szn89byKJXeOaNJoztZhtYAc5x0NesV83eN/E3hPxZ44svFum+I/i34P1q206TSjJovw41KRJYHlWUhlu9GnGdyLyuOlegWv7QnhS3toopLXx7cuiBWml+HXiAPIQMFjt08Lk9eAB6AUAeo1wnwK/wCR5+OX/Y52/wD6j+j1nf8ADRPhH/oH+Of/AA3fiH/5AriPg3+0B4X0zxp8ZJZdM8bSpeeLYJ4vs/gLXZmVRoelR4kVLImJt0bHY4VipVsbXViAfU1FeVf8NLeEf+gR8QP/AA3HiH/5Bo/4aW8I/wDQI+IH/huPEP8A8g0Aeq0V5V/w0t4R/wCgR8QP/DceIf8A5Bo/4aW8I/8AQI+IH/huPEP/AMg0Aeq15V+1j/yaz8ZP+xM1n/0hmo/4aW8I/wDQI+IH/huPEP8A8g15p+01+0H4X1r9m34r6fb6V44juLvwlq0Eb3fgHXbaFWazlUF5ZLJUjXJ5d2CqMkkAE0AfUFFeVf8ADS3hH/oEfED/AMNx4h/+QaP+GlvCP/QI+IH/AIbjxD/8g0Aeq0V5V/w0t4R/6BHxA/8ADceIf/kGj/hpbwj/ANAj4gf+G48Q/wDyDQB6rRXlX/DS3hH/AKBHxA/8Nx4h/wDkGj/hpbwj/wBAj4gf+G48Q/8AyDQAeHP+TpviH/2Jnhn/ANLter1Wvl/QP2g/C8X7SXjrUG0rxwbefwl4egRF8A660waO81pmLRCy3opEq7XZQrEOFJKOF9L/AOGlvCP/AECPiB/4bjxD/wDINAHqtFeVf8NLeEf+gR8QP/DceIf/AJBo/wCGlvCP/QI+IH/huPEP/wAg0Aeq0V5V/wANLeEf+gR8QP8Aw3HiH/5Bo/4aW8I/9Aj4gf8AhuPEP/yDQB6rXhf7K/8AybD8IP8AsT9H/wDSKGt//hpbwj/0CPiB/wCG48Q//INePfs1/Hjwvo/7OfwrsLix8ZPcWvhTSoJGtfAmu3ERZbOJSUljsmSRcjh0YqwwQSCDQB9J15B+19rmpeGf2YfiZquj6hdaVqlpodxLbXtjM0M0LheGR1IZSPUHNaf/AA0T4R/6B/jn/wAN34h/+QKxPG3xV+HHxG8Jat4Y8Q6H451DQ9Vt2tby1/4QDxJF5sTDDLuSyVl+oINAHTeE/G0Xh34K+E9e1r+1tSMmkWLTvYaddapdSyPCmWMVvHJK5JOS209yTXGfsj/tFT/tC/DGw1fVtPubHxAz3huRBol9aafsjvJoY/KnnUxyPsRNypIxVt4IXBUbmj/HLwN4f0ix0uw0nxzBY2UEdtbxf8K98RtsjRQqrk2JJwABkkmsj4e/Eb4Y/CvwlZ+GfC3h/wAc6Xodo80kNr/wgPiWbY0szzSHdJZMxzJI7cnjOBgACgDy/wCPGqeIPh98fvhrq8OpeM/DOi3ni6Gz1LxDq2sG50PUYZ4WWLTodOt5nWMsT5azS20W1o97SMxDn6/r5pul+CN94xsPE114V+IN1f2GpNrNnaXHg/xbJp1tfNvLXUdg1qbZJi0kknmLEG8x2kzvJaq8Ol/AW317+2Y/BXjldS/t+48Ued/whXis/wDEynjEcs+37Lj5kAGzGwdlBoA+nqK8N+G/xB+F3wi8E6Z4R8JeHvHOk+HtNV1tbP8A4QLxNN5YeRpG+eSyZzlnY8k9fSum/wCGifCP/QP8c/8Ahu/EP/yBQBF+1R/ybD8X/wDsT9Y/9Ipq90r5J/aU+PHhfWP2c/ipYW9j4yS4uvCmqwRtdeBNdt4gzWcqgvLJZKka5PLuwVRkkgAmvYf+GlvCP/QI+IH/AIbjxD/8g0Aeq0V5V/w0t4R/6BHxA/8ADceIf/kGj/hpbwj/ANAj4gf+G48Q/wDyDQB6rRXlX/DS3hH/AKBHxA/8Nx4h/wDkGj/hpbwj/wBAj4gf+G48Q/8AyDQB6rXlXiP/AJOm+Hn/AGJnib/0u0Gj/hpbwj/0CPiB/wCG48Q//INeaa/+0H4Xl/aS8C6guleOBbweEvEMDo3gHXVmLSXmispWI2W91Aibc6qVUlAxBdAwB9QUV5V/w0t4R/6BHxA/8Nx4h/8AkGj/AIaW8I/9Aj4gf+G48Q//ACDQB6rRXlX/AA0t4R/6BHxA/wDDceIf/kGj/hpbwj/0CPiB/wCG48Q//INAHqtFeVf8NLeEf+gR8QP/AA3HiH/5Bo/4aW8I/wDQI+IH/huPEP8A8g0AH7J3/JrPwb/7EzRv/SGGvVa+X/2Zf2g/C+i/s2/CjT7jSvHElxaeEtJgke08A67cwsy2cSkpLHZMki5HDoxVhggkEGvS/wDhpbwj/wBAj4gf+G48Q/8AyDQB6rRXlX/DS3hH/oEfED/w3HiH/wCQaP8Ahpbwj/0CPiB/4bjxD/8AINAHqtFeVf8ADS3hH/oEfED/AMNx4h/+QaP+GlvCP/QI+IH/AIbjxD/8g0AVvjr/AMjz8Df+xzuP/Uf1iu7rw/4gfF7QvH3xO+CWn6ZYeKLW4j8W3M7PrfhPVdKhKjQNXUgS3dtEjNlh8gYsQCQMKSPcKACiiigAooooAKKKKAOE+BX/ACPPxy/7HO3/APUf0evXq8h+BX/I8/HL/sc7f/1H9Hr16gAooooAKKKKAPKv2sf+TWfjJ/2Jms/+kM1eq15V+1j/AMms/GT/ALEzWf8A0hmr1WgAooooAKKKKACvKvDn/J03xD/7Ezwz/wCl2vV6rXlXhz/k6b4h/wDYmeGf/S7XqAPVaKKKACiiigAooooA8L/ZX/5Nh+EH/Yn6P/6RQ16jXl37K/8AybD8IP8AsT9H/wDSKGvUaACiiigDzD9oT4S6L8WPBtmNc8Y694CtvD14dcTxB4d1RNNubTZbTxSM1wysEj8qeXceOOpxnPzb+zN4A+DkXxnX/hHPj94q8bar4Z1q6k0rQNa8cWepWepz3Gnma5vobZEDSH/T7sNIpz5iTlifmr6z+KXxA8F/Dfwfd6n4+1jS9G8OTA2kras6iK4Lq2YQhz5hZQ/yAEkBuMA180fs8+Pfh54i+PWqQfDD4RahJY6hcJrV74wv9Gg0m30m3ksPs0BskdFnkimexdcBV+eWZskAigD7Frzu8/5Om8Bf9iZ4k/8AS7Qq9Erzu8/5Om8Bf9iZ4k/9LtCoA9nooooAKKKKACiiigDyr9k7/k1n4N/9iZo3/pDDXqteVfsnf8ms/Bv/ALEzRv8A0hhr1WgAooooAKKKKAPKvjJ/yUX4E/8AY53P/qPazXqteVfGT/kovwJ/7HO5/wDUe1mvVaACiiigAooooAK8q/Zp/wCSdav/ANjn4s/9SHUa9Vryr9mn/knWr/8AY5+LP/Uh1GgD1WiisnTPFmh61rWraPp+s6ff6tpDRrqVha3SST2RkXdGJo1JaMso3LuAyORQBrUVy3hP4qeCvH2pajp3hjxhoPiPUNNO2+tNJ1OC6ltTuK4lSNiU5Uj5gOQR2rqaAPC/2V/+TYfhB/2J+j/+kUNeo15d+yv/AMmw/CD/ALE/R/8A0ihr1GgAoor48/bm+NvxQ+F/xA+G2mfDjVRaLc6dretahp32KCf+0o7CGG5MGZEZk3RrMoMZDZk7kAUAfYdFfDvxc/ay8Wa98Zvhp/wrXxAtp8PJNd8MaZrDraQSnUZNWdpxDukRymy0jQkxsrA3PJ4WvuKgAooooA4T4Ff8jz8cv+xzt/8A1H9Hr16vIfgV/wAjz8cv+xzt/wD1H9Hr16gAooooAKKKKACvKvDn/J03xD/7Ezwz/wCl2vV6rXlXhz/k6b4h/wDYmeGf/S7XqAPVaKKKACiiigAooooA8q+Mn/JRfgT/ANjnc/8AqPazXqteVfGT/kovwJ/7HO5/9R7Wa9VoAKKKKACiiigAryX9p/8A5Jjpv/Y4eFP/AFIdPr1qvJf2n/8AkmOm/wDY4eFP/Uh0+gDt6KKKACiiigAooooAK4T4Ff8AI8/HL/sc7f8A9R/R67uuE+BX/I8/HL/sc7f/ANR/R6APXqKKKACiiigAryr9rH/k1n4yf9iZrP8A6QzV6rXlX7WP/JrPxk/7EzWf/SGagD1WiiigAooooAKKKKAPKvDn/J03xD/7Ezwz/wCl2vV6rXlXhz/k6b4h/wDYmeGf/S7Xq9VoAKKKKACiiigArwv9lf8A5Nh+EH/Yn6P/AOkUNe6V4X+yv/ybD8IP+xP0f/0ihoA9RooooAKKKKACiiigAooooA8u/ao/5Nh+L/8A2J+sf+kU1e6V4X+1R/ybD8X/APsT9Y/9Ipq90oAKKKKACiiigAryrxH/AMnTfDz/ALEzxN/6XaDXqteVeI/+Tpvh5/2Jnib/ANLtBoA9VooooAKKKKACiiigDyr9k7/k1n4N/wDYmaN/6Qw16rXlX7J3/JrPwb/7EzRv/SGGvVaACiiigAooooA8h+Ov/I8/A3/sc7j/ANR/WK7uuE+Ov/I8/A3/ALHO4/8AUf1iu7oAKKKKACiiigAooooA4T4Ff8jz8cv+xzt//Uf0evXq8h+BX/I8/HL/ALHO3/8AUf0evXqACiiigAooooA8q/ax/wCTWfjJ/wBiZrP/AKQzV6rXlX7WP/JrPxk/7EzWf/SGavVaACiiigAooooAK8q8Of8AJ03xD/7Ezwz/AOl2vV6rXlXhz/k6b4h/9iZ4Z/8AS7XqAPVaKKKACiiigAooooA8L/ZX/wCTYfhB/wBifo//AKRQ16jXl37K/wDybD8IP+xP0f8A9Ioa9RoAKKKKAOI+Lnwd8NfGzw3baN4mhu2is7yPUbK60+8ltLmzukVlSeKWNgyuodwOo+Y8V5r8NvgD8Qfhd8Ym8Qx/E+bxt4W1Gyh0zUrXxVZK+qR29uLuS2EN1DsVyJrtixkjyVZuchcfQNFABXnd5/ydN4C/7EzxJ/6XaFXoled3n/J03gL/ALEzxJ/6XaFQB7PRRRQAUUUUAFFFFAHlX7J3/JrPwb/7EzRv/SGGvVa8q/ZO/wCTWfg3/wBiZo3/AKQw16rQAUUUUAFFFFAHlXxk/wCSi/An/sc7n/1HtZr1WvKvjJ/yUX4E/wDY53P/AKj2s16rQAUUUUAFFFFABXlX7NP/ACTrV/8Asc/Fn/qQ6jXqteVfs0/8k61f/sc/Fn/qQ6jQB6rXyt8EviF8LLX9pr4q6D4V8QeEzb3GkaQllo+g3Vs/nyRHUpbtIYISS7qXLSKikgvlhk19U0UAfJHwg8YaF4q/aU8NXfh3xL4T8e6dD4VvdNsT4FtTZQeGbHzraSO3vYRLPl5PLiRAzwbPs8gWE5Yp9b0UUAeF/sr/APJsPwg/7E/R/wD0ihr1Gvmz9mvX/ivD+zn8K49O8C+DbzT18KaUttcXXjS7glliFnFsd410lwjEYJUO4BJG5sZPo/8Awknxk/6J54G/8Ly8/wDlNQB6ZXn/AIx+CegeOPil4K8d6lNeHVPCkF/b2dojR/ZZ0vIhFMJkZCzYUcYZepznpVP/AIST4yf9E88Df+F5ef8Aymo/4ST4yf8ARPPA3/heXn/ymoA4LwX+wn8OfAPgXw94U0a51yDTdE8ZW/jeCR7mJ5pb6HAjjkYxcwhQq7QA2FHzZyT9E15n/wAJJ8ZP+ieeBv8AwvLz/wCU1H/CSfGT/onngb/wvLz/AOU1AHplFeZ/8JJ8ZP8Aonngb/wvLz/5TUf8JJ8ZP+ieeBv/AAvLz/5TUAaPwK/5Hn45f9jnb/8AqP6PXr1fLPwb1/4vR+NPjI1h4F8Ezyv4tga7juPGl5GsMv8AYelAJGw0lvMXyxG24hDuZl2kKHf1H/hJPjf/ANE8+H//AIXl9/8AKagD1WivKv8AhJPjf/0Tz4f/APheX3/ymo/4ST43/wDRPPh//wCF5ff/ACmoA9Voryr/AIST43/9E8+H/wD4Xl9/8pqP+Ek+N/8A0Tz4f/8AheX3/wApqAPVa8q8Of8AJ03xD/7Ezwz/AOl2vUf8JJ8b/wDonnw//wDC8vv/AJTV5poGv/GEftJeOpI/AvgdtSbwl4eWe3bxpeCFIhea15brJ/ZJLMzGUMpRQoRCGfeQgB9QUV5V/wAJJ8b/APonnw//APC8vv8A5TUf8JJ8b/8Aonnw/wD/AAvL7/5TUAeq0V5V/wAJJ8b/APonnw//APC8vv8A5TUf8JJ8b/8Aonnw/wD/AAvL7/5TUAeq0V5V/wAJJ8b/APonnw//APC8vv8A5TUf8JJ8b/8Aonnw/wD/AAvL7/5TUAHxk/5KL8Cf+xzuf/Ue1mvVa+X/AIsa/wDGGTx58GGu/AvgeC4TxbcNZxw+NLyRZpf7C1YFJGOkqY18syNuAc7lVdoDF09L/wCEk+N//RPPh/8A+F5ff/KagD1WivKv+Ek+N/8A0Tz4f/8AheX3/wApqP8AhJPjf/0Tz4f/APheX3/ymoA9Voryr/hJPjf/ANE8+H//AIXl9/8AKaj/AIST43/9E8+H/wD4Xl9/8pqAPVa8l/af/wCSY6b/ANjh4U/9SHT6l/4ST43/APRPPh//AOF5ff8Aymrzv47a18U7zwfocXiTwb4P0rRW8YeF/PvNL8W3V9cR/wDE+sCuyF9MhV8ttBzIuASeSNpAPdqKKKACiiigAooooAK4T4Ff8jz8cv8Asc7f/wBR/R67uuE+BX/I8/HL/sc7f/1H9HoA9eooooAKKKKACvKv2sf+TWfjJ/2Jms/+kM1eq15V+1j/AMms/GT/ALEzWf8A0hmoA9VooooAKKKKACiiigDyrw5/ydN8Q/8AsTPDP/pdr1eq15V4c/5Om+If/YmeGf8A0u16vVaACiiigAooooAK8L/ZX/5Nh+EH/Yn6P/6RQ17pXhf7K/8AybD8IP8AsT9H/wDSKGgD1GiiigAooooAKKKKACiiigDy79qj/k2H4v8A/Yn6x/6RTV7pXhf7VH/JsPxf/wCxP1j/ANIpq90oAKKKKACiiigAryrxH/ydN8PP+xM8Tf8ApdoNeq15V4j/AOTpvh5/2Jnib/0u0GgD1WiiigAooooAKKKKAPKv2Tv+TWfg3/2Jmjf+kMNeq15V+yd/yaz8G/8AsTNG/wDSGGvVaACiiigAooooA8h+Ov8AyPPwN/7HO4/9R/WK7uuE+Ov/ACPPwN/7HO4/9R/WK7ugAooooAKKKKACiiigDhPgV/yPPxy/7HO3/wDUf0evXq8h+BX/ACPPxy/7HO3/APUf0evXqACiiigAooooA8q/ax/5NZ+Mn/Ymaz/6QzV6rXlX7WP/ACaz8ZP+xM1n/wBIZq9VoAKKKKACiiigAryrw5/ydN8Q/wDsTPDP/pdr1eq15V4c/wCTpviH/wBiZ4Z/9LteoA9VooooAKKKKACiiigDwv8AZX/5Nh+EH/Yn6P8A+kUNeo15d+yv/wAmw/CD/sT9H/8ASKGvUaACiiigAooooAK87vP+TpvAX/YmeJP/AEu0KvRK87vP+TpvAX/YmeJP/S7QqAPZ6KKKACiiigAooooA8q/ZO/5NZ+Df/YmaN/6Qw16rXlX7J3/JrPwb/wCxM0b/ANIYa9VoAKKKKACiiigDyr4yf8lF+BP/AGOdz/6j2s16rXlXxk/5KL8Cf+xzuf8A1HtZr1WgAooooAKKKKACvKv2af8AknWr/wDY5+LP/Uh1GvVa8q/Zp/5J1q//AGOfiz/1IdRoA9VoorgPh/8AGbSviN4w8VeHbHSdc0268PpayyzaxYm0W5juDMEeKNyJQA1vKD5scZOAyhkZWIB39FedaD8dfD3iT4y618NrC31CbVtIsTe3GoeSosSQ0avAkm/c0iedHuAXaN2N25WUei0AeF/sr/8AJsPwg/7E/R//AEihr1GvLv2V/wDk2H4Qf9ifo/8A6RQ16jQAUUV4P+2v4dsfF/wNTQtUi8/TNU8S+H7G6iDFd8Umr2iOuR0yrEUAe8UV8ifCrxRrE37Ung7wT4sunvfGXg3wrrunXt7ICG1K2a40prS/Hr50X3+wmjnX+GvrugAooooA4T4Ff8jz8cv+xzt//Uf0evXq8h+BX/I8/HL/ALHO3/8AUf0evXqACiiigAooooAK8q8Of8nTfEP/ALEzwz/6Xa9XqteVeHP+TpviH/2Jnhn/ANLteoA9VooooAKKKKACiiigDyr4yf8AJRfgT/2Odz/6j2s16rXlXxk/5KL8Cf8Asc7n/wBR7Wa9VoAKKKKACiiigAryX9p//kmOm/8AY4eFP/Uh0+vWq8l/af8A+SY6b/2OHhT/ANSHT6AO3oorG8aeKrPwL4P13xLqKzPp+jWE+o3K26hpDHDG0jhQSAWwpwCRz3oA2aK8J8D/ALZXgLx38CfEfxWgg1jTNB0EMb2x1G3jS+B8qOWJVjWRlJlWaLy/nw3mDkc46v4XftBeFfih8Jz8RA0/hXw7HLcw3MniV4LU2pgmaKQysJGjUblPO/0oA9Lorxv48/tWeCf2dL/wVB4rXUXtvFV01vb39hFHJb2iIYg89wzSKViUTKxZQxwDx69h4Z+LGkeKvib428DWlvex6t4Si0+a+mmRBBILyOR4vKYOWJAibduVcEjGewB2lcJ8Cv8Akefjl/2Odv8A+o/o9d3XCfAr/kefjl/2Odv/AOo/o9AHr1FFFABRRRQAV5V+1j/yaz8ZP+xM1n/0hmr1WvKv2sf+TWfjJ/2Jms/+kM1AHqtFFFABRRRQAUUUUAeVeHP+TpviH/2Jnhn/ANLter1WvKvDn/J03xD/AOxM8M/+l2vV6rQAUUUUAFFFFABXhf7K/wDybD8IP+xP0f8A9Ioa90rwv9lf/k2H4Qf9ifo//pFDQB6jRRRQAUUUUAFFFFABRRRQB5d+1R/ybD8X/wDsT9Y/9Ipq90rwv9qj/k2H4v8A/Yn6x/6RTV7pQAUUUUAFFFFABXlXiP8A5Om+Hn/YmeJv/S7Qa9VryrxH/wAnTfDz/sTPE3/pdoNAHqtFFFABRRRQAUUUUAeVfsnf8ms/Bv8A7EzRv/SGGvVa8q/ZO/5NZ+Df/YmaN/6Qw16rQAUUUUAFFFFAHkPx1/5Hn4G/9jncf+o/rFd3XCfHX/kefgb/ANjncf8AqP6xXd0AFFFFABRRRQAUUUUAcJ8Cv+R5+OX/AGOdv/6j+j169XkPwK/5Hn45f9jnb/8AqP6PXr1ABRRRQAUUUUAeVftY/wDJrPxk/wCxM1n/ANIZq9Vryr9rH/k1n4yf9iZrP/pDNXqtABRRRQAUUUUAFeVeHP8Ak6b4h/8AYmeGf/S7Xq9Vryrw5/ydN8Q/+xM8M/8Apdr1AHqtFFFABRRRQAUUUUAeF/sr/wDJsPwg/wCxP0f/ANIoa9Rry79lf/k2H4Qf9ifo/wD6RQ16jQAUUUUAFFFFABXnd5/ydN4C/wCxM8Sf+l2hV6JXnd5/ydN4C/7EzxJ/6XaFQB7PRRRQAUUUUAFFFFAHlX7J3/JrPwb/AOxM0b/0hhr1WvKv2Tv+TWfg3/2Jmjf+kMNeq0AFFFFABRRRQB5V8ZP+Si/An/sc7n/1HtZr1WvKvjJ/yUX4E/8AY53P/qPazXqtABRRRQAUUUUAFeVfs0/8k61f/sc/Fn/qQ6jXqteVfs0/8k61f/sc/Fn/AKkOo0Aeq188eD4vHt58dfiVqjeAvEHhGw8TaTYafpviHUJtKuobOe0S9/fSwRXzyMrNPFsUKSeQ+wc19D0UAfLvwd/Z++JHwr+M3hea513w7q3hDS/C91ptxf2mhTWs91NLdrO+8vqErG4ll3TvOVKsTINoZww+oqKKAPC/2V/+TYfhB/2J+j/+kUNeo182fs1/DPxRf/s5/Cu6t/jD4y0y3m8KaVJHY2thoTRW6mziIjQyaa7lVBwC7s2AMsTk16P/AMKn8Xf9Fv8AHP8A4LvD3/yqoA9Mqlq2i6dr1qltqdha6jbpNFcLDdwrKiyxuskcgDAgMjqrK3UMoI5FcB/wqfxd/wBFv8c/+C7w9/8AKqj/AIVP4u/6Lf45/wDBd4e/+VVAHdnw3pDeIl186XZHXltTYrqn2dPtQty4cwiXG7yy4DbM4yAcZrRrzP8A4VP4u/6Lf45/8F3h7/5VUf8ACp/F3/Rb/HP/AILvD3/yqoA9MorzP/hU/i7/AKLf45/8F3h7/wCVVH/Cp/F3/Rb/ABz/AOC7w9/8qqANH4Ff8jz8cv8Asc7f/wBR/R69er5Z+Dfwr8UX3jT4yJF8ZfG1i9v4tgillt7LQt1039h6U/mSB9MYBgrrHhAi7Y1O3cWZvUf+FN+Lv+i7fED/AMAfD3/yqoA9Voryr/hTfi7/AKLt8QP/AAB8Pf8Ayqo/4U34u/6Lt8QP/AHw9/8AKqgD1WivKv8AhTfi7/ou3xA/8AfD3/yqo/4U34u/6Lt8QP8AwB8Pf/KqgD1WvKvDn/J03xD/AOxM8M/+l2vUf8Kb8Xf9F2+IH/gD4e/+VVeaaB8J/FEn7SXjq0X4z+OI7iLwl4ele+Wz0Lzple81oLGwOmFAqFGZSqBsyvuZgECAH1BRXlX/AApvxd/0Xb4gf+APh7/5VUf8Kb8Xf9F2+IH/AIA+Hv8A5VUAeq0V5V/wpvxd/wBF2+IH/gD4e/8AlVR/wpvxd/0Xb4gf+APh7/5VUAeq0V5V/wAKb8Xf9F2+IH/gD4e/+VVH/Cm/F3/RdviB/wCAPh7/AOVVAB8ZP+Si/An/ALHO5/8AUe1mvVa+X/ix8J/FFr48+DEUvxn8cXj3Pi24iimms9CDWrDQtWfzI9mmKCxVGjw4ddsjfLuCsvpf/Cm/F3/RdviB/wCAPh7/AOVVAHqtFeVf8Kb8Xf8ARdviB/4A+Hv/AJVUf8Kb8Xf9F2+IH/gD4e/+VVAHqtFeVf8ACm/F3/RdviB/4A+Hv/lVR/wpvxd/0Xb4gf8AgD4e/wDlVQB6rXkv7T//ACTHTf8AscPCn/qQ6fUv/Cm/F3/RdviB/wCAPh7/AOVVeY/tFfCnxRp3w906af4zeN9TQ+K/DMYgurLQggZ9dsUWT93pincjMJFBO0sihlddykA+gK4v42eHdQ8XfBnx7oWk2/2vVdU0C/srS33qnmzSW0iIu5iFGWYDJIAzyax/+FT+Lv8Aot/jn/wXeHv/AJVUf8Kn8Xf9Fv8AHP8A4LvD3/yqoA+TvBP7IXxI0nxd8J9Mn02C0+H9/o3h+68e2jXULNHqmkQMII8CQ+YsjC3VjGGB8gZbAGdt/wBmD4mXX7EPiTwNHcapo3iqafWZE8NWdxprwaotxfPLCJppUfYNhBHlyxEbiGOcAfS3/Cp/F3/Rb/HP/gu8Pf8Ayqo/4VP4u/6Lf45/8F3h7/5VUAeNfET9mPxF418ffBG01651Px34S0238QWviW81eSwhktYLzS1t4oVW3jh3r5gO1lR3UncWwAQ39if4I/Ev4Q/ED4rP8QIVubKaDRtI0LXBcxSNqlpYpdRRyuiuzxuIng3BwMknGeTXs/8Awqfxd/0W/wAc/wDgu8Pf/Kqj/hU/i7/ot/jn/wAF3h7/AOVVAHplcJ8Cv+R5+OX/AGOdv/6j+j1nf8Kn8Xf9Fv8AHP8A4LvD3/yqriPg38K/FF940+MiRfGXxtYvb+LYIpZbey0LddN/YelP5kgfTGAYK6x4QIu2NTt3FmYA+pqK8q/4U34u/wCi7fED/wAAfD3/AMqqP+FN+Lv+i7fED/wB8Pf/ACqoA9Voryr/AIU34u/6Lt8QP/AHw9/8qqP+FN+Lv+i7fED/AMAfD3/yqoA9Vryr9rH/AJNZ+Mn/AGJms/8ApDNR/wAKb8Xf9F2+IH/gD4e/+VVeaftNfCfxRpv7NvxXu7j4z+ONUt7fwlq0sljd2ehLDcqtnKTG5j0xHCsBtJR1bBOGBwaAPqCivKv+FN+Lv+i7fED/AMAfD3/yqo/4U34u/wCi7fED/wAAfD3/AMqqAPVaK8q/4U34u/6Lt8QP/AHw9/8AKqj/AIU34u/6Lt8QP/AHw9/8qqAPVaK8q/4U34u/6Lt8QP8AwB8Pf/Kqj/hTfi7/AKLt8QP/AAB8Pf8AyqoAPDn/ACdN8Q/+xM8M/wDpdr1eq18v6B8J/FEn7SXjq0X4z+OI7iLwl4ele+Wz0Lzple81oLGwOmFAqFGZSqBsyvuZgECel/8ACm/F3/RdviB/4A+Hv/lVQB6rRXlX/Cm/F3/RdviB/wCAPh7/AOVVH/Cm/F3/AEXb4gf+APh7/wCVVAHqtFeVf8Kb8Xf9F2+IH/gD4e/+VVH/AApvxd/0Xb4gf+APh7/5VUAeq14X+yv/AMmw/CD/ALE/R/8A0ihrf/4U34u/6Lt8QP8AwB8Pf/KqsD9lf/k2H4Qf9ifo/wD6RQ0Aeo0UUUAFFFFABRRRQAUUUUAeXftUf8mw/F//ALE/WP8A0imr3SvC/wBqj/k2H4v/APYn6x/6RTV7pQAUUUUAFFFFABXlXiP/AJOm+Hn/AGJnib/0u0GvVa8q8R/8nTfDz/sTPE3/AKXaDQB6rRRRQAUUUUAFFFFAHlX7J3/JrPwb/wCxM0b/ANIYa9Vryr9k7/k1n4N/9iZo3/pDDXqtABRRRQAUUUUAeQ/HX/kefgb/ANjncf8AqP6xXd1wnx1/5Hn4G/8AY53H/qP6xXd0AFFFFABRRRQAUUUUAcJ8Cv8Akefjl/2Odv8A+o/o9evV5D8Cv+R5+OX/AGOdv/6j+j169QAUUUUAFFFFAHlX7WP/ACaz8ZP+xM1n/wBIZq9Vryr9rH/k1n4yf9iZrP8A6QzV6rQAUUUUAFFFFABXlXhz/k6b4h/9iZ4Z/wDS7Xq9Vryrw5/ydN8Q/wDsTPDP/pdr1AHqtFFFABRRRQAUUUUAeF/sr/8AJsPwg/7E/R//AEihr1GvLv2V/wDk2H4Qf9ifo/8A6RQ16jQAUUUUAFFFFABXnd5/ydN4C/7EzxJ/6XaFXoled3n/ACdN4C/7EzxJ/wCl2hUAez0UUUAFFFFABRRRQB5V+yd/yaz8G/8AsTNG/wDSGGvVa8q/ZO/5NZ+Df/YmaN/6Qw16rQAUUUUAFFFFAHlXxk/5KL8Cf+xzuf8A1HtZr1WvKvjJ/wAlF+BP/Y53P/qPazXqtABRRRQAUUUUAFeVfs0/8k61f/sc/Fn/AKkOo16rXlX7NP8AyTrV/wDsc/Fn/qQ6jQB6rRRXk/wv+InjDxB8WviH4V8VWeh2cWh2umXljHo7TSsiXJugVlmk2+af9GVgVij2+YVw+0OwB6xRXzj+zd8cvF3xB1iw07x9qum6J4iu9MkvW8HzeBtV0O8jZXQOYrq8uGjukj3AN5MfV0OVHB+jqAPC/wBlf/k2H4Qf9ifo/wD6RQ16jXl37K//ACbD8IP+xP0f/wBIoa9RoAKwfHXjzw98MfCeo+JvFWr2uh6Dp8fm3N9dvtRB0AHdmYkKqqCzMQACSBW9Xzv+3B4H8SeMPhv4T1Dw3pdzrzeFfF2meJdQ0axUPcX9lbM5liiQ/wCsf5lYJyW2YAJIBAPSPBfx48F+PPFlx4X06/vrPxLBaLqB0fXNHvdJu3tmdkE0cV3DE0ke5GUsgIBwCRkV6BXy3e2V/wDG79sD4YeM9A0LxBpnhfwNpOptqWra5o11pC3c15H5MVrHFdRxSylNrSsyoUXK/NuOK+pKACiiigDhPgV/yPPxy/7HO3/9R/R69eryH4Ff8jz8cv8Asc7f/wBR/R69eoAKKKKACiiigAryrw5/ydN8Q/8AsTPDP/pdr1eq15V4c/5Om+If/YmeGf8A0u16gD1WiiigAooooAKKKKAPKvjJ/wAlF+BP/Y53P/qPazXqteVfGT/kovwJ/wCxzuf/AFHtZr1WgAooooAKKKKACvJf2n/+SY6b/wBjh4U/9SHT69aryX9p/wD5Jjpv/Y4eFP8A1IdPoA7eiiigAooooAKKKKACuE+BX/I8/HL/ALHO3/8AUf0eu7rhPgV/yPPxy/7HO3/9R/R6APXqKKKACiiigAryr9rH/k1n4yf9iZrP/pDNXqteVftY/wDJrPxk/wCxM1n/ANIZqAPVaKKKACiiigAooooA8q8Of8nTfEP/ALEzwz/6Xa9XqteVeHP+TpviH/2Jnhn/ANLter1WgAooooAKKKKACvC/2V/+TYfhB/2J+j/+kUNe6V4X+yv/AMmw/CD/ALE/R/8A0ihoA9RooooAKKKKACiiigAooooA8u/ao/5Nh+L/AP2J+sf+kU1e6V4X+1R/ybD8X/8AsT9Y/wDSKavdKACiiigAooooAK8q8R/8nTfDz/sTPE3/AKXaDXqteVeI/wDk6b4ef9iZ4m/9LtBoA9VooooAKKKKACiiigDyr9k7/k1n4N/9iZo3/pDDXqteVfsnf8ms/Bv/ALEzRv8A0hhr1WgAooooAKKKKAPIfjr/AMjz8Df+xzuP/Uf1iu7rhPjr/wAjz8Df+xzuP/Uf1iu7oAKKKKACiiigAooooA4T4Ff8jz8cv+xzt/8A1H9Hr16vIfgV/wAjz8cv+xzt/wD1H9Hr16gAooooAKKKKAPKv2sf+TWfjJ/2Jms/+kM1eq15V+1j/wAms/GT/sTNZ/8ASGavVaACiiigAooooAK8q8Of8nTfEP8A7Ezwz/6Xa9XqteVeHP8Ak6b4h/8AYmeGf/S7XqAPVaKKKACiiigAooooA8L/AGV/+TYfhB/2J+j/APpFDXqNeXfsr/8AJsPwg/7E/R//AEihr1GgAooooAKKKKACvO7z/k6bwF/2JniT/wBLtCr0SvO7z/k6bwF/2JniT/0u0KgD2eiiigAooooAKKKKAPKv2Tv+TWfg3/2Jmjf+kMNeq15V+yd/yaz8G/8AsTNG/wDSGGvVaACiiigAooooA8q+Mn/JRfgT/wBjnc/+o9rNeq15V8ZP+Si/An/sc7n/ANR7Wa9VoAKKKKACiiigAryr9mn/AJJ1q/8A2Ofiz/1IdRr1WvKv2af+Sdav/wBjn4s/9SHUaAPVa8b8G/CPx7oPxc8T+MtT8c6Be2niG1trO6sdP8MTWs8SWy3At2imkvplDg3BLFomDbQAqZr2SigDyTwn8IfFkvj7Q/FnxA8Zab4qv/D9jPZ6VDo2gNpUavOEE9xNvubgySMsaKoQxooZ/lYldvrdFFAHyT+zX+0Z8JdD/Zz+Fenal8VPA+najZ+FNKt7mzu/EllFNBKlnErxujShlZWBBUgEEEGvR/8AhqD4Mf8ARYPh/wD+FVYf/Hqi/ZX/AOTYfhB/2J+j/wDpFDXqNAHmf/DUHwY/6LB8P/8AwqrD/wCPUf8ADUHwY/6LB8P/APwqrD/49XplFAHmf/DUHwY/6LB8P/8AwqrD/wCPUf8ADUHwY/6LB8P/APwqrD/49XplFAHmf/DUHwY/6LB8P/8AwqrD/wCPUf8ADUHwY/6LB8P/APwqrD/49XplFAHz58G/2lvhBpPjT4yS3vxW8D2kN94tgubSSbxHZqtxEND0qIyRky4dRJFIm4ZG6Nh1Ugeo/wDDWPwQ/wCiyfD/AP8ACosf/jtVvgV/yPPxy/7HO3/9R/R69eoA8q/4ax+CH/RZPh//AOFRY/8Ax2j/AIax+CH/AEWT4f8A/hUWP/x2vVaKAPKv+Gsfgh/0WT4f/wDhUWP/AMdo/wCGsfgh/wBFk+H/AP4VFj/8dr1WigDyr/hrH4If9Fk+H/8A4VFj/wDHa800D9pv4PQ/tJeOtTk+K/gdNNufCXh62gvG8R2YhlljvNaaSNX8zDMizRFlByBIhP3hn6gryrw5/wAnTfEP/sTPDP8A6Xa9QAf8NY/BD/osnw//APCosf8A47R/w1j8EP8Aosnw/wD/AAqLH/47XqtFAHlX/DWPwQ/6LJ8P/wDwqLH/AOO0f8NY/BD/AKLJ8P8A/wAKix/+O16rRQB5V/w1j8EP+iyfD/8A8Kix/wDjtH/DWPwQ/wCiyfD/AP8ACosf/jteq0UAfL/xY/ab+D2pePPgxcWnxX8D3VvYeLbi5vJYfEdm620R0LVohJIRJhFMksabjgbpFHVgK9L/AOGsfgh/0WT4f/8AhUWP/wAdo+Mn/JRfgT/2Odz/AOo9rNeq0AeVf8NY/BD/AKLJ8P8A/wAKix/+O0f8NY/BD/osnw//APCosf8A47XqtFAHlX/DWPwQ/wCiyfD/AP8ACosf/jtH/DWPwQ/6LJ8P/wDwqLH/AOO16rRQB5V/w1j8EP8Aosnw/wD/AAqLH/47Xnfx2/aE+FnjjwfoeieG/iX4P8Qa1deMPC/kadpevWtzcTbdesHbZGkhZsKrMcDgKT0FfTNeS/tP/wDJMdN/7HDwp/6kOn0AdvRRRQAUUUUAFFFFABXCfAr/AJHn45f9jnb/APqP6PXd1wnwK/5Hn45f9jnb/wDqP6PQB69RRRQAUUUUAFeVftY/8ms/GT/sTNZ/9IZq9Vryr9rH/k1n4yf9iZrP/pDNQB6rRRRQAUUUUAFFFFAHlXhz/k6b4h/9iZ4Z/wDS7Xq9Vryrw5/ydN8Q/wDsTPDP/pdr1eq0AFFFFABRRRQAV4X+yv8A8mw/CD/sT9H/APSKGvdK8L/ZX/5Nh+EH/Yn6P/6RQ0Aeo0UUUAFFFFABRRRQAUUUUAeXftUf8mw/F/8A7E/WP/SKavdK8L/ao/5Nh+L/AP2J+sf+kU1e6UAFFFFABRRRQAV5V4j/AOTpvh5/2Jnib/0u0GvVa8q8R/8AJ03w8/7EzxN/6XaDQB6rRRRQAUUUUAFFFFAHlX7J3/JrPwb/AOxM0b/0hhr1WvKv2Tv+TWfg3/2Jmjf+kMNeq0AFFFFABRRRQB5D8df+R5+Bv/Y53H/qP6xXd1wnx1/5Hn4G/wDY53H/AKj+sV3dABRRRQAUUUUAFFFFAHCfAr/kefjl/wBjnb/+o/o9evV5D8Cv+R5+OX/Y52//AKj+j169QAUUUUAFFFFAHlX7WP8Ayaz8ZP8AsTNZ/wDSGavVa8q/ax/5NZ+Mn/Ymaz/6QzV6rQAUUUUAFFFFABXlXhz/AJOm+If/AGJnhn/0u16vVa8q8Of8nTfEP/sTPDP/AKXa9QB6rRRRQAUUUUAFFFFAHhf7K/8AybD8IP8AsT9H/wDSKGvUa8u/ZX/5Nh+EH/Yn6P8A+kUNeo0AFFFFABRRRQAV53ef8nTeAv8AsTPEn/pdoVeiV53ef8nTeAv+xM8Sf+l2hUAez0UUUAFFFFABRRRQB5V+yd/yaz8G/wDsTNG/9IYa9Vryr9k7/k1n4N/9iZo3/pDDXqtABRRRQAUUUUAeVfGT/kovwJ/7HO5/9R7Wa9Vryr4yf8lF+BP/AGOdz/6j2s16rQAUUUUAFFFFABXlX7NP/JOtX/7HPxZ/6kOo16rXlX7NP/JOtX/7HPxZ/wCpDqNAHqtFFeCfDGXVvC/xy+M2n3niLXPFNvY6To2oQx6vdhwkkgvy4iiRVihBWKJcRRqD5YZtzlmYA97or47/AGZ/GniabU/hT4i8eWF9dah8SdJlvbPWbPxzqF7a/aGtReeVJpDxxWlqnkiUIYvNZDEoYszNIfsSgDwv9lf/AJNh+EH/AGJ+j/8ApFDXqNeXfsr/APJsPwg/7E/R/wD0ihr1GgArjfjJ8RP+FSfCjxb40/s/+1f7B02fUfsPneT5/loW2b9rbc4xnaceldlXA/H7wDqHxU+CfjjwfpM1tb6nrmkXNhbS3jMsKSSRlVLlVYhcnnCk+1AFXwH8Tte1bx5qvgzxd4bsfD+v2mnw6tA+kas2pWlxaySPFnzHt4HWRXjIKmPGGUhjyB6RXI+BPhT4a+HFxqV1o1tePqGpGP7XqOrandaneTKgIjja4upJJPLXLFU3bVLuQAWYnrqACiiigDhPgV/yPPxy/wCxzt//AFH9Hr16vIfgV/yPPxy/7HO3/wDUf0evXqACiiigAooooAK8q8Of8nTfEP8A7Ezwz/6Xa9XqteVeHP8Ak6b4h/8AYmeGf/S7XqAPVaKKKACiiigAooooA8q+Mn/JRfgT/wBjnc/+o9rNeq15V8ZP+Si/An/sc7n/ANR7Wa9VoAKKKKACiiigAryX9p//AJJjpv8A2OHhT/1IdPr1qvJf2n/+SY6b/wBjh4U/9SHT6AO3ooooAKK+fvDvhv8A4Xt43+KE3iHxJ4msoNB1z/hH9M0zQNfvNISyiS0glaZhayRmaSV7gtul3qFWMKB8+7j7j4/fEHR/2afD2uRaLrPiLW31ePTpvEenrpqxSxR64LIM8c80fz3UCjBjjKBpgcxgblAPrGivlT40eNF1b4sfDeHxVY/EfwzpF94d125m8O+G7m/a/wDtMVzYpC8q6LNLuAR5CrF2QeaAxVjivcvgfD4pg+EnhaPxq07+KFslF6bto2n3ZO3zTH8hl2bd5XjduxQB3NcJ8Cv+R5+OX/Y52/8A6j+j13dcJ8Cv+R5+OX/Y52//AKj+j0AevUUUUAFFFFABXlX7WP8Ayaz8ZP8AsTNZ/wDSGavVa8q/ax/5NZ+Mn/Ymaz/6QzUAeq0UUUAFFFFABRRRQB5V4c/5Om+If/YmeGf/AEu16vVa8q8Of8nTfEP/ALEzwz/6Xa9XqtABRRRQAUUUUAFeF/sr/wDJsPwg/wCxP0f/ANIoa90rwv8AZX/5Nh+EH/Yn6P8A+kUNAHqNFFfK/iHxxr/gv9rTWdbude1A+BrU6PoOpaXLdubO1/tBJFt7pYidiMLqOCIsNp23DEk7QKAPqiivlr4K+OPEHjr9pV/Ek2u6hL4S8UeHNSvdF0U3LGzjs7a+s7e2uVi+7vmBmn39dlwin7uB2nxz+MPi3wH48+HelaH4L8RanYaj4g+y3VzYPpflanEdNvZvssX2i6SRHWSKOQsyxriFgHO4K4B7jRXJeNLS68UfDm5U2fiKwubi3iuJNN0W9gtdUOGWR7RZ/NEcbuAYmdJlwGYpKp2uPOv2YdQv1k+IGi6lca7bS6frava+HvE19LqOo6Ray20RjjlvGeRZxI6yzL5c0wRZAhfcrKoB7lRRRQB5d+1R/wAmw/F//sT9Y/8ASKavdK8L/ao/5Nh+L/8A2J+sf+kU1e6UAFFFFABRRRQAV5V4j/5Om+Hn/YmeJv8A0u0GvVa8q8R/8nTfDz/sTPE3/pdoNAHqtFFFABRRRQAUUUUAeVfsnf8AJrPwb/7EzRv/AEhhr1WvKv2Tv+TWfg3/ANiZo3/pDDXqtABRRRQAUUUUAeQ/HX/kefgb/wBjncf+o/rFd3XCfHX/AJHn4G/9jncf+o/rFd3QAUV5V8Ada1DWNN8evf3l1qL2vjHWLaD7RMZDHCk5CRJuPyqo4C8Ae1c/8N/jR4w8UfGbxdoGp/D7xRpuk2y2HlfbJdIKaXvikZ2mMN47uJCoxs80jHIWgD3WivFf2otP0vTfAt54klk8RTeIVSLS9F07R/FGp6VHeX1xKIraNo7S4jD5lkXcxUsEDHovHo3w38K3fgf4f+HtAv8AWLzxBqGnWMNtc6tqE7zT3kqoA8ru5LEs2TyeM47UAdJRRRQBwnwK/wCR5+OX/Y52/wD6j+j169XkPwK/5Hn45f8AY52//qP6PXr1ABRRRQAUUUUAeVftY/8AJrPxk/7EzWf/AEhmr1WvKv2sf+TWfjJ/2Jms/wDpDNXqtABRRRQAUUUUAFeVeHP+TpviH/2Jnhn/ANLter1WvKvDn/J03xD/AOxM8M/+l2vUAeq0UUUAFFFFABRRRQB4X+yv/wAmw/CD/sT9H/8ASKGvUa8u/ZX/AOTYfhB/2J+j/wDpFDXqNABRRRQAUUUUAFed3n/J03gL/sTPEn/pdoVeiV53ef8AJ03gL/sTPEn/AKXaFQB7PRRRQAUUUUAFFFFAHlX7J3/JrPwb/wCxM0b/ANIYa9Vryr9k7/k1n4N/9iZo3/pDDXqtABRRRQAUUUUAeVfGT/kovwJ/7HO5/wDUe1mvVa8q+Mn/ACUX4E/9jnc/+o9rNeq0AFFFFABRRRQAV5V+zT/yTrV/+xz8Wf8AqQ6jXqteVfs0/wDJOtX/AOxz8Wf+pDqNAHqteceFf2fvB/g3x1deMNMPiL/hILtQlzPe+KtVu4p1AcIskM1y8TqnmybFZSELErtNej0UAedeB/2fPAfw412PV9A0e4trqBJ47OK41O7urbT0mcPMlnbzStFaq5AysCIMADGABXotFFAHyn8Afi9pngn4E/Djw7rXhv4gWWsaR4b02wvbb/hXuvSeVPFaxxyJuWyKthlIypIOOCRXe/8ADQvhn/oCfED/AMN14g/+Qa9vooA8Q/4aF8M/9AT4gf8AhuvEH/yDR/w0L4Z/6AnxA/8ADdeIP/kGvb6KAPEP+GhfDP8A0BPiB/4brxB/8g0f8NC+Gf8AoCfED/w3XiD/AOQa9vooA8Q/4aF8M/8AQE+IH/huvEH/AMg0f8NC+Gf+gJ8QP/DdeIP/AJBr2+igD5j+E/xp0fwz4q+Kt5qXh34gW1trniaHUNPf/hXmvv50C6PptsXwtkSv722mXDYPyZxggn0f/hpbwj/0CPiB/wCG48Q//INeq0UAeVf8NLeEf+gR8QP/AA3HiH/5Bo/4aW8I/wDQI+IH/huPEP8A8g16rRQB5V/w0t4R/wCgR8QP/DceIf8A5Bo/4aW8I/8AQI+IH/huPEP/AMg16rRQB5V/w0t4R/6BHxA/8Nx4h/8AkGvP9F+Nui2fx98ZeJJfD3xATRdQ8M6Hp9tc/wDCvNfPmT291q0kybRZbhtW6gOSADv4JIbH0rRQB5V/w0t4R/6BHxA/8Nx4h/8AkGj/AIaW8I/9Aj4gf+G48Q//ACDXqtFAHlX/AA0t4R/6BHxA/wDDceIf/kGj/hpbwj/0CPiB/wCG48Q//INeq0UAeVf8NLeEf+gR8QP/AA3HiH/5Bo/4aW8I/wDQI+IH/huPEP8A8g16rRQB81fEv426L4g8afCe/sPD3xAuLTQ/E0+oahJ/wrzX18iBtG1O2D4NkC3765hXC5Pz5xgEj0D/AIaW8I/9Aj4gf+G48Q//ACDXqtFAHlX/AA0t4R/6BHxA/wDDceIf/kGj/hpbwj/0CPiB/wCG48Q//INeq0UAeVf8NLeEf+gR8QP/AA3HiH/5Bo/4aW8I/wDQI+IH/huPEP8A8g16rRQB5V/w0t4R/wCgR8QP/DceIf8A5Brzz47/ABr0bxn4FsdO0fw78QLy8j8SeH794/8AhXmvpiC21mzuZ3y1kB8sUMjYzk7cAEkA/TFFAHiH/DQvhn/oCfED/wAN14g/+QaP+GhfDP8A0BPiB/4brxB/8g17fRQB8m+Mrj4S+OtavtW1Hwx8U7PUNQgS2v5tD8L+L9KN9GgKotwLSCIT7VZlBkDEKSBgcV1ifFb4eR+H7TQU8E+L10OzEK22mL8L9dFtCIWVoQkX2DaoRkQrgfKVUjGBX0NRQB87XXxU8A33i/TvFE3hj4gPrunWdxYWt1/wr7xGPLgneJ5U2Cz2nc0ERyQSNvBGTna/4aF8M/8AQE+IH/huvEH/AMg17fRQB4h/w0L4Z/6AnxA/8N14g/8AkGuS+E/xp0fwz4q+Kt5qXh34gW1trniaHUNPf/hXmvv50C6PptsXwtkSv722mXDYPyZxggn6cooA8q/4aW8I/wDQI+IH/huPEP8A8g0f8NLeEf8AoEfED/w3HiH/AOQa9VooA8q/4aW8I/8AQI+IH/huPEP/AMg0f8NLeEf+gR8QP/DceIf/AJBr1WigDyr/AIaW8I/9Aj4gf+G48Q//ACDXn/7Qnxt0Xxx8AviX4b0Tw98QL3WtY8M6np9jbf8ACvNfj86eW1kjjTc9kFXLMBliAM8kCvpWigDyr/hpbwj/ANAj4gf+G48Q/wDyDR/w0t4R/wCgR8QP/DceIf8A5Br1WigDyr/hpbwj/wBAj4gf+G48Q/8AyDR/w0t4R/6BHxA/8Nx4h/8AkGvVaKAPKv8Ahpbwj/0CPiB/4bjxD/8AINH/AA0t4R/6BHxA/wDDceIf/kGvVaKAPmrRfjbotn8ffGXiSXw98QE0XUPDOh6fbXP/AArzXz5k9vdatJMm0WW4bVuoDkgA7+CSGx6B/wANLeEf+gR8QP8Aw3HiH/5Br1WigDyr/hpbwj/0CPiB/wCG48Q//INH/DS3hH/oEfED/wANx4h/+Qa9VooA8q/4aW8I/wDQI+IH/huPEP8A8g0f8NLeEf8AoEfED/w3HiH/AOQa9VooA8q/4aW8I/8AQI+IH/huPEP/AMg15R8Afi9pngn4E/Djw7rXhv4gWWsaR4b02wvbb/hXuvSeVPFaxxyJuWyKthlIypIOOCRX1ZRQB4h/w0L4Z/6AnxA/8N14g/8AkGuL8TeIvhR4xtfF1vrPgnx5fweLLSKx1mOTwB4lAuoYlZY14sx5ZUO2GTa2cHOQCPqOigD5s034g/DfR9a0rVrLwj49tr/S9KOiWTx/D7xGFhsi0bGEJ9j24zDFyRkbcA4JzsX3xu8FapPYz3nhbxvdzWE/2q0kn+Gmvu1vNsePzIybD5G2SSLuGDtdh0Jr3uigD518ZfFLwH4+0GXR9a8O/EaayeSOYG28CeJrWaOSN1eOSOaKzWSN1ZQQyMCMda5SJvg6nhy+0SXwZ8R720v9QtdUvJ7/AMG+K7q8urm3eN7eSa6ltmmk8swxBQzkBUC428V9a0UAfKun6p8I9L8RWmvW3gn4gRara6xea/Dcf8IJ4nO2+u4TBcS7TabTvjYrtI2jOVAPNd3/AMNC+Gf+gJ8QP/DdeIP/AJBr2+igD5T+P3xe0zxt8CfiP4d0Xw38QL3WNX8N6lYWVt/wr3Xo/NnltZI403NZBVyzAZYgDPJAr1f/AIaW8I/9Aj4gf+G48Q//ACDXqtFAHlX/AA0t4R/6BHxA/wDDceIf/kGj/hpbwj/0CPiB/wCG48Q//INeq0UAeVf8NLeEf+gR8QP/AA3HiH/5Bo/4aW8I/wDQI+IH/huPEP8A8g16rRQB5V/w0t4R/wCgR8QP/DceIf8A5Brz/Wvjbot58ffBviSLw98QH0XT/DOuafc3P/CvNfHlz3F1pMkKbTZbjuW1nOQCBs5IJXP0rRQB5V/w0t4R/wCgR8QP/DceIf8A5Bo/4aW8I/8AQI+IH/huPEP/AMg16rRQB5V/w0t4R/6BHxA/8Nx4h/8AkGj/AIaW8I/9Aj4gf+G48Q//ACDXqtFAHlX/AA0t4R/6BHxA/wDDceIf/kGj/hpbwj/0CPiB/wCG48Q//INeq0UAfNX7Pfxt0XwP8Avhp4b1vw98QLLWtH8M6Zp99bf8K81+TyZ4rWOORNyWRVsMpGVJBxwSK9A/4aW8I/8AQI+IH/huPEP/AMg16rRQB5V/w0t4R/6BHxA/8Nx4h/8AkGj/AIaW8I/9Aj4gf+G48Q//ACDXqtFAHlX/AA0t4R/6BHxA/wDDceIf/kGj/hpbwj/0CPiB/wCG48Q//INeq0UAfMfxY+NOj+JvFXwqvNN8O/EC5ttD8TTahqD/APCvNfTyYG0fUrYPhrIFv3tzCuFyfnzjAJHW/wDDQvhn/oCfED/w3XiD/wCQa9vooA+ePDfxY8B+EI9Rj0jwz8QLRNQvp9SuR/wr7xG/mXEzbpH+ayOMnnAwB2Aq7b/G/wAF2moXd9B4X8cQ3t4EFzcx/DXX1kmCAhN7Cxy20EgZ6ZOK96ooA+c/EHxP+H/irVvD2p6r4Y+IN5d6Bdtf6cW8AeJAkNw0MkPmGMWYV2EcsgBcHbuJGDzWN40134T/ABEvtSvPEHgv4gahc6jok3h26f8A4QTxPF5mnyuskkOEtABllB3DDDHDAV9S0UAfKGpXXwe1a18R2934H+IEsPiK6sL3U1/4QXxQv2iayEItWyLX5dgtoeFwG2fMGyc+gf8ADQvhn/oCfED/AMN14g/+Qa9vooA+Y/hP8adH8M+Kvireal4d+IFtba54mh1DT3/4V5r7+dAuj6bbF8LZEr+9tplw2D8mcYIJ9H/4aW8I/wDQI+IH/huPEP8A8g16rRQB5V/w0t4R/wCgR8QP/DceIf8A5Bo/4aW8I/8AQI+IH/huPEP/AMg16rRQB5V/w0t4R/6BHxA/8Nx4h/8AkGj/AIaW8I/9Aj4gf+G48Q//ACDXqtFAHzV+0J8bdF8cfAL4l+G9E8PfEC91rWPDOp6fY23/AArzX4/OnltZI403PZBVyzAZYgDPJAr0D/hpbwj/ANAj4gf+G48Q/wDyDXqtFAHlX/DS3hH/AKBHxA/8Nx4h/wDkGj/hpbwj/wBAj4gf+G48Q/8AyDXqtFAHlX/DS3hH/oEfED/w3HiH/wCQaP8Ahpbwj/0CPiB/4bjxD/8AINeq0UAeVf8ADS3hH/oEfED/AMNx4h/+Qa8/0X426LZ/H3xl4kl8PfEBNF1Dwzoen21z/wAK818+ZPb3WrSTJtFluG1bqA5IAO/gkhsfStFAHlX/AA0t4R/6BHxA/wDDceIf/kGj/hpbwj/0CPiB/wCG48Q//INeq0UAeVf8NLeEf+gR8QP/AA3HiH/5Bo/4aW8I/wDQI+IH/huPEP8A8g16rRQB5V/w0t4R/wCgR8QP/DceIf8A5Bo/4aW8I/8AQI+IH/huPEP/AMg16rRQB8p/AH4vaZ4J+BPw48O614b+IFlrGkeG9NsL22/4V7r0nlTxWscciblsirYZSMqSDjgkV3v/AA0L4Z/6AnxA/wDDdeIP/kGvb6KAPEP+GhfDP/QE+IH/AIbrxB/8g0f8NC+Gf+gJ8QP/AA3XiD/5Br2+igDxD/hoXwz/ANAT4gf+G68Qf/INH/DQvhn/AKAnxA/8N14g/wDkGvb6KAPEP+GhfDP/AEBPiB/4brxB/wDINcZcfGTSZPj74R8SL4c+IB0Ww8M63p9xc/8ACvde+Se4utJkhTb9i3HctrOcgEDZyQSufqKigDyr/hpbwj/0CPiB/wCG48Q//INH/DS3hH/oEfED/wANx4h/+Qa9VooA8q/4aW8I/wDQI+IH/huPEP8A8g0f8NLeEf8AoEfED/w3HiH/AOQa9VooA8q/4aW8I/8AQI+IH/huPEP/AMg0f8NLeEf+gR8QP/DceIf/AJBr1WigD5q/Z7+Nui+B/gF8NPDet+HviBZa1o/hnTNPvrb/AIV5r8nkzxWsccibksirYZSMqSDjgkV6B/w0t4R/6BHxA/8ADceIf/kGvVaKAPKv+GlvCP8A0CPiB/4bjxD/APINH/DS3hH/AKBHxA/8Nx4h/wDkGvVaKAPKv+GlvCP/AECPiB/4bjxD/wDINH/DS3hH/oEfED/w3HiH/wCQa9VooA+aviX8bdF8QeNPhPf2Hh74gXFpofiafUNQk/4V5r6+RA2janbB8GyBb99cwrhcn584wCR6B/w0t4R/6BHxA/8ADceIf/kGvVaKAPKv+GlvCP8A0CPiB/4bjxD/APINH/DS3hH/AKBHxA/8Nx4h/wDkGvVaKAPKv+GlvCP/AECPiB/4bjxD/wDINH/DS3hH/oEfED/w3HiH/wCQa9VooA8q/wCGlvCP/QI+IH/huPEP/wAg0fsyx3H/AAq64uLiw1DTPt3ibxJqENvqljNZXHkXGt308LvDMqyJvikRwHUHDDivVaKAP//Z)"
      ]
    },
    {
      "cell_type": "markdown",
      "metadata": {
        "id": "HmxMCsLECazK"
      },
      "source": [
        "# Create 16 small groups of training_sets: implementation"
      ]
    },
    {
      "cell_type": "markdown",
      "metadata": {
        "id": "hKhAHF0aCdUw"
      },
      "source": [
        "The plan is to see if I can use shards to make the data division easy.   Can I just \"shard\" the remaining training set into 16 groups?"
      ]
    },
    {
      "cell_type": "markdown",
      "metadata": {
        "id": "0tjDv6PVJ1xs"
      },
      "source": [
        "#### Airplanes (airplanes_A, ... airplanes_P)"
      ]
    },
    {
      "cell_type": "code",
      "metadata": {
        "colab": {
          "base_uri": "https://localhost:8080/"
        },
        "id": "5Wj9ZwxECc9T",
        "outputId": "7da3d36d-7abc-4044-fe00-5cbd32cf2c83"
      },
      "source": [
        "# https://www.tensorflow.org/api_docs/python/tf/data/Dataset#shard\n",
        "\n",
        "# Check that each of the remaining 10 datasets has only 4000 images \n",
        "print(dataset_airplanes.reduce(np.int32(0), lambda x,_ : x + 1))  # 4000 check!\n",
        "\n",
        "# Shard each of the remaining 10 datasets into 16 smaller groups\n",
        "airplanes_A = dataset_airplanes.shard(num_shards=16, index = 0)\n",
        "airplanes_B = dataset_airplanes.shard(num_shards=16, index = 1)\n",
        "airplanes_C = dataset_airplanes.shard(num_shards=16, index = 2)\n",
        "airplanes_D = dataset_airplanes.shard(num_shards=16, index = 3)\n",
        "airplanes_E = dataset_airplanes.shard(num_shards=16, index = 4)\n",
        "airplanes_F = dataset_airplanes.shard(num_shards=16, index = 5)\n",
        "airplanes_G = dataset_airplanes.shard(num_shards=16, index = 6)\n",
        "airplanes_H = dataset_airplanes.shard(num_shards=16, index = 7)\n",
        "airplanes_I = dataset_airplanes.shard(num_shards=16, index = 8)\n",
        "airplanes_J = dataset_airplanes.shard(num_shards=16, index = 9)\n",
        "airplanes_K = dataset_airplanes.shard(num_shards=16, index = 10)\n",
        "airplanes_L = dataset_airplanes.shard(num_shards=16, index = 11)\n",
        "airplanes_M = dataset_airplanes.shard(num_shards=16, index = 12)\n",
        "airplanes_N = dataset_airplanes.shard(num_shards=16, index = 13)\n",
        "airplanes_O = dataset_airplanes.shard(num_shards=16, index = 14)\n",
        "airplanes_P = dataset_airplanes.shard(num_shards=16, index = 15)\n",
        "\n",
        "#check that a random airplane dataset only has 250 images\n",
        "print(airplanes_M.reduce(np.int32(0), lambda x,_ : x + 1))  # 250 check!\n",
        "\n",
        "\n",
        "\n",
        "\n",
        "\n"
      ],
      "execution_count": 6,
      "outputs": [
        {
          "output_type": "stream",
          "name": "stdout",
          "text": [
            "tf.Tensor(4000, shape=(), dtype=int32)\n",
            "tf.Tensor(250, shape=(), dtype=int32)\n"
          ]
        }
      ]
    },
    {
      "cell_type": "markdown",
      "metadata": {
        "id": "P5xFEsulJy93"
      },
      "source": [
        "#### Automobiles"
      ]
    },
    {
      "cell_type": "code",
      "metadata": {
        "colab": {
          "base_uri": "https://localhost:8080/"
        },
        "id": "vb9GeTzWJFIx",
        "outputId": "c31794c3-a7fe-4c95-cbd5-4d6c92844dfe"
      },
      "source": [
        "# dataset_automobile\n",
        "\n",
        "# Check that each of the remaining 10 datasets has only 4000 images \n",
        "# print(dataset_automobile.reduce(np.int32(0), lambda x,_ : x + 1))  # 4000 check!\n",
        "\n",
        "# Shard each of the remaining 10 datasets into 16 smaller groups\n",
        "automobiles_A = dataset_automobiles.shard(num_shards=16, index = 0)\n",
        "automobiles_B = dataset_automobiles.shard(num_shards=16, index = 1)\n",
        "automobiles_C = dataset_automobiles.shard(num_shards=16, index = 2)\n",
        "automobiles_D = dataset_automobiles.shard(num_shards=16, index = 3)\n",
        "automobiles_E = dataset_automobiles.shard(num_shards=16, index = 4)\n",
        "automobiles_F = dataset_automobiles.shard(num_shards=16, index = 5)\n",
        "automobiles_G = dataset_automobiles.shard(num_shards=16, index = 6)\n",
        "automobiles_H = dataset_automobiles.shard(num_shards=16, index = 7)\n",
        "automobiles_I = dataset_automobiles.shard(num_shards=16, index = 8)\n",
        "automobiles_J = dataset_automobiles.shard(num_shards=16, index = 9)\n",
        "automobiles_K = dataset_automobiles.shard(num_shards=16, index = 10)\n",
        "automobiles_L = dataset_automobiles.shard(num_shards=16, index = 11)\n",
        "automobiles_M = dataset_automobiles.shard(num_shards=16, index = 12)\n",
        "automobiles_N = dataset_automobiles.shard(num_shards=16, index = 13)\n",
        "automobiles_O = dataset_automobiles.shard(num_shards=16, index = 14)\n",
        "automobiles_P = dataset_automobiles.shard(num_shards=16, index = 15)\n",
        "\n",
        "\n",
        "#check that a random airplane dataset only has 250 images\n",
        "print(airplanes_H.reduce(np.int32(0), lambda x,_ : x + 1))  # 250 check!\n"
      ],
      "execution_count": 7,
      "outputs": [
        {
          "output_type": "stream",
          "name": "stdout",
          "text": [
            "tf.Tensor(250, shape=(), dtype=int32)\n"
          ]
        }
      ]
    },
    {
      "cell_type": "markdown",
      "metadata": {
        "id": "pTE1qIe4JfjF"
      },
      "source": [
        "#### Birds"
      ]
    },
    {
      "cell_type": "code",
      "metadata": {
        "colab": {
          "base_uri": "https://localhost:8080/"
        },
        "id": "ps-dQEq1JJzv",
        "outputId": "ccca20e1-a6e7-48f3-9892-3a11dabcb488"
      },
      "source": [
        "# dataset_birds\n",
        "\n",
        "# Shard each of the remaining 10 datasets into 16 smaller groups\n",
        "birds_A = dataset_birds.shard(num_shards=16, index = 0)\n",
        "birds_B = dataset_birds.shard(num_shards=16, index = 1)\n",
        "birds_C = dataset_birds.shard(num_shards=16, index = 2)\n",
        "birds_D = dataset_birds.shard(num_shards=16, index = 3)\n",
        "birds_E = dataset_birds.shard(num_shards=16, index = 4)\n",
        "birds_F = dataset_birds.shard(num_shards=16, index = 5)\n",
        "birds_G = dataset_birds.shard(num_shards=16, index = 6)\n",
        "birds_H = dataset_birds.shard(num_shards=16, index = 7)\n",
        "birds_I = dataset_birds.shard(num_shards=16, index = 8)\n",
        "birds_J = dataset_birds.shard(num_shards=16, index = 9)\n",
        "birds_K = dataset_birds.shard(num_shards=16, index = 10)\n",
        "birds_L = dataset_birds.shard(num_shards=16, index = 11)\n",
        "birds_M = dataset_birds.shard(num_shards=16, index = 12)\n",
        "birds_N = dataset_birds.shard(num_shards=16, index = 13)\n",
        "birds_O = dataset_birds.shard(num_shards=16, index = 14)\n",
        "birds_P = dataset_birds.shard(num_shards=16, index = 15)\n",
        "\n",
        "\n",
        "#check that a random airplane dataset only has 250 images\n",
        "print(airplanes_H.reduce(np.int32(0), lambda x,_ : x + 1))  # 250 check!\n"
      ],
      "execution_count": 8,
      "outputs": [
        {
          "output_type": "stream",
          "name": "stdout",
          "text": [
            "tf.Tensor(250, shape=(), dtype=int32)\n"
          ]
        }
      ]
    },
    {
      "cell_type": "markdown",
      "metadata": {
        "id": "DdGfixTrKbA5"
      },
      "source": [
        "#### Cats"
      ]
    },
    {
      "cell_type": "code",
      "metadata": {
        "colab": {
          "base_uri": "https://localhost:8080/"
        },
        "id": "tnjMznpsJksD",
        "outputId": "90799793-7118-4ff2-9e71-46f72848a617"
      },
      "source": [
        "# dataset_cats\n",
        " \n",
        "\n",
        "# Shard each of the remaining 10 datasets into 16 smaller groups\n",
        "cats_A = dataset_cats.shard(num_shards=16, index = 0)\n",
        "cats_B = dataset_cats.shard(num_shards=16, index = 1)\n",
        "cats_C = dataset_cats.shard(num_shards=16, index = 2)\n",
        "cats_D = dataset_cats.shard(num_shards=16, index = 3)\n",
        "cats_E = dataset_cats.shard(num_shards=16, index = 4)\n",
        "cats_F = dataset_cats.shard(num_shards=16, index = 5)\n",
        "cats_G = dataset_cats.shard(num_shards=16, index = 6)\n",
        "cats_H = dataset_cats.shard(num_shards=16, index = 7)\n",
        "cats_I = dataset_cats.shard(num_shards=16, index = 8)\n",
        "cats_J = dataset_cats.shard(num_shards=16, index = 9)\n",
        "cats_K = dataset_cats.shard(num_shards=16, index = 10)\n",
        "cats_L = dataset_cats.shard(num_shards=16, index = 11)\n",
        "cats_M = dataset_cats.shard(num_shards=16, index = 12)\n",
        "cats_N = dataset_cats.shard(num_shards=16, index = 13)\n",
        "cats_O = dataset_cats.shard(num_shards=16, index = 14)\n",
        "cats_P = dataset_cats.shard(num_shards=16, index = 15)\n",
        "\n",
        "\n",
        "#check that a random airplane dataset only has 250 images\n",
        "print(cats_P.reduce(np.int32(0), lambda x,_ : x + 1))  # 250 check!\n",
        "\n"
      ],
      "execution_count": 9,
      "outputs": [
        {
          "output_type": "stream",
          "name": "stdout",
          "text": [
            "tf.Tensor(250, shape=(), dtype=int32)\n"
          ]
        }
      ]
    },
    {
      "cell_type": "markdown",
      "metadata": {
        "id": "D5xWq3xTJ6Ju"
      },
      "source": [
        "#### Deer(s)"
      ]
    },
    {
      "cell_type": "code",
      "metadata": {
        "colab": {
          "base_uri": "https://localhost:8080/"
        },
        "id": "gGOQ4VJuJ6gG",
        "outputId": "7ba796e6-6a9c-4b65-8462-e94b1c4a3213"
      },
      "source": [
        "# dataset_deers\n",
        "\n",
        "# Shard each of the remaining 10 datasets into 16 smaller groups\n",
        "deers_A = dataset_deers.shard(num_shards=16, index = 0)\n",
        "deers_B = dataset_deers.shard(num_shards=16, index = 1)\n",
        "deers_C = dataset_deers.shard(num_shards=16, index = 2)\n",
        "deers_D = dataset_deers.shard(num_shards=16, index = 3)\n",
        "deers_E = dataset_deers.shard(num_shards=16, index = 4)\n",
        "deers_F = dataset_deers.shard(num_shards=16, index = 5)\n",
        "deers_G = dataset_deers.shard(num_shards=16, index = 6)\n",
        "deers_H = dataset_deers.shard(num_shards=16, index = 7)\n",
        "deers_I = dataset_deers.shard(num_shards=16, index = 8)\n",
        "deers_J = dataset_deers.shard(num_shards=16, index = 9)\n",
        "deers_K = dataset_deers.shard(num_shards=16, index = 10)\n",
        "deers_L = dataset_deers.shard(num_shards=16, index = 11)\n",
        "deers_M = dataset_deers.shard(num_shards=16, index = 12)\n",
        "deers_N = dataset_deers.shard(num_shards=16, index = 13)\n",
        "deers_O = dataset_deers.shard(num_shards=16, index = 14)\n",
        "deers_P = dataset_deers.shard(num_shards=16, index = 15)\n",
        "\n",
        "\n",
        "#check that a random airplane dataset only has 250 images\n",
        "print(deers_H.reduce(np.int32(0), lambda x,_ : x + 1))  # 250 check!\n"
      ],
      "execution_count": 10,
      "outputs": [
        {
          "output_type": "stream",
          "name": "stdout",
          "text": [
            "tf.Tensor(250, shape=(), dtype=int32)\n"
          ]
        }
      ]
    },
    {
      "cell_type": "markdown",
      "metadata": {
        "id": "byU1ZKdQJ754"
      },
      "source": [
        "#### Dogs"
      ]
    },
    {
      "cell_type": "code",
      "metadata": {
        "colab": {
          "base_uri": "https://localhost:8080/"
        },
        "id": "eAIsVACaJ8dr",
        "outputId": "eeffa5f5-d081-4d71-a258-c62f5bfa2abe"
      },
      "source": [
        "# dataset_dogs\n",
        "# Shard each of the remaining 10 datasets into 16 smaller groups\n",
        "dogs_A = dataset_dogs.shard(num_shards=16, index = 0)\n",
        "dogs_B = dataset_dogs.shard(num_shards=16, index = 1)\n",
        "dogs_C = dataset_dogs.shard(num_shards=16, index = 2)\n",
        "dogs_D = dataset_dogs.shard(num_shards=16, index = 3)\n",
        "dogs_E = dataset_dogs.shard(num_shards=16, index = 4)\n",
        "dogs_F = dataset_dogs.shard(num_shards=16, index = 5)\n",
        "dogs_G = dataset_dogs.shard(num_shards=16, index = 6)\n",
        "dogs_H = dataset_dogs.shard(num_shards=16, index = 7)\n",
        "dogs_I = dataset_dogs.shard(num_shards=16, index = 8)\n",
        "dogs_J = dataset_dogs.shard(num_shards=16, index = 9)\n",
        "dogs_K = dataset_dogs.shard(num_shards=16, index = 10)\n",
        "dogs_L = dataset_dogs.shard(num_shards=16, index = 11)\n",
        "dogs_M = dataset_dogs.shard(num_shards=16, index = 12)\n",
        "dogs_N = dataset_dogs.shard(num_shards=16, index = 13)\n",
        "dogs_O = dataset_dogs.shard(num_shards=16, index = 14)\n",
        "dogs_P = dataset_dogs.shard(num_shards=16, index = 15)\n",
        "\n",
        "\n",
        "#check that a random airplane dataset only has 250 images\n",
        "print(dogs_H.reduce(np.int32(0), lambda x,_ : x + 1))  # 250 check!\n"
      ],
      "execution_count": 11,
      "outputs": [
        {
          "output_type": "stream",
          "name": "stdout",
          "text": [
            "tf.Tensor(250, shape=(), dtype=int32)\n"
          ]
        }
      ]
    },
    {
      "cell_type": "markdown",
      "metadata": {
        "id": "Dw-8AHERJ90m"
      },
      "source": [
        "#### Frogs"
      ]
    },
    {
      "cell_type": "code",
      "metadata": {
        "colab": {
          "base_uri": "https://localhost:8080/"
        },
        "id": "sP7uUGF6J-th",
        "outputId": "1a34df00-2b3d-43a9-90ee-d94ad7c9b01c"
      },
      "source": [
        "# dataset_frogs\n",
        "# Shard each of the remaining 10 datasets into 16 smaller groups\n",
        "frogs_A = dataset_frogs.shard(num_shards=16, index = 0)\n",
        "frogs_B = dataset_frogs.shard(num_shards=16, index = 1)\n",
        "frogs_C = dataset_frogs.shard(num_shards=16, index = 2)\n",
        "frogs_D = dataset_frogs.shard(num_shards=16, index = 3)\n",
        "frogs_E = dataset_frogs.shard(num_shards=16, index = 4)\n",
        "frogs_F = dataset_frogs.shard(num_shards=16, index = 5)\n",
        "frogs_G = dataset_frogs.shard(num_shards=16, index = 6)\n",
        "frogs_H = dataset_frogs.shard(num_shards=16, index = 7)\n",
        "frogs_I = dataset_frogs.shard(num_shards=16, index = 8)\n",
        "frogs_J = dataset_frogs.shard(num_shards=16, index = 9)\n",
        "frogs_K = dataset_frogs.shard(num_shards=16, index = 10)\n",
        "frogs_L = dataset_frogs.shard(num_shards=16, index = 11)\n",
        "frogs_M = dataset_frogs.shard(num_shards=16, index = 12)\n",
        "frogs_N = dataset_frogs.shard(num_shards=16, index = 13)\n",
        "frogs_O = dataset_frogs.shard(num_shards=16, index = 14)\n",
        "frogs_P = dataset_frogs.shard(num_shards=16, index = 15)\n",
        "\n",
        "\n",
        "#check that a random airplane dataset only has 250 images\n",
        "print(frogs_A.reduce(np.int32(0), lambda x,_ : x + 1))  # 250 check!\n"
      ],
      "execution_count": 12,
      "outputs": [
        {
          "output_type": "stream",
          "name": "stdout",
          "text": [
            "tf.Tensor(250, shape=(), dtype=int32)\n"
          ]
        }
      ]
    },
    {
      "cell_type": "markdown",
      "metadata": {
        "id": "5ON5smYaKAZb"
      },
      "source": [
        "#### Horses"
      ]
    },
    {
      "cell_type": "code",
      "metadata": {
        "colab": {
          "base_uri": "https://localhost:8080/"
        },
        "id": "UJuMDMT9KAvX",
        "outputId": "433dbd52-3211-41d8-b2f5-e1e5d87413a8"
      },
      "source": [
        "# dataset_horses\n",
        "# Shard each of the remaining 10 datasets into 16 smaller groups\n",
        "horses_A = dataset_horses.shard(num_shards=16, index = 0)\n",
        "horses_B = dataset_horses.shard(num_shards=16, index = 1)\n",
        "horses_C = dataset_horses.shard(num_shards=16, index = 2)\n",
        "horses_D = dataset_horses.shard(num_shards=16, index = 3)\n",
        "horses_E = dataset_horses.shard(num_shards=16, index = 4)\n",
        "horses_F = dataset_horses.shard(num_shards=16, index = 5)\n",
        "horses_G = dataset_horses.shard(num_shards=16, index = 6)\n",
        "horses_H = dataset_horses.shard(num_shards=16, index = 7)\n",
        "horses_I = dataset_horses.shard(num_shards=16, index = 8)\n",
        "horses_J = dataset_horses.shard(num_shards=16, index = 9)\n",
        "horses_K = dataset_horses.shard(num_shards=16, index = 10)\n",
        "horses_L = dataset_horses.shard(num_shards=16, index = 11)\n",
        "horses_M = dataset_horses.shard(num_shards=16, index = 12)\n",
        "horses_N = dataset_horses.shard(num_shards=16, index = 13)\n",
        "horses_O = dataset_horses.shard(num_shards=16, index = 14)\n",
        "horses_P = dataset_horses.shard(num_shards=16, index = 15)\n",
        "\n",
        "\n",
        "#check that a random airplane dataset only has 250 images\n",
        "print(horses_H.reduce(np.int32(0), lambda x,_ : x + 1))  # 250 check!\n"
      ],
      "execution_count": 13,
      "outputs": [
        {
          "output_type": "stream",
          "name": "stdout",
          "text": [
            "tf.Tensor(250, shape=(), dtype=int32)\n"
          ]
        }
      ]
    },
    {
      "cell_type": "markdown",
      "metadata": {
        "id": "yWcxJta7KBxY"
      },
      "source": [
        "#### Ships"
      ]
    },
    {
      "cell_type": "code",
      "metadata": {
        "colab": {
          "base_uri": "https://localhost:8080/"
        },
        "id": "d375MfgdKCJM",
        "outputId": "b7c6e4b0-cc13-4fcc-ce84-48a332696257"
      },
      "source": [
        "# dataset_ships\n",
        "# Shard each of the remaining 10 datasets into 16 smaller groups\n",
        "ships_A = dataset_ships.shard(num_shards=16, index = 0)\n",
        "ships_B = dataset_ships.shard(num_shards=16, index = 1)\n",
        "ships_C = dataset_ships.shard(num_shards=16, index = 2)\n",
        "ships_D = dataset_ships.shard(num_shards=16, index = 3)\n",
        "ships_E = dataset_ships.shard(num_shards=16, index = 4)\n",
        "ships_F = dataset_ships.shard(num_shards=16, index = 5)\n",
        "ships_G = dataset_ships.shard(num_shards=16, index = 6)\n",
        "ships_H = dataset_ships.shard(num_shards=16, index = 7)\n",
        "ships_I = dataset_ships.shard(num_shards=16, index = 8)\n",
        "ships_J = dataset_ships.shard(num_shards=16, index = 9)\n",
        "ships_K = dataset_ships.shard(num_shards=16, index = 10)\n",
        "ships_L = dataset_ships.shard(num_shards=16, index = 11)\n",
        "ships_M = dataset_ships.shard(num_shards=16, index = 12)\n",
        "ships_N = dataset_ships.shard(num_shards=16, index = 13)\n",
        "ships_O = dataset_ships.shard(num_shards=16, index = 14)\n",
        "ships_P = dataset_ships.shard(num_shards=16, index = 15)\n",
        "\n",
        "\n",
        "#check that a random airplane dataset only has 250 images\n",
        "print(ships_H.reduce(np.int32(0), lambda x,_ : x + 1))  # 250 check!\n"
      ],
      "execution_count": 14,
      "outputs": [
        {
          "output_type": "stream",
          "name": "stdout",
          "text": [
            "tf.Tensor(250, shape=(), dtype=int32)\n"
          ]
        }
      ]
    },
    {
      "cell_type": "markdown",
      "metadata": {
        "id": "4SFGmpwtKGLB"
      },
      "source": [
        "#### Trucks\n"
      ]
    },
    {
      "cell_type": "code",
      "metadata": {
        "colab": {
          "base_uri": "https://localhost:8080/"
        },
        "id": "uLvmyTf7KIEI",
        "outputId": "e8e9e255-6011-4f43-974a-7a79f1ba31da"
      },
      "source": [
        "# dataset_trucks\n",
        "# Shard each of the remaining 10 datasets into 16 smaller groups\n",
        "trucks_A = dataset_trucks.shard(num_shards=16, index = 0)\n",
        "trucks_B = dataset_trucks.shard(num_shards=16, index = 1)\n",
        "trucks_C = dataset_trucks.shard(num_shards=16, index = 2)\n",
        "trucks_D = dataset_trucks.shard(num_shards=16, index = 3)\n",
        "trucks_E = dataset_trucks.shard(num_shards=16, index = 4)\n",
        "trucks_F = dataset_trucks.shard(num_shards=16, index = 5)\n",
        "trucks_G = dataset_trucks.shard(num_shards=16, index = 6)\n",
        "trucks_H = dataset_trucks.shard(num_shards=16, index = 7)\n",
        "trucks_I = dataset_trucks.shard(num_shards=16, index = 8)\n",
        "trucks_J = dataset_trucks.shard(num_shards=16, index = 9)\n",
        "trucks_K = dataset_trucks.shard(num_shards=16, index = 10)\n",
        "trucks_L = dataset_trucks.shard(num_shards=16, index = 11)\n",
        "trucks_M = dataset_trucks.shard(num_shards=16, index = 12)\n",
        "trucks_N = dataset_trucks.shard(num_shards=16, index = 13)\n",
        "trucks_O = dataset_trucks.shard(num_shards=16, index = 14)\n",
        "trucks_P = dataset_trucks.shard(num_shards=16, index = 15)\n",
        "\n",
        "\n",
        "#check that a random airplane dataset only has 250 images\n",
        "print(trucks_H.reduce(np.int32(0), lambda x,_ : x + 1))  # 250 check!\n"
      ],
      "execution_count": 15,
      "outputs": [
        {
          "output_type": "stream",
          "name": "stdout",
          "text": [
            "tf.Tensor(250, shape=(), dtype=int32)\n"
          ]
        }
      ]
    },
    {
      "cell_type": "markdown",
      "metadata": {
        "id": "LwI8YY2tKDF1"
      },
      "source": [
        "# Merge 1/16th of each CIFAR Training Datasets into 16 Small training Groups {A}, {B}, {C} , ... {P}"
      ]
    },
    {
      "cell_type": "markdown",
      "metadata": {
        "id": "CwwqykvrPuO2"
      },
      "source": [
        "#### Group A  (train_A)"
      ]
    },
    {
      "cell_type": "code",
      "metadata": {
        "colab": {
          "base_uri": "https://localhost:8080/"
        },
        "id": "0gJxRkApP25H",
        "outputId": "558f9a4d-9e32-4c4e-f17f-5d1360b09930"
      },
      "source": [
        "# {A}\n",
        "X = birds_A, cats_A, deers_A, dogs_A, frogs_A, horses_A, ships_A, trucks_A\n",
        "train_A = airplanes_A.concatenate(automobiles_A)\n",
        "\n",
        "for i in list(X):\n",
        "  train_A = train_A.concatenate(i)\n",
        "\n",
        "print(train_A.reduce(np.int32(0), lambda x,_ : x + 1))  # 250*10 = 2500? \n"
      ],
      "execution_count": 16,
      "outputs": [
        {
          "output_type": "stream",
          "name": "stdout",
          "text": [
            "tf.Tensor(2500, shape=(), dtype=int32)\n"
          ]
        }
      ]
    },
    {
      "cell_type": "markdown",
      "metadata": {
        "id": "luuwRmSrP25F"
      },
      "source": [
        "#### Group B"
      ]
    },
    {
      "cell_type": "code",
      "metadata": {
        "id": "WTTCjd8nQoIL"
      },
      "source": [
        "# {B}\n",
        "X = birds_B, cats_B, deers_B, dogs_B, frogs_B, horses_B, ships_B, trucks_B\n",
        "train_B = airplanes_B.concatenate(automobiles_B)\n",
        "\n",
        "for i in list(X):\n",
        "  train_B = train_B.concatenate(i)\n",
        "\n",
        "# print(train_B.reduce(np.int32(0), lambda x,_ : x + 1))  # 250*10 = 2500? "
      ],
      "execution_count": 17,
      "outputs": []
    },
    {
      "cell_type": "markdown",
      "metadata": {
        "id": "PkxiQUTmSnAV"
      },
      "source": [
        "#### Group C"
      ]
    },
    {
      "cell_type": "code",
      "metadata": {
        "id": "9Klir_U7SnAW"
      },
      "source": [
        "# {C}\n",
        "X = birds_C, cats_C, deers_C, dogs_C, frogs_C, horses_C, ships_C, trucks_C\n",
        "train_C = airplanes_C.concatenate(automobiles_C)\n",
        "\n",
        "for i in list(X):\n",
        "  train_C = train_C.concatenate(i)\n",
        "\n",
        "# print(train_C.reduce(np.int32(0), lambda x,_ : x + 1))  # 250*10 = 2500? "
      ],
      "execution_count": 18,
      "outputs": []
    },
    {
      "cell_type": "markdown",
      "metadata": {
        "id": "-4hb8nQ-Rl9X"
      },
      "source": [
        "#### Group D"
      ]
    },
    {
      "cell_type": "code",
      "metadata": {
        "id": "S2y1elhgRl9Y"
      },
      "source": [
        "# {D}\n",
        "X = birds_D, cats_D, deers_D, dogs_D, frogs_D, horses_D, ships_D, trucks_D\n",
        "train_D = airplanes_D.concatenate(automobiles_D)\n",
        "\n",
        "for i in list(X):\n",
        "  train_D = train_D.concatenate(i)\n",
        "\n",
        "# print(train_D.reduce(np.int32(0), lambda x,_ : x + 1))  # 250*10 = 2500? "
      ],
      "execution_count": 19,
      "outputs": []
    },
    {
      "cell_type": "markdown",
      "metadata": {
        "id": "E0HfSJz2RmXZ"
      },
      "source": [
        "#### Group E"
      ]
    },
    {
      "cell_type": "code",
      "metadata": {
        "id": "6wCvrPzGRmXa"
      },
      "source": [
        "# {E}\n",
        "X = birds_E, cats_E, deers_E, dogs_E, frogs_E, horses_E, ships_E, trucks_E\n",
        "train_E = airplanes_E.concatenate(automobiles_E)\n",
        "\n",
        "for i in list(X):\n",
        "  train_E = train_E.concatenate(i)\n",
        "\n",
        "# print(train_E.reduce(np.int32(0), lambda x,_ : x + 1))  # 250*10 = 2500? "
      ],
      "execution_count": 20,
      "outputs": []
    },
    {
      "cell_type": "markdown",
      "metadata": {
        "id": "WORh3NGSRmyc"
      },
      "source": [
        "#### Group F"
      ]
    },
    {
      "cell_type": "code",
      "metadata": {
        "id": "2Ljtuh44Rmye"
      },
      "source": [
        "# {F}\n",
        "X = birds_F, cats_F, deers_F, dogs_F, frogs_F, horses_F, ships_F, trucks_F\n",
        "train_F = airplanes_F.concatenate(automobiles_F)\n",
        "\n",
        "for i in list(X):\n",
        "  train_F = train_F.concatenate(i)\n",
        "\n",
        "# print(train_F.reduce(np.int32(0), lambda x,_ : x + 1))  # 250*10 = 2500? "
      ],
      "execution_count": 21,
      "outputs": []
    },
    {
      "cell_type": "markdown",
      "metadata": {
        "id": "d8VA6XYARnM1"
      },
      "source": [
        "#### Group G"
      ]
    },
    {
      "cell_type": "code",
      "metadata": {
        "id": "VBbGNULkRnM2"
      },
      "source": [
        "# {G}\n",
        "X = birds_G, cats_G, deers_G, dogs_G, frogs_G, horses_G, ships_G, trucks_G\n",
        "train_G = airplanes_G.concatenate(automobiles_G)\n",
        "\n",
        "for i in list(X):\n",
        "  train_G = train_G.concatenate(i)\n",
        "\n",
        "# print(train_G.reduce(np.int32(0), lambda x,_ : x + 1))  # 250*10 = 2500? "
      ],
      "execution_count": 22,
      "outputs": []
    },
    {
      "cell_type": "markdown",
      "metadata": {
        "id": "EdiZ0V7hRniQ"
      },
      "source": [
        "#### Group H"
      ]
    },
    {
      "cell_type": "code",
      "metadata": {
        "id": "54IwvzgFRniS"
      },
      "source": [
        "# {H}\n",
        "X = birds_H, cats_H, deers_H, dogs_H, frogs_H, horses_H, ships_H, trucks_H\n",
        "train_H = airplanes_H.concatenate(automobiles_H)\n",
        "\n",
        "for i in list(X):\n",
        "  train_H = train_H.concatenate(i)\n",
        "\n",
        "# print(train_H.reduce(np.int32(0), lambda x,_ : x + 1))  # 250*10 = 2500? "
      ],
      "execution_count": 23,
      "outputs": []
    },
    {
      "cell_type": "markdown",
      "metadata": {
        "id": "1wxeC_c1Rn2p"
      },
      "source": [
        "#### Group I"
      ]
    },
    {
      "cell_type": "code",
      "metadata": {
        "id": "nGwKPcTfRn2p"
      },
      "source": [
        "# {I}\n",
        "X = birds_I, cats_I, deers_I, dogs_I, frogs_I, horses_I, ships_I, trucks_I\n",
        "train_I = airplanes_I.concatenate(automobiles_I)\n",
        "\n",
        "for i in list(X):\n",
        "  train_I = train_I.concatenate(i)\n",
        "\n",
        "# print(train_I.reduce(np.int32(0), lambda x,_ : x + 1))  # 250*10 = 2500? "
      ],
      "execution_count": 24,
      "outputs": []
    },
    {
      "cell_type": "markdown",
      "metadata": {
        "id": "vSNbzIxdRoMH"
      },
      "source": [
        "#### Group J"
      ]
    },
    {
      "cell_type": "code",
      "metadata": {
        "id": "mFIUW6_mRoMJ"
      },
      "source": [
        "# {J}\n",
        "X = birds_J, cats_J, deers_J, dogs_J, frogs_J, horses_J, ships_J, trucks_J\n",
        "train_J = airplanes_J.concatenate(automobiles_J)\n",
        "\n",
        "for i in list(X):\n",
        "  train_J = train_J.concatenate(i)\n",
        "\n",
        "# print(train_J.reduce(np.int32(0), lambda x,_ : x + 1))  # 250*10 = 2500? "
      ],
      "execution_count": 25,
      "outputs": []
    },
    {
      "cell_type": "markdown",
      "metadata": {
        "id": "SPiEqtTG7d2c"
      },
      "source": [
        "# The following groups were eliminated to reduce run time"
      ]
    },
    {
      "cell_type": "markdown",
      "metadata": {
        "id": "7TVK6keJRoik"
      },
      "source": [
        "#### Group K (commented out)"
      ]
    },
    {
      "cell_type": "code",
      "metadata": {
        "id": "4WTyGLfdRoil"
      },
      "source": [
        "# # {K}\n",
        "# X = birds_K, cats_K, deers_K, dogs_K, frogs_K, horses_K, ships_K, trucks_K\n",
        "# train_K = airplanes_K.concatenate(automobiles_K)\n",
        "\n",
        "# for i in list(X):\n",
        "#   train_K = train_K.concatenate(i)\n",
        "\n",
        "# # print(train_K.reduce(np.int32(0), lambda x,_ : x + 1))  # 250*10 = 2500? "
      ],
      "execution_count": 26,
      "outputs": []
    },
    {
      "cell_type": "markdown",
      "metadata": {
        "id": "IBXZdvQwRo4E"
      },
      "source": [
        "#### Group L (commented out)"
      ]
    },
    {
      "cell_type": "code",
      "metadata": {
        "id": "nxgl7rsgRo4E"
      },
      "source": [
        "# # {L}\n",
        "# X = birds_L, cats_L, deers_L, dogs_L, frogs_L, horses_L, ships_L, trucks_L\n",
        "# train_L = airplanes_L.concatenate(automobiles_L)\n",
        "\n",
        "# for i in list(X):\n",
        "#   train_L = train_L.concatenate(i)\n",
        "\n",
        "# # print(train_L.reduce(np.int32(0), lambda x,_ : x + 1))  # 250*10 = 2500? "
      ],
      "execution_count": 27,
      "outputs": []
    },
    {
      "cell_type": "markdown",
      "metadata": {
        "id": "g9-WeMHsRpRW"
      },
      "source": [
        "#### Group M (commented out)"
      ]
    },
    {
      "cell_type": "code",
      "metadata": {
        "id": "9b5fYhHlRpRX"
      },
      "source": [
        "# # {M}\n",
        "# X = birds_M, cats_M, deers_M, dogs_M, frogs_M, horses_M, ships_M, trucks_M\n",
        "# train_M = airplanes_M.concatenate(automobiles_M)\n",
        "\n",
        "# for i in list(X):\n",
        "#   train_M = train_M.concatenate(i)\n",
        "\n",
        "# # print(train_M.reduce(np.int32(0), lambda x,_ : x + 1))  # 250*10 = 2500? "
      ],
      "execution_count": 28,
      "outputs": []
    },
    {
      "cell_type": "markdown",
      "metadata": {
        "id": "tf_44Zx7Rr8N"
      },
      "source": [
        "#### Group N (commented out)"
      ]
    },
    {
      "cell_type": "code",
      "metadata": {
        "id": "WS6-9vLTRr8N"
      },
      "source": [
        "# # {N}\n",
        "# X = birds_N, cats_N, deers_N, dogs_N, frogs_N, horses_N, ships_N, trucks_N\n",
        "# train_N = airplanes_N.concatenate(automobiles_N)\n",
        "\n",
        "# for i in list(X):\n",
        "#   train_N = train_N.concatenate(i)\n",
        "\n",
        "# # print(train_N.reduce(np.int32(0), lambda x,_ : x + 1))  # 250*10 = 2500? "
      ],
      "execution_count": 29,
      "outputs": []
    },
    {
      "cell_type": "markdown",
      "metadata": {
        "id": "a9HDFbZVRsYV"
      },
      "source": [
        "#### Group O (commented out)"
      ]
    },
    {
      "cell_type": "code",
      "metadata": {
        "id": "zA6ttImqRsYV"
      },
      "source": [
        "# # {O}\n",
        "# X = birds_O, cats_O, deers_O, dogs_O, frogs_O, horses_O, ships_O, trucks_O\n",
        "# train_O = airplanes_O.concatenate(automobiles_O)\n",
        "\n",
        "# for i in list(X):\n",
        "#   train_O = train_O.concatenate(i)\n",
        "\n",
        "# # print(train_O.reduce(np.int32(0), lambda x,_ : x + 1))  # 250*10 = 2500? "
      ],
      "execution_count": 30,
      "outputs": []
    },
    {
      "cell_type": "markdown",
      "metadata": {
        "id": "nuwnh1fuRs1K"
      },
      "source": [
        "#### Group P (commented out)"
      ]
    },
    {
      "cell_type": "code",
      "metadata": {
        "id": "qxm8eQIcRs1K"
      },
      "source": [
        "# # {P}\n",
        "# X = birds_P, cats_P, deers_P, dogs_P, frogs_P, horses_P, ships_P, trucks_P\n",
        "# train_P = airplanes_P.concatenate(automobiles_P)\n",
        "\n",
        "# for i in list(X):\n",
        "#   train_P = train_P.concatenate(i)\n",
        "\n",
        "# # print(train_P.reduce(np.int32(0), lambda x,_ : x + 1))  # 250*10 = 2500? "
      ],
      "execution_count": 31,
      "outputs": []
    },
    {
      "cell_type": "markdown",
      "metadata": {
        "id": "nB7IU7_gv-5q"
      },
      "source": [
        "# Test whether I can train a model on just Group A"
      ]
    },
    {
      "cell_type": "markdown",
      "metadata": {
        "id": "OPvEqb6hK9W2"
      },
      "source": [
        "## Create a copy of validation and train_A since I keep messing with the shape and batch size\n"
      ]
    },
    {
      "cell_type": "code",
      "metadata": {
        "id": "NYLOcwoSLEzP"
      },
      "source": [
        "import copy\n",
        "val_copy = copy.copy(val)\n",
        "train_A_copy = copy.copy(train_A)\n",
        "\n",
        "# deepcopy results in \"TypeError: can't pickle _thread.RLock objects\""
      ],
      "execution_count": 32,
      "outputs": []
    },
    {
      "cell_type": "code",
      "metadata": {
        "id": "tKAkn6dLxm9S"
      },
      "source": [
        "import numpy as np\n",
        "import os\n",
        "import PIL\n",
        "import PIL.Image\n",
        "import tensorflow as tf\n",
        "import tensorflow_datasets as tfds\n",
        "from tensorflow import keras \n",
        "from tensorflow.keras import layers\n",
        "from tensorflow.keras.models import Sequential\n",
        "# import keras.utils -- dont do this!! it causes problems, \n",
        "from tensorflow.keras.utils import to_categorical  #do this instead!!\n",
        "\n",
        "import random\n"
      ],
      "execution_count": 33,
      "outputs": []
    },
    {
      "cell_type": "markdown",
      "metadata": {
        "id": "bgG2J6U-ZxNf"
      },
      "source": [
        "### Set Random Seeds"
      ]
    },
    {
      "cell_type": "code",
      "metadata": {
        "id": "qOLO1F8rZwdz"
      },
      "source": [
        "##  Random Seed\n",
        "seed = 42\n",
        "random.seed(seed)\n",
        "tf.random.set_seed(seed)\n",
        "## ------------------"
      ],
      "execution_count": 34,
      "outputs": []
    },
    {
      "cell_type": "markdown",
      "metadata": {
        "id": "do5itWWAwDqU"
      },
      "source": [
        "I will now see if I can use the small group A train set, the val set, and the test set of the CIFAR-10 using a vanilla CNN"
      ]
    },
    {
      "cell_type": "code",
      "metadata": {
        "id": "-DavgO2N6Xxm"
      },
      "source": [
        "# train_A_example = train_A.take(250)\n",
        "# for sample in train_A_example:\n",
        "#     image,label = sample['image'].numpy(), sample[\"label\"].numpy()\n",
        "#     plt.imshow(image[:,:,:].astype(np.uint8))\n",
        "#     plt.show()\n",
        "#     print(\"Label: %d\" % label)"
      ],
      "execution_count": 35,
      "outputs": []
    },
    {
      "cell_type": "code",
      "metadata": {
        "id": "v5NwdQRkwKlR",
        "colab": {
          "base_uri": "https://localhost:8080/"
        },
        "outputId": "34e66469-1d49-43cf-b086-b3c76437fca4"
      },
      "source": [
        "# I already have train_A ... P and val, I will eventually need test set.\n",
        "# remember that train_A and val are NOT shuffled at all\n",
        "\n",
        "\n",
        "\n",
        "# https://www.tensorflow.org/tutorials/load_data/images#train_a_model says\n",
        "# Configure the dataset for performance\n",
        "# Let's make sure to use buffered prefetching so you can yield data from disk without having I/O become blocking. These are two important methods you should use when loading data:\n",
        "# Dataset.cache keeps the images in memory after they're loaded off disk during the first epoch. This will ensure the dataset does not become a bottleneck while training your model. If your dataset is too large to fit into memory, you can also use this method to create a performant on-disk cache.\n",
        "# Dataset.prefetch overlaps data preprocessing and model execution while training.\n",
        "\n",
        "\n",
        "val = val_copy\n",
        "train_A = train_A_copy\n",
        "\n",
        "\n",
        "\n",
        "\n",
        "# # I don't know if below works - I could check by running with and without it\n",
        "AUTOTUNE = tf.data.AUTOTUNE # results in -1 which i think is code for the whole database\n",
        "train_A = train_A.cache().prefetch(buffer_size=AUTOTUNE)\n",
        "train_A = train_A.shuffle(1000, reshuffle_each_iteration=True)\n",
        "train_A = train_A.batch(100)  # I believe its good to not have a remainder to cut ds evenly but I'm not sure\n",
        "\n",
        "\n",
        "val = val.cache().prefetch(buffer_size=AUTOTUNE)\n",
        "val = val.batch(100)\n",
        "\n",
        "\n",
        "# Everything Below Is My Attempt to Reconvert the TF Tensor to Array to work \"as usual\" but it continued to fail because I couldn't get shape right\n",
        "# Now I'm moving forward using the default TF Tensor Shape instead of numpy array, and finding I need to set a lot of parameters I took for granted like...\n",
        "# batch, cache, and prefetch\n",
        "\n",
        "  # # The below doesn't work because it doesn't recognize train_A as  a dataset\n",
        "  # # \"ValueError: Attempt to convert a value (<PrefetchDataset shapes: ((32, 32, 3), ()),\n",
        "  # # types: (tf.uint8, tf.int64)>) with an unsupported type (<class 'tensorflow.python.data.ops.dataset_ops.PrefetchDataset'>) to a Tensor.\"\n",
        "  # # train_A.batch(32)\n",
        "\n",
        "#I can no longer run image_batch.shape,  Attempt to convert a value (<ShuffleDataset shapes: ((None, 32, 32, 3), (None,)), types: (tf.uint8, tf.int64)>) with an unsupported type (<class 'tensorflow.python.data.ops.dataset_ops.ShuffleDataset'>) to a Tensor.\n",
        "# tf.shape(train_A)\n",
        "\n",
        "# After Batching I can no onger run the following for loop to get image_batch.shape\n",
        "# InvalidArgumentError: Cannot batch tensors with different shapes in component 0. First element had shape [128,32,32,3] and element 19 had shape [68,32,32,3]. [Op:IteratorGetNext]\n",
        "# for image_batch, labels_batch in train_A:\n",
        "#   print(image_batch.shape)   # (32, 32, 3)  <-- the first number is missing, should be a batch size like (64, 32, 32, 3)\n",
        "#   print(labels_batch.shape)  # ()   <-  that's bad , it should be a number that matches a batch size like 64\n",
        "#   break\n",
        "\n",
        "\n",
        "\n",
        "train_A.element_spec\n",
        "  # # Returns two specs.\n",
        "  # # (TensorSpec(shape=(32, 32, 3), dtype=tf.uint8, name=None),\n",
        "  # # TensorSpec(shape=(), dtype=tf.int64, name=None))\n",
        "  # #\n",
        "\n",
        "  # # class_names = train_A.class_names\n",
        "  # # print(class_names)\n",
        "\n",
        "\n",
        "  \n",
        "\n",
        "  # # changing to a numpy array takes time, I wish it was faster, or i wish i could keep as tensor\n",
        "  # y_train = np.array([])\n",
        "  # x_val = np.array([])\n",
        "  # y_val = np.array([])\n",
        "\n",
        "  # # x_train = np.expand_dims(x_train, -1)\n",
        "  # # x_val = np.expand_dims(x_val, -1)\n",
        "\n",
        "  # for images, labels in train_A.take(1):  # only take first element of dataset\n",
        "  #     # x_train = np.empty((images.numpy()).shape, dtype=np.int64)\n",
        "  #     # y_train = np.empty((labels.numpy()).shape,  dtype=np.int64)\n",
        "  #     x_train = images.numpy()\n",
        "  #     y_train = labels.numpy()\n",
        "\n",
        "  #     # y_train = labels.numpy()\n",
        "\n",
        "  # x_train = []  #images\n",
        "  # y_train = []  #labels\n",
        "  # for i, (image, label) in enumerate(tfds.as_numpy(train_A)):  # only take first element of dataset\n",
        "  #     x_train.append(image)\n",
        "  #     y_train.append(labels)\n",
        "\n",
        "  \n",
        "\n",
        "  # x_val = []\n",
        "  # y_val = []\n",
        "  # for i, (image, label) in enumerate(tfds.as_numpy(val)):  # only take first element of dataset\n",
        "  #     # x_val = images.numpy() #32, 32, 3\n",
        "  #     # y_val = labels.numpy()  #()\n",
        "  #     x_val.append(image)\n",
        "  #     y_val.append(label)\n",
        "  \n",
        "  \n",
        "\n",
        "  # # #x_test = np.expand_dims(x_test, -1)\n",
        "\n",
        "  # num_classes = 10\n",
        "\n",
        "\n",
        "  # # # convert class vectors to binary class matrices\n",
        "  # y_train = tf.keras.utils.to_categorical(y_train, num_classes)\n",
        "  # y_val   = tf.keras.utils.to_categorical(y_val, num_classes)\n",
        "  # #y_test = keras.utils.to_categorical(y_test, num_classes)\n",
        "\n",
        "\n",
        "  # # x_val = tf.stack(x_val)\n",
        "  # # y_val = tf.stack(y_val)\n"
      ],
      "execution_count": 36,
      "outputs": [
        {
          "output_type": "execute_result",
          "data": {
            "text/plain": [
              "(TensorSpec(shape=(None, 32, 32, 3), dtype=tf.uint8, name=None),\n",
              " TensorSpec(shape=(None,), dtype=tf.int64, name=None))"
            ]
          },
          "metadata": {},
          "execution_count": 36
        }
      ]
    },
    {
      "cell_type": "code",
      "metadata": {
        "colab": {
          "base_uri": "https://localhost:8080/",
          "height": 1000
        },
        "id": "HxuleZQlT8x7",
        "outputId": "0fee9a24-1d9e-4337-b9de-e5085ca0c008"
      },
      "source": [
        "# Make a Vanilla CNN\n",
        "num_classes = 10\n",
        "input_shape = (32, 32, 3)\n",
        "\n",
        "# For Reference these are the defaults\n",
        "# kernel_initializer=\"glorot_uniform\",\n",
        "# bias_initializer=\"zeros\",\n",
        "# padding=\"valid\",  #valid = no padding\n",
        "# kernel_regularizer=None,\n",
        "# bias_regularizer=None,\n",
        "# activity_regularizer=None,\n",
        "\n",
        "initializer = tf.keras.initializers.HeUniform(seed)\n",
        "\n",
        "model = tf.keras.Sequential(\n",
        "[\n",
        "    #keras.Input(),\n",
        "    tf.keras.Input(shape=input_shape),\n",
        "\n",
        "    layers.experimental.preprocessing.Rescaling(1./255),\n",
        "    #data_augmentation,   \n",
        "    layers.Conv2D(32, kernel_size=(3, 3), activation=\"relu\", kernel_initializer=initializer, name=\"ConvLayer1\"),\n",
        "    layers.MaxPooling2D(pool_size=(2, 2), name=\"MaxPool1\"),\n",
        "    layers.BatchNormalization(name=\"BN1\"),\n",
        "    layers.Conv2D(64, kernel_size=(3, 3), activation=\"relu\", kernel_initializer=initializer, name=\"ConvLayer2\"),\n",
        "    layers.MaxPooling2D(pool_size=(2, 2), name=\"MaxPool2\"),\n",
        "    layers.BatchNormalization(name=\"BN2\"),\n",
        "    layers.Conv2D(128, kernel_size=(3, 3), activation=\"relu\", kernel_initializer=initializer, name=\"ConvLayer3\"),\n",
        "    layers.MaxPooling2D(pool_size=(2, 2), name=\"MaxPool3\"),\n",
        "    layers.BatchNormalization(name=\"BN3\"),\n",
        "    layers.Flatten(),\n",
        "    layers.Dropout(0.5),\n",
        "    layers.Dense(512, activation=\"relu\", kernel_initializer=initializer),\n",
        "    layers.Dropout(0.5),\n",
        "    layers.Dense(num_classes, activation=\"softmax\")\n",
        "\n",
        "])\n",
        "\n",
        "model.summary()\n",
        "\n",
        "model.compile(\n",
        "  optimizer='adam',\n",
        "  loss=tf.losses.SparseCategoricalCrossentropy(),\n",
        "  metrics=['accuracy'])\n",
        "\n",
        "\n",
        "history = model.fit(\n",
        "  train_A,\n",
        "  validation_data=(val),\n",
        "  epochs=50,\n",
        "  callbacks = keras.callbacks.EarlyStopping(monitor= 'val_accuracy', patience=10, restore_best_weights=True, verbose=2),\n",
        ")\n",
        "\n",
        " \n",
        "plt.plot(history.history['accuracy'])\n",
        "plt.plot(history.history['val_accuracy'])\n",
        "plt.title('model accuracy')\n",
        "plt.ylabel('accuracy')\n",
        "plt.xlabel('epoch')\n",
        "plt.legend(['train', 'test'], loc='upper left')\n",
        "plt.show()\n",
        "# summarize history for loss\n",
        "plt.plot(history.history['loss'])\n",
        "plt.plot(history.history['val_loss'])\n",
        "plt.title('model loss')\n",
        "plt.ylabel('loss')\n",
        "plt.xlabel('epoch')\n",
        "plt.legend(['train', 'test'], loc='upper left')\n",
        "plt.show()"
      ],
      "execution_count": 37,
      "outputs": [
        {
          "output_type": "stream",
          "name": "stdout",
          "text": [
            "Model: \"sequential\"\n",
            "_________________________________________________________________\n",
            "Layer (type)                 Output Shape              Param #   \n",
            "=================================================================\n",
            "rescaling (Rescaling)        (None, 32, 32, 3)         0         \n",
            "_________________________________________________________________\n",
            "ConvLayer1 (Conv2D)          (None, 30, 30, 32)        896       \n",
            "_________________________________________________________________\n",
            "MaxPool1 (MaxPooling2D)      (None, 15, 15, 32)        0         \n",
            "_________________________________________________________________\n",
            "BN1 (BatchNormalization)     (None, 15, 15, 32)        128       \n",
            "_________________________________________________________________\n",
            "ConvLayer2 (Conv2D)          (None, 13, 13, 64)        18496     \n",
            "_________________________________________________________________\n",
            "MaxPool2 (MaxPooling2D)      (None, 6, 6, 64)          0         \n",
            "_________________________________________________________________\n",
            "BN2 (BatchNormalization)     (None, 6, 6, 64)          256       \n",
            "_________________________________________________________________\n",
            "ConvLayer3 (Conv2D)          (None, 4, 4, 128)         73856     \n",
            "_________________________________________________________________\n",
            "MaxPool3 (MaxPooling2D)      (None, 2, 2, 128)         0         \n",
            "_________________________________________________________________\n",
            "BN3 (BatchNormalization)     (None, 2, 2, 128)         512       \n",
            "_________________________________________________________________\n",
            "flatten (Flatten)            (None, 512)               0         \n",
            "_________________________________________________________________\n",
            "dropout (Dropout)            (None, 512)               0         \n",
            "_________________________________________________________________\n",
            "dense (Dense)                (None, 512)               262656    \n",
            "_________________________________________________________________\n",
            "dropout_1 (Dropout)          (None, 512)               0         \n",
            "_________________________________________________________________\n",
            "dense_1 (Dense)              (None, 10)                5130      \n",
            "=================================================================\n",
            "Total params: 361,930\n",
            "Trainable params: 361,482\n",
            "Non-trainable params: 448\n",
            "_________________________________________________________________\n",
            "Epoch 1/50\n",
            "25/25 [==============================] - 36s 529ms/step - loss: 4.1587 - accuracy: 0.1876 - val_loss: 2.8561 - val_accuracy: 0.1158\n",
            "Epoch 2/50\n",
            "25/25 [==============================] - 1s 23ms/step - loss: 3.4409 - accuracy: 0.1932 - val_loss: 2.1880 - val_accuracy: 0.2033\n",
            "Epoch 3/50\n",
            "25/25 [==============================] - 1s 22ms/step - loss: 2.7244 - accuracy: 0.2788 - val_loss: 2.1985 - val_accuracy: 0.2330\n",
            "Epoch 4/50\n",
            "25/25 [==============================] - 1s 21ms/step - loss: 2.4737 - accuracy: 0.3052 - val_loss: 2.2443 - val_accuracy: 0.2434\n",
            "Epoch 5/50\n",
            "25/25 [==============================] - 1s 24ms/step - loss: 2.2863 - accuracy: 0.3440 - val_loss: 2.1604 - val_accuracy: 0.2553\n",
            "Epoch 6/50\n",
            "25/25 [==============================] - 1s 22ms/step - loss: 2.0907 - accuracy: 0.3760 - val_loss: 2.2306 - val_accuracy: 0.2552\n",
            "Epoch 7/50\n",
            "25/25 [==============================] - 1s 22ms/step - loss: 1.9262 - accuracy: 0.4068 - val_loss: 2.1762 - val_accuracy: 0.2791\n",
            "Epoch 8/50\n",
            "25/25 [==============================] - 1s 22ms/step - loss: 1.8847 - accuracy: 0.3948 - val_loss: 2.2758 - val_accuracy: 0.2625\n",
            "Epoch 9/50\n",
            "25/25 [==============================] - 1s 22ms/step - loss: 1.7454 - accuracy: 0.4320 - val_loss: 2.1465 - val_accuracy: 0.2904\n",
            "Epoch 10/50\n",
            "25/25 [==============================] - 1s 21ms/step - loss: 1.6245 - accuracy: 0.4696 - val_loss: 2.2336 - val_accuracy: 0.2817\n",
            "Epoch 11/50\n",
            "25/25 [==============================] - 1s 23ms/step - loss: 1.4898 - accuracy: 0.5064 - val_loss: 2.0884 - val_accuracy: 0.2928\n",
            "Epoch 12/50\n",
            "25/25 [==============================] - 1s 21ms/step - loss: 1.3949 - accuracy: 0.5320 - val_loss: 1.9016 - val_accuracy: 0.3251\n",
            "Epoch 13/50\n",
            "25/25 [==============================] - 1s 22ms/step - loss: 1.2767 - accuracy: 0.5592 - val_loss: 1.8093 - val_accuracy: 0.3670\n",
            "Epoch 14/50\n",
            "25/25 [==============================] - 1s 23ms/step - loss: 1.2598 - accuracy: 0.5760 - val_loss: 1.7181 - val_accuracy: 0.3970\n",
            "Epoch 15/50\n",
            "25/25 [==============================] - 1s 22ms/step - loss: 1.2036 - accuracy: 0.5792 - val_loss: 1.7456 - val_accuracy: 0.3977\n",
            "Epoch 16/50\n",
            "25/25 [==============================] - 1s 22ms/step - loss: 1.1492 - accuracy: 0.5956 - val_loss: 1.7576 - val_accuracy: 0.4063\n",
            "Epoch 17/50\n",
            "25/25 [==============================] - 1s 23ms/step - loss: 1.0273 - accuracy: 0.6380 - val_loss: 1.5530 - val_accuracy: 0.4573\n",
            "Epoch 18/50\n",
            "25/25 [==============================] - 1s 22ms/step - loss: 1.0164 - accuracy: 0.6480 - val_loss: 1.4809 - val_accuracy: 0.4824\n",
            "Epoch 19/50\n",
            "25/25 [==============================] - 1s 22ms/step - loss: 0.9598 - accuracy: 0.6668 - val_loss: 1.4899 - val_accuracy: 0.4897\n",
            "Epoch 20/50\n",
            "25/25 [==============================] - 1s 23ms/step - loss: 0.8808 - accuracy: 0.6872 - val_loss: 1.4654 - val_accuracy: 0.4934\n",
            "Epoch 21/50\n",
            "25/25 [==============================] - 1s 22ms/step - loss: 0.8768 - accuracy: 0.6888 - val_loss: 1.4563 - val_accuracy: 0.5142\n",
            "Epoch 22/50\n",
            "25/25 [==============================] - 1s 22ms/step - loss: 0.7994 - accuracy: 0.7176 - val_loss: 1.4370 - val_accuracy: 0.5067\n",
            "Epoch 23/50\n",
            "25/25 [==============================] - 1s 24ms/step - loss: 0.7582 - accuracy: 0.7408 - val_loss: 1.4623 - val_accuracy: 0.5102\n",
            "Epoch 24/50\n",
            "25/25 [==============================] - 1s 23ms/step - loss: 0.7384 - accuracy: 0.7364 - val_loss: 1.4769 - val_accuracy: 0.5096\n",
            "Epoch 25/50\n",
            "25/25 [==============================] - 1s 24ms/step - loss: 0.7094 - accuracy: 0.7460 - val_loss: 1.4614 - val_accuracy: 0.5242\n",
            "Epoch 26/50\n",
            "25/25 [==============================] - 1s 23ms/step - loss: 0.6756 - accuracy: 0.7612 - val_loss: 1.5091 - val_accuracy: 0.5175\n",
            "Epoch 27/50\n",
            "25/25 [==============================] - 1s 22ms/step - loss: 0.5957 - accuracy: 0.7864 - val_loss: 1.5138 - val_accuracy: 0.5178\n",
            "Epoch 28/50\n",
            "25/25 [==============================] - 1s 23ms/step - loss: 0.6038 - accuracy: 0.7856 - val_loss: 1.5815 - val_accuracy: 0.5110\n",
            "Epoch 29/50\n",
            "25/25 [==============================] - 1s 22ms/step - loss: 0.5512 - accuracy: 0.8048 - val_loss: 1.5705 - val_accuracy: 0.5150\n",
            "Epoch 30/50\n",
            "25/25 [==============================] - 1s 23ms/step - loss: 0.5653 - accuracy: 0.8052 - val_loss: 1.5501 - val_accuracy: 0.5120\n",
            "Epoch 31/50\n",
            "25/25 [==============================] - 1s 24ms/step - loss: 0.5007 - accuracy: 0.8204 - val_loss: 1.6020 - val_accuracy: 0.5112\n",
            "Epoch 32/50\n",
            "25/25 [==============================] - 1s 22ms/step - loss: 0.4785 - accuracy: 0.8292 - val_loss: 1.6565 - val_accuracy: 0.5172\n",
            "Epoch 33/50\n",
            "25/25 [==============================] - 1s 22ms/step - loss: 0.4716 - accuracy: 0.8288 - val_loss: 1.6390 - val_accuracy: 0.5093\n",
            "Epoch 34/50\n",
            "25/25 [==============================] - 1s 23ms/step - loss: 0.4725 - accuracy: 0.8328 - val_loss: 1.6444 - val_accuracy: 0.5144\n",
            "Epoch 35/50\n",
            "25/25 [==============================] - 1s 24ms/step - loss: 0.4250 - accuracy: 0.8416 - val_loss: 1.6895 - val_accuracy: 0.5165\n",
            "Restoring model weights from the end of the best epoch.\n",
            "Epoch 00035: early stopping\n"
          ]
        },
        {
          "output_type": "display_data",
          "data": {
            "image/png": "[encoded data removed]",
            "text/plain": [
              "<Figure size 432x288 with 1 Axes>"
            ]
          },
          "metadata": {
            "needs_background": "light"
          }
        },
        {
          "output_type": "display_data",
          "data": {
            "image/png": "[encoded data removed]",
            "text/plain": [
              "<Figure size 432x288 with 1 Axes>"
            ]
          },
          "metadata": {
            "needs_background": "light"
          }
        }
      ]
    },
    {
      "cell_type": "code",
      "metadata": {
        "colab": {
          "base_uri": "https://localhost:8080/"
        },
        "id": "HRvnawHpjTJ-",
        "outputId": "081e8aac-c30f-40b1-d9fc-1eb5a1f7ed66"
      },
      "source": [
        "!mkdir -p saved_model\n",
        "model.save('saved_model/my_model')\n",
        "\n",
        "# new_model = tf.keras.models.load_model('saved_model/my_model')\n",
        "\n",
        "# # Check its architecture\n",
        "# new_model.summary()"
      ],
      "execution_count": 38,
      "outputs": [
        {
          "output_type": "stream",
          "name": "stdout",
          "text": [
            "INFO:tensorflow:Assets written to: saved_model/my_model/assets\n"
          ]
        },
        {
          "output_type": "stream",
          "name": "stderr",
          "text": [
            "INFO:tensorflow:Assets written to: saved_model/my_model/assets\n"
          ]
        }
      ]
    },
    {
      "cell_type": "markdown",
      "metadata": {
        "id": "dPLdDae3L59U"
      },
      "source": [
        "# Evaluate Model on Test Set"
      ]
    },
    {
      "cell_type": "code",
      "metadata": {
        "id": "xu0Cm_Mc-8g1",
        "colab": {
          "base_uri": "https://localhost:8080/"
        },
        "outputId": "0a86298a-f91e-4e35-b0ef-105b6bdf3ae6"
      },
      "source": [
        "# model.predict(x_test) fails with error:\n",
        "# WARNING:tensorflow:Model was constructed with shape (None, 32, 32, 3) for...\\\n",
        "#   input KerasTensor(type_spec=TensorSpec(shape=(None, 32, 32, 3), dtype=tf.float32, name='input_1'), \n",
        "#   name='input_1', description=\"created by layer 'input_1'\"), but it was called on an input with incompatible shape (32, 32, 3).\n",
        "#   so I think I need to give it \"batch\" sizes \n",
        "\n",
        "\n",
        "# # # I don't know if below works - I could check by running with and without it\n",
        "# AUTOTUNE = tf.data.AUTOTUNE # results in -1 which i think is code for the whole database\n",
        "# x_test = x_test.cache().prefetch(buffer_size=AUTOTUNE)\n",
        "# # x_test = x_test.shuffle(10000, reshuffle_each_iteration=False)\n",
        "# x_test = x_test.batch(1000)  # I believe its good to not have a remainder to cut ds evenly but I'm not sure\n",
        "\n",
        " \n",
        "print(\"Y_test : \", y_test)\n",
        "print(\"X_test : \", x_test)\n",
        "print(\"TrainA : \", train_A)\n",
        "\n",
        "# test_images = list(map(lambda x: x[0], x_test))\n",
        "# y_test = list(map(lambda x: x[1], x_test))\n",
        "\n",
        "# The problem with https://www.tensorflow.org/datasets/keras_example#step_2_create_and_train_the_model i\n",
        "# is it doesn't explain how to use a model.evaluate function with tfds.load()\n",
        "# x_test = x_test.num_parallel_calls(tf.data.AUTOTUNE)  # AttributeError: 'PrefetchDataset' object has no attribute 'num_parallel_calls'\n",
        "x_test = x_test.batch(1000)\n",
        "x_test = x_test.cache()\n",
        "x_test = x_test.prefetch(tf.data.AUTOTUNE)\n",
        "\n",
        "model.evaluate(x_test, verbose=2)\n",
        "## WORKED!!!!!!!!!!!!!!!!!!!!!!!\n",
        "# 79/79 - 1s - loss: 1.4953 - accuracy: 0.5314\n",
        "# [1.4952507019042969, 0.5314000248908997]\n"
      ],
      "execution_count": 41,
      "outputs": [
        {
          "output_type": "stream",
          "name": "stdout",
          "text": [
            "Y_test :  tf.Tensor([7 0 6 ... 8 6 0], shape=(10000,), dtype=int64)\n",
            "X_test :  <PrefetchDataset shapes: ((32, 32, 3), ()), types: (tf.uint8, tf.int64)>\n",
            "TrainA :  <BatchDataset shapes: ((None, 32, 32, 3), (None,)), types: (tf.uint8, tf.int64)>\n",
            "10/10 - 0s - loss: 1.4555 - accuracy: 0.5210\n"
          ]
        },
        {
          "output_type": "execute_result",
          "data": {
            "text/plain": [
              "[1.4555134773254395, 0.5210000276565552]"
            ]
          },
          "metadata": {},
          "execution_count": 41
        }
      ]
    },
    {
      "cell_type": "markdown",
      "metadata": {
        "id": "bvPhUmNlhI5R"
      },
      "source": [
        "At an earlier date  the accuracy of model.evaluate is 0.5314\n",
        "\n",
        "Oct 19 2020 1:06 PM the accuracy of model.evaluate is 0.5312\n",
        "\n",
        "Oct 19 2020 1:14 PM the accuracy of model.evaluate is 0.5365"
      ]
    },
    {
      "cell_type": "code",
      "metadata": {
        "colab": {
          "base_uri": "https://localhost:8080/",
          "height": 279
        },
        "id": "fG4rj-2peeUz",
        "outputId": "0b3e7f02-cb67-4191-f3fc-37ecd4855be1"
      },
      "source": [
        "import sklearn\n",
        "from sklearn.metrics import confusion_matrix\n",
        "from sklearn.metrics import ConfusionMatrixDisplay\n",
        "\n",
        " \n",
        "# print(y_test)  # 1 column? of actual labels.\n",
        "y_pred = model.predict(x_test)\n",
        "# print(y_pred)  # 10 columns? of softmax\n",
        "# I need to convert this large y_pred of continuous probabilities into a 1-coded label vectors\n",
        "y_pred_1hot = np.argmax(y_pred, axis=1)\n",
        "\n",
        "cm = confusion_matrix(y_true = y_test, y_pred = y_pred_1hot )  #doesnt run because\n",
        "# alueError: Classification metrics can't handle a mix of continuous-multioutput and multiclass targets\n",
        "# WORKS NOW\n",
        "\n",
        "\n",
        "disp = ConfusionMatrixDisplay(cm, display_labels=info.features['label'].names).plot()"
      ],
      "execution_count": 42,
      "outputs": [
        {
          "output_type": "display_data",
          "data": {
            "image/png": "[encoded data removed]",
            "text/plain": [
              "<Figure size 432x288 with 2 Axes>"
            ]
          },
          "metadata": {
            "needs_background": "light"
          }
        }
      ]
    },
    {
      "cell_type": "markdown",
      "metadata": {
        "id": "pDCZu6m0jYSS"
      },
      "source": [
        "## Confusion Matrix of Cats\n",
        "\n",
        "I want to test that my confusion matrix is working, so I send in all of the same class, cat_A, through the predictive model."
      ]
    },
    {
      "cell_type": "code",
      "metadata": {
        "id": "CbEtjCAljgWy",
        "outputId": "b150a17a-976b-45bf-d229-f4ecc93d079c",
        "colab": {
          "base_uri": "https://localhost:8080/"
        }
      },
      "source": [
        "# print(y_test)  # 1 column? of actual labels.\n",
        "\n",
        "cats_A = cats_A.batch(250)\n",
        "\n",
        "preds_cats = model.predict(cats_A)\n",
        "# print(y_pred)  # 10 columns? of softmax\n",
        "# I need to convert this large y_pred of continuous probabilities into a 1-coded label vectors\n",
        "preds_cats = np.argmax(preds_cats, axis=1)\n",
        "# print(preds_cats)  - lots of threes predicted which is good\n",
        "# [3 3 3 3 3 6 3 3 3 3 3 8 3 5 3 3 3 3 3 3 3 3 3 4 3 3 3 3 6 3 3 3 5 3 3 3 3\n",
        " 3 3 3 8 3 3 3 3 3 3 3 3 3 3 3 3 3 3 3 3 2 3 3 6 3 3 3 3 3 3 3 3 6 3 3 3 3\n",
        " 6 3 3 3 3 3 3 3 3 3 3 3 3 3 3 3 3 3 3 3 3 3 3 4 3 3 3 3 3 4 3 3 3 3 3 3 3\n",
        " 3 3 5 3 3 3 0 3 3 3 3 3 3 3 6 3 3 3 3 4 3 3 3 5 3 3 3 6 3 3 3 3 3 9 3 3 3\n",
        " 3 6 3 3 2 6 3 3 3 3 3 3 3 3 3 5 3 3 3 3 3 5 3 6 4 3 3 3 5 3 3 3 3 3 3 3 3\n",
        " 3 4 3 3 3 3 3 3 3 3 3 3 3 4 3 3 3 6 3 8 3 3 3 3 3 3 3 6 4 3 3 3 3 3 3 3 3\n",
        " 3 3 3 3 2 3 3 3 3 3 3 3 5 8 3 3 3 3 3 3 8 3 3 5 6 0 3 6]\n",
        "\n",
        "#I need y_true or \"cat_true\", which is cat_A labels, to be defined here as an eagertensor, like it was for y_test, so I guess I should define it hte same way I defined y_test\n",
        "\n",
        "\n",
        "\n",
        "y_cats = get_labels_from_tfdataset(cats_A)\n",
        "\n",
        "\n",
        "print(y_cats)  # Printsa tf.Tensor of 3s (250 of them) which is correct\n",
        "# # tf.Tensor(\n",
        "# [3 3 3 3 3 3 3 3 3 3 3 3 3 3 3 3 3 3 3 3 3 3 3 3 3 3 3 3 3 3 3 3 3 3 3 3 3\n",
        "#  3 3 3 3 3 3 3 3 3 3 3 3 3 3 3 3 3 3 3 3 3 3 3 3 3 3 3 3 3 3 3 3 3 3 3 3 3\n",
        "#  3 3 3 3 3 3 3 3 3 3 3 3 3 3 3 3 3 3 3 3 3 3 3 3 3 3 3 3 3 3 3 3 3 3 3 3 3\n",
        "#  3 3 3 3 3 3 3 3 3 3 3 3 3 3 3 3 3 3 3 3 3 3 3 3 3 3 3 3 3 3 3 3 3 3 3 3 3\n",
        "#  3 3 3 3 3 3 3 3 3 3 3 3 3 3 3 3 3 3 3 3 3 3 3 3 3 3 3 3 3 3 3 3 3 3 3 3 3\n",
        "#  3 3 3 3 3 3 3 3 3 3 3 3 3 3 3 3 3 3 3 3 3 3 3 3 3 3 3 3 3 3 3 3 3 3 3 3 3\n",
        "#  3 3 3 3 3 3 3 3 3 3 3 3 3 3 3 3 3 3 3 3 3 3 3 3 3 3 3 3], shape=(250,), dtype=int64)\n",
        "\n",
        "# soIm guessing that means my confusion matrix index starts at 1 and misses class 0\n",
        "cm = confusion_matrix(y_true = y_cats, y_pred = preds_cats )  #doesnt run because\n",
        "# alueError: Classification metrics can't handle a mix of continuous-multioutput and multiclass targets\n",
        "# WORKS NOW\n",
        "print(cm)\n",
        "\n",
        "disp = ConfusionMatrixDisplay(cm, display_labels=['airplane',\n",
        " 'automobile',\n",
        " 'bird',\n",
        " 'cat',\n",
        " 'deer',\n",
        " 'dog',\n",
        " 'frog',\n",
        " 'horse',\n",
        " 'ship',\n",
        " 'truck']).plot()"
      ],
      "execution_count": 53,
      "outputs": [
        {
          "output_type": "stream",
          "name": "stdout",
          "text": [
            "[3 3 3 3 3 6 3 3 3 3 3 8 3 5 3 3 3 3 3 3 3 3 3 4 3 3 3 3 6 3 3 3 5 3 3 3 3\n",
            " 3 3 3 8 3 3 3 3 3 3 3 3 3 3 3 3 3 3 3 3 2 3 3 6 3 3 3 3 3 3 3 3 6 3 3 3 3\n",
            " 6 3 3 3 3 3 3 3 3 3 3 3 3 3 3 3 3 3 3 3 3 3 3 4 3 3 3 3 3 4 3 3 3 3 3 3 3\n",
            " 3 3 5 3 3 3 0 3 3 3 3 3 3 3 6 3 3 3 3 4 3 3 3 5 3 3 3 6 3 3 3 3 3 9 3 3 3\n",
            " 3 6 3 3 2 6 3 3 3 3 3 3 3 3 3 5 3 3 3 3 3 5 3 6 4 3 3 3 5 3 3 3 3 3 3 3 3\n",
            " 3 4 3 3 3 3 3 3 3 3 3 3 3 4 3 3 3 6 3 8 3 3 3 3 3 3 3 6 4 3 3 3 3 3 3 3 3\n",
            " 3 3 3 3 2 3 3 3 3 3 3 3 5 8 3 3 3 3 3 3 8 3 3 5 6 0 3 6]\n"
          ]
        }
      ]
    },
    {
      "cell_type": "markdown",
      "metadata": {
        "id": "bhpsTerXs7-0"
      },
      "source": [
        "ok i ran my mini dataset of cats through the model.predict, and I got some concerning results back.  I think It thinks I have fed it 208 birds and its classified them as 208 birds, according to the picture.   Somewhere we are missing a label or an index is wrong. "
      ]
    },
    {
      "cell_type": "code",
      "metadata": {
        "colab": {
          "base_uri": "https://localhost:8080/"
        },
        "id": "7z_VKC05hIF_",
        "outputId": "dbc5716c-5192-4c30-c676-a49c25c8a05f"
      },
      "source": [
        "info.features['label'].names"
      ],
      "execution_count": 49,
      "outputs": [
        {
          "output_type": "execute_result",
          "data": {
            "text/plain": [
              "['airplane',\n",
              " 'automobile',\n",
              " 'bird',\n",
              " 'cat',\n",
              " 'deer',\n",
              " 'dog',\n",
              " 'frog',\n",
              " 'horse',\n",
              " 'ship',\n",
              " 'truck']"
            ]
          },
          "metadata": {},
          "execution_count": 49
        }
      ]
    },
    {
      "cell_type": "markdown",
      "metadata": {
        "id": "a-S-iOqFiwru"
      },
      "source": [
        "Backup Copies of Datasets (at the end of code so I don't accidentally rerun anything"
      ]
    },
    {
      "cell_type": "code",
      "metadata": {
        "id": "tGDuabOdhH9Y"
      },
      "source": [
        "x_test_copy = x_test\n"
      ],
      "execution_count": null,
      "outputs": []
    }
  ]
}