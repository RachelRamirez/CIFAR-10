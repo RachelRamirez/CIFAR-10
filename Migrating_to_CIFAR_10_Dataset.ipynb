{
  "nbformat": 4,
  "nbformat_minor": 0,
  "metadata": {
    "accelerator": "GPU",
    "colab": {
      "name": "Migrating to CIFAR-10 Dataset",
      "provenance": [],
      "collapsed_sections": [
        "vOihTAXHITAi",
        "zpKcttwnrTnT",
        "j3J-NWLSOUwr",
        "LB0DdajjBT2D"
      ],
      "machine_shape": "hm",
      "include_colab_link": true
    },
    "kernelspec": {
      "display_name": "Python 3",
      "language": "python",
      "name": "python3"
    },
    "language_info": {
      "codemirror_mode": {
        "name": "ipython",
        "version": 3
      },
      "file_extension": ".py",
      "mimetype": "text/x-python",
      "name": "python",
      "nbconvert_exporter": "python",
      "pygments_lexer": "ipython3",
      "version": "3.7.0"
    }
  },
  "cells": [
    {
      "cell_type": "markdown",
      "metadata": {
        "id": "view-in-github",
        "colab_type": "text"
      },
      "source": [
        "<a href=\"https://colab.research.google.com/github/RachelRamirez/CIFAR-10/blob/main/Migrating_to_CIFAR_10_Dataset.ipynb\" target=\"_parent\"><img src=\"https://colab.research.google.com/assets/colab-badge.svg\" alt=\"Open In Colab\"/></a>"
      ]
    },
    {
      "cell_type": "markdown",
      "metadata": {
        "id": "3tLeuxPfOUwh"
      },
      "source": [
        "\"**Simple convnet**\" Architecture with Extremely Limited Data used to Train CNN\n",
        "\n",
        "**Original Author with MNIST:** [fchollet](https://twitter.com/fchollet)<br>\n",
        "Date created: 2015/06/19<br>\n",
        "\n",
        "**Modified to Fashion MNIST** [rachelramirez](https://github.com/RachelRamirez/FashionMNIST_DataAugmentation) 2021/08/25\n",
        "\n",
        "\n",
        "**Modified to CIFAR 10** [rachelramirez](https://github.com/RachelRamirez/CIFAR-10/blob/main/Migrating_to_CIFAR_10_Dataset.ipynb) 2021/09/25\n",
        "\n",
        "\n",
        "**Description:** A simple convnet architecture for training on CIFAR-10 with data augmentation techniques as a Design of Experiment (DOE).\n",
        "\n",
        "Then data is limited to varying levels of sample sizes to view the effect of data augmentation on increasing model accuracy.\n",
        "\n",
        "More features are added to original notebook for residual/error analysis such as confusion matrix and data augmentation."
      ]
    },
    {
      "cell_type": "markdown",
      "metadata": {
        "id": "vOihTAXHITAi"
      },
      "source": [
        "## Google Colab Pro Check Script "
      ]
    },
    {
      "cell_type": "code",
      "metadata": {
        "colab": {
          "base_uri": "https://localhost:8080/"
        },
        "id": "n3haQSkOOYVl",
        "outputId": "df33fa10-6a59-4ab9-f3f7-c5c463896259"
      },
      "source": [
        "gpu_info = !nvidia-smi\n",
        "gpu_info = '\\n'.join(gpu_info)\n",
        "if gpu_info.find('failed') >= 0:\n",
        "  print('Not connected to a GPU')\n",
        "else:\n",
        "  print(gpu_info)\n",
        "\n",
        "\n",
        "from psutil import virtual_memory\n",
        "ram_gb = virtual_memory().total / 1e9\n",
        "print('Your runtime has {:.1f} gigabytes of available RAM\\n'.format(ram_gb))\n",
        "\n",
        "if ram_gb < 20:\n",
        "  print('Not using a high-RAM runtime')\n",
        "else:\n",
        "  print('You are using a high-RAM runtime!')"
      ],
      "execution_count": 2,
      "outputs": [
        {
          "output_type": "stream",
          "name": "stdout",
          "text": [
            "Mon Oct 11 13:13:53 2021       \n",
            "+-----------------------------------------------------------------------------+\n",
            "| NVIDIA-SMI 470.74       Driver Version: 460.32.03    CUDA Version: 11.2     |\n",
            "|-------------------------------+----------------------+----------------------+\n",
            "| GPU  Name        Persistence-M| Bus-Id        Disp.A | Volatile Uncorr. ECC |\n",
            "| Fan  Temp  Perf  Pwr:Usage/Cap|         Memory-Usage | GPU-Util  Compute M. |\n",
            "|                               |                      |               MIG M. |\n",
            "|===============================+======================+======================|\n",
            "|   0  Tesla P100-PCIE...  Off  | 00000000:00:04.0 Off |                    0 |\n",
            "| N/A   33C    P0    26W / 250W |      0MiB / 16280MiB |      0%      Default |\n",
            "|                               |                      |                  N/A |\n",
            "+-------------------------------+----------------------+----------------------+\n",
            "                                                                               \n",
            "+-----------------------------------------------------------------------------+\n",
            "| Processes:                                                                  |\n",
            "|  GPU   GI   CI        PID   Type   Process name                  GPU Memory |\n",
            "|        ID   ID                                                   Usage      |\n",
            "|=============================================================================|\n",
            "|  No running processes found                                                 |\n",
            "+-----------------------------------------------------------------------------+\n",
            "Your runtime has 27.3 gigabytes of available RAM\n",
            "\n",
            "You are using a high-RAM runtime!\n"
          ]
        }
      ]
    },
    {
      "cell_type": "code",
      "metadata": {
        "colab": {
          "base_uri": "https://localhost:8080/"
        },
        "id": "SGvYofsKOUwo",
        "outputId": "4de2db1a-5e6f-4be7-c50f-5e50137a7f20"
      },
      "source": [
        "import numpy as np\n",
        "\n",
        "from tensorflow import keras\n",
        "from tensorflow.keras import layers\n",
        "from tensorflow.keras.models import Sequential\n",
        "from tensorflow.keras.preprocessing.image import ImageDataGenerator\n",
        "import tensorflow as tf\n",
        "import matplotlib.pyplot as plt\n",
        "import seaborn as sn\n",
        "from google.colab import files\n",
        "from keras.layers import GaussianNoise\n",
        "from sklearn.metrics import plot_confusion_matrix\n",
        "\n",
        "print(tf. __version__) \n",
        "\n",
        "\n",
        "import pandas as pd\n",
        "from datetime import datetime\n",
        "from keras.utils.vis_utils import plot_model"
      ],
      "execution_count": 3,
      "outputs": [
        {
          "output_type": "stream",
          "name": "stdout",
          "text": [
            "2.6.0\n"
          ]
        }
      ]
    },
    {
      "cell_type": "markdown",
      "metadata": {
        "id": "BZXBzLMJ7zEP"
      },
      "source": [
        "# CNN Building"
      ]
    },
    {
      "cell_type": "markdown",
      "metadata": {
        "id": "5U3IqBbq73BY"
      },
      "source": [
        "What is the right combination of number of convolutional layers, filters, and fully connected layers, batch normalization, learning rate,  filters, dropout, weight initialization?\n",
        "\n",
        " \n",
        "\n"
      ]
    },
    {
      "cell_type": "markdown",
      "metadata": {
        "id": "o4f-ZkVn8NiB"
      },
      "source": [
        "## Import CIFAR Data"
      ]
    },
    {
      "cell_type": "code",
      "metadata": {
        "id": "aFrsWfBb8Qc6",
        "colab": {
          "base_uri": "https://localhost:8080/",
          "height": 452
        },
        "outputId": "0c5a8c2d-d593-403d-aacb-47427fa9d102"
      },
      "source": [
        "# Model / data parameters\n",
        "num_classes = 10\n",
        "input_shape = (32, 32, 3)\n",
        "\n",
        "# the data, split between train and test sets\n",
        "(x_train, y_train), (x_test, y_test) = keras.datasets.cifar10.load_data()\n",
        "print(x_train.shape, y_train.shape, x_test.shape, y_test.shape)\n",
        "# # Until the end of all analysis I don't really want to look at the real test set results\n",
        "# # I'm overwriting them to make sure I don't accidentally use them\n",
        "\n",
        "print(\"The CIFAR data set has \", x_train.shape[0] , \" training observations, and \", x_test.shape[0], \" test observations.\"  )\n",
        "\n",
        "\n",
        "# # I decide to take 30,000 samples of the training set, and use that to \n",
        "# #  and a VALIDATION Set of up to 10,000 samples, and a FAKE-TEST set of the remaining 10,000\n",
        "# # After Analyzing the best \"Augmentation Effect\" I wil apply it to the \"REAL\" Test DataSet to see if it improved.\n",
        "\n",
        "n = 40000\n",
        "\n",
        "# # Validation Set  \n",
        "x_val = x_train[n:n+10000]\n",
        "y_val = y_train[n:n+10000]\n",
        "\n",
        "\n",
        "# # Finally I change train dataset to first n\n",
        "x_train = x_train[0:n]\n",
        "y_train = y_train[0:n]\n",
        "\n",
        "hist= sn.histplot(y_train)\n",
        "print(hist)\n",
        "# #My holdout Test Set after all the DOE is the original TEST set from dataset\n",
        "\n",
        "\n",
        "print(\"New Training Set shape: \", y_train.shape, \", Val set shape of , \", y_val.shape, \" and test set shape of \", y_test.shape)\n",
        "\n",
        "\n",
        "# Scale images to the [0, 1] range # put into preprocessing model step\n",
        "#x_train = x_train.astype(\"float32\") / 255\n",
        "#x_test = x_test.astype(\"float32\") / 255   \n",
        "# Make sure images have shape (28, 28, 1)\n",
        "x_train = np.expand_dims(x_train, -1)\n",
        "x_test = np.expand_dims(x_test, -1)\n",
        "x_val = np.expand_dims(x_val, -1)\n",
        "\n",
        "print(\"x_train shape:\", x_train.shape)\n",
        "print(x_train.shape[0], \"train samples\")\n",
        "print(x_val.shape[0], \"validation samples\")\n",
        "print(x_test.shape[0], \" test samples saved from the training set\")\n",
        "\n",
        "\n",
        "# convert class vectors to binary class matrices\n",
        "y_train = keras.utils.to_categorical(y_train, num_classes)\n",
        "y_val = keras.utils.to_categorical(y_val, num_classes)\n",
        "y_test = keras.utils.to_categorical(y_test, num_classes)\n",
        "\n",
        "# Try to put in tensor flow shape\n",
        "x_val = tf.stack(x_val)\n",
        "y_val = tf.stack(y_val)\n",
        "\n",
        "\n",
        "# Define Manual Validation Set\n",
        "valid_set = (x_val, y_val)\n"
      ],
      "execution_count": 4,
      "outputs": [
        {
          "output_type": "stream",
          "name": "stdout",
          "text": [
            "Downloading data from https://www.cs.toronto.edu/~kriz/cifar-10-python.tar.gz\n",
            "170500096/170498071 [==============================] - 4s 0us/step\n",
            "170508288/170498071 [==============================] - 4s 0us/step\n",
            "(50000, 32, 32, 3) (50000, 1) (10000, 32, 32, 3) (10000, 1)\n",
            "The CIFAR data set has  50000  training observations, and  10000  test observations.\n",
            "AxesSubplot(0.125,0.125;0.775x0.755)\n",
            "New Training Set shape:  (40000, 1) , Val set shape of ,  (10000, 1)  and test set shape of  (10000, 1)\n",
            "x_train shape: (40000, 32, 32, 3, 1)\n",
            "40000 train samples\n",
            "10000 validation samples\n",
            "10000  test samples saved from the training set\n"
          ]
        },
        {
          "output_type": "display_data",
          "data": {
            "image/png": "[encoded data removed]",
            "text/plain": [
              "<Figure size 432x288 with 1 Axes>"
            ]
          },
          "metadata": {
            "needs_background": "light"
          }
        }
      ]
    },
    {
      "cell_type": "markdown",
      "metadata": {
        "id": "R-KCeDf7_imI"
      },
      "source": [
        "## Model Exploration"
      ]
    },
    {
      "cell_type": "markdown",
      "metadata": {
        "id": "aOfZ5qIo_noz"
      },
      "source": [
        "What is the right combination of number of convolutional layers, filters, and fully connected layers, batch normalization, learning rate,  filters, dropout, weight initialization?\n"
      ]
    },
    {
      "cell_type": "code",
      "metadata": {
        "id": "mthJA9Ls_odM"
      },
      "source": [
        "  model = keras.Sequential(\n",
        "  [\n",
        "      keras.Input(shape=input_shape),\n",
        "      layers.experimental.preprocessing.Rescaling(1./255, input_shape=(input_shape)),\n",
        "    #  data_augmentation,   \n",
        "      layers.Conv2D(32, kernel_size=(3, 3), activation=\"relu\"),\n",
        "      layers.MaxPooling2D(pool_size=(2, 2)),\n",
        "      layers.Conv2D(64, kernel_size=(3, 3), activation=\"relu\"),\n",
        "      layers.MaxPooling2D(pool_size=(2, 2)),\n",
        "      layers.Conv2D(128, kernel_size=(3, 3), activation=\"relu\"),\n",
        "      layers.MaxPooling2D(pool_size=(2, 2)),\n",
        "      layers.Flatten(),\n",
        "      #layers.Dropout(0.5),\n",
        "      layers.Dense(num_classes, activation=\"softmax\")\n",
        "  ])\n"
      ],
      "execution_count": 5,
      "outputs": []
    },
    {
      "cell_type": "markdown",
      "metadata": {
        "id": "zpKcttwnrTnT"
      },
      "source": [
        "# Augmentation Experiment"
      ]
    },
    {
      "cell_type": "markdown",
      "metadata": {
        "id": "JJfFyadErbBf"
      },
      "source": [
        "The first part of this experiment is looking at the space for *TrainingSize*, *ValidationSize*, *BatchSize*, and *EpochSize*.  These all likely effect one another (4-way interactions) so a DOE design is used to look at Response Surface Methods.\n",
        "\n",
        "A: BatchSize (10, 100)\n",
        "\n",
        "B: Epochs  (15, 50)\n",
        "\n",
        "C: Training Size (Count)  (100, 1000)\n",
        "\n",
        "D: Validation (as percentage of Training Size)  (20%, 50%) \n",
        "\n",
        "Replicates: 2\n",
        "Center Points: 1"
      ]
    },
    {
      "cell_type": "markdown",
      "metadata": {
        "id": "R5UJ4XGxOUwp"
      },
      "source": [
        "## Prepare the data"
      ]
    },
    {
      "cell_type": "code",
      "metadata": {
        "colab": {
          "base_uri": "https://localhost:8080/",
          "height": 0
        },
        "id": "nW6G-5CNOUwq",
        "outputId": "4193e48f-18ed-45b4-ee8c-7f5d873a6979"
      },
      "source": [
        "# Model / data parameters\n",
        "num_classes = 10\n",
        "input_shape = (32, 32, 3)\n",
        "\n",
        "# the data, split between train and test sets\n",
        "(x_train, y_train), (x_test, y_test) = keras.datasets.cifar10.load_data()\n",
        "\n",
        "# Until the end of all analysis I don't really want to look at the real test set results\n",
        "# I'm overwriting them to make sure I don't accidentally use them\n",
        "\n",
        "x_test = []\n",
        "y_test = []\n",
        "\n",
        "\n",
        "# I decide to take a small dataset - 2000 samples of the 60000, and use that to \n",
        "# create a TRAIN Set of up to 1000 samples, a VALIDATION Set of up to 1000 samples, and a FAKE-TEST set of the remaining 58000\n",
        "# After Analyzing the best \"Augmentation Effect\" I wil apply it to the \"REAL\" Test DataSet to see if it improved.\n",
        "\n",
        "\n",
        "# # Validation Set is 1000 --> 500 \n",
        "x_val = x_train[5000:6000]\n",
        "y_val = y_train[5000:6000]\n",
        "\n",
        "# #My FAKE Test Set is 58000\n",
        "x_test = x_train[6000:60000]\n",
        "y_test = y_train[6000:60000]\n",
        "\n",
        "\n",
        "# # Finally I change train dataset to first 1500\n",
        "x_train = x_train[0:5000]\n",
        "y_train = y_train[0:5000]\n",
        "\n",
        "hist= sn.histplot(y_train)\n",
        "print(hist)\n",
        "#My holdout Test Set after all the DOE is the original TEST set from dataset\n",
        "\n",
        "\n",
        "#print(\"Fashion MNIST has training size up to: \", y_train.shape, \", val set of , \", y_val.shape, \" and test set of \", y_test.shape)\n",
        "\n",
        "\n",
        "# Scale images to the [0, 1] range # put into preprocessing model step\n",
        "#x_train = x_train.astype(\"float32\") / 255\n",
        "#x_test = x_test.astype(\"float32\") / 255   \n",
        "# Make sure images have shape (28, 28, 1)\n",
        "x_train = np.expand_dims(x_train, -1)\n",
        "x_test = np.expand_dims(x_test, -1)\n",
        "x_val = np.expand_dims(x_val, -1)\n",
        "\n",
        "print(\"x_train shape:\", x_train.shape)\n",
        "print(x_train.shape[0], \"train samples\")\n",
        "print(x_val.shape[0], \"validation samples\")\n",
        "print(x_test.shape[0], \" test samples saved from the training set\")\n",
        "\n",
        "\n",
        "# convert class vectors to binary class matrices\n",
        "y_train = keras.utils.to_categorical(y_train, num_classes)\n",
        "y_val = keras.utils.to_categorical(y_val, num_classes)\n",
        "y_test = keras.utils.to_categorical(y_test, num_classes)\n",
        "\n",
        "# Try to put in tensor flow shape\n",
        "x_val = tf.stack(x_val)\n",
        "y_val = tf.stack(y_val)\n",
        "\n",
        "\n",
        "# Define Manual Validation Set\n",
        "valid_set = (x_val, y_val)\n"
      ],
      "execution_count": 6,
      "outputs": [
        {
          "output_type": "stream",
          "name": "stdout",
          "text": [
            "AxesSubplot(0.125,0.125;0.775x0.755)\n",
            "x_train shape: (5000, 32, 32, 3, 1)\n",
            "5000 train samples\n",
            "1000 validation samples\n",
            "44000  test samples saved from the training set\n"
          ]
        },
        {
          "output_type": "display_data",
          "data": {
            "image/png": "[encoded data removed]",
            "text/plain": [
              "<Figure size 432x288 with 1 Axes>"
            ]
          },
          "metadata": {
            "needs_background": "light"
          }
        }
      ]
    },
    {
      "cell_type": "markdown",
      "metadata": {
        "id": "psp_7WmljrD4"
      },
      "source": [
        "Class 2 looks a bit underrepresented, class 7 looks overrepresented in first 1000.  I looked at 1500 and it seemed more balanced"
      ]
    },
    {
      "cell_type": "markdown",
      "metadata": {
        "id": "j3J-NWLSOUwr"
      },
      "source": [
        "## Image Augmentation Factors "
      ]
    },
    {
      "cell_type": "markdown",
      "metadata": {
        "id": "mAkWq7-unsil"
      },
      "source": [
        "Augmentation_Building Function to build Data Augmentation Layer in Keras"
      ]
    },
    {
      "cell_type": "code",
      "metadata": {
        "id": "KVwm2mHKBWEr"
      },
      "source": [
        "def augmentation_building(flip, c, r, n, z, randseed=42, num_classes = 10, input_shape = input_shape):  \n",
        "\n",
        "  if flip == 0:\n",
        "    flip_layer      = layers.experimental.preprocessing.Rescaling(1./1, input_shape=(input_shape))\n",
        "  else:\n",
        "    flip_layer     = layers.experimental.preprocessing.RandomFlip(\"horizontal\", seed = randseed, name = \"FlipHorizontal\")\n",
        "\n",
        "  # if r == 0:\n",
        "  #   rotate_layer    = layers.experimental.preprocessing.Rescaling(1./1, input_shape=(input_shape), name = \"RotateOff\")\n",
        "  # else:\n",
        "  #   rotate_layer   = layers.experimental.preprocessing.RandomRotation(factor = r, seed = randseed, name = \"RotateOn\")\n",
        "\n",
        "  if c == 0:\n",
        "    contrast_layer  = layers.experimental.preprocessing.Rescaling(1./1, input_shape=(input_shape), name = \"ContrastOff\")\n",
        "  else:\n",
        "    contrast_layer = layers.experimental.preprocessing.RandomContrast(factor=c, seed = randseed, name = \"ContrastOn\") \n",
        "\n",
        "  if n == 0:\n",
        "    noise_layer     = layers.experimental.preprocessing.Rescaling(1./1, input_shape=(input_shape), name = \"NoiseOff\")\n",
        "  else:\n",
        "   noise_layer    = layers.GaussianNoise(n, name = \"GaussianNoise\")\n",
        "\n",
        "  if z == 0:\n",
        "    zoom_layer      = layers.experimental.preprocessing.Rescaling(1./1, input_shape=(input_shape), name = \"ZoomOff\")\n",
        "  else:\n",
        "    zoom_layer     = layers.experimental.preprocessing.RandomZoom(height_factor=z, fill_mode=\"constant\", fill_value=0.0, name=\"ZoomOn\")\n",
        "\n",
        "  \n",
        "  data_augmentation = tf.keras.Sequential([\n",
        "    flip_layer,  \n",
        "    #rotate_layer,  \n",
        "    contrast_layer, \n",
        "    noise_layer,\n",
        "    zoom_layer  \n",
        "  ])\n",
        " \n",
        "\n",
        "  model = keras.Sequential(\n",
        "  [\n",
        "      keras.Input(shape=input_shape),\n",
        "      layers.experimental.preprocessing.Rescaling(1./255, input_shape=(input_shape)),\n",
        "      data_augmentation,   \n",
        "      layers.Conv2D(32, kernel_size=(3, 3), activation=\"relu\"),\n",
        "      layers.MaxPooling2D(pool_size=(2, 2)),\n",
        "      layers.Conv2D(64, kernel_size=(3, 3), activation=\"relu\"),\n",
        "      layers.MaxPooling2D(pool_size=(2, 2)),\n",
        "      layers.Conv2D(128, kernel_size=(3, 3), activation=\"relu\"),\n",
        "      layers.MaxPooling2D(pool_size=(2, 2)),\n",
        "      layers.Flatten(),\n",
        "      #layers.Dropout(0.5),\n",
        "      layers.Dense(num_classes, activation=\"softmax\")\n",
        "  ])\n",
        "  \n",
        "  return model\n"
      ],
      "execution_count": 7,
      "outputs": []
    },
    {
      "cell_type": "markdown",
      "metadata": {
        "id": "UfEAEpAFMm0W"
      },
      "source": [
        "Code to print the training-validation run plots by Accuracy and Loss \n"
      ]
    },
    {
      "cell_type": "code",
      "metadata": {
        "id": "GSvz7WMvMmVT"
      },
      "source": [
        "def print_history(history):\n",
        "  print(history.history.keys())\n",
        "  plt.figure(counter+1)\n",
        "\n",
        "  # plt.subplot(211)\n",
        "  plt.plot(history.history['accuracy'])\n",
        "  plt.plot(history.history['val_accuracy'])\n",
        "  plt.title('model accuracy')\n",
        "  plt.ylabel('accuracy')\n",
        "  plt.xlabel('epoch')\n",
        "  plt.legend(['train', 'validation'])\n",
        "  plt.show()\n",
        "\n",
        "  # summarize history for loss  \n",
        "  plt.subplot(212)  \n",
        "  plt.plot(history.history['loss'])  \n",
        "  plt.plot(history.history['val_loss'])  \n",
        "  plt.title('model loss')  \n",
        "  plt.ylabel('loss')  \n",
        "  plt.xlabel('epoch')  \n",
        "  plt.legend(['train', 'validation'], loc='upper left')  \n",
        "  plt.show() "
      ],
      "execution_count": 8,
      "outputs": []
    },
    {
      "cell_type": "markdown",
      "metadata": {
        "id": "C0DcCArLSguX"
      },
      "source": [
        "# Run the Experiment"
      ]
    },
    {
      "cell_type": "code",
      "metadata": {
        "id": "ftmEQF7fjEBg"
      },
      "source": [
        "var_trainsize  = 20, 100 #, 500, 1000 #, 1500, 2500, 5000 \n",
        "#var_flip = 0, 1                     # 0 means no flip, 1 means horizontal flip\n",
        "var_contrast = 0, 0.05, 0.1, 0.15 # 0.001, 0.01, 0.1    # 0 means no contrast (I think) and 1.02 means contrast difference of 0.02  (I think)\n",
        "# var_rotate = 0, 0.1     #0.025, .05       # 0.5 means rotate between -5 and 5 degrees\n",
        "var_noise = 0, 0.05, .1  ,0.15       # 0 means no noise, 0.1 means 10% noise\n",
        "var_zoom = 0, 0.05        #0.05, .1\n",
        "randseed = 42 #, 123, 4321\n",
        "\n",
        "\n",
        "def recordmodel(model, t, currentscore, current_run_variables, score_dictionary):\n",
        "  if currentscore > score_dictionary[t]['score']:\n",
        "    modelfilename = str(\"model_best\")  + str(t) + str(\".h5\")\n",
        "    model.save_weights(modelfilename) \n",
        "    print(\"                                        \\t   * new record accuracy saved\")\n",
        "    score_dictionary[t]['score'] = currentscore\n",
        "    score_dictionary[t]['record'] = current_run_variables\n",
        "  \n",
        "\n",
        "def initialize_variables(t):\n",
        "  variable_name, variable_value, variable_record = str(\"best_\") + str(t) + str(\"_run_score\"), 0.1, \"\"\n",
        "  return variable_name, variable_value, variable_record\n",
        "\n",
        "# Initialize Score Keeper\n",
        "score_dictionary = {}\n",
        "for t in var_trainsize:\n",
        "    score_dictionary[t] = { 'score': 0.1, 'record': \"\" }\n",
        "\n",
        "# Initialize Baseline Score Keepers\n",
        "basescore = {}\n",
        "for t in var_trainsize:\n",
        "    basescore[t] = 0\n",
        "        \n"
      ],
      "execution_count": 9,
      "outputs": []
    },
    {
      "cell_type": "code",
      "metadata": {
        "colab": {
          "base_uri": "https://localhost:8080/",
          "height": 881
        },
        "id": "6eCq1qgX-aCK",
        "outputId": "4cf1d9bc-dbcd-4eef-83f6-05084d33e4bd"
      },
      "source": [
        "scorelist = [] \n",
        "\n",
        "counter = 0\n",
        "#for b in var_batches:\n",
        "#  for e in var_epochs:\n",
        "b = 128                    # how would this work for training sets less than this amount?\n",
        "e = 100\n",
        "r = 0 # no more rotate\n",
        "flip = 0 # no more flip\n",
        "\n",
        "#for randseed in randseeds:  # like the replicates in a test\n",
        "for t in var_trainsize:\n",
        "\n",
        "  new_x_train = x_train[0:t]  \n",
        "  new_y_train = y_train[0:t]\n",
        "  print(new_y_train.shape)\n",
        "\n",
        "#  for flip in var_flip:\n",
        "  for c in var_contrast:\n",
        "    # for r in var_rotate:\n",
        "      for n in var_noise:\n",
        "        for z in var_zoom:\n",
        "        \n",
        "          counter+=1\n",
        "          model = augmentation_building(flip, c, r, n, z, randseed=randseed)\n",
        "                \n",
        "          \n",
        "\n",
        "          callback = tf.keras.callbacks.EarlyStopping(monitor='val_loss', patience=20)\n",
        "          model.compile(loss=\"categorical_crossentropy\", optimizer=\"adam\", metrics=[\"accuracy\"])\n",
        "          model.save_weights('model_clear.h5') \n",
        "          model.load_weights('model_clear.h5')\n",
        "          \n",
        "          \n",
        "          start_time = datetime.now()\n",
        "          history = model.fit(new_x_train, new_y_train, batch_size=b, epochs=e, validation_data=valid_set, verbose=0, callbacks=callback)\n",
        "          #end_time = datetime.now()\n",
        "          #dur = end_time - start_time\n",
        "\n",
        "          score = model.evaluate(x_test, y_test, verbose=0)\n",
        "\n",
        "          scorelist +=  [[counter, e, b,  t,  flip ,c,r,n,z,  score[1], score[0]]]\n",
        "          print(counter, b, e,  t, flip,c,r,n, z, \"\\t Accuracy: \", format(score[1], \".4f\"), \" Loss: \", format(score[0], \".4f\"))\n",
        "          \n",
        "          current_run_variables = \"Flip \" + str(flip) +  \", Contrast \" + str(c) +  \", Rotate \" + str(r) +  \", Noise \" + str(n) +  \", Zoom: \" + str(z) + \"RandSeed\" + str(randseed)\n",
        "        \n",
        "        \n",
        "          if flip ==0 and c ==0 and n==0 and z == 0:\n",
        "            print(\"Baseline Model Saved\")\n",
        "            modelbaseline = \"Baseline\" + str(t)  +  \".h5\"\n",
        "            model.save_weights(modelbaseline)\n",
        "            basescore[t] = score[1]\n",
        "            print_history(history)\n",
        "            \n",
        "          else:  \n",
        "          #Keep tabs on the best performing 100-run models\n",
        "            modelname =  \"model_\" + \"best\"   + str(t) + \".h5\"\n",
        "            recordmodel(model, t, score[1],  current_run_variables, score_dictionary)\n",
        "                        \n",
        "          filename = str(t) + 'T-' + str(flip) + 'F-' + str(c) + \"C-\" +  str(r) + \"R-\" +  str(n) + \"N-\" + str(z) + \"Z\" + str('.csv')\n",
        "\n",
        "\n",
        "\n",
        "np.savetxt(filename, scorelist, delimiter=',')\n",
        "print(\"File \", filename, \" saved at \", start_time)\n",
        "\n",
        "\n"
      ],
      "execution_count": 10,
      "outputs": [
        {
          "output_type": "stream",
          "name": "stdout",
          "text": [
            "(20, 10)\n",
            "1 128 100 20 0 0 0 0 0 \t Accuracy:  0.1596  Loss:  4.7789\n",
            "Baseline Model Saved\n",
            "dict_keys(['loss', 'accuracy', 'val_loss', 'val_accuracy'])\n"
          ]
        },
        {
          "output_type": "display_data",
          "data": {
            "image/png": "[encoded data removed]",
            "text/plain": [
              "<Figure size 432x288 with 1 Axes>"
            ]
          },
          "metadata": {
            "needs_background": "light"
          }
        },
        {
          "output_type": "display_data",
          "data": {
            "image/png": "[encoded data removed]",
            "text/plain": [
              "<Figure size 432x288 with 1 Axes>"
            ]
          },
          "metadata": {
            "needs_background": "light"
          }
        },
        {
          "output_type": "error",
          "ename": "KeyboardInterrupt",
          "evalue": "ignored",
          "traceback": [
            "\u001b[0;31m---------------------------------------------------------------------------\u001b[0m",
            "\u001b[0;31mKeyboardInterrupt\u001b[0m                         Traceback (most recent call last)",
            "\u001b[0;32m<ipython-input-10-c38885f64235>\u001b[0m in \u001b[0;36m<module>\u001b[0;34m()\u001b[0m\n\u001b[1;32m     38\u001b[0m           \u001b[0;31m#dur = end_time - start_time\u001b[0m\u001b[0;34m\u001b[0m\u001b[0;34m\u001b[0m\u001b[0;34m\u001b[0m\u001b[0m\n\u001b[1;32m     39\u001b[0m \u001b[0;34m\u001b[0m\u001b[0m\n\u001b[0;32m---> 40\u001b[0;31m           \u001b[0mscore\u001b[0m \u001b[0;34m=\u001b[0m \u001b[0mmodel\u001b[0m\u001b[0;34m.\u001b[0m\u001b[0mevaluate\u001b[0m\u001b[0;34m(\u001b[0m\u001b[0mx_test\u001b[0m\u001b[0;34m,\u001b[0m \u001b[0my_test\u001b[0m\u001b[0;34m,\u001b[0m \u001b[0mverbose\u001b[0m\u001b[0;34m=\u001b[0m\u001b[0;36m0\u001b[0m\u001b[0;34m)\u001b[0m\u001b[0;34m\u001b[0m\u001b[0;34m\u001b[0m\u001b[0m\n\u001b[0m\u001b[1;32m     41\u001b[0m \u001b[0;34m\u001b[0m\u001b[0m\n\u001b[1;32m     42\u001b[0m           \u001b[0mscorelist\u001b[0m \u001b[0;34m+=\u001b[0m  \u001b[0;34m[\u001b[0m\u001b[0;34m[\u001b[0m\u001b[0mcounter\u001b[0m\u001b[0;34m,\u001b[0m \u001b[0me\u001b[0m\u001b[0;34m,\u001b[0m \u001b[0mb\u001b[0m\u001b[0;34m,\u001b[0m  \u001b[0mt\u001b[0m\u001b[0;34m,\u001b[0m  \u001b[0mflip\u001b[0m \u001b[0;34m,\u001b[0m\u001b[0mc\u001b[0m\u001b[0;34m,\u001b[0m\u001b[0mr\u001b[0m\u001b[0;34m,\u001b[0m\u001b[0mn\u001b[0m\u001b[0;34m,\u001b[0m\u001b[0mz\u001b[0m\u001b[0;34m,\u001b[0m  \u001b[0mscore\u001b[0m\u001b[0;34m[\u001b[0m\u001b[0;36m1\u001b[0m\u001b[0;34m]\u001b[0m\u001b[0;34m,\u001b[0m \u001b[0mscore\u001b[0m\u001b[0;34m[\u001b[0m\u001b[0;36m0\u001b[0m\u001b[0;34m]\u001b[0m\u001b[0;34m]\u001b[0m\u001b[0;34m]\u001b[0m\u001b[0;34m\u001b[0m\u001b[0;34m\u001b[0m\u001b[0m\n",
            "\u001b[0;32m/usr/local/lib/python3.7/dist-packages/keras/engine/training.py\u001b[0m in \u001b[0;36mevaluate\u001b[0;34m(self, x, y, batch_size, verbose, sample_weight, steps, callbacks, max_queue_size, workers, use_multiprocessing, return_dict, **kwargs)\u001b[0m\n\u001b[1;32m   1499\u001b[0m             \u001b[0;32mwith\u001b[0m \u001b[0mtf\u001b[0m\u001b[0;34m.\u001b[0m\u001b[0mprofiler\u001b[0m\u001b[0;34m.\u001b[0m\u001b[0mexperimental\u001b[0m\u001b[0;34m.\u001b[0m\u001b[0mTrace\u001b[0m\u001b[0;34m(\u001b[0m\u001b[0;34m'test'\u001b[0m\u001b[0;34m,\u001b[0m \u001b[0mstep_num\u001b[0m\u001b[0;34m=\u001b[0m\u001b[0mstep\u001b[0m\u001b[0;34m,\u001b[0m \u001b[0m_r\u001b[0m\u001b[0;34m=\u001b[0m\u001b[0;36m1\u001b[0m\u001b[0;34m)\u001b[0m\u001b[0;34m:\u001b[0m\u001b[0;34m\u001b[0m\u001b[0;34m\u001b[0m\u001b[0m\n\u001b[1;32m   1500\u001b[0m               \u001b[0mcallbacks\u001b[0m\u001b[0;34m.\u001b[0m\u001b[0mon_test_batch_begin\u001b[0m\u001b[0;34m(\u001b[0m\u001b[0mstep\u001b[0m\u001b[0;34m)\u001b[0m\u001b[0;34m\u001b[0m\u001b[0;34m\u001b[0m\u001b[0m\n\u001b[0;32m-> 1501\u001b[0;31m               \u001b[0mtmp_logs\u001b[0m \u001b[0;34m=\u001b[0m \u001b[0mself\u001b[0m\u001b[0;34m.\u001b[0m\u001b[0mtest_function\u001b[0m\u001b[0;34m(\u001b[0m\u001b[0miterator\u001b[0m\u001b[0;34m)\u001b[0m\u001b[0;34m\u001b[0m\u001b[0;34m\u001b[0m\u001b[0m\n\u001b[0m\u001b[1;32m   1502\u001b[0m               \u001b[0;32mif\u001b[0m \u001b[0mdata_handler\u001b[0m\u001b[0;34m.\u001b[0m\u001b[0mshould_sync\u001b[0m\u001b[0;34m:\u001b[0m\u001b[0;34m\u001b[0m\u001b[0;34m\u001b[0m\u001b[0m\n\u001b[1;32m   1503\u001b[0m                 \u001b[0mcontext\u001b[0m\u001b[0;34m.\u001b[0m\u001b[0masync_wait\u001b[0m\u001b[0;34m(\u001b[0m\u001b[0;34m)\u001b[0m\u001b[0;34m\u001b[0m\u001b[0;34m\u001b[0m\u001b[0m\n",
            "\u001b[0;32m/usr/local/lib/python3.7/dist-packages/tensorflow/python/eager/def_function.py\u001b[0m in \u001b[0;36m__call__\u001b[0;34m(self, *args, **kwds)\u001b[0m\n\u001b[1;32m    883\u001b[0m \u001b[0;34m\u001b[0m\u001b[0m\n\u001b[1;32m    884\u001b[0m       \u001b[0;32mwith\u001b[0m \u001b[0mOptionalXlaContext\u001b[0m\u001b[0;34m(\u001b[0m\u001b[0mself\u001b[0m\u001b[0;34m.\u001b[0m\u001b[0m_jit_compile\u001b[0m\u001b[0;34m)\u001b[0m\u001b[0;34m:\u001b[0m\u001b[0;34m\u001b[0m\u001b[0;34m\u001b[0m\u001b[0m\n\u001b[0;32m--> 885\u001b[0;31m         \u001b[0mresult\u001b[0m \u001b[0;34m=\u001b[0m \u001b[0mself\u001b[0m\u001b[0;34m.\u001b[0m\u001b[0m_call\u001b[0m\u001b[0;34m(\u001b[0m\u001b[0;34m*\u001b[0m\u001b[0margs\u001b[0m\u001b[0;34m,\u001b[0m \u001b[0;34m**\u001b[0m\u001b[0mkwds\u001b[0m\u001b[0;34m)\u001b[0m\u001b[0;34m\u001b[0m\u001b[0;34m\u001b[0m\u001b[0m\n\u001b[0m\u001b[1;32m    886\u001b[0m \u001b[0;34m\u001b[0m\u001b[0m\n\u001b[1;32m    887\u001b[0m       \u001b[0mnew_tracing_count\u001b[0m \u001b[0;34m=\u001b[0m \u001b[0mself\u001b[0m\u001b[0;34m.\u001b[0m\u001b[0mexperimental_get_tracing_count\u001b[0m\u001b[0;34m(\u001b[0m\u001b[0;34m)\u001b[0m\u001b[0;34m\u001b[0m\u001b[0;34m\u001b[0m\u001b[0m\n",
            "\u001b[0;32m/usr/local/lib/python3.7/dist-packages/tensorflow/python/eager/def_function.py\u001b[0m in \u001b[0;36m_call\u001b[0;34m(self, *args, **kwds)\u001b[0m\n\u001b[1;32m    922\u001b[0m       \u001b[0;31m# In this case we have not created variables on the first call. So we can\u001b[0m\u001b[0;34m\u001b[0m\u001b[0;34m\u001b[0m\u001b[0;34m\u001b[0m\u001b[0m\n\u001b[1;32m    923\u001b[0m       \u001b[0;31m# run the first trace but we should fail if variables are created.\u001b[0m\u001b[0;34m\u001b[0m\u001b[0;34m\u001b[0m\u001b[0;34m\u001b[0m\u001b[0m\n\u001b[0;32m--> 924\u001b[0;31m       \u001b[0mresults\u001b[0m \u001b[0;34m=\u001b[0m \u001b[0mself\u001b[0m\u001b[0;34m.\u001b[0m\u001b[0m_stateful_fn\u001b[0m\u001b[0;34m(\u001b[0m\u001b[0;34m*\u001b[0m\u001b[0margs\u001b[0m\u001b[0;34m,\u001b[0m \u001b[0;34m**\u001b[0m\u001b[0mkwds\u001b[0m\u001b[0;34m)\u001b[0m\u001b[0;34m\u001b[0m\u001b[0;34m\u001b[0m\u001b[0m\n\u001b[0m\u001b[1;32m    925\u001b[0m       \u001b[0;32mif\u001b[0m \u001b[0mself\u001b[0m\u001b[0;34m.\u001b[0m\u001b[0m_created_variables\u001b[0m \u001b[0;32mand\u001b[0m \u001b[0;32mnot\u001b[0m \u001b[0mALLOW_DYNAMIC_VARIABLE_CREATION\u001b[0m\u001b[0;34m:\u001b[0m\u001b[0;34m\u001b[0m\u001b[0;34m\u001b[0m\u001b[0m\n\u001b[1;32m    926\u001b[0m         raise ValueError(\"Creating variables on a non-first call to a function\"\n",
            "\u001b[0;32m/usr/local/lib/python3.7/dist-packages/tensorflow/python/eager/function.py\u001b[0m in \u001b[0;36m__call__\u001b[0;34m(self, *args, **kwargs)\u001b[0m\n\u001b[1;32m   3036\u001b[0m     \u001b[0;32mwith\u001b[0m \u001b[0mself\u001b[0m\u001b[0;34m.\u001b[0m\u001b[0m_lock\u001b[0m\u001b[0;34m:\u001b[0m\u001b[0;34m\u001b[0m\u001b[0;34m\u001b[0m\u001b[0m\n\u001b[1;32m   3037\u001b[0m       (graph_function,\n\u001b[0;32m-> 3038\u001b[0;31m        filtered_flat_args) = self._maybe_define_function(args, kwargs)\n\u001b[0m\u001b[1;32m   3039\u001b[0m     return graph_function._call_flat(\n\u001b[1;32m   3040\u001b[0m         filtered_flat_args, captured_inputs=graph_function.captured_inputs)  # pylint: disable=protected-access\n",
            "\u001b[0;32m/usr/local/lib/python3.7/dist-packages/tensorflow/python/eager/function.py\u001b[0m in \u001b[0;36m_maybe_define_function\u001b[0;34m(self, args, kwargs)\u001b[0m\n\u001b[1;32m   3458\u001b[0m               call_context_key in self._function_cache.missed):\n\u001b[1;32m   3459\u001b[0m             return self._define_function_with_shape_relaxation(\n\u001b[0;32m-> 3460\u001b[0;31m                 args, kwargs, flat_args, filtered_flat_args, cache_key_context)\n\u001b[0m\u001b[1;32m   3461\u001b[0m \u001b[0;34m\u001b[0m\u001b[0m\n\u001b[1;32m   3462\u001b[0m           \u001b[0mself\u001b[0m\u001b[0;34m.\u001b[0m\u001b[0m_function_cache\u001b[0m\u001b[0;34m.\u001b[0m\u001b[0mmissed\u001b[0m\u001b[0;34m.\u001b[0m\u001b[0madd\u001b[0m\u001b[0;34m(\u001b[0m\u001b[0mcall_context_key\u001b[0m\u001b[0;34m)\u001b[0m\u001b[0;34m\u001b[0m\u001b[0;34m\u001b[0m\u001b[0m\n",
            "\u001b[0;32m/usr/local/lib/python3.7/dist-packages/tensorflow/python/eager/function.py\u001b[0m in \u001b[0;36m_define_function_with_shape_relaxation\u001b[0;34m(self, args, kwargs, flat_args, filtered_flat_args, cache_key_context)\u001b[0m\n\u001b[1;32m   3349\u001b[0m     if (relaxed_arg_function is not None\n\u001b[1;32m   3350\u001b[0m         and all(_is_type_subset(x, y) for (x, y) in\n\u001b[0;32m-> 3351\u001b[0;31m                 zip(relaxed_arg_specs, arg_specs))):\n\u001b[0m\u001b[1;32m   3352\u001b[0m       \u001b[0;32mreturn\u001b[0m \u001b[0mrelaxed_arg_function\u001b[0m\u001b[0;34m,\u001b[0m \u001b[0mfiltered_flat_args\u001b[0m\u001b[0;34m\u001b[0m\u001b[0;34m\u001b[0m\u001b[0m\n\u001b[1;32m   3353\u001b[0m \u001b[0;34m\u001b[0m\u001b[0m\n",
            "\u001b[0;32m/usr/local/lib/python3.7/dist-packages/tensorflow/python/eager/function.py\u001b[0m in \u001b[0;36m<genexpr>\u001b[0;34m(.0)\u001b[0m\n\u001b[1;32m   3348\u001b[0m \u001b[0;34m\u001b[0m\u001b[0m\n\u001b[1;32m   3349\u001b[0m     if (relaxed_arg_function is not None\n\u001b[0;32m-> 3350\u001b[0;31m         and all(_is_type_subset(x, y) for (x, y) in\n\u001b[0m\u001b[1;32m   3351\u001b[0m                 zip(relaxed_arg_specs, arg_specs))):\n\u001b[1;32m   3352\u001b[0m       \u001b[0;32mreturn\u001b[0m \u001b[0mrelaxed_arg_function\u001b[0m\u001b[0;34m,\u001b[0m \u001b[0mfiltered_flat_args\u001b[0m\u001b[0;34m\u001b[0m\u001b[0;34m\u001b[0m\u001b[0m\n",
            "\u001b[0;32m/usr/local/lib/python3.7/dist-packages/tensorflow/python/eager/function.py\u001b[0m in \u001b[0;36m_is_type_subset\u001b[0;34m(a, b)\u001b[0m\n\u001b[1;32m    179\u001b[0m     \u001b[0;32mreturn\u001b[0m \u001b[0;32mTrue\u001b[0m\u001b[0;34m\u001b[0m\u001b[0;34m\u001b[0m\u001b[0m\n\u001b[1;32m    180\u001b[0m   \u001b[0;32melse\u001b[0m\u001b[0;34m:\u001b[0m\u001b[0;34m\u001b[0m\u001b[0;34m\u001b[0m\u001b[0m\n\u001b[0;32m--> 181\u001b[0;31m     \u001b[0;32mreturn\u001b[0m \u001b[0ma\u001b[0m\u001b[0;34m.\u001b[0m\u001b[0mmost_specific_compatible_type\u001b[0m\u001b[0;34m(\u001b[0m\u001b[0mb\u001b[0m\u001b[0;34m)\u001b[0m \u001b[0;34m==\u001b[0m \u001b[0ma\u001b[0m\u001b[0;34m\u001b[0m\u001b[0;34m\u001b[0m\u001b[0m\n\u001b[0m\u001b[1;32m    182\u001b[0m \u001b[0;34m\u001b[0m\u001b[0m\n\u001b[1;32m    183\u001b[0m \u001b[0;34m\u001b[0m\u001b[0m\n",
            "\u001b[0;32m/usr/local/lib/python3.7/dist-packages/tensorflow/python/framework/type_spec.py\u001b[0m in \u001b[0;36m__eq__\u001b[0;34m(self, other)\u001b[0m\n\u001b[1;32m    321\u001b[0m     \u001b[0;31m# pylint: disable=protected-access\u001b[0m\u001b[0;34m\u001b[0m\u001b[0;34m\u001b[0m\u001b[0;34m\u001b[0m\u001b[0m\n\u001b[1;32m    322\u001b[0m     return (type(other) is type(self) and\n\u001b[0;32m--> 323\u001b[0;31m             self.__get_cmp_key() == other.__get_cmp_key())\n\u001b[0m\u001b[1;32m    324\u001b[0m \u001b[0;34m\u001b[0m\u001b[0m\n\u001b[1;32m    325\u001b[0m   \u001b[0;32mdef\u001b[0m \u001b[0m__ne__\u001b[0m\u001b[0;34m(\u001b[0m\u001b[0mself\u001b[0m\u001b[0;34m,\u001b[0m \u001b[0mother\u001b[0m\u001b[0;34m)\u001b[0m\u001b[0;34m:\u001b[0m\u001b[0;34m\u001b[0m\u001b[0;34m\u001b[0m\u001b[0m\n",
            "\u001b[0;32m/usr/local/lib/python3.7/dist-packages/tensorflow/python/framework/tensor_spec.py\u001b[0m in \u001b[0;36m__eq__\u001b[0;34m(self, other)\u001b[0m\n\u001b[1;32m     88\u001b[0m     return (type(self) is type(other) and\n\u001b[1;32m     89\u001b[0m             \u001b[0mself\u001b[0m\u001b[0;34m.\u001b[0m\u001b[0m_shape_tuple\u001b[0m \u001b[0;34m==\u001b[0m \u001b[0mother\u001b[0m\u001b[0;34m.\u001b[0m\u001b[0m_shape_tuple\u001b[0m\u001b[0;34m\u001b[0m\u001b[0;34m\u001b[0m\u001b[0m\n\u001b[0;32m---> 90\u001b[0;31m             \u001b[0;32mand\u001b[0m \u001b[0mself\u001b[0m\u001b[0;34m.\u001b[0m\u001b[0m_dtype\u001b[0m \u001b[0;34m==\u001b[0m \u001b[0mother\u001b[0m\u001b[0;34m.\u001b[0m\u001b[0m_dtype\u001b[0m\u001b[0;34m\u001b[0m\u001b[0;34m\u001b[0m\u001b[0m\n\u001b[0m\u001b[1;32m     91\u001b[0m             and self._name == other._name)\n\u001b[1;32m     92\u001b[0m \u001b[0;34m\u001b[0m\u001b[0m\n",
            "\u001b[0;31mKeyboardInterrupt\u001b[0m: "
          ]
        }
      ]
    },
    {
      "cell_type": "markdown",
      "metadata": {
        "id": "LB0DdajjBT2D"
      },
      "source": [
        "### Model Summary - model in for-loop (hide)"
      ]
    },
    {
      "cell_type": "code",
      "metadata": {
        "id": "KYlAkUTfHUME"
      },
      "source": [
        "tf.keras.utils.plot_model(\n",
        "    model,\n",
        "    to_file=\"model.png\",\n",
        "    show_shapes=False,\n",
        "    show_dtype=False,\n",
        "    show_layer_names=True,\n",
        "    rankdir=\"TB\",\n",
        "    expand_nested=False,\n",
        "    dpi=96,\n",
        "    layer_range=None,\n",
        ")\n",
        "plot_model(model, to_file='model_plot.png', show_shapes=True, show_layer_names=True)"
      ],
      "execution_count": null,
      "outputs": []
    },
    {
      "cell_type": "markdown",
      "metadata": {
        "id": "gCLKo7SgHa8J"
      },
      "source": [
        "Better Plot Model Option"
      ]
    },
    {
      "cell_type": "code",
      "metadata": {
        "id": "GUwXcXiCHaVJ"
      },
      "source": [
        ""
      ],
      "execution_count": null,
      "outputs": []
    },
    {
      "cell_type": "code",
      "metadata": {
        "id": "Ohf_0rieSXC9"
      },
      "source": [
        "!pip install h5py==2.10.0"
      ],
      "execution_count": null,
      "outputs": []
    },
    {
      "cell_type": "markdown",
      "metadata": {
        "id": "f_OXslKCOUw0"
      },
      "source": [
        "# Evaluate the trained model on TEST DATA"
      ]
    },
    {
      "cell_type": "code",
      "metadata": {
        "id": "DyqgW4Qyn3y5"
      },
      "source": [
        "LABEL_NAMES = ['T-shirt', 'Trouser', 'Pullover', 'Dress', 'Coat', 'Sandal', 'Shirt', 'Sneaker', 'Bag', 'AnkleBoots']\n",
        "\n",
        "modelnames = []\n",
        "for t in var_trainsize:  \n",
        "  modelfilename = str(\"model_best\")  + str(t) + str(\".h5\")\n",
        "  modelnames = modelnames + [modelfilename]\n",
        "\n",
        "\n",
        "basenames = []\n",
        "for t in var_trainsize:  \n",
        "  modelfilename = str(\"Baseline\")  + str(t) + str(\".h5\")\n",
        "  basenames = basenames + [modelfilename]\n",
        " \n",
        "y_test_reshape = np.argmax(y_test, axis=1) \n",
        "# Quick Check which model was better (Augmented or Base/Non-Augmented)\n",
        "for t in var_trainsize:\n",
        "  if basescore[t] >= score_dictionary[t]['score']:\n",
        "    print(\"Base \", t, \"has best Accuracy\", basescore[t])\n",
        "  else:\n",
        "    print(\"Augmented \", t, \"has best Accuracy,\", score_dictionary[t]['score'], \" compared to \", basescore[t], \"difference of \\t\", (score_dictionary[t]['score']-basescore[t]))\n",
        "\n",
        "\n",
        "# When Evaluating the Models on the Test/Holdout Data I want to make sure I'm not\n",
        "#  inadvertently adding a dataaugmentation step, I just want the testdata/holdoutdata to go through the weights.so i respecify the model architecture here\n",
        "  model = keras.Sequential(\n",
        "  [\n",
        "      keras.Input(shape=input_shape),\n",
        "      layers.experimental.preprocessing.Rescaling(1./255, input_shape=(input_shape)),\n",
        "    #  data_augmentation,   \n",
        "      layers.Conv2D(32, kernel_size=(3, 3), activation=\"relu\"),\n",
        "      layers.MaxPooling2D(pool_size=(2, 2)),\n",
        "      layers.Conv2D(64, kernel_size=(3, 3), activation=\"relu\"),\n",
        "      layers.MaxPooling2D(pool_size=(2, 2)),\n",
        "      layers.Conv2D(128, kernel_size=(3, 3), activation=\"relu\"),\n",
        "      layers.MaxPooling2D(pool_size=(2, 2)),\n",
        "      layers.Flatten(),\n",
        "      #layers.Dropout(0.5),\n",
        "      layers.Dense(num_classes, activation=\"softmax\")\n",
        "  ])\n",
        "\n",
        "\n",
        "def makeconfusionmatrix(model, modelname, accuracy, tsize, otherinfo = \"\"):\n",
        "    model.load_weights(modelname)\n",
        "\n",
        "    predictions = model.predict(x_test)\n",
        "    predictions = np.argmax(predictions, axis=1)\n",
        "    \n",
        "    confusion_matrix = tf.math.confusion_matrix(y_test_reshape, predictions)  #First Variable is on VERTICAL, second Variable is on X HORIZONTAL\n",
        "    title = str(modelname) + str(\" Accuracy \" ) + str(round(accuracy, ndigits=4)) + str(otherinfo)\n",
        "\n",
        "    f, ax = plt.subplots(figsize=(5, 7), sharey = True)\n",
        "    sn.heatmap(\n",
        "        confusion_matrix,\n",
        "        annot=True,\n",
        "        linewidths=.5,\n",
        "        fmt=\"d\",\n",
        "        square=True\n",
        "        ,cmap=plt.cm.gray_r\n",
        "        ,cbar=False\n",
        "        ,xticklabels=LABEL_NAMES\n",
        "        ,yticklabels=LABEL_NAMES\n",
        "        #,display_labels=LABEL_NAMES\n",
        "        ,ax=ax\n",
        "\n",
        "    )\n",
        "    plt.title(title)\n",
        "    ax.set_ylabel('True Category')\n",
        "    ax.set_xlabel('Predictions')\n",
        "    plt.show()\n",
        "  \n"
      ],
      "execution_count": null,
      "outputs": []
    },
    {
      "cell_type": "markdown",
      "metadata": {
        "id": "YobOk8sNTgip"
      },
      "source": [
        "In my first run, no data augmentation, 100 random samples of the Training Set, using 50% of that as the Validation Set, using a Batch Size of 50 and Epochs = 30, the resulting accuracy of the test-set is Test loss: 0.912209689617157\n",
        "Test accuracy: 0.6866999864578247"
      ]
    },
    {
      "cell_type": "markdown",
      "metadata": {
        "id": "ua25YRGNHg0S"
      },
      "source": [
        "## Confusion Matrix without the Diagonal"
      ]
    },
    {
      "cell_type": "code",
      "metadata": {
        "id": "3aRFTHeG1SkQ"
      },
      "source": [
        "def makeconfusionmatrixminusidentity(model, modelname, accuracy, tsize, otherinfo = \"\"):\n",
        "    model.load_weights(modelname)\n",
        "\n",
        "    predictions = model.predict(x_test)\n",
        "    predictions = np.argmax(predictions, axis=1)\n",
        "    \n",
        "    confusion_matrix = tf.math.confusion_matrix(y_test_reshape, predictions)  #First Variable is on VERTICAL, second Variable is on X HORIZONTAL\n",
        "    title = str(modelname) + str(\" Accuracy \" ) + str(round(accuracy, ndigits=4)) + str(otherinfo)\n",
        "\n",
        "\n",
        "    confusing_part_matrix= np.array(confusion_matrix)-np.identity(confusion_matrix.shape[0])*np.diag(confusion_matrix)\n",
        "    confusing_part_matrix = tf.convert_to_tensor(confusing_part_matrix)\n",
        "    title = str(modelname)\n",
        "\n",
        "    f, ax = plt.subplots(figsize=(9, 7))\n",
        "    sn.heatmap(\n",
        "        confusing_part_matrix,\n",
        "        annot=True,\n",
        "        linewidths=.5\n",
        "        ,fmt='.0f'\n",
        "        ,square=True\n",
        "        ,cmap=plt.cm.gray_r\n",
        "        ,cbar=True\n",
        "        ,vmax=2000\n",
        "        ,xticklabels=LABEL_NAMES\n",
        "        ,yticklabels=LABEL_NAMES\n",
        "        #,display_labels=LABEL_NAMES\n",
        "        #,ax=ax\n",
        "    )\n",
        "\n",
        "  \n",
        "    plt.title(title)\n",
        "    plt.show()\n",
        "\n",
        "\n",
        "    ## find the max value of those remaining numbers\n",
        "    thisnumber=np.max(confusing_part_matrix)\n",
        "\n",
        "    # x_thisnumber=np.argmax(confusing_part_matrix,axis=0)\n",
        "    # y_thisnumber=np.argmax(confusing_part_matrix,axis=1)\n",
        "    # z_thisnumber=np.argmax(confusing_part_matrix)\n",
        "    # display(x_thisnumber,y_thisnumber)\n",
        "    # print(\"The worst the algorithm did is between \" confus)\n",
        "    z_thisnumber=np.argmax(confusing_part_matrix)\n",
        "    z_thisnumber\n",
        "    print(\"The algorithm misrecognizes \", thisnumber, \"  of class \" ,  LABEL_NAMES[np.math.floor(z_thisnumber/10)] , \" as class \",  LABEL_NAMES[z_thisnumber%10])\n",
        "\n",
        "\n",
        "    display(sum(sum(confusing_part_matrix)))\n",
        "\n",
        "\n",
        "for modelname, tsize, basename  in zip(modelnames, var_trainsize, basenames):\n",
        "  #makeconfusionmatrix(model, modelname, score_dictionary[tsize]['score'], tsize, otherinfo=str(score_dictionary[tsize]['record']))\n",
        "  #makeconfusionmatrix(model, basename, basescore[tsize], tsize)\n",
        "  makeconfusionmatrixminusidentity(model, modelname, score_dictionary[tsize]['score'], tsize, otherinfo=str(score_dictionary[tsize]['record']))\n",
        "  makeconfusionmatrixminusidentity(model, basename, basescore[tsize], tsize)    "
      ],
      "execution_count": null,
      "outputs": []
    },
    {
      "cell_type": "markdown",
      "metadata": {
        "id": "V3V0jrX_Mmxl"
      },
      "source": [
        ""
      ]
    },
    {
      "cell_type": "code",
      "metadata": {
        "id": "9K24O6nCMnPP"
      },
      "source": [
        "plt.imshow(x_test[0].reshape((28,28)), cmap=plt.cm.binary)\n",
        "plt.show()"
      ],
      "execution_count": null,
      "outputs": []
    },
    {
      "cell_type": "markdown",
      "metadata": {
        "id": "zEPa4pHiy4fe"
      },
      "source": [
        "Evaluate the \"Winning Augmentations\" for Holdout Data"
      ]
    }
  ]
}